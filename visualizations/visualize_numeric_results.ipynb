{
 "cells": [
  {
   "cell_type": "code",
   "execution_count": 7,
   "id": "babe15d7",
   "metadata": {},
   "outputs": [
    {
     "data": {
      "text/html": [
       "<div>\n",
       "<style scoped>\n",
       "    .dataframe tbody tr th:only-of-type {\n",
       "        vertical-align: middle;\n",
       "    }\n",
       "\n",
       "    .dataframe tbody tr th {\n",
       "        vertical-align: top;\n",
       "    }\n",
       "\n",
       "    .dataframe thead th {\n",
       "        text-align: right;\n",
       "    }\n",
       "</style>\n",
       "<table border=\"1\" class=\"dataframe\">\n",
       "  <thead>\n",
       "    <tr style=\"text-align: right;\">\n",
       "      <th></th>\n",
       "      <th></th>\n",
       "      <th>DS</th>\n",
       "      <th>PS</th>\n",
       "      <th>C-FID</th>\n",
       "      <th>MDD</th>\n",
       "      <th>ACD</th>\n",
       "      <th>SD</th>\n",
       "      <th>KD</th>\n",
       "      <th>ED</th>\n",
       "      <th>DTW</th>\n",
       "    </tr>\n",
       "    <tr>\n",
       "      <th>Method</th>\n",
       "      <th>Dataset</th>\n",
       "      <th></th>\n",
       "      <th></th>\n",
       "      <th></th>\n",
       "      <th></th>\n",
       "      <th></th>\n",
       "      <th></th>\n",
       "      <th></th>\n",
       "      <th></th>\n",
       "      <th></th>\n",
       "    </tr>\n",
       "  </thead>\n",
       "  <tbody>\n",
       "    <tr>\n",
       "      <th rowspan=\"6\" valign=\"top\">TimeGAN</th>\n",
       "      <th>D2</th>\n",
       "      <td>0.112879</td>\n",
       "      <td>0.038129</td>\n",
       "      <td>1.905527e-02</td>\n",
       "      <td>0.434670</td>\n",
       "      <td>0.171891</td>\n",
       "      <td>0.482856</td>\n",
       "      <td>2.351818</td>\n",
       "      <td>1.189109e+00</td>\n",
       "      <td>3.068079e+00</td>\n",
       "    </tr>\n",
       "    <tr>\n",
       "      <th>D3</th>\n",
       "      <td>0.362715</td>\n",
       "      <td>0.041257</td>\n",
       "      <td>5.028699e-02</td>\n",
       "      <td>0.870274</td>\n",
       "      <td>0.143190</td>\n",
       "      <td>0.262877</td>\n",
       "      <td>2.341035</td>\n",
       "      <td>2.646002e+00</td>\n",
       "      <td>6.679519e+00</td>\n",
       "    </tr>\n",
       "    <tr>\n",
       "      <th>D4</th>\n",
       "      <td>0.116530</td>\n",
       "      <td>0.133363</td>\n",
       "      <td>1.051006e-01</td>\n",
       "      <td>0.766039</td>\n",
       "      <td>0.127232</td>\n",
       "      <td>0.194281</td>\n",
       "      <td>0.496604</td>\n",
       "      <td>2.857787e+00</td>\n",
       "      <td>9.064095e+00</td>\n",
       "    </tr>\n",
       "    <tr>\n",
       "      <th>D5</th>\n",
       "      <td>0.472527</td>\n",
       "      <td>0.285059</td>\n",
       "      <td>1.545321e-01</td>\n",
       "      <td>0.382266</td>\n",
       "      <td>0.451997</td>\n",
       "      <td>0.263064</td>\n",
       "      <td>1.007865</td>\n",
       "      <td>1.057500e+00</td>\n",
       "      <td>6.458857e+00</td>\n",
       "    </tr>\n",
       "    <tr>\n",
       "      <th>D6</th>\n",
       "      <td>0.500000</td>\n",
       "      <td>0.309733</td>\n",
       "      <td>6.350298e-01</td>\n",
       "      <td>0.741083</td>\n",
       "      <td>2.335000</td>\n",
       "      <td>0.547243</td>\n",
       "      <td>0.918373</td>\n",
       "      <td>2.610278e+00</td>\n",
       "      <td>1.472180e+01</td>\n",
       "    </tr>\n",
       "    <tr>\n",
       "      <th>D7</th>\n",
       "      <td>0.011219</td>\n",
       "      <td>0.000890</td>\n",
       "      <td>8.908389e-04</td>\n",
       "      <td>2.217216</td>\n",
       "      <td>1.864680</td>\n",
       "      <td>73.477606</td>\n",
       "      <td>8942.861949</td>\n",
       "      <td>5.024082e-02</td>\n",
       "      <td>2.555322e-01</td>\n",
       "    </tr>\n",
       "    <tr>\n",
       "      <th rowspan=\"6\" valign=\"top\">Time-Transformer</th>\n",
       "      <th>D2</th>\n",
       "      <td>0.315152</td>\n",
       "      <td>0.085012</td>\n",
       "      <td>2.582186e-01</td>\n",
       "      <td>0.627615</td>\n",
       "      <td>0.247822</td>\n",
       "      <td>0.592418</td>\n",
       "      <td>2.517755</td>\n",
       "      <td>1.307718e+00</td>\n",
       "      <td>3.375031e+00</td>\n",
       "    </tr>\n",
       "    <tr>\n",
       "      <th>D3</th>\n",
       "      <td>0.312012</td>\n",
       "      <td>0.072252</td>\n",
       "      <td>1.776648e-01</td>\n",
       "      <td>0.747522</td>\n",
       "      <td>0.486708</td>\n",
       "      <td>0.522732</td>\n",
       "      <td>2.953833</td>\n",
       "      <td>2.561868e+00</td>\n",
       "      <td>6.510620e+00</td>\n",
       "    </tr>\n",
       "    <tr>\n",
       "      <th>D4</th>\n",
       "      <td>0.124348</td>\n",
       "      <td>0.066113</td>\n",
       "      <td>4.560189e-02</td>\n",
       "      <td>0.517450</td>\n",
       "      <td>0.308017</td>\n",
       "      <td>0.261743</td>\n",
       "      <td>0.376560</td>\n",
       "      <td>2.692303e+00</td>\n",
       "      <td>8.484202e+00</td>\n",
       "    </tr>\n",
       "    <tr>\n",
       "      <th>D5</th>\n",
       "      <td>0.499859</td>\n",
       "      <td>0.326896</td>\n",
       "      <td>1.473801e-01</td>\n",
       "      <td>0.389958</td>\n",
       "      <td>0.266162</td>\n",
       "      <td>0.204340</td>\n",
       "      <td>0.836956</td>\n",
       "      <td>9.502726e-01</td>\n",
       "      <td>5.980854e+00</td>\n",
       "    </tr>\n",
       "    <tr>\n",
       "      <th>D6</th>\n",
       "      <td>0.500000</td>\n",
       "      <td>0.251982</td>\n",
       "      <td>4.563424e-01</td>\n",
       "      <td>0.614462</td>\n",
       "      <td>0.701291</td>\n",
       "      <td>0.417475</td>\n",
       "      <td>1.213679</td>\n",
       "      <td>2.451943e+00</td>\n",
       "      <td>1.449041e+01</td>\n",
       "    </tr>\n",
       "    <tr>\n",
       "      <th>D7</th>\n",
       "      <td>0.480366</td>\n",
       "      <td>0.002254</td>\n",
       "      <td>1.516585e-03</td>\n",
       "      <td>9.074205</td>\n",
       "      <td>1.281966</td>\n",
       "      <td>73.553105</td>\n",
       "      <td>8942.827292</td>\n",
       "      <td>1.069579e-01</td>\n",
       "      <td>4.355721e-01</td>\n",
       "    </tr>\n",
       "    <tr>\n",
       "      <th rowspan=\"6\" valign=\"top\">TransFusion</th>\n",
       "      <th>D2</th>\n",
       "      <td>0.150000</td>\n",
       "      <td>0.037576</td>\n",
       "      <td>9.027198e-02</td>\n",
       "      <td>0.793641</td>\n",
       "      <td>0.033649</td>\n",
       "      <td>0.533438</td>\n",
       "      <td>2.629961</td>\n",
       "      <td>1.072507e+00</td>\n",
       "      <td>2.773607e+00</td>\n",
       "    </tr>\n",
       "    <tr>\n",
       "      <th>D3</th>\n",
       "      <td>0.000780</td>\n",
       "      <td>0.037371</td>\n",
       "      <td>4.399024e-03</td>\n",
       "      <td>0.404956</td>\n",
       "      <td>0.111957</td>\n",
       "      <td>0.175680</td>\n",
       "      <td>0.824398</td>\n",
       "      <td>2.779363e+00</td>\n",
       "      <td>7.092978e+00</td>\n",
       "    </tr>\n",
       "    <tr>\n",
       "      <th>D4</th>\n",
       "      <td>0.059568</td>\n",
       "      <td>0.049407</td>\n",
       "      <td>1.190948e-02</td>\n",
       "      <td>0.291926</td>\n",
       "      <td>0.038166</td>\n",
       "      <td>0.118325</td>\n",
       "      <td>0.242787</td>\n",
       "      <td>2.833876e+00</td>\n",
       "      <td>9.034391e+00</td>\n",
       "    </tr>\n",
       "    <tr>\n",
       "      <th>D5</th>\n",
       "      <td>0.118625</td>\n",
       "      <td>0.251417</td>\n",
       "      <td>9.846010e-03</td>\n",
       "      <td>0.227218</td>\n",
       "      <td>0.062980</td>\n",
       "      <td>0.108366</td>\n",
       "      <td>0.426964</td>\n",
       "      <td>1.012462e+00</td>\n",
       "      <td>6.289462e+00</td>\n",
       "    </tr>\n",
       "    <tr>\n",
       "      <th>D6</th>\n",
       "      <td>0.144476</td>\n",
       "      <td>0.248861</td>\n",
       "      <td>4.271202e-03</td>\n",
       "      <td>0.198377</td>\n",
       "      <td>0.106999</td>\n",
       "      <td>0.035632</td>\n",
       "      <td>0.134695</td>\n",
       "      <td>2.546032e+00</td>\n",
       "      <td>1.467062e+01</td>\n",
       "    </tr>\n",
       "    <tr>\n",
       "      <th>D7</th>\n",
       "      <td>0.202693</td>\n",
       "      <td>0.000563</td>\n",
       "      <td>1.954121e-04</td>\n",
       "      <td>7.928880</td>\n",
       "      <td>0.182951</td>\n",
       "      <td>60.550151</td>\n",
       "      <td>20819.667549</td>\n",
       "      <td>4.560368e-02</td>\n",
       "      <td>2.441515e-01</td>\n",
       "    </tr>\n",
       "    <tr>\n",
       "      <th rowspan=\"6\" valign=\"top\">TTS-GAN</th>\n",
       "      <th>D2</th>\n",
       "      <td>0.000000</td>\n",
       "      <td>0.051607</td>\n",
       "      <td>1.431463e+17</td>\n",
       "      <td>1.003476</td>\n",
       "      <td>4.518805</td>\n",
       "      <td>1.477441</td>\n",
       "      <td>3.153213</td>\n",
       "      <td>1.590050e+08</td>\n",
       "      <td>5.648769e+08</td>\n",
       "    </tr>\n",
       "    <tr>\n",
       "      <th>D3</th>\n",
       "      <td>0.498440</td>\n",
       "      <td>0.378110</td>\n",
       "      <td>3.351009e+11</td>\n",
       "      <td>1.020235</td>\n",
       "      <td>7.754373</td>\n",
       "      <td>1.258643</td>\n",
       "      <td>3.018282</td>\n",
       "      <td>1.057488e+06</td>\n",
       "      <td>2.698514e+06</td>\n",
       "    </tr>\n",
       "    <tr>\n",
       "      <th>D4</th>\n",
       "      <td>0.495905</td>\n",
       "      <td>0.374939</td>\n",
       "      <td>1.001744e+14</td>\n",
       "      <td>1.013873</td>\n",
       "      <td>7.850430</td>\n",
       "      <td>0.330419</td>\n",
       "      <td>1.880705</td>\n",
       "      <td>1.455607e+07</td>\n",
       "      <td>4.216517e+07</td>\n",
       "    </tr>\n",
       "    <tr>\n",
       "      <th>D5</th>\n",
       "      <td>0.500000</td>\n",
       "      <td>0.445550</td>\n",
       "      <td>9.089393e+10</td>\n",
       "      <td>1.010267</td>\n",
       "      <td>4.522544</td>\n",
       "      <td>1.396577</td>\n",
       "      <td>1.732293</td>\n",
       "      <td>8.644544e+04</td>\n",
       "      <td>5.700044e+05</td>\n",
       "    </tr>\n",
       "    <tr>\n",
       "      <th>D6</th>\n",
       "      <td>0.500000</td>\n",
       "      <td>0.401835</td>\n",
       "      <td>1.410485e+12</td>\n",
       "      <td>1.014350</td>\n",
       "      <td>6.084712</td>\n",
       "      <td>0.826237</td>\n",
       "      <td>1.642648</td>\n",
       "      <td>1.417871e+06</td>\n",
       "      <td>8.334383e+06</td>\n",
       "    </tr>\n",
       "    <tr>\n",
       "      <th>D7</th>\n",
       "      <td>0.500000</td>\n",
       "      <td>0.629734</td>\n",
       "      <td>2.583964e+11</td>\n",
       "      <td>7.517625</td>\n",
       "      <td>3.069357</td>\n",
       "      <td>73.693896</td>\n",
       "      <td>8943.578376</td>\n",
       "      <td>5.247503e+05</td>\n",
       "      <td>2.057167e+06</td>\n",
       "    </tr>\n",
       "  </tbody>\n",
       "</table>\n",
       "</div>"
      ],
      "text/plain": [
       "                                DS        PS         C-FID       MDD  \\\n",
       "Method           Dataset                                               \n",
       "TimeGAN          D2       0.112879  0.038129  1.905527e-02  0.434670   \n",
       "                 D3       0.362715  0.041257  5.028699e-02  0.870274   \n",
       "                 D4       0.116530  0.133363  1.051006e-01  0.766039   \n",
       "                 D5       0.472527  0.285059  1.545321e-01  0.382266   \n",
       "                 D6       0.500000  0.309733  6.350298e-01  0.741083   \n",
       "                 D7       0.011219  0.000890  8.908389e-04  2.217216   \n",
       "Time-Transformer D2       0.315152  0.085012  2.582186e-01  0.627615   \n",
       "                 D3       0.312012  0.072252  1.776648e-01  0.747522   \n",
       "                 D4       0.124348  0.066113  4.560189e-02  0.517450   \n",
       "                 D5       0.499859  0.326896  1.473801e-01  0.389958   \n",
       "                 D6       0.500000  0.251982  4.563424e-01  0.614462   \n",
       "                 D7       0.480366  0.002254  1.516585e-03  9.074205   \n",
       "TransFusion      D2       0.150000  0.037576  9.027198e-02  0.793641   \n",
       "                 D3       0.000780  0.037371  4.399024e-03  0.404956   \n",
       "                 D4       0.059568  0.049407  1.190948e-02  0.291926   \n",
       "                 D5       0.118625  0.251417  9.846010e-03  0.227218   \n",
       "                 D6       0.144476  0.248861  4.271202e-03  0.198377   \n",
       "                 D7       0.202693  0.000563  1.954121e-04  7.928880   \n",
       "TTS-GAN          D2       0.000000  0.051607  1.431463e+17  1.003476   \n",
       "                 D3       0.498440  0.378110  3.351009e+11  1.020235   \n",
       "                 D4       0.495905  0.374939  1.001744e+14  1.013873   \n",
       "                 D5       0.500000  0.445550  9.089393e+10  1.010267   \n",
       "                 D6       0.500000  0.401835  1.410485e+12  1.014350   \n",
       "                 D7       0.500000  0.629734  2.583964e+11  7.517625   \n",
       "\n",
       "                               ACD         SD            KD            ED  \\\n",
       "Method           Dataset                                                    \n",
       "TimeGAN          D2       0.171891   0.482856      2.351818  1.189109e+00   \n",
       "                 D3       0.143190   0.262877      2.341035  2.646002e+00   \n",
       "                 D4       0.127232   0.194281      0.496604  2.857787e+00   \n",
       "                 D5       0.451997   0.263064      1.007865  1.057500e+00   \n",
       "                 D6       2.335000   0.547243      0.918373  2.610278e+00   \n",
       "                 D7       1.864680  73.477606   8942.861949  5.024082e-02   \n",
       "Time-Transformer D2       0.247822   0.592418      2.517755  1.307718e+00   \n",
       "                 D3       0.486708   0.522732      2.953833  2.561868e+00   \n",
       "                 D4       0.308017   0.261743      0.376560  2.692303e+00   \n",
       "                 D5       0.266162   0.204340      0.836956  9.502726e-01   \n",
       "                 D6       0.701291   0.417475      1.213679  2.451943e+00   \n",
       "                 D7       1.281966  73.553105   8942.827292  1.069579e-01   \n",
       "TransFusion      D2       0.033649   0.533438      2.629961  1.072507e+00   \n",
       "                 D3       0.111957   0.175680      0.824398  2.779363e+00   \n",
       "                 D4       0.038166   0.118325      0.242787  2.833876e+00   \n",
       "                 D5       0.062980   0.108366      0.426964  1.012462e+00   \n",
       "                 D6       0.106999   0.035632      0.134695  2.546032e+00   \n",
       "                 D7       0.182951  60.550151  20819.667549  4.560368e-02   \n",
       "TTS-GAN          D2       4.518805   1.477441      3.153213  1.590050e+08   \n",
       "                 D3       7.754373   1.258643      3.018282  1.057488e+06   \n",
       "                 D4       7.850430   0.330419      1.880705  1.455607e+07   \n",
       "                 D5       4.522544   1.396577      1.732293  8.644544e+04   \n",
       "                 D6       6.084712   0.826237      1.642648  1.417871e+06   \n",
       "                 D7       3.069357  73.693896   8943.578376  5.247503e+05   \n",
       "\n",
       "                                   DTW  \n",
       "Method           Dataset                \n",
       "TimeGAN          D2       3.068079e+00  \n",
       "                 D3       6.679519e+00  \n",
       "                 D4       9.064095e+00  \n",
       "                 D5       6.458857e+00  \n",
       "                 D6       1.472180e+01  \n",
       "                 D7       2.555322e-01  \n",
       "Time-Transformer D2       3.375031e+00  \n",
       "                 D3       6.510620e+00  \n",
       "                 D4       8.484202e+00  \n",
       "                 D5       5.980854e+00  \n",
       "                 D6       1.449041e+01  \n",
       "                 D7       4.355721e-01  \n",
       "TransFusion      D2       2.773607e+00  \n",
       "                 D3       7.092978e+00  \n",
       "                 D4       9.034391e+00  \n",
       "                 D5       6.289462e+00  \n",
       "                 D6       1.467062e+01  \n",
       "                 D7       2.441515e-01  \n",
       "TTS-GAN          D2       5.648769e+08  \n",
       "                 D3       2.698514e+06  \n",
       "                 D4       4.216517e+07  \n",
       "                 D5       5.700044e+05  \n",
       "                 D6       8.334383e+06  \n",
       "                 D7       2.057167e+06  "
      ]
     },
     "execution_count": 7,
     "metadata": {},
     "output_type": "execute_result"
    }
   ],
   "source": [
    "import json\n",
    "import pandas as pd\n",
    "import warnings\n",
    "import seaborn as sns\n",
    "from pyprojroot import here\n",
    "\n",
    "methods = [\"TimeGAN\", \"Time-Transformer\", \"TransFusion\", \"TTS-GAN\"]\n",
    "datasets = [\"D2\", \"D3\", \"D4\", \"D5\", \"D6\", \"D7\"]\n",
    "\n",
    "rows = []\n",
    "\n",
    "for method in methods:\n",
    "    for dataset in datasets:\n",
    "        file_candidates = list(here('result').glob(f'numeric_{method}_{dataset}_*.json'))\n",
    "        if len(file_candidates) != 1:\n",
    "            warnings.warn(f\"Ignoring {method} {dataset}: Expected one result file for {method} {dataset}, instead matched {file_candidates}.\")\n",
    "            continue\n",
    "        file_path = file_candidates[0]\n",
    "        \n",
    "        with open(file_path) as f:\n",
    "            data = json.load(f)\n",
    "        \n",
    "        rows.append(((method, dataset), data))\n",
    "\n",
    "df = pd.DataFrame.from_dict(dict(rows), orient=\"index\")\n",
    "df.index = pd.MultiIndex.from_tuples(df.index, names=[\"Method\", \"Dataset\"])\n",
    "\n",
    "df"
   ]
  },
  {
   "cell_type": "code",
   "execution_count": 8,
   "id": "189a523d",
   "metadata": {},
   "outputs": [
    {
     "data": {
      "text/html": [
       "<style type=\"text/css\">\n",
       "#T_d080e_row0_col0, #T_d080e_row7_col0, #T_d080e_row21_col2, #T_d080e_row22_col1, #T_d080e_row22_col2, #T_d080e_row23_col1, #T_d080e_row23_col2 {\n",
       "  background-color: #398641;\n",
       "  color: #f1f1f1;\n",
       "}\n",
       "#T_d080e_row0_col1, #T_d080e_row10_col2 {\n",
       "  background-color: #5d9d64;\n",
       "  color: #f1f1f1;\n",
       "}\n",
       "#T_d080e_row0_col2, #T_d080e_row0_col4, #T_d080e_row0_col5, #T_d080e_row0_col6, #T_d080e_row0_col7, #T_d080e_row0_col8, #T_d080e_row4_col0, #T_d080e_row4_col2, #T_d080e_row4_col4, #T_d080e_row4_col5, #T_d080e_row4_col6, #T_d080e_row4_col7, #T_d080e_row4_col8, #T_d080e_row8_col2, #T_d080e_row8_col4, #T_d080e_row8_col7, #T_d080e_row8_col8, #T_d080e_row12_col0, #T_d080e_row12_col2, #T_d080e_row12_col4, #T_d080e_row12_col5, #T_d080e_row12_col7, #T_d080e_row12_col8, #T_d080e_row13_col0, #T_d080e_row16_col0, #T_d080e_row16_col2, #T_d080e_row16_col4, #T_d080e_row16_col7, #T_d080e_row16_col8, #T_d080e_row17_col0, #T_d080e_row17_col8, #T_d080e_row18_col0, #T_d080e_row18_col4, #T_d080e_row18_col8, #T_d080e_row19_col8, #T_d080e_row20_col0, #T_d080e_row20_col1, #T_d080e_row20_col2, #T_d080e_row20_col3, #T_d080e_row20_col4, #T_d080e_row20_col5, #T_d080e_row20_col6, #T_d080e_row20_col7, #T_d080e_row20_col8, #T_d080e_row21_col3, #T_d080e_row21_col4, #T_d080e_row21_col5, #T_d080e_row21_col6, #T_d080e_row22_col3, #T_d080e_row22_col4, #T_d080e_row22_col5, #T_d080e_row22_col6, #T_d080e_row23_col3, #T_d080e_row23_col5, #T_d080e_row23_col6 {\n",
       "  background-color: #d53d69;\n",
       "  color: #f1f1f1;\n",
       "}\n",
       "#T_d080e_row0_col3, #T_d080e_row15_col1 {\n",
       "  background-color: #f2f1f1;\n",
       "  color: #000000;\n",
       "}\n",
       "#T_d080e_row1_col0, #T_d080e_row15_col8 {\n",
       "  background-color: #ebc2ce;\n",
       "  color: #000000;\n",
       "}\n",
       "#T_d080e_row1_col1 {\n",
       "  background-color: #75ab7b;\n",
       "  color: #f1f1f1;\n",
       "}\n",
       "#T_d080e_row1_col2, #T_d080e_row9_col3 {\n",
       "  background-color: #97bf9b;\n",
       "  color: #000000;\n",
       "}\n",
       "#T_d080e_row1_col3 {\n",
       "  background-color: #aacbae;\n",
       "  color: #000000;\n",
       "}\n",
       "#T_d080e_row1_col4, #T_d080e_row9_col0 {\n",
       "  background-color: #92bc96;\n",
       "  color: #000000;\n",
       "}\n",
       "#T_d080e_row1_col5 {\n",
       "  background-color: #edd0d8;\n",
       "  color: #000000;\n",
       "}\n",
       "#T_d080e_row1_col6 {\n",
       "  background-color: #de7795;\n",
       "  color: #f1f1f1;\n",
       "}\n",
       "#T_d080e_row1_col7, #T_d080e_row6_col3 {\n",
       "  background-color: #d6e5d7;\n",
       "  color: #000000;\n",
       "}\n",
       "#T_d080e_row1_col8, #T_d080e_row14_col6, #T_d080e_row15_col7 {\n",
       "  background-color: #b3d0b6;\n",
       "  color: #000000;\n",
       "}\n",
       "#T_d080e_row2_col0 {\n",
       "  background-color: #89b78e;\n",
       "  color: #000000;\n",
       "}\n",
       "#T_d080e_row2_col1, #T_d080e_row3_col1, #T_d080e_row7_col1 {\n",
       "  background-color: #54975a;\n",
       "  color: #f1f1f1;\n",
       "}\n",
       "#T_d080e_row2_col2, #T_d080e_row22_col7 {\n",
       "  background-color: #3e8a46;\n",
       "  color: #f1f1f1;\n",
       "}\n",
       "#T_d080e_row2_col3 {\n",
       "  background-color: #86b58b;\n",
       "  color: #f1f1f1;\n",
       "}\n",
       "#T_d080e_row2_col4, #T_d080e_row7_col5 {\n",
       "  background-color: #77ac7c;\n",
       "  color: #f1f1f1;\n",
       "}\n",
       "#T_d080e_row2_col5 {\n",
       "  background-color: #e7efe8;\n",
       "  color: #000000;\n",
       "}\n",
       "#T_d080e_row2_col6 {\n",
       "  background-color: #e18aa4;\n",
       "  color: #f1f1f1;\n",
       "}\n",
       "#T_d080e_row2_col7, #T_d080e_row3_col3 {\n",
       "  background-color: #c8ddca;\n",
       "  color: #000000;\n",
       "}\n",
       "#T_d080e_row2_col8, #T_d080e_row9_col4, #T_d080e_row17_col3, #T_d080e_row18_col6 {\n",
       "  background-color: #a8c9ab;\n",
       "  color: #000000;\n",
       "}\n",
       "#T_d080e_row3_col0 {\n",
       "  background-color: #a5c7a8;\n",
       "  color: #000000;\n",
       "}\n",
       "#T_d080e_row3_col2 {\n",
       "  background-color: #599a60;\n",
       "  color: #f1f1f1;\n",
       "}\n",
       "#T_d080e_row3_col4 {\n",
       "  background-color: #448d4c;\n",
       "  color: #f1f1f1;\n",
       "}\n",
       "#T_d080e_row3_col5 {\n",
       "  background-color: #f1e5e8;\n",
       "  color: #000000;\n",
       "}\n",
       "#T_d080e_row3_col6 {\n",
       "  background-color: #dc688a;\n",
       "  color: #f1f1f1;\n",
       "}\n",
       "#T_d080e_row3_col7 {\n",
       "  background-color: #bad4bc;\n",
       "  color: #000000;\n",
       "}\n",
       "#T_d080e_row3_col8, #T_d080e_row13_col6 {\n",
       "  background-color: #9ec3a1;\n",
       "  color: #000000;\n",
       "}\n",
       "#T_d080e_row4_col1 {\n",
       "  background-color: #e394ab;\n",
       "  color: #f1f1f1;\n",
       "}\n",
       "#T_d080e_row4_col3 {\n",
       "  background-color: #f2eeef;\n",
       "  color: #000000;\n",
       "}\n",
       "#T_d080e_row5_col0 {\n",
       "  background-color: #ebc5d0;\n",
       "  color: #000000;\n",
       "}\n",
       "#T_d080e_row5_col1, #T_d080e_row6_col4, #T_d080e_row15_col6 {\n",
       "  background-color: #6ca571;\n",
       "  color: #f1f1f1;\n",
       "}\n",
       "#T_d080e_row5_col2 {\n",
       "  background-color: #78ad7e;\n",
       "  color: #f1f1f1;\n",
       "}\n",
       "#T_d080e_row5_col3 {\n",
       "  background-color: #c0d8c2;\n",
       "  color: #000000;\n",
       "}\n",
       "#T_d080e_row5_col4 {\n",
       "  background-color: #e8f0e9;\n",
       "  color: #000000;\n",
       "}\n",
       "#T_d080e_row5_col5 {\n",
       "  background-color: #f1eaec;\n",
       "  color: #000000;\n",
       "}\n",
       "#T_d080e_row5_col6 {\n",
       "  background-color: #d5416d;\n",
       "  color: #f1f1f1;\n",
       "}\n",
       "#T_d080e_row5_col7 {\n",
       "  background-color: #dd7191;\n",
       "  color: #f1f1f1;\n",
       "}\n",
       "#T_d080e_row5_col8 {\n",
       "  background-color: #eabbc9;\n",
       "  color: #000000;\n",
       "}\n",
       "#T_d080e_row6_col0 {\n",
       "  background-color: #e5a0b4;\n",
       "  color: #000000;\n",
       "}\n",
       "#T_d080e_row6_col1 {\n",
       "  background-color: #56985d;\n",
       "  color: #f1f1f1;\n",
       "}\n",
       "#T_d080e_row6_col2 {\n",
       "  background-color: #4a9151;\n",
       "  color: #f1f1f1;\n",
       "}\n",
       "#T_d080e_row6_col5, #T_d080e_row9_col5, #T_d080e_row14_col5 {\n",
       "  background-color: #98c09c;\n",
       "  color: #000000;\n",
       "}\n",
       "#T_d080e_row6_col6 {\n",
       "  background-color: #e28ca5;\n",
       "  color: #f1f1f1;\n",
       "}\n",
       "#T_d080e_row6_col7 {\n",
       "  background-color: #dc6789;\n",
       "  color: #f1f1f1;\n",
       "}\n",
       "#T_d080e_row6_col8 {\n",
       "  background-color: #e9b5c4;\n",
       "  color: #000000;\n",
       "}\n",
       "#T_d080e_row7_col2, #T_d080e_row19_col2, #T_d080e_row21_col1 {\n",
       "  background-color: #3a8742;\n",
       "  color: #f1f1f1;\n",
       "}\n",
       "#T_d080e_row7_col3 {\n",
       "  background-color: #81b286;\n",
       "  color: #f1f1f1;\n",
       "}\n",
       "#T_d080e_row7_col4 {\n",
       "  background-color: #609e67;\n",
       "  color: #f1f1f1;\n",
       "}\n",
       "#T_d080e_row7_col6 {\n",
       "  background-color: #9cc2a0;\n",
       "  color: #000000;\n",
       "}\n",
       "#T_d080e_row7_col7 {\n",
       "  background-color: #d9567d;\n",
       "  color: #f1f1f1;\n",
       "}\n",
       "#T_d080e_row7_col8 {\n",
       "  background-color: #e6a6b9;\n",
       "  color: #000000;\n",
       "}\n",
       "#T_d080e_row8_col0 {\n",
       "  background-color: #d53f6c;\n",
       "  color: #f1f1f1;\n",
       "}\n",
       "#T_d080e_row8_col1 {\n",
       "  background-color: #e498ae;\n",
       "  color: #000000;\n",
       "}\n",
       "#T_d080e_row8_col3, #T_d080e_row12_col3, #T_d080e_row16_col3, #T_d080e_row17_col1 {\n",
       "  background-color: #f2eff0;\n",
       "  color: #000000;\n",
       "}\n",
       "#T_d080e_row8_col5 {\n",
       "  background-color: #b0ceb3;\n",
       "  color: #000000;\n",
       "}\n",
       "#T_d080e_row8_col6 {\n",
       "  background-color: #ebc4cf;\n",
       "  color: #000000;\n",
       "}\n",
       "#T_d080e_row9_col1 {\n",
       "  background-color: #67a26d;\n",
       "  color: #f1f1f1;\n",
       "}\n",
       "#T_d080e_row9_col2, #T_d080e_row19_col6, #T_d080e_row21_col8 {\n",
       "  background-color: #489050;\n",
       "  color: #f1f1f1;\n",
       "}\n",
       "#T_d080e_row9_col6, #T_d080e_row10_col4 {\n",
       "  background-color: #66a26c;\n",
       "  color: #f1f1f1;\n",
       "}\n",
       "#T_d080e_row9_col7 {\n",
       "  background-color: #db6185;\n",
       "  color: #f1f1f1;\n",
       "}\n",
       "#T_d080e_row9_col8, #T_d080e_row19_col7 {\n",
       "  background-color: #de7292;\n",
       "  color: #f1f1f1;\n",
       "}\n",
       "#T_d080e_row10_col0 {\n",
       "  background-color: #8cb991;\n",
       "  color: #000000;\n",
       "}\n",
       "#T_d080e_row10_col1, #T_d080e_row13_col4 {\n",
       "  background-color: #99c19d;\n",
       "  color: #000000;\n",
       "}\n",
       "#T_d080e_row10_col3 {\n",
       "  background-color: #c4dac6;\n",
       "  color: #000000;\n",
       "}\n",
       "#T_d080e_row10_col5, #T_d080e_row13_col3 {\n",
       "  background-color: #7eb083;\n",
       "  color: #f1f1f1;\n",
       "}\n",
       "#T_d080e_row10_col6 {\n",
       "  background-color: #74aa7a;\n",
       "  color: #f1f1f1;\n",
       "}\n",
       "#T_d080e_row10_col7 {\n",
       "  background-color: #d74e76;\n",
       "  color: #f1f1f1;\n",
       "}\n",
       "#T_d080e_row10_col8 {\n",
       "  background-color: #da5d82;\n",
       "  color: #f1f1f1;\n",
       "}\n",
       "#T_d080e_row11_col0, #T_d080e_row11_col5 {\n",
       "  background-color: #63a069;\n",
       "  color: #f1f1f1;\n",
       "}\n",
       "#T_d080e_row11_col1, #T_d080e_row19_col3 {\n",
       "  background-color: #5c9c63;\n",
       "  color: #f1f1f1;\n",
       "}\n",
       "#T_d080e_row11_col2, #T_d080e_row23_col7 {\n",
       "  background-color: #3d8945;\n",
       "  color: #f1f1f1;\n",
       "}\n",
       "#T_d080e_row11_col3, #T_d080e_row13_col2 {\n",
       "  background-color: #6da673;\n",
       "  color: #f1f1f1;\n",
       "}\n",
       "#T_d080e_row11_col4, #T_d080e_row19_col5, #T_d080e_row21_col7 {\n",
       "  background-color: #458e4d;\n",
       "  color: #f1f1f1;\n",
       "}\n",
       "#T_d080e_row11_col6 {\n",
       "  background-color: #55975c;\n",
       "  color: #f1f1f1;\n",
       "}\n",
       "#T_d080e_row11_col7, #T_d080e_row14_col0 {\n",
       "  background-color: #d85078;\n",
       "  color: #f1f1f1;\n",
       "}\n",
       "#T_d080e_row11_col8 {\n",
       "  background-color: #da5f83;\n",
       "  color: #f1f1f1;\n",
       "}\n",
       "#T_d080e_row12_col1 {\n",
       "  background-color: #db6386;\n",
       "  color: #f1f1f1;\n",
       "}\n",
       "#T_d080e_row12_col6 {\n",
       "  background-color: #eed6dd;\n",
       "  color: #000000;\n",
       "}\n",
       "#T_d080e_row13_col1 {\n",
       "  background-color: #e9bac7;\n",
       "  color: #000000;\n",
       "}\n",
       "#T_d080e_row13_col5 {\n",
       "  background-color: #82b387;\n",
       "  color: #f1f1f1;\n",
       "}\n",
       "#T_d080e_row13_col7 {\n",
       "  background-color: #acccaf;\n",
       "  color: #000000;\n",
       "}\n",
       "#T_d080e_row13_col8 {\n",
       "  background-color: #edcdd6;\n",
       "  color: #000000;\n",
       "}\n",
       "#T_d080e_row14_col1 {\n",
       "  background-color: #eed9df;\n",
       "  color: #000000;\n",
       "}\n",
       "#T_d080e_row14_col2 {\n",
       "  background-color: #70a876;\n",
       "  color: #f1f1f1;\n",
       "}\n",
       "#T_d080e_row14_col3 {\n",
       "  background-color: #7caf82;\n",
       "  color: #f1f1f1;\n",
       "}\n",
       "#T_d080e_row14_col4 {\n",
       "  background-color: #dce9dd;\n",
       "  color: #000000;\n",
       "}\n",
       "#T_d080e_row14_col7 {\n",
       "  background-color: #b8d3bb;\n",
       "  color: #000000;\n",
       "}\n",
       "#T_d080e_row14_col8 {\n",
       "  background-color: #eabdca;\n",
       "  color: #000000;\n",
       "}\n",
       "#T_d080e_row15_col0 {\n",
       "  background-color: #8db992;\n",
       "  color: #000000;\n",
       "}\n",
       "#T_d080e_row15_col2 {\n",
       "  background-color: #3c8844;\n",
       "  color: #f1f1f1;\n",
       "}\n",
       "#T_d080e_row15_col3 {\n",
       "  background-color: #629f68;\n",
       "  color: #f1f1f1;\n",
       "}\n",
       "#T_d080e_row15_col4 {\n",
       "  background-color: #4f9456;\n",
       "  color: #f1f1f1;\n",
       "}\n",
       "#T_d080e_row15_col5, #T_d080e_row19_col4 {\n",
       "  background-color: #5f9d65;\n",
       "  color: #f1f1f1;\n",
       "}\n",
       "#T_d080e_row16_col1 {\n",
       "  background-color: #e0839f;\n",
       "  color: #f1f1f1;\n",
       "}\n",
       "#T_d080e_row16_col5 {\n",
       "  background-color: #df7b98;\n",
       "  color: #f1f1f1;\n",
       "}\n",
       "#T_d080e_row16_col6, #T_d080e_row18_col5 {\n",
       "  background-color: #f0e0e4;\n",
       "  color: #000000;\n",
       "}\n",
       "#T_d080e_row17_col2 {\n",
       "  background-color: #dde9de;\n",
       "  color: #000000;\n",
       "}\n",
       "#T_d080e_row17_col4 {\n",
       "  background-color: #e6a9bb;\n",
       "  color: #000000;\n",
       "}\n",
       "#T_d080e_row17_col5 {\n",
       "  background-color: #cfe1d1;\n",
       "  color: #000000;\n",
       "}\n",
       "#T_d080e_row17_col6, #T_d080e_row23_col0 {\n",
       "  background-color: #cbdecd;\n",
       "  color: #000000;\n",
       "}\n",
       "#T_d080e_row17_col7 {\n",
       "  background-color: #df7e9a;\n",
       "  color: #f1f1f1;\n",
       "}\n",
       "#T_d080e_row18_col1 {\n",
       "  background-color: #ebc6d1;\n",
       "  color: #000000;\n",
       "}\n",
       "#T_d080e_row18_col2 {\n",
       "  background-color: #eac1cd;\n",
       "  color: #000000;\n",
       "}\n",
       "#T_d080e_row18_col3 {\n",
       "  background-color: #bed7c0;\n",
       "  color: #000000;\n",
       "}\n",
       "#T_d080e_row18_col7 {\n",
       "  background-color: #dc6b8c;\n",
       "  color: #f1f1f1;\n",
       "}\n",
       "#T_d080e_row19_col0 {\n",
       "  background-color: #a0c5a4;\n",
       "  color: #000000;\n",
       "}\n",
       "#T_d080e_row19_col1 {\n",
       "  background-color: #eff2ef;\n",
       "  color: #000000;\n",
       "}\n",
       "#T_d080e_row21_col0 {\n",
       "  background-color: #d74b74;\n",
       "  color: #f1f1f1;\n",
       "}\n",
       "#T_d080e_row22_col0 {\n",
       "  background-color: #408b48;\n",
       "  color: #f1f1f1;\n",
       "}\n",
       "#T_d080e_row22_col8, #T_d080e_row23_col8 {\n",
       "  background-color: #418c49;\n",
       "  color: #f1f1f1;\n",
       "}\n",
       "#T_d080e_row23_col4 {\n",
       "  background-color: #7aae7f;\n",
       "  color: #f1f1f1;\n",
       "}\n",
       "</style>\n",
       "<table id=\"T_d080e_\">\n",
       "  <thead>\n",
       "    <tr>\n",
       "      <th class=\"blank\" >&nbsp;</th>\n",
       "      <th class=\"blank level0\" >&nbsp;</th>\n",
       "      <th class=\"col_heading level0 col0\" >DS</th>\n",
       "      <th class=\"col_heading level0 col1\" >PS</th>\n",
       "      <th class=\"col_heading level0 col2\" >C-FID</th>\n",
       "      <th class=\"col_heading level0 col3\" >MDD</th>\n",
       "      <th class=\"col_heading level0 col4\" >ACD</th>\n",
       "      <th class=\"col_heading level0 col5\" >SD</th>\n",
       "      <th class=\"col_heading level0 col6\" >KD</th>\n",
       "      <th class=\"col_heading level0 col7\" >ED</th>\n",
       "      <th class=\"col_heading level0 col8\" >DTW</th>\n",
       "    </tr>\n",
       "    <tr>\n",
       "      <th class=\"index_name level0\" >Dataset</th>\n",
       "      <th class=\"index_name level1\" >Method</th>\n",
       "      <th class=\"blank col0\" >&nbsp;</th>\n",
       "      <th class=\"blank col1\" >&nbsp;</th>\n",
       "      <th class=\"blank col2\" >&nbsp;</th>\n",
       "      <th class=\"blank col3\" >&nbsp;</th>\n",
       "      <th class=\"blank col4\" >&nbsp;</th>\n",
       "      <th class=\"blank col5\" >&nbsp;</th>\n",
       "      <th class=\"blank col6\" >&nbsp;</th>\n",
       "      <th class=\"blank col7\" >&nbsp;</th>\n",
       "      <th class=\"blank col8\" >&nbsp;</th>\n",
       "    </tr>\n",
       "  </thead>\n",
       "  <tbody>\n",
       "    <tr>\n",
       "      <th id=\"T_d080e_level0_row0\" class=\"row_heading level0 row0\" rowspan=\"4\">D2</th>\n",
       "      <th id=\"T_d080e_level1_row0\" class=\"row_heading level1 row0\" >TTS-GAN</th>\n",
       "      <td id=\"T_d080e_row0_col0\" class=\"data row0 col0\" >0.000000</td>\n",
       "      <td id=\"T_d080e_row0_col1\" class=\"data row0 col1\" >0.051607</td>\n",
       "      <td id=\"T_d080e_row0_col2\" class=\"data row0 col2\" >143146263681836288.000000</td>\n",
       "      <td id=\"T_d080e_row0_col3\" class=\"data row0 col3\" >1.003476</td>\n",
       "      <td id=\"T_d080e_row0_col4\" class=\"data row0 col4\" >4.518805</td>\n",
       "      <td id=\"T_d080e_row0_col5\" class=\"data row0 col5\" >1.477441</td>\n",
       "      <td id=\"T_d080e_row0_col6\" class=\"data row0 col6\" >3.153213</td>\n",
       "      <td id=\"T_d080e_row0_col7\" class=\"data row0 col7\" >159004979.545185</td>\n",
       "      <td id=\"T_d080e_row0_col8\" class=\"data row0 col8\" >564876922.230594</td>\n",
       "    </tr>\n",
       "    <tr>\n",
       "      <th id=\"T_d080e_level1_row1\" class=\"row_heading level1 row1\" >Time-Transformer</th>\n",
       "      <td id=\"T_d080e_row1_col0\" class=\"data row1 col0\" >0.315152</td>\n",
       "      <td id=\"T_d080e_row1_col1\" class=\"data row1 col1\" >0.085012</td>\n",
       "      <td id=\"T_d080e_row1_col2\" class=\"data row1 col2\" >0.258219</td>\n",
       "      <td id=\"T_d080e_row1_col3\" class=\"data row1 col3\" >0.627615</td>\n",
       "      <td id=\"T_d080e_row1_col4\" class=\"data row1 col4\" >0.247822</td>\n",
       "      <td id=\"T_d080e_row1_col5\" class=\"data row1 col5\" >0.592418</td>\n",
       "      <td id=\"T_d080e_row1_col6\" class=\"data row1 col6\" >2.517755</td>\n",
       "      <td id=\"T_d080e_row1_col7\" class=\"data row1 col7\" >1.307718</td>\n",
       "      <td id=\"T_d080e_row1_col8\" class=\"data row1 col8\" >3.375031</td>\n",
       "    </tr>\n",
       "    <tr>\n",
       "      <th id=\"T_d080e_level1_row2\" class=\"row_heading level1 row2\" >TimeGAN</th>\n",
       "      <td id=\"T_d080e_row2_col0\" class=\"data row2 col0\" >0.112879</td>\n",
       "      <td id=\"T_d080e_row2_col1\" class=\"data row2 col1\" >0.038129</td>\n",
       "      <td id=\"T_d080e_row2_col2\" class=\"data row2 col2\" >0.019055</td>\n",
       "      <td id=\"T_d080e_row2_col3\" class=\"data row2 col3\" >0.434670</td>\n",
       "      <td id=\"T_d080e_row2_col4\" class=\"data row2 col4\" >0.171891</td>\n",
       "      <td id=\"T_d080e_row2_col5\" class=\"data row2 col5\" >0.482856</td>\n",
       "      <td id=\"T_d080e_row2_col6\" class=\"data row2 col6\" >2.351818</td>\n",
       "      <td id=\"T_d080e_row2_col7\" class=\"data row2 col7\" >1.189109</td>\n",
       "      <td id=\"T_d080e_row2_col8\" class=\"data row2 col8\" >3.068079</td>\n",
       "    </tr>\n",
       "    <tr>\n",
       "      <th id=\"T_d080e_level1_row3\" class=\"row_heading level1 row3\" >TransFusion</th>\n",
       "      <td id=\"T_d080e_row3_col0\" class=\"data row3 col0\" >0.150000</td>\n",
       "      <td id=\"T_d080e_row3_col1\" class=\"data row3 col1\" >0.037576</td>\n",
       "      <td id=\"T_d080e_row3_col2\" class=\"data row3 col2\" >0.090272</td>\n",
       "      <td id=\"T_d080e_row3_col3\" class=\"data row3 col3\" >0.793641</td>\n",
       "      <td id=\"T_d080e_row3_col4\" class=\"data row3 col4\" >0.033649</td>\n",
       "      <td id=\"T_d080e_row3_col5\" class=\"data row3 col5\" >0.533438</td>\n",
       "      <td id=\"T_d080e_row3_col6\" class=\"data row3 col6\" >2.629961</td>\n",
       "      <td id=\"T_d080e_row3_col7\" class=\"data row3 col7\" >1.072507</td>\n",
       "      <td id=\"T_d080e_row3_col8\" class=\"data row3 col8\" >2.773607</td>\n",
       "    </tr>\n",
       "    <tr>\n",
       "      <th id=\"T_d080e_level0_row4\" class=\"row_heading level0 row4\" rowspan=\"4\">D3</th>\n",
       "      <th id=\"T_d080e_level1_row4\" class=\"row_heading level1 row4\" >TTS-GAN</th>\n",
       "      <td id=\"T_d080e_row4_col0\" class=\"data row4 col0\" >0.498440</td>\n",
       "      <td id=\"T_d080e_row4_col1\" class=\"data row4 col1\" >0.378110</td>\n",
       "      <td id=\"T_d080e_row4_col2\" class=\"data row4 col2\" >335100894172.000671</td>\n",
       "      <td id=\"T_d080e_row4_col3\" class=\"data row4 col3\" >1.020235</td>\n",
       "      <td id=\"T_d080e_row4_col4\" class=\"data row4 col4\" >7.754373</td>\n",
       "      <td id=\"T_d080e_row4_col5\" class=\"data row4 col5\" >1.258643</td>\n",
       "      <td id=\"T_d080e_row4_col6\" class=\"data row4 col6\" >3.018282</td>\n",
       "      <td id=\"T_d080e_row4_col7\" class=\"data row4 col7\" >1057488.351673</td>\n",
       "      <td id=\"T_d080e_row4_col8\" class=\"data row4 col8\" >2698514.172630</td>\n",
       "    </tr>\n",
       "    <tr>\n",
       "      <th id=\"T_d080e_level1_row5\" class=\"row_heading level1 row5\" >Time-Transformer</th>\n",
       "      <td id=\"T_d080e_row5_col0\" class=\"data row5 col0\" >0.312012</td>\n",
       "      <td id=\"T_d080e_row5_col1\" class=\"data row5 col1\" >0.072252</td>\n",
       "      <td id=\"T_d080e_row5_col2\" class=\"data row5 col2\" >0.177665</td>\n",
       "      <td id=\"T_d080e_row5_col3\" class=\"data row5 col3\" >0.747522</td>\n",
       "      <td id=\"T_d080e_row5_col4\" class=\"data row5 col4\" >0.486708</td>\n",
       "      <td id=\"T_d080e_row5_col5\" class=\"data row5 col5\" >0.522732</td>\n",
       "      <td id=\"T_d080e_row5_col6\" class=\"data row5 col6\" >2.953833</td>\n",
       "      <td id=\"T_d080e_row5_col7\" class=\"data row5 col7\" >2.561868</td>\n",
       "      <td id=\"T_d080e_row5_col8\" class=\"data row5 col8\" >6.510620</td>\n",
       "    </tr>\n",
       "    <tr>\n",
       "      <th id=\"T_d080e_level1_row6\" class=\"row_heading level1 row6\" >TimeGAN</th>\n",
       "      <td id=\"T_d080e_row6_col0\" class=\"data row6 col0\" >0.362715</td>\n",
       "      <td id=\"T_d080e_row6_col1\" class=\"data row6 col1\" >0.041257</td>\n",
       "      <td id=\"T_d080e_row6_col2\" class=\"data row6 col2\" >0.050287</td>\n",
       "      <td id=\"T_d080e_row6_col3\" class=\"data row6 col3\" >0.870274</td>\n",
       "      <td id=\"T_d080e_row6_col4\" class=\"data row6 col4\" >0.143190</td>\n",
       "      <td id=\"T_d080e_row6_col5\" class=\"data row6 col5\" >0.262877</td>\n",
       "      <td id=\"T_d080e_row6_col6\" class=\"data row6 col6\" >2.341035</td>\n",
       "      <td id=\"T_d080e_row6_col7\" class=\"data row6 col7\" >2.646002</td>\n",
       "      <td id=\"T_d080e_row6_col8\" class=\"data row6 col8\" >6.679519</td>\n",
       "    </tr>\n",
       "    <tr>\n",
       "      <th id=\"T_d080e_level1_row7\" class=\"row_heading level1 row7\" >TransFusion</th>\n",
       "      <td id=\"T_d080e_row7_col0\" class=\"data row7 col0\" >0.000780</td>\n",
       "      <td id=\"T_d080e_row7_col1\" class=\"data row7 col1\" >0.037371</td>\n",
       "      <td id=\"T_d080e_row7_col2\" class=\"data row7 col2\" >0.004399</td>\n",
       "      <td id=\"T_d080e_row7_col3\" class=\"data row7 col3\" >0.404956</td>\n",
       "      <td id=\"T_d080e_row7_col4\" class=\"data row7 col4\" >0.111957</td>\n",
       "      <td id=\"T_d080e_row7_col5\" class=\"data row7 col5\" >0.175680</td>\n",
       "      <td id=\"T_d080e_row7_col6\" class=\"data row7 col6\" >0.824398</td>\n",
       "      <td id=\"T_d080e_row7_col7\" class=\"data row7 col7\" >2.779363</td>\n",
       "      <td id=\"T_d080e_row7_col8\" class=\"data row7 col8\" >7.092978</td>\n",
       "    </tr>\n",
       "    <tr>\n",
       "      <th id=\"T_d080e_level0_row8\" class=\"row_heading level0 row8\" rowspan=\"4\">D4</th>\n",
       "      <th id=\"T_d080e_level1_row8\" class=\"row_heading level1 row8\" >TTS-GAN</th>\n",
       "      <td id=\"T_d080e_row8_col0\" class=\"data row8 col0\" >0.495905</td>\n",
       "      <td id=\"T_d080e_row8_col1\" class=\"data row8 col1\" >0.374939</td>\n",
       "      <td id=\"T_d080e_row8_col2\" class=\"data row8 col2\" >100174360900797.281250</td>\n",
       "      <td id=\"T_d080e_row8_col3\" class=\"data row8 col3\" >1.013873</td>\n",
       "      <td id=\"T_d080e_row8_col4\" class=\"data row8 col4\" >7.850430</td>\n",
       "      <td id=\"T_d080e_row8_col5\" class=\"data row8 col5\" >0.330419</td>\n",
       "      <td id=\"T_d080e_row8_col6\" class=\"data row8 col6\" >1.880705</td>\n",
       "      <td id=\"T_d080e_row8_col7\" class=\"data row8 col7\" >14556070.433453</td>\n",
       "      <td id=\"T_d080e_row8_col8\" class=\"data row8 col8\" >42165170.409957</td>\n",
       "    </tr>\n",
       "    <tr>\n",
       "      <th id=\"T_d080e_level1_row9\" class=\"row_heading level1 row9\" >Time-Transformer</th>\n",
       "      <td id=\"T_d080e_row9_col0\" class=\"data row9 col0\" >0.124348</td>\n",
       "      <td id=\"T_d080e_row9_col1\" class=\"data row9 col1\" >0.066113</td>\n",
       "      <td id=\"T_d080e_row9_col2\" class=\"data row9 col2\" >0.045602</td>\n",
       "      <td id=\"T_d080e_row9_col3\" class=\"data row9 col3\" >0.517450</td>\n",
       "      <td id=\"T_d080e_row9_col4\" class=\"data row9 col4\" >0.308017</td>\n",
       "      <td id=\"T_d080e_row9_col5\" class=\"data row9 col5\" >0.261743</td>\n",
       "      <td id=\"T_d080e_row9_col6\" class=\"data row9 col6\" >0.376560</td>\n",
       "      <td id=\"T_d080e_row9_col7\" class=\"data row9 col7\" >2.692303</td>\n",
       "      <td id=\"T_d080e_row9_col8\" class=\"data row9 col8\" >8.484202</td>\n",
       "    </tr>\n",
       "    <tr>\n",
       "      <th id=\"T_d080e_level1_row10\" class=\"row_heading level1 row10\" >TimeGAN</th>\n",
       "      <td id=\"T_d080e_row10_col0\" class=\"data row10 col0\" >0.116530</td>\n",
       "      <td id=\"T_d080e_row10_col1\" class=\"data row10 col1\" >0.133363</td>\n",
       "      <td id=\"T_d080e_row10_col2\" class=\"data row10 col2\" >0.105101</td>\n",
       "      <td id=\"T_d080e_row10_col3\" class=\"data row10 col3\" >0.766039</td>\n",
       "      <td id=\"T_d080e_row10_col4\" class=\"data row10 col4\" >0.127232</td>\n",
       "      <td id=\"T_d080e_row10_col5\" class=\"data row10 col5\" >0.194281</td>\n",
       "      <td id=\"T_d080e_row10_col6\" class=\"data row10 col6\" >0.496604</td>\n",
       "      <td id=\"T_d080e_row10_col7\" class=\"data row10 col7\" >2.857787</td>\n",
       "      <td id=\"T_d080e_row10_col8\" class=\"data row10 col8\" >9.064095</td>\n",
       "    </tr>\n",
       "    <tr>\n",
       "      <th id=\"T_d080e_level1_row11\" class=\"row_heading level1 row11\" >TransFusion</th>\n",
       "      <td id=\"T_d080e_row11_col0\" class=\"data row11 col0\" >0.059568</td>\n",
       "      <td id=\"T_d080e_row11_col1\" class=\"data row11 col1\" >0.049407</td>\n",
       "      <td id=\"T_d080e_row11_col2\" class=\"data row11 col2\" >0.011909</td>\n",
       "      <td id=\"T_d080e_row11_col3\" class=\"data row11 col3\" >0.291926</td>\n",
       "      <td id=\"T_d080e_row11_col4\" class=\"data row11 col4\" >0.038166</td>\n",
       "      <td id=\"T_d080e_row11_col5\" class=\"data row11 col5\" >0.118325</td>\n",
       "      <td id=\"T_d080e_row11_col6\" class=\"data row11 col6\" >0.242787</td>\n",
       "      <td id=\"T_d080e_row11_col7\" class=\"data row11 col7\" >2.833876</td>\n",
       "      <td id=\"T_d080e_row11_col8\" class=\"data row11 col8\" >9.034391</td>\n",
       "    </tr>\n",
       "    <tr>\n",
       "      <th id=\"T_d080e_level0_row12\" class=\"row_heading level0 row12\" rowspan=\"4\">D5</th>\n",
       "      <th id=\"T_d080e_level1_row12\" class=\"row_heading level1 row12\" >TTS-GAN</th>\n",
       "      <td id=\"T_d080e_row12_col0\" class=\"data row12 col0\" >0.500000</td>\n",
       "      <td id=\"T_d080e_row12_col1\" class=\"data row12 col1\" >0.445550</td>\n",
       "      <td id=\"T_d080e_row12_col2\" class=\"data row12 col2\" >90893933139.454025</td>\n",
       "      <td id=\"T_d080e_row12_col3\" class=\"data row12 col3\" >1.010267</td>\n",
       "      <td id=\"T_d080e_row12_col4\" class=\"data row12 col4\" >4.522544</td>\n",
       "      <td id=\"T_d080e_row12_col5\" class=\"data row12 col5\" >1.396577</td>\n",
       "      <td id=\"T_d080e_row12_col6\" class=\"data row12 col6\" >1.732293</td>\n",
       "      <td id=\"T_d080e_row12_col7\" class=\"data row12 col7\" >86445.440031</td>\n",
       "      <td id=\"T_d080e_row12_col8\" class=\"data row12 col8\" >570004.368520</td>\n",
       "    </tr>\n",
       "    <tr>\n",
       "      <th id=\"T_d080e_level1_row13\" class=\"row_heading level1 row13\" >Time-Transformer</th>\n",
       "      <td id=\"T_d080e_row13_col0\" class=\"data row13 col0\" >0.499859</td>\n",
       "      <td id=\"T_d080e_row13_col1\" class=\"data row13 col1\" >0.326896</td>\n",
       "      <td id=\"T_d080e_row13_col2\" class=\"data row13 col2\" >0.147380</td>\n",
       "      <td id=\"T_d080e_row13_col3\" class=\"data row13 col3\" >0.389958</td>\n",
       "      <td id=\"T_d080e_row13_col4\" class=\"data row13 col4\" >0.266162</td>\n",
       "      <td id=\"T_d080e_row13_col5\" class=\"data row13 col5\" >0.204340</td>\n",
       "      <td id=\"T_d080e_row13_col6\" class=\"data row13 col6\" >0.836956</td>\n",
       "      <td id=\"T_d080e_row13_col7\" class=\"data row13 col7\" >0.950273</td>\n",
       "      <td id=\"T_d080e_row13_col8\" class=\"data row13 col8\" >5.980854</td>\n",
       "    </tr>\n",
       "    <tr>\n",
       "      <th id=\"T_d080e_level1_row14\" class=\"row_heading level1 row14\" >TimeGAN</th>\n",
       "      <td id=\"T_d080e_row14_col0\" class=\"data row14 col0\" >0.472527</td>\n",
       "      <td id=\"T_d080e_row14_col1\" class=\"data row14 col1\" >0.285059</td>\n",
       "      <td id=\"T_d080e_row14_col2\" class=\"data row14 col2\" >0.154532</td>\n",
       "      <td id=\"T_d080e_row14_col3\" class=\"data row14 col3\" >0.382266</td>\n",
       "      <td id=\"T_d080e_row14_col4\" class=\"data row14 col4\" >0.451997</td>\n",
       "      <td id=\"T_d080e_row14_col5\" class=\"data row14 col5\" >0.263064</td>\n",
       "      <td id=\"T_d080e_row14_col6\" class=\"data row14 col6\" >1.007865</td>\n",
       "      <td id=\"T_d080e_row14_col7\" class=\"data row14 col7\" >1.057500</td>\n",
       "      <td id=\"T_d080e_row14_col8\" class=\"data row14 col8\" >6.458857</td>\n",
       "    </tr>\n",
       "    <tr>\n",
       "      <th id=\"T_d080e_level1_row15\" class=\"row_heading level1 row15\" >TransFusion</th>\n",
       "      <td id=\"T_d080e_row15_col0\" class=\"data row15 col0\" >0.118625</td>\n",
       "      <td id=\"T_d080e_row15_col1\" class=\"data row15 col1\" >0.251417</td>\n",
       "      <td id=\"T_d080e_row15_col2\" class=\"data row15 col2\" >0.009846</td>\n",
       "      <td id=\"T_d080e_row15_col3\" class=\"data row15 col3\" >0.227218</td>\n",
       "      <td id=\"T_d080e_row15_col4\" class=\"data row15 col4\" >0.062980</td>\n",
       "      <td id=\"T_d080e_row15_col5\" class=\"data row15 col5\" >0.108366</td>\n",
       "      <td id=\"T_d080e_row15_col6\" class=\"data row15 col6\" >0.426964</td>\n",
       "      <td id=\"T_d080e_row15_col7\" class=\"data row15 col7\" >1.012462</td>\n",
       "      <td id=\"T_d080e_row15_col8\" class=\"data row15 col8\" >6.289462</td>\n",
       "    </tr>\n",
       "    <tr>\n",
       "      <th id=\"T_d080e_level0_row16\" class=\"row_heading level0 row16\" rowspan=\"4\">D6</th>\n",
       "      <th id=\"T_d080e_level1_row16\" class=\"row_heading level1 row16\" >TTS-GAN</th>\n",
       "      <td id=\"T_d080e_row16_col0\" class=\"data row16 col0\" >0.500000</td>\n",
       "      <td id=\"T_d080e_row16_col1\" class=\"data row16 col1\" >0.401835</td>\n",
       "      <td id=\"T_d080e_row16_col2\" class=\"data row16 col2\" >1410484654002.561523</td>\n",
       "      <td id=\"T_d080e_row16_col3\" class=\"data row16 col3\" >1.014350</td>\n",
       "      <td id=\"T_d080e_row16_col4\" class=\"data row16 col4\" >6.084712</td>\n",
       "      <td id=\"T_d080e_row16_col5\" class=\"data row16 col5\" >0.826237</td>\n",
       "      <td id=\"T_d080e_row16_col6\" class=\"data row16 col6\" >1.642648</td>\n",
       "      <td id=\"T_d080e_row16_col7\" class=\"data row16 col7\" >1417871.024469</td>\n",
       "      <td id=\"T_d080e_row16_col8\" class=\"data row16 col8\" >8334382.671493</td>\n",
       "    </tr>\n",
       "    <tr>\n",
       "      <th id=\"T_d080e_level1_row17\" class=\"row_heading level1 row17\" >Time-Transformer</th>\n",
       "      <td id=\"T_d080e_row17_col0\" class=\"data row17 col0\" >0.500000</td>\n",
       "      <td id=\"T_d080e_row17_col1\" class=\"data row17 col1\" >0.251982</td>\n",
       "      <td id=\"T_d080e_row17_col2\" class=\"data row17 col2\" >0.456342</td>\n",
       "      <td id=\"T_d080e_row17_col3\" class=\"data row17 col3\" >0.614462</td>\n",
       "      <td id=\"T_d080e_row17_col4\" class=\"data row17 col4\" >0.701291</td>\n",
       "      <td id=\"T_d080e_row17_col5\" class=\"data row17 col5\" >0.417475</td>\n",
       "      <td id=\"T_d080e_row17_col6\" class=\"data row17 col6\" >1.213679</td>\n",
       "      <td id=\"T_d080e_row17_col7\" class=\"data row17 col7\" >2.451943</td>\n",
       "      <td id=\"T_d080e_row17_col8\" class=\"data row17 col8\" >14.490414</td>\n",
       "    </tr>\n",
       "    <tr>\n",
       "      <th id=\"T_d080e_level1_row18\" class=\"row_heading level1 row18\" >TimeGAN</th>\n",
       "      <td id=\"T_d080e_row18_col0\" class=\"data row18 col0\" >0.500000</td>\n",
       "      <td id=\"T_d080e_row18_col1\" class=\"data row18 col1\" >0.309733</td>\n",
       "      <td id=\"T_d080e_row18_col2\" class=\"data row18 col2\" >0.635030</td>\n",
       "      <td id=\"T_d080e_row18_col3\" class=\"data row18 col3\" >0.741083</td>\n",
       "      <td id=\"T_d080e_row18_col4\" class=\"data row18 col4\" >2.335000</td>\n",
       "      <td id=\"T_d080e_row18_col5\" class=\"data row18 col5\" >0.547243</td>\n",
       "      <td id=\"T_d080e_row18_col6\" class=\"data row18 col6\" >0.918373</td>\n",
       "      <td id=\"T_d080e_row18_col7\" class=\"data row18 col7\" >2.610278</td>\n",
       "      <td id=\"T_d080e_row18_col8\" class=\"data row18 col8\" >14.721798</td>\n",
       "    </tr>\n",
       "    <tr>\n",
       "      <th id=\"T_d080e_level1_row19\" class=\"row_heading level1 row19\" >TransFusion</th>\n",
       "      <td id=\"T_d080e_row19_col0\" class=\"data row19 col0\" >0.144476</td>\n",
       "      <td id=\"T_d080e_row19_col1\" class=\"data row19 col1\" >0.248861</td>\n",
       "      <td id=\"T_d080e_row19_col2\" class=\"data row19 col2\" >0.004271</td>\n",
       "      <td id=\"T_d080e_row19_col3\" class=\"data row19 col3\" >0.198377</td>\n",
       "      <td id=\"T_d080e_row19_col4\" class=\"data row19 col4\" >0.106999</td>\n",
       "      <td id=\"T_d080e_row19_col5\" class=\"data row19 col5\" >0.035632</td>\n",
       "      <td id=\"T_d080e_row19_col6\" class=\"data row19 col6\" >0.134695</td>\n",
       "      <td id=\"T_d080e_row19_col7\" class=\"data row19 col7\" >2.546032</td>\n",
       "      <td id=\"T_d080e_row19_col8\" class=\"data row19 col8\" >14.670620</td>\n",
       "    </tr>\n",
       "    <tr>\n",
       "      <th id=\"T_d080e_level0_row20\" class=\"row_heading level0 row20\" rowspan=\"4\">D7</th>\n",
       "      <th id=\"T_d080e_level1_row20\" class=\"row_heading level1 row20\" >TTS-GAN</th>\n",
       "      <td id=\"T_d080e_row20_col0\" class=\"data row20 col0\" >0.500000</td>\n",
       "      <td id=\"T_d080e_row20_col1\" class=\"data row20 col1\" >0.629734</td>\n",
       "      <td id=\"T_d080e_row20_col2\" class=\"data row20 col2\" >258396367661.432343</td>\n",
       "      <td id=\"T_d080e_row20_col3\" class=\"data row20 col3\" >7.517625</td>\n",
       "      <td id=\"T_d080e_row20_col4\" class=\"data row20 col4\" >3.069357</td>\n",
       "      <td id=\"T_d080e_row20_col5\" class=\"data row20 col5\" >73.693896</td>\n",
       "      <td id=\"T_d080e_row20_col6\" class=\"data row20 col6\" >8943.578376</td>\n",
       "      <td id=\"T_d080e_row20_col7\" class=\"data row20 col7\" >524750.266220</td>\n",
       "      <td id=\"T_d080e_row20_col8\" class=\"data row20 col8\" >2057167.399061</td>\n",
       "    </tr>\n",
       "    <tr>\n",
       "      <th id=\"T_d080e_level1_row21\" class=\"row_heading level1 row21\" >Time-Transformer</th>\n",
       "      <td id=\"T_d080e_row21_col0\" class=\"data row21 col0\" >0.480366</td>\n",
       "      <td id=\"T_d080e_row21_col1\" class=\"data row21 col1\" >0.002254</td>\n",
       "      <td id=\"T_d080e_row21_col2\" class=\"data row21 col2\" >0.001517</td>\n",
       "      <td id=\"T_d080e_row21_col3\" class=\"data row21 col3\" >9.074205</td>\n",
       "      <td id=\"T_d080e_row21_col4\" class=\"data row21 col4\" >1.281966</td>\n",
       "      <td id=\"T_d080e_row21_col5\" class=\"data row21 col5\" >73.553105</td>\n",
       "      <td id=\"T_d080e_row21_col6\" class=\"data row21 col6\" >8942.827292</td>\n",
       "      <td id=\"T_d080e_row21_col7\" class=\"data row21 col7\" >0.106958</td>\n",
       "      <td id=\"T_d080e_row21_col8\" class=\"data row21 col8\" >0.435572</td>\n",
       "    </tr>\n",
       "    <tr>\n",
       "      <th id=\"T_d080e_level1_row22\" class=\"row_heading level1 row22\" >TimeGAN</th>\n",
       "      <td id=\"T_d080e_row22_col0\" class=\"data row22 col0\" >0.011219</td>\n",
       "      <td id=\"T_d080e_row22_col1\" class=\"data row22 col1\" >0.000890</td>\n",
       "      <td id=\"T_d080e_row22_col2\" class=\"data row22 col2\" >0.000891</td>\n",
       "      <td id=\"T_d080e_row22_col3\" class=\"data row22 col3\" >2.217216</td>\n",
       "      <td id=\"T_d080e_row22_col4\" class=\"data row22 col4\" >1.864680</td>\n",
       "      <td id=\"T_d080e_row22_col5\" class=\"data row22 col5\" >73.477606</td>\n",
       "      <td id=\"T_d080e_row22_col6\" class=\"data row22 col6\" >8942.861949</td>\n",
       "      <td id=\"T_d080e_row22_col7\" class=\"data row22 col7\" >0.050241</td>\n",
       "      <td id=\"T_d080e_row22_col8\" class=\"data row22 col8\" >0.255532</td>\n",
       "    </tr>\n",
       "    <tr>\n",
       "      <th id=\"T_d080e_level1_row23\" class=\"row_heading level1 row23\" >TransFusion</th>\n",
       "      <td id=\"T_d080e_row23_col0\" class=\"data row23 col0\" >0.202693</td>\n",
       "      <td id=\"T_d080e_row23_col1\" class=\"data row23 col1\" >0.000563</td>\n",
       "      <td id=\"T_d080e_row23_col2\" class=\"data row23 col2\" >0.000195</td>\n",
       "      <td id=\"T_d080e_row23_col3\" class=\"data row23 col3\" >7.928880</td>\n",
       "      <td id=\"T_d080e_row23_col4\" class=\"data row23 col4\" >0.182951</td>\n",
       "      <td id=\"T_d080e_row23_col5\" class=\"data row23 col5\" >60.550151</td>\n",
       "      <td id=\"T_d080e_row23_col6\" class=\"data row23 col6\" >20819.667549</td>\n",
       "      <td id=\"T_d080e_row23_col7\" class=\"data row23 col7\" >0.045604</td>\n",
       "      <td id=\"T_d080e_row23_col8\" class=\"data row23 col8\" >0.244151</td>\n",
       "    </tr>\n",
       "  </tbody>\n",
       "</table>\n"
      ],
      "text/plain": [
       "<pandas.io.formats.style.Styler at 0x7f7ca47bfad0>"
      ]
     },
     "execution_count": 8,
     "metadata": {},
     "output_type": "execute_result"
    }
   ],
   "source": [
    "\n",
    "cm = sns.diverging_palette(h_neg=130, h_pos=0, as_cmap=True)\n",
    "#cm = sns.light_palette(\"green\", as_cmap=True, reverse=True)\n",
    "\n",
    "df.swaplevel(\"Method\", \"Dataset\")\\\n",
    "    .sort_index(level=[\"Dataset\", \"Method\"])\\\n",
    "    .style\\\n",
    "        .background_gradient(cmap=cm, vmin=0, vmax=0.5, subset=[\"DS\", \"PS\"])\\\n",
    "        .background_gradient(cmap=cm, vmin=0, vmax=1, subset=[\"C-FID\"])\\\n",
    "        .background_gradient(cmap=cm, vmin=0, vmax=2, subset=[\"MDD\"])\\\n",
    "        .background_gradient(cmap=cm, vmin=0, vmax=1, subset=[\"ACD\"])\\\n",
    "        .background_gradient(cmap=cm, vmin=0, vmax=1, subset=[\"SD\"])\\\n",
    "        .background_gradient(cmap=cm, vmin=0, vmax=3, subset=[\"KD\"])\\\n",
    "        .background_gradient(cmap=cm, vmin=0, vmax=3, subset=[\"ED\"])\\\n",
    "        .background_gradient(cmap=cm, vmin=0, vmax=10, subset=[\"DTW\"])"
   ]
  },
  {
   "cell_type": "code",
   "execution_count": 9,
   "id": "4770f5c6",
   "metadata": {},
   "outputs": [
    {
     "data": {
      "text/html": [
       "<style type=\"text/css\">\n",
       "#T_95504_row0_col0, #T_95504_row6_col8 {\n",
       "  background-color: #89b78e;\n",
       "  color: #000000;\n",
       "}\n",
       "#T_95504_row0_col1, #T_95504_row12_col1, #T_95504_row13_col1 {\n",
       "  background-color: #54975a;\n",
       "  color: #f1f1f1;\n",
       "}\n",
       "#T_95504_row0_col2, #T_95504_row5_col7, #T_95504_row5_col8, #T_95504_row17_col8 {\n",
       "  background-color: #3e8a46;\n",
       "  color: #f1f1f1;\n",
       "}\n",
       "#T_95504_row0_col3 {\n",
       "  background-color: #86b58b;\n",
       "  color: #f1f1f1;\n",
       "}\n",
       "#T_95504_row0_col4, #T_95504_row13_col5 {\n",
       "  background-color: #77ac7c;\n",
       "  color: #f1f1f1;\n",
       "}\n",
       "#T_95504_row0_col5 {\n",
       "  background-color: #e7efe8;\n",
       "  color: #000000;\n",
       "}\n",
       "#T_95504_row0_col6 {\n",
       "  background-color: #e18aa4;\n",
       "  color: #f1f1f1;\n",
       "}\n",
       "#T_95504_row0_col7, #T_95504_row12_col3 {\n",
       "  background-color: #c8ddca;\n",
       "  color: #000000;\n",
       "}\n",
       "#T_95504_row0_col8, #T_95504_row9_col5 {\n",
       "  background-color: #82b387;\n",
       "  color: #f1f1f1;\n",
       "}\n",
       "#T_95504_row1_col0 {\n",
       "  background-color: #e5a0b4;\n",
       "  color: #000000;\n",
       "}\n",
       "#T_95504_row1_col1 {\n",
       "  background-color: #56985d;\n",
       "  color: #f1f1f1;\n",
       "}\n",
       "#T_95504_row1_col2 {\n",
       "  background-color: #4a9151;\n",
       "  color: #f1f1f1;\n",
       "}\n",
       "#T_95504_row1_col3, #T_95504_row6_col7, #T_95504_row7_col8 {\n",
       "  background-color: #d6e5d7;\n",
       "  color: #000000;\n",
       "}\n",
       "#T_95504_row1_col4, #T_95504_row7_col1, #T_95504_row15_col6 {\n",
       "  background-color: #6ca571;\n",
       "  color: #f1f1f1;\n",
       "}\n",
       "#T_95504_row1_col5, #T_95504_row3_col5, #T_95504_row8_col5 {\n",
       "  background-color: #98c09c;\n",
       "  color: #000000;\n",
       "}\n",
       "#T_95504_row1_col6 {\n",
       "  background-color: #e28ca5;\n",
       "  color: #f1f1f1;\n",
       "}\n",
       "#T_95504_row1_col7 {\n",
       "  background-color: #dc6789;\n",
       "  color: #f1f1f1;\n",
       "}\n",
       "#T_95504_row1_col8 {\n",
       "  background-color: #d9e7da;\n",
       "  color: #000000;\n",
       "}\n",
       "#T_95504_row2_col0 {\n",
       "  background-color: #8cb991;\n",
       "  color: #000000;\n",
       "}\n",
       "#T_95504_row2_col1, #T_95504_row9_col4 {\n",
       "  background-color: #99c19d;\n",
       "  color: #000000;\n",
       "}\n",
       "#T_95504_row2_col2, #T_95504_row18_col1 {\n",
       "  background-color: #5d9d64;\n",
       "  color: #f1f1f1;\n",
       "}\n",
       "#T_95504_row2_col3 {\n",
       "  background-color: #c4dac6;\n",
       "  color: #000000;\n",
       "}\n",
       "#T_95504_row2_col4, #T_95504_row8_col6 {\n",
       "  background-color: #66a26c;\n",
       "  color: #f1f1f1;\n",
       "}\n",
       "#T_95504_row2_col5, #T_95504_row9_col3 {\n",
       "  background-color: #7eb083;\n",
       "  color: #f1f1f1;\n",
       "}\n",
       "#T_95504_row2_col6 {\n",
       "  background-color: #74aa7a;\n",
       "  color: #f1f1f1;\n",
       "}\n",
       "#T_95504_row2_col7 {\n",
       "  background-color: #d74e76;\n",
       "  color: #f1f1f1;\n",
       "}\n",
       "#T_95504_row2_col8, #T_95504_row14_col8 {\n",
       "  background-color: #ecccd5;\n",
       "  color: #000000;\n",
       "}\n",
       "#T_95504_row3_col0, #T_95504_row14_col7 {\n",
       "  background-color: #d85078;\n",
       "  color: #f1f1f1;\n",
       "}\n",
       "#T_95504_row3_col1 {\n",
       "  background-color: #eed9df;\n",
       "  color: #000000;\n",
       "}\n",
       "#T_95504_row3_col2 {\n",
       "  background-color: #70a876;\n",
       "  color: #f1f1f1;\n",
       "}\n",
       "#T_95504_row3_col3 {\n",
       "  background-color: #7caf82;\n",
       "  color: #f1f1f1;\n",
       "}\n",
       "#T_95504_row3_col4 {\n",
       "  background-color: #dce9dd;\n",
       "  color: #000000;\n",
       "}\n",
       "#T_95504_row3_col6, #T_95504_row15_col7 {\n",
       "  background-color: #b3d0b6;\n",
       "  color: #000000;\n",
       "}\n",
       "#T_95504_row3_col7 {\n",
       "  background-color: #b8d3bb;\n",
       "  color: #000000;\n",
       "}\n",
       "#T_95504_row3_col8 {\n",
       "  background-color: #d5e4d6;\n",
       "  color: #000000;\n",
       "}\n",
       "#T_95504_row4_col0, #T_95504_row4_col4, #T_95504_row5_col3, #T_95504_row5_col4, #T_95504_row5_col5, #T_95504_row5_col6, #T_95504_row9_col0, #T_95504_row10_col0, #T_95504_row11_col3, #T_95504_row11_col4, #T_95504_row11_col5, #T_95504_row11_col6, #T_95504_row17_col3, #T_95504_row17_col5, #T_95504_row17_col6, #T_95504_row18_col2, #T_95504_row18_col4, #T_95504_row18_col5, #T_95504_row18_col6, #T_95504_row18_col7, #T_95504_row18_col8, #T_95504_row19_col0, #T_95504_row19_col2, #T_95504_row19_col4, #T_95504_row19_col5, #T_95504_row19_col6, #T_95504_row19_col7, #T_95504_row19_col8, #T_95504_row20_col2, #T_95504_row20_col4, #T_95504_row20_col7, #T_95504_row20_col8, #T_95504_row21_col0, #T_95504_row21_col2, #T_95504_row21_col4, #T_95504_row21_col5, #T_95504_row21_col7, #T_95504_row21_col8, #T_95504_row22_col0, #T_95504_row22_col2, #T_95504_row22_col4, #T_95504_row22_col7, #T_95504_row22_col8, #T_95504_row23_col0, #T_95504_row23_col1, #T_95504_row23_col2, #T_95504_row23_col3, #T_95504_row23_col4, #T_95504_row23_col5, #T_95504_row23_col6, #T_95504_row23_col7, #T_95504_row23_col8 {\n",
       "  background-color: #d53d69;\n",
       "  color: #f1f1f1;\n",
       "}\n",
       "#T_95504_row4_col1 {\n",
       "  background-color: #ebc6d1;\n",
       "  color: #000000;\n",
       "}\n",
       "#T_95504_row4_col2 {\n",
       "  background-color: #eac1cd;\n",
       "  color: #000000;\n",
       "}\n",
       "#T_95504_row4_col3 {\n",
       "  background-color: #bed7c0;\n",
       "  color: #000000;\n",
       "}\n",
       "#T_95504_row4_col5, #T_95504_row22_col6 {\n",
       "  background-color: #f0e0e4;\n",
       "  color: #000000;\n",
       "}\n",
       "#T_95504_row4_col6, #T_95504_row8_col4, #T_95504_row10_col3 {\n",
       "  background-color: #a8c9ab;\n",
       "  color: #000000;\n",
       "}\n",
       "#T_95504_row4_col7 {\n",
       "  background-color: #dc6b8c;\n",
       "  color: #f1f1f1;\n",
       "}\n",
       "#T_95504_row4_col8 {\n",
       "  background-color: #d6426e;\n",
       "  color: #f1f1f1;\n",
       "}\n",
       "#T_95504_row5_col0 {\n",
       "  background-color: #408b48;\n",
       "  color: #f1f1f1;\n",
       "}\n",
       "#T_95504_row5_col1, #T_95504_row5_col2, #T_95504_row11_col2, #T_95504_row13_col0, #T_95504_row17_col1, #T_95504_row17_col2, #T_95504_row18_col0 {\n",
       "  background-color: #398641;\n",
       "  color: #f1f1f1;\n",
       "}\n",
       "#T_95504_row6_col0 {\n",
       "  background-color: #ebc2ce;\n",
       "  color: #000000;\n",
       "}\n",
       "#T_95504_row6_col1 {\n",
       "  background-color: #75ab7b;\n",
       "  color: #f1f1f1;\n",
       "}\n",
       "#T_95504_row6_col2, #T_95504_row8_col3 {\n",
       "  background-color: #97bf9b;\n",
       "  color: #000000;\n",
       "}\n",
       "#T_95504_row6_col3 {\n",
       "  background-color: #aacbae;\n",
       "  color: #000000;\n",
       "}\n",
       "#T_95504_row6_col4, #T_95504_row8_col0 {\n",
       "  background-color: #92bc96;\n",
       "  color: #000000;\n",
       "}\n",
       "#T_95504_row6_col5 {\n",
       "  background-color: #edd0d8;\n",
       "  color: #000000;\n",
       "}\n",
       "#T_95504_row6_col6 {\n",
       "  background-color: #de7795;\n",
       "  color: #f1f1f1;\n",
       "}\n",
       "#T_95504_row7_col0 {\n",
       "  background-color: #ebc5d0;\n",
       "  color: #000000;\n",
       "}\n",
       "#T_95504_row7_col2 {\n",
       "  background-color: #78ad7e;\n",
       "  color: #f1f1f1;\n",
       "}\n",
       "#T_95504_row7_col3 {\n",
       "  background-color: #c0d8c2;\n",
       "  color: #000000;\n",
       "}\n",
       "#T_95504_row7_col4 {\n",
       "  background-color: #e8f0e9;\n",
       "  color: #000000;\n",
       "}\n",
       "#T_95504_row7_col5 {\n",
       "  background-color: #f1eaec;\n",
       "  color: #000000;\n",
       "}\n",
       "#T_95504_row7_col6 {\n",
       "  background-color: #d5416d;\n",
       "  color: #f1f1f1;\n",
       "}\n",
       "#T_95504_row7_col7 {\n",
       "  background-color: #dd7191;\n",
       "  color: #f1f1f1;\n",
       "}\n",
       "#T_95504_row8_col1 {\n",
       "  background-color: #67a26d;\n",
       "  color: #f1f1f1;\n",
       "}\n",
       "#T_95504_row8_col2, #T_95504_row16_col6 {\n",
       "  background-color: #489050;\n",
       "  color: #f1f1f1;\n",
       "}\n",
       "#T_95504_row8_col7 {\n",
       "  background-color: #db6185;\n",
       "  color: #f1f1f1;\n",
       "}\n",
       "#T_95504_row8_col8 {\n",
       "  background-color: #efdae0;\n",
       "  color: #000000;\n",
       "}\n",
       "#T_95504_row9_col1 {\n",
       "  background-color: #e9bac7;\n",
       "  color: #000000;\n",
       "}\n",
       "#T_95504_row9_col2, #T_95504_row14_col3 {\n",
       "  background-color: #6da673;\n",
       "  color: #f1f1f1;\n",
       "}\n",
       "#T_95504_row9_col6 {\n",
       "  background-color: #9ec3a1;\n",
       "  color: #000000;\n",
       "}\n",
       "#T_95504_row9_col7 {\n",
       "  background-color: #acccaf;\n",
       "  color: #000000;\n",
       "}\n",
       "#T_95504_row9_col8 {\n",
       "  background-color: #c9decb;\n",
       "  color: #000000;\n",
       "}\n",
       "#T_95504_row10_col1, #T_95504_row20_col3, #T_95504_row21_col3, #T_95504_row22_col3 {\n",
       "  background-color: #f2eff0;\n",
       "  color: #000000;\n",
       "}\n",
       "#T_95504_row10_col2 {\n",
       "  background-color: #dde9de;\n",
       "  color: #000000;\n",
       "}\n",
       "#T_95504_row10_col4 {\n",
       "  background-color: #e6a9bb;\n",
       "  color: #000000;\n",
       "}\n",
       "#T_95504_row10_col5 {\n",
       "  background-color: #cfe1d1;\n",
       "  color: #000000;\n",
       "}\n",
       "#T_95504_row10_col6, #T_95504_row17_col0 {\n",
       "  background-color: #cbdecd;\n",
       "  color: #000000;\n",
       "}\n",
       "#T_95504_row10_col7 {\n",
       "  background-color: #df7e9a;\n",
       "  color: #f1f1f1;\n",
       "}\n",
       "#T_95504_row10_col8 {\n",
       "  background-color: #d74872;\n",
       "  color: #f1f1f1;\n",
       "}\n",
       "#T_95504_row11_col0 {\n",
       "  background-color: #d74b74;\n",
       "  color: #f1f1f1;\n",
       "}\n",
       "#T_95504_row11_col1, #T_95504_row13_col2, #T_95504_row16_col2 {\n",
       "  background-color: #3a8742;\n",
       "  color: #f1f1f1;\n",
       "}\n",
       "#T_95504_row11_col7, #T_95504_row14_col4, #T_95504_row16_col5 {\n",
       "  background-color: #458e4d;\n",
       "  color: #f1f1f1;\n",
       "}\n",
       "#T_95504_row11_col8 {\n",
       "  background-color: #438c4a;\n",
       "  color: #f1f1f1;\n",
       "}\n",
       "#T_95504_row12_col0 {\n",
       "  background-color: #a5c7a8;\n",
       "  color: #000000;\n",
       "}\n",
       "#T_95504_row12_col2 {\n",
       "  background-color: #599a60;\n",
       "  color: #f1f1f1;\n",
       "}\n",
       "#T_95504_row12_col4 {\n",
       "  background-color: #448d4c;\n",
       "  color: #f1f1f1;\n",
       "}\n",
       "#T_95504_row12_col5 {\n",
       "  background-color: #f1e5e8;\n",
       "  color: #000000;\n",
       "}\n",
       "#T_95504_row12_col6 {\n",
       "  background-color: #dc688a;\n",
       "  color: #f1f1f1;\n",
       "}\n",
       "#T_95504_row12_col7 {\n",
       "  background-color: #bad4bc;\n",
       "  color: #000000;\n",
       "}\n",
       "#T_95504_row12_col8 {\n",
       "  background-color: #7bae80;\n",
       "  color: #f1f1f1;\n",
       "}\n",
       "#T_95504_row13_col3 {\n",
       "  background-color: #81b286;\n",
       "  color: #f1f1f1;\n",
       "}\n",
       "#T_95504_row13_col4 {\n",
       "  background-color: #609e67;\n",
       "  color: #f1f1f1;\n",
       "}\n",
       "#T_95504_row13_col6 {\n",
       "  background-color: #9cc2a0;\n",
       "  color: #000000;\n",
       "}\n",
       "#T_95504_row13_col7 {\n",
       "  background-color: #d9567d;\n",
       "  color: #f1f1f1;\n",
       "}\n",
       "#T_95504_row13_col8 {\n",
       "  background-color: #e4eee5;\n",
       "  color: #000000;\n",
       "}\n",
       "#T_95504_row14_col0, #T_95504_row14_col5 {\n",
       "  background-color: #63a069;\n",
       "  color: #f1f1f1;\n",
       "}\n",
       "#T_95504_row14_col1, #T_95504_row16_col3 {\n",
       "  background-color: #5c9c63;\n",
       "  color: #f1f1f1;\n",
       "}\n",
       "#T_95504_row14_col2, #T_95504_row17_col7 {\n",
       "  background-color: #3d8945;\n",
       "  color: #f1f1f1;\n",
       "}\n",
       "#T_95504_row14_col6 {\n",
       "  background-color: #55975c;\n",
       "  color: #f1f1f1;\n",
       "}\n",
       "#T_95504_row15_col0 {\n",
       "  background-color: #8db992;\n",
       "  color: #000000;\n",
       "}\n",
       "#T_95504_row15_col1, #T_95504_row18_col3 {\n",
       "  background-color: #f2f1f1;\n",
       "  color: #000000;\n",
       "}\n",
       "#T_95504_row15_col2 {\n",
       "  background-color: #3c8844;\n",
       "  color: #f1f1f1;\n",
       "}\n",
       "#T_95504_row15_col3 {\n",
       "  background-color: #629f68;\n",
       "  color: #f1f1f1;\n",
       "}\n",
       "#T_95504_row15_col4 {\n",
       "  background-color: #4f9456;\n",
       "  color: #f1f1f1;\n",
       "}\n",
       "#T_95504_row15_col5, #T_95504_row16_col4 {\n",
       "  background-color: #5f9d65;\n",
       "  color: #f1f1f1;\n",
       "}\n",
       "#T_95504_row15_col8 {\n",
       "  background-color: #d0e2d2;\n",
       "  color: #000000;\n",
       "}\n",
       "#T_95504_row16_col0 {\n",
       "  background-color: #a0c5a4;\n",
       "  color: #000000;\n",
       "}\n",
       "#T_95504_row16_col1 {\n",
       "  background-color: #eff2ef;\n",
       "  color: #000000;\n",
       "}\n",
       "#T_95504_row16_col7 {\n",
       "  background-color: #de7292;\n",
       "  color: #f1f1f1;\n",
       "}\n",
       "#T_95504_row16_col8 {\n",
       "  background-color: #d6446f;\n",
       "  color: #f1f1f1;\n",
       "}\n",
       "#T_95504_row17_col4 {\n",
       "  background-color: #7aae7f;\n",
       "  color: #f1f1f1;\n",
       "}\n",
       "#T_95504_row19_col1 {\n",
       "  background-color: #e394ab;\n",
       "  color: #f1f1f1;\n",
       "}\n",
       "#T_95504_row19_col3 {\n",
       "  background-color: #f2eeef;\n",
       "  color: #000000;\n",
       "}\n",
       "#T_95504_row20_col0 {\n",
       "  background-color: #d53f6c;\n",
       "  color: #f1f1f1;\n",
       "}\n",
       "#T_95504_row20_col1 {\n",
       "  background-color: #e498ae;\n",
       "  color: #000000;\n",
       "}\n",
       "#T_95504_row20_col5 {\n",
       "  background-color: #b0ceb3;\n",
       "  color: #000000;\n",
       "}\n",
       "#T_95504_row20_col6 {\n",
       "  background-color: #ebc4cf;\n",
       "  color: #000000;\n",
       "}\n",
       "#T_95504_row21_col1 {\n",
       "  background-color: #db6386;\n",
       "  color: #f1f1f1;\n",
       "}\n",
       "#T_95504_row21_col6 {\n",
       "  background-color: #eed6dd;\n",
       "  color: #000000;\n",
       "}\n",
       "#T_95504_row22_col1 {\n",
       "  background-color: #e0839f;\n",
       "  color: #f1f1f1;\n",
       "}\n",
       "#T_95504_row22_col5 {\n",
       "  background-color: #df7b98;\n",
       "  color: #f1f1f1;\n",
       "}\n",
       "</style>\n",
       "<table id=\"T_95504_\">\n",
       "  <thead>\n",
       "    <tr>\n",
       "      <th class=\"blank\" >&nbsp;</th>\n",
       "      <th class=\"blank level0\" >&nbsp;</th>\n",
       "      <th class=\"col_heading level0 col0\" >DS</th>\n",
       "      <th class=\"col_heading level0 col1\" >PS</th>\n",
       "      <th class=\"col_heading level0 col2\" >C-FID</th>\n",
       "      <th class=\"col_heading level0 col3\" >MDD</th>\n",
       "      <th class=\"col_heading level0 col4\" >ACD</th>\n",
       "      <th class=\"col_heading level0 col5\" >SD</th>\n",
       "      <th class=\"col_heading level0 col6\" >KD</th>\n",
       "      <th class=\"col_heading level0 col7\" >ED</th>\n",
       "      <th class=\"col_heading level0 col8\" >DTW</th>\n",
       "    </tr>\n",
       "    <tr>\n",
       "      <th class=\"index_name level0\" >Method</th>\n",
       "      <th class=\"index_name level1\" >Dataset</th>\n",
       "      <th class=\"blank col0\" >&nbsp;</th>\n",
       "      <th class=\"blank col1\" >&nbsp;</th>\n",
       "      <th class=\"blank col2\" >&nbsp;</th>\n",
       "      <th class=\"blank col3\" >&nbsp;</th>\n",
       "      <th class=\"blank col4\" >&nbsp;</th>\n",
       "      <th class=\"blank col5\" >&nbsp;</th>\n",
       "      <th class=\"blank col6\" >&nbsp;</th>\n",
       "      <th class=\"blank col7\" >&nbsp;</th>\n",
       "      <th class=\"blank col8\" >&nbsp;</th>\n",
       "    </tr>\n",
       "  </thead>\n",
       "  <tbody>\n",
       "    <tr>\n",
       "      <th id=\"T_95504_level0_row0\" class=\"row_heading level0 row0\" rowspan=\"6\">TimeGAN</th>\n",
       "      <th id=\"T_95504_level1_row0\" class=\"row_heading level1 row0\" >D2</th>\n",
       "      <td id=\"T_95504_row0_col0\" class=\"data row0 col0\" >0.112879</td>\n",
       "      <td id=\"T_95504_row0_col1\" class=\"data row0 col1\" >0.038129</td>\n",
       "      <td id=\"T_95504_row0_col2\" class=\"data row0 col2\" >0.019055</td>\n",
       "      <td id=\"T_95504_row0_col3\" class=\"data row0 col3\" >0.434670</td>\n",
       "      <td id=\"T_95504_row0_col4\" class=\"data row0 col4\" >0.171891</td>\n",
       "      <td id=\"T_95504_row0_col5\" class=\"data row0 col5\" >0.482856</td>\n",
       "      <td id=\"T_95504_row0_col6\" class=\"data row0 col6\" >2.351818</td>\n",
       "      <td id=\"T_95504_row0_col7\" class=\"data row0 col7\" >1.189109</td>\n",
       "      <td id=\"T_95504_row0_col8\" class=\"data row0 col8\" >3.068079</td>\n",
       "    </tr>\n",
       "    <tr>\n",
       "      <th id=\"T_95504_level1_row1\" class=\"row_heading level1 row1\" >D3</th>\n",
       "      <td id=\"T_95504_row1_col0\" class=\"data row1 col0\" >0.362715</td>\n",
       "      <td id=\"T_95504_row1_col1\" class=\"data row1 col1\" >0.041257</td>\n",
       "      <td id=\"T_95504_row1_col2\" class=\"data row1 col2\" >0.050287</td>\n",
       "      <td id=\"T_95504_row1_col3\" class=\"data row1 col3\" >0.870274</td>\n",
       "      <td id=\"T_95504_row1_col4\" class=\"data row1 col4\" >0.143190</td>\n",
       "      <td id=\"T_95504_row1_col5\" class=\"data row1 col5\" >0.262877</td>\n",
       "      <td id=\"T_95504_row1_col6\" class=\"data row1 col6\" >2.341035</td>\n",
       "      <td id=\"T_95504_row1_col7\" class=\"data row1 col7\" >2.646002</td>\n",
       "      <td id=\"T_95504_row1_col8\" class=\"data row1 col8\" >6.679519</td>\n",
       "    </tr>\n",
       "    <tr>\n",
       "      <th id=\"T_95504_level1_row2\" class=\"row_heading level1 row2\" >D4</th>\n",
       "      <td id=\"T_95504_row2_col0\" class=\"data row2 col0\" >0.116530</td>\n",
       "      <td id=\"T_95504_row2_col1\" class=\"data row2 col1\" >0.133363</td>\n",
       "      <td id=\"T_95504_row2_col2\" class=\"data row2 col2\" >0.105101</td>\n",
       "      <td id=\"T_95504_row2_col3\" class=\"data row2 col3\" >0.766039</td>\n",
       "      <td id=\"T_95504_row2_col4\" class=\"data row2 col4\" >0.127232</td>\n",
       "      <td id=\"T_95504_row2_col5\" class=\"data row2 col5\" >0.194281</td>\n",
       "      <td id=\"T_95504_row2_col6\" class=\"data row2 col6\" >0.496604</td>\n",
       "      <td id=\"T_95504_row2_col7\" class=\"data row2 col7\" >2.857787</td>\n",
       "      <td id=\"T_95504_row2_col8\" class=\"data row2 col8\" >9.064095</td>\n",
       "    </tr>\n",
       "    <tr>\n",
       "      <th id=\"T_95504_level1_row3\" class=\"row_heading level1 row3\" >D5</th>\n",
       "      <td id=\"T_95504_row3_col0\" class=\"data row3 col0\" >0.472527</td>\n",
       "      <td id=\"T_95504_row3_col1\" class=\"data row3 col1\" >0.285059</td>\n",
       "      <td id=\"T_95504_row3_col2\" class=\"data row3 col2\" >0.154532</td>\n",
       "      <td id=\"T_95504_row3_col3\" class=\"data row3 col3\" >0.382266</td>\n",
       "      <td id=\"T_95504_row3_col4\" class=\"data row3 col4\" >0.451997</td>\n",
       "      <td id=\"T_95504_row3_col5\" class=\"data row3 col5\" >0.263064</td>\n",
       "      <td id=\"T_95504_row3_col6\" class=\"data row3 col6\" >1.007865</td>\n",
       "      <td id=\"T_95504_row3_col7\" class=\"data row3 col7\" >1.057500</td>\n",
       "      <td id=\"T_95504_row3_col8\" class=\"data row3 col8\" >6.458857</td>\n",
       "    </tr>\n",
       "    <tr>\n",
       "      <th id=\"T_95504_level1_row4\" class=\"row_heading level1 row4\" >D6</th>\n",
       "      <td id=\"T_95504_row4_col0\" class=\"data row4 col0\" >0.500000</td>\n",
       "      <td id=\"T_95504_row4_col1\" class=\"data row4 col1\" >0.309733</td>\n",
       "      <td id=\"T_95504_row4_col2\" class=\"data row4 col2\" >0.635030</td>\n",
       "      <td id=\"T_95504_row4_col3\" class=\"data row4 col3\" >0.741083</td>\n",
       "      <td id=\"T_95504_row4_col4\" class=\"data row4 col4\" >2.335000</td>\n",
       "      <td id=\"T_95504_row4_col5\" class=\"data row4 col5\" >0.547243</td>\n",
       "      <td id=\"T_95504_row4_col6\" class=\"data row4 col6\" >0.918373</td>\n",
       "      <td id=\"T_95504_row4_col7\" class=\"data row4 col7\" >2.610278</td>\n",
       "      <td id=\"T_95504_row4_col8\" class=\"data row4 col8\" >14.721798</td>\n",
       "    </tr>\n",
       "    <tr>\n",
       "      <th id=\"T_95504_level1_row5\" class=\"row_heading level1 row5\" >D7</th>\n",
       "      <td id=\"T_95504_row5_col0\" class=\"data row5 col0\" >0.011219</td>\n",
       "      <td id=\"T_95504_row5_col1\" class=\"data row5 col1\" >0.000890</td>\n",
       "      <td id=\"T_95504_row5_col2\" class=\"data row5 col2\" >0.000891</td>\n",
       "      <td id=\"T_95504_row5_col3\" class=\"data row5 col3\" >2.217216</td>\n",
       "      <td id=\"T_95504_row5_col4\" class=\"data row5 col4\" >1.864680</td>\n",
       "      <td id=\"T_95504_row5_col5\" class=\"data row5 col5\" >73.477606</td>\n",
       "      <td id=\"T_95504_row5_col6\" class=\"data row5 col6\" >8942.861949</td>\n",
       "      <td id=\"T_95504_row5_col7\" class=\"data row5 col7\" >0.050241</td>\n",
       "      <td id=\"T_95504_row5_col8\" class=\"data row5 col8\" >0.255532</td>\n",
       "    </tr>\n",
       "    <tr>\n",
       "      <th id=\"T_95504_level0_row6\" class=\"row_heading level0 row6\" rowspan=\"6\">Time-Transformer</th>\n",
       "      <th id=\"T_95504_level1_row6\" class=\"row_heading level1 row6\" >D2</th>\n",
       "      <td id=\"T_95504_row6_col0\" class=\"data row6 col0\" >0.315152</td>\n",
       "      <td id=\"T_95504_row6_col1\" class=\"data row6 col1\" >0.085012</td>\n",
       "      <td id=\"T_95504_row6_col2\" class=\"data row6 col2\" >0.258219</td>\n",
       "      <td id=\"T_95504_row6_col3\" class=\"data row6 col3\" >0.627615</td>\n",
       "      <td id=\"T_95504_row6_col4\" class=\"data row6 col4\" >0.247822</td>\n",
       "      <td id=\"T_95504_row6_col5\" class=\"data row6 col5\" >0.592418</td>\n",
       "      <td id=\"T_95504_row6_col6\" class=\"data row6 col6\" >2.517755</td>\n",
       "      <td id=\"T_95504_row6_col7\" class=\"data row6 col7\" >1.307718</td>\n",
       "      <td id=\"T_95504_row6_col8\" class=\"data row6 col8\" >3.375031</td>\n",
       "    </tr>\n",
       "    <tr>\n",
       "      <th id=\"T_95504_level1_row7\" class=\"row_heading level1 row7\" >D3</th>\n",
       "      <td id=\"T_95504_row7_col0\" class=\"data row7 col0\" >0.312012</td>\n",
       "      <td id=\"T_95504_row7_col1\" class=\"data row7 col1\" >0.072252</td>\n",
       "      <td id=\"T_95504_row7_col2\" class=\"data row7 col2\" >0.177665</td>\n",
       "      <td id=\"T_95504_row7_col3\" class=\"data row7 col3\" >0.747522</td>\n",
       "      <td id=\"T_95504_row7_col4\" class=\"data row7 col4\" >0.486708</td>\n",
       "      <td id=\"T_95504_row7_col5\" class=\"data row7 col5\" >0.522732</td>\n",
       "      <td id=\"T_95504_row7_col6\" class=\"data row7 col6\" >2.953833</td>\n",
       "      <td id=\"T_95504_row7_col7\" class=\"data row7 col7\" >2.561868</td>\n",
       "      <td id=\"T_95504_row7_col8\" class=\"data row7 col8\" >6.510620</td>\n",
       "    </tr>\n",
       "    <tr>\n",
       "      <th id=\"T_95504_level1_row8\" class=\"row_heading level1 row8\" >D4</th>\n",
       "      <td id=\"T_95504_row8_col0\" class=\"data row8 col0\" >0.124348</td>\n",
       "      <td id=\"T_95504_row8_col1\" class=\"data row8 col1\" >0.066113</td>\n",
       "      <td id=\"T_95504_row8_col2\" class=\"data row8 col2\" >0.045602</td>\n",
       "      <td id=\"T_95504_row8_col3\" class=\"data row8 col3\" >0.517450</td>\n",
       "      <td id=\"T_95504_row8_col4\" class=\"data row8 col4\" >0.308017</td>\n",
       "      <td id=\"T_95504_row8_col5\" class=\"data row8 col5\" >0.261743</td>\n",
       "      <td id=\"T_95504_row8_col6\" class=\"data row8 col6\" >0.376560</td>\n",
       "      <td id=\"T_95504_row8_col7\" class=\"data row8 col7\" >2.692303</td>\n",
       "      <td id=\"T_95504_row8_col8\" class=\"data row8 col8\" >8.484202</td>\n",
       "    </tr>\n",
       "    <tr>\n",
       "      <th id=\"T_95504_level1_row9\" class=\"row_heading level1 row9\" >D5</th>\n",
       "      <td id=\"T_95504_row9_col0\" class=\"data row9 col0\" >0.499859</td>\n",
       "      <td id=\"T_95504_row9_col1\" class=\"data row9 col1\" >0.326896</td>\n",
       "      <td id=\"T_95504_row9_col2\" class=\"data row9 col2\" >0.147380</td>\n",
       "      <td id=\"T_95504_row9_col3\" class=\"data row9 col3\" >0.389958</td>\n",
       "      <td id=\"T_95504_row9_col4\" class=\"data row9 col4\" >0.266162</td>\n",
       "      <td id=\"T_95504_row9_col5\" class=\"data row9 col5\" >0.204340</td>\n",
       "      <td id=\"T_95504_row9_col6\" class=\"data row9 col6\" >0.836956</td>\n",
       "      <td id=\"T_95504_row9_col7\" class=\"data row9 col7\" >0.950273</td>\n",
       "      <td id=\"T_95504_row9_col8\" class=\"data row9 col8\" >5.980854</td>\n",
       "    </tr>\n",
       "    <tr>\n",
       "      <th id=\"T_95504_level1_row10\" class=\"row_heading level1 row10\" >D6</th>\n",
       "      <td id=\"T_95504_row10_col0\" class=\"data row10 col0\" >0.500000</td>\n",
       "      <td id=\"T_95504_row10_col1\" class=\"data row10 col1\" >0.251982</td>\n",
       "      <td id=\"T_95504_row10_col2\" class=\"data row10 col2\" >0.456342</td>\n",
       "      <td id=\"T_95504_row10_col3\" class=\"data row10 col3\" >0.614462</td>\n",
       "      <td id=\"T_95504_row10_col4\" class=\"data row10 col4\" >0.701291</td>\n",
       "      <td id=\"T_95504_row10_col5\" class=\"data row10 col5\" >0.417475</td>\n",
       "      <td id=\"T_95504_row10_col6\" class=\"data row10 col6\" >1.213679</td>\n",
       "      <td id=\"T_95504_row10_col7\" class=\"data row10 col7\" >2.451943</td>\n",
       "      <td id=\"T_95504_row10_col8\" class=\"data row10 col8\" >14.490414</td>\n",
       "    </tr>\n",
       "    <tr>\n",
       "      <th id=\"T_95504_level1_row11\" class=\"row_heading level1 row11\" >D7</th>\n",
       "      <td id=\"T_95504_row11_col0\" class=\"data row11 col0\" >0.480366</td>\n",
       "      <td id=\"T_95504_row11_col1\" class=\"data row11 col1\" >0.002254</td>\n",
       "      <td id=\"T_95504_row11_col2\" class=\"data row11 col2\" >0.001517</td>\n",
       "      <td id=\"T_95504_row11_col3\" class=\"data row11 col3\" >9.074205</td>\n",
       "      <td id=\"T_95504_row11_col4\" class=\"data row11 col4\" >1.281966</td>\n",
       "      <td id=\"T_95504_row11_col5\" class=\"data row11 col5\" >73.553105</td>\n",
       "      <td id=\"T_95504_row11_col6\" class=\"data row11 col6\" >8942.827292</td>\n",
       "      <td id=\"T_95504_row11_col7\" class=\"data row11 col7\" >0.106958</td>\n",
       "      <td id=\"T_95504_row11_col8\" class=\"data row11 col8\" >0.435572</td>\n",
       "    </tr>\n",
       "    <tr>\n",
       "      <th id=\"T_95504_level0_row12\" class=\"row_heading level0 row12\" rowspan=\"6\">TransFusion</th>\n",
       "      <th id=\"T_95504_level1_row12\" class=\"row_heading level1 row12\" >D2</th>\n",
       "      <td id=\"T_95504_row12_col0\" class=\"data row12 col0\" >0.150000</td>\n",
       "      <td id=\"T_95504_row12_col1\" class=\"data row12 col1\" >0.037576</td>\n",
       "      <td id=\"T_95504_row12_col2\" class=\"data row12 col2\" >0.090272</td>\n",
       "      <td id=\"T_95504_row12_col3\" class=\"data row12 col3\" >0.793641</td>\n",
       "      <td id=\"T_95504_row12_col4\" class=\"data row12 col4\" >0.033649</td>\n",
       "      <td id=\"T_95504_row12_col5\" class=\"data row12 col5\" >0.533438</td>\n",
       "      <td id=\"T_95504_row12_col6\" class=\"data row12 col6\" >2.629961</td>\n",
       "      <td id=\"T_95504_row12_col7\" class=\"data row12 col7\" >1.072507</td>\n",
       "      <td id=\"T_95504_row12_col8\" class=\"data row12 col8\" >2.773607</td>\n",
       "    </tr>\n",
       "    <tr>\n",
       "      <th id=\"T_95504_level1_row13\" class=\"row_heading level1 row13\" >D3</th>\n",
       "      <td id=\"T_95504_row13_col0\" class=\"data row13 col0\" >0.000780</td>\n",
       "      <td id=\"T_95504_row13_col1\" class=\"data row13 col1\" >0.037371</td>\n",
       "      <td id=\"T_95504_row13_col2\" class=\"data row13 col2\" >0.004399</td>\n",
       "      <td id=\"T_95504_row13_col3\" class=\"data row13 col3\" >0.404956</td>\n",
       "      <td id=\"T_95504_row13_col4\" class=\"data row13 col4\" >0.111957</td>\n",
       "      <td id=\"T_95504_row13_col5\" class=\"data row13 col5\" >0.175680</td>\n",
       "      <td id=\"T_95504_row13_col6\" class=\"data row13 col6\" >0.824398</td>\n",
       "      <td id=\"T_95504_row13_col7\" class=\"data row13 col7\" >2.779363</td>\n",
       "      <td id=\"T_95504_row13_col8\" class=\"data row13 col8\" >7.092978</td>\n",
       "    </tr>\n",
       "    <tr>\n",
       "      <th id=\"T_95504_level1_row14\" class=\"row_heading level1 row14\" >D4</th>\n",
       "      <td id=\"T_95504_row14_col0\" class=\"data row14 col0\" >0.059568</td>\n",
       "      <td id=\"T_95504_row14_col1\" class=\"data row14 col1\" >0.049407</td>\n",
       "      <td id=\"T_95504_row14_col2\" class=\"data row14 col2\" >0.011909</td>\n",
       "      <td id=\"T_95504_row14_col3\" class=\"data row14 col3\" >0.291926</td>\n",
       "      <td id=\"T_95504_row14_col4\" class=\"data row14 col4\" >0.038166</td>\n",
       "      <td id=\"T_95504_row14_col5\" class=\"data row14 col5\" >0.118325</td>\n",
       "      <td id=\"T_95504_row14_col6\" class=\"data row14 col6\" >0.242787</td>\n",
       "      <td id=\"T_95504_row14_col7\" class=\"data row14 col7\" >2.833876</td>\n",
       "      <td id=\"T_95504_row14_col8\" class=\"data row14 col8\" >9.034391</td>\n",
       "    </tr>\n",
       "    <tr>\n",
       "      <th id=\"T_95504_level1_row15\" class=\"row_heading level1 row15\" >D5</th>\n",
       "      <td id=\"T_95504_row15_col0\" class=\"data row15 col0\" >0.118625</td>\n",
       "      <td id=\"T_95504_row15_col1\" class=\"data row15 col1\" >0.251417</td>\n",
       "      <td id=\"T_95504_row15_col2\" class=\"data row15 col2\" >0.009846</td>\n",
       "      <td id=\"T_95504_row15_col3\" class=\"data row15 col3\" >0.227218</td>\n",
       "      <td id=\"T_95504_row15_col4\" class=\"data row15 col4\" >0.062980</td>\n",
       "      <td id=\"T_95504_row15_col5\" class=\"data row15 col5\" >0.108366</td>\n",
       "      <td id=\"T_95504_row15_col6\" class=\"data row15 col6\" >0.426964</td>\n",
       "      <td id=\"T_95504_row15_col7\" class=\"data row15 col7\" >1.012462</td>\n",
       "      <td id=\"T_95504_row15_col8\" class=\"data row15 col8\" >6.289462</td>\n",
       "    </tr>\n",
       "    <tr>\n",
       "      <th id=\"T_95504_level1_row16\" class=\"row_heading level1 row16\" >D6</th>\n",
       "      <td id=\"T_95504_row16_col0\" class=\"data row16 col0\" >0.144476</td>\n",
       "      <td id=\"T_95504_row16_col1\" class=\"data row16 col1\" >0.248861</td>\n",
       "      <td id=\"T_95504_row16_col2\" class=\"data row16 col2\" >0.004271</td>\n",
       "      <td id=\"T_95504_row16_col3\" class=\"data row16 col3\" >0.198377</td>\n",
       "      <td id=\"T_95504_row16_col4\" class=\"data row16 col4\" >0.106999</td>\n",
       "      <td id=\"T_95504_row16_col5\" class=\"data row16 col5\" >0.035632</td>\n",
       "      <td id=\"T_95504_row16_col6\" class=\"data row16 col6\" >0.134695</td>\n",
       "      <td id=\"T_95504_row16_col7\" class=\"data row16 col7\" >2.546032</td>\n",
       "      <td id=\"T_95504_row16_col8\" class=\"data row16 col8\" >14.670620</td>\n",
       "    </tr>\n",
       "    <tr>\n",
       "      <th id=\"T_95504_level1_row17\" class=\"row_heading level1 row17\" >D7</th>\n",
       "      <td id=\"T_95504_row17_col0\" class=\"data row17 col0\" >0.202693</td>\n",
       "      <td id=\"T_95504_row17_col1\" class=\"data row17 col1\" >0.000563</td>\n",
       "      <td id=\"T_95504_row17_col2\" class=\"data row17 col2\" >0.000195</td>\n",
       "      <td id=\"T_95504_row17_col3\" class=\"data row17 col3\" >7.928880</td>\n",
       "      <td id=\"T_95504_row17_col4\" class=\"data row17 col4\" >0.182951</td>\n",
       "      <td id=\"T_95504_row17_col5\" class=\"data row17 col5\" >60.550151</td>\n",
       "      <td id=\"T_95504_row17_col6\" class=\"data row17 col6\" >20819.667549</td>\n",
       "      <td id=\"T_95504_row17_col7\" class=\"data row17 col7\" >0.045604</td>\n",
       "      <td id=\"T_95504_row17_col8\" class=\"data row17 col8\" >0.244151</td>\n",
       "    </tr>\n",
       "    <tr>\n",
       "      <th id=\"T_95504_level0_row18\" class=\"row_heading level0 row18\" rowspan=\"6\">TTS-GAN</th>\n",
       "      <th id=\"T_95504_level1_row18\" class=\"row_heading level1 row18\" >D2</th>\n",
       "      <td id=\"T_95504_row18_col0\" class=\"data row18 col0\" >0.000000</td>\n",
       "      <td id=\"T_95504_row18_col1\" class=\"data row18 col1\" >0.051607</td>\n",
       "      <td id=\"T_95504_row18_col2\" class=\"data row18 col2\" >143146263681836288.000000</td>\n",
       "      <td id=\"T_95504_row18_col3\" class=\"data row18 col3\" >1.003476</td>\n",
       "      <td id=\"T_95504_row18_col4\" class=\"data row18 col4\" >4.518805</td>\n",
       "      <td id=\"T_95504_row18_col5\" class=\"data row18 col5\" >1.477441</td>\n",
       "      <td id=\"T_95504_row18_col6\" class=\"data row18 col6\" >3.153213</td>\n",
       "      <td id=\"T_95504_row18_col7\" class=\"data row18 col7\" >159004979.545185</td>\n",
       "      <td id=\"T_95504_row18_col8\" class=\"data row18 col8\" >564876922.230594</td>\n",
       "    </tr>\n",
       "    <tr>\n",
       "      <th id=\"T_95504_level1_row19\" class=\"row_heading level1 row19\" >D3</th>\n",
       "      <td id=\"T_95504_row19_col0\" class=\"data row19 col0\" >0.498440</td>\n",
       "      <td id=\"T_95504_row19_col1\" class=\"data row19 col1\" >0.378110</td>\n",
       "      <td id=\"T_95504_row19_col2\" class=\"data row19 col2\" >335100894172.000671</td>\n",
       "      <td id=\"T_95504_row19_col3\" class=\"data row19 col3\" >1.020235</td>\n",
       "      <td id=\"T_95504_row19_col4\" class=\"data row19 col4\" >7.754373</td>\n",
       "      <td id=\"T_95504_row19_col5\" class=\"data row19 col5\" >1.258643</td>\n",
       "      <td id=\"T_95504_row19_col6\" class=\"data row19 col6\" >3.018282</td>\n",
       "      <td id=\"T_95504_row19_col7\" class=\"data row19 col7\" >1057488.351673</td>\n",
       "      <td id=\"T_95504_row19_col8\" class=\"data row19 col8\" >2698514.172630</td>\n",
       "    </tr>\n",
       "    <tr>\n",
       "      <th id=\"T_95504_level1_row20\" class=\"row_heading level1 row20\" >D4</th>\n",
       "      <td id=\"T_95504_row20_col0\" class=\"data row20 col0\" >0.495905</td>\n",
       "      <td id=\"T_95504_row20_col1\" class=\"data row20 col1\" >0.374939</td>\n",
       "      <td id=\"T_95504_row20_col2\" class=\"data row20 col2\" >100174360900797.281250</td>\n",
       "      <td id=\"T_95504_row20_col3\" class=\"data row20 col3\" >1.013873</td>\n",
       "      <td id=\"T_95504_row20_col4\" class=\"data row20 col4\" >7.850430</td>\n",
       "      <td id=\"T_95504_row20_col5\" class=\"data row20 col5\" >0.330419</td>\n",
       "      <td id=\"T_95504_row20_col6\" class=\"data row20 col6\" >1.880705</td>\n",
       "      <td id=\"T_95504_row20_col7\" class=\"data row20 col7\" >14556070.433453</td>\n",
       "      <td id=\"T_95504_row20_col8\" class=\"data row20 col8\" >42165170.409957</td>\n",
       "    </tr>\n",
       "    <tr>\n",
       "      <th id=\"T_95504_level1_row21\" class=\"row_heading level1 row21\" >D5</th>\n",
       "      <td id=\"T_95504_row21_col0\" class=\"data row21 col0\" >0.500000</td>\n",
       "      <td id=\"T_95504_row21_col1\" class=\"data row21 col1\" >0.445550</td>\n",
       "      <td id=\"T_95504_row21_col2\" class=\"data row21 col2\" >90893933139.454025</td>\n",
       "      <td id=\"T_95504_row21_col3\" class=\"data row21 col3\" >1.010267</td>\n",
       "      <td id=\"T_95504_row21_col4\" class=\"data row21 col4\" >4.522544</td>\n",
       "      <td id=\"T_95504_row21_col5\" class=\"data row21 col5\" >1.396577</td>\n",
       "      <td id=\"T_95504_row21_col6\" class=\"data row21 col6\" >1.732293</td>\n",
       "      <td id=\"T_95504_row21_col7\" class=\"data row21 col7\" >86445.440031</td>\n",
       "      <td id=\"T_95504_row21_col8\" class=\"data row21 col8\" >570004.368520</td>\n",
       "    </tr>\n",
       "    <tr>\n",
       "      <th id=\"T_95504_level1_row22\" class=\"row_heading level1 row22\" >D6</th>\n",
       "      <td id=\"T_95504_row22_col0\" class=\"data row22 col0\" >0.500000</td>\n",
       "      <td id=\"T_95504_row22_col1\" class=\"data row22 col1\" >0.401835</td>\n",
       "      <td id=\"T_95504_row22_col2\" class=\"data row22 col2\" >1410484654002.561523</td>\n",
       "      <td id=\"T_95504_row22_col3\" class=\"data row22 col3\" >1.014350</td>\n",
       "      <td id=\"T_95504_row22_col4\" class=\"data row22 col4\" >6.084712</td>\n",
       "      <td id=\"T_95504_row22_col5\" class=\"data row22 col5\" >0.826237</td>\n",
       "      <td id=\"T_95504_row22_col6\" class=\"data row22 col6\" >1.642648</td>\n",
       "      <td id=\"T_95504_row22_col7\" class=\"data row22 col7\" >1417871.024469</td>\n",
       "      <td id=\"T_95504_row22_col8\" class=\"data row22 col8\" >8334382.671493</td>\n",
       "    </tr>\n",
       "    <tr>\n",
       "      <th id=\"T_95504_level1_row23\" class=\"row_heading level1 row23\" >D7</th>\n",
       "      <td id=\"T_95504_row23_col0\" class=\"data row23 col0\" >0.500000</td>\n",
       "      <td id=\"T_95504_row23_col1\" class=\"data row23 col1\" >0.629734</td>\n",
       "      <td id=\"T_95504_row23_col2\" class=\"data row23 col2\" >258396367661.432343</td>\n",
       "      <td id=\"T_95504_row23_col3\" class=\"data row23 col3\" >7.517625</td>\n",
       "      <td id=\"T_95504_row23_col4\" class=\"data row23 col4\" >3.069357</td>\n",
       "      <td id=\"T_95504_row23_col5\" class=\"data row23 col5\" >73.693896</td>\n",
       "      <td id=\"T_95504_row23_col6\" class=\"data row23 col6\" >8943.578376</td>\n",
       "      <td id=\"T_95504_row23_col7\" class=\"data row23 col7\" >524750.266220</td>\n",
       "      <td id=\"T_95504_row23_col8\" class=\"data row23 col8\" >2057167.399061</td>\n",
       "    </tr>\n",
       "  </tbody>\n",
       "</table>\n"
      ],
      "text/plain": [
       "<pandas.io.formats.style.Styler at 0x7f7cb40d3f50>"
      ]
     },
     "execution_count": 9,
     "metadata": {},
     "output_type": "execute_result"
    }
   ],
   "source": [
    "\n",
    "df.style\\\n",
    "    .background_gradient(cmap=cm, vmin=0, vmax=0.5, subset=[\"DS\", \"PS\"])\\\n",
    "    .background_gradient(cmap=cm, vmin=0, vmax=1, subset=[\"C-FID\"])\\\n",
    "    .background_gradient(cmap=cm, vmin=0, vmax=2, subset=[\"MDD\"])\\\n",
    "    .background_gradient(cmap=cm, vmin=0, vmax=1, subset=[\"ACD\"])\\\n",
    "    .background_gradient(cmap=cm, vmin=0, vmax=1, subset=[\"SD\"])\\\n",
    "    .background_gradient(cmap=cm, vmin=0, vmax=3, subset=[\"KD\"])\\\n",
    "    .background_gradient(cmap=cm, vmin=0, vmax=3, subset=[\"ED\"])\\\n",
    "    .background_gradient(cmap=cm, vmin=0, vmax=15, subset=[\"DTW\"])"
   ]
  },
  {
   "cell_type": "code",
   "execution_count": 19,
   "id": "04a755fc",
   "metadata": {},
   "outputs": [
    {
     "data": {
      "text/html": [
       "<style type=\"text/css\">\n",
       "#T_b70d4_row0_col0, #T_b70d4_row6_col8 {\n",
       "  background-color: #89b78e;\n",
       "  color: #000000;\n",
       "}\n",
       "#T_b70d4_row0_col1, #T_b70d4_row12_col1, #T_b70d4_row13_col1 {\n",
       "  background-color: #54975a;\n",
       "  color: #f1f1f1;\n",
       "}\n",
       "#T_b70d4_row0_col2, #T_b70d4_row5_col7, #T_b70d4_row5_col8, #T_b70d4_row17_col8 {\n",
       "  background-color: #3e8a46;\n",
       "  color: #f1f1f1;\n",
       "}\n",
       "#T_b70d4_row0_col3 {\n",
       "  background-color: #86b58b;\n",
       "  color: #f1f1f1;\n",
       "}\n",
       "#T_b70d4_row0_col4, #T_b70d4_row13_col5 {\n",
       "  background-color: #77ac7c;\n",
       "  color: #f1f1f1;\n",
       "}\n",
       "#T_b70d4_row0_col5 {\n",
       "  background-color: #e7efe8;\n",
       "  color: #000000;\n",
       "}\n",
       "#T_b70d4_row0_col6 {\n",
       "  background-color: #e18aa4;\n",
       "  color: #f1f1f1;\n",
       "}\n",
       "#T_b70d4_row0_col7, #T_b70d4_row12_col3 {\n",
       "  background-color: #c8ddca;\n",
       "  color: #000000;\n",
       "}\n",
       "#T_b70d4_row0_col8, #T_b70d4_row9_col5 {\n",
       "  background-color: #82b387;\n",
       "  color: #f1f1f1;\n",
       "}\n",
       "#T_b70d4_row1_col0 {\n",
       "  background-color: #e5a0b4;\n",
       "  color: #000000;\n",
       "}\n",
       "#T_b70d4_row1_col1 {\n",
       "  background-color: #56985d;\n",
       "  color: #f1f1f1;\n",
       "}\n",
       "#T_b70d4_row1_col2 {\n",
       "  background-color: #4a9151;\n",
       "  color: #f1f1f1;\n",
       "}\n",
       "#T_b70d4_row1_col3, #T_b70d4_row6_col7, #T_b70d4_row7_col8 {\n",
       "  background-color: #d6e5d7;\n",
       "  color: #000000;\n",
       "}\n",
       "#T_b70d4_row1_col4, #T_b70d4_row7_col1, #T_b70d4_row15_col6 {\n",
       "  background-color: #6ca571;\n",
       "  color: #f1f1f1;\n",
       "}\n",
       "#T_b70d4_row1_col5, #T_b70d4_row3_col5, #T_b70d4_row8_col5 {\n",
       "  background-color: #98c09c;\n",
       "  color: #000000;\n",
       "}\n",
       "#T_b70d4_row1_col6 {\n",
       "  background-color: #e28ca5;\n",
       "  color: #f1f1f1;\n",
       "}\n",
       "#T_b70d4_row1_col7 {\n",
       "  background-color: #dc6789;\n",
       "  color: #f1f1f1;\n",
       "}\n",
       "#T_b70d4_row1_col8 {\n",
       "  background-color: #d9e7da;\n",
       "  color: #000000;\n",
       "}\n",
       "#T_b70d4_row2_col0 {\n",
       "  background-color: #8cb991;\n",
       "  color: #000000;\n",
       "}\n",
       "#T_b70d4_row2_col1, #T_b70d4_row9_col4 {\n",
       "  background-color: #99c19d;\n",
       "  color: #000000;\n",
       "}\n",
       "#T_b70d4_row2_col2 {\n",
       "  background-color: #5d9d64;\n",
       "  color: #f1f1f1;\n",
       "}\n",
       "#T_b70d4_row2_col3 {\n",
       "  background-color: #c4dac6;\n",
       "  color: #000000;\n",
       "}\n",
       "#T_b70d4_row2_col4, #T_b70d4_row8_col6 {\n",
       "  background-color: #66a26c;\n",
       "  color: #f1f1f1;\n",
       "}\n",
       "#T_b70d4_row2_col5, #T_b70d4_row9_col3 {\n",
       "  background-color: #7eb083;\n",
       "  color: #f1f1f1;\n",
       "}\n",
       "#T_b70d4_row2_col6 {\n",
       "  background-color: #74aa7a;\n",
       "  color: #f1f1f1;\n",
       "}\n",
       "#T_b70d4_row2_col7 {\n",
       "  background-color: #d74e76;\n",
       "  color: #f1f1f1;\n",
       "}\n",
       "#T_b70d4_row2_col8, #T_b70d4_row14_col8 {\n",
       "  background-color: #ecccd5;\n",
       "  color: #000000;\n",
       "}\n",
       "#T_b70d4_row3_col0, #T_b70d4_row14_col7 {\n",
       "  background-color: #d85078;\n",
       "  color: #f1f1f1;\n",
       "}\n",
       "#T_b70d4_row3_col1 {\n",
       "  background-color: #eed9df;\n",
       "  color: #000000;\n",
       "}\n",
       "#T_b70d4_row3_col2 {\n",
       "  background-color: #70a876;\n",
       "  color: #f1f1f1;\n",
       "}\n",
       "#T_b70d4_row3_col3 {\n",
       "  background-color: #7caf82;\n",
       "  color: #f1f1f1;\n",
       "}\n",
       "#T_b70d4_row3_col4 {\n",
       "  background-color: #dce9dd;\n",
       "  color: #000000;\n",
       "}\n",
       "#T_b70d4_row3_col6, #T_b70d4_row15_col7 {\n",
       "  background-color: #b3d0b6;\n",
       "  color: #000000;\n",
       "}\n",
       "#T_b70d4_row3_col7 {\n",
       "  background-color: #b8d3bb;\n",
       "  color: #000000;\n",
       "}\n",
       "#T_b70d4_row3_col8 {\n",
       "  background-color: #d5e4d6;\n",
       "  color: #000000;\n",
       "}\n",
       "#T_b70d4_row4_col0, #T_b70d4_row4_col4, #T_b70d4_row5_col3, #T_b70d4_row5_col4, #T_b70d4_row5_col5, #T_b70d4_row5_col6, #T_b70d4_row9_col0, #T_b70d4_row10_col0, #T_b70d4_row11_col3, #T_b70d4_row11_col4, #T_b70d4_row11_col5, #T_b70d4_row11_col6, #T_b70d4_row17_col3, #T_b70d4_row17_col5, #T_b70d4_row17_col6 {\n",
       "  background-color: #d53d69;\n",
       "  color: #f1f1f1;\n",
       "}\n",
       "#T_b70d4_row4_col1 {\n",
       "  background-color: #ebc6d1;\n",
       "  color: #000000;\n",
       "}\n",
       "#T_b70d4_row4_col2 {\n",
       "  background-color: #eac1cd;\n",
       "  color: #000000;\n",
       "}\n",
       "#T_b70d4_row4_col3 {\n",
       "  background-color: #bed7c0;\n",
       "  color: #000000;\n",
       "}\n",
       "#T_b70d4_row4_col5 {\n",
       "  background-color: #f0e0e4;\n",
       "  color: #000000;\n",
       "}\n",
       "#T_b70d4_row4_col6, #T_b70d4_row8_col4, #T_b70d4_row10_col3 {\n",
       "  background-color: #a8c9ab;\n",
       "  color: #000000;\n",
       "}\n",
       "#T_b70d4_row4_col7 {\n",
       "  background-color: #dc6b8c;\n",
       "  color: #f1f1f1;\n",
       "}\n",
       "#T_b70d4_row4_col8 {\n",
       "  background-color: #d6426e;\n",
       "  color: #f1f1f1;\n",
       "}\n",
       "#T_b70d4_row5_col0 {\n",
       "  background-color: #408b48;\n",
       "  color: #f1f1f1;\n",
       "}\n",
       "#T_b70d4_row5_col1, #T_b70d4_row5_col2, #T_b70d4_row11_col2, #T_b70d4_row13_col0, #T_b70d4_row17_col1, #T_b70d4_row17_col2 {\n",
       "  background-color: #398641;\n",
       "  color: #f1f1f1;\n",
       "}\n",
       "#T_b70d4_row6_col0 {\n",
       "  background-color: #ebc2ce;\n",
       "  color: #000000;\n",
       "}\n",
       "#T_b70d4_row6_col1 {\n",
       "  background-color: #75ab7b;\n",
       "  color: #f1f1f1;\n",
       "}\n",
       "#T_b70d4_row6_col2, #T_b70d4_row8_col3 {\n",
       "  background-color: #97bf9b;\n",
       "  color: #000000;\n",
       "}\n",
       "#T_b70d4_row6_col3 {\n",
       "  background-color: #aacbae;\n",
       "  color: #000000;\n",
       "}\n",
       "#T_b70d4_row6_col4, #T_b70d4_row8_col0 {\n",
       "  background-color: #92bc96;\n",
       "  color: #000000;\n",
       "}\n",
       "#T_b70d4_row6_col5 {\n",
       "  background-color: #edd0d8;\n",
       "  color: #000000;\n",
       "}\n",
       "#T_b70d4_row6_col6 {\n",
       "  background-color: #de7795;\n",
       "  color: #f1f1f1;\n",
       "}\n",
       "#T_b70d4_row7_col0 {\n",
       "  background-color: #ebc5d0;\n",
       "  color: #000000;\n",
       "}\n",
       "#T_b70d4_row7_col2 {\n",
       "  background-color: #78ad7e;\n",
       "  color: #f1f1f1;\n",
       "}\n",
       "#T_b70d4_row7_col3 {\n",
       "  background-color: #c0d8c2;\n",
       "  color: #000000;\n",
       "}\n",
       "#T_b70d4_row7_col4 {\n",
       "  background-color: #e8f0e9;\n",
       "  color: #000000;\n",
       "}\n",
       "#T_b70d4_row7_col5 {\n",
       "  background-color: #f1eaec;\n",
       "  color: #000000;\n",
       "}\n",
       "#T_b70d4_row7_col6 {\n",
       "  background-color: #d5416d;\n",
       "  color: #f1f1f1;\n",
       "}\n",
       "#T_b70d4_row7_col7 {\n",
       "  background-color: #dd7191;\n",
       "  color: #f1f1f1;\n",
       "}\n",
       "#T_b70d4_row8_col1 {\n",
       "  background-color: #67a26d;\n",
       "  color: #f1f1f1;\n",
       "}\n",
       "#T_b70d4_row8_col2, #T_b70d4_row16_col6 {\n",
       "  background-color: #489050;\n",
       "  color: #f1f1f1;\n",
       "}\n",
       "#T_b70d4_row8_col7 {\n",
       "  background-color: #db6185;\n",
       "  color: #f1f1f1;\n",
       "}\n",
       "#T_b70d4_row8_col8 {\n",
       "  background-color: #efdae0;\n",
       "  color: #000000;\n",
       "}\n",
       "#T_b70d4_row9_col1 {\n",
       "  background-color: #e9bac7;\n",
       "  color: #000000;\n",
       "}\n",
       "#T_b70d4_row9_col2, #T_b70d4_row14_col3 {\n",
       "  background-color: #6da673;\n",
       "  color: #f1f1f1;\n",
       "}\n",
       "#T_b70d4_row9_col6 {\n",
       "  background-color: #9ec3a1;\n",
       "  color: #000000;\n",
       "}\n",
       "#T_b70d4_row9_col7 {\n",
       "  background-color: #acccaf;\n",
       "  color: #000000;\n",
       "}\n",
       "#T_b70d4_row9_col8 {\n",
       "  background-color: #c9decb;\n",
       "  color: #000000;\n",
       "}\n",
       "#T_b70d4_row10_col1 {\n",
       "  background-color: #f2eff0;\n",
       "  color: #000000;\n",
       "}\n",
       "#T_b70d4_row10_col2 {\n",
       "  background-color: #dde9de;\n",
       "  color: #000000;\n",
       "}\n",
       "#T_b70d4_row10_col4 {\n",
       "  background-color: #e6a9bb;\n",
       "  color: #000000;\n",
       "}\n",
       "#T_b70d4_row10_col5 {\n",
       "  background-color: #cfe1d1;\n",
       "  color: #000000;\n",
       "}\n",
       "#T_b70d4_row10_col6, #T_b70d4_row17_col0 {\n",
       "  background-color: #cbdecd;\n",
       "  color: #000000;\n",
       "}\n",
       "#T_b70d4_row10_col7 {\n",
       "  background-color: #df7e9a;\n",
       "  color: #f1f1f1;\n",
       "}\n",
       "#T_b70d4_row10_col8 {\n",
       "  background-color: #d74872;\n",
       "  color: #f1f1f1;\n",
       "}\n",
       "#T_b70d4_row11_col0 {\n",
       "  background-color: #d74b74;\n",
       "  color: #f1f1f1;\n",
       "}\n",
       "#T_b70d4_row11_col1, #T_b70d4_row13_col2, #T_b70d4_row16_col2 {\n",
       "  background-color: #3a8742;\n",
       "  color: #f1f1f1;\n",
       "}\n",
       "#T_b70d4_row11_col7, #T_b70d4_row14_col4, #T_b70d4_row16_col5 {\n",
       "  background-color: #458e4d;\n",
       "  color: #f1f1f1;\n",
       "}\n",
       "#T_b70d4_row11_col8 {\n",
       "  background-color: #438c4a;\n",
       "  color: #f1f1f1;\n",
       "}\n",
       "#T_b70d4_row12_col0 {\n",
       "  background-color: #a5c7a8;\n",
       "  color: #000000;\n",
       "}\n",
       "#T_b70d4_row12_col2 {\n",
       "  background-color: #599a60;\n",
       "  color: #f1f1f1;\n",
       "}\n",
       "#T_b70d4_row12_col4 {\n",
       "  background-color: #448d4c;\n",
       "  color: #f1f1f1;\n",
       "}\n",
       "#T_b70d4_row12_col5 {\n",
       "  background-color: #f1e5e8;\n",
       "  color: #000000;\n",
       "}\n",
       "#T_b70d4_row12_col6 {\n",
       "  background-color: #dc688a;\n",
       "  color: #f1f1f1;\n",
       "}\n",
       "#T_b70d4_row12_col7 {\n",
       "  background-color: #bad4bc;\n",
       "  color: #000000;\n",
       "}\n",
       "#T_b70d4_row12_col8 {\n",
       "  background-color: #7bae80;\n",
       "  color: #f1f1f1;\n",
       "}\n",
       "#T_b70d4_row13_col3 {\n",
       "  background-color: #81b286;\n",
       "  color: #f1f1f1;\n",
       "}\n",
       "#T_b70d4_row13_col4 {\n",
       "  background-color: #609e67;\n",
       "  color: #f1f1f1;\n",
       "}\n",
       "#T_b70d4_row13_col6 {\n",
       "  background-color: #9cc2a0;\n",
       "  color: #000000;\n",
       "}\n",
       "#T_b70d4_row13_col7 {\n",
       "  background-color: #d9567d;\n",
       "  color: #f1f1f1;\n",
       "}\n",
       "#T_b70d4_row13_col8 {\n",
       "  background-color: #e4eee5;\n",
       "  color: #000000;\n",
       "}\n",
       "#T_b70d4_row14_col0, #T_b70d4_row14_col5 {\n",
       "  background-color: #63a069;\n",
       "  color: #f1f1f1;\n",
       "}\n",
       "#T_b70d4_row14_col1, #T_b70d4_row16_col3 {\n",
       "  background-color: #5c9c63;\n",
       "  color: #f1f1f1;\n",
       "}\n",
       "#T_b70d4_row14_col2, #T_b70d4_row17_col7 {\n",
       "  background-color: #3d8945;\n",
       "  color: #f1f1f1;\n",
       "}\n",
       "#T_b70d4_row14_col6 {\n",
       "  background-color: #55975c;\n",
       "  color: #f1f1f1;\n",
       "}\n",
       "#T_b70d4_row15_col0 {\n",
       "  background-color: #8db992;\n",
       "  color: #000000;\n",
       "}\n",
       "#T_b70d4_row15_col1 {\n",
       "  background-color: #f2f1f1;\n",
       "  color: #000000;\n",
       "}\n",
       "#T_b70d4_row15_col2 {\n",
       "  background-color: #3c8844;\n",
       "  color: #f1f1f1;\n",
       "}\n",
       "#T_b70d4_row15_col3 {\n",
       "  background-color: #629f68;\n",
       "  color: #f1f1f1;\n",
       "}\n",
       "#T_b70d4_row15_col4 {\n",
       "  background-color: #4f9456;\n",
       "  color: #f1f1f1;\n",
       "}\n",
       "#T_b70d4_row15_col5, #T_b70d4_row16_col4 {\n",
       "  background-color: #5f9d65;\n",
       "  color: #f1f1f1;\n",
       "}\n",
       "#T_b70d4_row15_col8 {\n",
       "  background-color: #d0e2d2;\n",
       "  color: #000000;\n",
       "}\n",
       "#T_b70d4_row16_col0 {\n",
       "  background-color: #a0c5a4;\n",
       "  color: #000000;\n",
       "}\n",
       "#T_b70d4_row16_col1 {\n",
       "  background-color: #eff2ef;\n",
       "  color: #000000;\n",
       "}\n",
       "#T_b70d4_row16_col7 {\n",
       "  background-color: #de7292;\n",
       "  color: #f1f1f1;\n",
       "}\n",
       "#T_b70d4_row16_col8 {\n",
       "  background-color: #d6446f;\n",
       "  color: #f1f1f1;\n",
       "}\n",
       "#T_b70d4_row17_col4 {\n",
       "  background-color: #7aae7f;\n",
       "  color: #f1f1f1;\n",
       "}\n",
       "</style>\n",
       "<table id=\"T_b70d4_\">\n",
       "  <thead>\n",
       "    <tr>\n",
       "      <th class=\"blank\" >&nbsp;</th>\n",
       "      <th class=\"blank level0\" >&nbsp;</th>\n",
       "      <th class=\"col_heading level0 col0\" >DS</th>\n",
       "      <th class=\"col_heading level0 col1\" >PS</th>\n",
       "      <th class=\"col_heading level0 col2\" >C-FID</th>\n",
       "      <th class=\"col_heading level0 col3\" >MDD</th>\n",
       "      <th class=\"col_heading level0 col4\" >ACD</th>\n",
       "      <th class=\"col_heading level0 col5\" >SD</th>\n",
       "      <th class=\"col_heading level0 col6\" >KD</th>\n",
       "      <th class=\"col_heading level0 col7\" >ED</th>\n",
       "      <th class=\"col_heading level0 col8\" >DTW</th>\n",
       "    </tr>\n",
       "    <tr>\n",
       "      <th class=\"index_name level0\" >Method</th>\n",
       "      <th class=\"index_name level1\" >Dataset</th>\n",
       "      <th class=\"blank col0\" >&nbsp;</th>\n",
       "      <th class=\"blank col1\" >&nbsp;</th>\n",
       "      <th class=\"blank col2\" >&nbsp;</th>\n",
       "      <th class=\"blank col3\" >&nbsp;</th>\n",
       "      <th class=\"blank col4\" >&nbsp;</th>\n",
       "      <th class=\"blank col5\" >&nbsp;</th>\n",
       "      <th class=\"blank col6\" >&nbsp;</th>\n",
       "      <th class=\"blank col7\" >&nbsp;</th>\n",
       "      <th class=\"blank col8\" >&nbsp;</th>\n",
       "    </tr>\n",
       "  </thead>\n",
       "  <tbody>\n",
       "    <tr>\n",
       "      <th id=\"T_b70d4_level0_row0\" class=\"row_heading level0 row0\" rowspan=\"6\">TimeGAN</th>\n",
       "      <th id=\"T_b70d4_level1_row0\" class=\"row_heading level1 row0\" >D2</th>\n",
       "      <td id=\"T_b70d4_row0_col0\" class=\"data row0 col0\" >0.112879</td>\n",
       "      <td id=\"T_b70d4_row0_col1\" class=\"data row0 col1\" >0.038129</td>\n",
       "      <td id=\"T_b70d4_row0_col2\" class=\"data row0 col2\" >0.019055</td>\n",
       "      <td id=\"T_b70d4_row0_col3\" class=\"data row0 col3\" >0.434670</td>\n",
       "      <td id=\"T_b70d4_row0_col4\" class=\"data row0 col4\" >0.171891</td>\n",
       "      <td id=\"T_b70d4_row0_col5\" class=\"data row0 col5\" >0.482856</td>\n",
       "      <td id=\"T_b70d4_row0_col6\" class=\"data row0 col6\" >2.351818</td>\n",
       "      <td id=\"T_b70d4_row0_col7\" class=\"data row0 col7\" >1.189109</td>\n",
       "      <td id=\"T_b70d4_row0_col8\" class=\"data row0 col8\" >3.068079</td>\n",
       "    </tr>\n",
       "    <tr>\n",
       "      <th id=\"T_b70d4_level1_row1\" class=\"row_heading level1 row1\" >D3</th>\n",
       "      <td id=\"T_b70d4_row1_col0\" class=\"data row1 col0\" >0.362715</td>\n",
       "      <td id=\"T_b70d4_row1_col1\" class=\"data row1 col1\" >0.041257</td>\n",
       "      <td id=\"T_b70d4_row1_col2\" class=\"data row1 col2\" >0.050287</td>\n",
       "      <td id=\"T_b70d4_row1_col3\" class=\"data row1 col3\" >0.870274</td>\n",
       "      <td id=\"T_b70d4_row1_col4\" class=\"data row1 col4\" >0.143190</td>\n",
       "      <td id=\"T_b70d4_row1_col5\" class=\"data row1 col5\" >0.262877</td>\n",
       "      <td id=\"T_b70d4_row1_col6\" class=\"data row1 col6\" >2.341035</td>\n",
       "      <td id=\"T_b70d4_row1_col7\" class=\"data row1 col7\" >2.646002</td>\n",
       "      <td id=\"T_b70d4_row1_col8\" class=\"data row1 col8\" >6.679519</td>\n",
       "    </tr>\n",
       "    <tr>\n",
       "      <th id=\"T_b70d4_level1_row2\" class=\"row_heading level1 row2\" >D4</th>\n",
       "      <td id=\"T_b70d4_row2_col0\" class=\"data row2 col0\" >0.116530</td>\n",
       "      <td id=\"T_b70d4_row2_col1\" class=\"data row2 col1\" >0.133363</td>\n",
       "      <td id=\"T_b70d4_row2_col2\" class=\"data row2 col2\" >0.105101</td>\n",
       "      <td id=\"T_b70d4_row2_col3\" class=\"data row2 col3\" >0.766039</td>\n",
       "      <td id=\"T_b70d4_row2_col4\" class=\"data row2 col4\" >0.127232</td>\n",
       "      <td id=\"T_b70d4_row2_col5\" class=\"data row2 col5\" >0.194281</td>\n",
       "      <td id=\"T_b70d4_row2_col6\" class=\"data row2 col6\" >0.496604</td>\n",
       "      <td id=\"T_b70d4_row2_col7\" class=\"data row2 col7\" >2.857787</td>\n",
       "      <td id=\"T_b70d4_row2_col8\" class=\"data row2 col8\" >9.064095</td>\n",
       "    </tr>\n",
       "    <tr>\n",
       "      <th id=\"T_b70d4_level1_row3\" class=\"row_heading level1 row3\" >D5</th>\n",
       "      <td id=\"T_b70d4_row3_col0\" class=\"data row3 col0\" >0.472527</td>\n",
       "      <td id=\"T_b70d4_row3_col1\" class=\"data row3 col1\" >0.285059</td>\n",
       "      <td id=\"T_b70d4_row3_col2\" class=\"data row3 col2\" >0.154532</td>\n",
       "      <td id=\"T_b70d4_row3_col3\" class=\"data row3 col3\" >0.382266</td>\n",
       "      <td id=\"T_b70d4_row3_col4\" class=\"data row3 col4\" >0.451997</td>\n",
       "      <td id=\"T_b70d4_row3_col5\" class=\"data row3 col5\" >0.263064</td>\n",
       "      <td id=\"T_b70d4_row3_col6\" class=\"data row3 col6\" >1.007865</td>\n",
       "      <td id=\"T_b70d4_row3_col7\" class=\"data row3 col7\" >1.057500</td>\n",
       "      <td id=\"T_b70d4_row3_col8\" class=\"data row3 col8\" >6.458857</td>\n",
       "    </tr>\n",
       "    <tr>\n",
       "      <th id=\"T_b70d4_level1_row4\" class=\"row_heading level1 row4\" >D6</th>\n",
       "      <td id=\"T_b70d4_row4_col0\" class=\"data row4 col0\" >0.500000</td>\n",
       "      <td id=\"T_b70d4_row4_col1\" class=\"data row4 col1\" >0.309733</td>\n",
       "      <td id=\"T_b70d4_row4_col2\" class=\"data row4 col2\" >0.635030</td>\n",
       "      <td id=\"T_b70d4_row4_col3\" class=\"data row4 col3\" >0.741083</td>\n",
       "      <td id=\"T_b70d4_row4_col4\" class=\"data row4 col4\" >2.335000</td>\n",
       "      <td id=\"T_b70d4_row4_col5\" class=\"data row4 col5\" >0.547243</td>\n",
       "      <td id=\"T_b70d4_row4_col6\" class=\"data row4 col6\" >0.918373</td>\n",
       "      <td id=\"T_b70d4_row4_col7\" class=\"data row4 col7\" >2.610278</td>\n",
       "      <td id=\"T_b70d4_row4_col8\" class=\"data row4 col8\" >14.721798</td>\n",
       "    </tr>\n",
       "    <tr>\n",
       "      <th id=\"T_b70d4_level1_row5\" class=\"row_heading level1 row5\" >D7</th>\n",
       "      <td id=\"T_b70d4_row5_col0\" class=\"data row5 col0\" >0.011219</td>\n",
       "      <td id=\"T_b70d4_row5_col1\" class=\"data row5 col1\" >0.000890</td>\n",
       "      <td id=\"T_b70d4_row5_col2\" class=\"data row5 col2\" >0.000891</td>\n",
       "      <td id=\"T_b70d4_row5_col3\" class=\"data row5 col3\" >2.217216</td>\n",
       "      <td id=\"T_b70d4_row5_col4\" class=\"data row5 col4\" >1.864680</td>\n",
       "      <td id=\"T_b70d4_row5_col5\" class=\"data row5 col5\" >73.477606</td>\n",
       "      <td id=\"T_b70d4_row5_col6\" class=\"data row5 col6\" >8942.861949</td>\n",
       "      <td id=\"T_b70d4_row5_col7\" class=\"data row5 col7\" >0.050241</td>\n",
       "      <td id=\"T_b70d4_row5_col8\" class=\"data row5 col8\" >0.255532</td>\n",
       "    </tr>\n",
       "    <tr>\n",
       "      <th id=\"T_b70d4_level0_row6\" class=\"row_heading level0 row6\" rowspan=\"6\">Time-Transformer</th>\n",
       "      <th id=\"T_b70d4_level1_row6\" class=\"row_heading level1 row6\" >D2</th>\n",
       "      <td id=\"T_b70d4_row6_col0\" class=\"data row6 col0\" >0.315152</td>\n",
       "      <td id=\"T_b70d4_row6_col1\" class=\"data row6 col1\" >0.085012</td>\n",
       "      <td id=\"T_b70d4_row6_col2\" class=\"data row6 col2\" >0.258219</td>\n",
       "      <td id=\"T_b70d4_row6_col3\" class=\"data row6 col3\" >0.627615</td>\n",
       "      <td id=\"T_b70d4_row6_col4\" class=\"data row6 col4\" >0.247822</td>\n",
       "      <td id=\"T_b70d4_row6_col5\" class=\"data row6 col5\" >0.592418</td>\n",
       "      <td id=\"T_b70d4_row6_col6\" class=\"data row6 col6\" >2.517755</td>\n",
       "      <td id=\"T_b70d4_row6_col7\" class=\"data row6 col7\" >1.307718</td>\n",
       "      <td id=\"T_b70d4_row6_col8\" class=\"data row6 col8\" >3.375031</td>\n",
       "    </tr>\n",
       "    <tr>\n",
       "      <th id=\"T_b70d4_level1_row7\" class=\"row_heading level1 row7\" >D3</th>\n",
       "      <td id=\"T_b70d4_row7_col0\" class=\"data row7 col0\" >0.312012</td>\n",
       "      <td id=\"T_b70d4_row7_col1\" class=\"data row7 col1\" >0.072252</td>\n",
       "      <td id=\"T_b70d4_row7_col2\" class=\"data row7 col2\" >0.177665</td>\n",
       "      <td id=\"T_b70d4_row7_col3\" class=\"data row7 col3\" >0.747522</td>\n",
       "      <td id=\"T_b70d4_row7_col4\" class=\"data row7 col4\" >0.486708</td>\n",
       "      <td id=\"T_b70d4_row7_col5\" class=\"data row7 col5\" >0.522732</td>\n",
       "      <td id=\"T_b70d4_row7_col6\" class=\"data row7 col6\" >2.953833</td>\n",
       "      <td id=\"T_b70d4_row7_col7\" class=\"data row7 col7\" >2.561868</td>\n",
       "      <td id=\"T_b70d4_row7_col8\" class=\"data row7 col8\" >6.510620</td>\n",
       "    </tr>\n",
       "    <tr>\n",
       "      <th id=\"T_b70d4_level1_row8\" class=\"row_heading level1 row8\" >D4</th>\n",
       "      <td id=\"T_b70d4_row8_col0\" class=\"data row8 col0\" >0.124348</td>\n",
       "      <td id=\"T_b70d4_row8_col1\" class=\"data row8 col1\" >0.066113</td>\n",
       "      <td id=\"T_b70d4_row8_col2\" class=\"data row8 col2\" >0.045602</td>\n",
       "      <td id=\"T_b70d4_row8_col3\" class=\"data row8 col3\" >0.517450</td>\n",
       "      <td id=\"T_b70d4_row8_col4\" class=\"data row8 col4\" >0.308017</td>\n",
       "      <td id=\"T_b70d4_row8_col5\" class=\"data row8 col5\" >0.261743</td>\n",
       "      <td id=\"T_b70d4_row8_col6\" class=\"data row8 col6\" >0.376560</td>\n",
       "      <td id=\"T_b70d4_row8_col7\" class=\"data row8 col7\" >2.692303</td>\n",
       "      <td id=\"T_b70d4_row8_col8\" class=\"data row8 col8\" >8.484202</td>\n",
       "    </tr>\n",
       "    <tr>\n",
       "      <th id=\"T_b70d4_level1_row9\" class=\"row_heading level1 row9\" >D5</th>\n",
       "      <td id=\"T_b70d4_row9_col0\" class=\"data row9 col0\" >0.499859</td>\n",
       "      <td id=\"T_b70d4_row9_col1\" class=\"data row9 col1\" >0.326896</td>\n",
       "      <td id=\"T_b70d4_row9_col2\" class=\"data row9 col2\" >0.147380</td>\n",
       "      <td id=\"T_b70d4_row9_col3\" class=\"data row9 col3\" >0.389958</td>\n",
       "      <td id=\"T_b70d4_row9_col4\" class=\"data row9 col4\" >0.266162</td>\n",
       "      <td id=\"T_b70d4_row9_col5\" class=\"data row9 col5\" >0.204340</td>\n",
       "      <td id=\"T_b70d4_row9_col6\" class=\"data row9 col6\" >0.836956</td>\n",
       "      <td id=\"T_b70d4_row9_col7\" class=\"data row9 col7\" >0.950273</td>\n",
       "      <td id=\"T_b70d4_row9_col8\" class=\"data row9 col8\" >5.980854</td>\n",
       "    </tr>\n",
       "    <tr>\n",
       "      <th id=\"T_b70d4_level1_row10\" class=\"row_heading level1 row10\" >D6</th>\n",
       "      <td id=\"T_b70d4_row10_col0\" class=\"data row10 col0\" >0.500000</td>\n",
       "      <td id=\"T_b70d4_row10_col1\" class=\"data row10 col1\" >0.251982</td>\n",
       "      <td id=\"T_b70d4_row10_col2\" class=\"data row10 col2\" >0.456342</td>\n",
       "      <td id=\"T_b70d4_row10_col3\" class=\"data row10 col3\" >0.614462</td>\n",
       "      <td id=\"T_b70d4_row10_col4\" class=\"data row10 col4\" >0.701291</td>\n",
       "      <td id=\"T_b70d4_row10_col5\" class=\"data row10 col5\" >0.417475</td>\n",
       "      <td id=\"T_b70d4_row10_col6\" class=\"data row10 col6\" >1.213679</td>\n",
       "      <td id=\"T_b70d4_row10_col7\" class=\"data row10 col7\" >2.451943</td>\n",
       "      <td id=\"T_b70d4_row10_col8\" class=\"data row10 col8\" >14.490414</td>\n",
       "    </tr>\n",
       "    <tr>\n",
       "      <th id=\"T_b70d4_level1_row11\" class=\"row_heading level1 row11\" >D7</th>\n",
       "      <td id=\"T_b70d4_row11_col0\" class=\"data row11 col0\" >0.480366</td>\n",
       "      <td id=\"T_b70d4_row11_col1\" class=\"data row11 col1\" >0.002254</td>\n",
       "      <td id=\"T_b70d4_row11_col2\" class=\"data row11 col2\" >0.001517</td>\n",
       "      <td id=\"T_b70d4_row11_col3\" class=\"data row11 col3\" >9.074205</td>\n",
       "      <td id=\"T_b70d4_row11_col4\" class=\"data row11 col4\" >1.281966</td>\n",
       "      <td id=\"T_b70d4_row11_col5\" class=\"data row11 col5\" >73.553105</td>\n",
       "      <td id=\"T_b70d4_row11_col6\" class=\"data row11 col6\" >8942.827292</td>\n",
       "      <td id=\"T_b70d4_row11_col7\" class=\"data row11 col7\" >0.106958</td>\n",
       "      <td id=\"T_b70d4_row11_col8\" class=\"data row11 col8\" >0.435572</td>\n",
       "    </tr>\n",
       "    <tr>\n",
       "      <th id=\"T_b70d4_level0_row12\" class=\"row_heading level0 row12\" rowspan=\"6\">TransFusion</th>\n",
       "      <th id=\"T_b70d4_level1_row12\" class=\"row_heading level1 row12\" >D2</th>\n",
       "      <td id=\"T_b70d4_row12_col0\" class=\"data row12 col0\" >0.150000</td>\n",
       "      <td id=\"T_b70d4_row12_col1\" class=\"data row12 col1\" >0.037576</td>\n",
       "      <td id=\"T_b70d4_row12_col2\" class=\"data row12 col2\" >0.090272</td>\n",
       "      <td id=\"T_b70d4_row12_col3\" class=\"data row12 col3\" >0.793641</td>\n",
       "      <td id=\"T_b70d4_row12_col4\" class=\"data row12 col4\" >0.033649</td>\n",
       "      <td id=\"T_b70d4_row12_col5\" class=\"data row12 col5\" >0.533438</td>\n",
       "      <td id=\"T_b70d4_row12_col6\" class=\"data row12 col6\" >2.629961</td>\n",
       "      <td id=\"T_b70d4_row12_col7\" class=\"data row12 col7\" >1.072507</td>\n",
       "      <td id=\"T_b70d4_row12_col8\" class=\"data row12 col8\" >2.773607</td>\n",
       "    </tr>\n",
       "    <tr>\n",
       "      <th id=\"T_b70d4_level1_row13\" class=\"row_heading level1 row13\" >D3</th>\n",
       "      <td id=\"T_b70d4_row13_col0\" class=\"data row13 col0\" >0.000780</td>\n",
       "      <td id=\"T_b70d4_row13_col1\" class=\"data row13 col1\" >0.037371</td>\n",
       "      <td id=\"T_b70d4_row13_col2\" class=\"data row13 col2\" >0.004399</td>\n",
       "      <td id=\"T_b70d4_row13_col3\" class=\"data row13 col3\" >0.404956</td>\n",
       "      <td id=\"T_b70d4_row13_col4\" class=\"data row13 col4\" >0.111957</td>\n",
       "      <td id=\"T_b70d4_row13_col5\" class=\"data row13 col5\" >0.175680</td>\n",
       "      <td id=\"T_b70d4_row13_col6\" class=\"data row13 col6\" >0.824398</td>\n",
       "      <td id=\"T_b70d4_row13_col7\" class=\"data row13 col7\" >2.779363</td>\n",
       "      <td id=\"T_b70d4_row13_col8\" class=\"data row13 col8\" >7.092978</td>\n",
       "    </tr>\n",
       "    <tr>\n",
       "      <th id=\"T_b70d4_level1_row14\" class=\"row_heading level1 row14\" >D4</th>\n",
       "      <td id=\"T_b70d4_row14_col0\" class=\"data row14 col0\" >0.059568</td>\n",
       "      <td id=\"T_b70d4_row14_col1\" class=\"data row14 col1\" >0.049407</td>\n",
       "      <td id=\"T_b70d4_row14_col2\" class=\"data row14 col2\" >0.011909</td>\n",
       "      <td id=\"T_b70d4_row14_col3\" class=\"data row14 col3\" >0.291926</td>\n",
       "      <td id=\"T_b70d4_row14_col4\" class=\"data row14 col4\" >0.038166</td>\n",
       "      <td id=\"T_b70d4_row14_col5\" class=\"data row14 col5\" >0.118325</td>\n",
       "      <td id=\"T_b70d4_row14_col6\" class=\"data row14 col6\" >0.242787</td>\n",
       "      <td id=\"T_b70d4_row14_col7\" class=\"data row14 col7\" >2.833876</td>\n",
       "      <td id=\"T_b70d4_row14_col8\" class=\"data row14 col8\" >9.034391</td>\n",
       "    </tr>\n",
       "    <tr>\n",
       "      <th id=\"T_b70d4_level1_row15\" class=\"row_heading level1 row15\" >D5</th>\n",
       "      <td id=\"T_b70d4_row15_col0\" class=\"data row15 col0\" >0.118625</td>\n",
       "      <td id=\"T_b70d4_row15_col1\" class=\"data row15 col1\" >0.251417</td>\n",
       "      <td id=\"T_b70d4_row15_col2\" class=\"data row15 col2\" >0.009846</td>\n",
       "      <td id=\"T_b70d4_row15_col3\" class=\"data row15 col3\" >0.227218</td>\n",
       "      <td id=\"T_b70d4_row15_col4\" class=\"data row15 col4\" >0.062980</td>\n",
       "      <td id=\"T_b70d4_row15_col5\" class=\"data row15 col5\" >0.108366</td>\n",
       "      <td id=\"T_b70d4_row15_col6\" class=\"data row15 col6\" >0.426964</td>\n",
       "      <td id=\"T_b70d4_row15_col7\" class=\"data row15 col7\" >1.012462</td>\n",
       "      <td id=\"T_b70d4_row15_col8\" class=\"data row15 col8\" >6.289462</td>\n",
       "    </tr>\n",
       "    <tr>\n",
       "      <th id=\"T_b70d4_level1_row16\" class=\"row_heading level1 row16\" >D6</th>\n",
       "      <td id=\"T_b70d4_row16_col0\" class=\"data row16 col0\" >0.144476</td>\n",
       "      <td id=\"T_b70d4_row16_col1\" class=\"data row16 col1\" >0.248861</td>\n",
       "      <td id=\"T_b70d4_row16_col2\" class=\"data row16 col2\" >0.004271</td>\n",
       "      <td id=\"T_b70d4_row16_col3\" class=\"data row16 col3\" >0.198377</td>\n",
       "      <td id=\"T_b70d4_row16_col4\" class=\"data row16 col4\" >0.106999</td>\n",
       "      <td id=\"T_b70d4_row16_col5\" class=\"data row16 col5\" >0.035632</td>\n",
       "      <td id=\"T_b70d4_row16_col6\" class=\"data row16 col6\" >0.134695</td>\n",
       "      <td id=\"T_b70d4_row16_col7\" class=\"data row16 col7\" >2.546032</td>\n",
       "      <td id=\"T_b70d4_row16_col8\" class=\"data row16 col8\" >14.670620</td>\n",
       "    </tr>\n",
       "    <tr>\n",
       "      <th id=\"T_b70d4_level1_row17\" class=\"row_heading level1 row17\" >D7</th>\n",
       "      <td id=\"T_b70d4_row17_col0\" class=\"data row17 col0\" >0.202693</td>\n",
       "      <td id=\"T_b70d4_row17_col1\" class=\"data row17 col1\" >0.000563</td>\n",
       "      <td id=\"T_b70d4_row17_col2\" class=\"data row17 col2\" >0.000195</td>\n",
       "      <td id=\"T_b70d4_row17_col3\" class=\"data row17 col3\" >7.928880</td>\n",
       "      <td id=\"T_b70d4_row17_col4\" class=\"data row17 col4\" >0.182951</td>\n",
       "      <td id=\"T_b70d4_row17_col5\" class=\"data row17 col5\" >60.550151</td>\n",
       "      <td id=\"T_b70d4_row17_col6\" class=\"data row17 col6\" >20819.667549</td>\n",
       "      <td id=\"T_b70d4_row17_col7\" class=\"data row17 col7\" >0.045604</td>\n",
       "      <td id=\"T_b70d4_row17_col8\" class=\"data row17 col8\" >0.244151</td>\n",
       "    </tr>\n",
       "  </tbody>\n",
       "</table>\n"
      ],
      "text/plain": [
       "<pandas.io.formats.style.Styler at 0x7f7ca44d6a50>"
      ]
     },
     "execution_count": 19,
     "metadata": {},
     "output_type": "execute_result"
    }
   ],
   "source": [
    "df_no_tts = df[df.index.get_level_values(\"Method\") != \"TTS-GAN\"]\n",
    "df_no_tts \\\n",
    "    .style\\\n",
    "        .background_gradient(cmap=cm, vmin=0, vmax=0.5, subset=[\"DS\", \"PS\"])\\\n",
    "        .background_gradient(cmap=cm, vmin=0, vmax=1, subset=[\"C-FID\"])\\\n",
    "        .background_gradient(cmap=cm, vmin=0, vmax=2, subset=[\"MDD\"])\\\n",
    "        .background_gradient(cmap=cm, vmin=0, vmax=1, subset=[\"ACD\"])\\\n",
    "        .background_gradient(cmap=cm, vmin=0, vmax=1, subset=[\"SD\"])\\\n",
    "        .background_gradient(cmap=cm, vmin=0, vmax=3, subset=[\"KD\"])\\\n",
    "        .background_gradient(cmap=cm, vmin=0, vmax=3, subset=[\"ED\"])\\\n",
    "        .background_gradient(cmap=cm, vmin=0, vmax=15, subset=[\"DTW\"])"
   ]
  },
  {
   "cell_type": "code",
   "execution_count": 20,
   "id": "f58f9102",
   "metadata": {},
   "outputs": [
    {
     "data": {
      "text/html": [
       "<style type=\"text/css\">\n",
       "#T_53ef3_row0_col0, #T_53ef3_row11_col8 {\n",
       "  background-color: #ebc2ce;\n",
       "  color: #000000;\n",
       "}\n",
       "#T_53ef3_row0_col1 {\n",
       "  background-color: #75ab7b;\n",
       "  color: #f1f1f1;\n",
       "}\n",
       "#T_53ef3_row0_col2, #T_53ef3_row6_col3 {\n",
       "  background-color: #97bf9b;\n",
       "  color: #000000;\n",
       "}\n",
       "#T_53ef3_row0_col3 {\n",
       "  background-color: #aacbae;\n",
       "  color: #000000;\n",
       "}\n",
       "#T_53ef3_row0_col4, #T_53ef3_row6_col0 {\n",
       "  background-color: #92bc96;\n",
       "  color: #000000;\n",
       "}\n",
       "#T_53ef3_row0_col5 {\n",
       "  background-color: #edd0d8;\n",
       "  color: #000000;\n",
       "}\n",
       "#T_53ef3_row0_col6 {\n",
       "  background-color: #de7795;\n",
       "  color: #f1f1f1;\n",
       "}\n",
       "#T_53ef3_row0_col7, #T_53ef3_row4_col3 {\n",
       "  background-color: #d6e5d7;\n",
       "  color: #000000;\n",
       "}\n",
       "#T_53ef3_row0_col8, #T_53ef3_row10_col6, #T_53ef3_row11_col7 {\n",
       "  background-color: #b3d0b6;\n",
       "  color: #000000;\n",
       "}\n",
       "#T_53ef3_row1_col0 {\n",
       "  background-color: #89b78e;\n",
       "  color: #000000;\n",
       "}\n",
       "#T_53ef3_row1_col1, #T_53ef3_row2_col1, #T_53ef3_row5_col1 {\n",
       "  background-color: #54975a;\n",
       "  color: #f1f1f1;\n",
       "}\n",
       "#T_53ef3_row1_col2, #T_53ef3_row16_col7 {\n",
       "  background-color: #3e8a46;\n",
       "  color: #f1f1f1;\n",
       "}\n",
       "#T_53ef3_row1_col3 {\n",
       "  background-color: #86b58b;\n",
       "  color: #f1f1f1;\n",
       "}\n",
       "#T_53ef3_row1_col4, #T_53ef3_row5_col5 {\n",
       "  background-color: #77ac7c;\n",
       "  color: #f1f1f1;\n",
       "}\n",
       "#T_53ef3_row1_col5 {\n",
       "  background-color: #e7efe8;\n",
       "  color: #000000;\n",
       "}\n",
       "#T_53ef3_row1_col6 {\n",
       "  background-color: #e18aa4;\n",
       "  color: #f1f1f1;\n",
       "}\n",
       "#T_53ef3_row1_col7, #T_53ef3_row2_col3 {\n",
       "  background-color: #c8ddca;\n",
       "  color: #000000;\n",
       "}\n",
       "#T_53ef3_row1_col8, #T_53ef3_row6_col4, #T_53ef3_row12_col3, #T_53ef3_row13_col6 {\n",
       "  background-color: #a8c9ab;\n",
       "  color: #000000;\n",
       "}\n",
       "#T_53ef3_row2_col0 {\n",
       "  background-color: #a5c7a8;\n",
       "  color: #000000;\n",
       "}\n",
       "#T_53ef3_row2_col2 {\n",
       "  background-color: #599a60;\n",
       "  color: #f1f1f1;\n",
       "}\n",
       "#T_53ef3_row2_col4 {\n",
       "  background-color: #448d4c;\n",
       "  color: #f1f1f1;\n",
       "}\n",
       "#T_53ef3_row2_col5 {\n",
       "  background-color: #f1e5e8;\n",
       "  color: #000000;\n",
       "}\n",
       "#T_53ef3_row2_col6 {\n",
       "  background-color: #dc688a;\n",
       "  color: #f1f1f1;\n",
       "}\n",
       "#T_53ef3_row2_col7 {\n",
       "  background-color: #bad4bc;\n",
       "  color: #000000;\n",
       "}\n",
       "#T_53ef3_row2_col8, #T_53ef3_row9_col6 {\n",
       "  background-color: #9ec3a1;\n",
       "  color: #000000;\n",
       "}\n",
       "#T_53ef3_row3_col0 {\n",
       "  background-color: #ebc5d0;\n",
       "  color: #000000;\n",
       "}\n",
       "#T_53ef3_row3_col1, #T_53ef3_row4_col4, #T_53ef3_row11_col6 {\n",
       "  background-color: #6ca571;\n",
       "  color: #f1f1f1;\n",
       "}\n",
       "#T_53ef3_row3_col2 {\n",
       "  background-color: #78ad7e;\n",
       "  color: #f1f1f1;\n",
       "}\n",
       "#T_53ef3_row3_col3 {\n",
       "  background-color: #c0d8c2;\n",
       "  color: #000000;\n",
       "}\n",
       "#T_53ef3_row3_col4 {\n",
       "  background-color: #e8f0e9;\n",
       "  color: #000000;\n",
       "}\n",
       "#T_53ef3_row3_col5 {\n",
       "  background-color: #f1eaec;\n",
       "  color: #000000;\n",
       "}\n",
       "#T_53ef3_row3_col6 {\n",
       "  background-color: #d5416d;\n",
       "  color: #f1f1f1;\n",
       "}\n",
       "#T_53ef3_row3_col7 {\n",
       "  background-color: #dd7191;\n",
       "  color: #f1f1f1;\n",
       "}\n",
       "#T_53ef3_row3_col8 {\n",
       "  background-color: #eabbc9;\n",
       "  color: #000000;\n",
       "}\n",
       "#T_53ef3_row4_col0 {\n",
       "  background-color: #e5a0b4;\n",
       "  color: #000000;\n",
       "}\n",
       "#T_53ef3_row4_col1 {\n",
       "  background-color: #56985d;\n",
       "  color: #f1f1f1;\n",
       "}\n",
       "#T_53ef3_row4_col2 {\n",
       "  background-color: #4a9151;\n",
       "  color: #f1f1f1;\n",
       "}\n",
       "#T_53ef3_row4_col5, #T_53ef3_row6_col5, #T_53ef3_row10_col5 {\n",
       "  background-color: #98c09c;\n",
       "  color: #000000;\n",
       "}\n",
       "#T_53ef3_row4_col6 {\n",
       "  background-color: #e28ca5;\n",
       "  color: #f1f1f1;\n",
       "}\n",
       "#T_53ef3_row4_col7 {\n",
       "  background-color: #dc6789;\n",
       "  color: #f1f1f1;\n",
       "}\n",
       "#T_53ef3_row4_col8 {\n",
       "  background-color: #e9b5c4;\n",
       "  color: #000000;\n",
       "}\n",
       "#T_53ef3_row5_col0, #T_53ef3_row15_col2, #T_53ef3_row16_col1, #T_53ef3_row16_col2, #T_53ef3_row17_col1, #T_53ef3_row17_col2 {\n",
       "  background-color: #398641;\n",
       "  color: #f1f1f1;\n",
       "}\n",
       "#T_53ef3_row5_col2, #T_53ef3_row14_col2, #T_53ef3_row15_col1 {\n",
       "  background-color: #3a8742;\n",
       "  color: #f1f1f1;\n",
       "}\n",
       "#T_53ef3_row5_col3 {\n",
       "  background-color: #81b286;\n",
       "  color: #f1f1f1;\n",
       "}\n",
       "#T_53ef3_row5_col4 {\n",
       "  background-color: #609e67;\n",
       "  color: #f1f1f1;\n",
       "}\n",
       "#T_53ef3_row5_col6 {\n",
       "  background-color: #9cc2a0;\n",
       "  color: #000000;\n",
       "}\n",
       "#T_53ef3_row5_col7 {\n",
       "  background-color: #d9567d;\n",
       "  color: #f1f1f1;\n",
       "}\n",
       "#T_53ef3_row5_col8 {\n",
       "  background-color: #e6a6b9;\n",
       "  color: #000000;\n",
       "}\n",
       "#T_53ef3_row6_col1 {\n",
       "  background-color: #67a26d;\n",
       "  color: #f1f1f1;\n",
       "}\n",
       "#T_53ef3_row6_col2, #T_53ef3_row14_col6, #T_53ef3_row15_col8 {\n",
       "  background-color: #489050;\n",
       "  color: #f1f1f1;\n",
       "}\n",
       "#T_53ef3_row6_col6, #T_53ef3_row7_col4 {\n",
       "  background-color: #66a26c;\n",
       "  color: #f1f1f1;\n",
       "}\n",
       "#T_53ef3_row6_col7 {\n",
       "  background-color: #db6185;\n",
       "  color: #f1f1f1;\n",
       "}\n",
       "#T_53ef3_row6_col8, #T_53ef3_row14_col7 {\n",
       "  background-color: #de7292;\n",
       "  color: #f1f1f1;\n",
       "}\n",
       "#T_53ef3_row7_col0 {\n",
       "  background-color: #8cb991;\n",
       "  color: #000000;\n",
       "}\n",
       "#T_53ef3_row7_col1, #T_53ef3_row9_col4 {\n",
       "  background-color: #99c19d;\n",
       "  color: #000000;\n",
       "}\n",
       "#T_53ef3_row7_col2 {\n",
       "  background-color: #5d9d64;\n",
       "  color: #f1f1f1;\n",
       "}\n",
       "#T_53ef3_row7_col3 {\n",
       "  background-color: #c4dac6;\n",
       "  color: #000000;\n",
       "}\n",
       "#T_53ef3_row7_col5, #T_53ef3_row9_col3 {\n",
       "  background-color: #7eb083;\n",
       "  color: #f1f1f1;\n",
       "}\n",
       "#T_53ef3_row7_col6 {\n",
       "  background-color: #74aa7a;\n",
       "  color: #f1f1f1;\n",
       "}\n",
       "#T_53ef3_row7_col7 {\n",
       "  background-color: #d74e76;\n",
       "  color: #f1f1f1;\n",
       "}\n",
       "#T_53ef3_row7_col8 {\n",
       "  background-color: #da5d82;\n",
       "  color: #f1f1f1;\n",
       "}\n",
       "#T_53ef3_row8_col0, #T_53ef3_row8_col5 {\n",
       "  background-color: #63a069;\n",
       "  color: #f1f1f1;\n",
       "}\n",
       "#T_53ef3_row8_col1, #T_53ef3_row14_col3 {\n",
       "  background-color: #5c9c63;\n",
       "  color: #f1f1f1;\n",
       "}\n",
       "#T_53ef3_row8_col2, #T_53ef3_row17_col7 {\n",
       "  background-color: #3d8945;\n",
       "  color: #f1f1f1;\n",
       "}\n",
       "#T_53ef3_row8_col3, #T_53ef3_row9_col2 {\n",
       "  background-color: #6da673;\n",
       "  color: #f1f1f1;\n",
       "}\n",
       "#T_53ef3_row8_col4, #T_53ef3_row14_col5, #T_53ef3_row15_col7 {\n",
       "  background-color: #458e4d;\n",
       "  color: #f1f1f1;\n",
       "}\n",
       "#T_53ef3_row8_col6 {\n",
       "  background-color: #55975c;\n",
       "  color: #f1f1f1;\n",
       "}\n",
       "#T_53ef3_row8_col7, #T_53ef3_row10_col0 {\n",
       "  background-color: #d85078;\n",
       "  color: #f1f1f1;\n",
       "}\n",
       "#T_53ef3_row8_col8 {\n",
       "  background-color: #da5f83;\n",
       "  color: #f1f1f1;\n",
       "}\n",
       "#T_53ef3_row9_col0, #T_53ef3_row12_col0, #T_53ef3_row12_col8, #T_53ef3_row13_col0, #T_53ef3_row13_col4, #T_53ef3_row13_col8, #T_53ef3_row14_col8, #T_53ef3_row15_col3, #T_53ef3_row15_col4, #T_53ef3_row15_col5, #T_53ef3_row15_col6, #T_53ef3_row16_col3, #T_53ef3_row16_col4, #T_53ef3_row16_col5, #T_53ef3_row16_col6, #T_53ef3_row17_col3, #T_53ef3_row17_col5, #T_53ef3_row17_col6 {\n",
       "  background-color: #d53d69;\n",
       "  color: #f1f1f1;\n",
       "}\n",
       "#T_53ef3_row9_col1 {\n",
       "  background-color: #e9bac7;\n",
       "  color: #000000;\n",
       "}\n",
       "#T_53ef3_row9_col5 {\n",
       "  background-color: #82b387;\n",
       "  color: #f1f1f1;\n",
       "}\n",
       "#T_53ef3_row9_col7 {\n",
       "  background-color: #acccaf;\n",
       "  color: #000000;\n",
       "}\n",
       "#T_53ef3_row9_col8 {\n",
       "  background-color: #edcdd6;\n",
       "  color: #000000;\n",
       "}\n",
       "#T_53ef3_row10_col1 {\n",
       "  background-color: #eed9df;\n",
       "  color: #000000;\n",
       "}\n",
       "#T_53ef3_row10_col2 {\n",
       "  background-color: #70a876;\n",
       "  color: #f1f1f1;\n",
       "}\n",
       "#T_53ef3_row10_col3 {\n",
       "  background-color: #7caf82;\n",
       "  color: #f1f1f1;\n",
       "}\n",
       "#T_53ef3_row10_col4 {\n",
       "  background-color: #dce9dd;\n",
       "  color: #000000;\n",
       "}\n",
       "#T_53ef3_row10_col7 {\n",
       "  background-color: #b8d3bb;\n",
       "  color: #000000;\n",
       "}\n",
       "#T_53ef3_row10_col8 {\n",
       "  background-color: #eabdca;\n",
       "  color: #000000;\n",
       "}\n",
       "#T_53ef3_row11_col0 {\n",
       "  background-color: #8db992;\n",
       "  color: #000000;\n",
       "}\n",
       "#T_53ef3_row11_col1 {\n",
       "  background-color: #f2f1f1;\n",
       "  color: #000000;\n",
       "}\n",
       "#T_53ef3_row11_col2 {\n",
       "  background-color: #3c8844;\n",
       "  color: #f1f1f1;\n",
       "}\n",
       "#T_53ef3_row11_col3 {\n",
       "  background-color: #629f68;\n",
       "  color: #f1f1f1;\n",
       "}\n",
       "#T_53ef3_row11_col4 {\n",
       "  background-color: #4f9456;\n",
       "  color: #f1f1f1;\n",
       "}\n",
       "#T_53ef3_row11_col5, #T_53ef3_row14_col4 {\n",
       "  background-color: #5f9d65;\n",
       "  color: #f1f1f1;\n",
       "}\n",
       "#T_53ef3_row12_col1 {\n",
       "  background-color: #f2eff0;\n",
       "  color: #000000;\n",
       "}\n",
       "#T_53ef3_row12_col2 {\n",
       "  background-color: #dde9de;\n",
       "  color: #000000;\n",
       "}\n",
       "#T_53ef3_row12_col4 {\n",
       "  background-color: #e6a9bb;\n",
       "  color: #000000;\n",
       "}\n",
       "#T_53ef3_row12_col5 {\n",
       "  background-color: #cfe1d1;\n",
       "  color: #000000;\n",
       "}\n",
       "#T_53ef3_row12_col6, #T_53ef3_row17_col0 {\n",
       "  background-color: #cbdecd;\n",
       "  color: #000000;\n",
       "}\n",
       "#T_53ef3_row12_col7 {\n",
       "  background-color: #df7e9a;\n",
       "  color: #f1f1f1;\n",
       "}\n",
       "#T_53ef3_row13_col1 {\n",
       "  background-color: #ebc6d1;\n",
       "  color: #000000;\n",
       "}\n",
       "#T_53ef3_row13_col2 {\n",
       "  background-color: #eac1cd;\n",
       "  color: #000000;\n",
       "}\n",
       "#T_53ef3_row13_col3 {\n",
       "  background-color: #bed7c0;\n",
       "  color: #000000;\n",
       "}\n",
       "#T_53ef3_row13_col5 {\n",
       "  background-color: #f0e0e4;\n",
       "  color: #000000;\n",
       "}\n",
       "#T_53ef3_row13_col7 {\n",
       "  background-color: #dc6b8c;\n",
       "  color: #f1f1f1;\n",
       "}\n",
       "#T_53ef3_row14_col0 {\n",
       "  background-color: #a0c5a4;\n",
       "  color: #000000;\n",
       "}\n",
       "#T_53ef3_row14_col1 {\n",
       "  background-color: #eff2ef;\n",
       "  color: #000000;\n",
       "}\n",
       "#T_53ef3_row15_col0 {\n",
       "  background-color: #d74b74;\n",
       "  color: #f1f1f1;\n",
       "}\n",
       "#T_53ef3_row16_col0 {\n",
       "  background-color: #408b48;\n",
       "  color: #f1f1f1;\n",
       "}\n",
       "#T_53ef3_row16_col8, #T_53ef3_row17_col8 {\n",
       "  background-color: #418c49;\n",
       "  color: #f1f1f1;\n",
       "}\n",
       "#T_53ef3_row17_col4 {\n",
       "  background-color: #7aae7f;\n",
       "  color: #f1f1f1;\n",
       "}\n",
       "</style>\n",
       "<table id=\"T_53ef3_\">\n",
       "  <thead>\n",
       "    <tr>\n",
       "      <th class=\"blank\" >&nbsp;</th>\n",
       "      <th class=\"blank level0\" >&nbsp;</th>\n",
       "      <th class=\"col_heading level0 col0\" >DS</th>\n",
       "      <th class=\"col_heading level0 col1\" >PS</th>\n",
       "      <th class=\"col_heading level0 col2\" >C-FID</th>\n",
       "      <th class=\"col_heading level0 col3\" >MDD</th>\n",
       "      <th class=\"col_heading level0 col4\" >ACD</th>\n",
       "      <th class=\"col_heading level0 col5\" >SD</th>\n",
       "      <th class=\"col_heading level0 col6\" >KD</th>\n",
       "      <th class=\"col_heading level0 col7\" >ED</th>\n",
       "      <th class=\"col_heading level0 col8\" >DTW</th>\n",
       "    </tr>\n",
       "    <tr>\n",
       "      <th class=\"index_name level0\" >Dataset</th>\n",
       "      <th class=\"index_name level1\" >Method</th>\n",
       "      <th class=\"blank col0\" >&nbsp;</th>\n",
       "      <th class=\"blank col1\" >&nbsp;</th>\n",
       "      <th class=\"blank col2\" >&nbsp;</th>\n",
       "      <th class=\"blank col3\" >&nbsp;</th>\n",
       "      <th class=\"blank col4\" >&nbsp;</th>\n",
       "      <th class=\"blank col5\" >&nbsp;</th>\n",
       "      <th class=\"blank col6\" >&nbsp;</th>\n",
       "      <th class=\"blank col7\" >&nbsp;</th>\n",
       "      <th class=\"blank col8\" >&nbsp;</th>\n",
       "    </tr>\n",
       "  </thead>\n",
       "  <tbody>\n",
       "    <tr>\n",
       "      <th id=\"T_53ef3_level0_row0\" class=\"row_heading level0 row0\" rowspan=\"3\">D2</th>\n",
       "      <th id=\"T_53ef3_level1_row0\" class=\"row_heading level1 row0\" >Time-Transformer</th>\n",
       "      <td id=\"T_53ef3_row0_col0\" class=\"data row0 col0\" >0.315152</td>\n",
       "      <td id=\"T_53ef3_row0_col1\" class=\"data row0 col1\" >0.085012</td>\n",
       "      <td id=\"T_53ef3_row0_col2\" class=\"data row0 col2\" >0.258219</td>\n",
       "      <td id=\"T_53ef3_row0_col3\" class=\"data row0 col3\" >0.627615</td>\n",
       "      <td id=\"T_53ef3_row0_col4\" class=\"data row0 col4\" >0.247822</td>\n",
       "      <td id=\"T_53ef3_row0_col5\" class=\"data row0 col5\" >0.592418</td>\n",
       "      <td id=\"T_53ef3_row0_col6\" class=\"data row0 col6\" >2.517755</td>\n",
       "      <td id=\"T_53ef3_row0_col7\" class=\"data row0 col7\" >1.307718</td>\n",
       "      <td id=\"T_53ef3_row0_col8\" class=\"data row0 col8\" >3.375031</td>\n",
       "    </tr>\n",
       "    <tr>\n",
       "      <th id=\"T_53ef3_level1_row1\" class=\"row_heading level1 row1\" >TimeGAN</th>\n",
       "      <td id=\"T_53ef3_row1_col0\" class=\"data row1 col0\" >0.112879</td>\n",
       "      <td id=\"T_53ef3_row1_col1\" class=\"data row1 col1\" >0.038129</td>\n",
       "      <td id=\"T_53ef3_row1_col2\" class=\"data row1 col2\" >0.019055</td>\n",
       "      <td id=\"T_53ef3_row1_col3\" class=\"data row1 col3\" >0.434670</td>\n",
       "      <td id=\"T_53ef3_row1_col4\" class=\"data row1 col4\" >0.171891</td>\n",
       "      <td id=\"T_53ef3_row1_col5\" class=\"data row1 col5\" >0.482856</td>\n",
       "      <td id=\"T_53ef3_row1_col6\" class=\"data row1 col6\" >2.351818</td>\n",
       "      <td id=\"T_53ef3_row1_col7\" class=\"data row1 col7\" >1.189109</td>\n",
       "      <td id=\"T_53ef3_row1_col8\" class=\"data row1 col8\" >3.068079</td>\n",
       "    </tr>\n",
       "    <tr>\n",
       "      <th id=\"T_53ef3_level1_row2\" class=\"row_heading level1 row2\" >TransFusion</th>\n",
       "      <td id=\"T_53ef3_row2_col0\" class=\"data row2 col0\" >0.150000</td>\n",
       "      <td id=\"T_53ef3_row2_col1\" class=\"data row2 col1\" >0.037576</td>\n",
       "      <td id=\"T_53ef3_row2_col2\" class=\"data row2 col2\" >0.090272</td>\n",
       "      <td id=\"T_53ef3_row2_col3\" class=\"data row2 col3\" >0.793641</td>\n",
       "      <td id=\"T_53ef3_row2_col4\" class=\"data row2 col4\" >0.033649</td>\n",
       "      <td id=\"T_53ef3_row2_col5\" class=\"data row2 col5\" >0.533438</td>\n",
       "      <td id=\"T_53ef3_row2_col6\" class=\"data row2 col6\" >2.629961</td>\n",
       "      <td id=\"T_53ef3_row2_col7\" class=\"data row2 col7\" >1.072507</td>\n",
       "      <td id=\"T_53ef3_row2_col8\" class=\"data row2 col8\" >2.773607</td>\n",
       "    </tr>\n",
       "    <tr>\n",
       "      <th id=\"T_53ef3_level0_row3\" class=\"row_heading level0 row3\" rowspan=\"3\">D3</th>\n",
       "      <th id=\"T_53ef3_level1_row3\" class=\"row_heading level1 row3\" >Time-Transformer</th>\n",
       "      <td id=\"T_53ef3_row3_col0\" class=\"data row3 col0\" >0.312012</td>\n",
       "      <td id=\"T_53ef3_row3_col1\" class=\"data row3 col1\" >0.072252</td>\n",
       "      <td id=\"T_53ef3_row3_col2\" class=\"data row3 col2\" >0.177665</td>\n",
       "      <td id=\"T_53ef3_row3_col3\" class=\"data row3 col3\" >0.747522</td>\n",
       "      <td id=\"T_53ef3_row3_col4\" class=\"data row3 col4\" >0.486708</td>\n",
       "      <td id=\"T_53ef3_row3_col5\" class=\"data row3 col5\" >0.522732</td>\n",
       "      <td id=\"T_53ef3_row3_col6\" class=\"data row3 col6\" >2.953833</td>\n",
       "      <td id=\"T_53ef3_row3_col7\" class=\"data row3 col7\" >2.561868</td>\n",
       "      <td id=\"T_53ef3_row3_col8\" class=\"data row3 col8\" >6.510620</td>\n",
       "    </tr>\n",
       "    <tr>\n",
       "      <th id=\"T_53ef3_level1_row4\" class=\"row_heading level1 row4\" >TimeGAN</th>\n",
       "      <td id=\"T_53ef3_row4_col0\" class=\"data row4 col0\" >0.362715</td>\n",
       "      <td id=\"T_53ef3_row4_col1\" class=\"data row4 col1\" >0.041257</td>\n",
       "      <td id=\"T_53ef3_row4_col2\" class=\"data row4 col2\" >0.050287</td>\n",
       "      <td id=\"T_53ef3_row4_col3\" class=\"data row4 col3\" >0.870274</td>\n",
       "      <td id=\"T_53ef3_row4_col4\" class=\"data row4 col4\" >0.143190</td>\n",
       "      <td id=\"T_53ef3_row4_col5\" class=\"data row4 col5\" >0.262877</td>\n",
       "      <td id=\"T_53ef3_row4_col6\" class=\"data row4 col6\" >2.341035</td>\n",
       "      <td id=\"T_53ef3_row4_col7\" class=\"data row4 col7\" >2.646002</td>\n",
       "      <td id=\"T_53ef3_row4_col8\" class=\"data row4 col8\" >6.679519</td>\n",
       "    </tr>\n",
       "    <tr>\n",
       "      <th id=\"T_53ef3_level1_row5\" class=\"row_heading level1 row5\" >TransFusion</th>\n",
       "      <td id=\"T_53ef3_row5_col0\" class=\"data row5 col0\" >0.000780</td>\n",
       "      <td id=\"T_53ef3_row5_col1\" class=\"data row5 col1\" >0.037371</td>\n",
       "      <td id=\"T_53ef3_row5_col2\" class=\"data row5 col2\" >0.004399</td>\n",
       "      <td id=\"T_53ef3_row5_col3\" class=\"data row5 col3\" >0.404956</td>\n",
       "      <td id=\"T_53ef3_row5_col4\" class=\"data row5 col4\" >0.111957</td>\n",
       "      <td id=\"T_53ef3_row5_col5\" class=\"data row5 col5\" >0.175680</td>\n",
       "      <td id=\"T_53ef3_row5_col6\" class=\"data row5 col6\" >0.824398</td>\n",
       "      <td id=\"T_53ef3_row5_col7\" class=\"data row5 col7\" >2.779363</td>\n",
       "      <td id=\"T_53ef3_row5_col8\" class=\"data row5 col8\" >7.092978</td>\n",
       "    </tr>\n",
       "    <tr>\n",
       "      <th id=\"T_53ef3_level0_row6\" class=\"row_heading level0 row6\" rowspan=\"3\">D4</th>\n",
       "      <th id=\"T_53ef3_level1_row6\" class=\"row_heading level1 row6\" >Time-Transformer</th>\n",
       "      <td id=\"T_53ef3_row6_col0\" class=\"data row6 col0\" >0.124348</td>\n",
       "      <td id=\"T_53ef3_row6_col1\" class=\"data row6 col1\" >0.066113</td>\n",
       "      <td id=\"T_53ef3_row6_col2\" class=\"data row6 col2\" >0.045602</td>\n",
       "      <td id=\"T_53ef3_row6_col3\" class=\"data row6 col3\" >0.517450</td>\n",
       "      <td id=\"T_53ef3_row6_col4\" class=\"data row6 col4\" >0.308017</td>\n",
       "      <td id=\"T_53ef3_row6_col5\" class=\"data row6 col5\" >0.261743</td>\n",
       "      <td id=\"T_53ef3_row6_col6\" class=\"data row6 col6\" >0.376560</td>\n",
       "      <td id=\"T_53ef3_row6_col7\" class=\"data row6 col7\" >2.692303</td>\n",
       "      <td id=\"T_53ef3_row6_col8\" class=\"data row6 col8\" >8.484202</td>\n",
       "    </tr>\n",
       "    <tr>\n",
       "      <th id=\"T_53ef3_level1_row7\" class=\"row_heading level1 row7\" >TimeGAN</th>\n",
       "      <td id=\"T_53ef3_row7_col0\" class=\"data row7 col0\" >0.116530</td>\n",
       "      <td id=\"T_53ef3_row7_col1\" class=\"data row7 col1\" >0.133363</td>\n",
       "      <td id=\"T_53ef3_row7_col2\" class=\"data row7 col2\" >0.105101</td>\n",
       "      <td id=\"T_53ef3_row7_col3\" class=\"data row7 col3\" >0.766039</td>\n",
       "      <td id=\"T_53ef3_row7_col4\" class=\"data row7 col4\" >0.127232</td>\n",
       "      <td id=\"T_53ef3_row7_col5\" class=\"data row7 col5\" >0.194281</td>\n",
       "      <td id=\"T_53ef3_row7_col6\" class=\"data row7 col6\" >0.496604</td>\n",
       "      <td id=\"T_53ef3_row7_col7\" class=\"data row7 col7\" >2.857787</td>\n",
       "      <td id=\"T_53ef3_row7_col8\" class=\"data row7 col8\" >9.064095</td>\n",
       "    </tr>\n",
       "    <tr>\n",
       "      <th id=\"T_53ef3_level1_row8\" class=\"row_heading level1 row8\" >TransFusion</th>\n",
       "      <td id=\"T_53ef3_row8_col0\" class=\"data row8 col0\" >0.059568</td>\n",
       "      <td id=\"T_53ef3_row8_col1\" class=\"data row8 col1\" >0.049407</td>\n",
       "      <td id=\"T_53ef3_row8_col2\" class=\"data row8 col2\" >0.011909</td>\n",
       "      <td id=\"T_53ef3_row8_col3\" class=\"data row8 col3\" >0.291926</td>\n",
       "      <td id=\"T_53ef3_row8_col4\" class=\"data row8 col4\" >0.038166</td>\n",
       "      <td id=\"T_53ef3_row8_col5\" class=\"data row8 col5\" >0.118325</td>\n",
       "      <td id=\"T_53ef3_row8_col6\" class=\"data row8 col6\" >0.242787</td>\n",
       "      <td id=\"T_53ef3_row8_col7\" class=\"data row8 col7\" >2.833876</td>\n",
       "      <td id=\"T_53ef3_row8_col8\" class=\"data row8 col8\" >9.034391</td>\n",
       "    </tr>\n",
       "    <tr>\n",
       "      <th id=\"T_53ef3_level0_row9\" class=\"row_heading level0 row9\" rowspan=\"3\">D5</th>\n",
       "      <th id=\"T_53ef3_level1_row9\" class=\"row_heading level1 row9\" >Time-Transformer</th>\n",
       "      <td id=\"T_53ef3_row9_col0\" class=\"data row9 col0\" >0.499859</td>\n",
       "      <td id=\"T_53ef3_row9_col1\" class=\"data row9 col1\" >0.326896</td>\n",
       "      <td id=\"T_53ef3_row9_col2\" class=\"data row9 col2\" >0.147380</td>\n",
       "      <td id=\"T_53ef3_row9_col3\" class=\"data row9 col3\" >0.389958</td>\n",
       "      <td id=\"T_53ef3_row9_col4\" class=\"data row9 col4\" >0.266162</td>\n",
       "      <td id=\"T_53ef3_row9_col5\" class=\"data row9 col5\" >0.204340</td>\n",
       "      <td id=\"T_53ef3_row9_col6\" class=\"data row9 col6\" >0.836956</td>\n",
       "      <td id=\"T_53ef3_row9_col7\" class=\"data row9 col7\" >0.950273</td>\n",
       "      <td id=\"T_53ef3_row9_col8\" class=\"data row9 col8\" >5.980854</td>\n",
       "    </tr>\n",
       "    <tr>\n",
       "      <th id=\"T_53ef3_level1_row10\" class=\"row_heading level1 row10\" >TimeGAN</th>\n",
       "      <td id=\"T_53ef3_row10_col0\" class=\"data row10 col0\" >0.472527</td>\n",
       "      <td id=\"T_53ef3_row10_col1\" class=\"data row10 col1\" >0.285059</td>\n",
       "      <td id=\"T_53ef3_row10_col2\" class=\"data row10 col2\" >0.154532</td>\n",
       "      <td id=\"T_53ef3_row10_col3\" class=\"data row10 col3\" >0.382266</td>\n",
       "      <td id=\"T_53ef3_row10_col4\" class=\"data row10 col4\" >0.451997</td>\n",
       "      <td id=\"T_53ef3_row10_col5\" class=\"data row10 col5\" >0.263064</td>\n",
       "      <td id=\"T_53ef3_row10_col6\" class=\"data row10 col6\" >1.007865</td>\n",
       "      <td id=\"T_53ef3_row10_col7\" class=\"data row10 col7\" >1.057500</td>\n",
       "      <td id=\"T_53ef3_row10_col8\" class=\"data row10 col8\" >6.458857</td>\n",
       "    </tr>\n",
       "    <tr>\n",
       "      <th id=\"T_53ef3_level1_row11\" class=\"row_heading level1 row11\" >TransFusion</th>\n",
       "      <td id=\"T_53ef3_row11_col0\" class=\"data row11 col0\" >0.118625</td>\n",
       "      <td id=\"T_53ef3_row11_col1\" class=\"data row11 col1\" >0.251417</td>\n",
       "      <td id=\"T_53ef3_row11_col2\" class=\"data row11 col2\" >0.009846</td>\n",
       "      <td id=\"T_53ef3_row11_col3\" class=\"data row11 col3\" >0.227218</td>\n",
       "      <td id=\"T_53ef3_row11_col4\" class=\"data row11 col4\" >0.062980</td>\n",
       "      <td id=\"T_53ef3_row11_col5\" class=\"data row11 col5\" >0.108366</td>\n",
       "      <td id=\"T_53ef3_row11_col6\" class=\"data row11 col6\" >0.426964</td>\n",
       "      <td id=\"T_53ef3_row11_col7\" class=\"data row11 col7\" >1.012462</td>\n",
       "      <td id=\"T_53ef3_row11_col8\" class=\"data row11 col8\" >6.289462</td>\n",
       "    </tr>\n",
       "    <tr>\n",
       "      <th id=\"T_53ef3_level0_row12\" class=\"row_heading level0 row12\" rowspan=\"3\">D6</th>\n",
       "      <th id=\"T_53ef3_level1_row12\" class=\"row_heading level1 row12\" >Time-Transformer</th>\n",
       "      <td id=\"T_53ef3_row12_col0\" class=\"data row12 col0\" >0.500000</td>\n",
       "      <td id=\"T_53ef3_row12_col1\" class=\"data row12 col1\" >0.251982</td>\n",
       "      <td id=\"T_53ef3_row12_col2\" class=\"data row12 col2\" >0.456342</td>\n",
       "      <td id=\"T_53ef3_row12_col3\" class=\"data row12 col3\" >0.614462</td>\n",
       "      <td id=\"T_53ef3_row12_col4\" class=\"data row12 col4\" >0.701291</td>\n",
       "      <td id=\"T_53ef3_row12_col5\" class=\"data row12 col5\" >0.417475</td>\n",
       "      <td id=\"T_53ef3_row12_col6\" class=\"data row12 col6\" >1.213679</td>\n",
       "      <td id=\"T_53ef3_row12_col7\" class=\"data row12 col7\" >2.451943</td>\n",
       "      <td id=\"T_53ef3_row12_col8\" class=\"data row12 col8\" >14.490414</td>\n",
       "    </tr>\n",
       "    <tr>\n",
       "      <th id=\"T_53ef3_level1_row13\" class=\"row_heading level1 row13\" >TimeGAN</th>\n",
       "      <td id=\"T_53ef3_row13_col0\" class=\"data row13 col0\" >0.500000</td>\n",
       "      <td id=\"T_53ef3_row13_col1\" class=\"data row13 col1\" >0.309733</td>\n",
       "      <td id=\"T_53ef3_row13_col2\" class=\"data row13 col2\" >0.635030</td>\n",
       "      <td id=\"T_53ef3_row13_col3\" class=\"data row13 col3\" >0.741083</td>\n",
       "      <td id=\"T_53ef3_row13_col4\" class=\"data row13 col4\" >2.335000</td>\n",
       "      <td id=\"T_53ef3_row13_col5\" class=\"data row13 col5\" >0.547243</td>\n",
       "      <td id=\"T_53ef3_row13_col6\" class=\"data row13 col6\" >0.918373</td>\n",
       "      <td id=\"T_53ef3_row13_col7\" class=\"data row13 col7\" >2.610278</td>\n",
       "      <td id=\"T_53ef3_row13_col8\" class=\"data row13 col8\" >14.721798</td>\n",
       "    </tr>\n",
       "    <tr>\n",
       "      <th id=\"T_53ef3_level1_row14\" class=\"row_heading level1 row14\" >TransFusion</th>\n",
       "      <td id=\"T_53ef3_row14_col0\" class=\"data row14 col0\" >0.144476</td>\n",
       "      <td id=\"T_53ef3_row14_col1\" class=\"data row14 col1\" >0.248861</td>\n",
       "      <td id=\"T_53ef3_row14_col2\" class=\"data row14 col2\" >0.004271</td>\n",
       "      <td id=\"T_53ef3_row14_col3\" class=\"data row14 col3\" >0.198377</td>\n",
       "      <td id=\"T_53ef3_row14_col4\" class=\"data row14 col4\" >0.106999</td>\n",
       "      <td id=\"T_53ef3_row14_col5\" class=\"data row14 col5\" >0.035632</td>\n",
       "      <td id=\"T_53ef3_row14_col6\" class=\"data row14 col6\" >0.134695</td>\n",
       "      <td id=\"T_53ef3_row14_col7\" class=\"data row14 col7\" >2.546032</td>\n",
       "      <td id=\"T_53ef3_row14_col8\" class=\"data row14 col8\" >14.670620</td>\n",
       "    </tr>\n",
       "    <tr>\n",
       "      <th id=\"T_53ef3_level0_row15\" class=\"row_heading level0 row15\" rowspan=\"3\">D7</th>\n",
       "      <th id=\"T_53ef3_level1_row15\" class=\"row_heading level1 row15\" >Time-Transformer</th>\n",
       "      <td id=\"T_53ef3_row15_col0\" class=\"data row15 col0\" >0.480366</td>\n",
       "      <td id=\"T_53ef3_row15_col1\" class=\"data row15 col1\" >0.002254</td>\n",
       "      <td id=\"T_53ef3_row15_col2\" class=\"data row15 col2\" >0.001517</td>\n",
       "      <td id=\"T_53ef3_row15_col3\" class=\"data row15 col3\" >9.074205</td>\n",
       "      <td id=\"T_53ef3_row15_col4\" class=\"data row15 col4\" >1.281966</td>\n",
       "      <td id=\"T_53ef3_row15_col5\" class=\"data row15 col5\" >73.553105</td>\n",
       "      <td id=\"T_53ef3_row15_col6\" class=\"data row15 col6\" >8942.827292</td>\n",
       "      <td id=\"T_53ef3_row15_col7\" class=\"data row15 col7\" >0.106958</td>\n",
       "      <td id=\"T_53ef3_row15_col8\" class=\"data row15 col8\" >0.435572</td>\n",
       "    </tr>\n",
       "    <tr>\n",
       "      <th id=\"T_53ef3_level1_row16\" class=\"row_heading level1 row16\" >TimeGAN</th>\n",
       "      <td id=\"T_53ef3_row16_col0\" class=\"data row16 col0\" >0.011219</td>\n",
       "      <td id=\"T_53ef3_row16_col1\" class=\"data row16 col1\" >0.000890</td>\n",
       "      <td id=\"T_53ef3_row16_col2\" class=\"data row16 col2\" >0.000891</td>\n",
       "      <td id=\"T_53ef3_row16_col3\" class=\"data row16 col3\" >2.217216</td>\n",
       "      <td id=\"T_53ef3_row16_col4\" class=\"data row16 col4\" >1.864680</td>\n",
       "      <td id=\"T_53ef3_row16_col5\" class=\"data row16 col5\" >73.477606</td>\n",
       "      <td id=\"T_53ef3_row16_col6\" class=\"data row16 col6\" >8942.861949</td>\n",
       "      <td id=\"T_53ef3_row16_col7\" class=\"data row16 col7\" >0.050241</td>\n",
       "      <td id=\"T_53ef3_row16_col8\" class=\"data row16 col8\" >0.255532</td>\n",
       "    </tr>\n",
       "    <tr>\n",
       "      <th id=\"T_53ef3_level1_row17\" class=\"row_heading level1 row17\" >TransFusion</th>\n",
       "      <td id=\"T_53ef3_row17_col0\" class=\"data row17 col0\" >0.202693</td>\n",
       "      <td id=\"T_53ef3_row17_col1\" class=\"data row17 col1\" >0.000563</td>\n",
       "      <td id=\"T_53ef3_row17_col2\" class=\"data row17 col2\" >0.000195</td>\n",
       "      <td id=\"T_53ef3_row17_col3\" class=\"data row17 col3\" >7.928880</td>\n",
       "      <td id=\"T_53ef3_row17_col4\" class=\"data row17 col4\" >0.182951</td>\n",
       "      <td id=\"T_53ef3_row17_col5\" class=\"data row17 col5\" >60.550151</td>\n",
       "      <td id=\"T_53ef3_row17_col6\" class=\"data row17 col6\" >20819.667549</td>\n",
       "      <td id=\"T_53ef3_row17_col7\" class=\"data row17 col7\" >0.045604</td>\n",
       "      <td id=\"T_53ef3_row17_col8\" class=\"data row17 col8\" >0.244151</td>\n",
       "    </tr>\n",
       "  </tbody>\n",
       "</table>\n"
      ],
      "text/plain": [
       "<pandas.io.formats.style.Styler at 0x7f7ca4560bd0>"
      ]
     },
     "execution_count": 20,
     "metadata": {},
     "output_type": "execute_result"
    }
   ],
   "source": [
    "df_no_tts.swaplevel(\"Method\", \"Dataset\")\\\n",
    "    .sort_index(level=[\"Dataset\", \"Method\"])\\\n",
    "    .style\\\n",
    "        .background_gradient(cmap=cm, vmin=0, vmax=0.5, subset=[\"DS\", \"PS\"])\\\n",
    "        .background_gradient(cmap=cm, vmin=0, vmax=1, subset=[\"C-FID\"])\\\n",
    "        .background_gradient(cmap=cm, vmin=0, vmax=2, subset=[\"MDD\"])\\\n",
    "        .background_gradient(cmap=cm, vmin=0, vmax=1, subset=[\"ACD\"])\\\n",
    "        .background_gradient(cmap=cm, vmin=0, vmax=1, subset=[\"SD\"])\\\n",
    "        .background_gradient(cmap=cm, vmin=0, vmax=3, subset=[\"KD\"])\\\n",
    "        .background_gradient(cmap=cm, vmin=0, vmax=3, subset=[\"ED\"])\\\n",
    "        .background_gradient(cmap=cm, vmin=0, vmax=10, subset=[\"DTW\"])"
   ]
  },
  {
   "cell_type": "code",
   "execution_count": 10,
   "id": "7e55ada4",
   "metadata": {},
   "outputs": [
    {
     "data": {
      "application/vnd.plotly.v1+json": {
       "config": {
        "plotlyServerURL": "https://plot.ly"
       },
       "data": [
        {
         "hovertemplate": "Method=Time-Transformer<br>value=%{r}<br>Metric=%{theta}<extra></extra>",
         "legendgroup": "Time-Transformer",
         "line": {
          "color": "#636efa",
          "dash": "solid"
         },
         "marker": {
          "symbol": "circle"
         },
         "mode": "lines",
         "name": "Time-Transformer",
         "r": [
          0.2560873077974319,
          0.78778090133829,
          1,
          0.7975597414344181,
          0.9341145844366513,
          0.8295325411967761,
          0.9283531962675368,
          0.9999999897304689,
          0.9999999888436512,
          0.2560873077974319
         ],
         "showlegend": true,
         "subplot": "polar",
         "theta": [
          "DS",
          "PS",
          "C-FID",
          "MDD",
          "ACD",
          "SD",
          "KD",
          "ED",
          "DTW",
          "DS"
         ],
         "type": "scatterpolar"
        },
        {
         "hovertemplate": "Method=TimeGAN<br>value=%{r}<br>Metric=%{theta}<extra></extra>",
         "legendgroup": "TimeGAN",
         "line": {
          "color": "#EF553B",
          "dash": "solid"
         },
         "marker": {
          "symbol": "circle"
         },
         "mode": "lines",
         "name": "TimeGAN",
         "r": [
          0.47470997576741686,
          0.7867422808181392,
          1,
          0.9207344511577392,
          0.8956924389255123,
          0.8302653958626324,
          0.928359187683883,
          0.9999999893742372,
          0.9999999885571027,
          0.47470997576741686
         ],
         "showlegend": true,
         "subplot": "polar",
         "theta": [
          "DS",
          "PS",
          "C-FID",
          "MDD",
          "ACD",
          "SD",
          "KD",
          "ED",
          "DTW",
          "DS"
         ],
         "type": "scatterpolar"
        },
        {
         "hovertemplate": "Method=TransFusion<br>value=%{r}<br>Metric=%{theta}<extra></extra>",
         "legendgroup": "TransFusion",
         "line": {
          "color": "#00cc96",
          "dash": "solid"
         },
         "marker": {
          "symbol": "circle"
         },
         "mode": "lines",
         "name": "TransFusion",
         "r": [
          0.7746194523091378,
          0.8352814942534691,
          1,
          0.8374849551277297,
          0.9928613399090497,
          0.8612787456031574,
          0.8333046316841526,
          0.9999999895011449,
          0.9999999885991979,
          0.7746194523091378
         ],
         "showlegend": true,
         "subplot": "polar",
         "theta": [
          "DS",
          "PS",
          "C-FID",
          "MDD",
          "ACD",
          "SD",
          "KD",
          "ED",
          "DTW",
          "DS"
         ],
         "type": "scatterpolar"
        }
       ],
       "layout": {
        "legend": {
         "title": {
          "text": "Method"
         },
         "tracegroupgap": 0
        },
        "margin": {
         "t": 60
        },
        "polar": {
         "angularaxis": {
          "direction": "clockwise",
          "rotation": 90
         },
         "domain": {
          "x": [
           0,
           1
          ],
          "y": [
           0,
           1
          ]
         }
        },
        "template": {
         "data": {
          "bar": [
           {
            "error_x": {
             "color": "#2a3f5f"
            },
            "error_y": {
             "color": "#2a3f5f"
            },
            "marker": {
             "line": {
              "color": "#E5ECF6",
              "width": 0.5
             },
             "pattern": {
              "fillmode": "overlay",
              "size": 10,
              "solidity": 0.2
             }
            },
            "type": "bar"
           }
          ],
          "barpolar": [
           {
            "marker": {
             "line": {
              "color": "#E5ECF6",
              "width": 0.5
             },
             "pattern": {
              "fillmode": "overlay",
              "size": 10,
              "solidity": 0.2
             }
            },
            "type": "barpolar"
           }
          ],
          "carpet": [
           {
            "aaxis": {
             "endlinecolor": "#2a3f5f",
             "gridcolor": "white",
             "linecolor": "white",
             "minorgridcolor": "white",
             "startlinecolor": "#2a3f5f"
            },
            "baxis": {
             "endlinecolor": "#2a3f5f",
             "gridcolor": "white",
             "linecolor": "white",
             "minorgridcolor": "white",
             "startlinecolor": "#2a3f5f"
            },
            "type": "carpet"
           }
          ],
          "choropleth": [
           {
            "colorbar": {
             "outlinewidth": 0,
             "ticks": ""
            },
            "type": "choropleth"
           }
          ],
          "contour": [
           {
            "colorbar": {
             "outlinewidth": 0,
             "ticks": ""
            },
            "colorscale": [
             [
              0,
              "#0d0887"
             ],
             [
              0.1111111111111111,
              "#46039f"
             ],
             [
              0.2222222222222222,
              "#7201a8"
             ],
             [
              0.3333333333333333,
              "#9c179e"
             ],
             [
              0.4444444444444444,
              "#bd3786"
             ],
             [
              0.5555555555555556,
              "#d8576b"
             ],
             [
              0.6666666666666666,
              "#ed7953"
             ],
             [
              0.7777777777777778,
              "#fb9f3a"
             ],
             [
              0.8888888888888888,
              "#fdca26"
             ],
             [
              1,
              "#f0f921"
             ]
            ],
            "type": "contour"
           }
          ],
          "contourcarpet": [
           {
            "colorbar": {
             "outlinewidth": 0,
             "ticks": ""
            },
            "type": "contourcarpet"
           }
          ],
          "heatmap": [
           {
            "colorbar": {
             "outlinewidth": 0,
             "ticks": ""
            },
            "colorscale": [
             [
              0,
              "#0d0887"
             ],
             [
              0.1111111111111111,
              "#46039f"
             ],
             [
              0.2222222222222222,
              "#7201a8"
             ],
             [
              0.3333333333333333,
              "#9c179e"
             ],
             [
              0.4444444444444444,
              "#bd3786"
             ],
             [
              0.5555555555555556,
              "#d8576b"
             ],
             [
              0.6666666666666666,
              "#ed7953"
             ],
             [
              0.7777777777777778,
              "#fb9f3a"
             ],
             [
              0.8888888888888888,
              "#fdca26"
             ],
             [
              1,
              "#f0f921"
             ]
            ],
            "type": "heatmap"
           }
          ],
          "heatmapgl": [
           {
            "colorbar": {
             "outlinewidth": 0,
             "ticks": ""
            },
            "colorscale": [
             [
              0,
              "#0d0887"
             ],
             [
              0.1111111111111111,
              "#46039f"
             ],
             [
              0.2222222222222222,
              "#7201a8"
             ],
             [
              0.3333333333333333,
              "#9c179e"
             ],
             [
              0.4444444444444444,
              "#bd3786"
             ],
             [
              0.5555555555555556,
              "#d8576b"
             ],
             [
              0.6666666666666666,
              "#ed7953"
             ],
             [
              0.7777777777777778,
              "#fb9f3a"
             ],
             [
              0.8888888888888888,
              "#fdca26"
             ],
             [
              1,
              "#f0f921"
             ]
            ],
            "type": "heatmapgl"
           }
          ],
          "histogram": [
           {
            "marker": {
             "pattern": {
              "fillmode": "overlay",
              "size": 10,
              "solidity": 0.2
             }
            },
            "type": "histogram"
           }
          ],
          "histogram2d": [
           {
            "colorbar": {
             "outlinewidth": 0,
             "ticks": ""
            },
            "colorscale": [
             [
              0,
              "#0d0887"
             ],
             [
              0.1111111111111111,
              "#46039f"
             ],
             [
              0.2222222222222222,
              "#7201a8"
             ],
             [
              0.3333333333333333,
              "#9c179e"
             ],
             [
              0.4444444444444444,
              "#bd3786"
             ],
             [
              0.5555555555555556,
              "#d8576b"
             ],
             [
              0.6666666666666666,
              "#ed7953"
             ],
             [
              0.7777777777777778,
              "#fb9f3a"
             ],
             [
              0.8888888888888888,
              "#fdca26"
             ],
             [
              1,
              "#f0f921"
             ]
            ],
            "type": "histogram2d"
           }
          ],
          "histogram2dcontour": [
           {
            "colorbar": {
             "outlinewidth": 0,
             "ticks": ""
            },
            "colorscale": [
             [
              0,
              "#0d0887"
             ],
             [
              0.1111111111111111,
              "#46039f"
             ],
             [
              0.2222222222222222,
              "#7201a8"
             ],
             [
              0.3333333333333333,
              "#9c179e"
             ],
             [
              0.4444444444444444,
              "#bd3786"
             ],
             [
              0.5555555555555556,
              "#d8576b"
             ],
             [
              0.6666666666666666,
              "#ed7953"
             ],
             [
              0.7777777777777778,
              "#fb9f3a"
             ],
             [
              0.8888888888888888,
              "#fdca26"
             ],
             [
              1,
              "#f0f921"
             ]
            ],
            "type": "histogram2dcontour"
           }
          ],
          "mesh3d": [
           {
            "colorbar": {
             "outlinewidth": 0,
             "ticks": ""
            },
            "type": "mesh3d"
           }
          ],
          "parcoords": [
           {
            "line": {
             "colorbar": {
              "outlinewidth": 0,
              "ticks": ""
             }
            },
            "type": "parcoords"
           }
          ],
          "pie": [
           {
            "automargin": true,
            "type": "pie"
           }
          ],
          "scatter": [
           {
            "fillpattern": {
             "fillmode": "overlay",
             "size": 10,
             "solidity": 0.2
            },
            "type": "scatter"
           }
          ],
          "scatter3d": [
           {
            "line": {
             "colorbar": {
              "outlinewidth": 0,
              "ticks": ""
             }
            },
            "marker": {
             "colorbar": {
              "outlinewidth": 0,
              "ticks": ""
             }
            },
            "type": "scatter3d"
           }
          ],
          "scattercarpet": [
           {
            "marker": {
             "colorbar": {
              "outlinewidth": 0,
              "ticks": ""
             }
            },
            "type": "scattercarpet"
           }
          ],
          "scattergeo": [
           {
            "marker": {
             "colorbar": {
              "outlinewidth": 0,
              "ticks": ""
             }
            },
            "type": "scattergeo"
           }
          ],
          "scattergl": [
           {
            "marker": {
             "colorbar": {
              "outlinewidth": 0,
              "ticks": ""
             }
            },
            "type": "scattergl"
           }
          ],
          "scattermapbox": [
           {
            "marker": {
             "colorbar": {
              "outlinewidth": 0,
              "ticks": ""
             }
            },
            "type": "scattermapbox"
           }
          ],
          "scatterpolar": [
           {
            "marker": {
             "colorbar": {
              "outlinewidth": 0,
              "ticks": ""
             }
            },
            "type": "scatterpolar"
           }
          ],
          "scatterpolargl": [
           {
            "marker": {
             "colorbar": {
              "outlinewidth": 0,
              "ticks": ""
             }
            },
            "type": "scatterpolargl"
           }
          ],
          "scatterternary": [
           {
            "marker": {
             "colorbar": {
              "outlinewidth": 0,
              "ticks": ""
             }
            },
            "type": "scatterternary"
           }
          ],
          "surface": [
           {
            "colorbar": {
             "outlinewidth": 0,
             "ticks": ""
            },
            "colorscale": [
             [
              0,
              "#0d0887"
             ],
             [
              0.1111111111111111,
              "#46039f"
             ],
             [
              0.2222222222222222,
              "#7201a8"
             ],
             [
              0.3333333333333333,
              "#9c179e"
             ],
             [
              0.4444444444444444,
              "#bd3786"
             ],
             [
              0.5555555555555556,
              "#d8576b"
             ],
             [
              0.6666666666666666,
              "#ed7953"
             ],
             [
              0.7777777777777778,
              "#fb9f3a"
             ],
             [
              0.8888888888888888,
              "#fdca26"
             ],
             [
              1,
              "#f0f921"
             ]
            ],
            "type": "surface"
           }
          ],
          "table": [
           {
            "cells": {
             "fill": {
              "color": "#EBF0F8"
             },
             "line": {
              "color": "white"
             }
            },
            "header": {
             "fill": {
              "color": "#C8D4E3"
             },
             "line": {
              "color": "white"
             }
            },
            "type": "table"
           }
          ]
         },
         "layout": {
          "annotationdefaults": {
           "arrowcolor": "#2a3f5f",
           "arrowhead": 0,
           "arrowwidth": 1
          },
          "autotypenumbers": "strict",
          "coloraxis": {
           "colorbar": {
            "outlinewidth": 0,
            "ticks": ""
           }
          },
          "colorscale": {
           "diverging": [
            [
             0,
             "#8e0152"
            ],
            [
             0.1,
             "#c51b7d"
            ],
            [
             0.2,
             "#de77ae"
            ],
            [
             0.3,
             "#f1b6da"
            ],
            [
             0.4,
             "#fde0ef"
            ],
            [
             0.5,
             "#f7f7f7"
            ],
            [
             0.6,
             "#e6f5d0"
            ],
            [
             0.7,
             "#b8e186"
            ],
            [
             0.8,
             "#7fbc41"
            ],
            [
             0.9,
             "#4d9221"
            ],
            [
             1,
             "#276419"
            ]
           ],
           "sequential": [
            [
             0,
             "#0d0887"
            ],
            [
             0.1111111111111111,
             "#46039f"
            ],
            [
             0.2222222222222222,
             "#7201a8"
            ],
            [
             0.3333333333333333,
             "#9c179e"
            ],
            [
             0.4444444444444444,
             "#bd3786"
            ],
            [
             0.5555555555555556,
             "#d8576b"
            ],
            [
             0.6666666666666666,
             "#ed7953"
            ],
            [
             0.7777777777777778,
             "#fb9f3a"
            ],
            [
             0.8888888888888888,
             "#fdca26"
            ],
            [
             1,
             "#f0f921"
            ]
           ],
           "sequentialminus": [
            [
             0,
             "#0d0887"
            ],
            [
             0.1111111111111111,
             "#46039f"
            ],
            [
             0.2222222222222222,
             "#7201a8"
            ],
            [
             0.3333333333333333,
             "#9c179e"
            ],
            [
             0.4444444444444444,
             "#bd3786"
            ],
            [
             0.5555555555555556,
             "#d8576b"
            ],
            [
             0.6666666666666666,
             "#ed7953"
            ],
            [
             0.7777777777777778,
             "#fb9f3a"
            ],
            [
             0.8888888888888888,
             "#fdca26"
            ],
            [
             1,
             "#f0f921"
            ]
           ]
          },
          "colorway": [
           "#636efa",
           "#EF553B",
           "#00cc96",
           "#ab63fa",
           "#FFA15A",
           "#19d3f3",
           "#FF6692",
           "#B6E880",
           "#FF97FF",
           "#FECB52"
          ],
          "font": {
           "color": "#2a3f5f"
          },
          "geo": {
           "bgcolor": "white",
           "lakecolor": "white",
           "landcolor": "#E5ECF6",
           "showlakes": true,
           "showland": true,
           "subunitcolor": "white"
          },
          "hoverlabel": {
           "align": "left"
          },
          "hovermode": "closest",
          "mapbox": {
           "style": "light"
          },
          "paper_bgcolor": "white",
          "plot_bgcolor": "#E5ECF6",
          "polar": {
           "angularaxis": {
            "gridcolor": "white",
            "linecolor": "white",
            "ticks": ""
           },
           "bgcolor": "#E5ECF6",
           "radialaxis": {
            "gridcolor": "white",
            "linecolor": "white",
            "ticks": ""
           }
          },
          "scene": {
           "xaxis": {
            "backgroundcolor": "#E5ECF6",
            "gridcolor": "white",
            "gridwidth": 2,
            "linecolor": "white",
            "showbackground": true,
            "ticks": "",
            "zerolinecolor": "white"
           },
           "yaxis": {
            "backgroundcolor": "#E5ECF6",
            "gridcolor": "white",
            "gridwidth": 2,
            "linecolor": "white",
            "showbackground": true,
            "ticks": "",
            "zerolinecolor": "white"
           },
           "zaxis": {
            "backgroundcolor": "#E5ECF6",
            "gridcolor": "white",
            "gridwidth": 2,
            "linecolor": "white",
            "showbackground": true,
            "ticks": "",
            "zerolinecolor": "white"
           }
          },
          "shapedefaults": {
           "line": {
            "color": "#2a3f5f"
           }
          },
          "ternary": {
           "aaxis": {
            "gridcolor": "white",
            "linecolor": "white",
            "ticks": ""
           },
           "baxis": {
            "gridcolor": "white",
            "linecolor": "white",
            "ticks": ""
           },
           "bgcolor": "#E5ECF6",
           "caxis": {
            "gridcolor": "white",
            "linecolor": "white",
            "ticks": ""
           }
          },
          "title": {
           "x": 0.05
          },
          "xaxis": {
           "automargin": true,
           "gridcolor": "white",
           "linecolor": "white",
           "ticks": "",
           "title": {
            "standoff": 15
           },
           "zerolinecolor": "white",
           "zerolinewidth": 2
          },
          "yaxis": {
           "automargin": true,
           "gridcolor": "white",
           "linecolor": "white",
           "ticks": "",
           "title": {
            "standoff": 15
           },
           "zerolinecolor": "white",
           "zerolinewidth": 2
          }
         }
        }
       }
      },
      "text/html": [
       "<div>                            <div id=\"9121297a-5600-48a2-b244-fb9a54910b7c\" class=\"plotly-graph-div\" style=\"height:525px; width:100%;\"></div>            <script type=\"text/javascript\">                require([\"plotly\"], function(Plotly) {                    window.PLOTLYENV=window.PLOTLYENV || {};                                    if (document.getElementById(\"9121297a-5600-48a2-b244-fb9a54910b7c\")) {                    Plotly.newPlot(                        \"9121297a-5600-48a2-b244-fb9a54910b7c\",                        [{\"hovertemplate\":\"Method=Time-Transformer\\u003cbr\\u003evalue=%{r}\\u003cbr\\u003eMetric=%{theta}\\u003cextra\\u003e\\u003c\\u002fextra\\u003e\",\"legendgroup\":\"Time-Transformer\",\"line\":{\"color\":\"#636efa\",\"dash\":\"solid\"},\"marker\":{\"symbol\":\"circle\"},\"mode\":\"lines\",\"name\":\"Time-Transformer\",\"r\":[0.2560873077974319,0.78778090133829,1.0,0.7975597414344181,0.9341145844366513,0.8295325411967761,0.9283531962675368,0.9999999897304689,0.9999999888436512,0.2560873077974319],\"showlegend\":true,\"subplot\":\"polar\",\"theta\":[\"DS\",\"PS\",\"C-FID\",\"MDD\",\"ACD\",\"SD\",\"KD\",\"ED\",\"DTW\",\"DS\"],\"type\":\"scatterpolar\"},{\"hovertemplate\":\"Method=TimeGAN\\u003cbr\\u003evalue=%{r}\\u003cbr\\u003eMetric=%{theta}\\u003cextra\\u003e\\u003c\\u002fextra\\u003e\",\"legendgroup\":\"TimeGAN\",\"line\":{\"color\":\"#EF553B\",\"dash\":\"solid\"},\"marker\":{\"symbol\":\"circle\"},\"mode\":\"lines\",\"name\":\"TimeGAN\",\"r\":[0.47470997576741686,0.7867422808181392,1.0,0.9207344511577392,0.8956924389255123,0.8302653958626324,0.928359187683883,0.9999999893742372,0.9999999885571027,0.47470997576741686],\"showlegend\":true,\"subplot\":\"polar\",\"theta\":[\"DS\",\"PS\",\"C-FID\",\"MDD\",\"ACD\",\"SD\",\"KD\",\"ED\",\"DTW\",\"DS\"],\"type\":\"scatterpolar\"},{\"hovertemplate\":\"Method=TransFusion\\u003cbr\\u003evalue=%{r}\\u003cbr\\u003eMetric=%{theta}\\u003cextra\\u003e\\u003c\\u002fextra\\u003e\",\"legendgroup\":\"TransFusion\",\"line\":{\"color\":\"#00cc96\",\"dash\":\"solid\"},\"marker\":{\"symbol\":\"circle\"},\"mode\":\"lines\",\"name\":\"TransFusion\",\"r\":[0.7746194523091378,0.8352814942534691,1.0,0.8374849551277297,0.9928613399090497,0.8612787456031574,0.8333046316841526,0.9999999895011449,0.9999999885991979,0.7746194523091378],\"showlegend\":true,\"subplot\":\"polar\",\"theta\":[\"DS\",\"PS\",\"C-FID\",\"MDD\",\"ACD\",\"SD\",\"KD\",\"ED\",\"DTW\",\"DS\"],\"type\":\"scatterpolar\"}],                        {\"template\":{\"data\":{\"histogram2dcontour\":[{\"type\":\"histogram2dcontour\",\"colorbar\":{\"outlinewidth\":0,\"ticks\":\"\"},\"colorscale\":[[0.0,\"#0d0887\"],[0.1111111111111111,\"#46039f\"],[0.2222222222222222,\"#7201a8\"],[0.3333333333333333,\"#9c179e\"],[0.4444444444444444,\"#bd3786\"],[0.5555555555555556,\"#d8576b\"],[0.6666666666666666,\"#ed7953\"],[0.7777777777777778,\"#fb9f3a\"],[0.8888888888888888,\"#fdca26\"],[1.0,\"#f0f921\"]]}],\"choropleth\":[{\"type\":\"choropleth\",\"colorbar\":{\"outlinewidth\":0,\"ticks\":\"\"}}],\"histogram2d\":[{\"type\":\"histogram2d\",\"colorbar\":{\"outlinewidth\":0,\"ticks\":\"\"},\"colorscale\":[[0.0,\"#0d0887\"],[0.1111111111111111,\"#46039f\"],[0.2222222222222222,\"#7201a8\"],[0.3333333333333333,\"#9c179e\"],[0.4444444444444444,\"#bd3786\"],[0.5555555555555556,\"#d8576b\"],[0.6666666666666666,\"#ed7953\"],[0.7777777777777778,\"#fb9f3a\"],[0.8888888888888888,\"#fdca26\"],[1.0,\"#f0f921\"]]}],\"heatmap\":[{\"type\":\"heatmap\",\"colorbar\":{\"outlinewidth\":0,\"ticks\":\"\"},\"colorscale\":[[0.0,\"#0d0887\"],[0.1111111111111111,\"#46039f\"],[0.2222222222222222,\"#7201a8\"],[0.3333333333333333,\"#9c179e\"],[0.4444444444444444,\"#bd3786\"],[0.5555555555555556,\"#d8576b\"],[0.6666666666666666,\"#ed7953\"],[0.7777777777777778,\"#fb9f3a\"],[0.8888888888888888,\"#fdca26\"],[1.0,\"#f0f921\"]]}],\"heatmapgl\":[{\"type\":\"heatmapgl\",\"colorbar\":{\"outlinewidth\":0,\"ticks\":\"\"},\"colorscale\":[[0.0,\"#0d0887\"],[0.1111111111111111,\"#46039f\"],[0.2222222222222222,\"#7201a8\"],[0.3333333333333333,\"#9c179e\"],[0.4444444444444444,\"#bd3786\"],[0.5555555555555556,\"#d8576b\"],[0.6666666666666666,\"#ed7953\"],[0.7777777777777778,\"#fb9f3a\"],[0.8888888888888888,\"#fdca26\"],[1.0,\"#f0f921\"]]}],\"contourcarpet\":[{\"type\":\"contourcarpet\",\"colorbar\":{\"outlinewidth\":0,\"ticks\":\"\"}}],\"contour\":[{\"type\":\"contour\",\"colorbar\":{\"outlinewidth\":0,\"ticks\":\"\"},\"colorscale\":[[0.0,\"#0d0887\"],[0.1111111111111111,\"#46039f\"],[0.2222222222222222,\"#7201a8\"],[0.3333333333333333,\"#9c179e\"],[0.4444444444444444,\"#bd3786\"],[0.5555555555555556,\"#d8576b\"],[0.6666666666666666,\"#ed7953\"],[0.7777777777777778,\"#fb9f3a\"],[0.8888888888888888,\"#fdca26\"],[1.0,\"#f0f921\"]]}],\"surface\":[{\"type\":\"surface\",\"colorbar\":{\"outlinewidth\":0,\"ticks\":\"\"},\"colorscale\":[[0.0,\"#0d0887\"],[0.1111111111111111,\"#46039f\"],[0.2222222222222222,\"#7201a8\"],[0.3333333333333333,\"#9c179e\"],[0.4444444444444444,\"#bd3786\"],[0.5555555555555556,\"#d8576b\"],[0.6666666666666666,\"#ed7953\"],[0.7777777777777778,\"#fb9f3a\"],[0.8888888888888888,\"#fdca26\"],[1.0,\"#f0f921\"]]}],\"mesh3d\":[{\"type\":\"mesh3d\",\"colorbar\":{\"outlinewidth\":0,\"ticks\":\"\"}}],\"scatter\":[{\"fillpattern\":{\"fillmode\":\"overlay\",\"size\":10,\"solidity\":0.2},\"type\":\"scatter\"}],\"parcoords\":[{\"type\":\"parcoords\",\"line\":{\"colorbar\":{\"outlinewidth\":0,\"ticks\":\"\"}}}],\"scatterpolargl\":[{\"type\":\"scatterpolargl\",\"marker\":{\"colorbar\":{\"outlinewidth\":0,\"ticks\":\"\"}}}],\"bar\":[{\"error_x\":{\"color\":\"#2a3f5f\"},\"error_y\":{\"color\":\"#2a3f5f\"},\"marker\":{\"line\":{\"color\":\"#E5ECF6\",\"width\":0.5},\"pattern\":{\"fillmode\":\"overlay\",\"size\":10,\"solidity\":0.2}},\"type\":\"bar\"}],\"scattergeo\":[{\"type\":\"scattergeo\",\"marker\":{\"colorbar\":{\"outlinewidth\":0,\"ticks\":\"\"}}}],\"scatterpolar\":[{\"type\":\"scatterpolar\",\"marker\":{\"colorbar\":{\"outlinewidth\":0,\"ticks\":\"\"}}}],\"histogram\":[{\"marker\":{\"pattern\":{\"fillmode\":\"overlay\",\"size\":10,\"solidity\":0.2}},\"type\":\"histogram\"}],\"scattergl\":[{\"type\":\"scattergl\",\"marker\":{\"colorbar\":{\"outlinewidth\":0,\"ticks\":\"\"}}}],\"scatter3d\":[{\"type\":\"scatter3d\",\"line\":{\"colorbar\":{\"outlinewidth\":0,\"ticks\":\"\"}},\"marker\":{\"colorbar\":{\"outlinewidth\":0,\"ticks\":\"\"}}}],\"scattermapbox\":[{\"type\":\"scattermapbox\",\"marker\":{\"colorbar\":{\"outlinewidth\":0,\"ticks\":\"\"}}}],\"scatterternary\":[{\"type\":\"scatterternary\",\"marker\":{\"colorbar\":{\"outlinewidth\":0,\"ticks\":\"\"}}}],\"scattercarpet\":[{\"type\":\"scattercarpet\",\"marker\":{\"colorbar\":{\"outlinewidth\":0,\"ticks\":\"\"}}}],\"carpet\":[{\"aaxis\":{\"endlinecolor\":\"#2a3f5f\",\"gridcolor\":\"white\",\"linecolor\":\"white\",\"minorgridcolor\":\"white\",\"startlinecolor\":\"#2a3f5f\"},\"baxis\":{\"endlinecolor\":\"#2a3f5f\",\"gridcolor\":\"white\",\"linecolor\":\"white\",\"minorgridcolor\":\"white\",\"startlinecolor\":\"#2a3f5f\"},\"type\":\"carpet\"}],\"table\":[{\"cells\":{\"fill\":{\"color\":\"#EBF0F8\"},\"line\":{\"color\":\"white\"}},\"header\":{\"fill\":{\"color\":\"#C8D4E3\"},\"line\":{\"color\":\"white\"}},\"type\":\"table\"}],\"barpolar\":[{\"marker\":{\"line\":{\"color\":\"#E5ECF6\",\"width\":0.5},\"pattern\":{\"fillmode\":\"overlay\",\"size\":10,\"solidity\":0.2}},\"type\":\"barpolar\"}],\"pie\":[{\"automargin\":true,\"type\":\"pie\"}]},\"layout\":{\"autotypenumbers\":\"strict\",\"colorway\":[\"#636efa\",\"#EF553B\",\"#00cc96\",\"#ab63fa\",\"#FFA15A\",\"#19d3f3\",\"#FF6692\",\"#B6E880\",\"#FF97FF\",\"#FECB52\"],\"font\":{\"color\":\"#2a3f5f\"},\"hovermode\":\"closest\",\"hoverlabel\":{\"align\":\"left\"},\"paper_bgcolor\":\"white\",\"plot_bgcolor\":\"#E5ECF6\",\"polar\":{\"bgcolor\":\"#E5ECF6\",\"angularaxis\":{\"gridcolor\":\"white\",\"linecolor\":\"white\",\"ticks\":\"\"},\"radialaxis\":{\"gridcolor\":\"white\",\"linecolor\":\"white\",\"ticks\":\"\"}},\"ternary\":{\"bgcolor\":\"#E5ECF6\",\"aaxis\":{\"gridcolor\":\"white\",\"linecolor\":\"white\",\"ticks\":\"\"},\"baxis\":{\"gridcolor\":\"white\",\"linecolor\":\"white\",\"ticks\":\"\"},\"caxis\":{\"gridcolor\":\"white\",\"linecolor\":\"white\",\"ticks\":\"\"}},\"coloraxis\":{\"colorbar\":{\"outlinewidth\":0,\"ticks\":\"\"}},\"colorscale\":{\"sequential\":[[0.0,\"#0d0887\"],[0.1111111111111111,\"#46039f\"],[0.2222222222222222,\"#7201a8\"],[0.3333333333333333,\"#9c179e\"],[0.4444444444444444,\"#bd3786\"],[0.5555555555555556,\"#d8576b\"],[0.6666666666666666,\"#ed7953\"],[0.7777777777777778,\"#fb9f3a\"],[0.8888888888888888,\"#fdca26\"],[1.0,\"#f0f921\"]],\"sequentialminus\":[[0.0,\"#0d0887\"],[0.1111111111111111,\"#46039f\"],[0.2222222222222222,\"#7201a8\"],[0.3333333333333333,\"#9c179e\"],[0.4444444444444444,\"#bd3786\"],[0.5555555555555556,\"#d8576b\"],[0.6666666666666666,\"#ed7953\"],[0.7777777777777778,\"#fb9f3a\"],[0.8888888888888888,\"#fdca26\"],[1.0,\"#f0f921\"]],\"diverging\":[[0,\"#8e0152\"],[0.1,\"#c51b7d\"],[0.2,\"#de77ae\"],[0.3,\"#f1b6da\"],[0.4,\"#fde0ef\"],[0.5,\"#f7f7f7\"],[0.6,\"#e6f5d0\"],[0.7,\"#b8e186\"],[0.8,\"#7fbc41\"],[0.9,\"#4d9221\"],[1,\"#276419\"]]},\"xaxis\":{\"gridcolor\":\"white\",\"linecolor\":\"white\",\"ticks\":\"\",\"title\":{\"standoff\":15},\"zerolinecolor\":\"white\",\"automargin\":true,\"zerolinewidth\":2},\"yaxis\":{\"gridcolor\":\"white\",\"linecolor\":\"white\",\"ticks\":\"\",\"title\":{\"standoff\":15},\"zerolinecolor\":\"white\",\"automargin\":true,\"zerolinewidth\":2},\"scene\":{\"xaxis\":{\"backgroundcolor\":\"#E5ECF6\",\"gridcolor\":\"white\",\"linecolor\":\"white\",\"showbackground\":true,\"ticks\":\"\",\"zerolinecolor\":\"white\",\"gridwidth\":2},\"yaxis\":{\"backgroundcolor\":\"#E5ECF6\",\"gridcolor\":\"white\",\"linecolor\":\"white\",\"showbackground\":true,\"ticks\":\"\",\"zerolinecolor\":\"white\",\"gridwidth\":2},\"zaxis\":{\"backgroundcolor\":\"#E5ECF6\",\"gridcolor\":\"white\",\"linecolor\":\"white\",\"showbackground\":true,\"ticks\":\"\",\"zerolinecolor\":\"white\",\"gridwidth\":2}},\"shapedefaults\":{\"line\":{\"color\":\"#2a3f5f\"}},\"annotationdefaults\":{\"arrowcolor\":\"#2a3f5f\",\"arrowhead\":0,\"arrowwidth\":1},\"geo\":{\"bgcolor\":\"white\",\"landcolor\":\"#E5ECF6\",\"subunitcolor\":\"white\",\"showland\":true,\"showlakes\":true,\"lakecolor\":\"white\"},\"title\":{\"x\":0.05},\"mapbox\":{\"style\":\"light\"}}},\"polar\":{\"domain\":{\"x\":[0.0,1.0],\"y\":[0.0,1.0]},\"angularaxis\":{\"direction\":\"clockwise\",\"rotation\":90}},\"legend\":{\"title\":{\"text\":\"Method\"},\"tracegroupgap\":0},\"margin\":{\"t\":60}},                        {\"responsive\": true}                    ).then(function(){\n",
       "                            \n",
       "var gd = document.getElementById('9121297a-5600-48a2-b244-fb9a54910b7c');\n",
       "var x = new MutationObserver(function (mutations, observer) {{\n",
       "        var display = window.getComputedStyle(gd).display;\n",
       "        if (!display || display === 'none') {{\n",
       "            console.log([gd, 'removed!']);\n",
       "            Plotly.purge(gd);\n",
       "            observer.disconnect();\n",
       "        }}\n",
       "}});\n",
       "\n",
       "// Listen for the removal of the full notebook cells\n",
       "var notebookContainer = gd.closest('#notebook-container');\n",
       "if (notebookContainer) {{\n",
       "    x.observe(notebookContainer, {childList: true});\n",
       "}}\n",
       "\n",
       "// Listen for the clearing of the current output cell\n",
       "var outputEl = gd.closest('.output');\n",
       "if (outputEl) {{\n",
       "    x.observe(outputEl, {childList: true});\n",
       "}}\n",
       "\n",
       "                        })                };                });            </script>        </div>"
      ]
     },
     "metadata": {},
     "output_type": "display_data"
    }
   ],
   "source": [
    "# Min-Max scale by metric and reverse score so 1 is best and 0 is worst\n",
    "df_minmax = 1 - ((df - df.min()) / (df.max() - df.min()))\n",
    "\n",
    "\n",
    "df_mean_by_metric = df_minmax.groupby('Method').mean()\n",
    "\n",
    "\n",
    "df_spider_by_metric = df_mean_by_metric.reset_index().melt(id_vars=\"Method\", var_name=\"Metric\")\n",
    "df_spider_by_metric = df_spider_by_metric[df_spider_by_metric[\"Method\"] != \"TTS-GAN\"] # remove tts-gan\n",
    "\n",
    "import plotly.express as px\n",
    "\n",
    "px.line_polar(df_spider_by_metric, r=\"value\", theta=\"Metric\", color=\"Method\", line_close=True)"
   ]
  },
  {
   "cell_type": "code",
   "execution_count": 15,
   "id": "0d574b3b",
   "metadata": {},
   "outputs": [
    {
     "data": {
      "application/vnd.plotly.v1+json": {
       "config": {
        "plotlyServerURL": "https://plot.ly"
       },
       "data": [
        {
         "hovertemplate": "Method=Time-Transformer<br>value=%{r}<br>Dataset=%{theta}<extra></extra>",
         "legendgroup": "Time-Transformer",
         "line": {
          "color": "#636efa",
          "dash": "solid"
         },
         "marker": {
          "symbol": "circle"
         },
         "mode": "lines",
         "name": "Time-Transformer",
         "r": [
          0.9057824148221157,
          0.9039393972658725,
          0.952554245568996,
          0.8253284064108767,
          0.8292077833588453,
          0.6054732532701098,
          0.9057824148221157
         ],
         "showlegend": true,
         "subplot": "polar",
         "theta": [
          "D2",
          "D3",
          "D4",
          "D5",
          "D6",
          "D7",
          "D2"
         ],
         "type": "scatterpolar"
        },
        {
         "hovertemplate": "Method=TimeGAN<br>value=%{r}<br>Dataset=%{theta}<extra></extra>",
         "legendgroup": "TimeGAN",
         "line": {
          "color": "#EF553B",
          "dash": "solid"
         },
         "marker": {
          "symbol": "circle"
         },
         "mode": "lines",
         "name": "TimeGAN",
         "r": [
          0.9626722279294267,
          0.9018875720126742,
          0.9419743064991697,
          0.8361557122415735,
          0.7940075394197816,
          0.7876384473284832,
          0.9626722279294267
         ],
         "showlegend": true,
         "subplot": "polar",
         "theta": [
          "D2",
          "D3",
          "D4",
          "D5",
          "D6",
          "D7",
          "D2"
         ],
         "type": "scatterpolar"
        },
        {
         "hovertemplate": "Method=TransFusion<br>value=%{r}<br>Dataset=%{theta}<extra></extra>",
         "legendgroup": "TransFusion",
         "line": {
          "color": "#00cc96",
          "dash": "solid"
         },
         "marker": {
          "symbol": "circle"
         },
         "mode": "lines",
         "name": "TransFusion",
         "r": [
          0.9519142336523978,
          0.9894123584618776,
          0.976776237451249,
          0.928449066082183,
          0.9230023286530646,
          0.6536661736905873,
          0.9519142336523978
         ],
         "showlegend": true,
         "subplot": "polar",
         "theta": [
          "D2",
          "D3",
          "D4",
          "D5",
          "D6",
          "D7",
          "D2"
         ],
         "type": "scatterpolar"
        }
       ],
       "layout": {
        "legend": {
         "title": {
          "text": "Method"
         },
         "tracegroupgap": 0
        },
        "margin": {
         "t": 60
        },
        "polar": {
         "angularaxis": {
          "direction": "clockwise",
          "rotation": 90
         },
         "domain": {
          "x": [
           0,
           1
          ],
          "y": [
           0,
           1
          ]
         }
        },
        "template": {
         "data": {
          "bar": [
           {
            "error_x": {
             "color": "#2a3f5f"
            },
            "error_y": {
             "color": "#2a3f5f"
            },
            "marker": {
             "line": {
              "color": "#E5ECF6",
              "width": 0.5
             },
             "pattern": {
              "fillmode": "overlay",
              "size": 10,
              "solidity": 0.2
             }
            },
            "type": "bar"
           }
          ],
          "barpolar": [
           {
            "marker": {
             "line": {
              "color": "#E5ECF6",
              "width": 0.5
             },
             "pattern": {
              "fillmode": "overlay",
              "size": 10,
              "solidity": 0.2
             }
            },
            "type": "barpolar"
           }
          ],
          "carpet": [
           {
            "aaxis": {
             "endlinecolor": "#2a3f5f",
             "gridcolor": "white",
             "linecolor": "white",
             "minorgridcolor": "white",
             "startlinecolor": "#2a3f5f"
            },
            "baxis": {
             "endlinecolor": "#2a3f5f",
             "gridcolor": "white",
             "linecolor": "white",
             "minorgridcolor": "white",
             "startlinecolor": "#2a3f5f"
            },
            "type": "carpet"
           }
          ],
          "choropleth": [
           {
            "colorbar": {
             "outlinewidth": 0,
             "ticks": ""
            },
            "type": "choropleth"
           }
          ],
          "contour": [
           {
            "colorbar": {
             "outlinewidth": 0,
             "ticks": ""
            },
            "colorscale": [
             [
              0,
              "#0d0887"
             ],
             [
              0.1111111111111111,
              "#46039f"
             ],
             [
              0.2222222222222222,
              "#7201a8"
             ],
             [
              0.3333333333333333,
              "#9c179e"
             ],
             [
              0.4444444444444444,
              "#bd3786"
             ],
             [
              0.5555555555555556,
              "#d8576b"
             ],
             [
              0.6666666666666666,
              "#ed7953"
             ],
             [
              0.7777777777777778,
              "#fb9f3a"
             ],
             [
              0.8888888888888888,
              "#fdca26"
             ],
             [
              1,
              "#f0f921"
             ]
            ],
            "type": "contour"
           }
          ],
          "contourcarpet": [
           {
            "colorbar": {
             "outlinewidth": 0,
             "ticks": ""
            },
            "type": "contourcarpet"
           }
          ],
          "heatmap": [
           {
            "colorbar": {
             "outlinewidth": 0,
             "ticks": ""
            },
            "colorscale": [
             [
              0,
              "#0d0887"
             ],
             [
              0.1111111111111111,
              "#46039f"
             ],
             [
              0.2222222222222222,
              "#7201a8"
             ],
             [
              0.3333333333333333,
              "#9c179e"
             ],
             [
              0.4444444444444444,
              "#bd3786"
             ],
             [
              0.5555555555555556,
              "#d8576b"
             ],
             [
              0.6666666666666666,
              "#ed7953"
             ],
             [
              0.7777777777777778,
              "#fb9f3a"
             ],
             [
              0.8888888888888888,
              "#fdca26"
             ],
             [
              1,
              "#f0f921"
             ]
            ],
            "type": "heatmap"
           }
          ],
          "heatmapgl": [
           {
            "colorbar": {
             "outlinewidth": 0,
             "ticks": ""
            },
            "colorscale": [
             [
              0,
              "#0d0887"
             ],
             [
              0.1111111111111111,
              "#46039f"
             ],
             [
              0.2222222222222222,
              "#7201a8"
             ],
             [
              0.3333333333333333,
              "#9c179e"
             ],
             [
              0.4444444444444444,
              "#bd3786"
             ],
             [
              0.5555555555555556,
              "#d8576b"
             ],
             [
              0.6666666666666666,
              "#ed7953"
             ],
             [
              0.7777777777777778,
              "#fb9f3a"
             ],
             [
              0.8888888888888888,
              "#fdca26"
             ],
             [
              1,
              "#f0f921"
             ]
            ],
            "type": "heatmapgl"
           }
          ],
          "histogram": [
           {
            "marker": {
             "pattern": {
              "fillmode": "overlay",
              "size": 10,
              "solidity": 0.2
             }
            },
            "type": "histogram"
           }
          ],
          "histogram2d": [
           {
            "colorbar": {
             "outlinewidth": 0,
             "ticks": ""
            },
            "colorscale": [
             [
              0,
              "#0d0887"
             ],
             [
              0.1111111111111111,
              "#46039f"
             ],
             [
              0.2222222222222222,
              "#7201a8"
             ],
             [
              0.3333333333333333,
              "#9c179e"
             ],
             [
              0.4444444444444444,
              "#bd3786"
             ],
             [
              0.5555555555555556,
              "#d8576b"
             ],
             [
              0.6666666666666666,
              "#ed7953"
             ],
             [
              0.7777777777777778,
              "#fb9f3a"
             ],
             [
              0.8888888888888888,
              "#fdca26"
             ],
             [
              1,
              "#f0f921"
             ]
            ],
            "type": "histogram2d"
           }
          ],
          "histogram2dcontour": [
           {
            "colorbar": {
             "outlinewidth": 0,
             "ticks": ""
            },
            "colorscale": [
             [
              0,
              "#0d0887"
             ],
             [
              0.1111111111111111,
              "#46039f"
             ],
             [
              0.2222222222222222,
              "#7201a8"
             ],
             [
              0.3333333333333333,
              "#9c179e"
             ],
             [
              0.4444444444444444,
              "#bd3786"
             ],
             [
              0.5555555555555556,
              "#d8576b"
             ],
             [
              0.6666666666666666,
              "#ed7953"
             ],
             [
              0.7777777777777778,
              "#fb9f3a"
             ],
             [
              0.8888888888888888,
              "#fdca26"
             ],
             [
              1,
              "#f0f921"
             ]
            ],
            "type": "histogram2dcontour"
           }
          ],
          "mesh3d": [
           {
            "colorbar": {
             "outlinewidth": 0,
             "ticks": ""
            },
            "type": "mesh3d"
           }
          ],
          "parcoords": [
           {
            "line": {
             "colorbar": {
              "outlinewidth": 0,
              "ticks": ""
             }
            },
            "type": "parcoords"
           }
          ],
          "pie": [
           {
            "automargin": true,
            "type": "pie"
           }
          ],
          "scatter": [
           {
            "fillpattern": {
             "fillmode": "overlay",
             "size": 10,
             "solidity": 0.2
            },
            "type": "scatter"
           }
          ],
          "scatter3d": [
           {
            "line": {
             "colorbar": {
              "outlinewidth": 0,
              "ticks": ""
             }
            },
            "marker": {
             "colorbar": {
              "outlinewidth": 0,
              "ticks": ""
             }
            },
            "type": "scatter3d"
           }
          ],
          "scattercarpet": [
           {
            "marker": {
             "colorbar": {
              "outlinewidth": 0,
              "ticks": ""
             }
            },
            "type": "scattercarpet"
           }
          ],
          "scattergeo": [
           {
            "marker": {
             "colorbar": {
              "outlinewidth": 0,
              "ticks": ""
             }
            },
            "type": "scattergeo"
           }
          ],
          "scattergl": [
           {
            "marker": {
             "colorbar": {
              "outlinewidth": 0,
              "ticks": ""
             }
            },
            "type": "scattergl"
           }
          ],
          "scattermapbox": [
           {
            "marker": {
             "colorbar": {
              "outlinewidth": 0,
              "ticks": ""
             }
            },
            "type": "scattermapbox"
           }
          ],
          "scatterpolar": [
           {
            "marker": {
             "colorbar": {
              "outlinewidth": 0,
              "ticks": ""
             }
            },
            "type": "scatterpolar"
           }
          ],
          "scatterpolargl": [
           {
            "marker": {
             "colorbar": {
              "outlinewidth": 0,
              "ticks": ""
             }
            },
            "type": "scatterpolargl"
           }
          ],
          "scatterternary": [
           {
            "marker": {
             "colorbar": {
              "outlinewidth": 0,
              "ticks": ""
             }
            },
            "type": "scatterternary"
           }
          ],
          "surface": [
           {
            "colorbar": {
             "outlinewidth": 0,
             "ticks": ""
            },
            "colorscale": [
             [
              0,
              "#0d0887"
             ],
             [
              0.1111111111111111,
              "#46039f"
             ],
             [
              0.2222222222222222,
              "#7201a8"
             ],
             [
              0.3333333333333333,
              "#9c179e"
             ],
             [
              0.4444444444444444,
              "#bd3786"
             ],
             [
              0.5555555555555556,
              "#d8576b"
             ],
             [
              0.6666666666666666,
              "#ed7953"
             ],
             [
              0.7777777777777778,
              "#fb9f3a"
             ],
             [
              0.8888888888888888,
              "#fdca26"
             ],
             [
              1,
              "#f0f921"
             ]
            ],
            "type": "surface"
           }
          ],
          "table": [
           {
            "cells": {
             "fill": {
              "color": "#EBF0F8"
             },
             "line": {
              "color": "white"
             }
            },
            "header": {
             "fill": {
              "color": "#C8D4E3"
             },
             "line": {
              "color": "white"
             }
            },
            "type": "table"
           }
          ]
         },
         "layout": {
          "annotationdefaults": {
           "arrowcolor": "#2a3f5f",
           "arrowhead": 0,
           "arrowwidth": 1
          },
          "autotypenumbers": "strict",
          "coloraxis": {
           "colorbar": {
            "outlinewidth": 0,
            "ticks": ""
           }
          },
          "colorscale": {
           "diverging": [
            [
             0,
             "#8e0152"
            ],
            [
             0.1,
             "#c51b7d"
            ],
            [
             0.2,
             "#de77ae"
            ],
            [
             0.3,
             "#f1b6da"
            ],
            [
             0.4,
             "#fde0ef"
            ],
            [
             0.5,
             "#f7f7f7"
            ],
            [
             0.6,
             "#e6f5d0"
            ],
            [
             0.7,
             "#b8e186"
            ],
            [
             0.8,
             "#7fbc41"
            ],
            [
             0.9,
             "#4d9221"
            ],
            [
             1,
             "#276419"
            ]
           ],
           "sequential": [
            [
             0,
             "#0d0887"
            ],
            [
             0.1111111111111111,
             "#46039f"
            ],
            [
             0.2222222222222222,
             "#7201a8"
            ],
            [
             0.3333333333333333,
             "#9c179e"
            ],
            [
             0.4444444444444444,
             "#bd3786"
            ],
            [
             0.5555555555555556,
             "#d8576b"
            ],
            [
             0.6666666666666666,
             "#ed7953"
            ],
            [
             0.7777777777777778,
             "#fb9f3a"
            ],
            [
             0.8888888888888888,
             "#fdca26"
            ],
            [
             1,
             "#f0f921"
            ]
           ],
           "sequentialminus": [
            [
             0,
             "#0d0887"
            ],
            [
             0.1111111111111111,
             "#46039f"
            ],
            [
             0.2222222222222222,
             "#7201a8"
            ],
            [
             0.3333333333333333,
             "#9c179e"
            ],
            [
             0.4444444444444444,
             "#bd3786"
            ],
            [
             0.5555555555555556,
             "#d8576b"
            ],
            [
             0.6666666666666666,
             "#ed7953"
            ],
            [
             0.7777777777777778,
             "#fb9f3a"
            ],
            [
             0.8888888888888888,
             "#fdca26"
            ],
            [
             1,
             "#f0f921"
            ]
           ]
          },
          "colorway": [
           "#636efa",
           "#EF553B",
           "#00cc96",
           "#ab63fa",
           "#FFA15A",
           "#19d3f3",
           "#FF6692",
           "#B6E880",
           "#FF97FF",
           "#FECB52"
          ],
          "font": {
           "color": "#2a3f5f"
          },
          "geo": {
           "bgcolor": "white",
           "lakecolor": "white",
           "landcolor": "#E5ECF6",
           "showlakes": true,
           "showland": true,
           "subunitcolor": "white"
          },
          "hoverlabel": {
           "align": "left"
          },
          "hovermode": "closest",
          "mapbox": {
           "style": "light"
          },
          "paper_bgcolor": "white",
          "plot_bgcolor": "#E5ECF6",
          "polar": {
           "angularaxis": {
            "gridcolor": "white",
            "linecolor": "white",
            "ticks": ""
           },
           "bgcolor": "#E5ECF6",
           "radialaxis": {
            "gridcolor": "white",
            "linecolor": "white",
            "ticks": ""
           }
          },
          "scene": {
           "xaxis": {
            "backgroundcolor": "#E5ECF6",
            "gridcolor": "white",
            "gridwidth": 2,
            "linecolor": "white",
            "showbackground": true,
            "ticks": "",
            "zerolinecolor": "white"
           },
           "yaxis": {
            "backgroundcolor": "#E5ECF6",
            "gridcolor": "white",
            "gridwidth": 2,
            "linecolor": "white",
            "showbackground": true,
            "ticks": "",
            "zerolinecolor": "white"
           },
           "zaxis": {
            "backgroundcolor": "#E5ECF6",
            "gridcolor": "white",
            "gridwidth": 2,
            "linecolor": "white",
            "showbackground": true,
            "ticks": "",
            "zerolinecolor": "white"
           }
          },
          "shapedefaults": {
           "line": {
            "color": "#2a3f5f"
           }
          },
          "ternary": {
           "aaxis": {
            "gridcolor": "white",
            "linecolor": "white",
            "ticks": ""
           },
           "baxis": {
            "gridcolor": "white",
            "linecolor": "white",
            "ticks": ""
           },
           "bgcolor": "#E5ECF6",
           "caxis": {
            "gridcolor": "white",
            "linecolor": "white",
            "ticks": ""
           }
          },
          "title": {
           "x": 0.05
          },
          "xaxis": {
           "automargin": true,
           "gridcolor": "white",
           "linecolor": "white",
           "ticks": "",
           "title": {
            "standoff": 15
           },
           "zerolinecolor": "white",
           "zerolinewidth": 2
          },
          "yaxis": {
           "automargin": true,
           "gridcolor": "white",
           "linecolor": "white",
           "ticks": "",
           "title": {
            "standoff": 15
           },
           "zerolinecolor": "white",
           "zerolinewidth": 2
          }
         }
        }
       }
      },
      "text/html": [
       "<div>                            <div id=\"f0b29259-e074-491e-9d99-b724b4963663\" class=\"plotly-graph-div\" style=\"height:525px; width:100%;\"></div>            <script type=\"text/javascript\">                require([\"plotly\"], function(Plotly) {                    window.PLOTLYENV=window.PLOTLYENV || {};                                    if (document.getElementById(\"f0b29259-e074-491e-9d99-b724b4963663\")) {                    Plotly.newPlot(                        \"f0b29259-e074-491e-9d99-b724b4963663\",                        [{\"hovertemplate\":\"Method=Time-Transformer\\u003cbr\\u003evalue=%{r}\\u003cbr\\u003eDataset=%{theta}\\u003cextra\\u003e\\u003c\\u002fextra\\u003e\",\"legendgroup\":\"Time-Transformer\",\"line\":{\"color\":\"#636efa\",\"dash\":\"solid\"},\"marker\":{\"symbol\":\"circle\"},\"mode\":\"lines\",\"name\":\"Time-Transformer\",\"r\":[0.9057824148221157,0.9039393972658725,0.952554245568996,0.8253284064108767,0.8292077833588453,0.6054732532701098,0.9057824148221157],\"showlegend\":true,\"subplot\":\"polar\",\"theta\":[\"D2\",\"D3\",\"D4\",\"D5\",\"D6\",\"D7\",\"D2\"],\"type\":\"scatterpolar\"},{\"hovertemplate\":\"Method=TimeGAN\\u003cbr\\u003evalue=%{r}\\u003cbr\\u003eDataset=%{theta}\\u003cextra\\u003e\\u003c\\u002fextra\\u003e\",\"legendgroup\":\"TimeGAN\",\"line\":{\"color\":\"#EF553B\",\"dash\":\"solid\"},\"marker\":{\"symbol\":\"circle\"},\"mode\":\"lines\",\"name\":\"TimeGAN\",\"r\":[0.9626722279294267,0.9018875720126742,0.9419743064991697,0.8361557122415735,0.7940075394197816,0.7876384473284832,0.9626722279294267],\"showlegend\":true,\"subplot\":\"polar\",\"theta\":[\"D2\",\"D3\",\"D4\",\"D5\",\"D6\",\"D7\",\"D2\"],\"type\":\"scatterpolar\"},{\"hovertemplate\":\"Method=TransFusion\\u003cbr\\u003evalue=%{r}\\u003cbr\\u003eDataset=%{theta}\\u003cextra\\u003e\\u003c\\u002fextra\\u003e\",\"legendgroup\":\"TransFusion\",\"line\":{\"color\":\"#00cc96\",\"dash\":\"solid\"},\"marker\":{\"symbol\":\"circle\"},\"mode\":\"lines\",\"name\":\"TransFusion\",\"r\":[0.9519142336523978,0.9894123584618776,0.976776237451249,0.928449066082183,0.9230023286530646,0.6536661736905873,0.9519142336523978],\"showlegend\":true,\"subplot\":\"polar\",\"theta\":[\"D2\",\"D3\",\"D4\",\"D5\",\"D6\",\"D7\",\"D2\"],\"type\":\"scatterpolar\"}],                        {\"template\":{\"data\":{\"histogram2dcontour\":[{\"type\":\"histogram2dcontour\",\"colorbar\":{\"outlinewidth\":0,\"ticks\":\"\"},\"colorscale\":[[0.0,\"#0d0887\"],[0.1111111111111111,\"#46039f\"],[0.2222222222222222,\"#7201a8\"],[0.3333333333333333,\"#9c179e\"],[0.4444444444444444,\"#bd3786\"],[0.5555555555555556,\"#d8576b\"],[0.6666666666666666,\"#ed7953\"],[0.7777777777777778,\"#fb9f3a\"],[0.8888888888888888,\"#fdca26\"],[1.0,\"#f0f921\"]]}],\"choropleth\":[{\"type\":\"choropleth\",\"colorbar\":{\"outlinewidth\":0,\"ticks\":\"\"}}],\"histogram2d\":[{\"type\":\"histogram2d\",\"colorbar\":{\"outlinewidth\":0,\"ticks\":\"\"},\"colorscale\":[[0.0,\"#0d0887\"],[0.1111111111111111,\"#46039f\"],[0.2222222222222222,\"#7201a8\"],[0.3333333333333333,\"#9c179e\"],[0.4444444444444444,\"#bd3786\"],[0.5555555555555556,\"#d8576b\"],[0.6666666666666666,\"#ed7953\"],[0.7777777777777778,\"#fb9f3a\"],[0.8888888888888888,\"#fdca26\"],[1.0,\"#f0f921\"]]}],\"heatmap\":[{\"type\":\"heatmap\",\"colorbar\":{\"outlinewidth\":0,\"ticks\":\"\"},\"colorscale\":[[0.0,\"#0d0887\"],[0.1111111111111111,\"#46039f\"],[0.2222222222222222,\"#7201a8\"],[0.3333333333333333,\"#9c179e\"],[0.4444444444444444,\"#bd3786\"],[0.5555555555555556,\"#d8576b\"],[0.6666666666666666,\"#ed7953\"],[0.7777777777777778,\"#fb9f3a\"],[0.8888888888888888,\"#fdca26\"],[1.0,\"#f0f921\"]]}],\"heatmapgl\":[{\"type\":\"heatmapgl\",\"colorbar\":{\"outlinewidth\":0,\"ticks\":\"\"},\"colorscale\":[[0.0,\"#0d0887\"],[0.1111111111111111,\"#46039f\"],[0.2222222222222222,\"#7201a8\"],[0.3333333333333333,\"#9c179e\"],[0.4444444444444444,\"#bd3786\"],[0.5555555555555556,\"#d8576b\"],[0.6666666666666666,\"#ed7953\"],[0.7777777777777778,\"#fb9f3a\"],[0.8888888888888888,\"#fdca26\"],[1.0,\"#f0f921\"]]}],\"contourcarpet\":[{\"type\":\"contourcarpet\",\"colorbar\":{\"outlinewidth\":0,\"ticks\":\"\"}}],\"contour\":[{\"type\":\"contour\",\"colorbar\":{\"outlinewidth\":0,\"ticks\":\"\"},\"colorscale\":[[0.0,\"#0d0887\"],[0.1111111111111111,\"#46039f\"],[0.2222222222222222,\"#7201a8\"],[0.3333333333333333,\"#9c179e\"],[0.4444444444444444,\"#bd3786\"],[0.5555555555555556,\"#d8576b\"],[0.6666666666666666,\"#ed7953\"],[0.7777777777777778,\"#fb9f3a\"],[0.8888888888888888,\"#fdca26\"],[1.0,\"#f0f921\"]]}],\"surface\":[{\"type\":\"surface\",\"colorbar\":{\"outlinewidth\":0,\"ticks\":\"\"},\"colorscale\":[[0.0,\"#0d0887\"],[0.1111111111111111,\"#46039f\"],[0.2222222222222222,\"#7201a8\"],[0.3333333333333333,\"#9c179e\"],[0.4444444444444444,\"#bd3786\"],[0.5555555555555556,\"#d8576b\"],[0.6666666666666666,\"#ed7953\"],[0.7777777777777778,\"#fb9f3a\"],[0.8888888888888888,\"#fdca26\"],[1.0,\"#f0f921\"]]}],\"mesh3d\":[{\"type\":\"mesh3d\",\"colorbar\":{\"outlinewidth\":0,\"ticks\":\"\"}}],\"scatter\":[{\"fillpattern\":{\"fillmode\":\"overlay\",\"size\":10,\"solidity\":0.2},\"type\":\"scatter\"}],\"parcoords\":[{\"type\":\"parcoords\",\"line\":{\"colorbar\":{\"outlinewidth\":0,\"ticks\":\"\"}}}],\"scatterpolargl\":[{\"type\":\"scatterpolargl\",\"marker\":{\"colorbar\":{\"outlinewidth\":0,\"ticks\":\"\"}}}],\"bar\":[{\"error_x\":{\"color\":\"#2a3f5f\"},\"error_y\":{\"color\":\"#2a3f5f\"},\"marker\":{\"line\":{\"color\":\"#E5ECF6\",\"width\":0.5},\"pattern\":{\"fillmode\":\"overlay\",\"size\":10,\"solidity\":0.2}},\"type\":\"bar\"}],\"scattergeo\":[{\"type\":\"scattergeo\",\"marker\":{\"colorbar\":{\"outlinewidth\":0,\"ticks\":\"\"}}}],\"scatterpolar\":[{\"type\":\"scatterpolar\",\"marker\":{\"colorbar\":{\"outlinewidth\":0,\"ticks\":\"\"}}}],\"histogram\":[{\"marker\":{\"pattern\":{\"fillmode\":\"overlay\",\"size\":10,\"solidity\":0.2}},\"type\":\"histogram\"}],\"scattergl\":[{\"type\":\"scattergl\",\"marker\":{\"colorbar\":{\"outlinewidth\":0,\"ticks\":\"\"}}}],\"scatter3d\":[{\"type\":\"scatter3d\",\"line\":{\"colorbar\":{\"outlinewidth\":0,\"ticks\":\"\"}},\"marker\":{\"colorbar\":{\"outlinewidth\":0,\"ticks\":\"\"}}}],\"scattermapbox\":[{\"type\":\"scattermapbox\",\"marker\":{\"colorbar\":{\"outlinewidth\":0,\"ticks\":\"\"}}}],\"scatterternary\":[{\"type\":\"scatterternary\",\"marker\":{\"colorbar\":{\"outlinewidth\":0,\"ticks\":\"\"}}}],\"scattercarpet\":[{\"type\":\"scattercarpet\",\"marker\":{\"colorbar\":{\"outlinewidth\":0,\"ticks\":\"\"}}}],\"carpet\":[{\"aaxis\":{\"endlinecolor\":\"#2a3f5f\",\"gridcolor\":\"white\",\"linecolor\":\"white\",\"minorgridcolor\":\"white\",\"startlinecolor\":\"#2a3f5f\"},\"baxis\":{\"endlinecolor\":\"#2a3f5f\",\"gridcolor\":\"white\",\"linecolor\":\"white\",\"minorgridcolor\":\"white\",\"startlinecolor\":\"#2a3f5f\"},\"type\":\"carpet\"}],\"table\":[{\"cells\":{\"fill\":{\"color\":\"#EBF0F8\"},\"line\":{\"color\":\"white\"}},\"header\":{\"fill\":{\"color\":\"#C8D4E3\"},\"line\":{\"color\":\"white\"}},\"type\":\"table\"}],\"barpolar\":[{\"marker\":{\"line\":{\"color\":\"#E5ECF6\",\"width\":0.5},\"pattern\":{\"fillmode\":\"overlay\",\"size\":10,\"solidity\":0.2}},\"type\":\"barpolar\"}],\"pie\":[{\"automargin\":true,\"type\":\"pie\"}]},\"layout\":{\"autotypenumbers\":\"strict\",\"colorway\":[\"#636efa\",\"#EF553B\",\"#00cc96\",\"#ab63fa\",\"#FFA15A\",\"#19d3f3\",\"#FF6692\",\"#B6E880\",\"#FF97FF\",\"#FECB52\"],\"font\":{\"color\":\"#2a3f5f\"},\"hovermode\":\"closest\",\"hoverlabel\":{\"align\":\"left\"},\"paper_bgcolor\":\"white\",\"plot_bgcolor\":\"#E5ECF6\",\"polar\":{\"bgcolor\":\"#E5ECF6\",\"angularaxis\":{\"gridcolor\":\"white\",\"linecolor\":\"white\",\"ticks\":\"\"},\"radialaxis\":{\"gridcolor\":\"white\",\"linecolor\":\"white\",\"ticks\":\"\"}},\"ternary\":{\"bgcolor\":\"#E5ECF6\",\"aaxis\":{\"gridcolor\":\"white\",\"linecolor\":\"white\",\"ticks\":\"\"},\"baxis\":{\"gridcolor\":\"white\",\"linecolor\":\"white\",\"ticks\":\"\"},\"caxis\":{\"gridcolor\":\"white\",\"linecolor\":\"white\",\"ticks\":\"\"}},\"coloraxis\":{\"colorbar\":{\"outlinewidth\":0,\"ticks\":\"\"}},\"colorscale\":{\"sequential\":[[0.0,\"#0d0887\"],[0.1111111111111111,\"#46039f\"],[0.2222222222222222,\"#7201a8\"],[0.3333333333333333,\"#9c179e\"],[0.4444444444444444,\"#bd3786\"],[0.5555555555555556,\"#d8576b\"],[0.6666666666666666,\"#ed7953\"],[0.7777777777777778,\"#fb9f3a\"],[0.8888888888888888,\"#fdca26\"],[1.0,\"#f0f921\"]],\"sequentialminus\":[[0.0,\"#0d0887\"],[0.1111111111111111,\"#46039f\"],[0.2222222222222222,\"#7201a8\"],[0.3333333333333333,\"#9c179e\"],[0.4444444444444444,\"#bd3786\"],[0.5555555555555556,\"#d8576b\"],[0.6666666666666666,\"#ed7953\"],[0.7777777777777778,\"#fb9f3a\"],[0.8888888888888888,\"#fdca26\"],[1.0,\"#f0f921\"]],\"diverging\":[[0,\"#8e0152\"],[0.1,\"#c51b7d\"],[0.2,\"#de77ae\"],[0.3,\"#f1b6da\"],[0.4,\"#fde0ef\"],[0.5,\"#f7f7f7\"],[0.6,\"#e6f5d0\"],[0.7,\"#b8e186\"],[0.8,\"#7fbc41\"],[0.9,\"#4d9221\"],[1,\"#276419\"]]},\"xaxis\":{\"gridcolor\":\"white\",\"linecolor\":\"white\",\"ticks\":\"\",\"title\":{\"standoff\":15},\"zerolinecolor\":\"white\",\"automargin\":true,\"zerolinewidth\":2},\"yaxis\":{\"gridcolor\":\"white\",\"linecolor\":\"white\",\"ticks\":\"\",\"title\":{\"standoff\":15},\"zerolinecolor\":\"white\",\"automargin\":true,\"zerolinewidth\":2},\"scene\":{\"xaxis\":{\"backgroundcolor\":\"#E5ECF6\",\"gridcolor\":\"white\",\"linecolor\":\"white\",\"showbackground\":true,\"ticks\":\"\",\"zerolinecolor\":\"white\",\"gridwidth\":2},\"yaxis\":{\"backgroundcolor\":\"#E5ECF6\",\"gridcolor\":\"white\",\"linecolor\":\"white\",\"showbackground\":true,\"ticks\":\"\",\"zerolinecolor\":\"white\",\"gridwidth\":2},\"zaxis\":{\"backgroundcolor\":\"#E5ECF6\",\"gridcolor\":\"white\",\"linecolor\":\"white\",\"showbackground\":true,\"ticks\":\"\",\"zerolinecolor\":\"white\",\"gridwidth\":2}},\"shapedefaults\":{\"line\":{\"color\":\"#2a3f5f\"}},\"annotationdefaults\":{\"arrowcolor\":\"#2a3f5f\",\"arrowhead\":0,\"arrowwidth\":1},\"geo\":{\"bgcolor\":\"white\",\"landcolor\":\"#E5ECF6\",\"subunitcolor\":\"white\",\"showland\":true,\"showlakes\":true,\"lakecolor\":\"white\"},\"title\":{\"x\":0.05},\"mapbox\":{\"style\":\"light\"}}},\"polar\":{\"domain\":{\"x\":[0.0,1.0],\"y\":[0.0,1.0]},\"angularaxis\":{\"direction\":\"clockwise\",\"rotation\":90}},\"legend\":{\"title\":{\"text\":\"Method\"},\"tracegroupgap\":0},\"margin\":{\"t\":60}},                        {\"responsive\": true}                    ).then(function(){\n",
       "                            \n",
       "var gd = document.getElementById('f0b29259-e074-491e-9d99-b724b4963663');\n",
       "var x = new MutationObserver(function (mutations, observer) {{\n",
       "        var display = window.getComputedStyle(gd).display;\n",
       "        if (!display || display === 'none') {{\n",
       "            console.log([gd, 'removed!']);\n",
       "            Plotly.purge(gd);\n",
       "            observer.disconnect();\n",
       "        }}\n",
       "}});\n",
       "\n",
       "// Listen for the removal of the full notebook cells\n",
       "var notebookContainer = gd.closest('#notebook-container');\n",
       "if (notebookContainer) {{\n",
       "    x.observe(notebookContainer, {childList: true});\n",
       "}}\n",
       "\n",
       "// Listen for the clearing of the current output cell\n",
       "var outputEl = gd.closest('.output');\n",
       "if (outputEl) {{\n",
       "    x.observe(outputEl, {childList: true});\n",
       "}}\n",
       "\n",
       "                        })                };                });            </script>        </div>"
      ]
     },
     "metadata": {},
     "output_type": "display_data"
    }
   ],
   "source": [
    "df_mean_by_dataset = df_minmax.stack().unstack(level=1).rename_axis((\"Method\",\"Metric\")).groupby(\"Method\").mean()\n",
    "\n",
    "df_spider_by_dataset = df_mean_by_dataset.reset_index().melt(id_vars=\"Method\")\n",
    "df_spider_by_dataset = df_spider_by_dataset[df_spider_by_dataset[\"Method\"] != \"TTS-GAN\"] # remove tts-gan\n",
    "\n",
    "\n",
    "\n",
    "px.line_polar(df_spider_by_dataset, r=\"value\", theta=\"Dataset\", color=\"Method\", line_close=True)"
   ]
  },
  {
   "cell_type": "code",
   "execution_count": 12,
   "id": "48aed14f",
   "metadata": {},
   "outputs": [],
   "source": [
    "rankings = df.unstack(level=1).rank()"
   ]
  },
  {
   "cell_type": "code",
   "execution_count": 13,
   "id": "d00b6b5b",
   "metadata": {},
   "outputs": [
    {
     "data": {
      "application/vnd.plotly.v1+json": {
       "config": {
        "plotlyServerURL": "https://plot.ly"
       },
       "data": [
        {
         "hovertemplate": "Method=TTS-GAN<br>value=%{r}<br>variable=%{theta}<extra></extra>",
         "legendgroup": "TTS-GAN",
         "line": {
          "color": "#636efa",
          "dash": "solid"
         },
         "marker": {
          "symbol": "circle"
         },
         "mode": "lines",
         "name": "TTS-GAN",
         "r": [
          3.3333333333333335,
          3.8333333333333335,
          4,
          3.6666666666666665,
          4,
          4,
          3.8333333333333335,
          4,
          4,
          3.3333333333333335
         ],
         "showlegend": true,
         "subplot": "polar",
         "theta": [
          "DS",
          "PS",
          "C-FID",
          "MDD",
          "ACD",
          "SD",
          "KD",
          "ED",
          "DTW",
          "DS"
         ],
         "type": "scatterpolar"
        },
        {
         "hovertemplate": "Method=Time-Transformer<br>value=%{r}<br>variable=%{theta}<extra></extra>",
         "legendgroup": "Time-Transformer",
         "line": {
          "color": "#EF553B",
          "dash": "solid"
         },
         "marker": {
          "symbol": "circle"
         },
         "mode": "lines",
         "name": "Time-Transformer",
         "r": [
          3,
          2.8333333333333335,
          2.5,
          2.5,
          2.5,
          2.6666666666666665,
          2.1666666666666665,
          1.6666666666666667,
          1.6666666666666667,
          3
         ],
         "showlegend": true,
         "subplot": "polar",
         "theta": [
          "DS",
          "PS",
          "C-FID",
          "MDD",
          "ACD",
          "SD",
          "KD",
          "ED",
          "DTW",
          "DS"
         ],
         "type": "scatterpolar"
        },
        {
         "hovertemplate": "Method=TimeGAN<br>value=%{r}<br>variable=%{theta}<extra></extra>",
         "legendgroup": "TimeGAN",
         "line": {
          "color": "#00cc96",
          "dash": "solid"
         },
         "marker": {
          "symbol": "circle"
         },
         "mode": "lines",
         "name": "TimeGAN",
         "r": [
          2.1666666666666665,
          2.3333333333333335,
          2.3333333333333335,
          2.1666666666666665,
          2.5,
          2.1666666666666665,
          2.1666666666666665,
          2.5,
          2.5,
          2.1666666666666665
         ],
         "showlegend": true,
         "subplot": "polar",
         "theta": [
          "DS",
          "PS",
          "C-FID",
          "MDD",
          "ACD",
          "SD",
          "KD",
          "ED",
          "DTW",
          "DS"
         ],
         "type": "scatterpolar"
        },
        {
         "hovertemplate": "Method=TransFusion<br>value=%{r}<br>variable=%{theta}<extra></extra>",
         "legendgroup": "TransFusion",
         "line": {
          "color": "#ab63fa",
          "dash": "solid"
         },
         "marker": {
          "symbol": "circle"
         },
         "mode": "lines",
         "name": "TransFusion",
         "r": [
          1.5,
          1,
          1.1666666666666667,
          1.6666666666666667,
          1,
          1.1666666666666667,
          1.8333333333333333,
          1.8333333333333333,
          1.8333333333333333,
          1.5
         ],
         "showlegend": true,
         "subplot": "polar",
         "theta": [
          "DS",
          "PS",
          "C-FID",
          "MDD",
          "ACD",
          "SD",
          "KD",
          "ED",
          "DTW",
          "DS"
         ],
         "type": "scatterpolar"
        }
       ],
       "layout": {
        "legend": {
         "title": {
          "text": "Method"
         },
         "tracegroupgap": 0
        },
        "margin": {
         "t": 60
        },
        "polar": {
         "angularaxis": {
          "direction": "clockwise",
          "rotation": 90
         },
         "domain": {
          "x": [
           0,
           1
          ],
          "y": [
           0,
           1
          ]
         },
         "radialaxis": {
          "dtick": 1,
          "range": [
           4.1,
           1
          ]
         }
        },
        "template": {
         "data": {
          "bar": [
           {
            "error_x": {
             "color": "#2a3f5f"
            },
            "error_y": {
             "color": "#2a3f5f"
            },
            "marker": {
             "line": {
              "color": "#E5ECF6",
              "width": 0.5
             },
             "pattern": {
              "fillmode": "overlay",
              "size": 10,
              "solidity": 0.2
             }
            },
            "type": "bar"
           }
          ],
          "barpolar": [
           {
            "marker": {
             "line": {
              "color": "#E5ECF6",
              "width": 0.5
             },
             "pattern": {
              "fillmode": "overlay",
              "size": 10,
              "solidity": 0.2
             }
            },
            "type": "barpolar"
           }
          ],
          "carpet": [
           {
            "aaxis": {
             "endlinecolor": "#2a3f5f",
             "gridcolor": "white",
             "linecolor": "white",
             "minorgridcolor": "white",
             "startlinecolor": "#2a3f5f"
            },
            "baxis": {
             "endlinecolor": "#2a3f5f",
             "gridcolor": "white",
             "linecolor": "white",
             "minorgridcolor": "white",
             "startlinecolor": "#2a3f5f"
            },
            "type": "carpet"
           }
          ],
          "choropleth": [
           {
            "colorbar": {
             "outlinewidth": 0,
             "ticks": ""
            },
            "type": "choropleth"
           }
          ],
          "contour": [
           {
            "colorbar": {
             "outlinewidth": 0,
             "ticks": ""
            },
            "colorscale": [
             [
              0,
              "#0d0887"
             ],
             [
              0.1111111111111111,
              "#46039f"
             ],
             [
              0.2222222222222222,
              "#7201a8"
             ],
             [
              0.3333333333333333,
              "#9c179e"
             ],
             [
              0.4444444444444444,
              "#bd3786"
             ],
             [
              0.5555555555555556,
              "#d8576b"
             ],
             [
              0.6666666666666666,
              "#ed7953"
             ],
             [
              0.7777777777777778,
              "#fb9f3a"
             ],
             [
              0.8888888888888888,
              "#fdca26"
             ],
             [
              1,
              "#f0f921"
             ]
            ],
            "type": "contour"
           }
          ],
          "contourcarpet": [
           {
            "colorbar": {
             "outlinewidth": 0,
             "ticks": ""
            },
            "type": "contourcarpet"
           }
          ],
          "heatmap": [
           {
            "colorbar": {
             "outlinewidth": 0,
             "ticks": ""
            },
            "colorscale": [
             [
              0,
              "#0d0887"
             ],
             [
              0.1111111111111111,
              "#46039f"
             ],
             [
              0.2222222222222222,
              "#7201a8"
             ],
             [
              0.3333333333333333,
              "#9c179e"
             ],
             [
              0.4444444444444444,
              "#bd3786"
             ],
             [
              0.5555555555555556,
              "#d8576b"
             ],
             [
              0.6666666666666666,
              "#ed7953"
             ],
             [
              0.7777777777777778,
              "#fb9f3a"
             ],
             [
              0.8888888888888888,
              "#fdca26"
             ],
             [
              1,
              "#f0f921"
             ]
            ],
            "type": "heatmap"
           }
          ],
          "heatmapgl": [
           {
            "colorbar": {
             "outlinewidth": 0,
             "ticks": ""
            },
            "colorscale": [
             [
              0,
              "#0d0887"
             ],
             [
              0.1111111111111111,
              "#46039f"
             ],
             [
              0.2222222222222222,
              "#7201a8"
             ],
             [
              0.3333333333333333,
              "#9c179e"
             ],
             [
              0.4444444444444444,
              "#bd3786"
             ],
             [
              0.5555555555555556,
              "#d8576b"
             ],
             [
              0.6666666666666666,
              "#ed7953"
             ],
             [
              0.7777777777777778,
              "#fb9f3a"
             ],
             [
              0.8888888888888888,
              "#fdca26"
             ],
             [
              1,
              "#f0f921"
             ]
            ],
            "type": "heatmapgl"
           }
          ],
          "histogram": [
           {
            "marker": {
             "pattern": {
              "fillmode": "overlay",
              "size": 10,
              "solidity": 0.2
             }
            },
            "type": "histogram"
           }
          ],
          "histogram2d": [
           {
            "colorbar": {
             "outlinewidth": 0,
             "ticks": ""
            },
            "colorscale": [
             [
              0,
              "#0d0887"
             ],
             [
              0.1111111111111111,
              "#46039f"
             ],
             [
              0.2222222222222222,
              "#7201a8"
             ],
             [
              0.3333333333333333,
              "#9c179e"
             ],
             [
              0.4444444444444444,
              "#bd3786"
             ],
             [
              0.5555555555555556,
              "#d8576b"
             ],
             [
              0.6666666666666666,
              "#ed7953"
             ],
             [
              0.7777777777777778,
              "#fb9f3a"
             ],
             [
              0.8888888888888888,
              "#fdca26"
             ],
             [
              1,
              "#f0f921"
             ]
            ],
            "type": "histogram2d"
           }
          ],
          "histogram2dcontour": [
           {
            "colorbar": {
             "outlinewidth": 0,
             "ticks": ""
            },
            "colorscale": [
             [
              0,
              "#0d0887"
             ],
             [
              0.1111111111111111,
              "#46039f"
             ],
             [
              0.2222222222222222,
              "#7201a8"
             ],
             [
              0.3333333333333333,
              "#9c179e"
             ],
             [
              0.4444444444444444,
              "#bd3786"
             ],
             [
              0.5555555555555556,
              "#d8576b"
             ],
             [
              0.6666666666666666,
              "#ed7953"
             ],
             [
              0.7777777777777778,
              "#fb9f3a"
             ],
             [
              0.8888888888888888,
              "#fdca26"
             ],
             [
              1,
              "#f0f921"
             ]
            ],
            "type": "histogram2dcontour"
           }
          ],
          "mesh3d": [
           {
            "colorbar": {
             "outlinewidth": 0,
             "ticks": ""
            },
            "type": "mesh3d"
           }
          ],
          "parcoords": [
           {
            "line": {
             "colorbar": {
              "outlinewidth": 0,
              "ticks": ""
             }
            },
            "type": "parcoords"
           }
          ],
          "pie": [
           {
            "automargin": true,
            "type": "pie"
           }
          ],
          "scatter": [
           {
            "fillpattern": {
             "fillmode": "overlay",
             "size": 10,
             "solidity": 0.2
            },
            "type": "scatter"
           }
          ],
          "scatter3d": [
           {
            "line": {
             "colorbar": {
              "outlinewidth": 0,
              "ticks": ""
             }
            },
            "marker": {
             "colorbar": {
              "outlinewidth": 0,
              "ticks": ""
             }
            },
            "type": "scatter3d"
           }
          ],
          "scattercarpet": [
           {
            "marker": {
             "colorbar": {
              "outlinewidth": 0,
              "ticks": ""
             }
            },
            "type": "scattercarpet"
           }
          ],
          "scattergeo": [
           {
            "marker": {
             "colorbar": {
              "outlinewidth": 0,
              "ticks": ""
             }
            },
            "type": "scattergeo"
           }
          ],
          "scattergl": [
           {
            "marker": {
             "colorbar": {
              "outlinewidth": 0,
              "ticks": ""
             }
            },
            "type": "scattergl"
           }
          ],
          "scattermapbox": [
           {
            "marker": {
             "colorbar": {
              "outlinewidth": 0,
              "ticks": ""
             }
            },
            "type": "scattermapbox"
           }
          ],
          "scatterpolar": [
           {
            "marker": {
             "colorbar": {
              "outlinewidth": 0,
              "ticks": ""
             }
            },
            "type": "scatterpolar"
           }
          ],
          "scatterpolargl": [
           {
            "marker": {
             "colorbar": {
              "outlinewidth": 0,
              "ticks": ""
             }
            },
            "type": "scatterpolargl"
           }
          ],
          "scatterternary": [
           {
            "marker": {
             "colorbar": {
              "outlinewidth": 0,
              "ticks": ""
             }
            },
            "type": "scatterternary"
           }
          ],
          "surface": [
           {
            "colorbar": {
             "outlinewidth": 0,
             "ticks": ""
            },
            "colorscale": [
             [
              0,
              "#0d0887"
             ],
             [
              0.1111111111111111,
              "#46039f"
             ],
             [
              0.2222222222222222,
              "#7201a8"
             ],
             [
              0.3333333333333333,
              "#9c179e"
             ],
             [
              0.4444444444444444,
              "#bd3786"
             ],
             [
              0.5555555555555556,
              "#d8576b"
             ],
             [
              0.6666666666666666,
              "#ed7953"
             ],
             [
              0.7777777777777778,
              "#fb9f3a"
             ],
             [
              0.8888888888888888,
              "#fdca26"
             ],
             [
              1,
              "#f0f921"
             ]
            ],
            "type": "surface"
           }
          ],
          "table": [
           {
            "cells": {
             "fill": {
              "color": "#EBF0F8"
             },
             "line": {
              "color": "white"
             }
            },
            "header": {
             "fill": {
              "color": "#C8D4E3"
             },
             "line": {
              "color": "white"
             }
            },
            "type": "table"
           }
          ]
         },
         "layout": {
          "annotationdefaults": {
           "arrowcolor": "#2a3f5f",
           "arrowhead": 0,
           "arrowwidth": 1
          },
          "autotypenumbers": "strict",
          "coloraxis": {
           "colorbar": {
            "outlinewidth": 0,
            "ticks": ""
           }
          },
          "colorscale": {
           "diverging": [
            [
             0,
             "#8e0152"
            ],
            [
             0.1,
             "#c51b7d"
            ],
            [
             0.2,
             "#de77ae"
            ],
            [
             0.3,
             "#f1b6da"
            ],
            [
             0.4,
             "#fde0ef"
            ],
            [
             0.5,
             "#f7f7f7"
            ],
            [
             0.6,
             "#e6f5d0"
            ],
            [
             0.7,
             "#b8e186"
            ],
            [
             0.8,
             "#7fbc41"
            ],
            [
             0.9,
             "#4d9221"
            ],
            [
             1,
             "#276419"
            ]
           ],
           "sequential": [
            [
             0,
             "#0d0887"
            ],
            [
             0.1111111111111111,
             "#46039f"
            ],
            [
             0.2222222222222222,
             "#7201a8"
            ],
            [
             0.3333333333333333,
             "#9c179e"
            ],
            [
             0.4444444444444444,
             "#bd3786"
            ],
            [
             0.5555555555555556,
             "#d8576b"
            ],
            [
             0.6666666666666666,
             "#ed7953"
            ],
            [
             0.7777777777777778,
             "#fb9f3a"
            ],
            [
             0.8888888888888888,
             "#fdca26"
            ],
            [
             1,
             "#f0f921"
            ]
           ],
           "sequentialminus": [
            [
             0,
             "#0d0887"
            ],
            [
             0.1111111111111111,
             "#46039f"
            ],
            [
             0.2222222222222222,
             "#7201a8"
            ],
            [
             0.3333333333333333,
             "#9c179e"
            ],
            [
             0.4444444444444444,
             "#bd3786"
            ],
            [
             0.5555555555555556,
             "#d8576b"
            ],
            [
             0.6666666666666666,
             "#ed7953"
            ],
            [
             0.7777777777777778,
             "#fb9f3a"
            ],
            [
             0.8888888888888888,
             "#fdca26"
            ],
            [
             1,
             "#f0f921"
            ]
           ]
          },
          "colorway": [
           "#636efa",
           "#EF553B",
           "#00cc96",
           "#ab63fa",
           "#FFA15A",
           "#19d3f3",
           "#FF6692",
           "#B6E880",
           "#FF97FF",
           "#FECB52"
          ],
          "font": {
           "color": "#2a3f5f"
          },
          "geo": {
           "bgcolor": "white",
           "lakecolor": "white",
           "landcolor": "#E5ECF6",
           "showlakes": true,
           "showland": true,
           "subunitcolor": "white"
          },
          "hoverlabel": {
           "align": "left"
          },
          "hovermode": "closest",
          "mapbox": {
           "style": "light"
          },
          "paper_bgcolor": "white",
          "plot_bgcolor": "#E5ECF6",
          "polar": {
           "angularaxis": {
            "gridcolor": "white",
            "linecolor": "white",
            "ticks": ""
           },
           "bgcolor": "#E5ECF6",
           "radialaxis": {
            "gridcolor": "white",
            "linecolor": "white",
            "ticks": ""
           }
          },
          "scene": {
           "xaxis": {
            "backgroundcolor": "#E5ECF6",
            "gridcolor": "white",
            "gridwidth": 2,
            "linecolor": "white",
            "showbackground": true,
            "ticks": "",
            "zerolinecolor": "white"
           },
           "yaxis": {
            "backgroundcolor": "#E5ECF6",
            "gridcolor": "white",
            "gridwidth": 2,
            "linecolor": "white",
            "showbackground": true,
            "ticks": "",
            "zerolinecolor": "white"
           },
           "zaxis": {
            "backgroundcolor": "#E5ECF6",
            "gridcolor": "white",
            "gridwidth": 2,
            "linecolor": "white",
            "showbackground": true,
            "ticks": "",
            "zerolinecolor": "white"
           }
          },
          "shapedefaults": {
           "line": {
            "color": "#2a3f5f"
           }
          },
          "ternary": {
           "aaxis": {
            "gridcolor": "white",
            "linecolor": "white",
            "ticks": ""
           },
           "baxis": {
            "gridcolor": "white",
            "linecolor": "white",
            "ticks": ""
           },
           "bgcolor": "#E5ECF6",
           "caxis": {
            "gridcolor": "white",
            "linecolor": "white",
            "ticks": ""
           }
          },
          "title": {
           "x": 0.05
          },
          "xaxis": {
           "automargin": true,
           "gridcolor": "white",
           "linecolor": "white",
           "ticks": "",
           "title": {
            "standoff": 15
           },
           "zerolinecolor": "white",
           "zerolinewidth": 2
          },
          "yaxis": {
           "automargin": true,
           "gridcolor": "white",
           "linecolor": "white",
           "ticks": "",
           "title": {
            "standoff": 15
           },
           "zerolinecolor": "white",
           "zerolinewidth": 2
          }
         }
        }
       }
      },
      "text/html": [
       "<div>                            <div id=\"df39d795-a4d5-42de-95d5-c5ec0bd4b0c3\" class=\"plotly-graph-div\" style=\"height:525px; width:100%;\"></div>            <script type=\"text/javascript\">                require([\"plotly\"], function(Plotly) {                    window.PLOTLYENV=window.PLOTLYENV || {};                                    if (document.getElementById(\"df39d795-a4d5-42de-95d5-c5ec0bd4b0c3\")) {                    Plotly.newPlot(                        \"df39d795-a4d5-42de-95d5-c5ec0bd4b0c3\",                        [{\"hovertemplate\":\"Method=TTS-GAN\\u003cbr\\u003evalue=%{r}\\u003cbr\\u003evariable=%{theta}\\u003cextra\\u003e\\u003c\\u002fextra\\u003e\",\"legendgroup\":\"TTS-GAN\",\"line\":{\"color\":\"#636efa\",\"dash\":\"solid\"},\"marker\":{\"symbol\":\"circle\"},\"mode\":\"lines\",\"name\":\"TTS-GAN\",\"r\":[3.3333333333333335,3.8333333333333335,4.0,3.6666666666666665,4.0,4.0,3.8333333333333335,4.0,4.0,3.3333333333333335],\"showlegend\":true,\"subplot\":\"polar\",\"theta\":[\"DS\",\"PS\",\"C-FID\",\"MDD\",\"ACD\",\"SD\",\"KD\",\"ED\",\"DTW\",\"DS\"],\"type\":\"scatterpolar\"},{\"hovertemplate\":\"Method=Time-Transformer\\u003cbr\\u003evalue=%{r}\\u003cbr\\u003evariable=%{theta}\\u003cextra\\u003e\\u003c\\u002fextra\\u003e\",\"legendgroup\":\"Time-Transformer\",\"line\":{\"color\":\"#EF553B\",\"dash\":\"solid\"},\"marker\":{\"symbol\":\"circle\"},\"mode\":\"lines\",\"name\":\"Time-Transformer\",\"r\":[3.0,2.8333333333333335,2.5,2.5,2.5,2.6666666666666665,2.1666666666666665,1.6666666666666667,1.6666666666666667,3.0],\"showlegend\":true,\"subplot\":\"polar\",\"theta\":[\"DS\",\"PS\",\"C-FID\",\"MDD\",\"ACD\",\"SD\",\"KD\",\"ED\",\"DTW\",\"DS\"],\"type\":\"scatterpolar\"},{\"hovertemplate\":\"Method=TimeGAN\\u003cbr\\u003evalue=%{r}\\u003cbr\\u003evariable=%{theta}\\u003cextra\\u003e\\u003c\\u002fextra\\u003e\",\"legendgroup\":\"TimeGAN\",\"line\":{\"color\":\"#00cc96\",\"dash\":\"solid\"},\"marker\":{\"symbol\":\"circle\"},\"mode\":\"lines\",\"name\":\"TimeGAN\",\"r\":[2.1666666666666665,2.3333333333333335,2.3333333333333335,2.1666666666666665,2.5,2.1666666666666665,2.1666666666666665,2.5,2.5,2.1666666666666665],\"showlegend\":true,\"subplot\":\"polar\",\"theta\":[\"DS\",\"PS\",\"C-FID\",\"MDD\",\"ACD\",\"SD\",\"KD\",\"ED\",\"DTW\",\"DS\"],\"type\":\"scatterpolar\"},{\"hovertemplate\":\"Method=TransFusion\\u003cbr\\u003evalue=%{r}\\u003cbr\\u003evariable=%{theta}\\u003cextra\\u003e\\u003c\\u002fextra\\u003e\",\"legendgroup\":\"TransFusion\",\"line\":{\"color\":\"#ab63fa\",\"dash\":\"solid\"},\"marker\":{\"symbol\":\"circle\"},\"mode\":\"lines\",\"name\":\"TransFusion\",\"r\":[1.5,1.0,1.1666666666666667,1.6666666666666667,1.0,1.1666666666666667,1.8333333333333333,1.8333333333333333,1.8333333333333333,1.5],\"showlegend\":true,\"subplot\":\"polar\",\"theta\":[\"DS\",\"PS\",\"C-FID\",\"MDD\",\"ACD\",\"SD\",\"KD\",\"ED\",\"DTW\",\"DS\"],\"type\":\"scatterpolar\"}],                        {\"template\":{\"data\":{\"histogram2dcontour\":[{\"type\":\"histogram2dcontour\",\"colorbar\":{\"outlinewidth\":0,\"ticks\":\"\"},\"colorscale\":[[0.0,\"#0d0887\"],[0.1111111111111111,\"#46039f\"],[0.2222222222222222,\"#7201a8\"],[0.3333333333333333,\"#9c179e\"],[0.4444444444444444,\"#bd3786\"],[0.5555555555555556,\"#d8576b\"],[0.6666666666666666,\"#ed7953\"],[0.7777777777777778,\"#fb9f3a\"],[0.8888888888888888,\"#fdca26\"],[1.0,\"#f0f921\"]]}],\"choropleth\":[{\"type\":\"choropleth\",\"colorbar\":{\"outlinewidth\":0,\"ticks\":\"\"}}],\"histogram2d\":[{\"type\":\"histogram2d\",\"colorbar\":{\"outlinewidth\":0,\"ticks\":\"\"},\"colorscale\":[[0.0,\"#0d0887\"],[0.1111111111111111,\"#46039f\"],[0.2222222222222222,\"#7201a8\"],[0.3333333333333333,\"#9c179e\"],[0.4444444444444444,\"#bd3786\"],[0.5555555555555556,\"#d8576b\"],[0.6666666666666666,\"#ed7953\"],[0.7777777777777778,\"#fb9f3a\"],[0.8888888888888888,\"#fdca26\"],[1.0,\"#f0f921\"]]}],\"heatmap\":[{\"type\":\"heatmap\",\"colorbar\":{\"outlinewidth\":0,\"ticks\":\"\"},\"colorscale\":[[0.0,\"#0d0887\"],[0.1111111111111111,\"#46039f\"],[0.2222222222222222,\"#7201a8\"],[0.3333333333333333,\"#9c179e\"],[0.4444444444444444,\"#bd3786\"],[0.5555555555555556,\"#d8576b\"],[0.6666666666666666,\"#ed7953\"],[0.7777777777777778,\"#fb9f3a\"],[0.8888888888888888,\"#fdca26\"],[1.0,\"#f0f921\"]]}],\"heatmapgl\":[{\"type\":\"heatmapgl\",\"colorbar\":{\"outlinewidth\":0,\"ticks\":\"\"},\"colorscale\":[[0.0,\"#0d0887\"],[0.1111111111111111,\"#46039f\"],[0.2222222222222222,\"#7201a8\"],[0.3333333333333333,\"#9c179e\"],[0.4444444444444444,\"#bd3786\"],[0.5555555555555556,\"#d8576b\"],[0.6666666666666666,\"#ed7953\"],[0.7777777777777778,\"#fb9f3a\"],[0.8888888888888888,\"#fdca26\"],[1.0,\"#f0f921\"]]}],\"contourcarpet\":[{\"type\":\"contourcarpet\",\"colorbar\":{\"outlinewidth\":0,\"ticks\":\"\"}}],\"contour\":[{\"type\":\"contour\",\"colorbar\":{\"outlinewidth\":0,\"ticks\":\"\"},\"colorscale\":[[0.0,\"#0d0887\"],[0.1111111111111111,\"#46039f\"],[0.2222222222222222,\"#7201a8\"],[0.3333333333333333,\"#9c179e\"],[0.4444444444444444,\"#bd3786\"],[0.5555555555555556,\"#d8576b\"],[0.6666666666666666,\"#ed7953\"],[0.7777777777777778,\"#fb9f3a\"],[0.8888888888888888,\"#fdca26\"],[1.0,\"#f0f921\"]]}],\"surface\":[{\"type\":\"surface\",\"colorbar\":{\"outlinewidth\":0,\"ticks\":\"\"},\"colorscale\":[[0.0,\"#0d0887\"],[0.1111111111111111,\"#46039f\"],[0.2222222222222222,\"#7201a8\"],[0.3333333333333333,\"#9c179e\"],[0.4444444444444444,\"#bd3786\"],[0.5555555555555556,\"#d8576b\"],[0.6666666666666666,\"#ed7953\"],[0.7777777777777778,\"#fb9f3a\"],[0.8888888888888888,\"#fdca26\"],[1.0,\"#f0f921\"]]}],\"mesh3d\":[{\"type\":\"mesh3d\",\"colorbar\":{\"outlinewidth\":0,\"ticks\":\"\"}}],\"scatter\":[{\"fillpattern\":{\"fillmode\":\"overlay\",\"size\":10,\"solidity\":0.2},\"type\":\"scatter\"}],\"parcoords\":[{\"type\":\"parcoords\",\"line\":{\"colorbar\":{\"outlinewidth\":0,\"ticks\":\"\"}}}],\"scatterpolargl\":[{\"type\":\"scatterpolargl\",\"marker\":{\"colorbar\":{\"outlinewidth\":0,\"ticks\":\"\"}}}],\"bar\":[{\"error_x\":{\"color\":\"#2a3f5f\"},\"error_y\":{\"color\":\"#2a3f5f\"},\"marker\":{\"line\":{\"color\":\"#E5ECF6\",\"width\":0.5},\"pattern\":{\"fillmode\":\"overlay\",\"size\":10,\"solidity\":0.2}},\"type\":\"bar\"}],\"scattergeo\":[{\"type\":\"scattergeo\",\"marker\":{\"colorbar\":{\"outlinewidth\":0,\"ticks\":\"\"}}}],\"scatterpolar\":[{\"type\":\"scatterpolar\",\"marker\":{\"colorbar\":{\"outlinewidth\":0,\"ticks\":\"\"}}}],\"histogram\":[{\"marker\":{\"pattern\":{\"fillmode\":\"overlay\",\"size\":10,\"solidity\":0.2}},\"type\":\"histogram\"}],\"scattergl\":[{\"type\":\"scattergl\",\"marker\":{\"colorbar\":{\"outlinewidth\":0,\"ticks\":\"\"}}}],\"scatter3d\":[{\"type\":\"scatter3d\",\"line\":{\"colorbar\":{\"outlinewidth\":0,\"ticks\":\"\"}},\"marker\":{\"colorbar\":{\"outlinewidth\":0,\"ticks\":\"\"}}}],\"scattermapbox\":[{\"type\":\"scattermapbox\",\"marker\":{\"colorbar\":{\"outlinewidth\":0,\"ticks\":\"\"}}}],\"scatterternary\":[{\"type\":\"scatterternary\",\"marker\":{\"colorbar\":{\"outlinewidth\":0,\"ticks\":\"\"}}}],\"scattercarpet\":[{\"type\":\"scattercarpet\",\"marker\":{\"colorbar\":{\"outlinewidth\":0,\"ticks\":\"\"}}}],\"carpet\":[{\"aaxis\":{\"endlinecolor\":\"#2a3f5f\",\"gridcolor\":\"white\",\"linecolor\":\"white\",\"minorgridcolor\":\"white\",\"startlinecolor\":\"#2a3f5f\"},\"baxis\":{\"endlinecolor\":\"#2a3f5f\",\"gridcolor\":\"white\",\"linecolor\":\"white\",\"minorgridcolor\":\"white\",\"startlinecolor\":\"#2a3f5f\"},\"type\":\"carpet\"}],\"table\":[{\"cells\":{\"fill\":{\"color\":\"#EBF0F8\"},\"line\":{\"color\":\"white\"}},\"header\":{\"fill\":{\"color\":\"#C8D4E3\"},\"line\":{\"color\":\"white\"}},\"type\":\"table\"}],\"barpolar\":[{\"marker\":{\"line\":{\"color\":\"#E5ECF6\",\"width\":0.5},\"pattern\":{\"fillmode\":\"overlay\",\"size\":10,\"solidity\":0.2}},\"type\":\"barpolar\"}],\"pie\":[{\"automargin\":true,\"type\":\"pie\"}]},\"layout\":{\"autotypenumbers\":\"strict\",\"colorway\":[\"#636efa\",\"#EF553B\",\"#00cc96\",\"#ab63fa\",\"#FFA15A\",\"#19d3f3\",\"#FF6692\",\"#B6E880\",\"#FF97FF\",\"#FECB52\"],\"font\":{\"color\":\"#2a3f5f\"},\"hovermode\":\"closest\",\"hoverlabel\":{\"align\":\"left\"},\"paper_bgcolor\":\"white\",\"plot_bgcolor\":\"#E5ECF6\",\"polar\":{\"bgcolor\":\"#E5ECF6\",\"angularaxis\":{\"gridcolor\":\"white\",\"linecolor\":\"white\",\"ticks\":\"\"},\"radialaxis\":{\"gridcolor\":\"white\",\"linecolor\":\"white\",\"ticks\":\"\"}},\"ternary\":{\"bgcolor\":\"#E5ECF6\",\"aaxis\":{\"gridcolor\":\"white\",\"linecolor\":\"white\",\"ticks\":\"\"},\"baxis\":{\"gridcolor\":\"white\",\"linecolor\":\"white\",\"ticks\":\"\"},\"caxis\":{\"gridcolor\":\"white\",\"linecolor\":\"white\",\"ticks\":\"\"}},\"coloraxis\":{\"colorbar\":{\"outlinewidth\":0,\"ticks\":\"\"}},\"colorscale\":{\"sequential\":[[0.0,\"#0d0887\"],[0.1111111111111111,\"#46039f\"],[0.2222222222222222,\"#7201a8\"],[0.3333333333333333,\"#9c179e\"],[0.4444444444444444,\"#bd3786\"],[0.5555555555555556,\"#d8576b\"],[0.6666666666666666,\"#ed7953\"],[0.7777777777777778,\"#fb9f3a\"],[0.8888888888888888,\"#fdca26\"],[1.0,\"#f0f921\"]],\"sequentialminus\":[[0.0,\"#0d0887\"],[0.1111111111111111,\"#46039f\"],[0.2222222222222222,\"#7201a8\"],[0.3333333333333333,\"#9c179e\"],[0.4444444444444444,\"#bd3786\"],[0.5555555555555556,\"#d8576b\"],[0.6666666666666666,\"#ed7953\"],[0.7777777777777778,\"#fb9f3a\"],[0.8888888888888888,\"#fdca26\"],[1.0,\"#f0f921\"]],\"diverging\":[[0,\"#8e0152\"],[0.1,\"#c51b7d\"],[0.2,\"#de77ae\"],[0.3,\"#f1b6da\"],[0.4,\"#fde0ef\"],[0.5,\"#f7f7f7\"],[0.6,\"#e6f5d0\"],[0.7,\"#b8e186\"],[0.8,\"#7fbc41\"],[0.9,\"#4d9221\"],[1,\"#276419\"]]},\"xaxis\":{\"gridcolor\":\"white\",\"linecolor\":\"white\",\"ticks\":\"\",\"title\":{\"standoff\":15},\"zerolinecolor\":\"white\",\"automargin\":true,\"zerolinewidth\":2},\"yaxis\":{\"gridcolor\":\"white\",\"linecolor\":\"white\",\"ticks\":\"\",\"title\":{\"standoff\":15},\"zerolinecolor\":\"white\",\"automargin\":true,\"zerolinewidth\":2},\"scene\":{\"xaxis\":{\"backgroundcolor\":\"#E5ECF6\",\"gridcolor\":\"white\",\"linecolor\":\"white\",\"showbackground\":true,\"ticks\":\"\",\"zerolinecolor\":\"white\",\"gridwidth\":2},\"yaxis\":{\"backgroundcolor\":\"#E5ECF6\",\"gridcolor\":\"white\",\"linecolor\":\"white\",\"showbackground\":true,\"ticks\":\"\",\"zerolinecolor\":\"white\",\"gridwidth\":2},\"zaxis\":{\"backgroundcolor\":\"#E5ECF6\",\"gridcolor\":\"white\",\"linecolor\":\"white\",\"showbackground\":true,\"ticks\":\"\",\"zerolinecolor\":\"white\",\"gridwidth\":2}},\"shapedefaults\":{\"line\":{\"color\":\"#2a3f5f\"}},\"annotationdefaults\":{\"arrowcolor\":\"#2a3f5f\",\"arrowhead\":0,\"arrowwidth\":1},\"geo\":{\"bgcolor\":\"white\",\"landcolor\":\"#E5ECF6\",\"subunitcolor\":\"white\",\"showland\":true,\"showlakes\":true,\"lakecolor\":\"white\"},\"title\":{\"x\":0.05},\"mapbox\":{\"style\":\"light\"}}},\"polar\":{\"domain\":{\"x\":[0.0,1.0],\"y\":[0.0,1.0]},\"angularaxis\":{\"direction\":\"clockwise\",\"rotation\":90},\"radialaxis\":{\"range\":[4.1,1],\"dtick\":1}},\"legend\":{\"title\":{\"text\":\"Method\"},\"tracegroupgap\":0},\"margin\":{\"t\":60}},                        {\"responsive\": true}                    ).then(function(){\n",
       "                            \n",
       "var gd = document.getElementById('df39d795-a4d5-42de-95d5-c5ec0bd4b0c3');\n",
       "var x = new MutationObserver(function (mutations, observer) {{\n",
       "        var display = window.getComputedStyle(gd).display;\n",
       "        if (!display || display === 'none') {{\n",
       "            console.log([gd, 'removed!']);\n",
       "            Plotly.purge(gd);\n",
       "            observer.disconnect();\n",
       "        }}\n",
       "}});\n",
       "\n",
       "// Listen for the removal of the full notebook cells\n",
       "var notebookContainer = gd.closest('#notebook-container');\n",
       "if (notebookContainer) {{\n",
       "    x.observe(notebookContainer, {childList: true});\n",
       "}}\n",
       "\n",
       "// Listen for the clearing of the current output cell\n",
       "var outputEl = gd.closest('.output');\n",
       "if (outputEl) {{\n",
       "    x.observe(outputEl, {childList: true});\n",
       "}}\n",
       "\n",
       "                        })                };                });            </script>        </div>"
      ]
     },
     "metadata": {},
     "output_type": "display_data"
    }
   ],
   "source": [
    "ranking_by_metric = rankings.stack().reset_index().groupby(\"Method\").mean()\n",
    "spider_by_metric = ranking_by_metric.reset_index().melt(id_vars=\"Method\")\n",
    "px.line_polar(spider_by_metric, r=\"value\", theta=\"variable\", color=\"Method\", line_close=True) \\\n",
    "    .update_layout(polar={\"radialaxis\": {\"range\": [4.1, 1], \"dtick\": 1}})"
   ]
  },
  {
   "cell_type": "code",
   "execution_count": 14,
   "id": "ac5f7e9a",
   "metadata": {},
   "outputs": [
    {
     "data": {
      "application/vnd.plotly.v1+json": {
       "config": {
        "plotlyServerURL": "https://plot.ly"
       },
       "data": [
        {
         "hovertemplate": "Method=TTS-GAN<br>value=%{r}<br>Dataset=%{theta}<extra></extra>",
         "legendgroup": "TTS-GAN",
         "line": {
          "color": "#636efa",
          "dash": "solid"
         },
         "marker": {
          "symbol": "circle"
         },
         "mode": "lines",
         "name": "TTS-GAN",
         "r": [
          3.5555555555555554,
          4,
          4,
          4,
          3.888888888888889,
          3.6666666666666665,
          3.5555555555555554
         ],
         "showlegend": true,
         "subplot": "polar",
         "theta": [
          "D2",
          "D3",
          "D4",
          "D5",
          "D6",
          "D7",
          "D2"
         ],
         "type": "scatterpolar"
        },
        {
         "hovertemplate": "Method=Time-Transformer<br>value=%{r}<br>Dataset=%{theta}<extra></extra>",
         "legendgroup": "Time-Transformer",
         "line": {
          "color": "#EF553B",
          "dash": "solid"
         },
         "marker": {
          "symbol": "circle"
         },
         "mode": "lines",
         "name": "Time-Transformer",
         "r": [
          3,
          2.3333333333333335,
          2.111111111111111,
          2.111111111111111,
          2,
          2.7777777777777777,
          3
         ],
         "showlegend": true,
         "subplot": "polar",
         "theta": [
          "D2",
          "D3",
          "D4",
          "D5",
          "D6",
          "D7",
          "D2"
         ],
         "type": "scatterpolar"
        },
        {
         "hovertemplate": "Method=TimeGAN<br>value=%{r}<br>Dataset=%{theta}<extra></extra>",
         "legendgroup": "TimeGAN",
         "line": {
          "color": "#00cc96",
          "dash": "solid"
         },
         "marker": {
          "symbol": "circle"
         },
         "mode": "lines",
         "name": "TimeGAN",
         "r": [
          1.5555555555555556,
          2.2222222222222223,
          2.6666666666666665,
          2.6666666666666665,
          2.888888888888889,
          1.8888888888888888,
          1.5555555555555556
         ],
         "showlegend": true,
         "subplot": "polar",
         "theta": [
          "D2",
          "D3",
          "D4",
          "D5",
          "D6",
          "D7",
          "D2"
         ],
         "type": "scatterpolar"
        },
        {
         "hovertemplate": "Method=TransFusion<br>value=%{r}<br>Dataset=%{theta}<extra></extra>",
         "legendgroup": "TransFusion",
         "line": {
          "color": "#ab63fa",
          "dash": "solid"
         },
         "marker": {
          "symbol": "circle"
         },
         "mode": "lines",
         "name": "TransFusion",
         "r": [
          1.8888888888888888,
          1.4444444444444444,
          1.2222222222222223,
          1.2222222222222223,
          1.2222222222222223,
          1.6666666666666667,
          1.8888888888888888
         ],
         "showlegend": true,
         "subplot": "polar",
         "theta": [
          "D2",
          "D3",
          "D4",
          "D5",
          "D6",
          "D7",
          "D2"
         ],
         "type": "scatterpolar"
        }
       ],
       "layout": {
        "legend": {
         "title": {
          "text": "Method"
         },
         "tracegroupgap": 0
        },
        "margin": {
         "t": 60
        },
        "polar": {
         "angularaxis": {
          "direction": "clockwise",
          "rotation": 90
         },
         "domain": {
          "x": [
           0,
           1
          ],
          "y": [
           0,
           1
          ]
         },
         "radialaxis": {
          "dtick": 1,
          "range": [
           4.1,
           1
          ]
         }
        },
        "template": {
         "data": {
          "bar": [
           {
            "error_x": {
             "color": "#2a3f5f"
            },
            "error_y": {
             "color": "#2a3f5f"
            },
            "marker": {
             "line": {
              "color": "#E5ECF6",
              "width": 0.5
             },
             "pattern": {
              "fillmode": "overlay",
              "size": 10,
              "solidity": 0.2
             }
            },
            "type": "bar"
           }
          ],
          "barpolar": [
           {
            "marker": {
             "line": {
              "color": "#E5ECF6",
              "width": 0.5
             },
             "pattern": {
              "fillmode": "overlay",
              "size": 10,
              "solidity": 0.2
             }
            },
            "type": "barpolar"
           }
          ],
          "carpet": [
           {
            "aaxis": {
             "endlinecolor": "#2a3f5f",
             "gridcolor": "white",
             "linecolor": "white",
             "minorgridcolor": "white",
             "startlinecolor": "#2a3f5f"
            },
            "baxis": {
             "endlinecolor": "#2a3f5f",
             "gridcolor": "white",
             "linecolor": "white",
             "minorgridcolor": "white",
             "startlinecolor": "#2a3f5f"
            },
            "type": "carpet"
           }
          ],
          "choropleth": [
           {
            "colorbar": {
             "outlinewidth": 0,
             "ticks": ""
            },
            "type": "choropleth"
           }
          ],
          "contour": [
           {
            "colorbar": {
             "outlinewidth": 0,
             "ticks": ""
            },
            "colorscale": [
             [
              0,
              "#0d0887"
             ],
             [
              0.1111111111111111,
              "#46039f"
             ],
             [
              0.2222222222222222,
              "#7201a8"
             ],
             [
              0.3333333333333333,
              "#9c179e"
             ],
             [
              0.4444444444444444,
              "#bd3786"
             ],
             [
              0.5555555555555556,
              "#d8576b"
             ],
             [
              0.6666666666666666,
              "#ed7953"
             ],
             [
              0.7777777777777778,
              "#fb9f3a"
             ],
             [
              0.8888888888888888,
              "#fdca26"
             ],
             [
              1,
              "#f0f921"
             ]
            ],
            "type": "contour"
           }
          ],
          "contourcarpet": [
           {
            "colorbar": {
             "outlinewidth": 0,
             "ticks": ""
            },
            "type": "contourcarpet"
           }
          ],
          "heatmap": [
           {
            "colorbar": {
             "outlinewidth": 0,
             "ticks": ""
            },
            "colorscale": [
             [
              0,
              "#0d0887"
             ],
             [
              0.1111111111111111,
              "#46039f"
             ],
             [
              0.2222222222222222,
              "#7201a8"
             ],
             [
              0.3333333333333333,
              "#9c179e"
             ],
             [
              0.4444444444444444,
              "#bd3786"
             ],
             [
              0.5555555555555556,
              "#d8576b"
             ],
             [
              0.6666666666666666,
              "#ed7953"
             ],
             [
              0.7777777777777778,
              "#fb9f3a"
             ],
             [
              0.8888888888888888,
              "#fdca26"
             ],
             [
              1,
              "#f0f921"
             ]
            ],
            "type": "heatmap"
           }
          ],
          "heatmapgl": [
           {
            "colorbar": {
             "outlinewidth": 0,
             "ticks": ""
            },
            "colorscale": [
             [
              0,
              "#0d0887"
             ],
             [
              0.1111111111111111,
              "#46039f"
             ],
             [
              0.2222222222222222,
              "#7201a8"
             ],
             [
              0.3333333333333333,
              "#9c179e"
             ],
             [
              0.4444444444444444,
              "#bd3786"
             ],
             [
              0.5555555555555556,
              "#d8576b"
             ],
             [
              0.6666666666666666,
              "#ed7953"
             ],
             [
              0.7777777777777778,
              "#fb9f3a"
             ],
             [
              0.8888888888888888,
              "#fdca26"
             ],
             [
              1,
              "#f0f921"
             ]
            ],
            "type": "heatmapgl"
           }
          ],
          "histogram": [
           {
            "marker": {
             "pattern": {
              "fillmode": "overlay",
              "size": 10,
              "solidity": 0.2
             }
            },
            "type": "histogram"
           }
          ],
          "histogram2d": [
           {
            "colorbar": {
             "outlinewidth": 0,
             "ticks": ""
            },
            "colorscale": [
             [
              0,
              "#0d0887"
             ],
             [
              0.1111111111111111,
              "#46039f"
             ],
             [
              0.2222222222222222,
              "#7201a8"
             ],
             [
              0.3333333333333333,
              "#9c179e"
             ],
             [
              0.4444444444444444,
              "#bd3786"
             ],
             [
              0.5555555555555556,
              "#d8576b"
             ],
             [
              0.6666666666666666,
              "#ed7953"
             ],
             [
              0.7777777777777778,
              "#fb9f3a"
             ],
             [
              0.8888888888888888,
              "#fdca26"
             ],
             [
              1,
              "#f0f921"
             ]
            ],
            "type": "histogram2d"
           }
          ],
          "histogram2dcontour": [
           {
            "colorbar": {
             "outlinewidth": 0,
             "ticks": ""
            },
            "colorscale": [
             [
              0,
              "#0d0887"
             ],
             [
              0.1111111111111111,
              "#46039f"
             ],
             [
              0.2222222222222222,
              "#7201a8"
             ],
             [
              0.3333333333333333,
              "#9c179e"
             ],
             [
              0.4444444444444444,
              "#bd3786"
             ],
             [
              0.5555555555555556,
              "#d8576b"
             ],
             [
              0.6666666666666666,
              "#ed7953"
             ],
             [
              0.7777777777777778,
              "#fb9f3a"
             ],
             [
              0.8888888888888888,
              "#fdca26"
             ],
             [
              1,
              "#f0f921"
             ]
            ],
            "type": "histogram2dcontour"
           }
          ],
          "mesh3d": [
           {
            "colorbar": {
             "outlinewidth": 0,
             "ticks": ""
            },
            "type": "mesh3d"
           }
          ],
          "parcoords": [
           {
            "line": {
             "colorbar": {
              "outlinewidth": 0,
              "ticks": ""
             }
            },
            "type": "parcoords"
           }
          ],
          "pie": [
           {
            "automargin": true,
            "type": "pie"
           }
          ],
          "scatter": [
           {
            "fillpattern": {
             "fillmode": "overlay",
             "size": 10,
             "solidity": 0.2
            },
            "type": "scatter"
           }
          ],
          "scatter3d": [
           {
            "line": {
             "colorbar": {
              "outlinewidth": 0,
              "ticks": ""
             }
            },
            "marker": {
             "colorbar": {
              "outlinewidth": 0,
              "ticks": ""
             }
            },
            "type": "scatter3d"
           }
          ],
          "scattercarpet": [
           {
            "marker": {
             "colorbar": {
              "outlinewidth": 0,
              "ticks": ""
             }
            },
            "type": "scattercarpet"
           }
          ],
          "scattergeo": [
           {
            "marker": {
             "colorbar": {
              "outlinewidth": 0,
              "ticks": ""
             }
            },
            "type": "scattergeo"
           }
          ],
          "scattergl": [
           {
            "marker": {
             "colorbar": {
              "outlinewidth": 0,
              "ticks": ""
             }
            },
            "type": "scattergl"
           }
          ],
          "scattermapbox": [
           {
            "marker": {
             "colorbar": {
              "outlinewidth": 0,
              "ticks": ""
             }
            },
            "type": "scattermapbox"
           }
          ],
          "scatterpolar": [
           {
            "marker": {
             "colorbar": {
              "outlinewidth": 0,
              "ticks": ""
             }
            },
            "type": "scatterpolar"
           }
          ],
          "scatterpolargl": [
           {
            "marker": {
             "colorbar": {
              "outlinewidth": 0,
              "ticks": ""
             }
            },
            "type": "scatterpolargl"
           }
          ],
          "scatterternary": [
           {
            "marker": {
             "colorbar": {
              "outlinewidth": 0,
              "ticks": ""
             }
            },
            "type": "scatterternary"
           }
          ],
          "surface": [
           {
            "colorbar": {
             "outlinewidth": 0,
             "ticks": ""
            },
            "colorscale": [
             [
              0,
              "#0d0887"
             ],
             [
              0.1111111111111111,
              "#46039f"
             ],
             [
              0.2222222222222222,
              "#7201a8"
             ],
             [
              0.3333333333333333,
              "#9c179e"
             ],
             [
              0.4444444444444444,
              "#bd3786"
             ],
             [
              0.5555555555555556,
              "#d8576b"
             ],
             [
              0.6666666666666666,
              "#ed7953"
             ],
             [
              0.7777777777777778,
              "#fb9f3a"
             ],
             [
              0.8888888888888888,
              "#fdca26"
             ],
             [
              1,
              "#f0f921"
             ]
            ],
            "type": "surface"
           }
          ],
          "table": [
           {
            "cells": {
             "fill": {
              "color": "#EBF0F8"
             },
             "line": {
              "color": "white"
             }
            },
            "header": {
             "fill": {
              "color": "#C8D4E3"
             },
             "line": {
              "color": "white"
             }
            },
            "type": "table"
           }
          ]
         },
         "layout": {
          "annotationdefaults": {
           "arrowcolor": "#2a3f5f",
           "arrowhead": 0,
           "arrowwidth": 1
          },
          "autotypenumbers": "strict",
          "coloraxis": {
           "colorbar": {
            "outlinewidth": 0,
            "ticks": ""
           }
          },
          "colorscale": {
           "diverging": [
            [
             0,
             "#8e0152"
            ],
            [
             0.1,
             "#c51b7d"
            ],
            [
             0.2,
             "#de77ae"
            ],
            [
             0.3,
             "#f1b6da"
            ],
            [
             0.4,
             "#fde0ef"
            ],
            [
             0.5,
             "#f7f7f7"
            ],
            [
             0.6,
             "#e6f5d0"
            ],
            [
             0.7,
             "#b8e186"
            ],
            [
             0.8,
             "#7fbc41"
            ],
            [
             0.9,
             "#4d9221"
            ],
            [
             1,
             "#276419"
            ]
           ],
           "sequential": [
            [
             0,
             "#0d0887"
            ],
            [
             0.1111111111111111,
             "#46039f"
            ],
            [
             0.2222222222222222,
             "#7201a8"
            ],
            [
             0.3333333333333333,
             "#9c179e"
            ],
            [
             0.4444444444444444,
             "#bd3786"
            ],
            [
             0.5555555555555556,
             "#d8576b"
            ],
            [
             0.6666666666666666,
             "#ed7953"
            ],
            [
             0.7777777777777778,
             "#fb9f3a"
            ],
            [
             0.8888888888888888,
             "#fdca26"
            ],
            [
             1,
             "#f0f921"
            ]
           ],
           "sequentialminus": [
            [
             0,
             "#0d0887"
            ],
            [
             0.1111111111111111,
             "#46039f"
            ],
            [
             0.2222222222222222,
             "#7201a8"
            ],
            [
             0.3333333333333333,
             "#9c179e"
            ],
            [
             0.4444444444444444,
             "#bd3786"
            ],
            [
             0.5555555555555556,
             "#d8576b"
            ],
            [
             0.6666666666666666,
             "#ed7953"
            ],
            [
             0.7777777777777778,
             "#fb9f3a"
            ],
            [
             0.8888888888888888,
             "#fdca26"
            ],
            [
             1,
             "#f0f921"
            ]
           ]
          },
          "colorway": [
           "#636efa",
           "#EF553B",
           "#00cc96",
           "#ab63fa",
           "#FFA15A",
           "#19d3f3",
           "#FF6692",
           "#B6E880",
           "#FF97FF",
           "#FECB52"
          ],
          "font": {
           "color": "#2a3f5f"
          },
          "geo": {
           "bgcolor": "white",
           "lakecolor": "white",
           "landcolor": "#E5ECF6",
           "showlakes": true,
           "showland": true,
           "subunitcolor": "white"
          },
          "hoverlabel": {
           "align": "left"
          },
          "hovermode": "closest",
          "mapbox": {
           "style": "light"
          },
          "paper_bgcolor": "white",
          "plot_bgcolor": "#E5ECF6",
          "polar": {
           "angularaxis": {
            "gridcolor": "white",
            "linecolor": "white",
            "ticks": ""
           },
           "bgcolor": "#E5ECF6",
           "radialaxis": {
            "gridcolor": "white",
            "linecolor": "white",
            "ticks": ""
           }
          },
          "scene": {
           "xaxis": {
            "backgroundcolor": "#E5ECF6",
            "gridcolor": "white",
            "gridwidth": 2,
            "linecolor": "white",
            "showbackground": true,
            "ticks": "",
            "zerolinecolor": "white"
           },
           "yaxis": {
            "backgroundcolor": "#E5ECF6",
            "gridcolor": "white",
            "gridwidth": 2,
            "linecolor": "white",
            "showbackground": true,
            "ticks": "",
            "zerolinecolor": "white"
           },
           "zaxis": {
            "backgroundcolor": "#E5ECF6",
            "gridcolor": "white",
            "gridwidth": 2,
            "linecolor": "white",
            "showbackground": true,
            "ticks": "",
            "zerolinecolor": "white"
           }
          },
          "shapedefaults": {
           "line": {
            "color": "#2a3f5f"
           }
          },
          "ternary": {
           "aaxis": {
            "gridcolor": "white",
            "linecolor": "white",
            "ticks": ""
           },
           "baxis": {
            "gridcolor": "white",
            "linecolor": "white",
            "ticks": ""
           },
           "bgcolor": "#E5ECF6",
           "caxis": {
            "gridcolor": "white",
            "linecolor": "white",
            "ticks": ""
           }
          },
          "title": {
           "x": 0.05
          },
          "xaxis": {
           "automargin": true,
           "gridcolor": "white",
           "linecolor": "white",
           "ticks": "",
           "title": {
            "standoff": 15
           },
           "zerolinecolor": "white",
           "zerolinewidth": 2
          },
          "yaxis": {
           "automargin": true,
           "gridcolor": "white",
           "linecolor": "white",
           "ticks": "",
           "title": {
            "standoff": 15
           },
           "zerolinecolor": "white",
           "zerolinewidth": 2
          }
         }
        }
       }
      },
      "text/html": [
       "<div>                            <div id=\"ea7d513b-a652-413e-a6b8-b7e4490bcb4f\" class=\"plotly-graph-div\" style=\"height:525px; width:100%;\"></div>            <script type=\"text/javascript\">                require([\"plotly\"], function(Plotly) {                    window.PLOTLYENV=window.PLOTLYENV || {};                                    if (document.getElementById(\"ea7d513b-a652-413e-a6b8-b7e4490bcb4f\")) {                    Plotly.newPlot(                        \"ea7d513b-a652-413e-a6b8-b7e4490bcb4f\",                        [{\"hovertemplate\":\"Method=TTS-GAN\\u003cbr\\u003evalue=%{r}\\u003cbr\\u003eDataset=%{theta}\\u003cextra\\u003e\\u003c\\u002fextra\\u003e\",\"legendgroup\":\"TTS-GAN\",\"line\":{\"color\":\"#636efa\",\"dash\":\"solid\"},\"marker\":{\"symbol\":\"circle\"},\"mode\":\"lines\",\"name\":\"TTS-GAN\",\"r\":[3.5555555555555554,4.0,4.0,4.0,3.888888888888889,3.6666666666666665,3.5555555555555554],\"showlegend\":true,\"subplot\":\"polar\",\"theta\":[\"D2\",\"D3\",\"D4\",\"D5\",\"D6\",\"D7\",\"D2\"],\"type\":\"scatterpolar\"},{\"hovertemplate\":\"Method=Time-Transformer\\u003cbr\\u003evalue=%{r}\\u003cbr\\u003eDataset=%{theta}\\u003cextra\\u003e\\u003c\\u002fextra\\u003e\",\"legendgroup\":\"Time-Transformer\",\"line\":{\"color\":\"#EF553B\",\"dash\":\"solid\"},\"marker\":{\"symbol\":\"circle\"},\"mode\":\"lines\",\"name\":\"Time-Transformer\",\"r\":[3.0,2.3333333333333335,2.111111111111111,2.111111111111111,2.0,2.7777777777777777,3.0],\"showlegend\":true,\"subplot\":\"polar\",\"theta\":[\"D2\",\"D3\",\"D4\",\"D5\",\"D6\",\"D7\",\"D2\"],\"type\":\"scatterpolar\"},{\"hovertemplate\":\"Method=TimeGAN\\u003cbr\\u003evalue=%{r}\\u003cbr\\u003eDataset=%{theta}\\u003cextra\\u003e\\u003c\\u002fextra\\u003e\",\"legendgroup\":\"TimeGAN\",\"line\":{\"color\":\"#00cc96\",\"dash\":\"solid\"},\"marker\":{\"symbol\":\"circle\"},\"mode\":\"lines\",\"name\":\"TimeGAN\",\"r\":[1.5555555555555556,2.2222222222222223,2.6666666666666665,2.6666666666666665,2.888888888888889,1.8888888888888888,1.5555555555555556],\"showlegend\":true,\"subplot\":\"polar\",\"theta\":[\"D2\",\"D3\",\"D4\",\"D5\",\"D6\",\"D7\",\"D2\"],\"type\":\"scatterpolar\"},{\"hovertemplate\":\"Method=TransFusion\\u003cbr\\u003evalue=%{r}\\u003cbr\\u003eDataset=%{theta}\\u003cextra\\u003e\\u003c\\u002fextra\\u003e\",\"legendgroup\":\"TransFusion\",\"line\":{\"color\":\"#ab63fa\",\"dash\":\"solid\"},\"marker\":{\"symbol\":\"circle\"},\"mode\":\"lines\",\"name\":\"TransFusion\",\"r\":[1.8888888888888888,1.4444444444444444,1.2222222222222223,1.2222222222222223,1.2222222222222223,1.6666666666666667,1.8888888888888888],\"showlegend\":true,\"subplot\":\"polar\",\"theta\":[\"D2\",\"D3\",\"D4\",\"D5\",\"D6\",\"D7\",\"D2\"],\"type\":\"scatterpolar\"}],                        {\"template\":{\"data\":{\"histogram2dcontour\":[{\"type\":\"histogram2dcontour\",\"colorbar\":{\"outlinewidth\":0,\"ticks\":\"\"},\"colorscale\":[[0.0,\"#0d0887\"],[0.1111111111111111,\"#46039f\"],[0.2222222222222222,\"#7201a8\"],[0.3333333333333333,\"#9c179e\"],[0.4444444444444444,\"#bd3786\"],[0.5555555555555556,\"#d8576b\"],[0.6666666666666666,\"#ed7953\"],[0.7777777777777778,\"#fb9f3a\"],[0.8888888888888888,\"#fdca26\"],[1.0,\"#f0f921\"]]}],\"choropleth\":[{\"type\":\"choropleth\",\"colorbar\":{\"outlinewidth\":0,\"ticks\":\"\"}}],\"histogram2d\":[{\"type\":\"histogram2d\",\"colorbar\":{\"outlinewidth\":0,\"ticks\":\"\"},\"colorscale\":[[0.0,\"#0d0887\"],[0.1111111111111111,\"#46039f\"],[0.2222222222222222,\"#7201a8\"],[0.3333333333333333,\"#9c179e\"],[0.4444444444444444,\"#bd3786\"],[0.5555555555555556,\"#d8576b\"],[0.6666666666666666,\"#ed7953\"],[0.7777777777777778,\"#fb9f3a\"],[0.8888888888888888,\"#fdca26\"],[1.0,\"#f0f921\"]]}],\"heatmap\":[{\"type\":\"heatmap\",\"colorbar\":{\"outlinewidth\":0,\"ticks\":\"\"},\"colorscale\":[[0.0,\"#0d0887\"],[0.1111111111111111,\"#46039f\"],[0.2222222222222222,\"#7201a8\"],[0.3333333333333333,\"#9c179e\"],[0.4444444444444444,\"#bd3786\"],[0.5555555555555556,\"#d8576b\"],[0.6666666666666666,\"#ed7953\"],[0.7777777777777778,\"#fb9f3a\"],[0.8888888888888888,\"#fdca26\"],[1.0,\"#f0f921\"]]}],\"heatmapgl\":[{\"type\":\"heatmapgl\",\"colorbar\":{\"outlinewidth\":0,\"ticks\":\"\"},\"colorscale\":[[0.0,\"#0d0887\"],[0.1111111111111111,\"#46039f\"],[0.2222222222222222,\"#7201a8\"],[0.3333333333333333,\"#9c179e\"],[0.4444444444444444,\"#bd3786\"],[0.5555555555555556,\"#d8576b\"],[0.6666666666666666,\"#ed7953\"],[0.7777777777777778,\"#fb9f3a\"],[0.8888888888888888,\"#fdca26\"],[1.0,\"#f0f921\"]]}],\"contourcarpet\":[{\"type\":\"contourcarpet\",\"colorbar\":{\"outlinewidth\":0,\"ticks\":\"\"}}],\"contour\":[{\"type\":\"contour\",\"colorbar\":{\"outlinewidth\":0,\"ticks\":\"\"},\"colorscale\":[[0.0,\"#0d0887\"],[0.1111111111111111,\"#46039f\"],[0.2222222222222222,\"#7201a8\"],[0.3333333333333333,\"#9c179e\"],[0.4444444444444444,\"#bd3786\"],[0.5555555555555556,\"#d8576b\"],[0.6666666666666666,\"#ed7953\"],[0.7777777777777778,\"#fb9f3a\"],[0.8888888888888888,\"#fdca26\"],[1.0,\"#f0f921\"]]}],\"surface\":[{\"type\":\"surface\",\"colorbar\":{\"outlinewidth\":0,\"ticks\":\"\"},\"colorscale\":[[0.0,\"#0d0887\"],[0.1111111111111111,\"#46039f\"],[0.2222222222222222,\"#7201a8\"],[0.3333333333333333,\"#9c179e\"],[0.4444444444444444,\"#bd3786\"],[0.5555555555555556,\"#d8576b\"],[0.6666666666666666,\"#ed7953\"],[0.7777777777777778,\"#fb9f3a\"],[0.8888888888888888,\"#fdca26\"],[1.0,\"#f0f921\"]]}],\"mesh3d\":[{\"type\":\"mesh3d\",\"colorbar\":{\"outlinewidth\":0,\"ticks\":\"\"}}],\"scatter\":[{\"fillpattern\":{\"fillmode\":\"overlay\",\"size\":10,\"solidity\":0.2},\"type\":\"scatter\"}],\"parcoords\":[{\"type\":\"parcoords\",\"line\":{\"colorbar\":{\"outlinewidth\":0,\"ticks\":\"\"}}}],\"scatterpolargl\":[{\"type\":\"scatterpolargl\",\"marker\":{\"colorbar\":{\"outlinewidth\":0,\"ticks\":\"\"}}}],\"bar\":[{\"error_x\":{\"color\":\"#2a3f5f\"},\"error_y\":{\"color\":\"#2a3f5f\"},\"marker\":{\"line\":{\"color\":\"#E5ECF6\",\"width\":0.5},\"pattern\":{\"fillmode\":\"overlay\",\"size\":10,\"solidity\":0.2}},\"type\":\"bar\"}],\"scattergeo\":[{\"type\":\"scattergeo\",\"marker\":{\"colorbar\":{\"outlinewidth\":0,\"ticks\":\"\"}}}],\"scatterpolar\":[{\"type\":\"scatterpolar\",\"marker\":{\"colorbar\":{\"outlinewidth\":0,\"ticks\":\"\"}}}],\"histogram\":[{\"marker\":{\"pattern\":{\"fillmode\":\"overlay\",\"size\":10,\"solidity\":0.2}},\"type\":\"histogram\"}],\"scattergl\":[{\"type\":\"scattergl\",\"marker\":{\"colorbar\":{\"outlinewidth\":0,\"ticks\":\"\"}}}],\"scatter3d\":[{\"type\":\"scatter3d\",\"line\":{\"colorbar\":{\"outlinewidth\":0,\"ticks\":\"\"}},\"marker\":{\"colorbar\":{\"outlinewidth\":0,\"ticks\":\"\"}}}],\"scattermapbox\":[{\"type\":\"scattermapbox\",\"marker\":{\"colorbar\":{\"outlinewidth\":0,\"ticks\":\"\"}}}],\"scatterternary\":[{\"type\":\"scatterternary\",\"marker\":{\"colorbar\":{\"outlinewidth\":0,\"ticks\":\"\"}}}],\"scattercarpet\":[{\"type\":\"scattercarpet\",\"marker\":{\"colorbar\":{\"outlinewidth\":0,\"ticks\":\"\"}}}],\"carpet\":[{\"aaxis\":{\"endlinecolor\":\"#2a3f5f\",\"gridcolor\":\"white\",\"linecolor\":\"white\",\"minorgridcolor\":\"white\",\"startlinecolor\":\"#2a3f5f\"},\"baxis\":{\"endlinecolor\":\"#2a3f5f\",\"gridcolor\":\"white\",\"linecolor\":\"white\",\"minorgridcolor\":\"white\",\"startlinecolor\":\"#2a3f5f\"},\"type\":\"carpet\"}],\"table\":[{\"cells\":{\"fill\":{\"color\":\"#EBF0F8\"},\"line\":{\"color\":\"white\"}},\"header\":{\"fill\":{\"color\":\"#C8D4E3\"},\"line\":{\"color\":\"white\"}},\"type\":\"table\"}],\"barpolar\":[{\"marker\":{\"line\":{\"color\":\"#E5ECF6\",\"width\":0.5},\"pattern\":{\"fillmode\":\"overlay\",\"size\":10,\"solidity\":0.2}},\"type\":\"barpolar\"}],\"pie\":[{\"automargin\":true,\"type\":\"pie\"}]},\"layout\":{\"autotypenumbers\":\"strict\",\"colorway\":[\"#636efa\",\"#EF553B\",\"#00cc96\",\"#ab63fa\",\"#FFA15A\",\"#19d3f3\",\"#FF6692\",\"#B6E880\",\"#FF97FF\",\"#FECB52\"],\"font\":{\"color\":\"#2a3f5f\"},\"hovermode\":\"closest\",\"hoverlabel\":{\"align\":\"left\"},\"paper_bgcolor\":\"white\",\"plot_bgcolor\":\"#E5ECF6\",\"polar\":{\"bgcolor\":\"#E5ECF6\",\"angularaxis\":{\"gridcolor\":\"white\",\"linecolor\":\"white\",\"ticks\":\"\"},\"radialaxis\":{\"gridcolor\":\"white\",\"linecolor\":\"white\",\"ticks\":\"\"}},\"ternary\":{\"bgcolor\":\"#E5ECF6\",\"aaxis\":{\"gridcolor\":\"white\",\"linecolor\":\"white\",\"ticks\":\"\"},\"baxis\":{\"gridcolor\":\"white\",\"linecolor\":\"white\",\"ticks\":\"\"},\"caxis\":{\"gridcolor\":\"white\",\"linecolor\":\"white\",\"ticks\":\"\"}},\"coloraxis\":{\"colorbar\":{\"outlinewidth\":0,\"ticks\":\"\"}},\"colorscale\":{\"sequential\":[[0.0,\"#0d0887\"],[0.1111111111111111,\"#46039f\"],[0.2222222222222222,\"#7201a8\"],[0.3333333333333333,\"#9c179e\"],[0.4444444444444444,\"#bd3786\"],[0.5555555555555556,\"#d8576b\"],[0.6666666666666666,\"#ed7953\"],[0.7777777777777778,\"#fb9f3a\"],[0.8888888888888888,\"#fdca26\"],[1.0,\"#f0f921\"]],\"sequentialminus\":[[0.0,\"#0d0887\"],[0.1111111111111111,\"#46039f\"],[0.2222222222222222,\"#7201a8\"],[0.3333333333333333,\"#9c179e\"],[0.4444444444444444,\"#bd3786\"],[0.5555555555555556,\"#d8576b\"],[0.6666666666666666,\"#ed7953\"],[0.7777777777777778,\"#fb9f3a\"],[0.8888888888888888,\"#fdca26\"],[1.0,\"#f0f921\"]],\"diverging\":[[0,\"#8e0152\"],[0.1,\"#c51b7d\"],[0.2,\"#de77ae\"],[0.3,\"#f1b6da\"],[0.4,\"#fde0ef\"],[0.5,\"#f7f7f7\"],[0.6,\"#e6f5d0\"],[0.7,\"#b8e186\"],[0.8,\"#7fbc41\"],[0.9,\"#4d9221\"],[1,\"#276419\"]]},\"xaxis\":{\"gridcolor\":\"white\",\"linecolor\":\"white\",\"ticks\":\"\",\"title\":{\"standoff\":15},\"zerolinecolor\":\"white\",\"automargin\":true,\"zerolinewidth\":2},\"yaxis\":{\"gridcolor\":\"white\",\"linecolor\":\"white\",\"ticks\":\"\",\"title\":{\"standoff\":15},\"zerolinecolor\":\"white\",\"automargin\":true,\"zerolinewidth\":2},\"scene\":{\"xaxis\":{\"backgroundcolor\":\"#E5ECF6\",\"gridcolor\":\"white\",\"linecolor\":\"white\",\"showbackground\":true,\"ticks\":\"\",\"zerolinecolor\":\"white\",\"gridwidth\":2},\"yaxis\":{\"backgroundcolor\":\"#E5ECF6\",\"gridcolor\":\"white\",\"linecolor\":\"white\",\"showbackground\":true,\"ticks\":\"\",\"zerolinecolor\":\"white\",\"gridwidth\":2},\"zaxis\":{\"backgroundcolor\":\"#E5ECF6\",\"gridcolor\":\"white\",\"linecolor\":\"white\",\"showbackground\":true,\"ticks\":\"\",\"zerolinecolor\":\"white\",\"gridwidth\":2}},\"shapedefaults\":{\"line\":{\"color\":\"#2a3f5f\"}},\"annotationdefaults\":{\"arrowcolor\":\"#2a3f5f\",\"arrowhead\":0,\"arrowwidth\":1},\"geo\":{\"bgcolor\":\"white\",\"landcolor\":\"#E5ECF6\",\"subunitcolor\":\"white\",\"showland\":true,\"showlakes\":true,\"lakecolor\":\"white\"},\"title\":{\"x\":0.05},\"mapbox\":{\"style\":\"light\"}}},\"polar\":{\"domain\":{\"x\":[0.0,1.0],\"y\":[0.0,1.0]},\"angularaxis\":{\"direction\":\"clockwise\",\"rotation\":90},\"radialaxis\":{\"range\":[4.1,1],\"dtick\":1}},\"legend\":{\"title\":{\"text\":\"Method\"},\"tracegroupgap\":0},\"margin\":{\"t\":60}},                        {\"responsive\": true}                    ).then(function(){\n",
       "                            \n",
       "var gd = document.getElementById('ea7d513b-a652-413e-a6b8-b7e4490bcb4f');\n",
       "var x = new MutationObserver(function (mutations, observer) {{\n",
       "        var display = window.getComputedStyle(gd).display;\n",
       "        if (!display || display === 'none') {{\n",
       "            console.log([gd, 'removed!']);\n",
       "            Plotly.purge(gd);\n",
       "            observer.disconnect();\n",
       "        }}\n",
       "}});\n",
       "\n",
       "// Listen for the removal of the full notebook cells\n",
       "var notebookContainer = gd.closest('#notebook-container');\n",
       "if (notebookContainer) {{\n",
       "    x.observe(notebookContainer, {childList: true});\n",
       "}}\n",
       "\n",
       "// Listen for the clearing of the current output cell\n",
       "var outputEl = gd.closest('.output');\n",
       "if (outputEl) {{\n",
       "    x.observe(outputEl, {childList: true});\n",
       "}}\n",
       "\n",
       "                        })                };                });            </script>        </div>"
      ]
     },
     "metadata": {},
     "output_type": "display_data"
    }
   ],
   "source": [
    "ranking_by_dataset = rankings.stack(level=0).reset_index().groupby(\"Method\").mean()\n",
    "spider_by_dataset = ranking_by_dataset.reset_index().melt(id_vars=\"Method\")\n",
    "px.line_polar(spider_by_dataset, r=\"value\", theta=\"Dataset\", color=\"Method\", line_close=True) \\\n",
    "    .update_layout(polar={\"radialaxis\": {\"range\": [4.1,1], \"dtick\": 1}})"
   ]
  }
 ],
 "metadata": {
  "kernelspec": {
   "display_name": "Python 3",
   "language": "python",
   "name": "python3"
  },
  "language_info": {
   "codemirror_mode": {
    "name": "ipython",
    "version": 3
   },
   "file_extension": ".py",
   "mimetype": "text/x-python",
   "name": "python",
   "nbconvert_exporter": "python",
   "pygments_lexer": "ipython3",
   "version": "3.7.17"
  }
 },
 "nbformat": 4,
 "nbformat_minor": 5
}
