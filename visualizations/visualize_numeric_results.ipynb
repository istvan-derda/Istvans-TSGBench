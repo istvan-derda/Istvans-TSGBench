{
 "cells": [
  {
   "cell_type": "code",
   "execution_count": 107,
   "id": "babe15d7",
   "metadata": {},
   "outputs": [],
   "source": [
    "import json\n",
    "import pandas as pd\n",
    "import warnings\n",
    "import seaborn as sns\n",
    "from pyprojroot import here\n",
    "import plotly.express as px\n",
    "\n",
    "methods = [\"JustCopy\", \"TimeGAN\", \"Time-Transformer\", \"TransFusion\", \"TTS-GAN\", \"TimeVQVAE\"]\n",
    "datasets = [\"D2\", \"D3\", \"D4\", \"D5\", \"D6\", \"D7\"]\n",
    "\n",
    "rows = []\n",
    "\n",
    "for method in methods:\n",
    "    for dataset in datasets:\n",
    "        file_candidates = list(here('result').glob(f'numeric_{method}_{dataset}_*.json'))\n",
    "        if len(file_candidates) != 1:\n",
    "            warnings.warn(f\"Ignoring {method} {dataset}: Expected one result file for {method} {dataset}, instead matched {file_candidates}.\")\n",
    "            continue\n",
    "        file_path = file_candidates[0]\n",
    "        \n",
    "        with open(file_path) as f:\n",
    "            data = json.load(f)\n",
    "        \n",
    "        rows.append(((method, dataset), data))\n",
    "\n",
    "df_all = pd.DataFrame.from_dict(dict(rows), orient=\"index\")\n",
    "df_all.index = pd.MultiIndex.from_tuples(df_all.index, names=[\"Method\", \"Dataset\"])\n",
    "\n",
    "# load timings\n",
    "def timings_path(method):\n",
    "    paths = list(here(\"models\").glob(f\"*{method}*/timings.csv\"))\n",
    "    assert len(paths) == 1\n",
    "    return paths[0]\n",
    "\n",
    "timings = pd.DataFrame()\n",
    "for method in methods:\n",
    "    df = pd.read_csv(timings_path(method))\n",
    "    df[\"Method\"] = method\n",
    "    timings = pd.concat([timings, df], ignore_index=True)\n",
    "\n",
    "_timings = timings.melt(id_vars=\"Method\", var_name=\"Dataset\", value_name=\"Time\").set_index([\"Method\", \"Dataset\"]).sort_index(level=\"Method\")\n",
    "\n",
    "df_all = pd.concat([df_all, _timings], axis = 1)"
   ]
  },
  {
   "cell_type": "code",
   "execution_count": 108,
   "id": "37f7a115",
   "metadata": {},
   "outputs": [
    {
     "data": {
      "text/html": [
       "<style type=\"text/css\">\n",
       "#T_f15c8_row0_col0, #T_f15c8_row1_col0, #T_f15c8_row4_col0, #T_f15c8_row5_col0, #T_f15c8_row18_col2, #T_f15c8_row35_col6 {\n",
       "  background-color: #408b48;\n",
       "  color: #f1f1f1;\n",
       "}\n",
       "#T_f15c8_row0_col1, #T_f15c8_row16_col9, #T_f15c8_row18_col1, #T_f15c8_row31_col1, #T_f15c8_row35_col3 {\n",
       "  background-color: #54975a;\n",
       "  color: #f1f1f1;\n",
       "}\n",
       "#T_f15c8_row0_col2, #T_f15c8_row0_col3, #T_f15c8_row0_col4, #T_f15c8_row0_col5, #T_f15c8_row0_col6, #T_f15c8_row0_col7, #T_f15c8_row0_col8, #T_f15c8_row0_col9, #T_f15c8_row1_col2, #T_f15c8_row1_col3, #T_f15c8_row1_col4, #T_f15c8_row1_col5, #T_f15c8_row1_col6, #T_f15c8_row1_col7, #T_f15c8_row1_col8, #T_f15c8_row1_col9, #T_f15c8_row2_col2, #T_f15c8_row2_col3, #T_f15c8_row2_col4, #T_f15c8_row2_col5, #T_f15c8_row2_col6, #T_f15c8_row2_col7, #T_f15c8_row2_col8, #T_f15c8_row2_col9, #T_f15c8_row3_col2, #T_f15c8_row3_col4, #T_f15c8_row3_col5, #T_f15c8_row3_col6, #T_f15c8_row3_col7, #T_f15c8_row3_col8, #T_f15c8_row3_col9, #T_f15c8_row4_col2, #T_f15c8_row4_col4, #T_f15c8_row4_col5, #T_f15c8_row4_col6, #T_f15c8_row4_col7, #T_f15c8_row4_col8, #T_f15c8_row4_col9, #T_f15c8_row5_col2, #T_f15c8_row5_col3, #T_f15c8_row5_col4, #T_f15c8_row5_col5, #T_f15c8_row5_col6, #T_f15c8_row5_col7, #T_f15c8_row5_col8, #T_f15c8_row5_col9, #T_f15c8_row34_col2 {\n",
       "  background-color: #398641;\n",
       "  color: #f1f1f1;\n",
       "}\n",
       "#T_f15c8_row1_col1, #T_f15c8_row24_col9, #T_f15c8_row26_col5, #T_f15c8_row27_col9 {\n",
       "  background-color: #529659;\n",
       "  color: #f1f1f1;\n",
       "}\n",
       "#T_f15c8_row2_col0, #T_f15c8_row3_col3, #T_f15c8_row14_col9 {\n",
       "  background-color: #438c4a;\n",
       "  color: #f1f1f1;\n",
       "}\n",
       "#T_f15c8_row2_col1 {\n",
       "  background-color: #629f68;\n",
       "  color: #f1f1f1;\n",
       "}\n",
       "#T_f15c8_row3_col0, #T_f15c8_row30_col4 {\n",
       "  background-color: #448d4c;\n",
       "  color: #f1f1f1;\n",
       "}\n",
       "#T_f15c8_row3_col1, #T_f15c8_row6_col3, #T_f15c8_row11_col3, #T_f15c8_row33_col1, #T_f15c8_row34_col1 {\n",
       "  background-color: #f2f1f1;\n",
       "  color: #000000;\n",
       "}\n",
       "#T_f15c8_row4_col1, #T_f15c8_row9_col6 {\n",
       "  background-color: #ebf2ec;\n",
       "  color: #000000;\n",
       "}\n",
       "#T_f15c8_row4_col3, #T_f15c8_row34_col5 {\n",
       "  background-color: #458e4d;\n",
       "  color: #f1f1f1;\n",
       "}\n",
       "#T_f15c8_row5_col1, #T_f15c8_row34_col3, #T_f15c8_row35_col0, #T_f15c8_row35_col1, #T_f15c8_row35_col5 {\n",
       "  background-color: #5c9c63;\n",
       "  color: #f1f1f1;\n",
       "}\n",
       "#T_f15c8_row6_col0 {\n",
       "  background-color: #e6a6b9;\n",
       "  color: #000000;\n",
       "}\n",
       "#T_f15c8_row6_col1, #T_f15c8_row6_col2, #T_f15c8_row6_col4, #T_f15c8_row6_col5, #T_f15c8_row6_col6, #T_f15c8_row6_col7, #T_f15c8_row6_col8, #T_f15c8_row7_col0, #T_f15c8_row7_col2, #T_f15c8_row7_col4, #T_f15c8_row7_col5, #T_f15c8_row7_col7, #T_f15c8_row7_col8, #T_f15c8_row8_col0, #T_f15c8_row8_col2, #T_f15c8_row8_col4, #T_f15c8_row8_col7, #T_f15c8_row8_col8, #T_f15c8_row9_col0, #T_f15c8_row9_col2, #T_f15c8_row9_col4, #T_f15c8_row9_col7, #T_f15c8_row9_col8, #T_f15c8_row10_col0, #T_f15c8_row10_col2, #T_f15c8_row10_col4, #T_f15c8_row10_col7, #T_f15c8_row10_col8, #T_f15c8_row11_col0, #T_f15c8_row11_col2, #T_f15c8_row11_col4, #T_f15c8_row11_col7, #T_f15c8_row11_col8, #T_f15c8_row15_col0, #T_f15c8_row16_col0, #T_f15c8_row19_col9, #T_f15c8_row20_col9, #T_f15c8_row22_col0, #T_f15c8_row22_col4, #T_f15c8_row22_col9, #T_f15c8_row23_col4, #T_f15c8_row23_col9, #T_f15c8_row27_col0, #T_f15c8_row28_col4, #T_f15c8_row34_col9 {\n",
       "  background-color: #d53d69;\n",
       "  color: #f1f1f1;\n",
       "}\n",
       "#T_f15c8_row6_col9, #T_f15c8_row11_col9, #T_f15c8_row26_col0 {\n",
       "  background-color: #eabdca;\n",
       "  color: #000000;\n",
       "}\n",
       "#T_f15c8_row7_col1, #T_f15c8_row33_col6 {\n",
       "  background-color: #6aa470;\n",
       "  color: #f1f1f1;\n",
       "}\n",
       "#T_f15c8_row7_col3, #T_f15c8_row22_col1, #T_f15c8_row23_col8 {\n",
       "  background-color: #ebc5d0;\n",
       "  color: #000000;\n",
       "}\n",
       "#T_f15c8_row7_col6, #T_f15c8_row26_col7 {\n",
       "  background-color: #da5a80;\n",
       "  color: #f1f1f1;\n",
       "}\n",
       "#T_f15c8_row7_col9, #T_f15c8_row10_col9 {\n",
       "  background-color: #e9b8c6;\n",
       "  color: #000000;\n",
       "}\n",
       "#T_f15c8_row8_col1, #T_f15c8_row21_col1 {\n",
       "  background-color: #eed7de;\n",
       "  color: #000000;\n",
       "}\n",
       "#T_f15c8_row8_col3, #T_f15c8_row9_col3, #T_f15c8_row10_col3, #T_f15c8_row16_col1 {\n",
       "  background-color: #f2eff0;\n",
       "  color: #000000;\n",
       "}\n",
       "#T_f15c8_row8_col5 {\n",
       "  background-color: #e07f9b;\n",
       "  color: #f1f1f1;\n",
       "}\n",
       "#T_f15c8_row8_col6, #T_f15c8_row21_col9 {\n",
       "  background-color: #a6c8a9;\n",
       "  color: #000000;\n",
       "}\n",
       "#T_f15c8_row8_col9, #T_f15c8_row9_col9, #T_f15c8_row12_col0, #T_f15c8_row15_col1 {\n",
       "  background-color: #eabbc9;\n",
       "  color: #000000;\n",
       "}\n",
       "#T_f15c8_row9_col1, #T_f15c8_row13_col0, #T_f15c8_row28_col1, #T_f15c8_row32_col8 {\n",
       "  background-color: #edcfd7;\n",
       "  color: #000000;\n",
       "}\n",
       "#T_f15c8_row9_col5 {\n",
       "  background-color: #d6426e;\n",
       "  color: #f1f1f1;\n",
       "}\n",
       "#T_f15c8_row10_col1, #T_f15c8_row29_col5 {\n",
       "  background-color: #efdde2;\n",
       "  color: #000000;\n",
       "}\n",
       "#T_f15c8_row10_col5 {\n",
       "  background-color: #e0829e;\n",
       "  color: #f1f1f1;\n",
       "}\n",
       "#T_f15c8_row10_col6 {\n",
       "  background-color: #edcdd6;\n",
       "  color: #000000;\n",
       "}\n",
       "#T_f15c8_row11_col1, #T_f15c8_row18_col7 {\n",
       "  background-color: #c7dcc9;\n",
       "  color: #000000;\n",
       "}\n",
       "#T_f15c8_row11_col5 {\n",
       "  background-color: #eabfcc;\n",
       "  color: #000000;\n",
       "}\n",
       "#T_f15c8_row11_col6 {\n",
       "  background-color: #e9bac7;\n",
       "  color: #000000;\n",
       "}\n",
       "#T_f15c8_row12_col1 {\n",
       "  background-color: #75ab7b;\n",
       "  color: #f1f1f1;\n",
       "}\n",
       "#T_f15c8_row12_col2, #T_f15c8_row15_col4 {\n",
       "  background-color: #99c19d;\n",
       "  color: #000000;\n",
       "}\n",
       "#T_f15c8_row12_col3, #T_f15c8_row23_col5 {\n",
       "  background-color: #aacbae;\n",
       "  color: #000000;\n",
       "}\n",
       "#T_f15c8_row12_col4 {\n",
       "  background-color: #92bc96;\n",
       "  color: #000000;\n",
       "}\n",
       "#T_f15c8_row12_col5, #T_f15c8_row26_col8 {\n",
       "  background-color: #edd3db;\n",
       "  color: #000000;\n",
       "}\n",
       "#T_f15c8_row12_col6, #T_f15c8_row35_col9 {\n",
       "  background-color: #dd6f90;\n",
       "  color: #f1f1f1;\n",
       "}\n",
       "#T_f15c8_row12_col7 {\n",
       "  background-color: #d6e5d7;\n",
       "  color: #000000;\n",
       "}\n",
       "#T_f15c8_row12_col8 {\n",
       "  background-color: #89b78e;\n",
       "  color: #000000;\n",
       "}\n",
       "#T_f15c8_row12_col9 {\n",
       "  background-color: #3d8945;\n",
       "  color: #f1f1f1;\n",
       "}\n",
       "#T_f15c8_row13_col1 {\n",
       "  background-color: #6ca571;\n",
       "  color: #f1f1f1;\n",
       "}\n",
       "#T_f15c8_row13_col2, #T_f15c8_row18_col0, #T_f15c8_row29_col2, #T_f15c8_row30_col8 {\n",
       "  background-color: #7bae80;\n",
       "  color: #f1f1f1;\n",
       "}\n",
       "#T_f15c8_row13_col3, #T_f15c8_row35_col4 {\n",
       "  background-color: #c0d8c2;\n",
       "  color: #000000;\n",
       "}\n",
       "#T_f15c8_row13_col4, #T_f15c8_row27_col2 {\n",
       "  background-color: #eaf1ea;\n",
       "  color: #000000;\n",
       "}\n",
       "#T_f15c8_row13_col5, #T_f15c8_row25_col0, #T_f15c8_row30_col5 {\n",
       "  background-color: #f1e5e8;\n",
       "  color: #000000;\n",
       "}\n",
       "#T_f15c8_row13_col6, #T_f15c8_row21_col0 {\n",
       "  background-color: #d74973;\n",
       "  color: #f1f1f1;\n",
       "}\n",
       "#T_f15c8_row13_col7, #T_f15c8_row23_col7 {\n",
       "  background-color: #df7b98;\n",
       "  color: #f1f1f1;\n",
       "}\n",
       "#T_f15c8_row13_col8, #T_f15c8_row27_col8, #T_f15c8_row33_col8 {\n",
       "  background-color: #d0e2d2;\n",
       "  color: #000000;\n",
       "}\n",
       "#T_f15c8_row13_col9 {\n",
       "  background-color: #3e8a46;\n",
       "  color: #f1f1f1;\n",
       "}\n",
       "#T_f15c8_row14_col0 {\n",
       "  background-color: #f1ebed;\n",
       "  color: #000000;\n",
       "}\n",
       "#T_f15c8_row14_col1, #T_f15c8_row23_col1 {\n",
       "  background-color: #67a26d;\n",
       "  color: #f1f1f1;\n",
       "}\n",
       "#T_f15c8_row14_col2, #T_f15c8_row26_col6 {\n",
       "  background-color: #4a9151;\n",
       "  color: #f1f1f1;\n",
       "}\n",
       "#T_f15c8_row14_col3, #T_f15c8_row14_col5, #T_f15c8_row18_col9 {\n",
       "  background-color: #97bf9b;\n",
       "  color: #000000;\n",
       "}\n",
       "#T_f15c8_row14_col4, #T_f15c8_row16_col3, #T_f15c8_row22_col6 {\n",
       "  background-color: #a8c9ab;\n",
       "  color: #000000;\n",
       "}\n",
       "#T_f15c8_row14_col6, #T_f15c8_row20_col4, #T_f15c8_row29_col1 {\n",
       "  background-color: #66a26c;\n",
       "  color: #f1f1f1;\n",
       "}\n",
       "#T_f15c8_row14_col7 {\n",
       "  background-color: #db6487;\n",
       "  color: #f1f1f1;\n",
       "}\n",
       "#T_f15c8_row14_col8 {\n",
       "  background-color: #efdce1;\n",
       "  color: #000000;\n",
       "}\n",
       "#T_f15c8_row15_col2 {\n",
       "  background-color: #73a978;\n",
       "  color: #f1f1f1;\n",
       "}\n",
       "#T_f15c8_row15_col3, #T_f15c8_row17_col6, #T_f15c8_row25_col5 {\n",
       "  background-color: #7eb083;\n",
       "  color: #f1f1f1;\n",
       "}\n",
       "#T_f15c8_row15_col5 {\n",
       "  background-color: #82b387;\n",
       "  color: #f1f1f1;\n",
       "}\n",
       "#T_f15c8_row15_col6 {\n",
       "  background-color: #9ec3a1;\n",
       "  color: #000000;\n",
       "}\n",
       "#T_f15c8_row15_col7 {\n",
       "  background-color: #acccaf;\n",
       "  color: #000000;\n",
       "}\n",
       "#T_f15c8_row15_col8, #T_f15c8_row28_col5, #T_f15c8_row30_col3 {\n",
       "  background-color: #c8ddca;\n",
       "  color: #000000;\n",
       "}\n",
       "#T_f15c8_row15_col9, #T_f15c8_row32_col0, #T_f15c8_row33_col4 {\n",
       "  background-color: #4f9456;\n",
       "  color: #f1f1f1;\n",
       "}\n",
       "#T_f15c8_row16_col2, #T_f15c8_row25_col6 {\n",
       "  background-color: #f1eaec;\n",
       "  color: #000000;\n",
       "}\n",
       "#T_f15c8_row16_col4 {\n",
       "  background-color: #e6a9bb;\n",
       "  color: #000000;\n",
       "}\n",
       "#T_f15c8_row16_col5 {\n",
       "  background-color: #cfe1d1;\n",
       "  color: #000000;\n",
       "}\n",
       "#T_f15c8_row16_col6, #T_f15c8_row28_col6 {\n",
       "  background-color: #cbdecd;\n",
       "  color: #000000;\n",
       "}\n",
       "#T_f15c8_row16_col7 {\n",
       "  background-color: #df7e9a;\n",
       "  color: #f1f1f1;\n",
       "}\n",
       "#T_f15c8_row16_col8 {\n",
       "  background-color: #d74872;\n",
       "  color: #f1f1f1;\n",
       "}\n",
       "#T_f15c8_row17_col0 {\n",
       "  background-color: #d53f6c;\n",
       "  color: #f1f1f1;\n",
       "}\n",
       "#T_f15c8_row17_col1, #T_f15c8_row26_col1, #T_f15c8_row32_col5 {\n",
       "  background-color: #63a069;\n",
       "  color: #f1f1f1;\n",
       "}\n",
       "#T_f15c8_row17_col2, #T_f15c8_row24_col1 {\n",
       "  background-color: #56985d;\n",
       "  color: #f1f1f1;\n",
       "}\n",
       "#T_f15c8_row17_col3, #T_f15c8_row23_col3, #T_f15c8_row24_col4 {\n",
       "  background-color: #6ea774;\n",
       "  color: #f1f1f1;\n",
       "}\n",
       "#T_f15c8_row17_col4, #T_f15c8_row20_col7 {\n",
       "  background-color: #d74c75;\n",
       "  color: #f1f1f1;\n",
       "}\n",
       "#T_f15c8_row17_col5, #T_f15c8_row19_col5, #T_f15c8_row31_col6 {\n",
       "  background-color: #9bc29f;\n",
       "  color: #000000;\n",
       "}\n",
       "#T_f15c8_row17_col7, #T_f15c8_row19_col6 {\n",
       "  background-color: #e18aa4;\n",
       "  color: #f1f1f1;\n",
       "}\n",
       "#T_f15c8_row17_col8 {\n",
       "  background-color: #edd0d8;\n",
       "  color: #000000;\n",
       "}\n",
       "#T_f15c8_row17_col9 {\n",
       "  background-color: #4c9254;\n",
       "  color: #f1f1f1;\n",
       "}\n",
       "#T_f15c8_row18_col3, #T_f15c8_row31_col9, #T_f15c8_row33_col0 {\n",
       "  background-color: #88b68c;\n",
       "  color: #f1f1f1;\n",
       "}\n",
       "#T_f15c8_row18_col4 {\n",
       "  background-color: #77ac7c;\n",
       "  color: #f1f1f1;\n",
       "}\n",
       "#T_f15c8_row18_col5 {\n",
       "  background-color: #e4eee5;\n",
       "  color: #000000;\n",
       "}\n",
       "#T_f15c8_row18_col6 {\n",
       "  background-color: #e188a2;\n",
       "  color: #f1f1f1;\n",
       "}\n",
       "#T_f15c8_row18_col8, #T_f15c8_row31_col3, #T_f15c8_row33_col9 {\n",
       "  background-color: #81b286;\n",
       "  color: #f1f1f1;\n",
       "}\n",
       "#T_f15c8_row19_col0, #T_f15c8_row21_col4 {\n",
       "  background-color: #dce9dd;\n",
       "  color: #000000;\n",
       "}\n",
       "#T_f15c8_row19_col1, #T_f15c8_row30_col1, #T_f15c8_row32_col6 {\n",
       "  background-color: #55975c;\n",
       "  color: #f1f1f1;\n",
       "}\n",
       "#T_f15c8_row19_col2, #T_f15c8_row25_col2 {\n",
       "  background-color: #4b9252;\n",
       "  color: #f1f1f1;\n",
       "}\n",
       "#T_f15c8_row19_col3, #T_f15c8_row21_col8, #T_f15c8_row23_col0 {\n",
       "  background-color: #d5e4d6;\n",
       "  color: #000000;\n",
       "}\n",
       "#T_f15c8_row19_col4, #T_f15c8_row32_col3 {\n",
       "  background-color: #6da673;\n",
       "  color: #f1f1f1;\n",
       "}\n",
       "#T_f15c8_row19_col7 {\n",
       "  background-color: #dc6789;\n",
       "  color: #f1f1f1;\n",
       "}\n",
       "#T_f15c8_row19_col8 {\n",
       "  background-color: #d9e7da;\n",
       "  color: #000000;\n",
       "}\n",
       "#T_f15c8_row20_col0 {\n",
       "  background-color: #c9decb;\n",
       "  color: #000000;\n",
       "}\n",
       "#T_f15c8_row20_col1, #T_f15c8_row28_col3 {\n",
       "  background-color: #8db992;\n",
       "  color: #000000;\n",
       "}\n",
       "#T_f15c8_row20_col2, #T_f15c8_row30_col2 {\n",
       "  background-color: #5d9d64;\n",
       "  color: #f1f1f1;\n",
       "}\n",
       "#T_f15c8_row20_col3, #T_f15c8_row24_col7 {\n",
       "  background-color: #c4dac6;\n",
       "  color: #000000;\n",
       "}\n",
       "#T_f15c8_row20_col5, #T_f15c8_row24_col8 {\n",
       "  background-color: #7fb184;\n",
       "  color: #f1f1f1;\n",
       "}\n",
       "#T_f15c8_row20_col6, #T_f15c8_row31_col5 {\n",
       "  background-color: #74aa7a;\n",
       "  color: #f1f1f1;\n",
       "}\n",
       "#T_f15c8_row20_col8 {\n",
       "  background-color: #eccbd4;\n",
       "  color: #000000;\n",
       "}\n",
       "#T_f15c8_row21_col2 {\n",
       "  background-color: #69a36f;\n",
       "  color: #f1f1f1;\n",
       "}\n",
       "#T_f15c8_row21_col3 {\n",
       "  background-color: #7caf82;\n",
       "  color: #f1f1f1;\n",
       "}\n",
       "#T_f15c8_row21_col5 {\n",
       "  background-color: #98c09c;\n",
       "  color: #000000;\n",
       "}\n",
       "#T_f15c8_row21_col6, #T_f15c8_row27_col7, #T_f15c8_row33_col7 {\n",
       "  background-color: #b3d0b6;\n",
       "  color: #000000;\n",
       "}\n",
       "#T_f15c8_row21_col7, #T_f15c8_row27_col6 {\n",
       "  background-color: #b8d3bb;\n",
       "  color: #000000;\n",
       "}\n",
       "#T_f15c8_row22_col2 {\n",
       "  background-color: #ebc4cf;\n",
       "  color: #000000;\n",
       "}\n",
       "#T_f15c8_row22_col3, #T_f15c8_row27_col5 {\n",
       "  background-color: #bed7c0;\n",
       "  color: #000000;\n",
       "}\n",
       "#T_f15c8_row22_col5 {\n",
       "  background-color: #f0e0e4;\n",
       "  color: #000000;\n",
       "}\n",
       "#T_f15c8_row22_col7 {\n",
       "  background-color: #dc6b8c;\n",
       "  color: #f1f1f1;\n",
       "}\n",
       "#T_f15c8_row22_col8, #T_f15c8_row34_col8 {\n",
       "  background-color: #d6446f;\n",
       "  color: #f1f1f1;\n",
       "}\n",
       "#T_f15c8_row23_col2 {\n",
       "  background-color: #efdee3;\n",
       "  color: #000000;\n",
       "}\n",
       "#T_f15c8_row23_col6 {\n",
       "  background-color: #90bb95;\n",
       "  color: #000000;\n",
       "}\n",
       "#T_f15c8_row24_col0, #T_f15c8_row29_col6 {\n",
       "  background-color: #f0e3e6;\n",
       "  color: #000000;\n",
       "}\n",
       "#T_f15c8_row24_col2, #T_f15c8_row28_col9, #T_f15c8_row29_col9 {\n",
       "  background-color: #58995f;\n",
       "  color: #f1f1f1;\n",
       "}\n",
       "#T_f15c8_row24_col3, #T_f15c8_row24_col5, #T_f15c8_row25_col3 {\n",
       "  background-color: #a5c7a8;\n",
       "  color: #000000;\n",
       "}\n",
       "#T_f15c8_row24_col6 {\n",
       "  background-color: #e8b4c3;\n",
       "  color: #000000;\n",
       "}\n",
       "#T_f15c8_row25_col1, #T_f15c8_row25_col9, #T_f15c8_row26_col9 {\n",
       "  background-color: #5b9b61;\n",
       "  color: #f1f1f1;\n",
       "}\n",
       "#T_f15c8_row25_col4 {\n",
       "  background-color: #9cc2a0;\n",
       "  color: #000000;\n",
       "}\n",
       "#T_f15c8_row25_col7 {\n",
       "  background-color: #e185a0;\n",
       "  color: #f1f1f1;\n",
       "}\n",
       "#T_f15c8_row25_col8 {\n",
       "  background-color: #cee0cf;\n",
       "  color: #000000;\n",
       "}\n",
       "#T_f15c8_row26_col2, #T_f15c8_row30_col9, #T_f15c8_row34_col6 {\n",
       "  background-color: #489050;\n",
       "  color: #f1f1f1;\n",
       "}\n",
       "#T_f15c8_row26_col3 {\n",
       "  background-color: #8bb88f;\n",
       "  color: #000000;\n",
       "}\n",
       "#T_f15c8_row26_col4, #T_f15c8_row33_col5 {\n",
       "  background-color: #5f9d65;\n",
       "  color: #f1f1f1;\n",
       "}\n",
       "#T_f15c8_row27_col1 {\n",
       "  background-color: #e59fb3;\n",
       "  color: #000000;\n",
       "}\n",
       "#T_f15c8_row27_col3 {\n",
       "  background-color: #95be99;\n",
       "  color: #000000;\n",
       "}\n",
       "#T_f15c8_row27_col4 {\n",
       "  background-color: #e28fa7;\n",
       "  color: #f1f1f1;\n",
       "}\n",
       "#T_f15c8_row28_col0 {\n",
       "  background-color: #d53e6a;\n",
       "  color: #f1f1f1;\n",
       "}\n",
       "#T_f15c8_row28_col2 {\n",
       "  background-color: #f1e8eb;\n",
       "  color: #000000;\n",
       "}\n",
       "#T_f15c8_row28_col7 {\n",
       "  background-color: #e28ca5;\n",
       "  color: #f1f1f1;\n",
       "}\n",
       "#T_f15c8_row28_col8 {\n",
       "  background-color: #da5c81;\n",
       "  color: #f1f1f1;\n",
       "}\n",
       "#T_f15c8_row29_col0, #T_f15c8_row35_col7 {\n",
       "  background-color: #de7795;\n",
       "  color: #f1f1f1;\n",
       "}\n",
       "#T_f15c8_row29_col3 {\n",
       "  background-color: #84b388;\n",
       "  color: #f1f1f1;\n",
       "}\n",
       "#T_f15c8_row29_col4 {\n",
       "  background-color: #d74b74;\n",
       "  color: #f1f1f1;\n",
       "}\n",
       "#T_f15c8_row29_col7 {\n",
       "  background-color: #e394ab;\n",
       "  color: #f1f1f1;\n",
       "}\n",
       "#T_f15c8_row29_col8 {\n",
       "  background-color: #eed9df;\n",
       "  color: #000000;\n",
       "}\n",
       "#T_f15c8_row30_col0 {\n",
       "  background-color: #a3c7a7;\n",
       "  color: #000000;\n",
       "}\n",
       "#T_f15c8_row30_col6 {\n",
       "  background-color: #dc688a;\n",
       "  color: #f1f1f1;\n",
       "}\n",
       "#T_f15c8_row30_col7 {\n",
       "  background-color: #bad4bc;\n",
       "  color: #000000;\n",
       "}\n",
       "#T_f15c8_row31_col0 {\n",
       "  background-color: #8fba93;\n",
       "  color: #000000;\n",
       "}\n",
       "#T_f15c8_row31_col2 {\n",
       "  background-color: #3a8742;\n",
       "  color: #f1f1f1;\n",
       "}\n",
       "#T_f15c8_row31_col4, #T_f15c8_row32_col1, #T_f15c8_row33_col3, #T_f15c8_row34_col4 {\n",
       "  background-color: #609e67;\n",
       "  color: #f1f1f1;\n",
       "}\n",
       "#T_f15c8_row31_col7 {\n",
       "  background-color: #db6386;\n",
       "  color: #f1f1f1;\n",
       "}\n",
       "#T_f15c8_row31_col8, #T_f15c8_row32_col9 {\n",
       "  background-color: #dde9de;\n",
       "  color: #000000;\n",
       "}\n",
       "#T_f15c8_row32_col2, #T_f15c8_row33_col2, #T_f15c8_row35_col2 {\n",
       "  background-color: #3c8844;\n",
       "  color: #f1f1f1;\n",
       "}\n",
       "#T_f15c8_row32_col4 {\n",
       "  background-color: #478f4e;\n",
       "  color: #f1f1f1;\n",
       "}\n",
       "#T_f15c8_row32_col7 {\n",
       "  background-color: #d8537a;\n",
       "  color: #f1f1f1;\n",
       "}\n",
       "#T_f15c8_row34_col0 {\n",
       "  background-color: #e0ebe1;\n",
       "  color: #000000;\n",
       "}\n",
       "#T_f15c8_row34_col7 {\n",
       "  background-color: #de7292;\n",
       "  color: #f1f1f1;\n",
       "}\n",
       "#T_f15c8_row35_col8 {\n",
       "  background-color: #ebc6d1;\n",
       "  color: #000000;\n",
       "}\n",
       "</style>\n",
       "<table id=\"T_f15c8_\">\n",
       "  <thead>\n",
       "    <tr>\n",
       "      <th class=\"blank\" >&nbsp;</th>\n",
       "      <th class=\"blank level0\" >&nbsp;</th>\n",
       "      <th class=\"col_heading level0 col0\" >DS</th>\n",
       "      <th class=\"col_heading level0 col1\" >PS</th>\n",
       "      <th class=\"col_heading level0 col2\" >C-FID</th>\n",
       "      <th class=\"col_heading level0 col3\" >MDD</th>\n",
       "      <th class=\"col_heading level0 col4\" >ACD</th>\n",
       "      <th class=\"col_heading level0 col5\" >SD</th>\n",
       "      <th class=\"col_heading level0 col6\" >KD</th>\n",
       "      <th class=\"col_heading level0 col7\" >ED</th>\n",
       "      <th class=\"col_heading level0 col8\" >DTW</th>\n",
       "      <th class=\"col_heading level0 col9\" >Time</th>\n",
       "    </tr>\n",
       "    <tr>\n",
       "      <th class=\"index_name level0\" >Method</th>\n",
       "      <th class=\"index_name level1\" >Dataset</th>\n",
       "      <th class=\"blank col0\" >&nbsp;</th>\n",
       "      <th class=\"blank col1\" >&nbsp;</th>\n",
       "      <th class=\"blank col2\" >&nbsp;</th>\n",
       "      <th class=\"blank col3\" >&nbsp;</th>\n",
       "      <th class=\"blank col4\" >&nbsp;</th>\n",
       "      <th class=\"blank col5\" >&nbsp;</th>\n",
       "      <th class=\"blank col6\" >&nbsp;</th>\n",
       "      <th class=\"blank col7\" >&nbsp;</th>\n",
       "      <th class=\"blank col8\" >&nbsp;</th>\n",
       "      <th class=\"blank col9\" >&nbsp;</th>\n",
       "    </tr>\n",
       "  </thead>\n",
       "  <tbody>\n",
       "    <tr>\n",
       "      <th id=\"T_f15c8_level0_row0\" class=\"row_heading level0 row0\" rowspan=\"6\">JustCopy</th>\n",
       "      <th id=\"T_f15c8_level1_row0\" class=\"row_heading level1 row0\" >D2</th>\n",
       "      <td id=\"T_f15c8_row0_col0\" class=\"data row0 col0\" >0.010101</td>\n",
       "      <td id=\"T_f15c8_row0_col1\" class=\"data row0 col1\" >0.037720</td>\n",
       "      <td id=\"T_f15c8_row0_col2\" class=\"data row0 col2\" >-1.67e-12</td>\n",
       "      <td id=\"T_f15c8_row0_col3\" class=\"data row0 col3\" >0.000317</td>\n",
       "      <td id=\"T_f15c8_row0_col4\" class=\"data row0 col4\" >0.000000</td>\n",
       "      <td id=\"T_f15c8_row0_col5\" class=\"data row0 col5\" >0.000000</td>\n",
       "      <td id=\"T_f15c8_row0_col6\" class=\"data row0 col6\" >0.000000</td>\n",
       "      <td id=\"T_f15c8_row0_col7\" class=\"data row0 col7\" >0.00e+00</td>\n",
       "      <td id=\"T_f15c8_row0_col8\" class=\"data row0 col8\" >0.00e+00</td>\n",
       "      <td id=\"T_f15c8_row0_col9\" class=\"data row0 col9\" >0</td>\n",
       "    </tr>\n",
       "    <tr>\n",
       "      <th id=\"T_f15c8_level1_row1\" class=\"row_heading level1 row1\" >D3</th>\n",
       "      <td id=\"T_f15c8_row1_col0\" class=\"data row1 col0\" >0.010140</td>\n",
       "      <td id=\"T_f15c8_row1_col1\" class=\"data row1 col1\" >0.036687</td>\n",
       "      <td id=\"T_f15c8_row1_col2\" class=\"data row1 col2\" >-2.12e-12</td>\n",
       "      <td id=\"T_f15c8_row1_col3\" class=\"data row1 col3\" >0.000282</td>\n",
       "      <td id=\"T_f15c8_row1_col4\" class=\"data row1 col4\" >0.000000</td>\n",
       "      <td id=\"T_f15c8_row1_col5\" class=\"data row1 col5\" >0.000000</td>\n",
       "      <td id=\"T_f15c8_row1_col6\" class=\"data row1 col6\" >0.000000</td>\n",
       "      <td id=\"T_f15c8_row1_col7\" class=\"data row1 col7\" >0.00e+00</td>\n",
       "      <td id=\"T_f15c8_row1_col8\" class=\"data row1 col8\" >0.00e+00</td>\n",
       "      <td id=\"T_f15c8_row1_col9\" class=\"data row1 col9\" >0</td>\n",
       "    </tr>\n",
       "    <tr>\n",
       "      <th id=\"T_f15c8_level1_row2\" class=\"row_heading level1 row2\" >D4</th>\n",
       "      <td id=\"T_f15c8_row2_col0\" class=\"data row2 col0\" >0.013775</td>\n",
       "      <td id=\"T_f15c8_row2_col1\" class=\"data row2 col1\" >0.057060</td>\n",
       "      <td id=\"T_f15c8_row2_col2\" class=\"data row2 col2\" >-2.43e-13</td>\n",
       "      <td id=\"T_f15c8_row2_col3\" class=\"data row2 col3\" >0.000264</td>\n",
       "      <td id=\"T_f15c8_row2_col4\" class=\"data row2 col4\" >0.000000</td>\n",
       "      <td id=\"T_f15c8_row2_col5\" class=\"data row2 col5\" >0.000000</td>\n",
       "      <td id=\"T_f15c8_row2_col6\" class=\"data row2 col6\" >0.000000</td>\n",
       "      <td id=\"T_f15c8_row2_col7\" class=\"data row2 col7\" >0.00e+00</td>\n",
       "      <td id=\"T_f15c8_row2_col8\" class=\"data row2 col8\" >0.00e+00</td>\n",
       "      <td id=\"T_f15c8_row2_col9\" class=\"data row2 col9\" >0</td>\n",
       "    </tr>\n",
       "    <tr>\n",
       "      <th id=\"T_f15c8_level1_row3\" class=\"row_heading level1 row3\" >D5</th>\n",
       "      <td id=\"T_f15c8_row3_col0\" class=\"data row3 col0\" >0.016671</td>\n",
       "      <td id=\"T_f15c8_row3_col1\" class=\"data row3 col1\" >0.250396</td>\n",
       "      <td id=\"T_f15c8_row3_col2\" class=\"data row3 col2\" >-2.42e-15</td>\n",
       "      <td id=\"T_f15c8_row3_col3\" class=\"data row3 col3\" >0.060657</td>\n",
       "      <td id=\"T_f15c8_row3_col4\" class=\"data row3 col4\" >0.000000</td>\n",
       "      <td id=\"T_f15c8_row3_col5\" class=\"data row3 col5\" >0.000000</td>\n",
       "      <td id=\"T_f15c8_row3_col6\" class=\"data row3 col6\" >0.000000</td>\n",
       "      <td id=\"T_f15c8_row3_col7\" class=\"data row3 col7\" >0.00e+00</td>\n",
       "      <td id=\"T_f15c8_row3_col8\" class=\"data row3 col8\" >0.00e+00</td>\n",
       "      <td id=\"T_f15c8_row3_col9\" class=\"data row3 col9\" >0</td>\n",
       "    </tr>\n",
       "    <tr>\n",
       "      <th id=\"T_f15c8_level1_row4\" class=\"row_heading level1 row4\" >D6</th>\n",
       "      <td id=\"T_f15c8_row4_col0\" class=\"data row4 col0\" >0.009915</td>\n",
       "      <td id=\"T_f15c8_row4_col1\" class=\"data row4 col1\" >0.247743</td>\n",
       "      <td id=\"T_f15c8_row4_col2\" class=\"data row4 col2\" >-3.29e-15</td>\n",
       "      <td id=\"T_f15c8_row4_col3\" class=\"data row4 col3\" >0.071081</td>\n",
       "      <td id=\"T_f15c8_row4_col4\" class=\"data row4 col4\" >0.000000</td>\n",
       "      <td id=\"T_f15c8_row4_col5\" class=\"data row4 col5\" >0.000000</td>\n",
       "      <td id=\"T_f15c8_row4_col6\" class=\"data row4 col6\" >0.000000</td>\n",
       "      <td id=\"T_f15c8_row4_col7\" class=\"data row4 col7\" >0.00e+00</td>\n",
       "      <td id=\"T_f15c8_row4_col8\" class=\"data row4 col8\" >0.00e+00</td>\n",
       "      <td id=\"T_f15c8_row4_col9\" class=\"data row4 col9\" >0</td>\n",
       "    </tr>\n",
       "    <tr>\n",
       "      <th id=\"T_f15c8_level1_row5\" class=\"row_heading level1 row5\" >D7</th>\n",
       "      <td id=\"T_f15c8_row5_col0\" class=\"data row5 col0\" >0.011593</td>\n",
       "      <td id=\"T_f15c8_row5_col1\" class=\"data row5 col1\" >0.049266</td>\n",
       "      <td id=\"T_f15c8_row5_col2\" class=\"data row5 col2\" >4.34e-15</td>\n",
       "      <td id=\"T_f15c8_row5_col3\" class=\"data row5 col3\" >0.005795</td>\n",
       "      <td id=\"T_f15c8_row5_col4\" class=\"data row5 col4\" >0.000000</td>\n",
       "      <td id=\"T_f15c8_row5_col5\" class=\"data row5 col5\" >0.000000</td>\n",
       "      <td id=\"T_f15c8_row5_col6\" class=\"data row5 col6\" >0.000000</td>\n",
       "      <td id=\"T_f15c8_row5_col7\" class=\"data row5 col7\" >0.00e+00</td>\n",
       "      <td id=\"T_f15c8_row5_col8\" class=\"data row5 col8\" >0.00e+00</td>\n",
       "      <td id=\"T_f15c8_row5_col9\" class=\"data row5 col9\" >0</td>\n",
       "    </tr>\n",
       "    <tr>\n",
       "      <th id=\"T_f15c8_level0_row6\" class=\"row_heading level0 row6\" rowspan=\"6\">TTS-GAN</th>\n",
       "      <th id=\"T_f15c8_level1_row6\" class=\"row_heading level1 row6\" >D2</th>\n",
       "      <td id=\"T_f15c8_row6_col0\" class=\"data row6 col0\" >0.353788</td>\n",
       "      <td id=\"T_f15c8_row6_col1\" class=\"data row6 col1\" >0.543119</td>\n",
       "      <td id=\"T_f15c8_row6_col2\" class=\"data row6 col2\" >3.14e+17</td>\n",
       "      <td id=\"T_f15c8_row6_col3\" class=\"data row6 col3\" >1.003093</td>\n",
       "      <td id=\"T_f15c8_row6_col4\" class=\"data row6 col4\" >2.908140</td>\n",
       "      <td id=\"T_f15c8_row6_col5\" class=\"data row6 col5\" >1.346879</td>\n",
       "      <td id=\"T_f15c8_row6_col6\" class=\"data row6 col6\" >4.078087</td>\n",
       "      <td id=\"T_f15c8_row6_col7\" class=\"data row6 col7\" >2.06e+08</td>\n",
       "      <td id=\"T_f15c8_row6_col8\" class=\"data row6 col8\" >6.36e+08</td>\n",
       "      <td id=\"T_f15c8_row6_col9\" class=\"data row6 col9\" >646</td>\n",
       "    </tr>\n",
       "    <tr>\n",
       "      <th id=\"T_f15c8_level1_row7\" class=\"row_heading level1 row7\" >D3</th>\n",
       "      <td id=\"T_f15c8_row7_col0\" class=\"data row7 col0\" >0.500000</td>\n",
       "      <td id=\"T_f15c8_row7_col1\" class=\"data row7 col1\" >0.070101</td>\n",
       "      <td id=\"T_f15c8_row7_col2\" class=\"data row7 col2\" >6.62e+00</td>\n",
       "      <td id=\"T_f15c8_row7_col3\" class=\"data row7 col3\" >1.249867</td>\n",
       "      <td id=\"T_f15c8_row7_col4\" class=\"data row7 col4\" >7.399600</td>\n",
       "      <td id=\"T_f15c8_row7_col5\" class=\"data row7 col5\" >1.411439</td>\n",
       "      <td id=\"T_f15c8_row7_col6\" class=\"data row7 col6\" >2.743262</td>\n",
       "      <td id=\"T_f15c8_row7_col7\" class=\"data row7 col7\" >7.81e+00</td>\n",
       "      <td id=\"T_f15c8_row7_col8\" class=\"data row7 col8\" >1.96e+01</td>\n",
       "      <td id=\"T_f15c8_row7_col9\" class=\"data row7 col9\" >660</td>\n",
       "    </tr>\n",
       "    <tr>\n",
       "      <th id=\"T_f15c8_level1_row8\" class=\"row_heading level1 row8\" >D4</th>\n",
       "      <td id=\"T_f15c8_row8_col0\" class=\"data row8 col0\" >0.499752</td>\n",
       "      <td id=\"T_f15c8_row8_col1\" class=\"data row8 col1\" >0.287067</td>\n",
       "      <td id=\"T_f15c8_row8_col2\" class=\"data row8 col2\" >7.58e+14</td>\n",
       "      <td id=\"T_f15c8_row8_col3\" class=\"data row8 col3\" >1.012819</td>\n",
       "      <td id=\"T_f15c8_row8_col4\" class=\"data row8 col4\" >9.318710</td>\n",
       "      <td id=\"T_f15c8_row8_col5\" class=\"data row8 col5\" >0.815356</td>\n",
       "      <td id=\"T_f15c8_row8_col6\" class=\"data row8 col6\" >0.909358</td>\n",
       "      <td id=\"T_f15c8_row8_col7\" class=\"data row8 col7\" >4.34e+07</td>\n",
       "      <td id=\"T_f15c8_row8_col8\" class=\"data row8 col8\" >1.32e+08</td>\n",
       "      <td id=\"T_f15c8_row8_col9\" class=\"data row8 col9\" >649</td>\n",
       "    </tr>\n",
       "    <tr>\n",
       "      <th id=\"T_f15c8_level1_row9\" class=\"row_heading level1 row9\" >D5</th>\n",
       "      <td id=\"T_f15c8_row9_col0\" class=\"data row9 col0\" >0.500000</td>\n",
       "      <td id=\"T_f15c8_row9_col1\" class=\"data row9 col1\" >0.298715</td>\n",
       "      <td id=\"T_f15c8_row9_col2\" class=\"data row9 col2\" >4.80e+09</td>\n",
       "      <td id=\"T_f15c8_row9_col3\" class=\"data row9 col3\" >1.010239</td>\n",
       "      <td id=\"T_f15c8_row9_col4\" class=\"data row9 col4\" >5.069930</td>\n",
       "      <td id=\"T_f15c8_row9_col5\" class=\"data row9 col5\" >0.982785</td>\n",
       "      <td id=\"T_f15c8_row9_col6\" class=\"data row9 col6\" >1.486653</td>\n",
       "      <td id=\"T_f15c8_row9_col7\" class=\"data row9 col7\" >2.58e+04</td>\n",
       "      <td id=\"T_f15c8_row9_col8\" class=\"data row9 col8\" >1.53e+05</td>\n",
       "      <td id=\"T_f15c8_row9_col9\" class=\"data row9 col9\" >649</td>\n",
       "    </tr>\n",
       "    <tr>\n",
       "      <th id=\"T_f15c8_level1_row10\" class=\"row_heading level1 row10\" >D6</th>\n",
       "      <td id=\"T_f15c8_row10_col0\" class=\"data row10 col0\" >0.500000</td>\n",
       "      <td id=\"T_f15c8_row10_col1\" class=\"data row10 col1\" >0.277391</td>\n",
       "      <td id=\"T_f15c8_row10_col2\" class=\"data row10 col2\" >7.64e+13</td>\n",
       "      <td id=\"T_f15c8_row10_col3\" class=\"data row10 col3\" >1.014439</td>\n",
       "      <td id=\"T_f15c8_row10_col4\" class=\"data row10 col4\" >7.956827</td>\n",
       "      <td id=\"T_f15c8_row10_col5\" class=\"data row10 col5\" >0.808035</td>\n",
       "      <td id=\"T_f15c8_row10_col6\" class=\"data row10 col6\" >1.802976</td>\n",
       "      <td id=\"T_f15c8_row10_col7\" class=\"data row10 col7\" >8.30e+06</td>\n",
       "      <td id=\"T_f15c8_row10_col8\" class=\"data row10 col8\" >5.10e+07</td>\n",
       "      <td id=\"T_f15c8_row10_col9\" class=\"data row10 col9\" >660</td>\n",
       "    </tr>\n",
       "    <tr>\n",
       "      <th id=\"T_f15c8_level1_row11\" class=\"row_heading level1 row11\" >D7</th>\n",
       "      <td id=\"T_f15c8_row11_col0\" class=\"data row11 col0\" >0.500000</td>\n",
       "      <td id=\"T_f15c8_row11_col1\" class=\"data row11 col1\" >0.196071</td>\n",
       "      <td id=\"T_f15c8_row11_col2\" class=\"data row11 col2\" >2.70e+14</td>\n",
       "      <td id=\"T_f15c8_row11_col3\" class=\"data row11 col3\" >1.000484</td>\n",
       "      <td id=\"T_f15c8_row11_col4\" class=\"data row11 col4\" >7.618056</td>\n",
       "      <td id=\"T_f15c8_row11_col5\" class=\"data row11 col5\" >0.640393</td>\n",
       "      <td id=\"T_f15c8_row11_col6\" class=\"data row11 col6\" >1.962276</td>\n",
       "      <td id=\"T_f15c8_row11_col7\" class=\"data row11 col7\" >2.29e+07</td>\n",
       "      <td id=\"T_f15c8_row11_col8\" class=\"data row11 col8\" >9.39e+07</td>\n",
       "      <td id=\"T_f15c8_row11_col9\" class=\"data row11 col9\" >645</td>\n",
       "    </tr>\n",
       "    <tr>\n",
       "      <th id=\"T_f15c8_level0_row12\" class=\"row_heading level0 row12\" rowspan=\"6\">Time-Transformer</th>\n",
       "      <th id=\"T_f15c8_level1_row12\" class=\"row_heading level1 row12\" >D2</th>\n",
       "      <td id=\"T_f15c8_row12_col0\" class=\"data row12 col0\" >0.324495</td>\n",
       "      <td id=\"T_f15c8_row12_col1\" class=\"data row12 col1\" >0.085745</td>\n",
       "      <td id=\"T_f15c8_row12_col2\" class=\"data row12 col2\" >2.66e-01</td>\n",
       "      <td id=\"T_f15c8_row12_col3\" class=\"data row12 col3\" >0.629389</td>\n",
       "      <td id=\"T_f15c8_row12_col4\" class=\"data row12 col4\" >0.246590</td>\n",
       "      <td id=\"T_f15c8_row12_col5\" class=\"data row12 col5\" >0.582419</td>\n",
       "      <td id=\"T_f15c8_row12_col6\" class=\"data row12 col6\" >2.577668</td>\n",
       "      <td id=\"T_f15c8_row12_col7\" class=\"data row12 col7\" >1.31e+00</td>\n",
       "      <td id=\"T_f15c8_row12_col8\" class=\"data row12 col8\" >3.38e+00</td>\n",
       "      <td id=\"T_f15c8_row12_col9\" class=\"data row12 col9\" >13</td>\n",
       "    </tr>\n",
       "    <tr>\n",
       "      <th id=\"T_f15c8_level1_row13\" class=\"row_heading level1 row13\" >D3</th>\n",
       "      <td id=\"T_f15c8_row13_col0\" class=\"data row13 col0\" >0.297712</td>\n",
       "      <td id=\"T_f15c8_row13_col1\" class=\"data row13 col1\" >0.071347</td>\n",
       "      <td id=\"T_f15c8_row13_col2\" class=\"data row13 col2\" >1.85e-01</td>\n",
       "      <td id=\"T_f15c8_row13_col3\" class=\"data row13 col3\" >0.747137</td>\n",
       "      <td id=\"T_f15c8_row13_col4\" class=\"data row13 col4\" >0.489822</td>\n",
       "      <td id=\"T_f15c8_row13_col5\" class=\"data row13 col5\" >0.532613</td>\n",
       "      <td id=\"T_f15c8_row13_col6\" class=\"data row13 col6\" >2.882850</td>\n",
       "      <td id=\"T_f15c8_row13_col7\" class=\"data row13 col7\" >2.48e+00</td>\n",
       "      <td id=\"T_f15c8_row13_col8\" class=\"data row13 col8\" >6.30e+00</td>\n",
       "      <td id=\"T_f15c8_row13_col9\" class=\"data row13 col9\" >16</td>\n",
       "    </tr>\n",
       "    <tr>\n",
       "      <th id=\"T_f15c8_level1_row14\" class=\"row_heading level1 row14\" >D4</th>\n",
       "      <td id=\"T_f15c8_row14_col0\" class=\"data row14 col0\" >0.259494</td>\n",
       "      <td id=\"T_f15c8_row14_col1\" class=\"data row14 col1\" >0.065874</td>\n",
       "      <td id=\"T_f15c8_row14_col2\" class=\"data row14 col2\" >5.00e-02</td>\n",
       "      <td id=\"T_f15c8_row14_col3\" class=\"data row14 col3\" >0.520660</td>\n",
       "      <td id=\"T_f15c8_row14_col4\" class=\"data row14 col4\" >0.306909</td>\n",
       "      <td id=\"T_f15c8_row14_col5\" class=\"data row14 col5\" >0.260529</td>\n",
       "      <td id=\"T_f15c8_row14_col6\" class=\"data row14 col6\" >0.377320</td>\n",
       "      <td id=\"T_f15c8_row14_col7\" class=\"data row14 col7\" >2.67e+00</td>\n",
       "      <td id=\"T_f15c8_row14_col8\" class=\"data row14 col8\" >8.42e+00</td>\n",
       "      <td id=\"T_f15c8_row14_col9\" class=\"data row14 col9\" >28</td>\n",
       "    </tr>\n",
       "    <tr>\n",
       "      <th id=\"T_f15c8_level1_row15\" class=\"row_heading level1 row15\" >D5</th>\n",
       "      <td id=\"T_f15c8_row15_col0\" class=\"data row15 col0\" >0.499765</td>\n",
       "      <td id=\"T_f15c8_row15_col1\" class=\"data row15 col1\" >0.325050</td>\n",
       "      <td id=\"T_f15c8_row15_col2\" class=\"data row15 col2\" >1.62e-01</td>\n",
       "      <td id=\"T_f15c8_row15_col3\" class=\"data row15 col3\" >0.388136</td>\n",
       "      <td id=\"T_f15c8_row15_col4\" class=\"data row15 col4\" >0.266521</td>\n",
       "      <td id=\"T_f15c8_row15_col5\" class=\"data row15 col5\" >0.206538</td>\n",
       "      <td id=\"T_f15c8_row15_col6\" class=\"data row15 col6\" >0.839459</td>\n",
       "      <td id=\"T_f15c8_row15_col7\" class=\"data row15 col7\" >9.50e-01</td>\n",
       "      <td id=\"T_f15c8_row15_col8\" class=\"data row15 col8\" >5.98e+00</td>\n",
       "      <td id=\"T_f15c8_row15_col9\" class=\"data row15 col9\" >66</td>\n",
       "    </tr>\n",
       "    <tr>\n",
       "      <th id=\"T_f15c8_level1_row16\" class=\"row_heading level1 row16\" >D6</th>\n",
       "      <td id=\"T_f15c8_row16_col0\" class=\"data row16 col0\" >0.500000</td>\n",
       "      <td id=\"T_f15c8_row16_col1\" class=\"data row16 col1\" >0.252108</td>\n",
       "      <td id=\"T_f15c8_row16_col2\" class=\"data row16 col2\" >5.23e-01</td>\n",
       "      <td id=\"T_f15c8_row16_col3\" class=\"data row16 col3\" >0.614602</td>\n",
       "      <td id=\"T_f15c8_row16_col4\" class=\"data row16 col4\" >0.701027</td>\n",
       "      <td id=\"T_f15c8_row16_col5\" class=\"data row16 col5\" >0.417911</td>\n",
       "      <td id=\"T_f15c8_row16_col6\" class=\"data row16 col6\" >1.215788</td>\n",
       "      <td id=\"T_f15c8_row16_col7\" class=\"data row16 col7\" >2.45e+00</td>\n",
       "      <td id=\"T_f15c8_row16_col8\" class=\"data row16 col8\" >1.45e+01</td>\n",
       "      <td id=\"T_f15c8_row16_col9\" class=\"data row16 col9\" >77</td>\n",
       "    </tr>\n",
       "    <tr>\n",
       "      <th id=\"T_f15c8_level1_row17\" class=\"row_heading level1 row17\" >D7</th>\n",
       "      <td id=\"T_f15c8_row17_col0\" class=\"data row17 col0\" >0.495699</td>\n",
       "      <td id=\"T_f15c8_row17_col1\" class=\"data row17 col1\" >0.058821</td>\n",
       "      <td id=\"T_f15c8_row17_col2\" class=\"data row17 col2\" >8.24e-02</td>\n",
       "      <td id=\"T_f15c8_row17_col3\" class=\"data row17 col3\" >0.304084</td>\n",
       "      <td id=\"T_f15c8_row17_col4\" class=\"data row17 col4\" >0.956960</td>\n",
       "      <td id=\"T_f15c8_row17_col5\" class=\"data row17 col5\" >0.270877</td>\n",
       "      <td id=\"T_f15c8_row17_col6\" class=\"data row17 col6\" >0.584719</td>\n",
       "      <td id=\"T_f15c8_row17_col7\" class=\"data row17 col7\" >2.34e+00</td>\n",
       "      <td id=\"T_f15c8_row17_col8\" class=\"data row17 col8\" >8.88e+00</td>\n",
       "      <td id=\"T_f15c8_row17_col9\" class=\"data row17 col9\" >55</td>\n",
       "    </tr>\n",
       "    <tr>\n",
       "      <th id=\"T_f15c8_level0_row18\" class=\"row_heading level0 row18\" rowspan=\"6\">TimeGAN</th>\n",
       "      <th id=\"T_f15c8_level1_row18\" class=\"row_heading level1 row18\" >D2</th>\n",
       "      <td id=\"T_f15c8_row18_col0\" class=\"data row18 col0\" >0.093434</td>\n",
       "      <td id=\"T_f15c8_row18_col1\" class=\"data row18 col1\" >0.037907</td>\n",
       "      <td id=\"T_f15c8_row18_col2\" class=\"data row18 col2\" >2.01e-02</td>\n",
       "      <td id=\"T_f15c8_row18_col3\" class=\"data row18 col3\" >0.443126</td>\n",
       "      <td id=\"T_f15c8_row18_col4\" class=\"data row18 col4\" >0.174772</td>\n",
       "      <td id=\"T_f15c8_row18_col5\" class=\"data row18 col5\" >0.472857</td>\n",
       "      <td id=\"T_f15c8_row18_col6\" class=\"data row18 col6\" >2.370855</td>\n",
       "      <td id=\"T_f15c8_row18_col7\" class=\"data row18 col7\" >1.18e+00</td>\n",
       "      <td id=\"T_f15c8_row18_col8\" class=\"data row18 col8\" >3.05e+00</td>\n",
       "      <td id=\"T_f15c8_row18_col9\" class=\"data row18 col9\" >259</td>\n",
       "    </tr>\n",
       "    <tr>\n",
       "      <th id=\"T_f15c8_level1_row19\" class=\"row_heading level1 row19\" >D3</th>\n",
       "      <td id=\"T_f15c8_row19_col0\" class=\"data row19 col0\" >0.224909</td>\n",
       "      <td id=\"T_f15c8_row19_col1\" class=\"data row19 col1\" >0.039703</td>\n",
       "      <td id=\"T_f15c8_row19_col2\" class=\"data row19 col2\" >5.42e-02</td>\n",
       "      <td id=\"T_f15c8_row19_col3\" class=\"data row19 col3\" >0.864601</td>\n",
       "      <td id=\"T_f15c8_row19_col4\" class=\"data row19 col4\" >0.144977</td>\n",
       "      <td id=\"T_f15c8_row19_col5\" class=\"data row19 col5\" >0.272758</td>\n",
       "      <td id=\"T_f15c8_row19_col6\" class=\"data row19 col6\" >2.354675</td>\n",
       "      <td id=\"T_f15c8_row19_col7\" class=\"data row19 col7\" >2.64e+00</td>\n",
       "      <td id=\"T_f15c8_row19_col8\" class=\"data row19 col8\" >6.67e+00</td>\n",
       "      <td id=\"T_f15c8_row19_col9\" class=\"data row19 col9\" >1373</td>\n",
       "    </tr>\n",
       "    <tr>\n",
       "      <th id=\"T_f15c8_level1_row20\" class=\"row_heading level1 row20\" >D4</th>\n",
       "      <td id=\"T_f15c8_row20_col0\" class=\"data row20 col0\" >0.200174</td>\n",
       "      <td id=\"T_f15c8_row20_col1\" class=\"data row20 col1\" >0.118733</td>\n",
       "      <td id=\"T_f15c8_row20_col2\" class=\"data row20 col2\" >1.05e-01</td>\n",
       "      <td id=\"T_f15c8_row20_col3\" class=\"data row20 col3\" >0.769964</td>\n",
       "      <td id=\"T_f15c8_row20_col4\" class=\"data row20 col4\" >0.127946</td>\n",
       "      <td id=\"T_f15c8_row20_col5\" class=\"data row20 col5\" >0.197324</td>\n",
       "      <td id=\"T_f15c8_row20_col6\" class=\"data row20 col6\" >0.497502</td>\n",
       "      <td id=\"T_f15c8_row20_col7\" class=\"data row20 col7\" >2.87e+00</td>\n",
       "      <td id=\"T_f15c8_row20_col8\" class=\"data row20 col8\" >9.10e+00</td>\n",
       "      <td id=\"T_f15c8_row20_col9\" class=\"data row20 col9\" >1195</td>\n",
       "    </tr>\n",
       "    <tr>\n",
       "      <th id=\"T_f15c8_level1_row21\" class=\"row_heading level1 row21\" >D5</th>\n",
       "      <td id=\"T_f15c8_row21_col0\" class=\"data row21 col0\" >0.482014</td>\n",
       "      <td id=\"T_f15c8_row21_col1\" class=\"data row21 col1\" >0.287032</td>\n",
       "      <td id=\"T_f15c8_row21_col2\" class=\"data row21 col2\" >1.35e-01</td>\n",
       "      <td id=\"T_f15c8_row21_col3\" class=\"data row21 col3\" >0.381832</td>\n",
       "      <td id=\"T_f15c8_row21_col4\" class=\"data row21 col4\" >0.452620</td>\n",
       "      <td id=\"T_f15c8_row21_col5\" class=\"data row21 col5\" >0.265038</td>\n",
       "      <td id=\"T_f15c8_row21_col6\" class=\"data row21 col6\" >1.012876</td>\n",
       "      <td id=\"T_f15c8_row21_col7\" class=\"data row21 col7\" >1.06e+00</td>\n",
       "      <td id=\"T_f15c8_row21_col8\" class=\"data row21 col8\" >6.46e+00</td>\n",
       "      <td id=\"T_f15c8_row21_col9\" class=\"data row21 col9\" >304</td>\n",
       "    </tr>\n",
       "    <tr>\n",
       "      <th id=\"T_f15c8_level1_row22\" class=\"row_heading level1 row22\" >D6</th>\n",
       "      <td id=\"T_f15c8_row22_col0\" class=\"data row22 col0\" >0.500000</td>\n",
       "      <td id=\"T_f15c8_row22_col1\" class=\"data row22 col1\" >0.311891</td>\n",
       "      <td id=\"T_f15c8_row22_col2\" class=\"data row22 col2\" >6.27e-01</td>\n",
       "      <td id=\"T_f15c8_row22_col3\" class=\"data row22 col3\" >0.741599</td>\n",
       "      <td id=\"T_f15c8_row22_col4\" class=\"data row22 col4\" >2.332239</td>\n",
       "      <td id=\"T_f15c8_row22_col5\" class=\"data row22 col5\" >0.549223</td>\n",
       "      <td id=\"T_f15c8_row22_col6\" class=\"data row22 col6\" >0.919787</td>\n",
       "      <td id=\"T_f15c8_row22_col7\" class=\"data row22 col7\" >2.61e+00</td>\n",
       "      <td id=\"T_f15c8_row22_col8\" class=\"data row22 col8\" >1.47e+01</td>\n",
       "      <td id=\"T_f15c8_row22_col9\" class=\"data row22 col9\" >1252</td>\n",
       "    </tr>\n",
       "    <tr>\n",
       "      <th id=\"T_f15c8_level1_row23\" class=\"row_heading level1 row23\" >D7</th>\n",
       "      <td id=\"T_f15c8_row23_col0\" class=\"data row23 col0\" >0.215595</td>\n",
       "      <td id=\"T_f15c8_row23_col1\" class=\"data row23 col1\" >0.065305</td>\n",
       "      <td id=\"T_f15c8_row23_col2\" class=\"data row23 col2\" >5.54e-01</td>\n",
       "      <td id=\"T_f15c8_row23_col3\" class=\"data row23 col3\" >0.299803</td>\n",
       "      <td id=\"T_f15c8_row23_col4\" class=\"data row23 col4\" >1.070463</td>\n",
       "      <td id=\"T_f15c8_row23_col5\" class=\"data row23 col5\" >0.316172</td>\n",
       "      <td id=\"T_f15c8_row23_col6\" class=\"data row23 col6\" >0.732545</td>\n",
       "      <td id=\"T_f15c8_row23_col7\" class=\"data row23 col7\" >2.48e+00</td>\n",
       "      <td id=\"T_f15c8_row23_col8\" class=\"data row23 col8\" >9.37e+00</td>\n",
       "      <td id=\"T_f15c8_row23_col9\" class=\"data row23 col9\" >1385</td>\n",
       "    </tr>\n",
       "    <tr>\n",
       "      <th id=\"T_f15c8_level0_row24\" class=\"row_heading level0 row24\" rowspan=\"6\">TimeVQVAE</th>\n",
       "      <th id=\"T_f15c8_level1_row24\" class=\"row_heading level1 row24\" >D2</th>\n",
       "      <td id=\"T_f15c8_row24_col0\" class=\"data row24 col0\" >0.271212</td>\n",
       "      <td id=\"T_f15c8_row24_col1\" class=\"data row24 col1\" >0.042083</td>\n",
       "      <td id=\"T_f15c8_row24_col2\" class=\"data row24 col2\" >8.61e-02</td>\n",
       "      <td id=\"T_f15c8_row24_col3\" class=\"data row24 col3\" >0.600689</td>\n",
       "      <td id=\"T_f15c8_row24_col4\" class=\"data row24 col4\" >0.151148</td>\n",
       "      <td id=\"T_f15c8_row24_col5\" class=\"data row24 col5\" >0.300332</td>\n",
       "      <td id=\"T_f15c8_row24_col6\" class=\"data row24 col6\" >2.007588</td>\n",
       "      <td id=\"T_f15c8_row24_col7\" class=\"data row24 col7\" >1.16e+00</td>\n",
       "      <td id=\"T_f15c8_row24_col8\" class=\"data row24 col8\" >2.99e+00</td>\n",
       "      <td id=\"T_f15c8_row24_col9\" class=\"data row24 col9\" >73</td>\n",
       "    </tr>\n",
       "    <tr>\n",
       "      <th id=\"T_f15c8_level1_row25\" class=\"row_heading level1 row25\" >D3</th>\n",
       "      <td id=\"T_f15c8_row25_col0\" class=\"data row25 col0\" >0.265731</td>\n",
       "      <td id=\"T_f15c8_row25_col1\" class=\"data row25 col1\" >0.048197</td>\n",
       "      <td id=\"T_f15c8_row25_col2\" class=\"data row25 col2\" >5.18e-02</td>\n",
       "      <td id=\"T_f15c8_row25_col3\" class=\"data row25 col3\" >0.594377</td>\n",
       "      <td id=\"T_f15c8_row25_col4\" class=\"data row25 col4\" >0.274909</td>\n",
       "      <td id=\"T_f15c8_row25_col5\" class=\"data row25 col5\" >0.193429</td>\n",
       "      <td id=\"T_f15c8_row25_col6\" class=\"data row25 col6\" >1.562584</td>\n",
       "      <td id=\"T_f15c8_row25_col7\" class=\"data row25 col7\" >2.40e+00</td>\n",
       "      <td id=\"T_f15c8_row25_col8\" class=\"data row25 col8\" >6.16e+00</td>\n",
       "      <td id=\"T_f15c8_row25_col9\" class=\"data row25 col9\" >94</td>\n",
       "    </tr>\n",
       "    <tr>\n",
       "      <th id=\"T_f15c8_level1_row26\" class=\"row_heading level1 row26\" >D4</th>\n",
       "      <td id=\"T_f15c8_row26_col0\" class=\"data row26 col0\" >0.322909</td>\n",
       "      <td id=\"T_f15c8_row26_col1\" class=\"data row26 col1\" >0.060146</td>\n",
       "      <td id=\"T_f15c8_row26_col2\" class=\"data row26 col2\" >4.46e-02</td>\n",
       "      <td id=\"T_f15c8_row26_col3\" class=\"data row26 col3\" >0.459550</td>\n",
       "      <td id=\"T_f15c8_row26_col4\" class=\"data row26 col4\" >0.106914</td>\n",
       "      <td id=\"T_f15c8_row26_col5\" class=\"data row26 col5\" >0.072327</td>\n",
       "      <td id=\"T_f15c8_row26_col6\" class=\"data row26 col6\" >0.151760</td>\n",
       "      <td id=\"T_f15c8_row26_col7\" class=\"data row26 col7\" >2.75e+00</td>\n",
       "      <td id=\"T_f15c8_row26_col8\" class=\"data row26 col8\" >8.74e+00</td>\n",
       "      <td id=\"T_f15c8_row26_col9\" class=\"data row26 col9\" >94</td>\n",
       "    </tr>\n",
       "    <tr>\n",
       "      <th id=\"T_f15c8_level1_row27\" class=\"row_heading level1 row27\" >D5</th>\n",
       "      <td id=\"T_f15c8_row27_col0\" class=\"data row27 col0\" >0.499483</td>\n",
       "      <td id=\"T_f15c8_row27_col1\" class=\"data row27 col1\" >0.364224</td>\n",
       "      <td id=\"T_f15c8_row27_col2\" class=\"data row27 col2\" >4.91e-01</td>\n",
       "      <td id=\"T_f15c8_row27_col3\" class=\"data row27 col3\" >0.511359</td>\n",
       "      <td id=\"T_f15c8_row27_col4\" class=\"data row27 col4\" >0.772234</td>\n",
       "      <td id=\"T_f15c8_row27_col5\" class=\"data row27 col5\" >0.370737</td>\n",
       "      <td id=\"T_f15c8_row27_col6\" class=\"data row27 col6\" >1.058068</td>\n",
       "      <td id=\"T_f15c8_row27_col7\" class=\"data row27 col7\" >1.01e+00</td>\n",
       "      <td id=\"T_f15c8_row27_col8\" class=\"data row27 col8\" >6.31e+00</td>\n",
       "      <td id=\"T_f15c8_row27_col9\" class=\"data row27 col9\" >74</td>\n",
       "    </tr>\n",
       "    <tr>\n",
       "      <th id=\"T_f15c8_level1_row28\" class=\"row_heading level1 row28\" >D6</th>\n",
       "      <td id=\"T_f15c8_row28_col0\" class=\"data row28 col0\" >0.496648</td>\n",
       "      <td id=\"T_f15c8_row28_col1\" class=\"data row28 col1\" >0.297065</td>\n",
       "      <td id=\"T_f15c8_row28_col2\" class=\"data row28 col2\" >5.24e-01</td>\n",
       "      <td id=\"T_f15c8_row28_col3\" class=\"data row28 col3\" >0.473658</td>\n",
       "      <td id=\"T_f15c8_row28_col4\" class=\"data row28 col4\" >1.045125</td>\n",
       "      <td id=\"T_f15c8_row28_col5\" class=\"data row28 col5\" >0.395464</td>\n",
       "      <td id=\"T_f15c8_row28_col6\" class=\"data row28 col6\" >1.217470</td>\n",
       "      <td id=\"T_f15c8_row28_col7\" class=\"data row28 col7\" >2.34e+00</td>\n",
       "      <td id=\"T_f15c8_row28_col8\" class=\"data row28 col8\" >1.37e+01</td>\n",
       "      <td id=\"T_f15c8_row28_col9\" class=\"data row28 col9\" >88</td>\n",
       "    </tr>\n",
       "    <tr>\n",
       "      <th id=\"T_f15c8_level1_row29\" class=\"row_heading level1 row29\" >D7</th>\n",
       "      <td id=\"T_f15c8_row29_col0\" class=\"data row29 col0\" >0.418661</td>\n",
       "      <td id=\"T_f15c8_row29_col1\" class=\"data row29 col1\" >0.064221</td>\n",
       "      <td id=\"T_f15c8_row29_col2\" class=\"data row29 col2\" >1.84e-01</td>\n",
       "      <td id=\"T_f15c8_row29_col3\" class=\"data row29 col3\" >0.415115</td>\n",
       "      <td id=\"T_f15c8_row29_col4\" class=\"data row29 col4\" >0.958446</td>\n",
       "      <td id=\"T_f15c8_row29_col5\" class=\"data row29 col5\" >0.556969</td>\n",
       "      <td id=\"T_f15c8_row29_col6\" class=\"data row29 col6\" >1.621089</td>\n",
       "      <td id=\"T_f15c8_row29_col7\" class=\"data row29 col7\" >2.26e+00</td>\n",
       "      <td id=\"T_f15c8_row29_col8\" class=\"data row29 col8\" >8.51e+00</td>\n",
       "      <td id=\"T_f15c8_row29_col9\" class=\"data row29 col9\" >86</td>\n",
       "    </tr>\n",
       "    <tr>\n",
       "      <th id=\"T_f15c8_level0_row30\" class=\"row_heading level0 row30\" rowspan=\"6\">TransFusion</th>\n",
       "      <th id=\"T_f15c8_level1_row30\" class=\"row_heading level1 row30\" >D2</th>\n",
       "      <td id=\"T_f15c8_row30_col0\" class=\"data row30 col0\" >0.146970</td>\n",
       "      <td id=\"T_f15c8_row30_col1\" class=\"data row30 col1\" >0.039753</td>\n",
       "      <td id=\"T_f15c8_row30_col2\" class=\"data row30 col2\" >1.03e-01</td>\n",
       "      <td id=\"T_f15c8_row30_col3\" class=\"data row30 col3\" >0.793641</td>\n",
       "      <td id=\"T_f15c8_row30_col4\" class=\"data row30 col4\" >0.033649</td>\n",
       "      <td id=\"T_f15c8_row30_col5\" class=\"data row30 col5\" >0.533438</td>\n",
       "      <td id=\"T_f15c8_row30_col6\" class=\"data row30 col6\" >2.629961</td>\n",
       "      <td id=\"T_f15c8_row30_col7\" class=\"data row30 col7\" >1.07e+00</td>\n",
       "      <td id=\"T_f15c8_row30_col8\" class=\"data row30 col8\" >2.77e+00</td>\n",
       "      <td id=\"T_f15c8_row30_col9\" class=\"data row30 col9\" >43</td>\n",
       "    </tr>\n",
       "    <tr>\n",
       "      <th id=\"T_f15c8_level1_row31\" class=\"row_heading level1 row31\" >D3</th>\n",
       "      <td id=\"T_f15c8_row31_col0\" class=\"data row31 col0\" >0.119345</td>\n",
       "      <td id=\"T_f15c8_row31_col1\" class=\"data row31 col1\" >0.037827</td>\n",
       "      <td id=\"T_f15c8_row31_col2\" class=\"data row31 col2\" >5.48e-03</td>\n",
       "      <td id=\"T_f15c8_row31_col3\" class=\"data row31 col3\" >0.404968</td>\n",
       "      <td id=\"T_f15c8_row31_col4\" class=\"data row31 col4\" >0.113027</td>\n",
       "      <td id=\"T_f15c8_row31_col5\" class=\"data row31 col5\" >0.165800</td>\n",
       "      <td id=\"T_f15c8_row31_col6\" class=\"data row31 col6\" >0.810759</td>\n",
       "      <td id=\"T_f15c8_row31_col7\" class=\"data row31 col7\" >2.68e+00</td>\n",
       "      <td id=\"T_f15c8_row31_col8\" class=\"data row31 col8\" >6.83e+00</td>\n",
       "      <td id=\"T_f15c8_row31_col9\" class=\"data row31 col9\" >222</td>\n",
       "    </tr>\n",
       "    <tr>\n",
       "      <th id=\"T_f15c8_level1_row32\" class=\"row_heading level1 row32\" >D4</th>\n",
       "      <td id=\"T_f15c8_row32_col0\" class=\"data row32 col0\" >0.031397</td>\n",
       "      <td id=\"T_f15c8_row32_col1\" class=\"data row32 col1\" >0.054869</td>\n",
       "      <td id=\"T_f15c8_row32_col2\" class=\"data row32 col2\" >1.04e-02</td>\n",
       "      <td id=\"T_f15c8_row32_col3\" class=\"data row32 col3\" >0.292279</td>\n",
       "      <td id=\"T_f15c8_row32_col4\" class=\"data row32 col4\" >0.040239</td>\n",
       "      <td id=\"T_f15c8_row32_col5\" class=\"data row32 col5\" >0.118134</td>\n",
       "      <td id=\"T_f15c8_row32_col6\" class=\"data row32 col6\" >0.243031</td>\n",
       "      <td id=\"T_f15c8_row32_col7\" class=\"data row32 col7\" >2.81e+00</td>\n",
       "      <td id=\"T_f15c8_row32_col8\" class=\"data row32 col8\" >8.95e+00</td>\n",
       "      <td id=\"T_f15c8_row32_col9\" class=\"data row32 col9\" >454</td>\n",
       "    </tr>\n",
       "    <tr>\n",
       "      <th id=\"T_f15c8_level1_row33\" class=\"row_heading level1 row33\" >D5</th>\n",
       "      <td id=\"T_f15c8_row33_col0\" class=\"data row33 col0\" >0.110031</td>\n",
       "      <td id=\"T_f15c8_row33_col1\" class=\"data row33 col1\" >0.250831</td>\n",
       "      <td id=\"T_f15c8_row33_col2\" class=\"data row33 col2\" >1.03e-02</td>\n",
       "      <td id=\"T_f15c8_row33_col3\" class=\"data row33 col3\" >0.224214</td>\n",
       "      <td id=\"T_f15c8_row33_col4\" class=\"data row33 col4\" >0.063335</td>\n",
       "      <td id=\"T_f15c8_row33_col5\" class=\"data row33 col5\" >0.106038</td>\n",
       "      <td id=\"T_f15c8_row33_col6\" class=\"data row33 col6\" >0.421438</td>\n",
       "      <td id=\"T_f15c8_row33_col7\" class=\"data row33 col7\" >1.01e+00</td>\n",
       "      <td id=\"T_f15c8_row33_col8\" class=\"data row33 col8\" >6.28e+00</td>\n",
       "      <td id=\"T_f15c8_row33_col9\" class=\"data row33 col9\" >201</td>\n",
       "    </tr>\n",
       "    <tr>\n",
       "      <th id=\"T_f15c8_level1_row34\" class=\"row_heading level1 row34\" >D6</th>\n",
       "      <td id=\"T_f15c8_row34_col0\" class=\"data row34 col0\" >0.231161</td>\n",
       "      <td id=\"T_f15c8_row34_col1\" class=\"data row34 col1\" >0.250762</td>\n",
       "      <td id=\"T_f15c8_row34_col2\" class=\"data row34 col2\" >3.89e-03</td>\n",
       "      <td id=\"T_f15c8_row34_col3\" class=\"data row34 col3\" >0.198603</td>\n",
       "      <td id=\"T_f15c8_row34_col4\" class=\"data row34 col4\" >0.111238</td>\n",
       "      <td id=\"T_f15c8_row34_col5\" class=\"data row34 col5\" >0.037566</td>\n",
       "      <td id=\"T_f15c8_row34_col6\" class=\"data row34 col6\" >0.135754</td>\n",
       "      <td id=\"T_f15c8_row34_col7\" class=\"data row34 col7\" >2.54e+00</td>\n",
       "      <td id=\"T_f15c8_row34_col8\" class=\"data row34 col8\" >1.47e+01</td>\n",
       "      <td id=\"T_f15c8_row34_col9\" class=\"data row34 col9\" >1387</td>\n",
       "    </tr>\n",
       "    <tr>\n",
       "      <th id=\"T_f15c8_level1_row35\" class=\"row_heading level1 row35\" >D7</th>\n",
       "      <td id=\"T_f15c8_row35_col0\" class=\"data row35 col0\" >0.049863</td>\n",
       "      <td id=\"T_f15c8_row35_col1\" class=\"data row35 col1\" >0.050025</td>\n",
       "      <td id=\"T_f15c8_row35_col2\" class=\"data row35 col2\" >1.13e-02</td>\n",
       "      <td id=\"T_f15c8_row35_col3\" class=\"data row35 col3\" >0.151820</td>\n",
       "      <td id=\"T_f15c8_row35_col4\" class=\"data row35 col4\" >0.372658</td>\n",
       "      <td id=\"T_f15c8_row35_col5\" class=\"data row35 col5\" >0.097957</td>\n",
       "      <td id=\"T_f15c8_row35_col6\" class=\"data row35 col6\" >0.066486</td>\n",
       "      <td id=\"T_f15c8_row35_col7\" class=\"data row35 col7\" >2.51e+00</td>\n",
       "      <td id=\"T_f15c8_row35_col8\" class=\"data row35 col8\" >9.29e+00</td>\n",
       "      <td id=\"T_f15c8_row35_col9\" class=\"data row35 col9\" >856</td>\n",
       "    </tr>\n",
       "  </tbody>\n",
       "</table>\n"
      ],
      "text/plain": [
       "<pandas.io.formats.style.Styler at 0x7f1ff04b09d0>"
      ]
     },
     "execution_count": 108,
     "metadata": {},
     "output_type": "execute_result"
    }
   ],
   "source": [
    "cm = sns.diverging_palette(h_neg=130, h_pos=0, as_cmap=True)\n",
    "\n",
    "def style_results_table(df):\n",
    "    return df.style\\\n",
    "    .background_gradient(cmap=cm, vmin=0, vmax=0.5, subset=[\"DS\", \"PS\"])\\\n",
    "    .background_gradient(cmap=cm, vmin=0, vmax=1, subset=[\"C-FID\"])\\\n",
    "    .background_gradient(cmap=cm, vmin=0, vmax=2, subset=[\"MDD\"])\\\n",
    "    .background_gradient(cmap=cm, vmin=0, vmax=1, subset=[\"ACD\"])\\\n",
    "    .background_gradient(cmap=cm, vmin=0, vmax=1, subset=[\"SD\"])\\\n",
    "    .background_gradient(cmap=cm, vmin=0, vmax=3, subset=[\"KD\"])\\\n",
    "    .background_gradient(cmap=cm, vmin=0, vmax=3, subset=[\"ED\"])\\\n",
    "    .background_gradient(cmap=cm, vmin=0, vmax=15, subset=[\"DTW\"])\\\n",
    "    .background_gradient(cmap=cm, vmin=0, vmax=1000, subset=[\"Time\"])\\\n",
    "    .format({\"DTW\": \"{:.2e}\", \"C-FID\": \"{:.2e}\", \"ED\": \"{:.2e}\"})\n",
    "\n",
    "\n",
    "def group_measures(df):\n",
    "    category_map = {\n",
    "    \"Utility\": [\"PS\"],\n",
    "    \"Fidelity\": [\"DS\", \"C-FID\", \"MDD\", \"ACD\", \"SD\", \"KD\", \"ED\", \"DTW\"],\n",
    "    \"Training Efficiency\": [\"Time\"]\n",
    "    }\n",
    "\n",
    "    # Create a list of tuples (top-level, column name)\n",
    "    new_cols = []\n",
    "    for cat, cols in category_map.items():\n",
    "        for col in cols:\n",
    "            new_cols.append((cat, col))\n",
    "\n",
    "    # Reorder df columns to match the new structure\n",
    "    df = df[[col for _, col in new_cols]]\n",
    "\n",
    "    # Apply MultiIndex to columns\n",
    "    df.columns = pd.MultiIndex.from_tuples(new_cols)\n",
    "    return df\n",
    "\n",
    "df_no_copy = df_all.drop(index=\"JustCopy\", level=\"Method\")\n",
    "style_results_table(df_all)"
   ]
  },
  {
   "cell_type": "code",
   "execution_count": 109,
   "id": "4d64c02f",
   "metadata": {},
   "outputs": [
    {
     "name": "stdout",
     "output_type": "stream",
     "text": [
      "\\begin{tabular}{llrrrrrrrrrr}\n",
      "{} & {} & {DS} & {PS} & {C-FID} & {MDD} & {ACD} & {SD} & {KD} & {ED} & {DTW} & {Time} \\\\\n",
      "{Method} & {Dataset} & {} & {} & {} & {} & {} & {} & {} & {} & {} & {} \\\\\n",
      "\\multirow[c]{6}{*}{JustCopy} & D2 & \\background-color#408b48 \\color#f1f1f1 0.010101 & \\background-color#54975a \\color#f1f1f1 0.037720 & \\background-color#398641 \\color#f1f1f1 -1.67e-12 & \\background-color#398641 \\color#f1f1f1 0.000317 & \\background-color#398641 \\color#f1f1f1 0.000000 & \\background-color#398641 \\color#f1f1f1 0.000000 & \\background-color#398641 \\color#f1f1f1 0.000000 & \\background-color#398641 \\color#f1f1f1 0.00e+00 & \\background-color#398641 \\color#f1f1f1 0.00e+00 & \\background-color#398641 \\color#f1f1f1 0 \\\\\n",
      " & D3 & \\background-color#408b48 \\color#f1f1f1 0.010140 & \\background-color#529659 \\color#f1f1f1 0.036687 & \\background-color#398641 \\color#f1f1f1 -2.12e-12 & \\background-color#398641 \\color#f1f1f1 0.000282 & \\background-color#398641 \\color#f1f1f1 0.000000 & \\background-color#398641 \\color#f1f1f1 0.000000 & \\background-color#398641 \\color#f1f1f1 0.000000 & \\background-color#398641 \\color#f1f1f1 0.00e+00 & \\background-color#398641 \\color#f1f1f1 0.00e+00 & \\background-color#398641 \\color#f1f1f1 0 \\\\\n",
      " & D4 & \\background-color#438c4a \\color#f1f1f1 0.013775 & \\background-color#629f68 \\color#f1f1f1 0.057060 & \\background-color#398641 \\color#f1f1f1 -2.43e-13 & \\background-color#398641 \\color#f1f1f1 0.000264 & \\background-color#398641 \\color#f1f1f1 0.000000 & \\background-color#398641 \\color#f1f1f1 0.000000 & \\background-color#398641 \\color#f1f1f1 0.000000 & \\background-color#398641 \\color#f1f1f1 0.00e+00 & \\background-color#398641 \\color#f1f1f1 0.00e+00 & \\background-color#398641 \\color#f1f1f1 0 \\\\\n",
      " & D5 & \\background-color#448d4c \\color#f1f1f1 0.016671 & \\background-color#f2f1f1 \\color#000000 0.250396 & \\background-color#398641 \\color#f1f1f1 -2.42e-15 & \\background-color#438c4a \\color#f1f1f1 0.060657 & \\background-color#398641 \\color#f1f1f1 0.000000 & \\background-color#398641 \\color#f1f1f1 0.000000 & \\background-color#398641 \\color#f1f1f1 0.000000 & \\background-color#398641 \\color#f1f1f1 0.00e+00 & \\background-color#398641 \\color#f1f1f1 0.00e+00 & \\background-color#398641 \\color#f1f1f1 0 \\\\\n",
      " & D6 & \\background-color#408b48 \\color#f1f1f1 0.009915 & \\background-color#ebf2ec \\color#000000 0.247743 & \\background-color#398641 \\color#f1f1f1 -3.29e-15 & \\background-color#458e4d \\color#f1f1f1 0.071081 & \\background-color#398641 \\color#f1f1f1 0.000000 & \\background-color#398641 \\color#f1f1f1 0.000000 & \\background-color#398641 \\color#f1f1f1 0.000000 & \\background-color#398641 \\color#f1f1f1 0.00e+00 & \\background-color#398641 \\color#f1f1f1 0.00e+00 & \\background-color#398641 \\color#f1f1f1 0 \\\\\n",
      " & D7 & \\background-color#408b48 \\color#f1f1f1 0.011593 & \\background-color#5c9c63 \\color#f1f1f1 0.049266 & \\background-color#398641 \\color#f1f1f1 4.34e-15 & \\background-color#398641 \\color#f1f1f1 0.005795 & \\background-color#398641 \\color#f1f1f1 0.000000 & \\background-color#398641 \\color#f1f1f1 0.000000 & \\background-color#398641 \\color#f1f1f1 0.000000 & \\background-color#398641 \\color#f1f1f1 0.00e+00 & \\background-color#398641 \\color#f1f1f1 0.00e+00 & \\background-color#398641 \\color#f1f1f1 0 \\\\\n",
      "\\multirow[c]{6}{*}{TTS-GAN} & D2 & \\background-color#e6a6b9 \\color#000000 0.353788 & \\background-color#d53d69 \\color#f1f1f1 0.543119 & \\background-color#d53d69 \\color#f1f1f1 3.14e+17 & \\background-color#f2f1f1 \\color#000000 1.003093 & \\background-color#d53d69 \\color#f1f1f1 2.908140 & \\background-color#d53d69 \\color#f1f1f1 1.346879 & \\background-color#d53d69 \\color#f1f1f1 4.078087 & \\background-color#d53d69 \\color#f1f1f1 2.06e+08 & \\background-color#d53d69 \\color#f1f1f1 6.36e+08 & \\background-color#eabdca \\color#000000 646 \\\\\n",
      " & D3 & \\background-color#d53d69 \\color#f1f1f1 0.500000 & \\background-color#6aa470 \\color#f1f1f1 0.070101 & \\background-color#d53d69 \\color#f1f1f1 6.62e+00 & \\background-color#ebc5d0 \\color#000000 1.249867 & \\background-color#d53d69 \\color#f1f1f1 7.399600 & \\background-color#d53d69 \\color#f1f1f1 1.411439 & \\background-color#da5a80 \\color#f1f1f1 2.743262 & \\background-color#d53d69 \\color#f1f1f1 7.81e+00 & \\background-color#d53d69 \\color#f1f1f1 1.96e+01 & \\background-color#e9b8c6 \\color#000000 660 \\\\\n",
      " & D4 & \\background-color#d53d69 \\color#f1f1f1 0.499752 & \\background-color#eed7de \\color#000000 0.287067 & \\background-color#d53d69 \\color#f1f1f1 7.58e+14 & \\background-color#f2eff0 \\color#000000 1.012819 & \\background-color#d53d69 \\color#f1f1f1 9.318710 & \\background-color#e07f9b \\color#f1f1f1 0.815356 & \\background-color#a6c8a9 \\color#000000 0.909358 & \\background-color#d53d69 \\color#f1f1f1 4.34e+07 & \\background-color#d53d69 \\color#f1f1f1 1.32e+08 & \\background-color#eabbc9 \\color#000000 649 \\\\\n",
      " & D5 & \\background-color#d53d69 \\color#f1f1f1 0.500000 & \\background-color#edcfd7 \\color#000000 0.298715 & \\background-color#d53d69 \\color#f1f1f1 4.80e+09 & \\background-color#f2eff0 \\color#000000 1.010239 & \\background-color#d53d69 \\color#f1f1f1 5.069930 & \\background-color#d6426e \\color#f1f1f1 0.982785 & \\background-color#ebf2ec \\color#000000 1.486653 & \\background-color#d53d69 \\color#f1f1f1 2.58e+04 & \\background-color#d53d69 \\color#f1f1f1 1.53e+05 & \\background-color#eabbc9 \\color#000000 649 \\\\\n",
      " & D6 & \\background-color#d53d69 \\color#f1f1f1 0.500000 & \\background-color#efdde2 \\color#000000 0.277391 & \\background-color#d53d69 \\color#f1f1f1 7.64e+13 & \\background-color#f2eff0 \\color#000000 1.014439 & \\background-color#d53d69 \\color#f1f1f1 7.956827 & \\background-color#e0829e \\color#f1f1f1 0.808035 & \\background-color#edcdd6 \\color#000000 1.802976 & \\background-color#d53d69 \\color#f1f1f1 8.30e+06 & \\background-color#d53d69 \\color#f1f1f1 5.10e+07 & \\background-color#e9b8c6 \\color#000000 660 \\\\\n",
      " & D7 & \\background-color#d53d69 \\color#f1f1f1 0.500000 & \\background-color#c7dcc9 \\color#000000 0.196071 & \\background-color#d53d69 \\color#f1f1f1 2.70e+14 & \\background-color#f2f1f1 \\color#000000 1.000484 & \\background-color#d53d69 \\color#f1f1f1 7.618056 & \\background-color#eabfcc \\color#000000 0.640393 & \\background-color#e9bac7 \\color#000000 1.962276 & \\background-color#d53d69 \\color#f1f1f1 2.29e+07 & \\background-color#d53d69 \\color#f1f1f1 9.39e+07 & \\background-color#eabdca \\color#000000 645 \\\\\n",
      "\\multirow[c]{6}{*}{Time-Transformer} & D2 & \\background-color#eabbc9 \\color#000000 0.324495 & \\background-color#75ab7b \\color#f1f1f1 0.085745 & \\background-color#99c19d \\color#000000 2.66e-01 & \\background-color#aacbae \\color#000000 0.629389 & \\background-color#92bc96 \\color#000000 0.246590 & \\background-color#edd3db \\color#000000 0.582419 & \\background-color#dd6f90 \\color#f1f1f1 2.577668 & \\background-color#d6e5d7 \\color#000000 1.31e+00 & \\background-color#89b78e \\color#000000 3.38e+00 & \\background-color#3d8945 \\color#f1f1f1 13 \\\\\n",
      " & D3 & \\background-color#edcfd7 \\color#000000 0.297712 & \\background-color#6ca571 \\color#f1f1f1 0.071347 & \\background-color#7bae80 \\color#f1f1f1 1.85e-01 & \\background-color#c0d8c2 \\color#000000 0.747137 & \\background-color#eaf1ea \\color#000000 0.489822 & \\background-color#f1e5e8 \\color#000000 0.532613 & \\background-color#d74973 \\color#f1f1f1 2.882850 & \\background-color#df7b98 \\color#f1f1f1 2.48e+00 & \\background-color#d0e2d2 \\color#000000 6.30e+00 & \\background-color#3e8a46 \\color#f1f1f1 16 \\\\\n",
      " & D4 & \\background-color#f1ebed \\color#000000 0.259494 & \\background-color#67a26d \\color#f1f1f1 0.065874 & \\background-color#4a9151 \\color#f1f1f1 5.00e-02 & \\background-color#97bf9b \\color#000000 0.520660 & \\background-color#a8c9ab \\color#000000 0.306909 & \\background-color#97bf9b \\color#000000 0.260529 & \\background-color#66a26c \\color#f1f1f1 0.377320 & \\background-color#db6487 \\color#f1f1f1 2.67e+00 & \\background-color#efdce1 \\color#000000 8.42e+00 & \\background-color#438c4a \\color#f1f1f1 28 \\\\\n",
      " & D5 & \\background-color#d53d69 \\color#f1f1f1 0.499765 & \\background-color#eabbc9 \\color#000000 0.325050 & \\background-color#73a978 \\color#f1f1f1 1.62e-01 & \\background-color#7eb083 \\color#f1f1f1 0.388136 & \\background-color#99c19d \\color#000000 0.266521 & \\background-color#82b387 \\color#f1f1f1 0.206538 & \\background-color#9ec3a1 \\color#000000 0.839459 & \\background-color#acccaf \\color#000000 9.50e-01 & \\background-color#c8ddca \\color#000000 5.98e+00 & \\background-color#4f9456 \\color#f1f1f1 66 \\\\\n",
      " & D6 & \\background-color#d53d69 \\color#f1f1f1 0.500000 & \\background-color#f2eff0 \\color#000000 0.252108 & \\background-color#f1eaec \\color#000000 5.23e-01 & \\background-color#a8c9ab \\color#000000 0.614602 & \\background-color#e6a9bb \\color#000000 0.701027 & \\background-color#cfe1d1 \\color#000000 0.417911 & \\background-color#cbdecd \\color#000000 1.215788 & \\background-color#df7e9a \\color#f1f1f1 2.45e+00 & \\background-color#d74872 \\color#f1f1f1 1.45e+01 & \\background-color#54975a \\color#f1f1f1 77 \\\\\n",
      " & D7 & \\background-color#d53f6c \\color#f1f1f1 0.495699 & \\background-color#63a069 \\color#f1f1f1 0.058821 & \\background-color#56985d \\color#f1f1f1 8.24e-02 & \\background-color#6ea774 \\color#f1f1f1 0.304084 & \\background-color#d74c75 \\color#f1f1f1 0.956960 & \\background-color#9bc29f \\color#000000 0.270877 & \\background-color#7eb083 \\color#f1f1f1 0.584719 & \\background-color#e18aa4 \\color#f1f1f1 2.34e+00 & \\background-color#edd0d8 \\color#000000 8.88e+00 & \\background-color#4c9254 \\color#f1f1f1 55 \\\\\n",
      "\\multirow[c]{6}{*}{TimeGAN} & D2 & \\background-color#7bae80 \\color#f1f1f1 0.093434 & \\background-color#54975a \\color#f1f1f1 0.037907 & \\background-color#408b48 \\color#f1f1f1 2.01e-02 & \\background-color#88b68c \\color#f1f1f1 0.443126 & \\background-color#77ac7c \\color#f1f1f1 0.174772 & \\background-color#e4eee5 \\color#000000 0.472857 & \\background-color#e188a2 \\color#f1f1f1 2.370855 & \\background-color#c7dcc9 \\color#000000 1.18e+00 & \\background-color#81b286 \\color#f1f1f1 3.05e+00 & \\background-color#97bf9b \\color#000000 259 \\\\\n",
      " & D3 & \\background-color#dce9dd \\color#000000 0.224909 & \\background-color#55975c \\color#f1f1f1 0.039703 & \\background-color#4b9252 \\color#f1f1f1 5.42e-02 & \\background-color#d5e4d6 \\color#000000 0.864601 & \\background-color#6da673 \\color#f1f1f1 0.144977 & \\background-color#9bc29f \\color#000000 0.272758 & \\background-color#e18aa4 \\color#f1f1f1 2.354675 & \\background-color#dc6789 \\color#f1f1f1 2.64e+00 & \\background-color#d9e7da \\color#000000 6.67e+00 & \\background-color#d53d69 \\color#f1f1f1 1373 \\\\\n",
      " & D4 & \\background-color#c9decb \\color#000000 0.200174 & \\background-color#8db992 \\color#000000 0.118733 & \\background-color#5d9d64 \\color#f1f1f1 1.05e-01 & \\background-color#c4dac6 \\color#000000 0.769964 & \\background-color#66a26c \\color#f1f1f1 0.127946 & \\background-color#7fb184 \\color#f1f1f1 0.197324 & \\background-color#74aa7a \\color#f1f1f1 0.497502 & \\background-color#d74c75 \\color#f1f1f1 2.87e+00 & \\background-color#eccbd4 \\color#000000 9.10e+00 & \\background-color#d53d69 \\color#f1f1f1 1195 \\\\\n",
      " & D5 & \\background-color#d74973 \\color#f1f1f1 0.482014 & \\background-color#eed7de \\color#000000 0.287032 & \\background-color#69a36f \\color#f1f1f1 1.35e-01 & \\background-color#7caf82 \\color#f1f1f1 0.381832 & \\background-color#dce9dd \\color#000000 0.452620 & \\background-color#98c09c \\color#000000 0.265038 & \\background-color#b3d0b6 \\color#000000 1.012876 & \\background-color#b8d3bb \\color#000000 1.06e+00 & \\background-color#d5e4d6 \\color#000000 6.46e+00 & \\background-color#a6c8a9 \\color#000000 304 \\\\\n",
      " & D6 & \\background-color#d53d69 \\color#f1f1f1 0.500000 & \\background-color#ebc5d0 \\color#000000 0.311891 & \\background-color#ebc4cf \\color#000000 6.27e-01 & \\background-color#bed7c0 \\color#000000 0.741599 & \\background-color#d53d69 \\color#f1f1f1 2.332239 & \\background-color#f0e0e4 \\color#000000 0.549223 & \\background-color#a8c9ab \\color#000000 0.919787 & \\background-color#dc6b8c \\color#f1f1f1 2.61e+00 & \\background-color#d6446f \\color#f1f1f1 1.47e+01 & \\background-color#d53d69 \\color#f1f1f1 1252 \\\\\n",
      " & D7 & \\background-color#d5e4d6 \\color#000000 0.215595 & \\background-color#67a26d \\color#f1f1f1 0.065305 & \\background-color#efdee3 \\color#000000 5.54e-01 & \\background-color#6ea774 \\color#f1f1f1 0.299803 & \\background-color#d53d69 \\color#f1f1f1 1.070463 & \\background-color#aacbae \\color#000000 0.316172 & \\background-color#90bb95 \\color#000000 0.732545 & \\background-color#df7b98 \\color#f1f1f1 2.48e+00 & \\background-color#ebc5d0 \\color#000000 9.37e+00 & \\background-color#d53d69 \\color#f1f1f1 1385 \\\\\n",
      "\\multirow[c]{6}{*}{TimeVQVAE} & D2 & \\background-color#f0e3e6 \\color#000000 0.271212 & \\background-color#56985d \\color#f1f1f1 0.042083 & \\background-color#58995f \\color#f1f1f1 8.61e-02 & \\background-color#a5c7a8 \\color#000000 0.600689 & \\background-color#6ea774 \\color#f1f1f1 0.151148 & \\background-color#a5c7a8 \\color#000000 0.300332 & \\background-color#e8b4c3 \\color#000000 2.007588 & \\background-color#c4dac6 \\color#000000 1.16e+00 & \\background-color#7fb184 \\color#f1f1f1 2.99e+00 & \\background-color#529659 \\color#f1f1f1 73 \\\\\n",
      " & D3 & \\background-color#f1e5e8 \\color#000000 0.265731 & \\background-color#5b9b61 \\color#f1f1f1 0.048197 & \\background-color#4b9252 \\color#f1f1f1 5.18e-02 & \\background-color#a5c7a8 \\color#000000 0.594377 & \\background-color#9cc2a0 \\color#000000 0.274909 & \\background-color#7eb083 \\color#f1f1f1 0.193429 & \\background-color#f1eaec \\color#000000 1.562584 & \\background-color#e185a0 \\color#f1f1f1 2.40e+00 & \\background-color#cee0cf \\color#000000 6.16e+00 & \\background-color#5b9b61 \\color#f1f1f1 94 \\\\\n",
      " & D4 & \\background-color#eabdca \\color#000000 0.322909 & \\background-color#63a069 \\color#f1f1f1 0.060146 & \\background-color#489050 \\color#f1f1f1 4.46e-02 & \\background-color#8bb88f \\color#000000 0.459550 & \\background-color#5f9d65 \\color#f1f1f1 0.106914 & \\background-color#529659 \\color#f1f1f1 0.072327 & \\background-color#4a9151 \\color#f1f1f1 0.151760 & \\background-color#da5a80 \\color#f1f1f1 2.75e+00 & \\background-color#edd3db \\color#000000 8.74e+00 & \\background-color#5b9b61 \\color#f1f1f1 94 \\\\\n",
      " & D5 & \\background-color#d53d69 \\color#f1f1f1 0.499483 & \\background-color#e59fb3 \\color#000000 0.364224 & \\background-color#eaf1ea \\color#000000 4.91e-01 & \\background-color#95be99 \\color#000000 0.511359 & \\background-color#e28fa7 \\color#f1f1f1 0.772234 & \\background-color#bed7c0 \\color#000000 0.370737 & \\background-color#b8d3bb \\color#000000 1.058068 & \\background-color#b3d0b6 \\color#000000 1.01e+00 & \\background-color#d0e2d2 \\color#000000 6.31e+00 & \\background-color#529659 \\color#f1f1f1 74 \\\\\n",
      " & D6 & \\background-color#d53e6a \\color#f1f1f1 0.496648 & \\background-color#edcfd7 \\color#000000 0.297065 & \\background-color#f1e8eb \\color#000000 5.24e-01 & \\background-color#8db992 \\color#000000 0.473658 & \\background-color#d53d69 \\color#f1f1f1 1.045125 & \\background-color#c8ddca \\color#000000 0.395464 & \\background-color#cbdecd \\color#000000 1.217470 & \\background-color#e28ca5 \\color#f1f1f1 2.34e+00 & \\background-color#da5c81 \\color#f1f1f1 1.37e+01 & \\background-color#58995f \\color#f1f1f1 88 \\\\\n",
      " & D7 & \\background-color#de7795 \\color#f1f1f1 0.418661 & \\background-color#66a26c \\color#f1f1f1 0.064221 & \\background-color#7bae80 \\color#f1f1f1 1.84e-01 & \\background-color#84b388 \\color#f1f1f1 0.415115 & \\background-color#d74b74 \\color#f1f1f1 0.958446 & \\background-color#efdde2 \\color#000000 0.556969 & \\background-color#f0e3e6 \\color#000000 1.621089 & \\background-color#e394ab \\color#f1f1f1 2.26e+00 & \\background-color#eed9df \\color#000000 8.51e+00 & \\background-color#58995f \\color#f1f1f1 86 \\\\\n",
      "\\multirow[c]{6}{*}{TransFusion} & D2 & \\background-color#a3c7a7 \\color#000000 0.146970 & \\background-color#55975c \\color#f1f1f1 0.039753 & \\background-color#5d9d64 \\color#f1f1f1 1.03e-01 & \\background-color#c8ddca \\color#000000 0.793641 & \\background-color#448d4c \\color#f1f1f1 0.033649 & \\background-color#f1e5e8 \\color#000000 0.533438 & \\background-color#dc688a \\color#f1f1f1 2.629961 & \\background-color#bad4bc \\color#000000 1.07e+00 & \\background-color#7bae80 \\color#f1f1f1 2.77e+00 & \\background-color#489050 \\color#f1f1f1 43 \\\\\n",
      " & D3 & \\background-color#8fba93 \\color#000000 0.119345 & \\background-color#54975a \\color#f1f1f1 0.037827 & \\background-color#3a8742 \\color#f1f1f1 5.48e-03 & \\background-color#81b286 \\color#f1f1f1 0.404968 & \\background-color#609e67 \\color#f1f1f1 0.113027 & \\background-color#74aa7a \\color#f1f1f1 0.165800 & \\background-color#9bc29f \\color#000000 0.810759 & \\background-color#db6386 \\color#f1f1f1 2.68e+00 & \\background-color#dde9de \\color#000000 6.83e+00 & \\background-color#88b68c \\color#f1f1f1 222 \\\\\n",
      " & D4 & \\background-color#4f9456 \\color#f1f1f1 0.031397 & \\background-color#609e67 \\color#f1f1f1 0.054869 & \\background-color#3c8844 \\color#f1f1f1 1.04e-02 & \\background-color#6da673 \\color#f1f1f1 0.292279 & \\background-color#478f4e \\color#f1f1f1 0.040239 & \\background-color#63a069 \\color#f1f1f1 0.118134 & \\background-color#55975c \\color#f1f1f1 0.243031 & \\background-color#d8537a \\color#f1f1f1 2.81e+00 & \\background-color#edcfd7 \\color#000000 8.95e+00 & \\background-color#dde9de \\color#000000 454 \\\\\n",
      " & D5 & \\background-color#88b68c \\color#f1f1f1 0.110031 & \\background-color#f2f1f1 \\color#000000 0.250831 & \\background-color#3c8844 \\color#f1f1f1 1.03e-02 & \\background-color#609e67 \\color#f1f1f1 0.224214 & \\background-color#4f9456 \\color#f1f1f1 0.063335 & \\background-color#5f9d65 \\color#f1f1f1 0.106038 & \\background-color#6aa470 \\color#f1f1f1 0.421438 & \\background-color#b3d0b6 \\color#000000 1.01e+00 & \\background-color#d0e2d2 \\color#000000 6.28e+00 & \\background-color#81b286 \\color#f1f1f1 201 \\\\\n",
      " & D6 & \\background-color#e0ebe1 \\color#000000 0.231161 & \\background-color#f2f1f1 \\color#000000 0.250762 & \\background-color#398641 \\color#f1f1f1 3.89e-03 & \\background-color#5c9c63 \\color#f1f1f1 0.198603 & \\background-color#609e67 \\color#f1f1f1 0.111238 & \\background-color#458e4d \\color#f1f1f1 0.037566 & \\background-color#489050 \\color#f1f1f1 0.135754 & \\background-color#de7292 \\color#f1f1f1 2.54e+00 & \\background-color#d6446f \\color#f1f1f1 1.47e+01 & \\background-color#d53d69 \\color#f1f1f1 1387 \\\\\n",
      " & D7 & \\background-color#5c9c63 \\color#f1f1f1 0.049863 & \\background-color#5c9c63 \\color#f1f1f1 0.050025 & \\background-color#3c8844 \\color#f1f1f1 1.13e-02 & \\background-color#54975a \\color#f1f1f1 0.151820 & \\background-color#c0d8c2 \\color#000000 0.372658 & \\background-color#5c9c63 \\color#f1f1f1 0.097957 & \\background-color#408b48 \\color#f1f1f1 0.066486 & \\background-color#de7795 \\color#f1f1f1 2.51e+00 & \\background-color#ebc6d1 \\color#000000 9.29e+00 & \\background-color#dd6f90 \\color#f1f1f1 856 \\\\\n",
      "\\end{tabular}\n",
      "\n"
     ]
    }
   ],
   "source": [
    "print(style_results_table(df_all).to_latex())"
   ]
  },
  {
   "cell_type": "code",
   "execution_count": 110,
   "id": "f58f9102",
   "metadata": {},
   "outputs": [
    {
     "data": {
      "text/html": [
       "<style type=\"text/css\">\n",
       "#T_68489_row0_col0, #T_68489_row3_col2, #T_68489_row6_col0, #T_68489_row24_col0, #T_68489_row30_col0, #T_68489_row35_col6 {\n",
       "  background-color: #408b48;\n",
       "  color: #f1f1f1;\n",
       "}\n",
       "#T_68489_row0_col1, #T_68489_row3_col1, #T_68489_row11_col1, #T_68489_row26_col9, #T_68489_row35_col3 {\n",
       "  background-color: #54975a;\n",
       "  color: #f1f1f1;\n",
       "}\n",
       "#T_68489_row0_col2, #T_68489_row0_col3, #T_68489_row0_col4, #T_68489_row0_col5, #T_68489_row0_col6, #T_68489_row0_col7, #T_68489_row0_col8, #T_68489_row0_col9, #T_68489_row6_col2, #T_68489_row6_col3, #T_68489_row6_col4, #T_68489_row6_col5, #T_68489_row6_col6, #T_68489_row6_col7, #T_68489_row6_col8, #T_68489_row6_col9, #T_68489_row12_col2, #T_68489_row12_col3, #T_68489_row12_col4, #T_68489_row12_col5, #T_68489_row12_col6, #T_68489_row12_col7, #T_68489_row12_col8, #T_68489_row12_col9, #T_68489_row18_col2, #T_68489_row18_col4, #T_68489_row18_col5, #T_68489_row18_col6, #T_68489_row18_col7, #T_68489_row18_col8, #T_68489_row18_col9, #T_68489_row24_col2, #T_68489_row24_col4, #T_68489_row24_col5, #T_68489_row24_col6, #T_68489_row24_col7, #T_68489_row24_col8, #T_68489_row24_col9, #T_68489_row29_col2, #T_68489_row30_col2, #T_68489_row30_col3, #T_68489_row30_col4, #T_68489_row30_col5, #T_68489_row30_col6, #T_68489_row30_col7, #T_68489_row30_col8, #T_68489_row30_col9 {\n",
       "  background-color: #398641;\n",
       "  color: #f1f1f1;\n",
       "}\n",
       "#T_68489_row1_col0 {\n",
       "  background-color: #e6a6b9;\n",
       "  color: #000000;\n",
       "}\n",
       "#T_68489_row1_col1, #T_68489_row1_col2, #T_68489_row1_col4, #T_68489_row1_col5, #T_68489_row1_col6, #T_68489_row1_col7, #T_68489_row1_col8, #T_68489_row7_col0, #T_68489_row7_col2, #T_68489_row7_col4, #T_68489_row7_col5, #T_68489_row7_col7, #T_68489_row7_col8, #T_68489_row9_col9, #T_68489_row13_col0, #T_68489_row13_col2, #T_68489_row13_col4, #T_68489_row13_col7, #T_68489_row13_col8, #T_68489_row15_col9, #T_68489_row19_col0, #T_68489_row19_col2, #T_68489_row19_col4, #T_68489_row19_col7, #T_68489_row19_col8, #T_68489_row20_col0, #T_68489_row22_col0, #T_68489_row25_col0, #T_68489_row25_col2, #T_68489_row25_col4, #T_68489_row25_col7, #T_68489_row25_col8, #T_68489_row26_col0, #T_68489_row27_col0, #T_68489_row27_col4, #T_68489_row27_col9, #T_68489_row28_col4, #T_68489_row29_col9, #T_68489_row31_col0, #T_68489_row31_col2, #T_68489_row31_col4, #T_68489_row31_col7, #T_68489_row31_col8, #T_68489_row33_col4, #T_68489_row33_col9 {\n",
       "  background-color: #d53d69;\n",
       "  color: #f1f1f1;\n",
       "}\n",
       "#T_68489_row1_col3, #T_68489_row18_col1, #T_68489_row23_col1, #T_68489_row29_col1, #T_68489_row31_col3 {\n",
       "  background-color: #f2f1f1;\n",
       "  color: #000000;\n",
       "}\n",
       "#T_68489_row1_col9, #T_68489_row16_col0, #T_68489_row31_col9 {\n",
       "  background-color: #eabdca;\n",
       "  color: #000000;\n",
       "}\n",
       "#T_68489_row2_col0, #T_68489_row13_col9, #T_68489_row19_col9, #T_68489_row20_col1 {\n",
       "  background-color: #eabbc9;\n",
       "  color: #000000;\n",
       "}\n",
       "#T_68489_row2_col1 {\n",
       "  background-color: #75ab7b;\n",
       "  color: #f1f1f1;\n",
       "}\n",
       "#T_68489_row2_col2, #T_68489_row20_col4 {\n",
       "  background-color: #99c19d;\n",
       "  color: #000000;\n",
       "}\n",
       "#T_68489_row2_col3, #T_68489_row33_col5 {\n",
       "  background-color: #aacbae;\n",
       "  color: #000000;\n",
       "}\n",
       "#T_68489_row2_col4 {\n",
       "  background-color: #92bc96;\n",
       "  color: #000000;\n",
       "}\n",
       "#T_68489_row2_col5, #T_68489_row16_col8 {\n",
       "  background-color: #edd3db;\n",
       "  color: #000000;\n",
       "}\n",
       "#T_68489_row2_col6, #T_68489_row35_col9 {\n",
       "  background-color: #dd6f90;\n",
       "  color: #f1f1f1;\n",
       "}\n",
       "#T_68489_row2_col7 {\n",
       "  background-color: #d6e5d7;\n",
       "  color: #000000;\n",
       "}\n",
       "#T_68489_row2_col8 {\n",
       "  background-color: #89b78e;\n",
       "  color: #000000;\n",
       "}\n",
       "#T_68489_row2_col9 {\n",
       "  background-color: #3d8945;\n",
       "  color: #f1f1f1;\n",
       "}\n",
       "#T_68489_row3_col0, #T_68489_row5_col8, #T_68489_row8_col2, #T_68489_row34_col2 {\n",
       "  background-color: #7bae80;\n",
       "  color: #f1f1f1;\n",
       "}\n",
       "#T_68489_row3_col3, #T_68489_row11_col9, #T_68489_row23_col0 {\n",
       "  background-color: #88b68c;\n",
       "  color: #f1f1f1;\n",
       "}\n",
       "#T_68489_row3_col4 {\n",
       "  background-color: #77ac7c;\n",
       "  color: #f1f1f1;\n",
       "}\n",
       "#T_68489_row3_col5 {\n",
       "  background-color: #e4eee5;\n",
       "  color: #000000;\n",
       "}\n",
       "#T_68489_row3_col6 {\n",
       "  background-color: #e188a2;\n",
       "  color: #f1f1f1;\n",
       "}\n",
       "#T_68489_row3_col7, #T_68489_row31_col1 {\n",
       "  background-color: #c7dcc9;\n",
       "  color: #000000;\n",
       "}\n",
       "#T_68489_row3_col8, #T_68489_row11_col3, #T_68489_row23_col9 {\n",
       "  background-color: #81b286;\n",
       "  color: #f1f1f1;\n",
       "}\n",
       "#T_68489_row3_col9, #T_68489_row14_col3, #T_68489_row14_col5 {\n",
       "  background-color: #97bf9b;\n",
       "  color: #000000;\n",
       "}\n",
       "#T_68489_row4_col0, #T_68489_row34_col6 {\n",
       "  background-color: #f0e3e6;\n",
       "  color: #000000;\n",
       "}\n",
       "#T_68489_row4_col1, #T_68489_row32_col2 {\n",
       "  background-color: #56985d;\n",
       "  color: #f1f1f1;\n",
       "}\n",
       "#T_68489_row4_col2, #T_68489_row28_col9, #T_68489_row34_col9 {\n",
       "  background-color: #58995f;\n",
       "  color: #f1f1f1;\n",
       "}\n",
       "#T_68489_row4_col3, #T_68489_row4_col5, #T_68489_row10_col3 {\n",
       "  background-color: #a5c7a8;\n",
       "  color: #000000;\n",
       "}\n",
       "#T_68489_row4_col4, #T_68489_row32_col3, #T_68489_row33_col3 {\n",
       "  background-color: #6ea774;\n",
       "  color: #f1f1f1;\n",
       "}\n",
       "#T_68489_row4_col6 {\n",
       "  background-color: #e8b4c3;\n",
       "  color: #000000;\n",
       "}\n",
       "#T_68489_row4_col7, #T_68489_row15_col3 {\n",
       "  background-color: #c4dac6;\n",
       "  color: #000000;\n",
       "}\n",
       "#T_68489_row4_col8, #T_68489_row15_col5 {\n",
       "  background-color: #7fb184;\n",
       "  color: #f1f1f1;\n",
       "}\n",
       "#T_68489_row4_col9, #T_68489_row6_col1, #T_68489_row16_col5, #T_68489_row22_col9 {\n",
       "  background-color: #529659;\n",
       "  color: #f1f1f1;\n",
       "}\n",
       "#T_68489_row5_col0 {\n",
       "  background-color: #a3c7a7;\n",
       "  color: #000000;\n",
       "}\n",
       "#T_68489_row5_col1, #T_68489_row9_col1, #T_68489_row17_col6 {\n",
       "  background-color: #55975c;\n",
       "  color: #f1f1f1;\n",
       "}\n",
       "#T_68489_row5_col2, #T_68489_row15_col2 {\n",
       "  background-color: #5d9d64;\n",
       "  color: #f1f1f1;\n",
       "}\n",
       "#T_68489_row5_col3, #T_68489_row20_col8, #T_68489_row28_col5 {\n",
       "  background-color: #c8ddca;\n",
       "  color: #000000;\n",
       "}\n",
       "#T_68489_row5_col4, #T_68489_row18_col0 {\n",
       "  background-color: #448d4c;\n",
       "  color: #f1f1f1;\n",
       "}\n",
       "#T_68489_row5_col5, #T_68489_row8_col5, #T_68489_row10_col0 {\n",
       "  background-color: #f1e5e8;\n",
       "  color: #000000;\n",
       "}\n",
       "#T_68489_row5_col6 {\n",
       "  background-color: #dc688a;\n",
       "  color: #f1f1f1;\n",
       "}\n",
       "#T_68489_row5_col7 {\n",
       "  background-color: #bad4bc;\n",
       "  color: #000000;\n",
       "}\n",
       "#T_68489_row5_col9, #T_68489_row16_col2, #T_68489_row29_col6 {\n",
       "  background-color: #489050;\n",
       "  color: #f1f1f1;\n",
       "}\n",
       "#T_68489_row7_col1, #T_68489_row23_col6 {\n",
       "  background-color: #6aa470;\n",
       "  color: #f1f1f1;\n",
       "}\n",
       "#T_68489_row7_col3, #T_68489_row27_col1, #T_68489_row33_col8 {\n",
       "  background-color: #ebc5d0;\n",
       "  color: #000000;\n",
       "}\n",
       "#T_68489_row7_col6, #T_68489_row16_col7 {\n",
       "  background-color: #da5a80;\n",
       "  color: #f1f1f1;\n",
       "}\n",
       "#T_68489_row7_col9, #T_68489_row25_col9 {\n",
       "  background-color: #e9b8c6;\n",
       "  color: #000000;\n",
       "}\n",
       "#T_68489_row8_col0, #T_68489_row17_col8, #T_68489_row19_col1, #T_68489_row28_col1 {\n",
       "  background-color: #edcfd7;\n",
       "  color: #000000;\n",
       "}\n",
       "#T_68489_row8_col1 {\n",
       "  background-color: #6ca571;\n",
       "  color: #f1f1f1;\n",
       "}\n",
       "#T_68489_row8_col3, #T_68489_row35_col4 {\n",
       "  background-color: #c0d8c2;\n",
       "  color: #000000;\n",
       "}\n",
       "#T_68489_row8_col4, #T_68489_row22_col2 {\n",
       "  background-color: #eaf1ea;\n",
       "  color: #000000;\n",
       "}\n",
       "#T_68489_row8_col6, #T_68489_row21_col0 {\n",
       "  background-color: #d74973;\n",
       "  color: #f1f1f1;\n",
       "}\n",
       "#T_68489_row8_col7, #T_68489_row33_col7 {\n",
       "  background-color: #df7b98;\n",
       "  color: #f1f1f1;\n",
       "}\n",
       "#T_68489_row8_col8, #T_68489_row22_col8, #T_68489_row23_col8 {\n",
       "  background-color: #d0e2d2;\n",
       "  color: #000000;\n",
       "}\n",
       "#T_68489_row8_col9 {\n",
       "  background-color: #3e8a46;\n",
       "  color: #f1f1f1;\n",
       "}\n",
       "#T_68489_row9_col0, #T_68489_row21_col4 {\n",
       "  background-color: #dce9dd;\n",
       "  color: #000000;\n",
       "}\n",
       "#T_68489_row9_col2, #T_68489_row10_col2 {\n",
       "  background-color: #4b9252;\n",
       "  color: #f1f1f1;\n",
       "}\n",
       "#T_68489_row9_col3, #T_68489_row21_col8, #T_68489_row33_col0 {\n",
       "  background-color: #d5e4d6;\n",
       "  color: #000000;\n",
       "}\n",
       "#T_68489_row9_col4, #T_68489_row17_col3 {\n",
       "  background-color: #6da673;\n",
       "  color: #f1f1f1;\n",
       "}\n",
       "#T_68489_row9_col5, #T_68489_row11_col6, #T_68489_row32_col5 {\n",
       "  background-color: #9bc29f;\n",
       "  color: #000000;\n",
       "}\n",
       "#T_68489_row9_col6, #T_68489_row32_col7 {\n",
       "  background-color: #e18aa4;\n",
       "  color: #f1f1f1;\n",
       "}\n",
       "#T_68489_row9_col7 {\n",
       "  background-color: #dc6789;\n",
       "  color: #f1f1f1;\n",
       "}\n",
       "#T_68489_row9_col8 {\n",
       "  background-color: #d9e7da;\n",
       "  color: #000000;\n",
       "}\n",
       "#T_68489_row10_col1, #T_68489_row10_col9, #T_68489_row16_col9 {\n",
       "  background-color: #5b9b61;\n",
       "  color: #f1f1f1;\n",
       "}\n",
       "#T_68489_row10_col4 {\n",
       "  background-color: #9cc2a0;\n",
       "  color: #000000;\n",
       "}\n",
       "#T_68489_row10_col5, #T_68489_row20_col3, #T_68489_row32_col6 {\n",
       "  background-color: #7eb083;\n",
       "  color: #f1f1f1;\n",
       "}\n",
       "#T_68489_row10_col6, #T_68489_row26_col2 {\n",
       "  background-color: #f1eaec;\n",
       "  color: #000000;\n",
       "}\n",
       "#T_68489_row10_col7 {\n",
       "  background-color: #e185a0;\n",
       "  color: #f1f1f1;\n",
       "}\n",
       "#T_68489_row10_col8 {\n",
       "  background-color: #cee0cf;\n",
       "  color: #000000;\n",
       "}\n",
       "#T_68489_row11_col0 {\n",
       "  background-color: #8fba93;\n",
       "  color: #000000;\n",
       "}\n",
       "#T_68489_row11_col2 {\n",
       "  background-color: #3a8742;\n",
       "  color: #f1f1f1;\n",
       "}\n",
       "#T_68489_row11_col4, #T_68489_row17_col1, #T_68489_row23_col3, #T_68489_row29_col4 {\n",
       "  background-color: #609e67;\n",
       "  color: #f1f1f1;\n",
       "}\n",
       "#T_68489_row11_col5, #T_68489_row15_col6 {\n",
       "  background-color: #74aa7a;\n",
       "  color: #f1f1f1;\n",
       "}\n",
       "#T_68489_row11_col7 {\n",
       "  background-color: #db6386;\n",
       "  color: #f1f1f1;\n",
       "}\n",
       "#T_68489_row11_col8, #T_68489_row17_col9 {\n",
       "  background-color: #dde9de;\n",
       "  color: #000000;\n",
       "}\n",
       "#T_68489_row12_col0, #T_68489_row14_col9, #T_68489_row18_col3 {\n",
       "  background-color: #438c4a;\n",
       "  color: #f1f1f1;\n",
       "}\n",
       "#T_68489_row12_col1 {\n",
       "  background-color: #629f68;\n",
       "  color: #f1f1f1;\n",
       "}\n",
       "#T_68489_row13_col1, #T_68489_row21_col1 {\n",
       "  background-color: #eed7de;\n",
       "  color: #000000;\n",
       "}\n",
       "#T_68489_row13_col3, #T_68489_row19_col3, #T_68489_row25_col3, #T_68489_row26_col1 {\n",
       "  background-color: #f2eff0;\n",
       "  color: #000000;\n",
       "}\n",
       "#T_68489_row13_col5 {\n",
       "  background-color: #e07f9b;\n",
       "  color: #f1f1f1;\n",
       "}\n",
       "#T_68489_row13_col6, #T_68489_row21_col9 {\n",
       "  background-color: #a6c8a9;\n",
       "  color: #000000;\n",
       "}\n",
       "#T_68489_row14_col0 {\n",
       "  background-color: #f1ebed;\n",
       "  color: #000000;\n",
       "}\n",
       "#T_68489_row14_col1, #T_68489_row33_col1 {\n",
       "  background-color: #67a26d;\n",
       "  color: #f1f1f1;\n",
       "}\n",
       "#T_68489_row14_col2, #T_68489_row16_col6 {\n",
       "  background-color: #4a9151;\n",
       "  color: #f1f1f1;\n",
       "}\n",
       "#T_68489_row14_col4, #T_68489_row26_col3, #T_68489_row27_col6 {\n",
       "  background-color: #a8c9ab;\n",
       "  color: #000000;\n",
       "}\n",
       "#T_68489_row14_col6, #T_68489_row15_col4, #T_68489_row34_col1 {\n",
       "  background-color: #66a26c;\n",
       "  color: #f1f1f1;\n",
       "}\n",
       "#T_68489_row14_col7 {\n",
       "  background-color: #db6487;\n",
       "  color: #f1f1f1;\n",
       "}\n",
       "#T_68489_row14_col8 {\n",
       "  background-color: #efdce1;\n",
       "  color: #000000;\n",
       "}\n",
       "#T_68489_row15_col0 {\n",
       "  background-color: #c9decb;\n",
       "  color: #000000;\n",
       "}\n",
       "#T_68489_row15_col1, #T_68489_row28_col3 {\n",
       "  background-color: #8db992;\n",
       "  color: #000000;\n",
       "}\n",
       "#T_68489_row15_col7, #T_68489_row32_col4 {\n",
       "  background-color: #d74c75;\n",
       "  color: #f1f1f1;\n",
       "}\n",
       "#T_68489_row15_col8 {\n",
       "  background-color: #eccbd4;\n",
       "  color: #000000;\n",
       "}\n",
       "#T_68489_row16_col1, #T_68489_row17_col5, #T_68489_row32_col1 {\n",
       "  background-color: #63a069;\n",
       "  color: #f1f1f1;\n",
       "}\n",
       "#T_68489_row16_col3 {\n",
       "  background-color: #8bb88f;\n",
       "  color: #000000;\n",
       "}\n",
       "#T_68489_row16_col4, #T_68489_row23_col5 {\n",
       "  background-color: #5f9d65;\n",
       "  color: #f1f1f1;\n",
       "}\n",
       "#T_68489_row17_col0, #T_68489_row20_col9, #T_68489_row23_col4 {\n",
       "  background-color: #4f9456;\n",
       "  color: #f1f1f1;\n",
       "}\n",
       "#T_68489_row17_col2, #T_68489_row23_col2, #T_68489_row35_col2 {\n",
       "  background-color: #3c8844;\n",
       "  color: #f1f1f1;\n",
       "}\n",
       "#T_68489_row17_col4 {\n",
       "  background-color: #478f4e;\n",
       "  color: #f1f1f1;\n",
       "}\n",
       "#T_68489_row17_col7 {\n",
       "  background-color: #d8537a;\n",
       "  color: #f1f1f1;\n",
       "}\n",
       "#T_68489_row19_col5 {\n",
       "  background-color: #d6426e;\n",
       "  color: #f1f1f1;\n",
       "}\n",
       "#T_68489_row19_col6, #T_68489_row24_col1 {\n",
       "  background-color: #ebf2ec;\n",
       "  color: #000000;\n",
       "}\n",
       "#T_68489_row20_col2 {\n",
       "  background-color: #73a978;\n",
       "  color: #f1f1f1;\n",
       "}\n",
       "#T_68489_row20_col5 {\n",
       "  background-color: #82b387;\n",
       "  color: #f1f1f1;\n",
       "}\n",
       "#T_68489_row20_col6 {\n",
       "  background-color: #9ec3a1;\n",
       "  color: #000000;\n",
       "}\n",
       "#T_68489_row20_col7 {\n",
       "  background-color: #acccaf;\n",
       "  color: #000000;\n",
       "}\n",
       "#T_68489_row21_col2 {\n",
       "  background-color: #69a36f;\n",
       "  color: #f1f1f1;\n",
       "}\n",
       "#T_68489_row21_col3 {\n",
       "  background-color: #7caf82;\n",
       "  color: #f1f1f1;\n",
       "}\n",
       "#T_68489_row21_col5 {\n",
       "  background-color: #98c09c;\n",
       "  color: #000000;\n",
       "}\n",
       "#T_68489_row21_col6, #T_68489_row22_col7, #T_68489_row23_col7 {\n",
       "  background-color: #b3d0b6;\n",
       "  color: #000000;\n",
       "}\n",
       "#T_68489_row21_col7, #T_68489_row22_col6 {\n",
       "  background-color: #b8d3bb;\n",
       "  color: #000000;\n",
       "}\n",
       "#T_68489_row22_col1 {\n",
       "  background-color: #e59fb3;\n",
       "  color: #000000;\n",
       "}\n",
       "#T_68489_row22_col3 {\n",
       "  background-color: #95be99;\n",
       "  color: #000000;\n",
       "}\n",
       "#T_68489_row22_col4 {\n",
       "  background-color: #e28fa7;\n",
       "  color: #f1f1f1;\n",
       "}\n",
       "#T_68489_row22_col5, #T_68489_row27_col3 {\n",
       "  background-color: #bed7c0;\n",
       "  color: #000000;\n",
       "}\n",
       "#T_68489_row24_col3, #T_68489_row29_col5 {\n",
       "  background-color: #458e4d;\n",
       "  color: #f1f1f1;\n",
       "}\n",
       "#T_68489_row25_col1, #T_68489_row34_col5 {\n",
       "  background-color: #efdde2;\n",
       "  color: #000000;\n",
       "}\n",
       "#T_68489_row25_col5 {\n",
       "  background-color: #e0829e;\n",
       "  color: #f1f1f1;\n",
       "}\n",
       "#T_68489_row25_col6 {\n",
       "  background-color: #edcdd6;\n",
       "  color: #000000;\n",
       "}\n",
       "#T_68489_row26_col4 {\n",
       "  background-color: #e6a9bb;\n",
       "  color: #000000;\n",
       "}\n",
       "#T_68489_row26_col5 {\n",
       "  background-color: #cfe1d1;\n",
       "  color: #000000;\n",
       "}\n",
       "#T_68489_row26_col6, #T_68489_row28_col6 {\n",
       "  background-color: #cbdecd;\n",
       "  color: #000000;\n",
       "}\n",
       "#T_68489_row26_col7 {\n",
       "  background-color: #df7e9a;\n",
       "  color: #f1f1f1;\n",
       "}\n",
       "#T_68489_row26_col8 {\n",
       "  background-color: #d74872;\n",
       "  color: #f1f1f1;\n",
       "}\n",
       "#T_68489_row27_col2 {\n",
       "  background-color: #ebc4cf;\n",
       "  color: #000000;\n",
       "}\n",
       "#T_68489_row27_col5 {\n",
       "  background-color: #f0e0e4;\n",
       "  color: #000000;\n",
       "}\n",
       "#T_68489_row27_col7 {\n",
       "  background-color: #dc6b8c;\n",
       "  color: #f1f1f1;\n",
       "}\n",
       "#T_68489_row27_col8, #T_68489_row29_col8 {\n",
       "  background-color: #d6446f;\n",
       "  color: #f1f1f1;\n",
       "}\n",
       "#T_68489_row28_col0 {\n",
       "  background-color: #d53e6a;\n",
       "  color: #f1f1f1;\n",
       "}\n",
       "#T_68489_row28_col2 {\n",
       "  background-color: #f1e8eb;\n",
       "  color: #000000;\n",
       "}\n",
       "#T_68489_row28_col7 {\n",
       "  background-color: #e28ca5;\n",
       "  color: #f1f1f1;\n",
       "}\n",
       "#T_68489_row28_col8 {\n",
       "  background-color: #da5c81;\n",
       "  color: #f1f1f1;\n",
       "}\n",
       "#T_68489_row29_col0 {\n",
       "  background-color: #e0ebe1;\n",
       "  color: #000000;\n",
       "}\n",
       "#T_68489_row29_col3, #T_68489_row30_col1, #T_68489_row35_col0, #T_68489_row35_col1, #T_68489_row35_col5 {\n",
       "  background-color: #5c9c63;\n",
       "  color: #f1f1f1;\n",
       "}\n",
       "#T_68489_row29_col7 {\n",
       "  background-color: #de7292;\n",
       "  color: #f1f1f1;\n",
       "}\n",
       "#T_68489_row31_col5 {\n",
       "  background-color: #eabfcc;\n",
       "  color: #000000;\n",
       "}\n",
       "#T_68489_row31_col6 {\n",
       "  background-color: #e9bac7;\n",
       "  color: #000000;\n",
       "}\n",
       "#T_68489_row32_col0 {\n",
       "  background-color: #d53f6c;\n",
       "  color: #f1f1f1;\n",
       "}\n",
       "#T_68489_row32_col8 {\n",
       "  background-color: #edd0d8;\n",
       "  color: #000000;\n",
       "}\n",
       "#T_68489_row32_col9 {\n",
       "  background-color: #4c9254;\n",
       "  color: #f1f1f1;\n",
       "}\n",
       "#T_68489_row33_col2 {\n",
       "  background-color: #efdee3;\n",
       "  color: #000000;\n",
       "}\n",
       "#T_68489_row33_col6 {\n",
       "  background-color: #90bb95;\n",
       "  color: #000000;\n",
       "}\n",
       "#T_68489_row34_col0, #T_68489_row35_col7 {\n",
       "  background-color: #de7795;\n",
       "  color: #f1f1f1;\n",
       "}\n",
       "#T_68489_row34_col3 {\n",
       "  background-color: #84b388;\n",
       "  color: #f1f1f1;\n",
       "}\n",
       "#T_68489_row34_col4 {\n",
       "  background-color: #d74b74;\n",
       "  color: #f1f1f1;\n",
       "}\n",
       "#T_68489_row34_col7 {\n",
       "  background-color: #e394ab;\n",
       "  color: #f1f1f1;\n",
       "}\n",
       "#T_68489_row34_col8 {\n",
       "  background-color: #eed9df;\n",
       "  color: #000000;\n",
       "}\n",
       "#T_68489_row35_col8 {\n",
       "  background-color: #ebc6d1;\n",
       "  color: #000000;\n",
       "}\n",
       "</style>\n",
       "<table id=\"T_68489_\">\n",
       "  <thead>\n",
       "    <tr>\n",
       "      <th class=\"blank\" >&nbsp;</th>\n",
       "      <th class=\"blank level0\" >&nbsp;</th>\n",
       "      <th class=\"col_heading level0 col0\" >DS</th>\n",
       "      <th class=\"col_heading level0 col1\" >PS</th>\n",
       "      <th class=\"col_heading level0 col2\" >C-FID</th>\n",
       "      <th class=\"col_heading level0 col3\" >MDD</th>\n",
       "      <th class=\"col_heading level0 col4\" >ACD</th>\n",
       "      <th class=\"col_heading level0 col5\" >SD</th>\n",
       "      <th class=\"col_heading level0 col6\" >KD</th>\n",
       "      <th class=\"col_heading level0 col7\" >ED</th>\n",
       "      <th class=\"col_heading level0 col8\" >DTW</th>\n",
       "      <th class=\"col_heading level0 col9\" >Time</th>\n",
       "    </tr>\n",
       "    <tr>\n",
       "      <th class=\"index_name level0\" >Dataset</th>\n",
       "      <th class=\"index_name level1\" >Method</th>\n",
       "      <th class=\"blank col0\" >&nbsp;</th>\n",
       "      <th class=\"blank col1\" >&nbsp;</th>\n",
       "      <th class=\"blank col2\" >&nbsp;</th>\n",
       "      <th class=\"blank col3\" >&nbsp;</th>\n",
       "      <th class=\"blank col4\" >&nbsp;</th>\n",
       "      <th class=\"blank col5\" >&nbsp;</th>\n",
       "      <th class=\"blank col6\" >&nbsp;</th>\n",
       "      <th class=\"blank col7\" >&nbsp;</th>\n",
       "      <th class=\"blank col8\" >&nbsp;</th>\n",
       "      <th class=\"blank col9\" >&nbsp;</th>\n",
       "    </tr>\n",
       "  </thead>\n",
       "  <tbody>\n",
       "    <tr>\n",
       "      <th id=\"T_68489_level0_row0\" class=\"row_heading level0 row0\" rowspan=\"6\">D2</th>\n",
       "      <th id=\"T_68489_level1_row0\" class=\"row_heading level1 row0\" >JustCopy</th>\n",
       "      <td id=\"T_68489_row0_col0\" class=\"data row0 col0\" >0.010101</td>\n",
       "      <td id=\"T_68489_row0_col1\" class=\"data row0 col1\" >0.037720</td>\n",
       "      <td id=\"T_68489_row0_col2\" class=\"data row0 col2\" >-1.67e-12</td>\n",
       "      <td id=\"T_68489_row0_col3\" class=\"data row0 col3\" >0.000317</td>\n",
       "      <td id=\"T_68489_row0_col4\" class=\"data row0 col4\" >0.000000</td>\n",
       "      <td id=\"T_68489_row0_col5\" class=\"data row0 col5\" >0.000000</td>\n",
       "      <td id=\"T_68489_row0_col6\" class=\"data row0 col6\" >0.000000</td>\n",
       "      <td id=\"T_68489_row0_col7\" class=\"data row0 col7\" >0.00e+00</td>\n",
       "      <td id=\"T_68489_row0_col8\" class=\"data row0 col8\" >0.00e+00</td>\n",
       "      <td id=\"T_68489_row0_col9\" class=\"data row0 col9\" >0</td>\n",
       "    </tr>\n",
       "    <tr>\n",
       "      <th id=\"T_68489_level1_row1\" class=\"row_heading level1 row1\" >TTS-GAN</th>\n",
       "      <td id=\"T_68489_row1_col0\" class=\"data row1 col0\" >0.353788</td>\n",
       "      <td id=\"T_68489_row1_col1\" class=\"data row1 col1\" >0.543119</td>\n",
       "      <td id=\"T_68489_row1_col2\" class=\"data row1 col2\" >3.14e+17</td>\n",
       "      <td id=\"T_68489_row1_col3\" class=\"data row1 col3\" >1.003093</td>\n",
       "      <td id=\"T_68489_row1_col4\" class=\"data row1 col4\" >2.908140</td>\n",
       "      <td id=\"T_68489_row1_col5\" class=\"data row1 col5\" >1.346879</td>\n",
       "      <td id=\"T_68489_row1_col6\" class=\"data row1 col6\" >4.078087</td>\n",
       "      <td id=\"T_68489_row1_col7\" class=\"data row1 col7\" >2.06e+08</td>\n",
       "      <td id=\"T_68489_row1_col8\" class=\"data row1 col8\" >6.36e+08</td>\n",
       "      <td id=\"T_68489_row1_col9\" class=\"data row1 col9\" >646</td>\n",
       "    </tr>\n",
       "    <tr>\n",
       "      <th id=\"T_68489_level1_row2\" class=\"row_heading level1 row2\" >Time-Transformer</th>\n",
       "      <td id=\"T_68489_row2_col0\" class=\"data row2 col0\" >0.324495</td>\n",
       "      <td id=\"T_68489_row2_col1\" class=\"data row2 col1\" >0.085745</td>\n",
       "      <td id=\"T_68489_row2_col2\" class=\"data row2 col2\" >2.66e-01</td>\n",
       "      <td id=\"T_68489_row2_col3\" class=\"data row2 col3\" >0.629389</td>\n",
       "      <td id=\"T_68489_row2_col4\" class=\"data row2 col4\" >0.246590</td>\n",
       "      <td id=\"T_68489_row2_col5\" class=\"data row2 col5\" >0.582419</td>\n",
       "      <td id=\"T_68489_row2_col6\" class=\"data row2 col6\" >2.577668</td>\n",
       "      <td id=\"T_68489_row2_col7\" class=\"data row2 col7\" >1.31e+00</td>\n",
       "      <td id=\"T_68489_row2_col8\" class=\"data row2 col8\" >3.38e+00</td>\n",
       "      <td id=\"T_68489_row2_col9\" class=\"data row2 col9\" >13</td>\n",
       "    </tr>\n",
       "    <tr>\n",
       "      <th id=\"T_68489_level1_row3\" class=\"row_heading level1 row3\" >TimeGAN</th>\n",
       "      <td id=\"T_68489_row3_col0\" class=\"data row3 col0\" >0.093434</td>\n",
       "      <td id=\"T_68489_row3_col1\" class=\"data row3 col1\" >0.037907</td>\n",
       "      <td id=\"T_68489_row3_col2\" class=\"data row3 col2\" >2.01e-02</td>\n",
       "      <td id=\"T_68489_row3_col3\" class=\"data row3 col3\" >0.443126</td>\n",
       "      <td id=\"T_68489_row3_col4\" class=\"data row3 col4\" >0.174772</td>\n",
       "      <td id=\"T_68489_row3_col5\" class=\"data row3 col5\" >0.472857</td>\n",
       "      <td id=\"T_68489_row3_col6\" class=\"data row3 col6\" >2.370855</td>\n",
       "      <td id=\"T_68489_row3_col7\" class=\"data row3 col7\" >1.18e+00</td>\n",
       "      <td id=\"T_68489_row3_col8\" class=\"data row3 col8\" >3.05e+00</td>\n",
       "      <td id=\"T_68489_row3_col9\" class=\"data row3 col9\" >259</td>\n",
       "    </tr>\n",
       "    <tr>\n",
       "      <th id=\"T_68489_level1_row4\" class=\"row_heading level1 row4\" >TimeVQVAE</th>\n",
       "      <td id=\"T_68489_row4_col0\" class=\"data row4 col0\" >0.271212</td>\n",
       "      <td id=\"T_68489_row4_col1\" class=\"data row4 col1\" >0.042083</td>\n",
       "      <td id=\"T_68489_row4_col2\" class=\"data row4 col2\" >8.61e-02</td>\n",
       "      <td id=\"T_68489_row4_col3\" class=\"data row4 col3\" >0.600689</td>\n",
       "      <td id=\"T_68489_row4_col4\" class=\"data row4 col4\" >0.151148</td>\n",
       "      <td id=\"T_68489_row4_col5\" class=\"data row4 col5\" >0.300332</td>\n",
       "      <td id=\"T_68489_row4_col6\" class=\"data row4 col6\" >2.007588</td>\n",
       "      <td id=\"T_68489_row4_col7\" class=\"data row4 col7\" >1.16e+00</td>\n",
       "      <td id=\"T_68489_row4_col8\" class=\"data row4 col8\" >2.99e+00</td>\n",
       "      <td id=\"T_68489_row4_col9\" class=\"data row4 col9\" >73</td>\n",
       "    </tr>\n",
       "    <tr>\n",
       "      <th id=\"T_68489_level1_row5\" class=\"row_heading level1 row5\" >TransFusion</th>\n",
       "      <td id=\"T_68489_row5_col0\" class=\"data row5 col0\" >0.146970</td>\n",
       "      <td id=\"T_68489_row5_col1\" class=\"data row5 col1\" >0.039753</td>\n",
       "      <td id=\"T_68489_row5_col2\" class=\"data row5 col2\" >1.03e-01</td>\n",
       "      <td id=\"T_68489_row5_col3\" class=\"data row5 col3\" >0.793641</td>\n",
       "      <td id=\"T_68489_row5_col4\" class=\"data row5 col4\" >0.033649</td>\n",
       "      <td id=\"T_68489_row5_col5\" class=\"data row5 col5\" >0.533438</td>\n",
       "      <td id=\"T_68489_row5_col6\" class=\"data row5 col6\" >2.629961</td>\n",
       "      <td id=\"T_68489_row5_col7\" class=\"data row5 col7\" >1.07e+00</td>\n",
       "      <td id=\"T_68489_row5_col8\" class=\"data row5 col8\" >2.77e+00</td>\n",
       "      <td id=\"T_68489_row5_col9\" class=\"data row5 col9\" >43</td>\n",
       "    </tr>\n",
       "    <tr>\n",
       "      <th id=\"T_68489_level0_row6\" class=\"row_heading level0 row6\" rowspan=\"6\">D3</th>\n",
       "      <th id=\"T_68489_level1_row6\" class=\"row_heading level1 row6\" >JustCopy</th>\n",
       "      <td id=\"T_68489_row6_col0\" class=\"data row6 col0\" >0.010140</td>\n",
       "      <td id=\"T_68489_row6_col1\" class=\"data row6 col1\" >0.036687</td>\n",
       "      <td id=\"T_68489_row6_col2\" class=\"data row6 col2\" >-2.12e-12</td>\n",
       "      <td id=\"T_68489_row6_col3\" class=\"data row6 col3\" >0.000282</td>\n",
       "      <td id=\"T_68489_row6_col4\" class=\"data row6 col4\" >0.000000</td>\n",
       "      <td id=\"T_68489_row6_col5\" class=\"data row6 col5\" >0.000000</td>\n",
       "      <td id=\"T_68489_row6_col6\" class=\"data row6 col6\" >0.000000</td>\n",
       "      <td id=\"T_68489_row6_col7\" class=\"data row6 col7\" >0.00e+00</td>\n",
       "      <td id=\"T_68489_row6_col8\" class=\"data row6 col8\" >0.00e+00</td>\n",
       "      <td id=\"T_68489_row6_col9\" class=\"data row6 col9\" >0</td>\n",
       "    </tr>\n",
       "    <tr>\n",
       "      <th id=\"T_68489_level1_row7\" class=\"row_heading level1 row7\" >TTS-GAN</th>\n",
       "      <td id=\"T_68489_row7_col0\" class=\"data row7 col0\" >0.500000</td>\n",
       "      <td id=\"T_68489_row7_col1\" class=\"data row7 col1\" >0.070101</td>\n",
       "      <td id=\"T_68489_row7_col2\" class=\"data row7 col2\" >6.62e+00</td>\n",
       "      <td id=\"T_68489_row7_col3\" class=\"data row7 col3\" >1.249867</td>\n",
       "      <td id=\"T_68489_row7_col4\" class=\"data row7 col4\" >7.399600</td>\n",
       "      <td id=\"T_68489_row7_col5\" class=\"data row7 col5\" >1.411439</td>\n",
       "      <td id=\"T_68489_row7_col6\" class=\"data row7 col6\" >2.743262</td>\n",
       "      <td id=\"T_68489_row7_col7\" class=\"data row7 col7\" >7.81e+00</td>\n",
       "      <td id=\"T_68489_row7_col8\" class=\"data row7 col8\" >1.96e+01</td>\n",
       "      <td id=\"T_68489_row7_col9\" class=\"data row7 col9\" >660</td>\n",
       "    </tr>\n",
       "    <tr>\n",
       "      <th id=\"T_68489_level1_row8\" class=\"row_heading level1 row8\" >Time-Transformer</th>\n",
       "      <td id=\"T_68489_row8_col0\" class=\"data row8 col0\" >0.297712</td>\n",
       "      <td id=\"T_68489_row8_col1\" class=\"data row8 col1\" >0.071347</td>\n",
       "      <td id=\"T_68489_row8_col2\" class=\"data row8 col2\" >1.85e-01</td>\n",
       "      <td id=\"T_68489_row8_col3\" class=\"data row8 col3\" >0.747137</td>\n",
       "      <td id=\"T_68489_row8_col4\" class=\"data row8 col4\" >0.489822</td>\n",
       "      <td id=\"T_68489_row8_col5\" class=\"data row8 col5\" >0.532613</td>\n",
       "      <td id=\"T_68489_row8_col6\" class=\"data row8 col6\" >2.882850</td>\n",
       "      <td id=\"T_68489_row8_col7\" class=\"data row8 col7\" >2.48e+00</td>\n",
       "      <td id=\"T_68489_row8_col8\" class=\"data row8 col8\" >6.30e+00</td>\n",
       "      <td id=\"T_68489_row8_col9\" class=\"data row8 col9\" >16</td>\n",
       "    </tr>\n",
       "    <tr>\n",
       "      <th id=\"T_68489_level1_row9\" class=\"row_heading level1 row9\" >TimeGAN</th>\n",
       "      <td id=\"T_68489_row9_col0\" class=\"data row9 col0\" >0.224909</td>\n",
       "      <td id=\"T_68489_row9_col1\" class=\"data row9 col1\" >0.039703</td>\n",
       "      <td id=\"T_68489_row9_col2\" class=\"data row9 col2\" >5.42e-02</td>\n",
       "      <td id=\"T_68489_row9_col3\" class=\"data row9 col3\" >0.864601</td>\n",
       "      <td id=\"T_68489_row9_col4\" class=\"data row9 col4\" >0.144977</td>\n",
       "      <td id=\"T_68489_row9_col5\" class=\"data row9 col5\" >0.272758</td>\n",
       "      <td id=\"T_68489_row9_col6\" class=\"data row9 col6\" >2.354675</td>\n",
       "      <td id=\"T_68489_row9_col7\" class=\"data row9 col7\" >2.64e+00</td>\n",
       "      <td id=\"T_68489_row9_col8\" class=\"data row9 col8\" >6.67e+00</td>\n",
       "      <td id=\"T_68489_row9_col9\" class=\"data row9 col9\" >1373</td>\n",
       "    </tr>\n",
       "    <tr>\n",
       "      <th id=\"T_68489_level1_row10\" class=\"row_heading level1 row10\" >TimeVQVAE</th>\n",
       "      <td id=\"T_68489_row10_col0\" class=\"data row10 col0\" >0.265731</td>\n",
       "      <td id=\"T_68489_row10_col1\" class=\"data row10 col1\" >0.048197</td>\n",
       "      <td id=\"T_68489_row10_col2\" class=\"data row10 col2\" >5.18e-02</td>\n",
       "      <td id=\"T_68489_row10_col3\" class=\"data row10 col3\" >0.594377</td>\n",
       "      <td id=\"T_68489_row10_col4\" class=\"data row10 col4\" >0.274909</td>\n",
       "      <td id=\"T_68489_row10_col5\" class=\"data row10 col5\" >0.193429</td>\n",
       "      <td id=\"T_68489_row10_col6\" class=\"data row10 col6\" >1.562584</td>\n",
       "      <td id=\"T_68489_row10_col7\" class=\"data row10 col7\" >2.40e+00</td>\n",
       "      <td id=\"T_68489_row10_col8\" class=\"data row10 col8\" >6.16e+00</td>\n",
       "      <td id=\"T_68489_row10_col9\" class=\"data row10 col9\" >94</td>\n",
       "    </tr>\n",
       "    <tr>\n",
       "      <th id=\"T_68489_level1_row11\" class=\"row_heading level1 row11\" >TransFusion</th>\n",
       "      <td id=\"T_68489_row11_col0\" class=\"data row11 col0\" >0.119345</td>\n",
       "      <td id=\"T_68489_row11_col1\" class=\"data row11 col1\" >0.037827</td>\n",
       "      <td id=\"T_68489_row11_col2\" class=\"data row11 col2\" >5.48e-03</td>\n",
       "      <td id=\"T_68489_row11_col3\" class=\"data row11 col3\" >0.404968</td>\n",
       "      <td id=\"T_68489_row11_col4\" class=\"data row11 col4\" >0.113027</td>\n",
       "      <td id=\"T_68489_row11_col5\" class=\"data row11 col5\" >0.165800</td>\n",
       "      <td id=\"T_68489_row11_col6\" class=\"data row11 col6\" >0.810759</td>\n",
       "      <td id=\"T_68489_row11_col7\" class=\"data row11 col7\" >2.68e+00</td>\n",
       "      <td id=\"T_68489_row11_col8\" class=\"data row11 col8\" >6.83e+00</td>\n",
       "      <td id=\"T_68489_row11_col9\" class=\"data row11 col9\" >222</td>\n",
       "    </tr>\n",
       "    <tr>\n",
       "      <th id=\"T_68489_level0_row12\" class=\"row_heading level0 row12\" rowspan=\"6\">D4</th>\n",
       "      <th id=\"T_68489_level1_row12\" class=\"row_heading level1 row12\" >JustCopy</th>\n",
       "      <td id=\"T_68489_row12_col0\" class=\"data row12 col0\" >0.013775</td>\n",
       "      <td id=\"T_68489_row12_col1\" class=\"data row12 col1\" >0.057060</td>\n",
       "      <td id=\"T_68489_row12_col2\" class=\"data row12 col2\" >-2.43e-13</td>\n",
       "      <td id=\"T_68489_row12_col3\" class=\"data row12 col3\" >0.000264</td>\n",
       "      <td id=\"T_68489_row12_col4\" class=\"data row12 col4\" >0.000000</td>\n",
       "      <td id=\"T_68489_row12_col5\" class=\"data row12 col5\" >0.000000</td>\n",
       "      <td id=\"T_68489_row12_col6\" class=\"data row12 col6\" >0.000000</td>\n",
       "      <td id=\"T_68489_row12_col7\" class=\"data row12 col7\" >0.00e+00</td>\n",
       "      <td id=\"T_68489_row12_col8\" class=\"data row12 col8\" >0.00e+00</td>\n",
       "      <td id=\"T_68489_row12_col9\" class=\"data row12 col9\" >0</td>\n",
       "    </tr>\n",
       "    <tr>\n",
       "      <th id=\"T_68489_level1_row13\" class=\"row_heading level1 row13\" >TTS-GAN</th>\n",
       "      <td id=\"T_68489_row13_col0\" class=\"data row13 col0\" >0.499752</td>\n",
       "      <td id=\"T_68489_row13_col1\" class=\"data row13 col1\" >0.287067</td>\n",
       "      <td id=\"T_68489_row13_col2\" class=\"data row13 col2\" >7.58e+14</td>\n",
       "      <td id=\"T_68489_row13_col3\" class=\"data row13 col3\" >1.012819</td>\n",
       "      <td id=\"T_68489_row13_col4\" class=\"data row13 col4\" >9.318710</td>\n",
       "      <td id=\"T_68489_row13_col5\" class=\"data row13 col5\" >0.815356</td>\n",
       "      <td id=\"T_68489_row13_col6\" class=\"data row13 col6\" >0.909358</td>\n",
       "      <td id=\"T_68489_row13_col7\" class=\"data row13 col7\" >4.34e+07</td>\n",
       "      <td id=\"T_68489_row13_col8\" class=\"data row13 col8\" >1.32e+08</td>\n",
       "      <td id=\"T_68489_row13_col9\" class=\"data row13 col9\" >649</td>\n",
       "    </tr>\n",
       "    <tr>\n",
       "      <th id=\"T_68489_level1_row14\" class=\"row_heading level1 row14\" >Time-Transformer</th>\n",
       "      <td id=\"T_68489_row14_col0\" class=\"data row14 col0\" >0.259494</td>\n",
       "      <td id=\"T_68489_row14_col1\" class=\"data row14 col1\" >0.065874</td>\n",
       "      <td id=\"T_68489_row14_col2\" class=\"data row14 col2\" >5.00e-02</td>\n",
       "      <td id=\"T_68489_row14_col3\" class=\"data row14 col3\" >0.520660</td>\n",
       "      <td id=\"T_68489_row14_col4\" class=\"data row14 col4\" >0.306909</td>\n",
       "      <td id=\"T_68489_row14_col5\" class=\"data row14 col5\" >0.260529</td>\n",
       "      <td id=\"T_68489_row14_col6\" class=\"data row14 col6\" >0.377320</td>\n",
       "      <td id=\"T_68489_row14_col7\" class=\"data row14 col7\" >2.67e+00</td>\n",
       "      <td id=\"T_68489_row14_col8\" class=\"data row14 col8\" >8.42e+00</td>\n",
       "      <td id=\"T_68489_row14_col9\" class=\"data row14 col9\" >28</td>\n",
       "    </tr>\n",
       "    <tr>\n",
       "      <th id=\"T_68489_level1_row15\" class=\"row_heading level1 row15\" >TimeGAN</th>\n",
       "      <td id=\"T_68489_row15_col0\" class=\"data row15 col0\" >0.200174</td>\n",
       "      <td id=\"T_68489_row15_col1\" class=\"data row15 col1\" >0.118733</td>\n",
       "      <td id=\"T_68489_row15_col2\" class=\"data row15 col2\" >1.05e-01</td>\n",
       "      <td id=\"T_68489_row15_col3\" class=\"data row15 col3\" >0.769964</td>\n",
       "      <td id=\"T_68489_row15_col4\" class=\"data row15 col4\" >0.127946</td>\n",
       "      <td id=\"T_68489_row15_col5\" class=\"data row15 col5\" >0.197324</td>\n",
       "      <td id=\"T_68489_row15_col6\" class=\"data row15 col6\" >0.497502</td>\n",
       "      <td id=\"T_68489_row15_col7\" class=\"data row15 col7\" >2.87e+00</td>\n",
       "      <td id=\"T_68489_row15_col8\" class=\"data row15 col8\" >9.10e+00</td>\n",
       "      <td id=\"T_68489_row15_col9\" class=\"data row15 col9\" >1195</td>\n",
       "    </tr>\n",
       "    <tr>\n",
       "      <th id=\"T_68489_level1_row16\" class=\"row_heading level1 row16\" >TimeVQVAE</th>\n",
       "      <td id=\"T_68489_row16_col0\" class=\"data row16 col0\" >0.322909</td>\n",
       "      <td id=\"T_68489_row16_col1\" class=\"data row16 col1\" >0.060146</td>\n",
       "      <td id=\"T_68489_row16_col2\" class=\"data row16 col2\" >4.46e-02</td>\n",
       "      <td id=\"T_68489_row16_col3\" class=\"data row16 col3\" >0.459550</td>\n",
       "      <td id=\"T_68489_row16_col4\" class=\"data row16 col4\" >0.106914</td>\n",
       "      <td id=\"T_68489_row16_col5\" class=\"data row16 col5\" >0.072327</td>\n",
       "      <td id=\"T_68489_row16_col6\" class=\"data row16 col6\" >0.151760</td>\n",
       "      <td id=\"T_68489_row16_col7\" class=\"data row16 col7\" >2.75e+00</td>\n",
       "      <td id=\"T_68489_row16_col8\" class=\"data row16 col8\" >8.74e+00</td>\n",
       "      <td id=\"T_68489_row16_col9\" class=\"data row16 col9\" >94</td>\n",
       "    </tr>\n",
       "    <tr>\n",
       "      <th id=\"T_68489_level1_row17\" class=\"row_heading level1 row17\" >TransFusion</th>\n",
       "      <td id=\"T_68489_row17_col0\" class=\"data row17 col0\" >0.031397</td>\n",
       "      <td id=\"T_68489_row17_col1\" class=\"data row17 col1\" >0.054869</td>\n",
       "      <td id=\"T_68489_row17_col2\" class=\"data row17 col2\" >1.04e-02</td>\n",
       "      <td id=\"T_68489_row17_col3\" class=\"data row17 col3\" >0.292279</td>\n",
       "      <td id=\"T_68489_row17_col4\" class=\"data row17 col4\" >0.040239</td>\n",
       "      <td id=\"T_68489_row17_col5\" class=\"data row17 col5\" >0.118134</td>\n",
       "      <td id=\"T_68489_row17_col6\" class=\"data row17 col6\" >0.243031</td>\n",
       "      <td id=\"T_68489_row17_col7\" class=\"data row17 col7\" >2.81e+00</td>\n",
       "      <td id=\"T_68489_row17_col8\" class=\"data row17 col8\" >8.95e+00</td>\n",
       "      <td id=\"T_68489_row17_col9\" class=\"data row17 col9\" >454</td>\n",
       "    </tr>\n",
       "    <tr>\n",
       "      <th id=\"T_68489_level0_row18\" class=\"row_heading level0 row18\" rowspan=\"6\">D5</th>\n",
       "      <th id=\"T_68489_level1_row18\" class=\"row_heading level1 row18\" >JustCopy</th>\n",
       "      <td id=\"T_68489_row18_col0\" class=\"data row18 col0\" >0.016671</td>\n",
       "      <td id=\"T_68489_row18_col1\" class=\"data row18 col1\" >0.250396</td>\n",
       "      <td id=\"T_68489_row18_col2\" class=\"data row18 col2\" >-2.42e-15</td>\n",
       "      <td id=\"T_68489_row18_col3\" class=\"data row18 col3\" >0.060657</td>\n",
       "      <td id=\"T_68489_row18_col4\" class=\"data row18 col4\" >0.000000</td>\n",
       "      <td id=\"T_68489_row18_col5\" class=\"data row18 col5\" >0.000000</td>\n",
       "      <td id=\"T_68489_row18_col6\" class=\"data row18 col6\" >0.000000</td>\n",
       "      <td id=\"T_68489_row18_col7\" class=\"data row18 col7\" >0.00e+00</td>\n",
       "      <td id=\"T_68489_row18_col8\" class=\"data row18 col8\" >0.00e+00</td>\n",
       "      <td id=\"T_68489_row18_col9\" class=\"data row18 col9\" >0</td>\n",
       "    </tr>\n",
       "    <tr>\n",
       "      <th id=\"T_68489_level1_row19\" class=\"row_heading level1 row19\" >TTS-GAN</th>\n",
       "      <td id=\"T_68489_row19_col0\" class=\"data row19 col0\" >0.500000</td>\n",
       "      <td id=\"T_68489_row19_col1\" class=\"data row19 col1\" >0.298715</td>\n",
       "      <td id=\"T_68489_row19_col2\" class=\"data row19 col2\" >4.80e+09</td>\n",
       "      <td id=\"T_68489_row19_col3\" class=\"data row19 col3\" >1.010239</td>\n",
       "      <td id=\"T_68489_row19_col4\" class=\"data row19 col4\" >5.069930</td>\n",
       "      <td id=\"T_68489_row19_col5\" class=\"data row19 col5\" >0.982785</td>\n",
       "      <td id=\"T_68489_row19_col6\" class=\"data row19 col6\" >1.486653</td>\n",
       "      <td id=\"T_68489_row19_col7\" class=\"data row19 col7\" >2.58e+04</td>\n",
       "      <td id=\"T_68489_row19_col8\" class=\"data row19 col8\" >1.53e+05</td>\n",
       "      <td id=\"T_68489_row19_col9\" class=\"data row19 col9\" >649</td>\n",
       "    </tr>\n",
       "    <tr>\n",
       "      <th id=\"T_68489_level1_row20\" class=\"row_heading level1 row20\" >Time-Transformer</th>\n",
       "      <td id=\"T_68489_row20_col0\" class=\"data row20 col0\" >0.499765</td>\n",
       "      <td id=\"T_68489_row20_col1\" class=\"data row20 col1\" >0.325050</td>\n",
       "      <td id=\"T_68489_row20_col2\" class=\"data row20 col2\" >1.62e-01</td>\n",
       "      <td id=\"T_68489_row20_col3\" class=\"data row20 col3\" >0.388136</td>\n",
       "      <td id=\"T_68489_row20_col4\" class=\"data row20 col4\" >0.266521</td>\n",
       "      <td id=\"T_68489_row20_col5\" class=\"data row20 col5\" >0.206538</td>\n",
       "      <td id=\"T_68489_row20_col6\" class=\"data row20 col6\" >0.839459</td>\n",
       "      <td id=\"T_68489_row20_col7\" class=\"data row20 col7\" >9.50e-01</td>\n",
       "      <td id=\"T_68489_row20_col8\" class=\"data row20 col8\" >5.98e+00</td>\n",
       "      <td id=\"T_68489_row20_col9\" class=\"data row20 col9\" >66</td>\n",
       "    </tr>\n",
       "    <tr>\n",
       "      <th id=\"T_68489_level1_row21\" class=\"row_heading level1 row21\" >TimeGAN</th>\n",
       "      <td id=\"T_68489_row21_col0\" class=\"data row21 col0\" >0.482014</td>\n",
       "      <td id=\"T_68489_row21_col1\" class=\"data row21 col1\" >0.287032</td>\n",
       "      <td id=\"T_68489_row21_col2\" class=\"data row21 col2\" >1.35e-01</td>\n",
       "      <td id=\"T_68489_row21_col3\" class=\"data row21 col3\" >0.381832</td>\n",
       "      <td id=\"T_68489_row21_col4\" class=\"data row21 col4\" >0.452620</td>\n",
       "      <td id=\"T_68489_row21_col5\" class=\"data row21 col5\" >0.265038</td>\n",
       "      <td id=\"T_68489_row21_col6\" class=\"data row21 col6\" >1.012876</td>\n",
       "      <td id=\"T_68489_row21_col7\" class=\"data row21 col7\" >1.06e+00</td>\n",
       "      <td id=\"T_68489_row21_col8\" class=\"data row21 col8\" >6.46e+00</td>\n",
       "      <td id=\"T_68489_row21_col9\" class=\"data row21 col9\" >304</td>\n",
       "    </tr>\n",
       "    <tr>\n",
       "      <th id=\"T_68489_level1_row22\" class=\"row_heading level1 row22\" >TimeVQVAE</th>\n",
       "      <td id=\"T_68489_row22_col0\" class=\"data row22 col0\" >0.499483</td>\n",
       "      <td id=\"T_68489_row22_col1\" class=\"data row22 col1\" >0.364224</td>\n",
       "      <td id=\"T_68489_row22_col2\" class=\"data row22 col2\" >4.91e-01</td>\n",
       "      <td id=\"T_68489_row22_col3\" class=\"data row22 col3\" >0.511359</td>\n",
       "      <td id=\"T_68489_row22_col4\" class=\"data row22 col4\" >0.772234</td>\n",
       "      <td id=\"T_68489_row22_col5\" class=\"data row22 col5\" >0.370737</td>\n",
       "      <td id=\"T_68489_row22_col6\" class=\"data row22 col6\" >1.058068</td>\n",
       "      <td id=\"T_68489_row22_col7\" class=\"data row22 col7\" >1.01e+00</td>\n",
       "      <td id=\"T_68489_row22_col8\" class=\"data row22 col8\" >6.31e+00</td>\n",
       "      <td id=\"T_68489_row22_col9\" class=\"data row22 col9\" >74</td>\n",
       "    </tr>\n",
       "    <tr>\n",
       "      <th id=\"T_68489_level1_row23\" class=\"row_heading level1 row23\" >TransFusion</th>\n",
       "      <td id=\"T_68489_row23_col0\" class=\"data row23 col0\" >0.110031</td>\n",
       "      <td id=\"T_68489_row23_col1\" class=\"data row23 col1\" >0.250831</td>\n",
       "      <td id=\"T_68489_row23_col2\" class=\"data row23 col2\" >1.03e-02</td>\n",
       "      <td id=\"T_68489_row23_col3\" class=\"data row23 col3\" >0.224214</td>\n",
       "      <td id=\"T_68489_row23_col4\" class=\"data row23 col4\" >0.063335</td>\n",
       "      <td id=\"T_68489_row23_col5\" class=\"data row23 col5\" >0.106038</td>\n",
       "      <td id=\"T_68489_row23_col6\" class=\"data row23 col6\" >0.421438</td>\n",
       "      <td id=\"T_68489_row23_col7\" class=\"data row23 col7\" >1.01e+00</td>\n",
       "      <td id=\"T_68489_row23_col8\" class=\"data row23 col8\" >6.28e+00</td>\n",
       "      <td id=\"T_68489_row23_col9\" class=\"data row23 col9\" >201</td>\n",
       "    </tr>\n",
       "    <tr>\n",
       "      <th id=\"T_68489_level0_row24\" class=\"row_heading level0 row24\" rowspan=\"6\">D6</th>\n",
       "      <th id=\"T_68489_level1_row24\" class=\"row_heading level1 row24\" >JustCopy</th>\n",
       "      <td id=\"T_68489_row24_col0\" class=\"data row24 col0\" >0.009915</td>\n",
       "      <td id=\"T_68489_row24_col1\" class=\"data row24 col1\" >0.247743</td>\n",
       "      <td id=\"T_68489_row24_col2\" class=\"data row24 col2\" >-3.29e-15</td>\n",
       "      <td id=\"T_68489_row24_col3\" class=\"data row24 col3\" >0.071081</td>\n",
       "      <td id=\"T_68489_row24_col4\" class=\"data row24 col4\" >0.000000</td>\n",
       "      <td id=\"T_68489_row24_col5\" class=\"data row24 col5\" >0.000000</td>\n",
       "      <td id=\"T_68489_row24_col6\" class=\"data row24 col6\" >0.000000</td>\n",
       "      <td id=\"T_68489_row24_col7\" class=\"data row24 col7\" >0.00e+00</td>\n",
       "      <td id=\"T_68489_row24_col8\" class=\"data row24 col8\" >0.00e+00</td>\n",
       "      <td id=\"T_68489_row24_col9\" class=\"data row24 col9\" >0</td>\n",
       "    </tr>\n",
       "    <tr>\n",
       "      <th id=\"T_68489_level1_row25\" class=\"row_heading level1 row25\" >TTS-GAN</th>\n",
       "      <td id=\"T_68489_row25_col0\" class=\"data row25 col0\" >0.500000</td>\n",
       "      <td id=\"T_68489_row25_col1\" class=\"data row25 col1\" >0.277391</td>\n",
       "      <td id=\"T_68489_row25_col2\" class=\"data row25 col2\" >7.64e+13</td>\n",
       "      <td id=\"T_68489_row25_col3\" class=\"data row25 col3\" >1.014439</td>\n",
       "      <td id=\"T_68489_row25_col4\" class=\"data row25 col4\" >7.956827</td>\n",
       "      <td id=\"T_68489_row25_col5\" class=\"data row25 col5\" >0.808035</td>\n",
       "      <td id=\"T_68489_row25_col6\" class=\"data row25 col6\" >1.802976</td>\n",
       "      <td id=\"T_68489_row25_col7\" class=\"data row25 col7\" >8.30e+06</td>\n",
       "      <td id=\"T_68489_row25_col8\" class=\"data row25 col8\" >5.10e+07</td>\n",
       "      <td id=\"T_68489_row25_col9\" class=\"data row25 col9\" >660</td>\n",
       "    </tr>\n",
       "    <tr>\n",
       "      <th id=\"T_68489_level1_row26\" class=\"row_heading level1 row26\" >Time-Transformer</th>\n",
       "      <td id=\"T_68489_row26_col0\" class=\"data row26 col0\" >0.500000</td>\n",
       "      <td id=\"T_68489_row26_col1\" class=\"data row26 col1\" >0.252108</td>\n",
       "      <td id=\"T_68489_row26_col2\" class=\"data row26 col2\" >5.23e-01</td>\n",
       "      <td id=\"T_68489_row26_col3\" class=\"data row26 col3\" >0.614602</td>\n",
       "      <td id=\"T_68489_row26_col4\" class=\"data row26 col4\" >0.701027</td>\n",
       "      <td id=\"T_68489_row26_col5\" class=\"data row26 col5\" >0.417911</td>\n",
       "      <td id=\"T_68489_row26_col6\" class=\"data row26 col6\" >1.215788</td>\n",
       "      <td id=\"T_68489_row26_col7\" class=\"data row26 col7\" >2.45e+00</td>\n",
       "      <td id=\"T_68489_row26_col8\" class=\"data row26 col8\" >1.45e+01</td>\n",
       "      <td id=\"T_68489_row26_col9\" class=\"data row26 col9\" >77</td>\n",
       "    </tr>\n",
       "    <tr>\n",
       "      <th id=\"T_68489_level1_row27\" class=\"row_heading level1 row27\" >TimeGAN</th>\n",
       "      <td id=\"T_68489_row27_col0\" class=\"data row27 col0\" >0.500000</td>\n",
       "      <td id=\"T_68489_row27_col1\" class=\"data row27 col1\" >0.311891</td>\n",
       "      <td id=\"T_68489_row27_col2\" class=\"data row27 col2\" >6.27e-01</td>\n",
       "      <td id=\"T_68489_row27_col3\" class=\"data row27 col3\" >0.741599</td>\n",
       "      <td id=\"T_68489_row27_col4\" class=\"data row27 col4\" >2.332239</td>\n",
       "      <td id=\"T_68489_row27_col5\" class=\"data row27 col5\" >0.549223</td>\n",
       "      <td id=\"T_68489_row27_col6\" class=\"data row27 col6\" >0.919787</td>\n",
       "      <td id=\"T_68489_row27_col7\" class=\"data row27 col7\" >2.61e+00</td>\n",
       "      <td id=\"T_68489_row27_col8\" class=\"data row27 col8\" >1.47e+01</td>\n",
       "      <td id=\"T_68489_row27_col9\" class=\"data row27 col9\" >1252</td>\n",
       "    </tr>\n",
       "    <tr>\n",
       "      <th id=\"T_68489_level1_row28\" class=\"row_heading level1 row28\" >TimeVQVAE</th>\n",
       "      <td id=\"T_68489_row28_col0\" class=\"data row28 col0\" >0.496648</td>\n",
       "      <td id=\"T_68489_row28_col1\" class=\"data row28 col1\" >0.297065</td>\n",
       "      <td id=\"T_68489_row28_col2\" class=\"data row28 col2\" >5.24e-01</td>\n",
       "      <td id=\"T_68489_row28_col3\" class=\"data row28 col3\" >0.473658</td>\n",
       "      <td id=\"T_68489_row28_col4\" class=\"data row28 col4\" >1.045125</td>\n",
       "      <td id=\"T_68489_row28_col5\" class=\"data row28 col5\" >0.395464</td>\n",
       "      <td id=\"T_68489_row28_col6\" class=\"data row28 col6\" >1.217470</td>\n",
       "      <td id=\"T_68489_row28_col7\" class=\"data row28 col7\" >2.34e+00</td>\n",
       "      <td id=\"T_68489_row28_col8\" class=\"data row28 col8\" >1.37e+01</td>\n",
       "      <td id=\"T_68489_row28_col9\" class=\"data row28 col9\" >88</td>\n",
       "    </tr>\n",
       "    <tr>\n",
       "      <th id=\"T_68489_level1_row29\" class=\"row_heading level1 row29\" >TransFusion</th>\n",
       "      <td id=\"T_68489_row29_col0\" class=\"data row29 col0\" >0.231161</td>\n",
       "      <td id=\"T_68489_row29_col1\" class=\"data row29 col1\" >0.250762</td>\n",
       "      <td id=\"T_68489_row29_col2\" class=\"data row29 col2\" >3.89e-03</td>\n",
       "      <td id=\"T_68489_row29_col3\" class=\"data row29 col3\" >0.198603</td>\n",
       "      <td id=\"T_68489_row29_col4\" class=\"data row29 col4\" >0.111238</td>\n",
       "      <td id=\"T_68489_row29_col5\" class=\"data row29 col5\" >0.037566</td>\n",
       "      <td id=\"T_68489_row29_col6\" class=\"data row29 col6\" >0.135754</td>\n",
       "      <td id=\"T_68489_row29_col7\" class=\"data row29 col7\" >2.54e+00</td>\n",
       "      <td id=\"T_68489_row29_col8\" class=\"data row29 col8\" >1.47e+01</td>\n",
       "      <td id=\"T_68489_row29_col9\" class=\"data row29 col9\" >1387</td>\n",
       "    </tr>\n",
       "    <tr>\n",
       "      <th id=\"T_68489_level0_row30\" class=\"row_heading level0 row30\" rowspan=\"6\">D7</th>\n",
       "      <th id=\"T_68489_level1_row30\" class=\"row_heading level1 row30\" >JustCopy</th>\n",
       "      <td id=\"T_68489_row30_col0\" class=\"data row30 col0\" >0.011593</td>\n",
       "      <td id=\"T_68489_row30_col1\" class=\"data row30 col1\" >0.049266</td>\n",
       "      <td id=\"T_68489_row30_col2\" class=\"data row30 col2\" >4.34e-15</td>\n",
       "      <td id=\"T_68489_row30_col3\" class=\"data row30 col3\" >0.005795</td>\n",
       "      <td id=\"T_68489_row30_col4\" class=\"data row30 col4\" >0.000000</td>\n",
       "      <td id=\"T_68489_row30_col5\" class=\"data row30 col5\" >0.000000</td>\n",
       "      <td id=\"T_68489_row30_col6\" class=\"data row30 col6\" >0.000000</td>\n",
       "      <td id=\"T_68489_row30_col7\" class=\"data row30 col7\" >0.00e+00</td>\n",
       "      <td id=\"T_68489_row30_col8\" class=\"data row30 col8\" >0.00e+00</td>\n",
       "      <td id=\"T_68489_row30_col9\" class=\"data row30 col9\" >0</td>\n",
       "    </tr>\n",
       "    <tr>\n",
       "      <th id=\"T_68489_level1_row31\" class=\"row_heading level1 row31\" >TTS-GAN</th>\n",
       "      <td id=\"T_68489_row31_col0\" class=\"data row31 col0\" >0.500000</td>\n",
       "      <td id=\"T_68489_row31_col1\" class=\"data row31 col1\" >0.196071</td>\n",
       "      <td id=\"T_68489_row31_col2\" class=\"data row31 col2\" >2.70e+14</td>\n",
       "      <td id=\"T_68489_row31_col3\" class=\"data row31 col3\" >1.000484</td>\n",
       "      <td id=\"T_68489_row31_col4\" class=\"data row31 col4\" >7.618056</td>\n",
       "      <td id=\"T_68489_row31_col5\" class=\"data row31 col5\" >0.640393</td>\n",
       "      <td id=\"T_68489_row31_col6\" class=\"data row31 col6\" >1.962276</td>\n",
       "      <td id=\"T_68489_row31_col7\" class=\"data row31 col7\" >2.29e+07</td>\n",
       "      <td id=\"T_68489_row31_col8\" class=\"data row31 col8\" >9.39e+07</td>\n",
       "      <td id=\"T_68489_row31_col9\" class=\"data row31 col9\" >645</td>\n",
       "    </tr>\n",
       "    <tr>\n",
       "      <th id=\"T_68489_level1_row32\" class=\"row_heading level1 row32\" >Time-Transformer</th>\n",
       "      <td id=\"T_68489_row32_col0\" class=\"data row32 col0\" >0.495699</td>\n",
       "      <td id=\"T_68489_row32_col1\" class=\"data row32 col1\" >0.058821</td>\n",
       "      <td id=\"T_68489_row32_col2\" class=\"data row32 col2\" >8.24e-02</td>\n",
       "      <td id=\"T_68489_row32_col3\" class=\"data row32 col3\" >0.304084</td>\n",
       "      <td id=\"T_68489_row32_col4\" class=\"data row32 col4\" >0.956960</td>\n",
       "      <td id=\"T_68489_row32_col5\" class=\"data row32 col5\" >0.270877</td>\n",
       "      <td id=\"T_68489_row32_col6\" class=\"data row32 col6\" >0.584719</td>\n",
       "      <td id=\"T_68489_row32_col7\" class=\"data row32 col7\" >2.34e+00</td>\n",
       "      <td id=\"T_68489_row32_col8\" class=\"data row32 col8\" >8.88e+00</td>\n",
       "      <td id=\"T_68489_row32_col9\" class=\"data row32 col9\" >55</td>\n",
       "    </tr>\n",
       "    <tr>\n",
       "      <th id=\"T_68489_level1_row33\" class=\"row_heading level1 row33\" >TimeGAN</th>\n",
       "      <td id=\"T_68489_row33_col0\" class=\"data row33 col0\" >0.215595</td>\n",
       "      <td id=\"T_68489_row33_col1\" class=\"data row33 col1\" >0.065305</td>\n",
       "      <td id=\"T_68489_row33_col2\" class=\"data row33 col2\" >5.54e-01</td>\n",
       "      <td id=\"T_68489_row33_col3\" class=\"data row33 col3\" >0.299803</td>\n",
       "      <td id=\"T_68489_row33_col4\" class=\"data row33 col4\" >1.070463</td>\n",
       "      <td id=\"T_68489_row33_col5\" class=\"data row33 col5\" >0.316172</td>\n",
       "      <td id=\"T_68489_row33_col6\" class=\"data row33 col6\" >0.732545</td>\n",
       "      <td id=\"T_68489_row33_col7\" class=\"data row33 col7\" >2.48e+00</td>\n",
       "      <td id=\"T_68489_row33_col8\" class=\"data row33 col8\" >9.37e+00</td>\n",
       "      <td id=\"T_68489_row33_col9\" class=\"data row33 col9\" >1385</td>\n",
       "    </tr>\n",
       "    <tr>\n",
       "      <th id=\"T_68489_level1_row34\" class=\"row_heading level1 row34\" >TimeVQVAE</th>\n",
       "      <td id=\"T_68489_row34_col0\" class=\"data row34 col0\" >0.418661</td>\n",
       "      <td id=\"T_68489_row34_col1\" class=\"data row34 col1\" >0.064221</td>\n",
       "      <td id=\"T_68489_row34_col2\" class=\"data row34 col2\" >1.84e-01</td>\n",
       "      <td id=\"T_68489_row34_col3\" class=\"data row34 col3\" >0.415115</td>\n",
       "      <td id=\"T_68489_row34_col4\" class=\"data row34 col4\" >0.958446</td>\n",
       "      <td id=\"T_68489_row34_col5\" class=\"data row34 col5\" >0.556969</td>\n",
       "      <td id=\"T_68489_row34_col6\" class=\"data row34 col6\" >1.621089</td>\n",
       "      <td id=\"T_68489_row34_col7\" class=\"data row34 col7\" >2.26e+00</td>\n",
       "      <td id=\"T_68489_row34_col8\" class=\"data row34 col8\" >8.51e+00</td>\n",
       "      <td id=\"T_68489_row34_col9\" class=\"data row34 col9\" >86</td>\n",
       "    </tr>\n",
       "    <tr>\n",
       "      <th id=\"T_68489_level1_row35\" class=\"row_heading level1 row35\" >TransFusion</th>\n",
       "      <td id=\"T_68489_row35_col0\" class=\"data row35 col0\" >0.049863</td>\n",
       "      <td id=\"T_68489_row35_col1\" class=\"data row35 col1\" >0.050025</td>\n",
       "      <td id=\"T_68489_row35_col2\" class=\"data row35 col2\" >1.13e-02</td>\n",
       "      <td id=\"T_68489_row35_col3\" class=\"data row35 col3\" >0.151820</td>\n",
       "      <td id=\"T_68489_row35_col4\" class=\"data row35 col4\" >0.372658</td>\n",
       "      <td id=\"T_68489_row35_col5\" class=\"data row35 col5\" >0.097957</td>\n",
       "      <td id=\"T_68489_row35_col6\" class=\"data row35 col6\" >0.066486</td>\n",
       "      <td id=\"T_68489_row35_col7\" class=\"data row35 col7\" >2.51e+00</td>\n",
       "      <td id=\"T_68489_row35_col8\" class=\"data row35 col8\" >9.29e+00</td>\n",
       "      <td id=\"T_68489_row35_col9\" class=\"data row35 col9\" >856</td>\n",
       "    </tr>\n",
       "  </tbody>\n",
       "</table>\n"
      ],
      "text/plain": [
       "<pandas.io.formats.style.Styler at 0x7f1ff02f2f50>"
      ]
     },
     "execution_count": 110,
     "metadata": {},
     "output_type": "execute_result"
    }
   ],
   "source": [
    "style_results_table(df_all.swaplevel(\"Method\", \"Dataset\")\\\n",
    "    .sort_index(level=[\"Dataset\", \"Method\"]))"
   ]
  },
  {
   "cell_type": "markdown",
   "id": "bbc018e9",
   "metadata": {},
   "source": [
    "## Spider Plots"
   ]
  },
  {
   "cell_type": "code",
   "execution_count": 111,
   "id": "d00b6b5b",
   "metadata": {},
   "outputs": [
    {
     "data": {
      "application/vnd.plotly.v1+json": {
       "config": {
        "plotlyServerURL": "https://plot.ly"
       },
       "data": [
        {
         "hovertemplate": "Method=TTS-GAN<br>value=%{r}<br>variable=%{theta}<extra></extra>",
         "legendgroup": "TTS-GAN",
         "line": {
          "color": "#636efa",
          "dash": "solid"
         },
         "marker": {
          "symbol": "circle"
         },
         "mode": "lines",
         "name": "TTS-GAN",
         "r": [
          4.833333333333333,
          4.166666666666667,
          5,
          5,
          5,
          5,
          4.833333333333333,
          5,
          5,
          4,
          4.833333333333333
         ],
         "showlegend": true,
         "subplot": "polar",
         "theta": [
          "DS",
          "PS",
          "C-FID",
          "MDD",
          "ACD",
          "SD",
          "KD",
          "ED",
          "DTW",
          "Time",
          "DS"
         ],
         "type": "scatterpolar"
        },
        {
         "hovertemplate": "Method=Time-Transformer<br>value=%{r}<br>variable=%{theta}<extra></extra>",
         "legendgroup": "Time-Transformer",
         "line": {
          "color": "#EF553B",
          "dash": "solid"
         },
         "marker": {
          "symbol": "circle"
         },
         "mode": "lines",
         "name": "Time-Transformer",
         "r": [
          3.8333333333333335,
          3.3333333333333335,
          3,
          3,
          3,
          3.1666666666666665,
          3,
          2,
          2,
          1,
          3.8333333333333335
         ],
         "showlegend": true,
         "subplot": "polar",
         "theta": [
          "DS",
          "PS",
          "C-FID",
          "MDD",
          "ACD",
          "SD",
          "KD",
          "ED",
          "DTW",
          "Time",
          "DS"
         ],
         "type": "scatterpolar"
        },
        {
         "hovertemplate": "Method=TimeGAN<br>value=%{r}<br>variable=%{theta}<extra></extra>",
         "legendgroup": "TimeGAN",
         "line": {
          "color": "#00cc96",
          "dash": "solid"
         },
         "marker": {
          "symbol": "circle"
         },
         "mode": "lines",
         "name": "TimeGAN",
         "r": [
          2.1666666666666665,
          3,
          3,
          2.8333333333333335,
          3.1666666666666665,
          3,
          2.8333333333333335,
          3.5,
          3.6666666666666665,
          4.5,
          2.1666666666666665
         ],
         "showlegend": true,
         "subplot": "polar",
         "theta": [
          "DS",
          "PS",
          "C-FID",
          "MDD",
          "ACD",
          "SD",
          "KD",
          "ED",
          "DTW",
          "Time",
          "DS"
         ],
         "type": "scatterpolar"
        },
        {
         "hovertemplate": "Method=TimeVQVAE<br>value=%{r}<br>variable=%{theta}<extra></extra>",
         "legendgroup": "TimeVQVAE",
         "line": {
          "color": "#ab63fa",
          "dash": "solid"
         },
         "marker": {
          "symbol": "circle"
         },
         "mode": "lines",
         "name": "TimeVQVAE",
         "r": [
          3,
          3.3333333333333335,
          2.6666666666666665,
          2.6666666666666665,
          2.8333333333333335,
          2.3333333333333335,
          2.6666666666666665,
          1.6666666666666667,
          1.6666666666666667,
          2.1666666666666665,
          3
         ],
         "showlegend": true,
         "subplot": "polar",
         "theta": [
          "DS",
          "PS",
          "C-FID",
          "MDD",
          "ACD",
          "SD",
          "KD",
          "ED",
          "DTW",
          "Time",
          "DS"
         ],
         "type": "scatterpolar"
        },
        {
         "hovertemplate": "Method=TransFusion<br>value=%{r}<br>variable=%{theta}<extra></extra>",
         "legendgroup": "TransFusion",
         "line": {
          "color": "#FFA15A",
          "dash": "solid"
         },
         "marker": {
          "symbol": "circle"
         },
         "mode": "lines",
         "name": "TransFusion",
         "r": [
          1.1666666666666667,
          1.1666666666666667,
          1.3333333333333333,
          1.5,
          1,
          1.5,
          1.6666666666666667,
          2.8333333333333335,
          2.6666666666666665,
          3.3333333333333335,
          1.1666666666666667
         ],
         "showlegend": true,
         "subplot": "polar",
         "theta": [
          "DS",
          "PS",
          "C-FID",
          "MDD",
          "ACD",
          "SD",
          "KD",
          "ED",
          "DTW",
          "Time",
          "DS"
         ],
         "type": "scatterpolar"
        }
       ],
       "layout": {
        "legend": {
         "title": {
          "text": "Method"
         },
         "tracegroupgap": 0
        },
        "margin": {
         "t": 60
        },
        "polar": {
         "angularaxis": {
          "direction": "clockwise",
          "rotation": 90
         },
         "domain": {
          "x": [
           0,
           1
          ],
          "y": [
           0,
           1
          ]
         },
         "radialaxis": {
          "dtick": 1,
          "range": [
           5.9,
           1
          ]
         }
        },
        "template": {
         "data": {
          "bar": [
           {
            "error_x": {
             "color": "#2a3f5f"
            },
            "error_y": {
             "color": "#2a3f5f"
            },
            "marker": {
             "line": {
              "color": "#E5ECF6",
              "width": 0.5
             },
             "pattern": {
              "fillmode": "overlay",
              "size": 10,
              "solidity": 0.2
             }
            },
            "type": "bar"
           }
          ],
          "barpolar": [
           {
            "marker": {
             "line": {
              "color": "#E5ECF6",
              "width": 0.5
             },
             "pattern": {
              "fillmode": "overlay",
              "size": 10,
              "solidity": 0.2
             }
            },
            "type": "barpolar"
           }
          ],
          "carpet": [
           {
            "aaxis": {
             "endlinecolor": "#2a3f5f",
             "gridcolor": "white",
             "linecolor": "white",
             "minorgridcolor": "white",
             "startlinecolor": "#2a3f5f"
            },
            "baxis": {
             "endlinecolor": "#2a3f5f",
             "gridcolor": "white",
             "linecolor": "white",
             "minorgridcolor": "white",
             "startlinecolor": "#2a3f5f"
            },
            "type": "carpet"
           }
          ],
          "choropleth": [
           {
            "colorbar": {
             "outlinewidth": 0,
             "ticks": ""
            },
            "type": "choropleth"
           }
          ],
          "contour": [
           {
            "colorbar": {
             "outlinewidth": 0,
             "ticks": ""
            },
            "colorscale": [
             [
              0,
              "#0d0887"
             ],
             [
              0.1111111111111111,
              "#46039f"
             ],
             [
              0.2222222222222222,
              "#7201a8"
             ],
             [
              0.3333333333333333,
              "#9c179e"
             ],
             [
              0.4444444444444444,
              "#bd3786"
             ],
             [
              0.5555555555555556,
              "#d8576b"
             ],
             [
              0.6666666666666666,
              "#ed7953"
             ],
             [
              0.7777777777777778,
              "#fb9f3a"
             ],
             [
              0.8888888888888888,
              "#fdca26"
             ],
             [
              1,
              "#f0f921"
             ]
            ],
            "type": "contour"
           }
          ],
          "contourcarpet": [
           {
            "colorbar": {
             "outlinewidth": 0,
             "ticks": ""
            },
            "type": "contourcarpet"
           }
          ],
          "heatmap": [
           {
            "colorbar": {
             "outlinewidth": 0,
             "ticks": ""
            },
            "colorscale": [
             [
              0,
              "#0d0887"
             ],
             [
              0.1111111111111111,
              "#46039f"
             ],
             [
              0.2222222222222222,
              "#7201a8"
             ],
             [
              0.3333333333333333,
              "#9c179e"
             ],
             [
              0.4444444444444444,
              "#bd3786"
             ],
             [
              0.5555555555555556,
              "#d8576b"
             ],
             [
              0.6666666666666666,
              "#ed7953"
             ],
             [
              0.7777777777777778,
              "#fb9f3a"
             ],
             [
              0.8888888888888888,
              "#fdca26"
             ],
             [
              1,
              "#f0f921"
             ]
            ],
            "type": "heatmap"
           }
          ],
          "heatmapgl": [
           {
            "colorbar": {
             "outlinewidth": 0,
             "ticks": ""
            },
            "colorscale": [
             [
              0,
              "#0d0887"
             ],
             [
              0.1111111111111111,
              "#46039f"
             ],
             [
              0.2222222222222222,
              "#7201a8"
             ],
             [
              0.3333333333333333,
              "#9c179e"
             ],
             [
              0.4444444444444444,
              "#bd3786"
             ],
             [
              0.5555555555555556,
              "#d8576b"
             ],
             [
              0.6666666666666666,
              "#ed7953"
             ],
             [
              0.7777777777777778,
              "#fb9f3a"
             ],
             [
              0.8888888888888888,
              "#fdca26"
             ],
             [
              1,
              "#f0f921"
             ]
            ],
            "type": "heatmapgl"
           }
          ],
          "histogram": [
           {
            "marker": {
             "pattern": {
              "fillmode": "overlay",
              "size": 10,
              "solidity": 0.2
             }
            },
            "type": "histogram"
           }
          ],
          "histogram2d": [
           {
            "colorbar": {
             "outlinewidth": 0,
             "ticks": ""
            },
            "colorscale": [
             [
              0,
              "#0d0887"
             ],
             [
              0.1111111111111111,
              "#46039f"
             ],
             [
              0.2222222222222222,
              "#7201a8"
             ],
             [
              0.3333333333333333,
              "#9c179e"
             ],
             [
              0.4444444444444444,
              "#bd3786"
             ],
             [
              0.5555555555555556,
              "#d8576b"
             ],
             [
              0.6666666666666666,
              "#ed7953"
             ],
             [
              0.7777777777777778,
              "#fb9f3a"
             ],
             [
              0.8888888888888888,
              "#fdca26"
             ],
             [
              1,
              "#f0f921"
             ]
            ],
            "type": "histogram2d"
           }
          ],
          "histogram2dcontour": [
           {
            "colorbar": {
             "outlinewidth": 0,
             "ticks": ""
            },
            "colorscale": [
             [
              0,
              "#0d0887"
             ],
             [
              0.1111111111111111,
              "#46039f"
             ],
             [
              0.2222222222222222,
              "#7201a8"
             ],
             [
              0.3333333333333333,
              "#9c179e"
             ],
             [
              0.4444444444444444,
              "#bd3786"
             ],
             [
              0.5555555555555556,
              "#d8576b"
             ],
             [
              0.6666666666666666,
              "#ed7953"
             ],
             [
              0.7777777777777778,
              "#fb9f3a"
             ],
             [
              0.8888888888888888,
              "#fdca26"
             ],
             [
              1,
              "#f0f921"
             ]
            ],
            "type": "histogram2dcontour"
           }
          ],
          "mesh3d": [
           {
            "colorbar": {
             "outlinewidth": 0,
             "ticks": ""
            },
            "type": "mesh3d"
           }
          ],
          "parcoords": [
           {
            "line": {
             "colorbar": {
              "outlinewidth": 0,
              "ticks": ""
             }
            },
            "type": "parcoords"
           }
          ],
          "pie": [
           {
            "automargin": true,
            "type": "pie"
           }
          ],
          "scatter": [
           {
            "fillpattern": {
             "fillmode": "overlay",
             "size": 10,
             "solidity": 0.2
            },
            "type": "scatter"
           }
          ],
          "scatter3d": [
           {
            "line": {
             "colorbar": {
              "outlinewidth": 0,
              "ticks": ""
             }
            },
            "marker": {
             "colorbar": {
              "outlinewidth": 0,
              "ticks": ""
             }
            },
            "type": "scatter3d"
           }
          ],
          "scattercarpet": [
           {
            "marker": {
             "colorbar": {
              "outlinewidth": 0,
              "ticks": ""
             }
            },
            "type": "scattercarpet"
           }
          ],
          "scattergeo": [
           {
            "marker": {
             "colorbar": {
              "outlinewidth": 0,
              "ticks": ""
             }
            },
            "type": "scattergeo"
           }
          ],
          "scattergl": [
           {
            "marker": {
             "colorbar": {
              "outlinewidth": 0,
              "ticks": ""
             }
            },
            "type": "scattergl"
           }
          ],
          "scattermapbox": [
           {
            "marker": {
             "colorbar": {
              "outlinewidth": 0,
              "ticks": ""
             }
            },
            "type": "scattermapbox"
           }
          ],
          "scatterpolar": [
           {
            "marker": {
             "colorbar": {
              "outlinewidth": 0,
              "ticks": ""
             }
            },
            "type": "scatterpolar"
           }
          ],
          "scatterpolargl": [
           {
            "marker": {
             "colorbar": {
              "outlinewidth": 0,
              "ticks": ""
             }
            },
            "type": "scatterpolargl"
           }
          ],
          "scatterternary": [
           {
            "marker": {
             "colorbar": {
              "outlinewidth": 0,
              "ticks": ""
             }
            },
            "type": "scatterternary"
           }
          ],
          "surface": [
           {
            "colorbar": {
             "outlinewidth": 0,
             "ticks": ""
            },
            "colorscale": [
             [
              0,
              "#0d0887"
             ],
             [
              0.1111111111111111,
              "#46039f"
             ],
             [
              0.2222222222222222,
              "#7201a8"
             ],
             [
              0.3333333333333333,
              "#9c179e"
             ],
             [
              0.4444444444444444,
              "#bd3786"
             ],
             [
              0.5555555555555556,
              "#d8576b"
             ],
             [
              0.6666666666666666,
              "#ed7953"
             ],
             [
              0.7777777777777778,
              "#fb9f3a"
             ],
             [
              0.8888888888888888,
              "#fdca26"
             ],
             [
              1,
              "#f0f921"
             ]
            ],
            "type": "surface"
           }
          ],
          "table": [
           {
            "cells": {
             "fill": {
              "color": "#EBF0F8"
             },
             "line": {
              "color": "white"
             }
            },
            "header": {
             "fill": {
              "color": "#C8D4E3"
             },
             "line": {
              "color": "white"
             }
            },
            "type": "table"
           }
          ]
         },
         "layout": {
          "annotationdefaults": {
           "arrowcolor": "#2a3f5f",
           "arrowhead": 0,
           "arrowwidth": 1
          },
          "autotypenumbers": "strict",
          "coloraxis": {
           "colorbar": {
            "outlinewidth": 0,
            "ticks": ""
           }
          },
          "colorscale": {
           "diverging": [
            [
             0,
             "#8e0152"
            ],
            [
             0.1,
             "#c51b7d"
            ],
            [
             0.2,
             "#de77ae"
            ],
            [
             0.3,
             "#f1b6da"
            ],
            [
             0.4,
             "#fde0ef"
            ],
            [
             0.5,
             "#f7f7f7"
            ],
            [
             0.6,
             "#e6f5d0"
            ],
            [
             0.7,
             "#b8e186"
            ],
            [
             0.8,
             "#7fbc41"
            ],
            [
             0.9,
             "#4d9221"
            ],
            [
             1,
             "#276419"
            ]
           ],
           "sequential": [
            [
             0,
             "#0d0887"
            ],
            [
             0.1111111111111111,
             "#46039f"
            ],
            [
             0.2222222222222222,
             "#7201a8"
            ],
            [
             0.3333333333333333,
             "#9c179e"
            ],
            [
             0.4444444444444444,
             "#bd3786"
            ],
            [
             0.5555555555555556,
             "#d8576b"
            ],
            [
             0.6666666666666666,
             "#ed7953"
            ],
            [
             0.7777777777777778,
             "#fb9f3a"
            ],
            [
             0.8888888888888888,
             "#fdca26"
            ],
            [
             1,
             "#f0f921"
            ]
           ],
           "sequentialminus": [
            [
             0,
             "#0d0887"
            ],
            [
             0.1111111111111111,
             "#46039f"
            ],
            [
             0.2222222222222222,
             "#7201a8"
            ],
            [
             0.3333333333333333,
             "#9c179e"
            ],
            [
             0.4444444444444444,
             "#bd3786"
            ],
            [
             0.5555555555555556,
             "#d8576b"
            ],
            [
             0.6666666666666666,
             "#ed7953"
            ],
            [
             0.7777777777777778,
             "#fb9f3a"
            ],
            [
             0.8888888888888888,
             "#fdca26"
            ],
            [
             1,
             "#f0f921"
            ]
           ]
          },
          "colorway": [
           "#636efa",
           "#EF553B",
           "#00cc96",
           "#ab63fa",
           "#FFA15A",
           "#19d3f3",
           "#FF6692",
           "#B6E880",
           "#FF97FF",
           "#FECB52"
          ],
          "font": {
           "color": "#2a3f5f"
          },
          "geo": {
           "bgcolor": "white",
           "lakecolor": "white",
           "landcolor": "#E5ECF6",
           "showlakes": true,
           "showland": true,
           "subunitcolor": "white"
          },
          "hoverlabel": {
           "align": "left"
          },
          "hovermode": "closest",
          "mapbox": {
           "style": "light"
          },
          "paper_bgcolor": "white",
          "plot_bgcolor": "#E5ECF6",
          "polar": {
           "angularaxis": {
            "gridcolor": "white",
            "linecolor": "white",
            "ticks": ""
           },
           "bgcolor": "#E5ECF6",
           "radialaxis": {
            "gridcolor": "white",
            "linecolor": "white",
            "ticks": ""
           }
          },
          "scene": {
           "xaxis": {
            "backgroundcolor": "#E5ECF6",
            "gridcolor": "white",
            "gridwidth": 2,
            "linecolor": "white",
            "showbackground": true,
            "ticks": "",
            "zerolinecolor": "white"
           },
           "yaxis": {
            "backgroundcolor": "#E5ECF6",
            "gridcolor": "white",
            "gridwidth": 2,
            "linecolor": "white",
            "showbackground": true,
            "ticks": "",
            "zerolinecolor": "white"
           },
           "zaxis": {
            "backgroundcolor": "#E5ECF6",
            "gridcolor": "white",
            "gridwidth": 2,
            "linecolor": "white",
            "showbackground": true,
            "ticks": "",
            "zerolinecolor": "white"
           }
          },
          "shapedefaults": {
           "line": {
            "color": "#2a3f5f"
           }
          },
          "ternary": {
           "aaxis": {
            "gridcolor": "white",
            "linecolor": "white",
            "ticks": ""
           },
           "baxis": {
            "gridcolor": "white",
            "linecolor": "white",
            "ticks": ""
           },
           "bgcolor": "#E5ECF6",
           "caxis": {
            "gridcolor": "white",
            "linecolor": "white",
            "ticks": ""
           }
          },
          "title": {
           "x": 0.05
          },
          "xaxis": {
           "automargin": true,
           "gridcolor": "white",
           "linecolor": "white",
           "ticks": "",
           "title": {
            "standoff": 15
           },
           "zerolinecolor": "white",
           "zerolinewidth": 2
          },
          "yaxis": {
           "automargin": true,
           "gridcolor": "white",
           "linecolor": "white",
           "ticks": "",
           "title": {
            "standoff": 15
           },
           "zerolinecolor": "white",
           "zerolinewidth": 2
          }
         }
        }
       }
      },
      "text/html": [
       "<div>                            <div id=\"74b8e1c3-0b25-419a-ace4-153a0e4d900e\" class=\"plotly-graph-div\" style=\"height:525px; width:100%;\"></div>            <script type=\"text/javascript\">                require([\"plotly\"], function(Plotly) {                    window.PLOTLYENV=window.PLOTLYENV || {};                                    if (document.getElementById(\"74b8e1c3-0b25-419a-ace4-153a0e4d900e\")) {                    Plotly.newPlot(                        \"74b8e1c3-0b25-419a-ace4-153a0e4d900e\",                        [{\"hovertemplate\":\"Method=TTS-GAN\\u003cbr\\u003evalue=%{r}\\u003cbr\\u003evariable=%{theta}\\u003cextra\\u003e\\u003c\\u002fextra\\u003e\",\"legendgroup\":\"TTS-GAN\",\"line\":{\"color\":\"#636efa\",\"dash\":\"solid\"},\"marker\":{\"symbol\":\"circle\"},\"mode\":\"lines\",\"name\":\"TTS-GAN\",\"r\":[4.833333333333333,4.166666666666667,5.0,5.0,5.0,5.0,4.833333333333333,5.0,5.0,4.0,4.833333333333333],\"showlegend\":true,\"subplot\":\"polar\",\"theta\":[\"DS\",\"PS\",\"C-FID\",\"MDD\",\"ACD\",\"SD\",\"KD\",\"ED\",\"DTW\",\"Time\",\"DS\"],\"type\":\"scatterpolar\"},{\"hovertemplate\":\"Method=Time-Transformer\\u003cbr\\u003evalue=%{r}\\u003cbr\\u003evariable=%{theta}\\u003cextra\\u003e\\u003c\\u002fextra\\u003e\",\"legendgroup\":\"Time-Transformer\",\"line\":{\"color\":\"#EF553B\",\"dash\":\"solid\"},\"marker\":{\"symbol\":\"circle\"},\"mode\":\"lines\",\"name\":\"Time-Transformer\",\"r\":[3.8333333333333335,3.3333333333333335,3.0,3.0,3.0,3.1666666666666665,3.0,2.0,2.0,1.0,3.8333333333333335],\"showlegend\":true,\"subplot\":\"polar\",\"theta\":[\"DS\",\"PS\",\"C-FID\",\"MDD\",\"ACD\",\"SD\",\"KD\",\"ED\",\"DTW\",\"Time\",\"DS\"],\"type\":\"scatterpolar\"},{\"hovertemplate\":\"Method=TimeGAN\\u003cbr\\u003evalue=%{r}\\u003cbr\\u003evariable=%{theta}\\u003cextra\\u003e\\u003c\\u002fextra\\u003e\",\"legendgroup\":\"TimeGAN\",\"line\":{\"color\":\"#00cc96\",\"dash\":\"solid\"},\"marker\":{\"symbol\":\"circle\"},\"mode\":\"lines\",\"name\":\"TimeGAN\",\"r\":[2.1666666666666665,3.0,3.0,2.8333333333333335,3.1666666666666665,3.0,2.8333333333333335,3.5,3.6666666666666665,4.5,2.1666666666666665],\"showlegend\":true,\"subplot\":\"polar\",\"theta\":[\"DS\",\"PS\",\"C-FID\",\"MDD\",\"ACD\",\"SD\",\"KD\",\"ED\",\"DTW\",\"Time\",\"DS\"],\"type\":\"scatterpolar\"},{\"hovertemplate\":\"Method=TimeVQVAE\\u003cbr\\u003evalue=%{r}\\u003cbr\\u003evariable=%{theta}\\u003cextra\\u003e\\u003c\\u002fextra\\u003e\",\"legendgroup\":\"TimeVQVAE\",\"line\":{\"color\":\"#ab63fa\",\"dash\":\"solid\"},\"marker\":{\"symbol\":\"circle\"},\"mode\":\"lines\",\"name\":\"TimeVQVAE\",\"r\":[3.0,3.3333333333333335,2.6666666666666665,2.6666666666666665,2.8333333333333335,2.3333333333333335,2.6666666666666665,1.6666666666666667,1.6666666666666667,2.1666666666666665,3.0],\"showlegend\":true,\"subplot\":\"polar\",\"theta\":[\"DS\",\"PS\",\"C-FID\",\"MDD\",\"ACD\",\"SD\",\"KD\",\"ED\",\"DTW\",\"Time\",\"DS\"],\"type\":\"scatterpolar\"},{\"hovertemplate\":\"Method=TransFusion\\u003cbr\\u003evalue=%{r}\\u003cbr\\u003evariable=%{theta}\\u003cextra\\u003e\\u003c\\u002fextra\\u003e\",\"legendgroup\":\"TransFusion\",\"line\":{\"color\":\"#FFA15A\",\"dash\":\"solid\"},\"marker\":{\"symbol\":\"circle\"},\"mode\":\"lines\",\"name\":\"TransFusion\",\"r\":[1.1666666666666667,1.1666666666666667,1.3333333333333333,1.5,1.0,1.5,1.6666666666666667,2.8333333333333335,2.6666666666666665,3.3333333333333335,1.1666666666666667],\"showlegend\":true,\"subplot\":\"polar\",\"theta\":[\"DS\",\"PS\",\"C-FID\",\"MDD\",\"ACD\",\"SD\",\"KD\",\"ED\",\"DTW\",\"Time\",\"DS\"],\"type\":\"scatterpolar\"}],                        {\"template\":{\"data\":{\"histogram2dcontour\":[{\"type\":\"histogram2dcontour\",\"colorbar\":{\"outlinewidth\":0,\"ticks\":\"\"},\"colorscale\":[[0.0,\"#0d0887\"],[0.1111111111111111,\"#46039f\"],[0.2222222222222222,\"#7201a8\"],[0.3333333333333333,\"#9c179e\"],[0.4444444444444444,\"#bd3786\"],[0.5555555555555556,\"#d8576b\"],[0.6666666666666666,\"#ed7953\"],[0.7777777777777778,\"#fb9f3a\"],[0.8888888888888888,\"#fdca26\"],[1.0,\"#f0f921\"]]}],\"choropleth\":[{\"type\":\"choropleth\",\"colorbar\":{\"outlinewidth\":0,\"ticks\":\"\"}}],\"histogram2d\":[{\"type\":\"histogram2d\",\"colorbar\":{\"outlinewidth\":0,\"ticks\":\"\"},\"colorscale\":[[0.0,\"#0d0887\"],[0.1111111111111111,\"#46039f\"],[0.2222222222222222,\"#7201a8\"],[0.3333333333333333,\"#9c179e\"],[0.4444444444444444,\"#bd3786\"],[0.5555555555555556,\"#d8576b\"],[0.6666666666666666,\"#ed7953\"],[0.7777777777777778,\"#fb9f3a\"],[0.8888888888888888,\"#fdca26\"],[1.0,\"#f0f921\"]]}],\"heatmap\":[{\"type\":\"heatmap\",\"colorbar\":{\"outlinewidth\":0,\"ticks\":\"\"},\"colorscale\":[[0.0,\"#0d0887\"],[0.1111111111111111,\"#46039f\"],[0.2222222222222222,\"#7201a8\"],[0.3333333333333333,\"#9c179e\"],[0.4444444444444444,\"#bd3786\"],[0.5555555555555556,\"#d8576b\"],[0.6666666666666666,\"#ed7953\"],[0.7777777777777778,\"#fb9f3a\"],[0.8888888888888888,\"#fdca26\"],[1.0,\"#f0f921\"]]}],\"heatmapgl\":[{\"type\":\"heatmapgl\",\"colorbar\":{\"outlinewidth\":0,\"ticks\":\"\"},\"colorscale\":[[0.0,\"#0d0887\"],[0.1111111111111111,\"#46039f\"],[0.2222222222222222,\"#7201a8\"],[0.3333333333333333,\"#9c179e\"],[0.4444444444444444,\"#bd3786\"],[0.5555555555555556,\"#d8576b\"],[0.6666666666666666,\"#ed7953\"],[0.7777777777777778,\"#fb9f3a\"],[0.8888888888888888,\"#fdca26\"],[1.0,\"#f0f921\"]]}],\"contourcarpet\":[{\"type\":\"contourcarpet\",\"colorbar\":{\"outlinewidth\":0,\"ticks\":\"\"}}],\"contour\":[{\"type\":\"contour\",\"colorbar\":{\"outlinewidth\":0,\"ticks\":\"\"},\"colorscale\":[[0.0,\"#0d0887\"],[0.1111111111111111,\"#46039f\"],[0.2222222222222222,\"#7201a8\"],[0.3333333333333333,\"#9c179e\"],[0.4444444444444444,\"#bd3786\"],[0.5555555555555556,\"#d8576b\"],[0.6666666666666666,\"#ed7953\"],[0.7777777777777778,\"#fb9f3a\"],[0.8888888888888888,\"#fdca26\"],[1.0,\"#f0f921\"]]}],\"surface\":[{\"type\":\"surface\",\"colorbar\":{\"outlinewidth\":0,\"ticks\":\"\"},\"colorscale\":[[0.0,\"#0d0887\"],[0.1111111111111111,\"#46039f\"],[0.2222222222222222,\"#7201a8\"],[0.3333333333333333,\"#9c179e\"],[0.4444444444444444,\"#bd3786\"],[0.5555555555555556,\"#d8576b\"],[0.6666666666666666,\"#ed7953\"],[0.7777777777777778,\"#fb9f3a\"],[0.8888888888888888,\"#fdca26\"],[1.0,\"#f0f921\"]]}],\"mesh3d\":[{\"type\":\"mesh3d\",\"colorbar\":{\"outlinewidth\":0,\"ticks\":\"\"}}],\"scatter\":[{\"fillpattern\":{\"fillmode\":\"overlay\",\"size\":10,\"solidity\":0.2},\"type\":\"scatter\"}],\"parcoords\":[{\"type\":\"parcoords\",\"line\":{\"colorbar\":{\"outlinewidth\":0,\"ticks\":\"\"}}}],\"scatterpolargl\":[{\"type\":\"scatterpolargl\",\"marker\":{\"colorbar\":{\"outlinewidth\":0,\"ticks\":\"\"}}}],\"bar\":[{\"error_x\":{\"color\":\"#2a3f5f\"},\"error_y\":{\"color\":\"#2a3f5f\"},\"marker\":{\"line\":{\"color\":\"#E5ECF6\",\"width\":0.5},\"pattern\":{\"fillmode\":\"overlay\",\"size\":10,\"solidity\":0.2}},\"type\":\"bar\"}],\"scattergeo\":[{\"type\":\"scattergeo\",\"marker\":{\"colorbar\":{\"outlinewidth\":0,\"ticks\":\"\"}}}],\"scatterpolar\":[{\"type\":\"scatterpolar\",\"marker\":{\"colorbar\":{\"outlinewidth\":0,\"ticks\":\"\"}}}],\"histogram\":[{\"marker\":{\"pattern\":{\"fillmode\":\"overlay\",\"size\":10,\"solidity\":0.2}},\"type\":\"histogram\"}],\"scattergl\":[{\"type\":\"scattergl\",\"marker\":{\"colorbar\":{\"outlinewidth\":0,\"ticks\":\"\"}}}],\"scatter3d\":[{\"type\":\"scatter3d\",\"line\":{\"colorbar\":{\"outlinewidth\":0,\"ticks\":\"\"}},\"marker\":{\"colorbar\":{\"outlinewidth\":0,\"ticks\":\"\"}}}],\"scattermapbox\":[{\"type\":\"scattermapbox\",\"marker\":{\"colorbar\":{\"outlinewidth\":0,\"ticks\":\"\"}}}],\"scatterternary\":[{\"type\":\"scatterternary\",\"marker\":{\"colorbar\":{\"outlinewidth\":0,\"ticks\":\"\"}}}],\"scattercarpet\":[{\"type\":\"scattercarpet\",\"marker\":{\"colorbar\":{\"outlinewidth\":0,\"ticks\":\"\"}}}],\"carpet\":[{\"aaxis\":{\"endlinecolor\":\"#2a3f5f\",\"gridcolor\":\"white\",\"linecolor\":\"white\",\"minorgridcolor\":\"white\",\"startlinecolor\":\"#2a3f5f\"},\"baxis\":{\"endlinecolor\":\"#2a3f5f\",\"gridcolor\":\"white\",\"linecolor\":\"white\",\"minorgridcolor\":\"white\",\"startlinecolor\":\"#2a3f5f\"},\"type\":\"carpet\"}],\"table\":[{\"cells\":{\"fill\":{\"color\":\"#EBF0F8\"},\"line\":{\"color\":\"white\"}},\"header\":{\"fill\":{\"color\":\"#C8D4E3\"},\"line\":{\"color\":\"white\"}},\"type\":\"table\"}],\"barpolar\":[{\"marker\":{\"line\":{\"color\":\"#E5ECF6\",\"width\":0.5},\"pattern\":{\"fillmode\":\"overlay\",\"size\":10,\"solidity\":0.2}},\"type\":\"barpolar\"}],\"pie\":[{\"automargin\":true,\"type\":\"pie\"}]},\"layout\":{\"autotypenumbers\":\"strict\",\"colorway\":[\"#636efa\",\"#EF553B\",\"#00cc96\",\"#ab63fa\",\"#FFA15A\",\"#19d3f3\",\"#FF6692\",\"#B6E880\",\"#FF97FF\",\"#FECB52\"],\"font\":{\"color\":\"#2a3f5f\"},\"hovermode\":\"closest\",\"hoverlabel\":{\"align\":\"left\"},\"paper_bgcolor\":\"white\",\"plot_bgcolor\":\"#E5ECF6\",\"polar\":{\"bgcolor\":\"#E5ECF6\",\"angularaxis\":{\"gridcolor\":\"white\",\"linecolor\":\"white\",\"ticks\":\"\"},\"radialaxis\":{\"gridcolor\":\"white\",\"linecolor\":\"white\",\"ticks\":\"\"}},\"ternary\":{\"bgcolor\":\"#E5ECF6\",\"aaxis\":{\"gridcolor\":\"white\",\"linecolor\":\"white\",\"ticks\":\"\"},\"baxis\":{\"gridcolor\":\"white\",\"linecolor\":\"white\",\"ticks\":\"\"},\"caxis\":{\"gridcolor\":\"white\",\"linecolor\":\"white\",\"ticks\":\"\"}},\"coloraxis\":{\"colorbar\":{\"outlinewidth\":0,\"ticks\":\"\"}},\"colorscale\":{\"sequential\":[[0.0,\"#0d0887\"],[0.1111111111111111,\"#46039f\"],[0.2222222222222222,\"#7201a8\"],[0.3333333333333333,\"#9c179e\"],[0.4444444444444444,\"#bd3786\"],[0.5555555555555556,\"#d8576b\"],[0.6666666666666666,\"#ed7953\"],[0.7777777777777778,\"#fb9f3a\"],[0.8888888888888888,\"#fdca26\"],[1.0,\"#f0f921\"]],\"sequentialminus\":[[0.0,\"#0d0887\"],[0.1111111111111111,\"#46039f\"],[0.2222222222222222,\"#7201a8\"],[0.3333333333333333,\"#9c179e\"],[0.4444444444444444,\"#bd3786\"],[0.5555555555555556,\"#d8576b\"],[0.6666666666666666,\"#ed7953\"],[0.7777777777777778,\"#fb9f3a\"],[0.8888888888888888,\"#fdca26\"],[1.0,\"#f0f921\"]],\"diverging\":[[0,\"#8e0152\"],[0.1,\"#c51b7d\"],[0.2,\"#de77ae\"],[0.3,\"#f1b6da\"],[0.4,\"#fde0ef\"],[0.5,\"#f7f7f7\"],[0.6,\"#e6f5d0\"],[0.7,\"#b8e186\"],[0.8,\"#7fbc41\"],[0.9,\"#4d9221\"],[1,\"#276419\"]]},\"xaxis\":{\"gridcolor\":\"white\",\"linecolor\":\"white\",\"ticks\":\"\",\"title\":{\"standoff\":15},\"zerolinecolor\":\"white\",\"automargin\":true,\"zerolinewidth\":2},\"yaxis\":{\"gridcolor\":\"white\",\"linecolor\":\"white\",\"ticks\":\"\",\"title\":{\"standoff\":15},\"zerolinecolor\":\"white\",\"automargin\":true,\"zerolinewidth\":2},\"scene\":{\"xaxis\":{\"backgroundcolor\":\"#E5ECF6\",\"gridcolor\":\"white\",\"linecolor\":\"white\",\"showbackground\":true,\"ticks\":\"\",\"zerolinecolor\":\"white\",\"gridwidth\":2},\"yaxis\":{\"backgroundcolor\":\"#E5ECF6\",\"gridcolor\":\"white\",\"linecolor\":\"white\",\"showbackground\":true,\"ticks\":\"\",\"zerolinecolor\":\"white\",\"gridwidth\":2},\"zaxis\":{\"backgroundcolor\":\"#E5ECF6\",\"gridcolor\":\"white\",\"linecolor\":\"white\",\"showbackground\":true,\"ticks\":\"\",\"zerolinecolor\":\"white\",\"gridwidth\":2}},\"shapedefaults\":{\"line\":{\"color\":\"#2a3f5f\"}},\"annotationdefaults\":{\"arrowcolor\":\"#2a3f5f\",\"arrowhead\":0,\"arrowwidth\":1},\"geo\":{\"bgcolor\":\"white\",\"landcolor\":\"#E5ECF6\",\"subunitcolor\":\"white\",\"showland\":true,\"showlakes\":true,\"lakecolor\":\"white\"},\"title\":{\"x\":0.05},\"mapbox\":{\"style\":\"light\"}}},\"polar\":{\"domain\":{\"x\":[0.0,1.0],\"y\":[0.0,1.0]},\"angularaxis\":{\"direction\":\"clockwise\",\"rotation\":90},\"radialaxis\":{\"range\":[5.9,1],\"dtick\":1}},\"legend\":{\"title\":{\"text\":\"Method\"},\"tracegroupgap\":0},\"margin\":{\"t\":60}},                        {\"responsive\": true}                    ).then(function(){\n",
       "                            \n",
       "var gd = document.getElementById('74b8e1c3-0b25-419a-ace4-153a0e4d900e');\n",
       "var x = new MutationObserver(function (mutations, observer) {{\n",
       "        var display = window.getComputedStyle(gd).display;\n",
       "        if (!display || display === 'none') {{\n",
       "            console.log([gd, 'removed!']);\n",
       "            Plotly.purge(gd);\n",
       "            observer.disconnect();\n",
       "        }}\n",
       "}});\n",
       "\n",
       "// Listen for the removal of the full notebook cells\n",
       "var notebookContainer = gd.closest('#notebook-container');\n",
       "if (notebookContainer) {{\n",
       "    x.observe(notebookContainer, {childList: true});\n",
       "}}\n",
       "\n",
       "// Listen for the clearing of the current output cell\n",
       "var outputEl = gd.closest('.output');\n",
       "if (outputEl) {{\n",
       "    x.observe(outputEl, {childList: true});\n",
       "}}\n",
       "\n",
       "                        })                };                });            </script>        </div>"
      ]
     },
     "metadata": {},
     "output_type": "display_data"
    }
   ],
   "source": [
    "rankings = df_no_copy.unstack(level=1).rank()\n",
    "\n",
    "ranking_by_metric = rankings.stack().reset_index().groupby(\"Method\").mean()\n",
    "spider_by_metric = ranking_by_metric.reset_index().melt(id_vars=\"Method\")\n",
    "px.line_polar(spider_by_metric, r=\"value\", theta=\"variable\", color=\"Method\", line_close=True) \\\n",
    "    .update_layout(polar={\"radialaxis\": {\"range\": [5.9, 1], \"dtick\": 1}})"
   ]
  },
  {
   "cell_type": "code",
   "execution_count": 112,
   "id": "ac5f7e9a",
   "metadata": {},
   "outputs": [
    {
     "data": {
      "application/vnd.plotly.v1+json": {
       "config": {
        "plotlyServerURL": "https://plot.ly"
       },
       "data": [
        {
         "hovertemplate": "Method=TTS-GAN<br>value=%{r}<br>Dataset=%{theta}<extra></extra>",
         "legendgroup": "TTS-GAN",
         "line": {
          "color": "#636efa",
          "dash": "solid"
         },
         "marker": {
          "symbol": "circle"
         },
         "mode": "lines",
         "name": "TTS-GAN",
         "r": [
          5,
          4.7,
          4.9,
          4.8,
          4.5,
          4.8,
          5
         ],
         "showlegend": true,
         "subplot": "polar",
         "theta": [
          "D2",
          "D3",
          "D4",
          "D5",
          "D6",
          "D7",
          "D2"
         ],
         "type": "scatterpolar"
        },
        {
         "hovertemplate": "Method=Time-Transformer<br>value=%{r}<br>Dataset=%{theta}<extra></extra>",
         "legendgroup": "Time-Transformer",
         "line": {
          "color": "#EF553B",
          "dash": "solid"
         },
         "marker": {
          "symbol": "circle"
         },
         "mode": "lines",
         "name": "Time-Transformer",
         "r": [
          3.5,
          3.4,
          2.6,
          2.3,
          2.4,
          2.2,
          3.5
         ],
         "showlegend": true,
         "subplot": "polar",
         "theta": [
          "D2",
          "D3",
          "D4",
          "D5",
          "D6",
          "D7",
          "D2"
         ],
         "type": "scatterpolar"
        },
        {
         "hovertemplate": "Method=TimeGAN<br>value=%{r}<br>Dataset=%{theta}<extra></extra>",
         "legendgroup": "TimeGAN",
         "line": {
          "color": "#00cc96",
          "dash": "solid"
         },
         "marker": {
          "symbol": "circle"
         },
         "mode": "lines",
         "name": "TimeGAN",
         "r": [
          2.1,
          3,
          3.7,
          2.9,
          3.9,
          3.4,
          2.1
         ],
         "showlegend": true,
         "subplot": "polar",
         "theta": [
          "D2",
          "D3",
          "D4",
          "D5",
          "D6",
          "D7",
          "D2"
         ],
         "type": "scatterpolar"
        },
        {
         "hovertemplate": "Method=TimeVQVAE<br>value=%{r}<br>Dataset=%{theta}<extra></extra>",
         "legendgroup": "TimeVQVAE",
         "line": {
          "color": "#ab63fa",
          "dash": "solid"
         },
         "marker": {
          "symbol": "circle"
         },
         "mode": "lines",
         "name": "TimeVQVAE",
         "r": [
          2.1,
          2.1,
          2,
          3.6,
          2.4,
          2.8,
          2.1
         ],
         "showlegend": true,
         "subplot": "polar",
         "theta": [
          "D2",
          "D3",
          "D4",
          "D5",
          "D6",
          "D7",
          "D2"
         ],
         "type": "scatterpolar"
        },
        {
         "hovertemplate": "Method=TransFusion<br>value=%{r}<br>Dataset=%{theta}<extra></extra>",
         "legendgroup": "TransFusion",
         "line": {
          "color": "#FFA15A",
          "dash": "solid"
         },
         "marker": {
          "symbol": "circle"
         },
         "mode": "lines",
         "name": "TransFusion",
         "r": [
          2.3,
          1.8,
          1.8,
          1.4,
          1.8,
          1.8,
          2.3
         ],
         "showlegend": true,
         "subplot": "polar",
         "theta": [
          "D2",
          "D3",
          "D4",
          "D5",
          "D6",
          "D7",
          "D2"
         ],
         "type": "scatterpolar"
        }
       ],
       "layout": {
        "legend": {
         "title": {
          "text": "Method"
         },
         "tracegroupgap": 0
        },
        "margin": {
         "t": 60
        },
        "polar": {
         "angularaxis": {
          "direction": "clockwise",
          "rotation": 90
         },
         "domain": {
          "x": [
           0,
           1
          ],
          "y": [
           0,
           1
          ]
         },
         "radialaxis": {
          "dtick": 1,
          "range": [
           5.9,
           1
          ]
         }
        },
        "template": {
         "data": {
          "bar": [
           {
            "error_x": {
             "color": "#2a3f5f"
            },
            "error_y": {
             "color": "#2a3f5f"
            },
            "marker": {
             "line": {
              "color": "#E5ECF6",
              "width": 0.5
             },
             "pattern": {
              "fillmode": "overlay",
              "size": 10,
              "solidity": 0.2
             }
            },
            "type": "bar"
           }
          ],
          "barpolar": [
           {
            "marker": {
             "line": {
              "color": "#E5ECF6",
              "width": 0.5
             },
             "pattern": {
              "fillmode": "overlay",
              "size": 10,
              "solidity": 0.2
             }
            },
            "type": "barpolar"
           }
          ],
          "carpet": [
           {
            "aaxis": {
             "endlinecolor": "#2a3f5f",
             "gridcolor": "white",
             "linecolor": "white",
             "minorgridcolor": "white",
             "startlinecolor": "#2a3f5f"
            },
            "baxis": {
             "endlinecolor": "#2a3f5f",
             "gridcolor": "white",
             "linecolor": "white",
             "minorgridcolor": "white",
             "startlinecolor": "#2a3f5f"
            },
            "type": "carpet"
           }
          ],
          "choropleth": [
           {
            "colorbar": {
             "outlinewidth": 0,
             "ticks": ""
            },
            "type": "choropleth"
           }
          ],
          "contour": [
           {
            "colorbar": {
             "outlinewidth": 0,
             "ticks": ""
            },
            "colorscale": [
             [
              0,
              "#0d0887"
             ],
             [
              0.1111111111111111,
              "#46039f"
             ],
             [
              0.2222222222222222,
              "#7201a8"
             ],
             [
              0.3333333333333333,
              "#9c179e"
             ],
             [
              0.4444444444444444,
              "#bd3786"
             ],
             [
              0.5555555555555556,
              "#d8576b"
             ],
             [
              0.6666666666666666,
              "#ed7953"
             ],
             [
              0.7777777777777778,
              "#fb9f3a"
             ],
             [
              0.8888888888888888,
              "#fdca26"
             ],
             [
              1,
              "#f0f921"
             ]
            ],
            "type": "contour"
           }
          ],
          "contourcarpet": [
           {
            "colorbar": {
             "outlinewidth": 0,
             "ticks": ""
            },
            "type": "contourcarpet"
           }
          ],
          "heatmap": [
           {
            "colorbar": {
             "outlinewidth": 0,
             "ticks": ""
            },
            "colorscale": [
             [
              0,
              "#0d0887"
             ],
             [
              0.1111111111111111,
              "#46039f"
             ],
             [
              0.2222222222222222,
              "#7201a8"
             ],
             [
              0.3333333333333333,
              "#9c179e"
             ],
             [
              0.4444444444444444,
              "#bd3786"
             ],
             [
              0.5555555555555556,
              "#d8576b"
             ],
             [
              0.6666666666666666,
              "#ed7953"
             ],
             [
              0.7777777777777778,
              "#fb9f3a"
             ],
             [
              0.8888888888888888,
              "#fdca26"
             ],
             [
              1,
              "#f0f921"
             ]
            ],
            "type": "heatmap"
           }
          ],
          "heatmapgl": [
           {
            "colorbar": {
             "outlinewidth": 0,
             "ticks": ""
            },
            "colorscale": [
             [
              0,
              "#0d0887"
             ],
             [
              0.1111111111111111,
              "#46039f"
             ],
             [
              0.2222222222222222,
              "#7201a8"
             ],
             [
              0.3333333333333333,
              "#9c179e"
             ],
             [
              0.4444444444444444,
              "#bd3786"
             ],
             [
              0.5555555555555556,
              "#d8576b"
             ],
             [
              0.6666666666666666,
              "#ed7953"
             ],
             [
              0.7777777777777778,
              "#fb9f3a"
             ],
             [
              0.8888888888888888,
              "#fdca26"
             ],
             [
              1,
              "#f0f921"
             ]
            ],
            "type": "heatmapgl"
           }
          ],
          "histogram": [
           {
            "marker": {
             "pattern": {
              "fillmode": "overlay",
              "size": 10,
              "solidity": 0.2
             }
            },
            "type": "histogram"
           }
          ],
          "histogram2d": [
           {
            "colorbar": {
             "outlinewidth": 0,
             "ticks": ""
            },
            "colorscale": [
             [
              0,
              "#0d0887"
             ],
             [
              0.1111111111111111,
              "#46039f"
             ],
             [
              0.2222222222222222,
              "#7201a8"
             ],
             [
              0.3333333333333333,
              "#9c179e"
             ],
             [
              0.4444444444444444,
              "#bd3786"
             ],
             [
              0.5555555555555556,
              "#d8576b"
             ],
             [
              0.6666666666666666,
              "#ed7953"
             ],
             [
              0.7777777777777778,
              "#fb9f3a"
             ],
             [
              0.8888888888888888,
              "#fdca26"
             ],
             [
              1,
              "#f0f921"
             ]
            ],
            "type": "histogram2d"
           }
          ],
          "histogram2dcontour": [
           {
            "colorbar": {
             "outlinewidth": 0,
             "ticks": ""
            },
            "colorscale": [
             [
              0,
              "#0d0887"
             ],
             [
              0.1111111111111111,
              "#46039f"
             ],
             [
              0.2222222222222222,
              "#7201a8"
             ],
             [
              0.3333333333333333,
              "#9c179e"
             ],
             [
              0.4444444444444444,
              "#bd3786"
             ],
             [
              0.5555555555555556,
              "#d8576b"
             ],
             [
              0.6666666666666666,
              "#ed7953"
             ],
             [
              0.7777777777777778,
              "#fb9f3a"
             ],
             [
              0.8888888888888888,
              "#fdca26"
             ],
             [
              1,
              "#f0f921"
             ]
            ],
            "type": "histogram2dcontour"
           }
          ],
          "mesh3d": [
           {
            "colorbar": {
             "outlinewidth": 0,
             "ticks": ""
            },
            "type": "mesh3d"
           }
          ],
          "parcoords": [
           {
            "line": {
             "colorbar": {
              "outlinewidth": 0,
              "ticks": ""
             }
            },
            "type": "parcoords"
           }
          ],
          "pie": [
           {
            "automargin": true,
            "type": "pie"
           }
          ],
          "scatter": [
           {
            "fillpattern": {
             "fillmode": "overlay",
             "size": 10,
             "solidity": 0.2
            },
            "type": "scatter"
           }
          ],
          "scatter3d": [
           {
            "line": {
             "colorbar": {
              "outlinewidth": 0,
              "ticks": ""
             }
            },
            "marker": {
             "colorbar": {
              "outlinewidth": 0,
              "ticks": ""
             }
            },
            "type": "scatter3d"
           }
          ],
          "scattercarpet": [
           {
            "marker": {
             "colorbar": {
              "outlinewidth": 0,
              "ticks": ""
             }
            },
            "type": "scattercarpet"
           }
          ],
          "scattergeo": [
           {
            "marker": {
             "colorbar": {
              "outlinewidth": 0,
              "ticks": ""
             }
            },
            "type": "scattergeo"
           }
          ],
          "scattergl": [
           {
            "marker": {
             "colorbar": {
              "outlinewidth": 0,
              "ticks": ""
             }
            },
            "type": "scattergl"
           }
          ],
          "scattermapbox": [
           {
            "marker": {
             "colorbar": {
              "outlinewidth": 0,
              "ticks": ""
             }
            },
            "type": "scattermapbox"
           }
          ],
          "scatterpolar": [
           {
            "marker": {
             "colorbar": {
              "outlinewidth": 0,
              "ticks": ""
             }
            },
            "type": "scatterpolar"
           }
          ],
          "scatterpolargl": [
           {
            "marker": {
             "colorbar": {
              "outlinewidth": 0,
              "ticks": ""
             }
            },
            "type": "scatterpolargl"
           }
          ],
          "scatterternary": [
           {
            "marker": {
             "colorbar": {
              "outlinewidth": 0,
              "ticks": ""
             }
            },
            "type": "scatterternary"
           }
          ],
          "surface": [
           {
            "colorbar": {
             "outlinewidth": 0,
             "ticks": ""
            },
            "colorscale": [
             [
              0,
              "#0d0887"
             ],
             [
              0.1111111111111111,
              "#46039f"
             ],
             [
              0.2222222222222222,
              "#7201a8"
             ],
             [
              0.3333333333333333,
              "#9c179e"
             ],
             [
              0.4444444444444444,
              "#bd3786"
             ],
             [
              0.5555555555555556,
              "#d8576b"
             ],
             [
              0.6666666666666666,
              "#ed7953"
             ],
             [
              0.7777777777777778,
              "#fb9f3a"
             ],
             [
              0.8888888888888888,
              "#fdca26"
             ],
             [
              1,
              "#f0f921"
             ]
            ],
            "type": "surface"
           }
          ],
          "table": [
           {
            "cells": {
             "fill": {
              "color": "#EBF0F8"
             },
             "line": {
              "color": "white"
             }
            },
            "header": {
             "fill": {
              "color": "#C8D4E3"
             },
             "line": {
              "color": "white"
             }
            },
            "type": "table"
           }
          ]
         },
         "layout": {
          "annotationdefaults": {
           "arrowcolor": "#2a3f5f",
           "arrowhead": 0,
           "arrowwidth": 1
          },
          "autotypenumbers": "strict",
          "coloraxis": {
           "colorbar": {
            "outlinewidth": 0,
            "ticks": ""
           }
          },
          "colorscale": {
           "diverging": [
            [
             0,
             "#8e0152"
            ],
            [
             0.1,
             "#c51b7d"
            ],
            [
             0.2,
             "#de77ae"
            ],
            [
             0.3,
             "#f1b6da"
            ],
            [
             0.4,
             "#fde0ef"
            ],
            [
             0.5,
             "#f7f7f7"
            ],
            [
             0.6,
             "#e6f5d0"
            ],
            [
             0.7,
             "#b8e186"
            ],
            [
             0.8,
             "#7fbc41"
            ],
            [
             0.9,
             "#4d9221"
            ],
            [
             1,
             "#276419"
            ]
           ],
           "sequential": [
            [
             0,
             "#0d0887"
            ],
            [
             0.1111111111111111,
             "#46039f"
            ],
            [
             0.2222222222222222,
             "#7201a8"
            ],
            [
             0.3333333333333333,
             "#9c179e"
            ],
            [
             0.4444444444444444,
             "#bd3786"
            ],
            [
             0.5555555555555556,
             "#d8576b"
            ],
            [
             0.6666666666666666,
             "#ed7953"
            ],
            [
             0.7777777777777778,
             "#fb9f3a"
            ],
            [
             0.8888888888888888,
             "#fdca26"
            ],
            [
             1,
             "#f0f921"
            ]
           ],
           "sequentialminus": [
            [
             0,
             "#0d0887"
            ],
            [
             0.1111111111111111,
             "#46039f"
            ],
            [
             0.2222222222222222,
             "#7201a8"
            ],
            [
             0.3333333333333333,
             "#9c179e"
            ],
            [
             0.4444444444444444,
             "#bd3786"
            ],
            [
             0.5555555555555556,
             "#d8576b"
            ],
            [
             0.6666666666666666,
             "#ed7953"
            ],
            [
             0.7777777777777778,
             "#fb9f3a"
            ],
            [
             0.8888888888888888,
             "#fdca26"
            ],
            [
             1,
             "#f0f921"
            ]
           ]
          },
          "colorway": [
           "#636efa",
           "#EF553B",
           "#00cc96",
           "#ab63fa",
           "#FFA15A",
           "#19d3f3",
           "#FF6692",
           "#B6E880",
           "#FF97FF",
           "#FECB52"
          ],
          "font": {
           "color": "#2a3f5f"
          },
          "geo": {
           "bgcolor": "white",
           "lakecolor": "white",
           "landcolor": "#E5ECF6",
           "showlakes": true,
           "showland": true,
           "subunitcolor": "white"
          },
          "hoverlabel": {
           "align": "left"
          },
          "hovermode": "closest",
          "mapbox": {
           "style": "light"
          },
          "paper_bgcolor": "white",
          "plot_bgcolor": "#E5ECF6",
          "polar": {
           "angularaxis": {
            "gridcolor": "white",
            "linecolor": "white",
            "ticks": ""
           },
           "bgcolor": "#E5ECF6",
           "radialaxis": {
            "gridcolor": "white",
            "linecolor": "white",
            "ticks": ""
           }
          },
          "scene": {
           "xaxis": {
            "backgroundcolor": "#E5ECF6",
            "gridcolor": "white",
            "gridwidth": 2,
            "linecolor": "white",
            "showbackground": true,
            "ticks": "",
            "zerolinecolor": "white"
           },
           "yaxis": {
            "backgroundcolor": "#E5ECF6",
            "gridcolor": "white",
            "gridwidth": 2,
            "linecolor": "white",
            "showbackground": true,
            "ticks": "",
            "zerolinecolor": "white"
           },
           "zaxis": {
            "backgroundcolor": "#E5ECF6",
            "gridcolor": "white",
            "gridwidth": 2,
            "linecolor": "white",
            "showbackground": true,
            "ticks": "",
            "zerolinecolor": "white"
           }
          },
          "shapedefaults": {
           "line": {
            "color": "#2a3f5f"
           }
          },
          "ternary": {
           "aaxis": {
            "gridcolor": "white",
            "linecolor": "white",
            "ticks": ""
           },
           "baxis": {
            "gridcolor": "white",
            "linecolor": "white",
            "ticks": ""
           },
           "bgcolor": "#E5ECF6",
           "caxis": {
            "gridcolor": "white",
            "linecolor": "white",
            "ticks": ""
           }
          },
          "title": {
           "x": 0.05
          },
          "xaxis": {
           "automargin": true,
           "gridcolor": "white",
           "linecolor": "white",
           "ticks": "",
           "title": {
            "standoff": 15
           },
           "zerolinecolor": "white",
           "zerolinewidth": 2
          },
          "yaxis": {
           "automargin": true,
           "gridcolor": "white",
           "linecolor": "white",
           "ticks": "",
           "title": {
            "standoff": 15
           },
           "zerolinecolor": "white",
           "zerolinewidth": 2
          }
         }
        }
       }
      },
      "text/html": [
       "<div>                            <div id=\"a793560d-3699-42ac-9835-3aab646a8921\" class=\"plotly-graph-div\" style=\"height:525px; width:100%;\"></div>            <script type=\"text/javascript\">                require([\"plotly\"], function(Plotly) {                    window.PLOTLYENV=window.PLOTLYENV || {};                                    if (document.getElementById(\"a793560d-3699-42ac-9835-3aab646a8921\")) {                    Plotly.newPlot(                        \"a793560d-3699-42ac-9835-3aab646a8921\",                        [{\"hovertemplate\":\"Method=TTS-GAN\\u003cbr\\u003evalue=%{r}\\u003cbr\\u003eDataset=%{theta}\\u003cextra\\u003e\\u003c\\u002fextra\\u003e\",\"legendgroup\":\"TTS-GAN\",\"line\":{\"color\":\"#636efa\",\"dash\":\"solid\"},\"marker\":{\"symbol\":\"circle\"},\"mode\":\"lines\",\"name\":\"TTS-GAN\",\"r\":[5.0,4.7,4.9,4.8,4.5,4.8,5.0],\"showlegend\":true,\"subplot\":\"polar\",\"theta\":[\"D2\",\"D3\",\"D4\",\"D5\",\"D6\",\"D7\",\"D2\"],\"type\":\"scatterpolar\"},{\"hovertemplate\":\"Method=Time-Transformer\\u003cbr\\u003evalue=%{r}\\u003cbr\\u003eDataset=%{theta}\\u003cextra\\u003e\\u003c\\u002fextra\\u003e\",\"legendgroup\":\"Time-Transformer\",\"line\":{\"color\":\"#EF553B\",\"dash\":\"solid\"},\"marker\":{\"symbol\":\"circle\"},\"mode\":\"lines\",\"name\":\"Time-Transformer\",\"r\":[3.5,3.4,2.6,2.3,2.4,2.2,3.5],\"showlegend\":true,\"subplot\":\"polar\",\"theta\":[\"D2\",\"D3\",\"D4\",\"D5\",\"D6\",\"D7\",\"D2\"],\"type\":\"scatterpolar\"},{\"hovertemplate\":\"Method=TimeGAN\\u003cbr\\u003evalue=%{r}\\u003cbr\\u003eDataset=%{theta}\\u003cextra\\u003e\\u003c\\u002fextra\\u003e\",\"legendgroup\":\"TimeGAN\",\"line\":{\"color\":\"#00cc96\",\"dash\":\"solid\"},\"marker\":{\"symbol\":\"circle\"},\"mode\":\"lines\",\"name\":\"TimeGAN\",\"r\":[2.1,3.0,3.7,2.9,3.9,3.4,2.1],\"showlegend\":true,\"subplot\":\"polar\",\"theta\":[\"D2\",\"D3\",\"D4\",\"D5\",\"D6\",\"D7\",\"D2\"],\"type\":\"scatterpolar\"},{\"hovertemplate\":\"Method=TimeVQVAE\\u003cbr\\u003evalue=%{r}\\u003cbr\\u003eDataset=%{theta}\\u003cextra\\u003e\\u003c\\u002fextra\\u003e\",\"legendgroup\":\"TimeVQVAE\",\"line\":{\"color\":\"#ab63fa\",\"dash\":\"solid\"},\"marker\":{\"symbol\":\"circle\"},\"mode\":\"lines\",\"name\":\"TimeVQVAE\",\"r\":[2.1,2.1,2.0,3.6,2.4,2.8,2.1],\"showlegend\":true,\"subplot\":\"polar\",\"theta\":[\"D2\",\"D3\",\"D4\",\"D5\",\"D6\",\"D7\",\"D2\"],\"type\":\"scatterpolar\"},{\"hovertemplate\":\"Method=TransFusion\\u003cbr\\u003evalue=%{r}\\u003cbr\\u003eDataset=%{theta}\\u003cextra\\u003e\\u003c\\u002fextra\\u003e\",\"legendgroup\":\"TransFusion\",\"line\":{\"color\":\"#FFA15A\",\"dash\":\"solid\"},\"marker\":{\"symbol\":\"circle\"},\"mode\":\"lines\",\"name\":\"TransFusion\",\"r\":[2.3,1.8,1.8,1.4,1.8,1.8,2.3],\"showlegend\":true,\"subplot\":\"polar\",\"theta\":[\"D2\",\"D3\",\"D4\",\"D5\",\"D6\",\"D7\",\"D2\"],\"type\":\"scatterpolar\"}],                        {\"template\":{\"data\":{\"histogram2dcontour\":[{\"type\":\"histogram2dcontour\",\"colorbar\":{\"outlinewidth\":0,\"ticks\":\"\"},\"colorscale\":[[0.0,\"#0d0887\"],[0.1111111111111111,\"#46039f\"],[0.2222222222222222,\"#7201a8\"],[0.3333333333333333,\"#9c179e\"],[0.4444444444444444,\"#bd3786\"],[0.5555555555555556,\"#d8576b\"],[0.6666666666666666,\"#ed7953\"],[0.7777777777777778,\"#fb9f3a\"],[0.8888888888888888,\"#fdca26\"],[1.0,\"#f0f921\"]]}],\"choropleth\":[{\"type\":\"choropleth\",\"colorbar\":{\"outlinewidth\":0,\"ticks\":\"\"}}],\"histogram2d\":[{\"type\":\"histogram2d\",\"colorbar\":{\"outlinewidth\":0,\"ticks\":\"\"},\"colorscale\":[[0.0,\"#0d0887\"],[0.1111111111111111,\"#46039f\"],[0.2222222222222222,\"#7201a8\"],[0.3333333333333333,\"#9c179e\"],[0.4444444444444444,\"#bd3786\"],[0.5555555555555556,\"#d8576b\"],[0.6666666666666666,\"#ed7953\"],[0.7777777777777778,\"#fb9f3a\"],[0.8888888888888888,\"#fdca26\"],[1.0,\"#f0f921\"]]}],\"heatmap\":[{\"type\":\"heatmap\",\"colorbar\":{\"outlinewidth\":0,\"ticks\":\"\"},\"colorscale\":[[0.0,\"#0d0887\"],[0.1111111111111111,\"#46039f\"],[0.2222222222222222,\"#7201a8\"],[0.3333333333333333,\"#9c179e\"],[0.4444444444444444,\"#bd3786\"],[0.5555555555555556,\"#d8576b\"],[0.6666666666666666,\"#ed7953\"],[0.7777777777777778,\"#fb9f3a\"],[0.8888888888888888,\"#fdca26\"],[1.0,\"#f0f921\"]]}],\"heatmapgl\":[{\"type\":\"heatmapgl\",\"colorbar\":{\"outlinewidth\":0,\"ticks\":\"\"},\"colorscale\":[[0.0,\"#0d0887\"],[0.1111111111111111,\"#46039f\"],[0.2222222222222222,\"#7201a8\"],[0.3333333333333333,\"#9c179e\"],[0.4444444444444444,\"#bd3786\"],[0.5555555555555556,\"#d8576b\"],[0.6666666666666666,\"#ed7953\"],[0.7777777777777778,\"#fb9f3a\"],[0.8888888888888888,\"#fdca26\"],[1.0,\"#f0f921\"]]}],\"contourcarpet\":[{\"type\":\"contourcarpet\",\"colorbar\":{\"outlinewidth\":0,\"ticks\":\"\"}}],\"contour\":[{\"type\":\"contour\",\"colorbar\":{\"outlinewidth\":0,\"ticks\":\"\"},\"colorscale\":[[0.0,\"#0d0887\"],[0.1111111111111111,\"#46039f\"],[0.2222222222222222,\"#7201a8\"],[0.3333333333333333,\"#9c179e\"],[0.4444444444444444,\"#bd3786\"],[0.5555555555555556,\"#d8576b\"],[0.6666666666666666,\"#ed7953\"],[0.7777777777777778,\"#fb9f3a\"],[0.8888888888888888,\"#fdca26\"],[1.0,\"#f0f921\"]]}],\"surface\":[{\"type\":\"surface\",\"colorbar\":{\"outlinewidth\":0,\"ticks\":\"\"},\"colorscale\":[[0.0,\"#0d0887\"],[0.1111111111111111,\"#46039f\"],[0.2222222222222222,\"#7201a8\"],[0.3333333333333333,\"#9c179e\"],[0.4444444444444444,\"#bd3786\"],[0.5555555555555556,\"#d8576b\"],[0.6666666666666666,\"#ed7953\"],[0.7777777777777778,\"#fb9f3a\"],[0.8888888888888888,\"#fdca26\"],[1.0,\"#f0f921\"]]}],\"mesh3d\":[{\"type\":\"mesh3d\",\"colorbar\":{\"outlinewidth\":0,\"ticks\":\"\"}}],\"scatter\":[{\"fillpattern\":{\"fillmode\":\"overlay\",\"size\":10,\"solidity\":0.2},\"type\":\"scatter\"}],\"parcoords\":[{\"type\":\"parcoords\",\"line\":{\"colorbar\":{\"outlinewidth\":0,\"ticks\":\"\"}}}],\"scatterpolargl\":[{\"type\":\"scatterpolargl\",\"marker\":{\"colorbar\":{\"outlinewidth\":0,\"ticks\":\"\"}}}],\"bar\":[{\"error_x\":{\"color\":\"#2a3f5f\"},\"error_y\":{\"color\":\"#2a3f5f\"},\"marker\":{\"line\":{\"color\":\"#E5ECF6\",\"width\":0.5},\"pattern\":{\"fillmode\":\"overlay\",\"size\":10,\"solidity\":0.2}},\"type\":\"bar\"}],\"scattergeo\":[{\"type\":\"scattergeo\",\"marker\":{\"colorbar\":{\"outlinewidth\":0,\"ticks\":\"\"}}}],\"scatterpolar\":[{\"type\":\"scatterpolar\",\"marker\":{\"colorbar\":{\"outlinewidth\":0,\"ticks\":\"\"}}}],\"histogram\":[{\"marker\":{\"pattern\":{\"fillmode\":\"overlay\",\"size\":10,\"solidity\":0.2}},\"type\":\"histogram\"}],\"scattergl\":[{\"type\":\"scattergl\",\"marker\":{\"colorbar\":{\"outlinewidth\":0,\"ticks\":\"\"}}}],\"scatter3d\":[{\"type\":\"scatter3d\",\"line\":{\"colorbar\":{\"outlinewidth\":0,\"ticks\":\"\"}},\"marker\":{\"colorbar\":{\"outlinewidth\":0,\"ticks\":\"\"}}}],\"scattermapbox\":[{\"type\":\"scattermapbox\",\"marker\":{\"colorbar\":{\"outlinewidth\":0,\"ticks\":\"\"}}}],\"scatterternary\":[{\"type\":\"scatterternary\",\"marker\":{\"colorbar\":{\"outlinewidth\":0,\"ticks\":\"\"}}}],\"scattercarpet\":[{\"type\":\"scattercarpet\",\"marker\":{\"colorbar\":{\"outlinewidth\":0,\"ticks\":\"\"}}}],\"carpet\":[{\"aaxis\":{\"endlinecolor\":\"#2a3f5f\",\"gridcolor\":\"white\",\"linecolor\":\"white\",\"minorgridcolor\":\"white\",\"startlinecolor\":\"#2a3f5f\"},\"baxis\":{\"endlinecolor\":\"#2a3f5f\",\"gridcolor\":\"white\",\"linecolor\":\"white\",\"minorgridcolor\":\"white\",\"startlinecolor\":\"#2a3f5f\"},\"type\":\"carpet\"}],\"table\":[{\"cells\":{\"fill\":{\"color\":\"#EBF0F8\"},\"line\":{\"color\":\"white\"}},\"header\":{\"fill\":{\"color\":\"#C8D4E3\"},\"line\":{\"color\":\"white\"}},\"type\":\"table\"}],\"barpolar\":[{\"marker\":{\"line\":{\"color\":\"#E5ECF6\",\"width\":0.5},\"pattern\":{\"fillmode\":\"overlay\",\"size\":10,\"solidity\":0.2}},\"type\":\"barpolar\"}],\"pie\":[{\"automargin\":true,\"type\":\"pie\"}]},\"layout\":{\"autotypenumbers\":\"strict\",\"colorway\":[\"#636efa\",\"#EF553B\",\"#00cc96\",\"#ab63fa\",\"#FFA15A\",\"#19d3f3\",\"#FF6692\",\"#B6E880\",\"#FF97FF\",\"#FECB52\"],\"font\":{\"color\":\"#2a3f5f\"},\"hovermode\":\"closest\",\"hoverlabel\":{\"align\":\"left\"},\"paper_bgcolor\":\"white\",\"plot_bgcolor\":\"#E5ECF6\",\"polar\":{\"bgcolor\":\"#E5ECF6\",\"angularaxis\":{\"gridcolor\":\"white\",\"linecolor\":\"white\",\"ticks\":\"\"},\"radialaxis\":{\"gridcolor\":\"white\",\"linecolor\":\"white\",\"ticks\":\"\"}},\"ternary\":{\"bgcolor\":\"#E5ECF6\",\"aaxis\":{\"gridcolor\":\"white\",\"linecolor\":\"white\",\"ticks\":\"\"},\"baxis\":{\"gridcolor\":\"white\",\"linecolor\":\"white\",\"ticks\":\"\"},\"caxis\":{\"gridcolor\":\"white\",\"linecolor\":\"white\",\"ticks\":\"\"}},\"coloraxis\":{\"colorbar\":{\"outlinewidth\":0,\"ticks\":\"\"}},\"colorscale\":{\"sequential\":[[0.0,\"#0d0887\"],[0.1111111111111111,\"#46039f\"],[0.2222222222222222,\"#7201a8\"],[0.3333333333333333,\"#9c179e\"],[0.4444444444444444,\"#bd3786\"],[0.5555555555555556,\"#d8576b\"],[0.6666666666666666,\"#ed7953\"],[0.7777777777777778,\"#fb9f3a\"],[0.8888888888888888,\"#fdca26\"],[1.0,\"#f0f921\"]],\"sequentialminus\":[[0.0,\"#0d0887\"],[0.1111111111111111,\"#46039f\"],[0.2222222222222222,\"#7201a8\"],[0.3333333333333333,\"#9c179e\"],[0.4444444444444444,\"#bd3786\"],[0.5555555555555556,\"#d8576b\"],[0.6666666666666666,\"#ed7953\"],[0.7777777777777778,\"#fb9f3a\"],[0.8888888888888888,\"#fdca26\"],[1.0,\"#f0f921\"]],\"diverging\":[[0,\"#8e0152\"],[0.1,\"#c51b7d\"],[0.2,\"#de77ae\"],[0.3,\"#f1b6da\"],[0.4,\"#fde0ef\"],[0.5,\"#f7f7f7\"],[0.6,\"#e6f5d0\"],[0.7,\"#b8e186\"],[0.8,\"#7fbc41\"],[0.9,\"#4d9221\"],[1,\"#276419\"]]},\"xaxis\":{\"gridcolor\":\"white\",\"linecolor\":\"white\",\"ticks\":\"\",\"title\":{\"standoff\":15},\"zerolinecolor\":\"white\",\"automargin\":true,\"zerolinewidth\":2},\"yaxis\":{\"gridcolor\":\"white\",\"linecolor\":\"white\",\"ticks\":\"\",\"title\":{\"standoff\":15},\"zerolinecolor\":\"white\",\"automargin\":true,\"zerolinewidth\":2},\"scene\":{\"xaxis\":{\"backgroundcolor\":\"#E5ECF6\",\"gridcolor\":\"white\",\"linecolor\":\"white\",\"showbackground\":true,\"ticks\":\"\",\"zerolinecolor\":\"white\",\"gridwidth\":2},\"yaxis\":{\"backgroundcolor\":\"#E5ECF6\",\"gridcolor\":\"white\",\"linecolor\":\"white\",\"showbackground\":true,\"ticks\":\"\",\"zerolinecolor\":\"white\",\"gridwidth\":2},\"zaxis\":{\"backgroundcolor\":\"#E5ECF6\",\"gridcolor\":\"white\",\"linecolor\":\"white\",\"showbackground\":true,\"ticks\":\"\",\"zerolinecolor\":\"white\",\"gridwidth\":2}},\"shapedefaults\":{\"line\":{\"color\":\"#2a3f5f\"}},\"annotationdefaults\":{\"arrowcolor\":\"#2a3f5f\",\"arrowhead\":0,\"arrowwidth\":1},\"geo\":{\"bgcolor\":\"white\",\"landcolor\":\"#E5ECF6\",\"subunitcolor\":\"white\",\"showland\":true,\"showlakes\":true,\"lakecolor\":\"white\"},\"title\":{\"x\":0.05},\"mapbox\":{\"style\":\"light\"}}},\"polar\":{\"domain\":{\"x\":[0.0,1.0],\"y\":[0.0,1.0]},\"angularaxis\":{\"direction\":\"clockwise\",\"rotation\":90},\"radialaxis\":{\"range\":[5.9,1],\"dtick\":1}},\"legend\":{\"title\":{\"text\":\"Method\"},\"tracegroupgap\":0},\"margin\":{\"t\":60}},                        {\"responsive\": true}                    ).then(function(){\n",
       "                            \n",
       "var gd = document.getElementById('a793560d-3699-42ac-9835-3aab646a8921');\n",
       "var x = new MutationObserver(function (mutations, observer) {{\n",
       "        var display = window.getComputedStyle(gd).display;\n",
       "        if (!display || display === 'none') {{\n",
       "            console.log([gd, 'removed!']);\n",
       "            Plotly.purge(gd);\n",
       "            observer.disconnect();\n",
       "        }}\n",
       "}});\n",
       "\n",
       "// Listen for the removal of the full notebook cells\n",
       "var notebookContainer = gd.closest('#notebook-container');\n",
       "if (notebookContainer) {{\n",
       "    x.observe(notebookContainer, {childList: true});\n",
       "}}\n",
       "\n",
       "// Listen for the clearing of the current output cell\n",
       "var outputEl = gd.closest('.output');\n",
       "if (outputEl) {{\n",
       "    x.observe(outputEl, {childList: true});\n",
       "}}\n",
       "\n",
       "                        })                };                });            </script>        </div>"
      ]
     },
     "metadata": {},
     "output_type": "display_data"
    }
   ],
   "source": [
    "ranking_by_dataset = rankings.stack(level=0).reset_index().groupby(\"Method\").mean()\n",
    "spider_by_dataset = ranking_by_dataset.reset_index().melt(id_vars=\"Method\")\n",
    "px.line_polar(spider_by_dataset, r=\"value\", theta=\"Dataset\", color=\"Method\", line_close=True) \\\n",
    "    .update_layout(polar={\"radialaxis\": {\"range\": [5.9,1], \"dtick\": 1}})"
   ]
  },
  {
   "cell_type": "code",
   "execution_count": 113,
   "id": "f25844fc",
   "metadata": {},
   "outputs": [
    {
     "data": {
      "application/vnd.plotly.v1+json": {
       "config": {
        "plotlyServerURL": "https://plot.ly"
       },
       "data": [
        {
         "marker": {
          "color": [
           "#636EFA",
           "#EF553B",
           "#00CC96",
           "#AB63FA",
           "#FFA15A",
           "#19D3F3"
          ],
          "size": 12
         },
         "mode": "markers+text",
         "text": [
          "TTS-GAN",
          "Time-Transformer",
          "TimeGAN",
          "TimeVQVAE",
          "TransFusion"
         ],
         "textfont": {
          "color": [
           "#636EFA",
           "#EF553B",
           "#00CC96",
           "#AB63FA",
           "#FFA15A",
           "#19D3F3"
          ]
         },
         "textposition": [
          "top center",
          "bottom center",
          "top center",
          "top center",
          "top center"
         ],
         "type": "scatter",
         "x": [
          4.783333333333333,
          2.7333333333333334,
          3.1666666666666665,
          2.5,
          1.8166666666666667
         ],
         "y": [
          0,
          0,
          0,
          0,
          0
         ]
        }
       ],
       "layout": {
        "height": 200,
        "margin": {
         "b": 60,
         "l": 150,
         "r": 150,
         "t": 60
        },
        "shapes": [
         {
          "layer": "below",
          "line": {
           "color": "rgb(50.0,50.0,50.0)",
           "width": 2
          },
          "type": "line",
          "x0": 3.1666666666666665,
          "x1": 2.7333333333333334,
          "y0": 0.07,
          "y1": 0.07
         },
         {
          "layer": "below",
          "line": {
           "color": "rgb(150.0,150.0,150.0)",
           "width": 2
          },
          "type": "line",
          "x0": 2.7333333333333334,
          "x1": 2.5,
          "y0": 0.14,
          "y1": 0.14
         },
         {
          "layer": "below",
          "line": {
           "color": "black",
           "width": 1
          },
          "type": "line",
          "x0": 1,
          "x1": 5,
          "y0": 0,
          "y1": 0
         },
         {
          "layer": "below",
          "line": {
           "color": "black",
           "width": 1
          },
          "type": "line",
          "x0": 1,
          "x1": 1,
          "y0": -1,
          "y1": 1
         }
        ],
        "showlegend": false,
        "template": {
         "data": {
          "bar": [
           {
            "error_x": {
             "color": "#2a3f5f"
            },
            "error_y": {
             "color": "#2a3f5f"
            },
            "marker": {
             "line": {
              "color": "#E5ECF6",
              "width": 0.5
             },
             "pattern": {
              "fillmode": "overlay",
              "size": 10,
              "solidity": 0.2
             }
            },
            "type": "bar"
           }
          ],
          "barpolar": [
           {
            "marker": {
             "line": {
              "color": "#E5ECF6",
              "width": 0.5
             },
             "pattern": {
              "fillmode": "overlay",
              "size": 10,
              "solidity": 0.2
             }
            },
            "type": "barpolar"
           }
          ],
          "carpet": [
           {
            "aaxis": {
             "endlinecolor": "#2a3f5f",
             "gridcolor": "white",
             "linecolor": "white",
             "minorgridcolor": "white",
             "startlinecolor": "#2a3f5f"
            },
            "baxis": {
             "endlinecolor": "#2a3f5f",
             "gridcolor": "white",
             "linecolor": "white",
             "minorgridcolor": "white",
             "startlinecolor": "#2a3f5f"
            },
            "type": "carpet"
           }
          ],
          "choropleth": [
           {
            "colorbar": {
             "outlinewidth": 0,
             "ticks": ""
            },
            "type": "choropleth"
           }
          ],
          "contour": [
           {
            "colorbar": {
             "outlinewidth": 0,
             "ticks": ""
            },
            "colorscale": [
             [
              0,
              "#0d0887"
             ],
             [
              0.1111111111111111,
              "#46039f"
             ],
             [
              0.2222222222222222,
              "#7201a8"
             ],
             [
              0.3333333333333333,
              "#9c179e"
             ],
             [
              0.4444444444444444,
              "#bd3786"
             ],
             [
              0.5555555555555556,
              "#d8576b"
             ],
             [
              0.6666666666666666,
              "#ed7953"
             ],
             [
              0.7777777777777778,
              "#fb9f3a"
             ],
             [
              0.8888888888888888,
              "#fdca26"
             ],
             [
              1,
              "#f0f921"
             ]
            ],
            "type": "contour"
           }
          ],
          "contourcarpet": [
           {
            "colorbar": {
             "outlinewidth": 0,
             "ticks": ""
            },
            "type": "contourcarpet"
           }
          ],
          "heatmap": [
           {
            "colorbar": {
             "outlinewidth": 0,
             "ticks": ""
            },
            "colorscale": [
             [
              0,
              "#0d0887"
             ],
             [
              0.1111111111111111,
              "#46039f"
             ],
             [
              0.2222222222222222,
              "#7201a8"
             ],
             [
              0.3333333333333333,
              "#9c179e"
             ],
             [
              0.4444444444444444,
              "#bd3786"
             ],
             [
              0.5555555555555556,
              "#d8576b"
             ],
             [
              0.6666666666666666,
              "#ed7953"
             ],
             [
              0.7777777777777778,
              "#fb9f3a"
             ],
             [
              0.8888888888888888,
              "#fdca26"
             ],
             [
              1,
              "#f0f921"
             ]
            ],
            "type": "heatmap"
           }
          ],
          "heatmapgl": [
           {
            "colorbar": {
             "outlinewidth": 0,
             "ticks": ""
            },
            "colorscale": [
             [
              0,
              "#0d0887"
             ],
             [
              0.1111111111111111,
              "#46039f"
             ],
             [
              0.2222222222222222,
              "#7201a8"
             ],
             [
              0.3333333333333333,
              "#9c179e"
             ],
             [
              0.4444444444444444,
              "#bd3786"
             ],
             [
              0.5555555555555556,
              "#d8576b"
             ],
             [
              0.6666666666666666,
              "#ed7953"
             ],
             [
              0.7777777777777778,
              "#fb9f3a"
             ],
             [
              0.8888888888888888,
              "#fdca26"
             ],
             [
              1,
              "#f0f921"
             ]
            ],
            "type": "heatmapgl"
           }
          ],
          "histogram": [
           {
            "marker": {
             "pattern": {
              "fillmode": "overlay",
              "size": 10,
              "solidity": 0.2
             }
            },
            "type": "histogram"
           }
          ],
          "histogram2d": [
           {
            "colorbar": {
             "outlinewidth": 0,
             "ticks": ""
            },
            "colorscale": [
             [
              0,
              "#0d0887"
             ],
             [
              0.1111111111111111,
              "#46039f"
             ],
             [
              0.2222222222222222,
              "#7201a8"
             ],
             [
              0.3333333333333333,
              "#9c179e"
             ],
             [
              0.4444444444444444,
              "#bd3786"
             ],
             [
              0.5555555555555556,
              "#d8576b"
             ],
             [
              0.6666666666666666,
              "#ed7953"
             ],
             [
              0.7777777777777778,
              "#fb9f3a"
             ],
             [
              0.8888888888888888,
              "#fdca26"
             ],
             [
              1,
              "#f0f921"
             ]
            ],
            "type": "histogram2d"
           }
          ],
          "histogram2dcontour": [
           {
            "colorbar": {
             "outlinewidth": 0,
             "ticks": ""
            },
            "colorscale": [
             [
              0,
              "#0d0887"
             ],
             [
              0.1111111111111111,
              "#46039f"
             ],
             [
              0.2222222222222222,
              "#7201a8"
             ],
             [
              0.3333333333333333,
              "#9c179e"
             ],
             [
              0.4444444444444444,
              "#bd3786"
             ],
             [
              0.5555555555555556,
              "#d8576b"
             ],
             [
              0.6666666666666666,
              "#ed7953"
             ],
             [
              0.7777777777777778,
              "#fb9f3a"
             ],
             [
              0.8888888888888888,
              "#fdca26"
             ],
             [
              1,
              "#f0f921"
             ]
            ],
            "type": "histogram2dcontour"
           }
          ],
          "mesh3d": [
           {
            "colorbar": {
             "outlinewidth": 0,
             "ticks": ""
            },
            "type": "mesh3d"
           }
          ],
          "parcoords": [
           {
            "line": {
             "colorbar": {
              "outlinewidth": 0,
              "ticks": ""
             }
            },
            "type": "parcoords"
           }
          ],
          "pie": [
           {
            "automargin": true,
            "type": "pie"
           }
          ],
          "scatter": [
           {
            "fillpattern": {
             "fillmode": "overlay",
             "size": 10,
             "solidity": 0.2
            },
            "type": "scatter"
           }
          ],
          "scatter3d": [
           {
            "line": {
             "colorbar": {
              "outlinewidth": 0,
              "ticks": ""
             }
            },
            "marker": {
             "colorbar": {
              "outlinewidth": 0,
              "ticks": ""
             }
            },
            "type": "scatter3d"
           }
          ],
          "scattercarpet": [
           {
            "marker": {
             "colorbar": {
              "outlinewidth": 0,
              "ticks": ""
             }
            },
            "type": "scattercarpet"
           }
          ],
          "scattergeo": [
           {
            "marker": {
             "colorbar": {
              "outlinewidth": 0,
              "ticks": ""
             }
            },
            "type": "scattergeo"
           }
          ],
          "scattergl": [
           {
            "marker": {
             "colorbar": {
              "outlinewidth": 0,
              "ticks": ""
             }
            },
            "type": "scattergl"
           }
          ],
          "scattermapbox": [
           {
            "marker": {
             "colorbar": {
              "outlinewidth": 0,
              "ticks": ""
             }
            },
            "type": "scattermapbox"
           }
          ],
          "scatterpolar": [
           {
            "marker": {
             "colorbar": {
              "outlinewidth": 0,
              "ticks": ""
             }
            },
            "type": "scatterpolar"
           }
          ],
          "scatterpolargl": [
           {
            "marker": {
             "colorbar": {
              "outlinewidth": 0,
              "ticks": ""
             }
            },
            "type": "scatterpolargl"
           }
          ],
          "scatterternary": [
           {
            "marker": {
             "colorbar": {
              "outlinewidth": 0,
              "ticks": ""
             }
            },
            "type": "scatterternary"
           }
          ],
          "surface": [
           {
            "colorbar": {
             "outlinewidth": 0,
             "ticks": ""
            },
            "colorscale": [
             [
              0,
              "#0d0887"
             ],
             [
              0.1111111111111111,
              "#46039f"
             ],
             [
              0.2222222222222222,
              "#7201a8"
             ],
             [
              0.3333333333333333,
              "#9c179e"
             ],
             [
              0.4444444444444444,
              "#bd3786"
             ],
             [
              0.5555555555555556,
              "#d8576b"
             ],
             [
              0.6666666666666666,
              "#ed7953"
             ],
             [
              0.7777777777777778,
              "#fb9f3a"
             ],
             [
              0.8888888888888888,
              "#fdca26"
             ],
             [
              1,
              "#f0f921"
             ]
            ],
            "type": "surface"
           }
          ],
          "table": [
           {
            "cells": {
             "fill": {
              "color": "#EBF0F8"
             },
             "line": {
              "color": "white"
             }
            },
            "header": {
             "fill": {
              "color": "#C8D4E3"
             },
             "line": {
              "color": "white"
             }
            },
            "type": "table"
           }
          ]
         },
         "layout": {
          "annotationdefaults": {
           "arrowcolor": "#2a3f5f",
           "arrowhead": 0,
           "arrowwidth": 1
          },
          "autotypenumbers": "strict",
          "coloraxis": {
           "colorbar": {
            "outlinewidth": 0,
            "ticks": ""
           }
          },
          "colorscale": {
           "diverging": [
            [
             0,
             "#8e0152"
            ],
            [
             0.1,
             "#c51b7d"
            ],
            [
             0.2,
             "#de77ae"
            ],
            [
             0.3,
             "#f1b6da"
            ],
            [
             0.4,
             "#fde0ef"
            ],
            [
             0.5,
             "#f7f7f7"
            ],
            [
             0.6,
             "#e6f5d0"
            ],
            [
             0.7,
             "#b8e186"
            ],
            [
             0.8,
             "#7fbc41"
            ],
            [
             0.9,
             "#4d9221"
            ],
            [
             1,
             "#276419"
            ]
           ],
           "sequential": [
            [
             0,
             "#0d0887"
            ],
            [
             0.1111111111111111,
             "#46039f"
            ],
            [
             0.2222222222222222,
             "#7201a8"
            ],
            [
             0.3333333333333333,
             "#9c179e"
            ],
            [
             0.4444444444444444,
             "#bd3786"
            ],
            [
             0.5555555555555556,
             "#d8576b"
            ],
            [
             0.6666666666666666,
             "#ed7953"
            ],
            [
             0.7777777777777778,
             "#fb9f3a"
            ],
            [
             0.8888888888888888,
             "#fdca26"
            ],
            [
             1,
             "#f0f921"
            ]
           ],
           "sequentialminus": [
            [
             0,
             "#0d0887"
            ],
            [
             0.1111111111111111,
             "#46039f"
            ],
            [
             0.2222222222222222,
             "#7201a8"
            ],
            [
             0.3333333333333333,
             "#9c179e"
            ],
            [
             0.4444444444444444,
             "#bd3786"
            ],
            [
             0.5555555555555556,
             "#d8576b"
            ],
            [
             0.6666666666666666,
             "#ed7953"
            ],
            [
             0.7777777777777778,
             "#fb9f3a"
            ],
            [
             0.8888888888888888,
             "#fdca26"
            ],
            [
             1,
             "#f0f921"
            ]
           ]
          },
          "colorway": [
           "#636efa",
           "#EF553B",
           "#00cc96",
           "#ab63fa",
           "#FFA15A",
           "#19d3f3",
           "#FF6692",
           "#B6E880",
           "#FF97FF",
           "#FECB52"
          ],
          "font": {
           "color": "#2a3f5f"
          },
          "geo": {
           "bgcolor": "white",
           "lakecolor": "white",
           "landcolor": "#E5ECF6",
           "showlakes": true,
           "showland": true,
           "subunitcolor": "white"
          },
          "hoverlabel": {
           "align": "left"
          },
          "hovermode": "closest",
          "mapbox": {
           "style": "light"
          },
          "paper_bgcolor": "white",
          "plot_bgcolor": "#E5ECF6",
          "polar": {
           "angularaxis": {
            "gridcolor": "white",
            "linecolor": "white",
            "ticks": ""
           },
           "bgcolor": "#E5ECF6",
           "radialaxis": {
            "gridcolor": "white",
            "linecolor": "white",
            "ticks": ""
           }
          },
          "scene": {
           "xaxis": {
            "backgroundcolor": "#E5ECF6",
            "gridcolor": "white",
            "gridwidth": 2,
            "linecolor": "white",
            "showbackground": true,
            "ticks": "",
            "zerolinecolor": "white"
           },
           "yaxis": {
            "backgroundcolor": "#E5ECF6",
            "gridcolor": "white",
            "gridwidth": 2,
            "linecolor": "white",
            "showbackground": true,
            "ticks": "",
            "zerolinecolor": "white"
           },
           "zaxis": {
            "backgroundcolor": "#E5ECF6",
            "gridcolor": "white",
            "gridwidth": 2,
            "linecolor": "white",
            "showbackground": true,
            "ticks": "",
            "zerolinecolor": "white"
           }
          },
          "shapedefaults": {
           "line": {
            "color": "#2a3f5f"
           }
          },
          "ternary": {
           "aaxis": {
            "gridcolor": "white",
            "linecolor": "white",
            "ticks": ""
           },
           "baxis": {
            "gridcolor": "white",
            "linecolor": "white",
            "ticks": ""
           },
           "bgcolor": "#E5ECF6",
           "caxis": {
            "gridcolor": "white",
            "linecolor": "white",
            "ticks": ""
           }
          },
          "title": {
           "x": 0.05
          },
          "xaxis": {
           "automargin": true,
           "gridcolor": "white",
           "linecolor": "white",
           "ticks": "",
           "title": {
            "standoff": 15
           },
           "zerolinecolor": "white",
           "zerolinewidth": 2
          },
          "yaxis": {
           "automargin": true,
           "gridcolor": "white",
           "linecolor": "white",
           "ticks": "",
           "title": {
            "standoff": 15
           },
           "zerolinecolor": "white",
           "zerolinewidth": 2
          }
         }
        },
        "title": {
         "text": "All Measures"
        },
        "xaxis": {
         "range": [
          0.6,
          5.4
         ],
         "showgrid": true,
         "title": {
          "text": "Average Rankings"
         },
         "zeroline": false
        },
        "yaxis": {
         "title": {
          "text": ""
         },
         "visible": false
        }
       }
      },
      "text/html": [
       "<div>                            <div id=\"1b54715e-826c-4de2-a4e1-2e565f1682d4\" class=\"plotly-graph-div\" style=\"height:200px; width:100%;\"></div>            <script type=\"text/javascript\">                require([\"plotly\"], function(Plotly) {                    window.PLOTLYENV=window.PLOTLYENV || {};                                    if (document.getElementById(\"1b54715e-826c-4de2-a4e1-2e565f1682d4\")) {                    Plotly.newPlot(                        \"1b54715e-826c-4de2-a4e1-2e565f1682d4\",                        [{\"marker\":{\"color\":[\"#636EFA\",\"#EF553B\",\"#00CC96\",\"#AB63FA\",\"#FFA15A\",\"#19D3F3\"],\"size\":12},\"mode\":\"markers+text\",\"text\":[\"TTS-GAN\",\"Time-Transformer\",\"TimeGAN\",\"TimeVQVAE\",\"TransFusion\"],\"textfont\":{\"color\":[\"#636EFA\",\"#EF553B\",\"#00CC96\",\"#AB63FA\",\"#FFA15A\",\"#19D3F3\"]},\"textposition\":[\"top center\",\"bottom center\",\"top center\",\"top center\",\"top center\"],\"x\":[4.783333333333333,2.7333333333333334,3.1666666666666665,2.5,1.8166666666666667],\"y\":[0,0,0,0,0],\"type\":\"scatter\"}],                        {\"template\":{\"data\":{\"histogram2dcontour\":[{\"type\":\"histogram2dcontour\",\"colorbar\":{\"outlinewidth\":0,\"ticks\":\"\"},\"colorscale\":[[0.0,\"#0d0887\"],[0.1111111111111111,\"#46039f\"],[0.2222222222222222,\"#7201a8\"],[0.3333333333333333,\"#9c179e\"],[0.4444444444444444,\"#bd3786\"],[0.5555555555555556,\"#d8576b\"],[0.6666666666666666,\"#ed7953\"],[0.7777777777777778,\"#fb9f3a\"],[0.8888888888888888,\"#fdca26\"],[1.0,\"#f0f921\"]]}],\"choropleth\":[{\"type\":\"choropleth\",\"colorbar\":{\"outlinewidth\":0,\"ticks\":\"\"}}],\"histogram2d\":[{\"type\":\"histogram2d\",\"colorbar\":{\"outlinewidth\":0,\"ticks\":\"\"},\"colorscale\":[[0.0,\"#0d0887\"],[0.1111111111111111,\"#46039f\"],[0.2222222222222222,\"#7201a8\"],[0.3333333333333333,\"#9c179e\"],[0.4444444444444444,\"#bd3786\"],[0.5555555555555556,\"#d8576b\"],[0.6666666666666666,\"#ed7953\"],[0.7777777777777778,\"#fb9f3a\"],[0.8888888888888888,\"#fdca26\"],[1.0,\"#f0f921\"]]}],\"heatmap\":[{\"type\":\"heatmap\",\"colorbar\":{\"outlinewidth\":0,\"ticks\":\"\"},\"colorscale\":[[0.0,\"#0d0887\"],[0.1111111111111111,\"#46039f\"],[0.2222222222222222,\"#7201a8\"],[0.3333333333333333,\"#9c179e\"],[0.4444444444444444,\"#bd3786\"],[0.5555555555555556,\"#d8576b\"],[0.6666666666666666,\"#ed7953\"],[0.7777777777777778,\"#fb9f3a\"],[0.8888888888888888,\"#fdca26\"],[1.0,\"#f0f921\"]]}],\"heatmapgl\":[{\"type\":\"heatmapgl\",\"colorbar\":{\"outlinewidth\":0,\"ticks\":\"\"},\"colorscale\":[[0.0,\"#0d0887\"],[0.1111111111111111,\"#46039f\"],[0.2222222222222222,\"#7201a8\"],[0.3333333333333333,\"#9c179e\"],[0.4444444444444444,\"#bd3786\"],[0.5555555555555556,\"#d8576b\"],[0.6666666666666666,\"#ed7953\"],[0.7777777777777778,\"#fb9f3a\"],[0.8888888888888888,\"#fdca26\"],[1.0,\"#f0f921\"]]}],\"contourcarpet\":[{\"type\":\"contourcarpet\",\"colorbar\":{\"outlinewidth\":0,\"ticks\":\"\"}}],\"contour\":[{\"type\":\"contour\",\"colorbar\":{\"outlinewidth\":0,\"ticks\":\"\"},\"colorscale\":[[0.0,\"#0d0887\"],[0.1111111111111111,\"#46039f\"],[0.2222222222222222,\"#7201a8\"],[0.3333333333333333,\"#9c179e\"],[0.4444444444444444,\"#bd3786\"],[0.5555555555555556,\"#d8576b\"],[0.6666666666666666,\"#ed7953\"],[0.7777777777777778,\"#fb9f3a\"],[0.8888888888888888,\"#fdca26\"],[1.0,\"#f0f921\"]]}],\"surface\":[{\"type\":\"surface\",\"colorbar\":{\"outlinewidth\":0,\"ticks\":\"\"},\"colorscale\":[[0.0,\"#0d0887\"],[0.1111111111111111,\"#46039f\"],[0.2222222222222222,\"#7201a8\"],[0.3333333333333333,\"#9c179e\"],[0.4444444444444444,\"#bd3786\"],[0.5555555555555556,\"#d8576b\"],[0.6666666666666666,\"#ed7953\"],[0.7777777777777778,\"#fb9f3a\"],[0.8888888888888888,\"#fdca26\"],[1.0,\"#f0f921\"]]}],\"mesh3d\":[{\"type\":\"mesh3d\",\"colorbar\":{\"outlinewidth\":0,\"ticks\":\"\"}}],\"scatter\":[{\"fillpattern\":{\"fillmode\":\"overlay\",\"size\":10,\"solidity\":0.2},\"type\":\"scatter\"}],\"parcoords\":[{\"type\":\"parcoords\",\"line\":{\"colorbar\":{\"outlinewidth\":0,\"ticks\":\"\"}}}],\"scatterpolargl\":[{\"type\":\"scatterpolargl\",\"marker\":{\"colorbar\":{\"outlinewidth\":0,\"ticks\":\"\"}}}],\"bar\":[{\"error_x\":{\"color\":\"#2a3f5f\"},\"error_y\":{\"color\":\"#2a3f5f\"},\"marker\":{\"line\":{\"color\":\"#E5ECF6\",\"width\":0.5},\"pattern\":{\"fillmode\":\"overlay\",\"size\":10,\"solidity\":0.2}},\"type\":\"bar\"}],\"scattergeo\":[{\"type\":\"scattergeo\",\"marker\":{\"colorbar\":{\"outlinewidth\":0,\"ticks\":\"\"}}}],\"scatterpolar\":[{\"type\":\"scatterpolar\",\"marker\":{\"colorbar\":{\"outlinewidth\":0,\"ticks\":\"\"}}}],\"histogram\":[{\"marker\":{\"pattern\":{\"fillmode\":\"overlay\",\"size\":10,\"solidity\":0.2}},\"type\":\"histogram\"}],\"scattergl\":[{\"type\":\"scattergl\",\"marker\":{\"colorbar\":{\"outlinewidth\":0,\"ticks\":\"\"}}}],\"scatter3d\":[{\"type\":\"scatter3d\",\"line\":{\"colorbar\":{\"outlinewidth\":0,\"ticks\":\"\"}},\"marker\":{\"colorbar\":{\"outlinewidth\":0,\"ticks\":\"\"}}}],\"scattermapbox\":[{\"type\":\"scattermapbox\",\"marker\":{\"colorbar\":{\"outlinewidth\":0,\"ticks\":\"\"}}}],\"scatterternary\":[{\"type\":\"scatterternary\",\"marker\":{\"colorbar\":{\"outlinewidth\":0,\"ticks\":\"\"}}}],\"scattercarpet\":[{\"type\":\"scattercarpet\",\"marker\":{\"colorbar\":{\"outlinewidth\":0,\"ticks\":\"\"}}}],\"carpet\":[{\"aaxis\":{\"endlinecolor\":\"#2a3f5f\",\"gridcolor\":\"white\",\"linecolor\":\"white\",\"minorgridcolor\":\"white\",\"startlinecolor\":\"#2a3f5f\"},\"baxis\":{\"endlinecolor\":\"#2a3f5f\",\"gridcolor\":\"white\",\"linecolor\":\"white\",\"minorgridcolor\":\"white\",\"startlinecolor\":\"#2a3f5f\"},\"type\":\"carpet\"}],\"table\":[{\"cells\":{\"fill\":{\"color\":\"#EBF0F8\"},\"line\":{\"color\":\"white\"}},\"header\":{\"fill\":{\"color\":\"#C8D4E3\"},\"line\":{\"color\":\"white\"}},\"type\":\"table\"}],\"barpolar\":[{\"marker\":{\"line\":{\"color\":\"#E5ECF6\",\"width\":0.5},\"pattern\":{\"fillmode\":\"overlay\",\"size\":10,\"solidity\":0.2}},\"type\":\"barpolar\"}],\"pie\":[{\"automargin\":true,\"type\":\"pie\"}]},\"layout\":{\"autotypenumbers\":\"strict\",\"colorway\":[\"#636efa\",\"#EF553B\",\"#00cc96\",\"#ab63fa\",\"#FFA15A\",\"#19d3f3\",\"#FF6692\",\"#B6E880\",\"#FF97FF\",\"#FECB52\"],\"font\":{\"color\":\"#2a3f5f\"},\"hovermode\":\"closest\",\"hoverlabel\":{\"align\":\"left\"},\"paper_bgcolor\":\"white\",\"plot_bgcolor\":\"#E5ECF6\",\"polar\":{\"bgcolor\":\"#E5ECF6\",\"angularaxis\":{\"gridcolor\":\"white\",\"linecolor\":\"white\",\"ticks\":\"\"},\"radialaxis\":{\"gridcolor\":\"white\",\"linecolor\":\"white\",\"ticks\":\"\"}},\"ternary\":{\"bgcolor\":\"#E5ECF6\",\"aaxis\":{\"gridcolor\":\"white\",\"linecolor\":\"white\",\"ticks\":\"\"},\"baxis\":{\"gridcolor\":\"white\",\"linecolor\":\"white\",\"ticks\":\"\"},\"caxis\":{\"gridcolor\":\"white\",\"linecolor\":\"white\",\"ticks\":\"\"}},\"coloraxis\":{\"colorbar\":{\"outlinewidth\":0,\"ticks\":\"\"}},\"colorscale\":{\"sequential\":[[0.0,\"#0d0887\"],[0.1111111111111111,\"#46039f\"],[0.2222222222222222,\"#7201a8\"],[0.3333333333333333,\"#9c179e\"],[0.4444444444444444,\"#bd3786\"],[0.5555555555555556,\"#d8576b\"],[0.6666666666666666,\"#ed7953\"],[0.7777777777777778,\"#fb9f3a\"],[0.8888888888888888,\"#fdca26\"],[1.0,\"#f0f921\"]],\"sequentialminus\":[[0.0,\"#0d0887\"],[0.1111111111111111,\"#46039f\"],[0.2222222222222222,\"#7201a8\"],[0.3333333333333333,\"#9c179e\"],[0.4444444444444444,\"#bd3786\"],[0.5555555555555556,\"#d8576b\"],[0.6666666666666666,\"#ed7953\"],[0.7777777777777778,\"#fb9f3a\"],[0.8888888888888888,\"#fdca26\"],[1.0,\"#f0f921\"]],\"diverging\":[[0,\"#8e0152\"],[0.1,\"#c51b7d\"],[0.2,\"#de77ae\"],[0.3,\"#f1b6da\"],[0.4,\"#fde0ef\"],[0.5,\"#f7f7f7\"],[0.6,\"#e6f5d0\"],[0.7,\"#b8e186\"],[0.8,\"#7fbc41\"],[0.9,\"#4d9221\"],[1,\"#276419\"]]},\"xaxis\":{\"gridcolor\":\"white\",\"linecolor\":\"white\",\"ticks\":\"\",\"title\":{\"standoff\":15},\"zerolinecolor\":\"white\",\"automargin\":true,\"zerolinewidth\":2},\"yaxis\":{\"gridcolor\":\"white\",\"linecolor\":\"white\",\"ticks\":\"\",\"title\":{\"standoff\":15},\"zerolinecolor\":\"white\",\"automargin\":true,\"zerolinewidth\":2},\"scene\":{\"xaxis\":{\"backgroundcolor\":\"#E5ECF6\",\"gridcolor\":\"white\",\"linecolor\":\"white\",\"showbackground\":true,\"ticks\":\"\",\"zerolinecolor\":\"white\",\"gridwidth\":2},\"yaxis\":{\"backgroundcolor\":\"#E5ECF6\",\"gridcolor\":\"white\",\"linecolor\":\"white\",\"showbackground\":true,\"ticks\":\"\",\"zerolinecolor\":\"white\",\"gridwidth\":2},\"zaxis\":{\"backgroundcolor\":\"#E5ECF6\",\"gridcolor\":\"white\",\"linecolor\":\"white\",\"showbackground\":true,\"ticks\":\"\",\"zerolinecolor\":\"white\",\"gridwidth\":2}},\"shapedefaults\":{\"line\":{\"color\":\"#2a3f5f\"}},\"annotationdefaults\":{\"arrowcolor\":\"#2a3f5f\",\"arrowhead\":0,\"arrowwidth\":1},\"geo\":{\"bgcolor\":\"white\",\"landcolor\":\"#E5ECF6\",\"subunitcolor\":\"white\",\"showland\":true,\"showlakes\":true,\"lakecolor\":\"white\"},\"title\":{\"x\":0.05},\"mapbox\":{\"style\":\"light\"}}},\"shapes\":[{\"layer\":\"below\",\"line\":{\"color\":\"rgb(50.0,50.0,50.0)\",\"width\":2},\"type\":\"line\",\"x0\":3.1666666666666665,\"x1\":2.7333333333333334,\"y0\":0.07,\"y1\":0.07},{\"layer\":\"below\",\"line\":{\"color\":\"rgb(150.0,150.0,150.0)\",\"width\":2},\"type\":\"line\",\"x0\":2.7333333333333334,\"x1\":2.5,\"y0\":0.14,\"y1\":0.14},{\"layer\":\"below\",\"line\":{\"color\":\"black\",\"width\":1},\"type\":\"line\",\"x0\":1,\"x1\":5,\"y0\":0,\"y1\":0},{\"layer\":\"below\",\"line\":{\"color\":\"black\",\"width\":1},\"type\":\"line\",\"x0\":1,\"x1\":1,\"y0\":-1,\"y1\":1}],\"yaxis\":{\"visible\":false,\"title\":{\"text\":\"\"}},\"xaxis\":{\"range\":[0.6,5.4],\"showgrid\":true,\"zeroline\":false,\"title\":{\"text\":\"Average Rankings\"}},\"margin\":{\"t\":60,\"b\":60,\"l\":150,\"r\":150},\"height\":200,\"showlegend\":false,\"title\":{\"text\":\"All Measures\"}},                        {\"responsive\": true}                    ).then(function(){\n",
       "                            \n",
       "var gd = document.getElementById('1b54715e-826c-4de2-a4e1-2e565f1682d4');\n",
       "var x = new MutationObserver(function (mutations, observer) {{\n",
       "        var display = window.getComputedStyle(gd).display;\n",
       "        if (!display || display === 'none') {{\n",
       "            console.log([gd, 'removed!']);\n",
       "            Plotly.purge(gd);\n",
       "            observer.disconnect();\n",
       "        }}\n",
       "}});\n",
       "\n",
       "// Listen for the removal of the full notebook cells\n",
       "var notebookContainer = gd.closest('#notebook-container');\n",
       "if (notebookContainer) {{\n",
       "    x.observe(notebookContainer, {childList: true});\n",
       "}}\n",
       "\n",
       "// Listen for the clearing of the current output cell\n",
       "var outputEl = gd.closest('.output');\n",
       "if (outputEl) {{\n",
       "    x.observe(outputEl, {childList: true});\n",
       "}}\n",
       "\n",
       "                        })                };                });            </script>        </div>"
      ]
     },
     "metadata": {},
     "output_type": "display_data"
    }
   ],
   "source": [
    "import plotly.graph_objects as go\n",
    "import scikit_posthocs as sp\n",
    "import numpy as np\n",
    "\n",
    "def conover_test(df):\n",
    "    df = df.unstack(level=1).rank().T.reset_index().melt(id_vars=['level_0', 'Dataset'], var_name='Method', value_name='Rank')\n",
    "    posthoc = sp.posthoc_conover(df, group_col='Method', val_col='Rank', p_adjust='bonferroni')\n",
    "\n",
    "    return posthoc\n",
    "\n",
    "def pretty_conover(df):\n",
    "    posthoc = conover_test(df)\n",
    "\n",
    "    p_threshold = 0.05 / len(posthoc.columns)\n",
    "    print(p_threshold)\n",
    "\n",
    "    def highlight_below_threshold(val):\n",
    "        color = 'background-color: turquoise' if val < p_threshold else ''\n",
    "        return color\n",
    "\n",
    "    return posthoc.style.applymap(highlight_below_threshold).format(\"{:.2e}\")\n",
    "\n",
    "def plot_on_number_line(s, title, axis_label, connections=[], textpositions=[], range_max=None, range_min=None):\n",
    "    colors = [color for _, color in zip(methods, px.colors.qualitative.Plotly)]\n",
    "\n",
    "    fig = go.Figure(go.Scatter(\n",
    "        x=s.values,\n",
    "        y=[0]*len(s),\n",
    "        mode=\"markers+text\",\n",
    "        text=s.index,\n",
    "        textfont=dict(color=colors),\n",
    "        textposition=textpositions,\n",
    "        marker=dict(size=12, color=colors)\n",
    "    ))\n",
    "\n",
    "    if not range_max:\n",
    "        range_max = s.max()\n",
    "    if not range_min:\n",
    "        range_min = s.min()\n",
    "    h_margin = 0.1*(range_max-range_min)\n",
    "\n",
    "    for i, (m1, m2) in enumerate(connections):\n",
    "        y_offset = (i+1)*0.07\n",
    "        gray_shade = 50 + 200 * (i/len(connections))\n",
    "        line_color = f\"rgb({gray_shade},{gray_shade},{gray_shade})\"\n",
    "        fig.add_shape(\n",
    "            type=\"line\",\n",
    "            x0=s[m1], x1=s[m2],\n",
    "            y0=y_offset, y1=y_offset,\n",
    "            line=dict(color=line_color, width=2),\n",
    "            layer=\"below\"\n",
    "        )\n",
    "\n",
    "    # Thin horizontal number line\n",
    "    fig.add_shape(type=\"line\",\n",
    "                x0=range_min, x1=range_max,\n",
    "                y0=0, y1=0,\n",
    "                line=dict(color=\"black\", width=1),\n",
    "                layer=\"below\")\n",
    "    \n",
    "    # Start line\n",
    "    fig.add_shape(type=\"line\",\n",
    "                x0=range_min, x1=range_min,\n",
    "                y0=-1, y1=1,\n",
    "                line=dict(color=\"black\", width=1),\n",
    "                layer=\"below\")\n",
    "\n",
    "    # Layout tweaks for minimal look\n",
    "    fig.update_yaxes(visible=False)\n",
    "    fig.update_xaxes(range=[range_min-h_margin, range_max+h_margin], showgrid=True, zeroline=False)\n",
    "    fig.update_layout(\n",
    "        height=200,\n",
    "        xaxis_title=axis_label,\n",
    "        yaxis_title=\"\",\n",
    "        showlegend=False,\n",
    "        margin=dict(t=60, b=60, l=150, r=150),\n",
    "        title=title,\n",
    "    )\n",
    "\n",
    "    fig.show()\n",
    "\n",
    "def plot_average_rankings(df, title, connections=[], textpositions=[\"top center\",\"bottom center\",\"top center\",\"top center\",\"top center\"]):\n",
    "    s = df.unstack(level=1).rank().mean(axis=1)\n",
    "\n",
    "    range_max = len(df.index.get_level_values(level=\"Method\").unique())\n",
    "\n",
    "    plot_on_number_line(s, title=title, axis_label=\"Average Rankings\", connections=connections, textpositions=textpositions, range_min=1, range_max=range_max)\n",
    "\n",
    "connections = [(\"TimeGAN\", \"Time-Transformer\"), (\"Time-Transformer\", \"TimeVQVAE\")]\n",
    "plot_average_rankings(df_no_copy, connections=connections, title=\"All Measures\")\n"
   ]
  },
  {
   "cell_type": "code",
   "execution_count": 114,
   "id": "4c893db6",
   "metadata": {},
   "outputs": [
    {
     "name": "stdout",
     "output_type": "stream",
     "text": [
      "0.01\n"
     ]
    },
    {
     "data": {
      "text/html": [
       "<style type=\"text/css\">\n",
       "#T_1ac52_row0_col1, #T_1ac52_row0_col2, #T_1ac52_row0_col3, #T_1ac52_row0_col4, #T_1ac52_row1_col0, #T_1ac52_row1_col4, #T_1ac52_row2_col0, #T_1ac52_row2_col3, #T_1ac52_row2_col4, #T_1ac52_row3_col0, #T_1ac52_row3_col2, #T_1ac52_row3_col4, #T_1ac52_row4_col0, #T_1ac52_row4_col1, #T_1ac52_row4_col2, #T_1ac52_row4_col3 {\n",
       "  background-color: turquoise;\n",
       "}\n",
       "</style>\n",
       "<table id=\"T_1ac52_\">\n",
       "  <thead>\n",
       "    <tr>\n",
       "      <th class=\"blank level0\" >&nbsp;</th>\n",
       "      <th class=\"col_heading level0 col0\" >TTS-GAN</th>\n",
       "      <th class=\"col_heading level0 col1\" >Time-Transformer</th>\n",
       "      <th class=\"col_heading level0 col2\" >TimeGAN</th>\n",
       "      <th class=\"col_heading level0 col3\" >TimeVQVAE</th>\n",
       "      <th class=\"col_heading level0 col4\" >TransFusion</th>\n",
       "    </tr>\n",
       "  </thead>\n",
       "  <tbody>\n",
       "    <tr>\n",
       "      <th id=\"T_1ac52_level0_row0\" class=\"row_heading level0 row0\" >TTS-GAN</th>\n",
       "      <td id=\"T_1ac52_row0_col0\" class=\"data row0 col0\" >1.00e+00</td>\n",
       "      <td id=\"T_1ac52_row0_col1\" class=\"data row0 col1\" >2.88e-23</td>\n",
       "      <td id=\"T_1ac52_row0_col2\" class=\"data row0 col2\" >1.27e-15</td>\n",
       "      <td id=\"T_1ac52_row0_col3\" class=\"data row0 col3\" >1.09e-27</td>\n",
       "      <td id=\"T_1ac52_row0_col4\" class=\"data row0 col4\" >3.01e-41</td>\n",
       "    </tr>\n",
       "    <tr>\n",
       "      <th id=\"T_1ac52_level0_row1\" class=\"row_heading level0 row1\" >Time-Transformer</th>\n",
       "      <td id=\"T_1ac52_row1_col0\" class=\"data row1 col0\" >2.88e-23</td>\n",
       "      <td id=\"T_1ac52_row1_col1\" class=\"data row1 col1\" >1.00e+00</td>\n",
       "      <td id=\"T_1ac52_row1_col2\" class=\"data row1 col2\" >1.97e-01</td>\n",
       "      <td id=\"T_1ac52_row1_col3\" class=\"data row1 col3\" >1.00e+00</td>\n",
       "      <td id=\"T_1ac52_row1_col4\" class=\"data row1 col4\" >1.22e-05</td>\n",
       "    </tr>\n",
       "    <tr>\n",
       "      <th id=\"T_1ac52_level0_row2\" class=\"row_heading level0 row2\" >TimeGAN</th>\n",
       "      <td id=\"T_1ac52_row2_col0\" class=\"data row2 col0\" >1.27e-15</td>\n",
       "      <td id=\"T_1ac52_row2_col1\" class=\"data row2 col1\" >1.97e-01</td>\n",
       "      <td id=\"T_1ac52_row2_col2\" class=\"data row2 col2\" >1.00e+00</td>\n",
       "      <td id=\"T_1ac52_row2_col3\" class=\"data row2 col3\" >3.63e-03</td>\n",
       "      <td id=\"T_1ac52_row2_col4\" class=\"data row2 col4\" >2.69e-11</td>\n",
       "    </tr>\n",
       "    <tr>\n",
       "      <th id=\"T_1ac52_level0_row3\" class=\"row_heading level0 row3\" >TimeVQVAE</th>\n",
       "      <td id=\"T_1ac52_row3_col0\" class=\"data row3 col0\" >1.09e-27</td>\n",
       "      <td id=\"T_1ac52_row3_col1\" class=\"data row3 col1\" >1.00e+00</td>\n",
       "      <td id=\"T_1ac52_row3_col2\" class=\"data row3 col2\" >3.63e-03</td>\n",
       "      <td id=\"T_1ac52_row3_col3\" class=\"data row3 col3\" >1.00e+00</td>\n",
       "      <td id=\"T_1ac52_row3_col4\" class=\"data row3 col4\" >2.65e-03</td>\n",
       "    </tr>\n",
       "    <tr>\n",
       "      <th id=\"T_1ac52_level0_row4\" class=\"row_heading level0 row4\" >TransFusion</th>\n",
       "      <td id=\"T_1ac52_row4_col0\" class=\"data row4 col0\" >3.01e-41</td>\n",
       "      <td id=\"T_1ac52_row4_col1\" class=\"data row4 col1\" >1.22e-05</td>\n",
       "      <td id=\"T_1ac52_row4_col2\" class=\"data row4 col2\" >2.69e-11</td>\n",
       "      <td id=\"T_1ac52_row4_col3\" class=\"data row4 col3\" >2.65e-03</td>\n",
       "      <td id=\"T_1ac52_row4_col4\" class=\"data row4 col4\" >1.00e+00</td>\n",
       "    </tr>\n",
       "  </tbody>\n",
       "</table>\n"
      ],
      "text/plain": [
       "<pandas.io.formats.style.Styler at 0x7f1ff03e4550>"
      ]
     },
     "execution_count": 114,
     "metadata": {},
     "output_type": "execute_result"
    }
   ],
   "source": [
    "pretty_conover(df_no_copy)"
   ]
  },
  {
   "cell_type": "code",
   "execution_count": 115,
   "id": "12170322",
   "metadata": {},
   "outputs": [
    {
     "data": {
      "application/vnd.plotly.v1+json": {
       "config": {
        "plotlyServerURL": "https://plot.ly"
       },
       "data": [
        {
         "marker": {
          "color": [
           "#636EFA",
           "#EF553B",
           "#00CC96",
           "#AB63FA",
           "#FFA15A",
           "#19D3F3"
          ],
          "size": 12
         },
         "mode": "markers+text",
         "text": [
          "TTS-GAN",
          "Time-Transformer",
          "TimeGAN",
          "TimeVQVAE",
          "TransFusion"
         ],
         "textfont": {
          "color": [
           "#636EFA",
           "#EF553B",
           "#00CC96",
           "#AB63FA",
           "#FFA15A",
           "#19D3F3"
          ]
         },
         "textposition": [
          "top center",
          "bottom center",
          "top center",
          "top center",
          "top center"
         ],
         "type": "scatter",
         "x": [
          4.958333333333333,
          2.875,
          3.0208333333333335,
          2.4375,
          1.7083333333333333
         ],
         "y": [
          0,
          0,
          0,
          0,
          0
         ]
        }
       ],
       "layout": {
        "height": 200,
        "margin": {
         "b": 60,
         "l": 150,
         "r": 150,
         "t": 60
        },
        "shapes": [
         {
          "layer": "below",
          "line": {
           "color": "rgb(50.0,50.0,50.0)",
           "width": 2
          },
          "type": "line",
          "x0": 2.4375,
          "x1": 3.0208333333333335,
          "y0": 0.07,
          "y1": 0.07
         },
         {
          "layer": "below",
          "line": {
           "color": "black",
           "width": 1
          },
          "type": "line",
          "x0": 1,
          "x1": 5,
          "y0": 0,
          "y1": 0
         },
         {
          "layer": "below",
          "line": {
           "color": "black",
           "width": 1
          },
          "type": "line",
          "x0": 1,
          "x1": 1,
          "y0": -1,
          "y1": 1
         }
        ],
        "showlegend": false,
        "template": {
         "data": {
          "bar": [
           {
            "error_x": {
             "color": "#2a3f5f"
            },
            "error_y": {
             "color": "#2a3f5f"
            },
            "marker": {
             "line": {
              "color": "#E5ECF6",
              "width": 0.5
             },
             "pattern": {
              "fillmode": "overlay",
              "size": 10,
              "solidity": 0.2
             }
            },
            "type": "bar"
           }
          ],
          "barpolar": [
           {
            "marker": {
             "line": {
              "color": "#E5ECF6",
              "width": 0.5
             },
             "pattern": {
              "fillmode": "overlay",
              "size": 10,
              "solidity": 0.2
             }
            },
            "type": "barpolar"
           }
          ],
          "carpet": [
           {
            "aaxis": {
             "endlinecolor": "#2a3f5f",
             "gridcolor": "white",
             "linecolor": "white",
             "minorgridcolor": "white",
             "startlinecolor": "#2a3f5f"
            },
            "baxis": {
             "endlinecolor": "#2a3f5f",
             "gridcolor": "white",
             "linecolor": "white",
             "minorgridcolor": "white",
             "startlinecolor": "#2a3f5f"
            },
            "type": "carpet"
           }
          ],
          "choropleth": [
           {
            "colorbar": {
             "outlinewidth": 0,
             "ticks": ""
            },
            "type": "choropleth"
           }
          ],
          "contour": [
           {
            "colorbar": {
             "outlinewidth": 0,
             "ticks": ""
            },
            "colorscale": [
             [
              0,
              "#0d0887"
             ],
             [
              0.1111111111111111,
              "#46039f"
             ],
             [
              0.2222222222222222,
              "#7201a8"
             ],
             [
              0.3333333333333333,
              "#9c179e"
             ],
             [
              0.4444444444444444,
              "#bd3786"
             ],
             [
              0.5555555555555556,
              "#d8576b"
             ],
             [
              0.6666666666666666,
              "#ed7953"
             ],
             [
              0.7777777777777778,
              "#fb9f3a"
             ],
             [
              0.8888888888888888,
              "#fdca26"
             ],
             [
              1,
              "#f0f921"
             ]
            ],
            "type": "contour"
           }
          ],
          "contourcarpet": [
           {
            "colorbar": {
             "outlinewidth": 0,
             "ticks": ""
            },
            "type": "contourcarpet"
           }
          ],
          "heatmap": [
           {
            "colorbar": {
             "outlinewidth": 0,
             "ticks": ""
            },
            "colorscale": [
             [
              0,
              "#0d0887"
             ],
             [
              0.1111111111111111,
              "#46039f"
             ],
             [
              0.2222222222222222,
              "#7201a8"
             ],
             [
              0.3333333333333333,
              "#9c179e"
             ],
             [
              0.4444444444444444,
              "#bd3786"
             ],
             [
              0.5555555555555556,
              "#d8576b"
             ],
             [
              0.6666666666666666,
              "#ed7953"
             ],
             [
              0.7777777777777778,
              "#fb9f3a"
             ],
             [
              0.8888888888888888,
              "#fdca26"
             ],
             [
              1,
              "#f0f921"
             ]
            ],
            "type": "heatmap"
           }
          ],
          "heatmapgl": [
           {
            "colorbar": {
             "outlinewidth": 0,
             "ticks": ""
            },
            "colorscale": [
             [
              0,
              "#0d0887"
             ],
             [
              0.1111111111111111,
              "#46039f"
             ],
             [
              0.2222222222222222,
              "#7201a8"
             ],
             [
              0.3333333333333333,
              "#9c179e"
             ],
             [
              0.4444444444444444,
              "#bd3786"
             ],
             [
              0.5555555555555556,
              "#d8576b"
             ],
             [
              0.6666666666666666,
              "#ed7953"
             ],
             [
              0.7777777777777778,
              "#fb9f3a"
             ],
             [
              0.8888888888888888,
              "#fdca26"
             ],
             [
              1,
              "#f0f921"
             ]
            ],
            "type": "heatmapgl"
           }
          ],
          "histogram": [
           {
            "marker": {
             "pattern": {
              "fillmode": "overlay",
              "size": 10,
              "solidity": 0.2
             }
            },
            "type": "histogram"
           }
          ],
          "histogram2d": [
           {
            "colorbar": {
             "outlinewidth": 0,
             "ticks": ""
            },
            "colorscale": [
             [
              0,
              "#0d0887"
             ],
             [
              0.1111111111111111,
              "#46039f"
             ],
             [
              0.2222222222222222,
              "#7201a8"
             ],
             [
              0.3333333333333333,
              "#9c179e"
             ],
             [
              0.4444444444444444,
              "#bd3786"
             ],
             [
              0.5555555555555556,
              "#d8576b"
             ],
             [
              0.6666666666666666,
              "#ed7953"
             ],
             [
              0.7777777777777778,
              "#fb9f3a"
             ],
             [
              0.8888888888888888,
              "#fdca26"
             ],
             [
              1,
              "#f0f921"
             ]
            ],
            "type": "histogram2d"
           }
          ],
          "histogram2dcontour": [
           {
            "colorbar": {
             "outlinewidth": 0,
             "ticks": ""
            },
            "colorscale": [
             [
              0,
              "#0d0887"
             ],
             [
              0.1111111111111111,
              "#46039f"
             ],
             [
              0.2222222222222222,
              "#7201a8"
             ],
             [
              0.3333333333333333,
              "#9c179e"
             ],
             [
              0.4444444444444444,
              "#bd3786"
             ],
             [
              0.5555555555555556,
              "#d8576b"
             ],
             [
              0.6666666666666666,
              "#ed7953"
             ],
             [
              0.7777777777777778,
              "#fb9f3a"
             ],
             [
              0.8888888888888888,
              "#fdca26"
             ],
             [
              1,
              "#f0f921"
             ]
            ],
            "type": "histogram2dcontour"
           }
          ],
          "mesh3d": [
           {
            "colorbar": {
             "outlinewidth": 0,
             "ticks": ""
            },
            "type": "mesh3d"
           }
          ],
          "parcoords": [
           {
            "line": {
             "colorbar": {
              "outlinewidth": 0,
              "ticks": ""
             }
            },
            "type": "parcoords"
           }
          ],
          "pie": [
           {
            "automargin": true,
            "type": "pie"
           }
          ],
          "scatter": [
           {
            "fillpattern": {
             "fillmode": "overlay",
             "size": 10,
             "solidity": 0.2
            },
            "type": "scatter"
           }
          ],
          "scatter3d": [
           {
            "line": {
             "colorbar": {
              "outlinewidth": 0,
              "ticks": ""
             }
            },
            "marker": {
             "colorbar": {
              "outlinewidth": 0,
              "ticks": ""
             }
            },
            "type": "scatter3d"
           }
          ],
          "scattercarpet": [
           {
            "marker": {
             "colorbar": {
              "outlinewidth": 0,
              "ticks": ""
             }
            },
            "type": "scattercarpet"
           }
          ],
          "scattergeo": [
           {
            "marker": {
             "colorbar": {
              "outlinewidth": 0,
              "ticks": ""
             }
            },
            "type": "scattergeo"
           }
          ],
          "scattergl": [
           {
            "marker": {
             "colorbar": {
              "outlinewidth": 0,
              "ticks": ""
             }
            },
            "type": "scattergl"
           }
          ],
          "scattermapbox": [
           {
            "marker": {
             "colorbar": {
              "outlinewidth": 0,
              "ticks": ""
             }
            },
            "type": "scattermapbox"
           }
          ],
          "scatterpolar": [
           {
            "marker": {
             "colorbar": {
              "outlinewidth": 0,
              "ticks": ""
             }
            },
            "type": "scatterpolar"
           }
          ],
          "scatterpolargl": [
           {
            "marker": {
             "colorbar": {
              "outlinewidth": 0,
              "ticks": ""
             }
            },
            "type": "scatterpolargl"
           }
          ],
          "scatterternary": [
           {
            "marker": {
             "colorbar": {
              "outlinewidth": 0,
              "ticks": ""
             }
            },
            "type": "scatterternary"
           }
          ],
          "surface": [
           {
            "colorbar": {
             "outlinewidth": 0,
             "ticks": ""
            },
            "colorscale": [
             [
              0,
              "#0d0887"
             ],
             [
              0.1111111111111111,
              "#46039f"
             ],
             [
              0.2222222222222222,
              "#7201a8"
             ],
             [
              0.3333333333333333,
              "#9c179e"
             ],
             [
              0.4444444444444444,
              "#bd3786"
             ],
             [
              0.5555555555555556,
              "#d8576b"
             ],
             [
              0.6666666666666666,
              "#ed7953"
             ],
             [
              0.7777777777777778,
              "#fb9f3a"
             ],
             [
              0.8888888888888888,
              "#fdca26"
             ],
             [
              1,
              "#f0f921"
             ]
            ],
            "type": "surface"
           }
          ],
          "table": [
           {
            "cells": {
             "fill": {
              "color": "#EBF0F8"
             },
             "line": {
              "color": "white"
             }
            },
            "header": {
             "fill": {
              "color": "#C8D4E3"
             },
             "line": {
              "color": "white"
             }
            },
            "type": "table"
           }
          ]
         },
         "layout": {
          "annotationdefaults": {
           "arrowcolor": "#2a3f5f",
           "arrowhead": 0,
           "arrowwidth": 1
          },
          "autotypenumbers": "strict",
          "coloraxis": {
           "colorbar": {
            "outlinewidth": 0,
            "ticks": ""
           }
          },
          "colorscale": {
           "diverging": [
            [
             0,
             "#8e0152"
            ],
            [
             0.1,
             "#c51b7d"
            ],
            [
             0.2,
             "#de77ae"
            ],
            [
             0.3,
             "#f1b6da"
            ],
            [
             0.4,
             "#fde0ef"
            ],
            [
             0.5,
             "#f7f7f7"
            ],
            [
             0.6,
             "#e6f5d0"
            ],
            [
             0.7,
             "#b8e186"
            ],
            [
             0.8,
             "#7fbc41"
            ],
            [
             0.9,
             "#4d9221"
            ],
            [
             1,
             "#276419"
            ]
           ],
           "sequential": [
            [
             0,
             "#0d0887"
            ],
            [
             0.1111111111111111,
             "#46039f"
            ],
            [
             0.2222222222222222,
             "#7201a8"
            ],
            [
             0.3333333333333333,
             "#9c179e"
            ],
            [
             0.4444444444444444,
             "#bd3786"
            ],
            [
             0.5555555555555556,
             "#d8576b"
            ],
            [
             0.6666666666666666,
             "#ed7953"
            ],
            [
             0.7777777777777778,
             "#fb9f3a"
            ],
            [
             0.8888888888888888,
             "#fdca26"
            ],
            [
             1,
             "#f0f921"
            ]
           ],
           "sequentialminus": [
            [
             0,
             "#0d0887"
            ],
            [
             0.1111111111111111,
             "#46039f"
            ],
            [
             0.2222222222222222,
             "#7201a8"
            ],
            [
             0.3333333333333333,
             "#9c179e"
            ],
            [
             0.4444444444444444,
             "#bd3786"
            ],
            [
             0.5555555555555556,
             "#d8576b"
            ],
            [
             0.6666666666666666,
             "#ed7953"
            ],
            [
             0.7777777777777778,
             "#fb9f3a"
            ],
            [
             0.8888888888888888,
             "#fdca26"
            ],
            [
             1,
             "#f0f921"
            ]
           ]
          },
          "colorway": [
           "#636efa",
           "#EF553B",
           "#00cc96",
           "#ab63fa",
           "#FFA15A",
           "#19d3f3",
           "#FF6692",
           "#B6E880",
           "#FF97FF",
           "#FECB52"
          ],
          "font": {
           "color": "#2a3f5f"
          },
          "geo": {
           "bgcolor": "white",
           "lakecolor": "white",
           "landcolor": "#E5ECF6",
           "showlakes": true,
           "showland": true,
           "subunitcolor": "white"
          },
          "hoverlabel": {
           "align": "left"
          },
          "hovermode": "closest",
          "mapbox": {
           "style": "light"
          },
          "paper_bgcolor": "white",
          "plot_bgcolor": "#E5ECF6",
          "polar": {
           "angularaxis": {
            "gridcolor": "white",
            "linecolor": "white",
            "ticks": ""
           },
           "bgcolor": "#E5ECF6",
           "radialaxis": {
            "gridcolor": "white",
            "linecolor": "white",
            "ticks": ""
           }
          },
          "scene": {
           "xaxis": {
            "backgroundcolor": "#E5ECF6",
            "gridcolor": "white",
            "gridwidth": 2,
            "linecolor": "white",
            "showbackground": true,
            "ticks": "",
            "zerolinecolor": "white"
           },
           "yaxis": {
            "backgroundcolor": "#E5ECF6",
            "gridcolor": "white",
            "gridwidth": 2,
            "linecolor": "white",
            "showbackground": true,
            "ticks": "",
            "zerolinecolor": "white"
           },
           "zaxis": {
            "backgroundcolor": "#E5ECF6",
            "gridcolor": "white",
            "gridwidth": 2,
            "linecolor": "white",
            "showbackground": true,
            "ticks": "",
            "zerolinecolor": "white"
           }
          },
          "shapedefaults": {
           "line": {
            "color": "#2a3f5f"
           }
          },
          "ternary": {
           "aaxis": {
            "gridcolor": "white",
            "linecolor": "white",
            "ticks": ""
           },
           "baxis": {
            "gridcolor": "white",
            "linecolor": "white",
            "ticks": ""
           },
           "bgcolor": "#E5ECF6",
           "caxis": {
            "gridcolor": "white",
            "linecolor": "white",
            "ticks": ""
           }
          },
          "title": {
           "x": 0.05
          },
          "xaxis": {
           "automargin": true,
           "gridcolor": "white",
           "linecolor": "white",
           "ticks": "",
           "title": {
            "standoff": 15
           },
           "zerolinecolor": "white",
           "zerolinewidth": 2
          },
          "yaxis": {
           "automargin": true,
           "gridcolor": "white",
           "linecolor": "white",
           "ticks": "",
           "title": {
            "standoff": 15
           },
           "zerolinecolor": "white",
           "zerolinewidth": 2
          }
         }
        },
        "title": {
         "text": "Fidelity"
        },
        "xaxis": {
         "range": [
          0.6,
          5.4
         ],
         "showgrid": true,
         "title": {
          "text": "Average Rankings"
         },
         "zeroline": false
        },
        "yaxis": {
         "title": {
          "text": ""
         },
         "visible": false
        }
       }
      },
      "text/html": [
       "<div>                            <div id=\"4a4dfb54-7b95-469a-a0d9-e28d75aea144\" class=\"plotly-graph-div\" style=\"height:200px; width:100%;\"></div>            <script type=\"text/javascript\">                require([\"plotly\"], function(Plotly) {                    window.PLOTLYENV=window.PLOTLYENV || {};                                    if (document.getElementById(\"4a4dfb54-7b95-469a-a0d9-e28d75aea144\")) {                    Plotly.newPlot(                        \"4a4dfb54-7b95-469a-a0d9-e28d75aea144\",                        [{\"marker\":{\"color\":[\"#636EFA\",\"#EF553B\",\"#00CC96\",\"#AB63FA\",\"#FFA15A\",\"#19D3F3\"],\"size\":12},\"mode\":\"markers+text\",\"text\":[\"TTS-GAN\",\"Time-Transformer\",\"TimeGAN\",\"TimeVQVAE\",\"TransFusion\"],\"textfont\":{\"color\":[\"#636EFA\",\"#EF553B\",\"#00CC96\",\"#AB63FA\",\"#FFA15A\",\"#19D3F3\"]},\"textposition\":[\"top center\",\"bottom center\",\"top center\",\"top center\",\"top center\"],\"x\":[4.958333333333333,2.875,3.0208333333333335,2.4375,1.7083333333333333],\"y\":[0,0,0,0,0],\"type\":\"scatter\"}],                        {\"template\":{\"data\":{\"histogram2dcontour\":[{\"type\":\"histogram2dcontour\",\"colorbar\":{\"outlinewidth\":0,\"ticks\":\"\"},\"colorscale\":[[0.0,\"#0d0887\"],[0.1111111111111111,\"#46039f\"],[0.2222222222222222,\"#7201a8\"],[0.3333333333333333,\"#9c179e\"],[0.4444444444444444,\"#bd3786\"],[0.5555555555555556,\"#d8576b\"],[0.6666666666666666,\"#ed7953\"],[0.7777777777777778,\"#fb9f3a\"],[0.8888888888888888,\"#fdca26\"],[1.0,\"#f0f921\"]]}],\"choropleth\":[{\"type\":\"choropleth\",\"colorbar\":{\"outlinewidth\":0,\"ticks\":\"\"}}],\"histogram2d\":[{\"type\":\"histogram2d\",\"colorbar\":{\"outlinewidth\":0,\"ticks\":\"\"},\"colorscale\":[[0.0,\"#0d0887\"],[0.1111111111111111,\"#46039f\"],[0.2222222222222222,\"#7201a8\"],[0.3333333333333333,\"#9c179e\"],[0.4444444444444444,\"#bd3786\"],[0.5555555555555556,\"#d8576b\"],[0.6666666666666666,\"#ed7953\"],[0.7777777777777778,\"#fb9f3a\"],[0.8888888888888888,\"#fdca26\"],[1.0,\"#f0f921\"]]}],\"heatmap\":[{\"type\":\"heatmap\",\"colorbar\":{\"outlinewidth\":0,\"ticks\":\"\"},\"colorscale\":[[0.0,\"#0d0887\"],[0.1111111111111111,\"#46039f\"],[0.2222222222222222,\"#7201a8\"],[0.3333333333333333,\"#9c179e\"],[0.4444444444444444,\"#bd3786\"],[0.5555555555555556,\"#d8576b\"],[0.6666666666666666,\"#ed7953\"],[0.7777777777777778,\"#fb9f3a\"],[0.8888888888888888,\"#fdca26\"],[1.0,\"#f0f921\"]]}],\"heatmapgl\":[{\"type\":\"heatmapgl\",\"colorbar\":{\"outlinewidth\":0,\"ticks\":\"\"},\"colorscale\":[[0.0,\"#0d0887\"],[0.1111111111111111,\"#46039f\"],[0.2222222222222222,\"#7201a8\"],[0.3333333333333333,\"#9c179e\"],[0.4444444444444444,\"#bd3786\"],[0.5555555555555556,\"#d8576b\"],[0.6666666666666666,\"#ed7953\"],[0.7777777777777778,\"#fb9f3a\"],[0.8888888888888888,\"#fdca26\"],[1.0,\"#f0f921\"]]}],\"contourcarpet\":[{\"type\":\"contourcarpet\",\"colorbar\":{\"outlinewidth\":0,\"ticks\":\"\"}}],\"contour\":[{\"type\":\"contour\",\"colorbar\":{\"outlinewidth\":0,\"ticks\":\"\"},\"colorscale\":[[0.0,\"#0d0887\"],[0.1111111111111111,\"#46039f\"],[0.2222222222222222,\"#7201a8\"],[0.3333333333333333,\"#9c179e\"],[0.4444444444444444,\"#bd3786\"],[0.5555555555555556,\"#d8576b\"],[0.6666666666666666,\"#ed7953\"],[0.7777777777777778,\"#fb9f3a\"],[0.8888888888888888,\"#fdca26\"],[1.0,\"#f0f921\"]]}],\"surface\":[{\"type\":\"surface\",\"colorbar\":{\"outlinewidth\":0,\"ticks\":\"\"},\"colorscale\":[[0.0,\"#0d0887\"],[0.1111111111111111,\"#46039f\"],[0.2222222222222222,\"#7201a8\"],[0.3333333333333333,\"#9c179e\"],[0.4444444444444444,\"#bd3786\"],[0.5555555555555556,\"#d8576b\"],[0.6666666666666666,\"#ed7953\"],[0.7777777777777778,\"#fb9f3a\"],[0.8888888888888888,\"#fdca26\"],[1.0,\"#f0f921\"]]}],\"mesh3d\":[{\"type\":\"mesh3d\",\"colorbar\":{\"outlinewidth\":0,\"ticks\":\"\"}}],\"scatter\":[{\"fillpattern\":{\"fillmode\":\"overlay\",\"size\":10,\"solidity\":0.2},\"type\":\"scatter\"}],\"parcoords\":[{\"type\":\"parcoords\",\"line\":{\"colorbar\":{\"outlinewidth\":0,\"ticks\":\"\"}}}],\"scatterpolargl\":[{\"type\":\"scatterpolargl\",\"marker\":{\"colorbar\":{\"outlinewidth\":0,\"ticks\":\"\"}}}],\"bar\":[{\"error_x\":{\"color\":\"#2a3f5f\"},\"error_y\":{\"color\":\"#2a3f5f\"},\"marker\":{\"line\":{\"color\":\"#E5ECF6\",\"width\":0.5},\"pattern\":{\"fillmode\":\"overlay\",\"size\":10,\"solidity\":0.2}},\"type\":\"bar\"}],\"scattergeo\":[{\"type\":\"scattergeo\",\"marker\":{\"colorbar\":{\"outlinewidth\":0,\"ticks\":\"\"}}}],\"scatterpolar\":[{\"type\":\"scatterpolar\",\"marker\":{\"colorbar\":{\"outlinewidth\":0,\"ticks\":\"\"}}}],\"histogram\":[{\"marker\":{\"pattern\":{\"fillmode\":\"overlay\",\"size\":10,\"solidity\":0.2}},\"type\":\"histogram\"}],\"scattergl\":[{\"type\":\"scattergl\",\"marker\":{\"colorbar\":{\"outlinewidth\":0,\"ticks\":\"\"}}}],\"scatter3d\":[{\"type\":\"scatter3d\",\"line\":{\"colorbar\":{\"outlinewidth\":0,\"ticks\":\"\"}},\"marker\":{\"colorbar\":{\"outlinewidth\":0,\"ticks\":\"\"}}}],\"scattermapbox\":[{\"type\":\"scattermapbox\",\"marker\":{\"colorbar\":{\"outlinewidth\":0,\"ticks\":\"\"}}}],\"scatterternary\":[{\"type\":\"scatterternary\",\"marker\":{\"colorbar\":{\"outlinewidth\":0,\"ticks\":\"\"}}}],\"scattercarpet\":[{\"type\":\"scattercarpet\",\"marker\":{\"colorbar\":{\"outlinewidth\":0,\"ticks\":\"\"}}}],\"carpet\":[{\"aaxis\":{\"endlinecolor\":\"#2a3f5f\",\"gridcolor\":\"white\",\"linecolor\":\"white\",\"minorgridcolor\":\"white\",\"startlinecolor\":\"#2a3f5f\"},\"baxis\":{\"endlinecolor\":\"#2a3f5f\",\"gridcolor\":\"white\",\"linecolor\":\"white\",\"minorgridcolor\":\"white\",\"startlinecolor\":\"#2a3f5f\"},\"type\":\"carpet\"}],\"table\":[{\"cells\":{\"fill\":{\"color\":\"#EBF0F8\"},\"line\":{\"color\":\"white\"}},\"header\":{\"fill\":{\"color\":\"#C8D4E3\"},\"line\":{\"color\":\"white\"}},\"type\":\"table\"}],\"barpolar\":[{\"marker\":{\"line\":{\"color\":\"#E5ECF6\",\"width\":0.5},\"pattern\":{\"fillmode\":\"overlay\",\"size\":10,\"solidity\":0.2}},\"type\":\"barpolar\"}],\"pie\":[{\"automargin\":true,\"type\":\"pie\"}]},\"layout\":{\"autotypenumbers\":\"strict\",\"colorway\":[\"#636efa\",\"#EF553B\",\"#00cc96\",\"#ab63fa\",\"#FFA15A\",\"#19d3f3\",\"#FF6692\",\"#B6E880\",\"#FF97FF\",\"#FECB52\"],\"font\":{\"color\":\"#2a3f5f\"},\"hovermode\":\"closest\",\"hoverlabel\":{\"align\":\"left\"},\"paper_bgcolor\":\"white\",\"plot_bgcolor\":\"#E5ECF6\",\"polar\":{\"bgcolor\":\"#E5ECF6\",\"angularaxis\":{\"gridcolor\":\"white\",\"linecolor\":\"white\",\"ticks\":\"\"},\"radialaxis\":{\"gridcolor\":\"white\",\"linecolor\":\"white\",\"ticks\":\"\"}},\"ternary\":{\"bgcolor\":\"#E5ECF6\",\"aaxis\":{\"gridcolor\":\"white\",\"linecolor\":\"white\",\"ticks\":\"\"},\"baxis\":{\"gridcolor\":\"white\",\"linecolor\":\"white\",\"ticks\":\"\"},\"caxis\":{\"gridcolor\":\"white\",\"linecolor\":\"white\",\"ticks\":\"\"}},\"coloraxis\":{\"colorbar\":{\"outlinewidth\":0,\"ticks\":\"\"}},\"colorscale\":{\"sequential\":[[0.0,\"#0d0887\"],[0.1111111111111111,\"#46039f\"],[0.2222222222222222,\"#7201a8\"],[0.3333333333333333,\"#9c179e\"],[0.4444444444444444,\"#bd3786\"],[0.5555555555555556,\"#d8576b\"],[0.6666666666666666,\"#ed7953\"],[0.7777777777777778,\"#fb9f3a\"],[0.8888888888888888,\"#fdca26\"],[1.0,\"#f0f921\"]],\"sequentialminus\":[[0.0,\"#0d0887\"],[0.1111111111111111,\"#46039f\"],[0.2222222222222222,\"#7201a8\"],[0.3333333333333333,\"#9c179e\"],[0.4444444444444444,\"#bd3786\"],[0.5555555555555556,\"#d8576b\"],[0.6666666666666666,\"#ed7953\"],[0.7777777777777778,\"#fb9f3a\"],[0.8888888888888888,\"#fdca26\"],[1.0,\"#f0f921\"]],\"diverging\":[[0,\"#8e0152\"],[0.1,\"#c51b7d\"],[0.2,\"#de77ae\"],[0.3,\"#f1b6da\"],[0.4,\"#fde0ef\"],[0.5,\"#f7f7f7\"],[0.6,\"#e6f5d0\"],[0.7,\"#b8e186\"],[0.8,\"#7fbc41\"],[0.9,\"#4d9221\"],[1,\"#276419\"]]},\"xaxis\":{\"gridcolor\":\"white\",\"linecolor\":\"white\",\"ticks\":\"\",\"title\":{\"standoff\":15},\"zerolinecolor\":\"white\",\"automargin\":true,\"zerolinewidth\":2},\"yaxis\":{\"gridcolor\":\"white\",\"linecolor\":\"white\",\"ticks\":\"\",\"title\":{\"standoff\":15},\"zerolinecolor\":\"white\",\"automargin\":true,\"zerolinewidth\":2},\"scene\":{\"xaxis\":{\"backgroundcolor\":\"#E5ECF6\",\"gridcolor\":\"white\",\"linecolor\":\"white\",\"showbackground\":true,\"ticks\":\"\",\"zerolinecolor\":\"white\",\"gridwidth\":2},\"yaxis\":{\"backgroundcolor\":\"#E5ECF6\",\"gridcolor\":\"white\",\"linecolor\":\"white\",\"showbackground\":true,\"ticks\":\"\",\"zerolinecolor\":\"white\",\"gridwidth\":2},\"zaxis\":{\"backgroundcolor\":\"#E5ECF6\",\"gridcolor\":\"white\",\"linecolor\":\"white\",\"showbackground\":true,\"ticks\":\"\",\"zerolinecolor\":\"white\",\"gridwidth\":2}},\"shapedefaults\":{\"line\":{\"color\":\"#2a3f5f\"}},\"annotationdefaults\":{\"arrowcolor\":\"#2a3f5f\",\"arrowhead\":0,\"arrowwidth\":1},\"geo\":{\"bgcolor\":\"white\",\"landcolor\":\"#E5ECF6\",\"subunitcolor\":\"white\",\"showland\":true,\"showlakes\":true,\"lakecolor\":\"white\"},\"title\":{\"x\":0.05},\"mapbox\":{\"style\":\"light\"}}},\"shapes\":[{\"layer\":\"below\",\"line\":{\"color\":\"rgb(50.0,50.0,50.0)\",\"width\":2},\"type\":\"line\",\"x0\":2.4375,\"x1\":3.0208333333333335,\"y0\":0.07,\"y1\":0.07},{\"layer\":\"below\",\"line\":{\"color\":\"black\",\"width\":1},\"type\":\"line\",\"x0\":1,\"x1\":5,\"y0\":0,\"y1\":0},{\"layer\":\"below\",\"line\":{\"color\":\"black\",\"width\":1},\"type\":\"line\",\"x0\":1,\"x1\":1,\"y0\":-1,\"y1\":1}],\"yaxis\":{\"visible\":false,\"title\":{\"text\":\"\"}},\"xaxis\":{\"range\":[0.6,5.4],\"showgrid\":true,\"zeroline\":false,\"title\":{\"text\":\"Average Rankings\"}},\"margin\":{\"t\":60,\"b\":60,\"l\":150,\"r\":150},\"height\":200,\"showlegend\":false,\"title\":{\"text\":\"Fidelity\"}},                        {\"responsive\": true}                    ).then(function(){\n",
       "                            \n",
       "var gd = document.getElementById('4a4dfb54-7b95-469a-a0d9-e28d75aea144');\n",
       "var x = new MutationObserver(function (mutations, observer) {{\n",
       "        var display = window.getComputedStyle(gd).display;\n",
       "        if (!display || display === 'none') {{\n",
       "            console.log([gd, 'removed!']);\n",
       "            Plotly.purge(gd);\n",
       "            observer.disconnect();\n",
       "        }}\n",
       "}});\n",
       "\n",
       "// Listen for the removal of the full notebook cells\n",
       "var notebookContainer = gd.closest('#notebook-container');\n",
       "if (notebookContainer) {{\n",
       "    x.observe(notebookContainer, {childList: true});\n",
       "}}\n",
       "\n",
       "// Listen for the clearing of the current output cell\n",
       "var outputEl = gd.closest('.output');\n",
       "if (outputEl) {{\n",
       "    x.observe(outputEl, {childList: true});\n",
       "}}\n",
       "\n",
       "                        })                };                });            </script>        </div>"
      ]
     },
     "metadata": {},
     "output_type": "display_data"
    }
   ],
   "source": [
    "connections=[(\"TimeVQVAE\", \"TimeGAN\")]\n",
    "plot_average_rankings(df_all.drop(index=\"JustCopy\", level=\"Method\").drop(columns=[\"PS\", \"Time\"]), title=\"Fidelity\", connections=connections)"
   ]
  },
  {
   "cell_type": "code",
   "execution_count": 116,
   "id": "7aeec625",
   "metadata": {},
   "outputs": [
    {
     "name": "stdout",
     "output_type": "stream",
     "text": [
      "0.01\n"
     ]
    },
    {
     "data": {
      "text/html": [
       "<style type=\"text/css\">\n",
       "#T_f04ec_row0_col1, #T_f04ec_row0_col2, #T_f04ec_row0_col3, #T_f04ec_row0_col4, #T_f04ec_row1_col0, #T_f04ec_row1_col4, #T_f04ec_row2_col0, #T_f04ec_row2_col4, #T_f04ec_row3_col0, #T_f04ec_row3_col4, #T_f04ec_row4_col0, #T_f04ec_row4_col1, #T_f04ec_row4_col2, #T_f04ec_row4_col3 {\n",
       "  background-color: turquoise;\n",
       "}\n",
       "</style>\n",
       "<table id=\"T_f04ec_\">\n",
       "  <thead>\n",
       "    <tr>\n",
       "      <th class=\"blank level0\" >&nbsp;</th>\n",
       "      <th class=\"col_heading level0 col0\" >TTS-GAN</th>\n",
       "      <th class=\"col_heading level0 col1\" >Time-Transformer</th>\n",
       "      <th class=\"col_heading level0 col2\" >TimeGAN</th>\n",
       "      <th class=\"col_heading level0 col3\" >TimeVQVAE</th>\n",
       "      <th class=\"col_heading level0 col4\" >TransFusion</th>\n",
       "    </tr>\n",
       "  </thead>\n",
       "  <tbody>\n",
       "    <tr>\n",
       "      <th id=\"T_f04ec_level0_row0\" class=\"row_heading level0 row0\" >TTS-GAN</th>\n",
       "      <td id=\"T_f04ec_row0_col0\" class=\"data row0 col0\" >1.00e+00</td>\n",
       "      <td id=\"T_f04ec_row0_col1\" class=\"data row0 col1\" >1.33e-22</td>\n",
       "      <td id=\"T_f04ec_row0_col2\" class=\"data row0 col2\" >3.73e-20</td>\n",
       "      <td id=\"T_f04ec_row0_col3\" class=\"data row0 col3\" >3.07e-30</td>\n",
       "      <td id=\"T_f04ec_row0_col4\" class=\"data row0 col4\" >3.29e-43</td>\n",
       "    </tr>\n",
       "    <tr>\n",
       "      <th id=\"T_f04ec_level0_row1\" class=\"row_heading level0 row1\" >Time-Transformer</th>\n",
       "      <td id=\"T_f04ec_row1_col0\" class=\"data row1 col0\" >1.33e-22</td>\n",
       "      <td id=\"T_f04ec_row1_col1\" class=\"data row1 col1\" >1.00e+00</td>\n",
       "      <td id=\"T_f04ec_row1_col2\" class=\"data row1 col2\" >1.00e+00</td>\n",
       "      <td id=\"T_f04ec_row1_col3\" class=\"data row1 col3\" >2.03e-01</td>\n",
       "      <td id=\"T_f04ec_row1_col4\" class=\"data row1 col4\" >2.17e-08</td>\n",
       "    </tr>\n",
       "    <tr>\n",
       "      <th id=\"T_f04ec_level0_row2\" class=\"row_heading level0 row2\" >TimeGAN</th>\n",
       "      <td id=\"T_f04ec_row2_col0\" class=\"data row2 col0\" >3.73e-20</td>\n",
       "      <td id=\"T_f04ec_row2_col1\" class=\"data row2 col1\" >1.00e+00</td>\n",
       "      <td id=\"T_f04ec_row2_col2\" class=\"data row2 col2\" >1.00e+00</td>\n",
       "      <td id=\"T_f04ec_row2_col3\" class=\"data row2 col3\" >2.10e-02</td>\n",
       "      <td id=\"T_f04ec_row2_col4\" class=\"data row2 col4\" >2.64e-10</td>\n",
       "    </tr>\n",
       "    <tr>\n",
       "      <th id=\"T_f04ec_level0_row3\" class=\"row_heading level0 row3\" >TimeVQVAE</th>\n",
       "      <td id=\"T_f04ec_row3_col0\" class=\"data row3 col0\" >3.07e-30</td>\n",
       "      <td id=\"T_f04ec_row3_col1\" class=\"data row3 col1\" >2.03e-01</td>\n",
       "      <td id=\"T_f04ec_row3_col2\" class=\"data row3 col2\" >2.10e-02</td>\n",
       "      <td id=\"T_f04ec_row3_col3\" class=\"data row3 col3\" >1.00e+00</td>\n",
       "      <td id=\"T_f04ec_row3_col4\" class=\"data row3 col4\" >1.30e-03</td>\n",
       "    </tr>\n",
       "    <tr>\n",
       "      <th id=\"T_f04ec_level0_row4\" class=\"row_heading level0 row4\" >TransFusion</th>\n",
       "      <td id=\"T_f04ec_row4_col0\" class=\"data row4 col0\" >3.29e-43</td>\n",
       "      <td id=\"T_f04ec_row4_col1\" class=\"data row4 col1\" >2.17e-08</td>\n",
       "      <td id=\"T_f04ec_row4_col2\" class=\"data row4 col2\" >2.64e-10</td>\n",
       "      <td id=\"T_f04ec_row4_col3\" class=\"data row4 col3\" >1.30e-03</td>\n",
       "      <td id=\"T_f04ec_row4_col4\" class=\"data row4 col4\" >1.00e+00</td>\n",
       "    </tr>\n",
       "  </tbody>\n",
       "</table>\n"
      ],
      "text/plain": [
       "<pandas.io.formats.style.Styler at 0x7f1fbc5ad550>"
      ]
     },
     "execution_count": 116,
     "metadata": {},
     "output_type": "execute_result"
    }
   ],
   "source": [
    "pretty_conover(df_no_copy.drop(columns=[\"PS\", \"Time\"]))"
   ]
  },
  {
   "cell_type": "code",
   "execution_count": 117,
   "id": "ce0a9b82",
   "metadata": {},
   "outputs": [
    {
     "data": {
      "application/vnd.plotly.v1+json": {
       "config": {
        "plotlyServerURL": "https://plot.ly"
       },
       "data": [
        {
         "marker": {
          "color": [
           "#636EFA",
           "#EF553B",
           "#00CC96",
           "#AB63FA",
           "#FFA15A",
           "#19D3F3"
          ],
          "size": 12
         },
         "mode": "markers+text",
         "text": [
          "TTS-GAN",
          "Time-Transformer",
          "TimeGAN",
          "TimeVQVAE",
          "TransFusion"
         ],
         "textfont": {
          "color": [
           "#636EFA",
           "#EF553B",
           "#00CC96",
           "#AB63FA",
           "#FFA15A",
           "#19D3F3"
          ]
         },
         "textposition": [
          "top center",
          "top center",
          "top left",
          "bottom center",
          "top center"
         ],
         "type": "scatter",
         "x": [
          4.166666666666667,
          3.3333333333333335,
          3,
          3.3333333333333335,
          1.1666666666666667
         ],
         "y": [
          0,
          0,
          0,
          0,
          0
         ]
        }
       ],
       "layout": {
        "height": 200,
        "margin": {
         "b": 60,
         "l": 150,
         "r": 150,
         "t": 60
        },
        "shapes": [
         {
          "layer": "below",
          "line": {
           "color": "rgb(50.0,50.0,50.0)",
           "width": 2
          },
          "type": "line",
          "x0": 4.166666666666667,
          "x1": 3,
          "y0": 0.07,
          "y1": 0.07
         },
         {
          "layer": "below",
          "line": {
           "color": "rgb(150.0,150.0,150.0)",
           "width": 2
          },
          "type": "line",
          "x0": 3.3333333333333335,
          "x1": 1.1666666666666667,
          "y0": 0.14,
          "y1": 0.14
         },
         {
          "layer": "below",
          "line": {
           "color": "black",
           "width": 1
          },
          "type": "line",
          "x0": 1,
          "x1": 5,
          "y0": 0,
          "y1": 0
         },
         {
          "layer": "below",
          "line": {
           "color": "black",
           "width": 1
          },
          "type": "line",
          "x0": 1,
          "x1": 1,
          "y0": -1,
          "y1": 1
         }
        ],
        "showlegend": false,
        "template": {
         "data": {
          "bar": [
           {
            "error_x": {
             "color": "#2a3f5f"
            },
            "error_y": {
             "color": "#2a3f5f"
            },
            "marker": {
             "line": {
              "color": "#E5ECF6",
              "width": 0.5
             },
             "pattern": {
              "fillmode": "overlay",
              "size": 10,
              "solidity": 0.2
             }
            },
            "type": "bar"
           }
          ],
          "barpolar": [
           {
            "marker": {
             "line": {
              "color": "#E5ECF6",
              "width": 0.5
             },
             "pattern": {
              "fillmode": "overlay",
              "size": 10,
              "solidity": 0.2
             }
            },
            "type": "barpolar"
           }
          ],
          "carpet": [
           {
            "aaxis": {
             "endlinecolor": "#2a3f5f",
             "gridcolor": "white",
             "linecolor": "white",
             "minorgridcolor": "white",
             "startlinecolor": "#2a3f5f"
            },
            "baxis": {
             "endlinecolor": "#2a3f5f",
             "gridcolor": "white",
             "linecolor": "white",
             "minorgridcolor": "white",
             "startlinecolor": "#2a3f5f"
            },
            "type": "carpet"
           }
          ],
          "choropleth": [
           {
            "colorbar": {
             "outlinewidth": 0,
             "ticks": ""
            },
            "type": "choropleth"
           }
          ],
          "contour": [
           {
            "colorbar": {
             "outlinewidth": 0,
             "ticks": ""
            },
            "colorscale": [
             [
              0,
              "#0d0887"
             ],
             [
              0.1111111111111111,
              "#46039f"
             ],
             [
              0.2222222222222222,
              "#7201a8"
             ],
             [
              0.3333333333333333,
              "#9c179e"
             ],
             [
              0.4444444444444444,
              "#bd3786"
             ],
             [
              0.5555555555555556,
              "#d8576b"
             ],
             [
              0.6666666666666666,
              "#ed7953"
             ],
             [
              0.7777777777777778,
              "#fb9f3a"
             ],
             [
              0.8888888888888888,
              "#fdca26"
             ],
             [
              1,
              "#f0f921"
             ]
            ],
            "type": "contour"
           }
          ],
          "contourcarpet": [
           {
            "colorbar": {
             "outlinewidth": 0,
             "ticks": ""
            },
            "type": "contourcarpet"
           }
          ],
          "heatmap": [
           {
            "colorbar": {
             "outlinewidth": 0,
             "ticks": ""
            },
            "colorscale": [
             [
              0,
              "#0d0887"
             ],
             [
              0.1111111111111111,
              "#46039f"
             ],
             [
              0.2222222222222222,
              "#7201a8"
             ],
             [
              0.3333333333333333,
              "#9c179e"
             ],
             [
              0.4444444444444444,
              "#bd3786"
             ],
             [
              0.5555555555555556,
              "#d8576b"
             ],
             [
              0.6666666666666666,
              "#ed7953"
             ],
             [
              0.7777777777777778,
              "#fb9f3a"
             ],
             [
              0.8888888888888888,
              "#fdca26"
             ],
             [
              1,
              "#f0f921"
             ]
            ],
            "type": "heatmap"
           }
          ],
          "heatmapgl": [
           {
            "colorbar": {
             "outlinewidth": 0,
             "ticks": ""
            },
            "colorscale": [
             [
              0,
              "#0d0887"
             ],
             [
              0.1111111111111111,
              "#46039f"
             ],
             [
              0.2222222222222222,
              "#7201a8"
             ],
             [
              0.3333333333333333,
              "#9c179e"
             ],
             [
              0.4444444444444444,
              "#bd3786"
             ],
             [
              0.5555555555555556,
              "#d8576b"
             ],
             [
              0.6666666666666666,
              "#ed7953"
             ],
             [
              0.7777777777777778,
              "#fb9f3a"
             ],
             [
              0.8888888888888888,
              "#fdca26"
             ],
             [
              1,
              "#f0f921"
             ]
            ],
            "type": "heatmapgl"
           }
          ],
          "histogram": [
           {
            "marker": {
             "pattern": {
              "fillmode": "overlay",
              "size": 10,
              "solidity": 0.2
             }
            },
            "type": "histogram"
           }
          ],
          "histogram2d": [
           {
            "colorbar": {
             "outlinewidth": 0,
             "ticks": ""
            },
            "colorscale": [
             [
              0,
              "#0d0887"
             ],
             [
              0.1111111111111111,
              "#46039f"
             ],
             [
              0.2222222222222222,
              "#7201a8"
             ],
             [
              0.3333333333333333,
              "#9c179e"
             ],
             [
              0.4444444444444444,
              "#bd3786"
             ],
             [
              0.5555555555555556,
              "#d8576b"
             ],
             [
              0.6666666666666666,
              "#ed7953"
             ],
             [
              0.7777777777777778,
              "#fb9f3a"
             ],
             [
              0.8888888888888888,
              "#fdca26"
             ],
             [
              1,
              "#f0f921"
             ]
            ],
            "type": "histogram2d"
           }
          ],
          "histogram2dcontour": [
           {
            "colorbar": {
             "outlinewidth": 0,
             "ticks": ""
            },
            "colorscale": [
             [
              0,
              "#0d0887"
             ],
             [
              0.1111111111111111,
              "#46039f"
             ],
             [
              0.2222222222222222,
              "#7201a8"
             ],
             [
              0.3333333333333333,
              "#9c179e"
             ],
             [
              0.4444444444444444,
              "#bd3786"
             ],
             [
              0.5555555555555556,
              "#d8576b"
             ],
             [
              0.6666666666666666,
              "#ed7953"
             ],
             [
              0.7777777777777778,
              "#fb9f3a"
             ],
             [
              0.8888888888888888,
              "#fdca26"
             ],
             [
              1,
              "#f0f921"
             ]
            ],
            "type": "histogram2dcontour"
           }
          ],
          "mesh3d": [
           {
            "colorbar": {
             "outlinewidth": 0,
             "ticks": ""
            },
            "type": "mesh3d"
           }
          ],
          "parcoords": [
           {
            "line": {
             "colorbar": {
              "outlinewidth": 0,
              "ticks": ""
             }
            },
            "type": "parcoords"
           }
          ],
          "pie": [
           {
            "automargin": true,
            "type": "pie"
           }
          ],
          "scatter": [
           {
            "fillpattern": {
             "fillmode": "overlay",
             "size": 10,
             "solidity": 0.2
            },
            "type": "scatter"
           }
          ],
          "scatter3d": [
           {
            "line": {
             "colorbar": {
              "outlinewidth": 0,
              "ticks": ""
             }
            },
            "marker": {
             "colorbar": {
              "outlinewidth": 0,
              "ticks": ""
             }
            },
            "type": "scatter3d"
           }
          ],
          "scattercarpet": [
           {
            "marker": {
             "colorbar": {
              "outlinewidth": 0,
              "ticks": ""
             }
            },
            "type": "scattercarpet"
           }
          ],
          "scattergeo": [
           {
            "marker": {
             "colorbar": {
              "outlinewidth": 0,
              "ticks": ""
             }
            },
            "type": "scattergeo"
           }
          ],
          "scattergl": [
           {
            "marker": {
             "colorbar": {
              "outlinewidth": 0,
              "ticks": ""
             }
            },
            "type": "scattergl"
           }
          ],
          "scattermapbox": [
           {
            "marker": {
             "colorbar": {
              "outlinewidth": 0,
              "ticks": ""
             }
            },
            "type": "scattermapbox"
           }
          ],
          "scatterpolar": [
           {
            "marker": {
             "colorbar": {
              "outlinewidth": 0,
              "ticks": ""
             }
            },
            "type": "scatterpolar"
           }
          ],
          "scatterpolargl": [
           {
            "marker": {
             "colorbar": {
              "outlinewidth": 0,
              "ticks": ""
             }
            },
            "type": "scatterpolargl"
           }
          ],
          "scatterternary": [
           {
            "marker": {
             "colorbar": {
              "outlinewidth": 0,
              "ticks": ""
             }
            },
            "type": "scatterternary"
           }
          ],
          "surface": [
           {
            "colorbar": {
             "outlinewidth": 0,
             "ticks": ""
            },
            "colorscale": [
             [
              0,
              "#0d0887"
             ],
             [
              0.1111111111111111,
              "#46039f"
             ],
             [
              0.2222222222222222,
              "#7201a8"
             ],
             [
              0.3333333333333333,
              "#9c179e"
             ],
             [
              0.4444444444444444,
              "#bd3786"
             ],
             [
              0.5555555555555556,
              "#d8576b"
             ],
             [
              0.6666666666666666,
              "#ed7953"
             ],
             [
              0.7777777777777778,
              "#fb9f3a"
             ],
             [
              0.8888888888888888,
              "#fdca26"
             ],
             [
              1,
              "#f0f921"
             ]
            ],
            "type": "surface"
           }
          ],
          "table": [
           {
            "cells": {
             "fill": {
              "color": "#EBF0F8"
             },
             "line": {
              "color": "white"
             }
            },
            "header": {
             "fill": {
              "color": "#C8D4E3"
             },
             "line": {
              "color": "white"
             }
            },
            "type": "table"
           }
          ]
         },
         "layout": {
          "annotationdefaults": {
           "arrowcolor": "#2a3f5f",
           "arrowhead": 0,
           "arrowwidth": 1
          },
          "autotypenumbers": "strict",
          "coloraxis": {
           "colorbar": {
            "outlinewidth": 0,
            "ticks": ""
           }
          },
          "colorscale": {
           "diverging": [
            [
             0,
             "#8e0152"
            ],
            [
             0.1,
             "#c51b7d"
            ],
            [
             0.2,
             "#de77ae"
            ],
            [
             0.3,
             "#f1b6da"
            ],
            [
             0.4,
             "#fde0ef"
            ],
            [
             0.5,
             "#f7f7f7"
            ],
            [
             0.6,
             "#e6f5d0"
            ],
            [
             0.7,
             "#b8e186"
            ],
            [
             0.8,
             "#7fbc41"
            ],
            [
             0.9,
             "#4d9221"
            ],
            [
             1,
             "#276419"
            ]
           ],
           "sequential": [
            [
             0,
             "#0d0887"
            ],
            [
             0.1111111111111111,
             "#46039f"
            ],
            [
             0.2222222222222222,
             "#7201a8"
            ],
            [
             0.3333333333333333,
             "#9c179e"
            ],
            [
             0.4444444444444444,
             "#bd3786"
            ],
            [
             0.5555555555555556,
             "#d8576b"
            ],
            [
             0.6666666666666666,
             "#ed7953"
            ],
            [
             0.7777777777777778,
             "#fb9f3a"
            ],
            [
             0.8888888888888888,
             "#fdca26"
            ],
            [
             1,
             "#f0f921"
            ]
           ],
           "sequentialminus": [
            [
             0,
             "#0d0887"
            ],
            [
             0.1111111111111111,
             "#46039f"
            ],
            [
             0.2222222222222222,
             "#7201a8"
            ],
            [
             0.3333333333333333,
             "#9c179e"
            ],
            [
             0.4444444444444444,
             "#bd3786"
            ],
            [
             0.5555555555555556,
             "#d8576b"
            ],
            [
             0.6666666666666666,
             "#ed7953"
            ],
            [
             0.7777777777777778,
             "#fb9f3a"
            ],
            [
             0.8888888888888888,
             "#fdca26"
            ],
            [
             1,
             "#f0f921"
            ]
           ]
          },
          "colorway": [
           "#636efa",
           "#EF553B",
           "#00cc96",
           "#ab63fa",
           "#FFA15A",
           "#19d3f3",
           "#FF6692",
           "#B6E880",
           "#FF97FF",
           "#FECB52"
          ],
          "font": {
           "color": "#2a3f5f"
          },
          "geo": {
           "bgcolor": "white",
           "lakecolor": "white",
           "landcolor": "#E5ECF6",
           "showlakes": true,
           "showland": true,
           "subunitcolor": "white"
          },
          "hoverlabel": {
           "align": "left"
          },
          "hovermode": "closest",
          "mapbox": {
           "style": "light"
          },
          "paper_bgcolor": "white",
          "plot_bgcolor": "#E5ECF6",
          "polar": {
           "angularaxis": {
            "gridcolor": "white",
            "linecolor": "white",
            "ticks": ""
           },
           "bgcolor": "#E5ECF6",
           "radialaxis": {
            "gridcolor": "white",
            "linecolor": "white",
            "ticks": ""
           }
          },
          "scene": {
           "xaxis": {
            "backgroundcolor": "#E5ECF6",
            "gridcolor": "white",
            "gridwidth": 2,
            "linecolor": "white",
            "showbackground": true,
            "ticks": "",
            "zerolinecolor": "white"
           },
           "yaxis": {
            "backgroundcolor": "#E5ECF6",
            "gridcolor": "white",
            "gridwidth": 2,
            "linecolor": "white",
            "showbackground": true,
            "ticks": "",
            "zerolinecolor": "white"
           },
           "zaxis": {
            "backgroundcolor": "#E5ECF6",
            "gridcolor": "white",
            "gridwidth": 2,
            "linecolor": "white",
            "showbackground": true,
            "ticks": "",
            "zerolinecolor": "white"
           }
          },
          "shapedefaults": {
           "line": {
            "color": "#2a3f5f"
           }
          },
          "ternary": {
           "aaxis": {
            "gridcolor": "white",
            "linecolor": "white",
            "ticks": ""
           },
           "baxis": {
            "gridcolor": "white",
            "linecolor": "white",
            "ticks": ""
           },
           "bgcolor": "#E5ECF6",
           "caxis": {
            "gridcolor": "white",
            "linecolor": "white",
            "ticks": ""
           }
          },
          "title": {
           "x": 0.05
          },
          "xaxis": {
           "automargin": true,
           "gridcolor": "white",
           "linecolor": "white",
           "ticks": "",
           "title": {
            "standoff": 15
           },
           "zerolinecolor": "white",
           "zerolinewidth": 2
          },
          "yaxis": {
           "automargin": true,
           "gridcolor": "white",
           "linecolor": "white",
           "ticks": "",
           "title": {
            "standoff": 15
           },
           "zerolinecolor": "white",
           "zerolinewidth": 2
          }
         }
        },
        "title": {
         "text": "Utility"
        },
        "xaxis": {
         "range": [
          0.6,
          5.4
         ],
         "showgrid": true,
         "title": {
          "text": "Average Rankings"
         },
         "zeroline": false
        },
        "yaxis": {
         "title": {
          "text": ""
         },
         "visible": false
        }
       }
      },
      "text/html": [
       "<div>                            <div id=\"3691eef1-01d5-4d46-83cc-bfd3e4026b20\" class=\"plotly-graph-div\" style=\"height:200px; width:100%;\"></div>            <script type=\"text/javascript\">                require([\"plotly\"], function(Plotly) {                    window.PLOTLYENV=window.PLOTLYENV || {};                                    if (document.getElementById(\"3691eef1-01d5-4d46-83cc-bfd3e4026b20\")) {                    Plotly.newPlot(                        \"3691eef1-01d5-4d46-83cc-bfd3e4026b20\",                        [{\"marker\":{\"color\":[\"#636EFA\",\"#EF553B\",\"#00CC96\",\"#AB63FA\",\"#FFA15A\",\"#19D3F3\"],\"size\":12},\"mode\":\"markers+text\",\"text\":[\"TTS-GAN\",\"Time-Transformer\",\"TimeGAN\",\"TimeVQVAE\",\"TransFusion\"],\"textfont\":{\"color\":[\"#636EFA\",\"#EF553B\",\"#00CC96\",\"#AB63FA\",\"#FFA15A\",\"#19D3F3\"]},\"textposition\":[\"top center\",\"top center\",\"top left\",\"bottom center\",\"top center\"],\"x\":[4.166666666666667,3.3333333333333335,3.0,3.3333333333333335,1.1666666666666667],\"y\":[0,0,0,0,0],\"type\":\"scatter\"}],                        {\"template\":{\"data\":{\"histogram2dcontour\":[{\"type\":\"histogram2dcontour\",\"colorbar\":{\"outlinewidth\":0,\"ticks\":\"\"},\"colorscale\":[[0.0,\"#0d0887\"],[0.1111111111111111,\"#46039f\"],[0.2222222222222222,\"#7201a8\"],[0.3333333333333333,\"#9c179e\"],[0.4444444444444444,\"#bd3786\"],[0.5555555555555556,\"#d8576b\"],[0.6666666666666666,\"#ed7953\"],[0.7777777777777778,\"#fb9f3a\"],[0.8888888888888888,\"#fdca26\"],[1.0,\"#f0f921\"]]}],\"choropleth\":[{\"type\":\"choropleth\",\"colorbar\":{\"outlinewidth\":0,\"ticks\":\"\"}}],\"histogram2d\":[{\"type\":\"histogram2d\",\"colorbar\":{\"outlinewidth\":0,\"ticks\":\"\"},\"colorscale\":[[0.0,\"#0d0887\"],[0.1111111111111111,\"#46039f\"],[0.2222222222222222,\"#7201a8\"],[0.3333333333333333,\"#9c179e\"],[0.4444444444444444,\"#bd3786\"],[0.5555555555555556,\"#d8576b\"],[0.6666666666666666,\"#ed7953\"],[0.7777777777777778,\"#fb9f3a\"],[0.8888888888888888,\"#fdca26\"],[1.0,\"#f0f921\"]]}],\"heatmap\":[{\"type\":\"heatmap\",\"colorbar\":{\"outlinewidth\":0,\"ticks\":\"\"},\"colorscale\":[[0.0,\"#0d0887\"],[0.1111111111111111,\"#46039f\"],[0.2222222222222222,\"#7201a8\"],[0.3333333333333333,\"#9c179e\"],[0.4444444444444444,\"#bd3786\"],[0.5555555555555556,\"#d8576b\"],[0.6666666666666666,\"#ed7953\"],[0.7777777777777778,\"#fb9f3a\"],[0.8888888888888888,\"#fdca26\"],[1.0,\"#f0f921\"]]}],\"heatmapgl\":[{\"type\":\"heatmapgl\",\"colorbar\":{\"outlinewidth\":0,\"ticks\":\"\"},\"colorscale\":[[0.0,\"#0d0887\"],[0.1111111111111111,\"#46039f\"],[0.2222222222222222,\"#7201a8\"],[0.3333333333333333,\"#9c179e\"],[0.4444444444444444,\"#bd3786\"],[0.5555555555555556,\"#d8576b\"],[0.6666666666666666,\"#ed7953\"],[0.7777777777777778,\"#fb9f3a\"],[0.8888888888888888,\"#fdca26\"],[1.0,\"#f0f921\"]]}],\"contourcarpet\":[{\"type\":\"contourcarpet\",\"colorbar\":{\"outlinewidth\":0,\"ticks\":\"\"}}],\"contour\":[{\"type\":\"contour\",\"colorbar\":{\"outlinewidth\":0,\"ticks\":\"\"},\"colorscale\":[[0.0,\"#0d0887\"],[0.1111111111111111,\"#46039f\"],[0.2222222222222222,\"#7201a8\"],[0.3333333333333333,\"#9c179e\"],[0.4444444444444444,\"#bd3786\"],[0.5555555555555556,\"#d8576b\"],[0.6666666666666666,\"#ed7953\"],[0.7777777777777778,\"#fb9f3a\"],[0.8888888888888888,\"#fdca26\"],[1.0,\"#f0f921\"]]}],\"surface\":[{\"type\":\"surface\",\"colorbar\":{\"outlinewidth\":0,\"ticks\":\"\"},\"colorscale\":[[0.0,\"#0d0887\"],[0.1111111111111111,\"#46039f\"],[0.2222222222222222,\"#7201a8\"],[0.3333333333333333,\"#9c179e\"],[0.4444444444444444,\"#bd3786\"],[0.5555555555555556,\"#d8576b\"],[0.6666666666666666,\"#ed7953\"],[0.7777777777777778,\"#fb9f3a\"],[0.8888888888888888,\"#fdca26\"],[1.0,\"#f0f921\"]]}],\"mesh3d\":[{\"type\":\"mesh3d\",\"colorbar\":{\"outlinewidth\":0,\"ticks\":\"\"}}],\"scatter\":[{\"fillpattern\":{\"fillmode\":\"overlay\",\"size\":10,\"solidity\":0.2},\"type\":\"scatter\"}],\"parcoords\":[{\"type\":\"parcoords\",\"line\":{\"colorbar\":{\"outlinewidth\":0,\"ticks\":\"\"}}}],\"scatterpolargl\":[{\"type\":\"scatterpolargl\",\"marker\":{\"colorbar\":{\"outlinewidth\":0,\"ticks\":\"\"}}}],\"bar\":[{\"error_x\":{\"color\":\"#2a3f5f\"},\"error_y\":{\"color\":\"#2a3f5f\"},\"marker\":{\"line\":{\"color\":\"#E5ECF6\",\"width\":0.5},\"pattern\":{\"fillmode\":\"overlay\",\"size\":10,\"solidity\":0.2}},\"type\":\"bar\"}],\"scattergeo\":[{\"type\":\"scattergeo\",\"marker\":{\"colorbar\":{\"outlinewidth\":0,\"ticks\":\"\"}}}],\"scatterpolar\":[{\"type\":\"scatterpolar\",\"marker\":{\"colorbar\":{\"outlinewidth\":0,\"ticks\":\"\"}}}],\"histogram\":[{\"marker\":{\"pattern\":{\"fillmode\":\"overlay\",\"size\":10,\"solidity\":0.2}},\"type\":\"histogram\"}],\"scattergl\":[{\"type\":\"scattergl\",\"marker\":{\"colorbar\":{\"outlinewidth\":0,\"ticks\":\"\"}}}],\"scatter3d\":[{\"type\":\"scatter3d\",\"line\":{\"colorbar\":{\"outlinewidth\":0,\"ticks\":\"\"}},\"marker\":{\"colorbar\":{\"outlinewidth\":0,\"ticks\":\"\"}}}],\"scattermapbox\":[{\"type\":\"scattermapbox\",\"marker\":{\"colorbar\":{\"outlinewidth\":0,\"ticks\":\"\"}}}],\"scatterternary\":[{\"type\":\"scatterternary\",\"marker\":{\"colorbar\":{\"outlinewidth\":0,\"ticks\":\"\"}}}],\"scattercarpet\":[{\"type\":\"scattercarpet\",\"marker\":{\"colorbar\":{\"outlinewidth\":0,\"ticks\":\"\"}}}],\"carpet\":[{\"aaxis\":{\"endlinecolor\":\"#2a3f5f\",\"gridcolor\":\"white\",\"linecolor\":\"white\",\"minorgridcolor\":\"white\",\"startlinecolor\":\"#2a3f5f\"},\"baxis\":{\"endlinecolor\":\"#2a3f5f\",\"gridcolor\":\"white\",\"linecolor\":\"white\",\"minorgridcolor\":\"white\",\"startlinecolor\":\"#2a3f5f\"},\"type\":\"carpet\"}],\"table\":[{\"cells\":{\"fill\":{\"color\":\"#EBF0F8\"},\"line\":{\"color\":\"white\"}},\"header\":{\"fill\":{\"color\":\"#C8D4E3\"},\"line\":{\"color\":\"white\"}},\"type\":\"table\"}],\"barpolar\":[{\"marker\":{\"line\":{\"color\":\"#E5ECF6\",\"width\":0.5},\"pattern\":{\"fillmode\":\"overlay\",\"size\":10,\"solidity\":0.2}},\"type\":\"barpolar\"}],\"pie\":[{\"automargin\":true,\"type\":\"pie\"}]},\"layout\":{\"autotypenumbers\":\"strict\",\"colorway\":[\"#636efa\",\"#EF553B\",\"#00cc96\",\"#ab63fa\",\"#FFA15A\",\"#19d3f3\",\"#FF6692\",\"#B6E880\",\"#FF97FF\",\"#FECB52\"],\"font\":{\"color\":\"#2a3f5f\"},\"hovermode\":\"closest\",\"hoverlabel\":{\"align\":\"left\"},\"paper_bgcolor\":\"white\",\"plot_bgcolor\":\"#E5ECF6\",\"polar\":{\"bgcolor\":\"#E5ECF6\",\"angularaxis\":{\"gridcolor\":\"white\",\"linecolor\":\"white\",\"ticks\":\"\"},\"radialaxis\":{\"gridcolor\":\"white\",\"linecolor\":\"white\",\"ticks\":\"\"}},\"ternary\":{\"bgcolor\":\"#E5ECF6\",\"aaxis\":{\"gridcolor\":\"white\",\"linecolor\":\"white\",\"ticks\":\"\"},\"baxis\":{\"gridcolor\":\"white\",\"linecolor\":\"white\",\"ticks\":\"\"},\"caxis\":{\"gridcolor\":\"white\",\"linecolor\":\"white\",\"ticks\":\"\"}},\"coloraxis\":{\"colorbar\":{\"outlinewidth\":0,\"ticks\":\"\"}},\"colorscale\":{\"sequential\":[[0.0,\"#0d0887\"],[0.1111111111111111,\"#46039f\"],[0.2222222222222222,\"#7201a8\"],[0.3333333333333333,\"#9c179e\"],[0.4444444444444444,\"#bd3786\"],[0.5555555555555556,\"#d8576b\"],[0.6666666666666666,\"#ed7953\"],[0.7777777777777778,\"#fb9f3a\"],[0.8888888888888888,\"#fdca26\"],[1.0,\"#f0f921\"]],\"sequentialminus\":[[0.0,\"#0d0887\"],[0.1111111111111111,\"#46039f\"],[0.2222222222222222,\"#7201a8\"],[0.3333333333333333,\"#9c179e\"],[0.4444444444444444,\"#bd3786\"],[0.5555555555555556,\"#d8576b\"],[0.6666666666666666,\"#ed7953\"],[0.7777777777777778,\"#fb9f3a\"],[0.8888888888888888,\"#fdca26\"],[1.0,\"#f0f921\"]],\"diverging\":[[0,\"#8e0152\"],[0.1,\"#c51b7d\"],[0.2,\"#de77ae\"],[0.3,\"#f1b6da\"],[0.4,\"#fde0ef\"],[0.5,\"#f7f7f7\"],[0.6,\"#e6f5d0\"],[0.7,\"#b8e186\"],[0.8,\"#7fbc41\"],[0.9,\"#4d9221\"],[1,\"#276419\"]]},\"xaxis\":{\"gridcolor\":\"white\",\"linecolor\":\"white\",\"ticks\":\"\",\"title\":{\"standoff\":15},\"zerolinecolor\":\"white\",\"automargin\":true,\"zerolinewidth\":2},\"yaxis\":{\"gridcolor\":\"white\",\"linecolor\":\"white\",\"ticks\":\"\",\"title\":{\"standoff\":15},\"zerolinecolor\":\"white\",\"automargin\":true,\"zerolinewidth\":2},\"scene\":{\"xaxis\":{\"backgroundcolor\":\"#E5ECF6\",\"gridcolor\":\"white\",\"linecolor\":\"white\",\"showbackground\":true,\"ticks\":\"\",\"zerolinecolor\":\"white\",\"gridwidth\":2},\"yaxis\":{\"backgroundcolor\":\"#E5ECF6\",\"gridcolor\":\"white\",\"linecolor\":\"white\",\"showbackground\":true,\"ticks\":\"\",\"zerolinecolor\":\"white\",\"gridwidth\":2},\"zaxis\":{\"backgroundcolor\":\"#E5ECF6\",\"gridcolor\":\"white\",\"linecolor\":\"white\",\"showbackground\":true,\"ticks\":\"\",\"zerolinecolor\":\"white\",\"gridwidth\":2}},\"shapedefaults\":{\"line\":{\"color\":\"#2a3f5f\"}},\"annotationdefaults\":{\"arrowcolor\":\"#2a3f5f\",\"arrowhead\":0,\"arrowwidth\":1},\"geo\":{\"bgcolor\":\"white\",\"landcolor\":\"#E5ECF6\",\"subunitcolor\":\"white\",\"showland\":true,\"showlakes\":true,\"lakecolor\":\"white\"},\"title\":{\"x\":0.05},\"mapbox\":{\"style\":\"light\"}}},\"shapes\":[{\"layer\":\"below\",\"line\":{\"color\":\"rgb(50.0,50.0,50.0)\",\"width\":2},\"type\":\"line\",\"x0\":4.166666666666667,\"x1\":3.0,\"y0\":0.07,\"y1\":0.07},{\"layer\":\"below\",\"line\":{\"color\":\"rgb(150.0,150.0,150.0)\",\"width\":2},\"type\":\"line\",\"x0\":3.3333333333333335,\"x1\":1.1666666666666667,\"y0\":0.14,\"y1\":0.14},{\"layer\":\"below\",\"line\":{\"color\":\"black\",\"width\":1},\"type\":\"line\",\"x0\":1,\"x1\":5,\"y0\":0,\"y1\":0},{\"layer\":\"below\",\"line\":{\"color\":\"black\",\"width\":1},\"type\":\"line\",\"x0\":1,\"x1\":1,\"y0\":-1,\"y1\":1}],\"yaxis\":{\"visible\":false,\"title\":{\"text\":\"\"}},\"xaxis\":{\"range\":[0.6,5.4],\"showgrid\":true,\"zeroline\":false,\"title\":{\"text\":\"Average Rankings\"}},\"margin\":{\"t\":60,\"b\":60,\"l\":150,\"r\":150},\"height\":200,\"showlegend\":false,\"title\":{\"text\":\"Utility\"}},                        {\"responsive\": true}                    ).then(function(){\n",
       "                            \n",
       "var gd = document.getElementById('3691eef1-01d5-4d46-83cc-bfd3e4026b20');\n",
       "var x = new MutationObserver(function (mutations, observer) {{\n",
       "        var display = window.getComputedStyle(gd).display;\n",
       "        if (!display || display === 'none') {{\n",
       "            console.log([gd, 'removed!']);\n",
       "            Plotly.purge(gd);\n",
       "            observer.disconnect();\n",
       "        }}\n",
       "}});\n",
       "\n",
       "// Listen for the removal of the full notebook cells\n",
       "var notebookContainer = gd.closest('#notebook-container');\n",
       "if (notebookContainer) {{\n",
       "    x.observe(notebookContainer, {childList: true});\n",
       "}}\n",
       "\n",
       "// Listen for the clearing of the current output cell\n",
       "var outputEl = gd.closest('.output');\n",
       "if (outputEl) {{\n",
       "    x.observe(outputEl, {childList: true});\n",
       "}}\n",
       "\n",
       "                        })                };                });            </script>        </div>"
      ]
     },
     "metadata": {},
     "output_type": "display_data"
    }
   ],
   "source": [
    "connections=[(\"TTS-GAN\", \"TimeGAN\"), (\"TimeVQVAE\", \"TransFusion\")]\n",
    "plot_average_rankings(df_no_copy[\"PS\"].to_frame(), connections=connections, title=\"Utility\", textpositions=[\"top center\",\"top center\",\"top left\",\"bottom center\",\"top center\"])"
   ]
  },
  {
   "cell_type": "code",
   "execution_count": 118,
   "id": "fe55e917",
   "metadata": {},
   "outputs": [
    {
     "name": "stdout",
     "output_type": "stream",
     "text": [
      "0.01\n"
     ]
    },
    {
     "data": {
      "text/html": [
       "<style type=\"text/css\">\n",
       "#T_f8a53_row0_col4, #T_f8a53_row4_col0 {\n",
       "  background-color: turquoise;\n",
       "}\n",
       "</style>\n",
       "<table id=\"T_f8a53_\">\n",
       "  <thead>\n",
       "    <tr>\n",
       "      <th class=\"blank level0\" >&nbsp;</th>\n",
       "      <th class=\"col_heading level0 col0\" >TTS-GAN</th>\n",
       "      <th class=\"col_heading level0 col1\" >Time-Transformer</th>\n",
       "      <th class=\"col_heading level0 col2\" >TimeGAN</th>\n",
       "      <th class=\"col_heading level0 col3\" >TimeVQVAE</th>\n",
       "      <th class=\"col_heading level0 col4\" >TransFusion</th>\n",
       "    </tr>\n",
       "  </thead>\n",
       "  <tbody>\n",
       "    <tr>\n",
       "      <th id=\"T_f8a53_level0_row0\" class=\"row_heading level0 row0\" >TTS-GAN</th>\n",
       "      <td id=\"T_f8a53_row0_col0\" class=\"data row0 col0\" >1.00e+00</td>\n",
       "      <td id=\"T_f8a53_row0_col1\" class=\"data row0 col1\" >1.00e+00</td>\n",
       "      <td id=\"T_f8a53_row0_col2\" class=\"data row0 col2\" >7.85e-01</td>\n",
       "      <td id=\"T_f8a53_row0_col3\" class=\"data row0 col3\" >1.00e+00</td>\n",
       "      <td id=\"T_f8a53_row0_col4\" class=\"data row0 col4\" >7.75e-04</td>\n",
       "    </tr>\n",
       "    <tr>\n",
       "      <th id=\"T_f8a53_level0_row1\" class=\"row_heading level0 row1\" >Time-Transformer</th>\n",
       "      <td id=\"T_f8a53_row1_col0\" class=\"data row1 col0\" >1.00e+00</td>\n",
       "      <td id=\"T_f8a53_row1_col1\" class=\"data row1 col1\" >1.00e+00</td>\n",
       "      <td id=\"T_f8a53_row1_col2\" class=\"data row1 col2\" >1.00e+00</td>\n",
       "      <td id=\"T_f8a53_row1_col3\" class=\"data row1 col3\" >1.00e+00</td>\n",
       "      <td id=\"T_f8a53_row1_col4\" class=\"data row1 col4\" >2.23e-02</td>\n",
       "    </tr>\n",
       "    <tr>\n",
       "      <th id=\"T_f8a53_level0_row2\" class=\"row_heading level0 row2\" >TimeGAN</th>\n",
       "      <td id=\"T_f8a53_row2_col0\" class=\"data row2 col0\" >7.85e-01</td>\n",
       "      <td id=\"T_f8a53_row2_col1\" class=\"data row2 col1\" >1.00e+00</td>\n",
       "      <td id=\"T_f8a53_row2_col2\" class=\"data row2 col2\" >1.00e+00</td>\n",
       "      <td id=\"T_f8a53_row2_col3\" class=\"data row2 col3\" >1.00e+00</td>\n",
       "      <td id=\"T_f8a53_row2_col4\" class=\"data row2 col4\" >7.99e-02</td>\n",
       "    </tr>\n",
       "    <tr>\n",
       "      <th id=\"T_f8a53_level0_row3\" class=\"row_heading level0 row3\" >TimeVQVAE</th>\n",
       "      <td id=\"T_f8a53_row3_col0\" class=\"data row3 col0\" >1.00e+00</td>\n",
       "      <td id=\"T_f8a53_row3_col1\" class=\"data row3 col1\" >1.00e+00</td>\n",
       "      <td id=\"T_f8a53_row3_col2\" class=\"data row3 col2\" >1.00e+00</td>\n",
       "      <td id=\"T_f8a53_row3_col3\" class=\"data row3 col3\" >1.00e+00</td>\n",
       "      <td id=\"T_f8a53_row3_col4\" class=\"data row3 col4\" >2.23e-02</td>\n",
       "    </tr>\n",
       "    <tr>\n",
       "      <th id=\"T_f8a53_level0_row4\" class=\"row_heading level0 row4\" >TransFusion</th>\n",
       "      <td id=\"T_f8a53_row4_col0\" class=\"data row4 col0\" >7.75e-04</td>\n",
       "      <td id=\"T_f8a53_row4_col1\" class=\"data row4 col1\" >2.23e-02</td>\n",
       "      <td id=\"T_f8a53_row4_col2\" class=\"data row4 col2\" >7.99e-02</td>\n",
       "      <td id=\"T_f8a53_row4_col3\" class=\"data row4 col3\" >2.23e-02</td>\n",
       "      <td id=\"T_f8a53_row4_col4\" class=\"data row4 col4\" >1.00e+00</td>\n",
       "    </tr>\n",
       "  </tbody>\n",
       "</table>\n"
      ],
      "text/plain": [
       "<pandas.io.formats.style.Styler at 0x7f1ff025f150>"
      ]
     },
     "execution_count": 118,
     "metadata": {},
     "output_type": "execute_result"
    }
   ],
   "source": [
    "pretty_conover(df_no_copy[\"PS\"].to_frame())"
   ]
  },
  {
   "cell_type": "code",
   "execution_count": 119,
   "id": "35549819",
   "metadata": {},
   "outputs": [
    {
     "data": {
      "text/plain": [
       "8.69339661590917e-22"
      ]
     },
     "execution_count": 119,
     "metadata": {},
     "output_type": "execute_result"
    }
   ],
   "source": [
    "from scipy.stats import friedmanchisquare\n",
    "\n",
    "df = df_no_copy.unstack(level=1).T\n",
    "ranks = df.rank(axis=0, method='average', ascending=False)\n",
    "\n",
    "stat, p = friedmanchisquare(*[ranks.loc[m].values for m in ranks.index])\n",
    "p"
   ]
  },
  {
   "cell_type": "code",
   "execution_count": 120,
   "id": "afb9c9fb",
   "metadata": {},
   "outputs": [
    {
     "data": {
      "text/html": [
       "<style type=\"text/css\">\n",
       "#T_13b5e_row0_col0, #T_13b5e_row0_col1, #T_13b5e_row0_col2, #T_13b5e_row0_col3 {\n",
       "  background-color: lightblue;\n",
       "}\n",
       "#T_13b5e_row0_col4, #T_13b5e_row0_col7, #T_13b5e_row0_col8, #T_13b5e_row1_col0, #T_13b5e_row1_col1, #T_13b5e_row1_col2, #T_13b5e_row1_col3, #T_13b5e_row1_col4, #T_13b5e_row1_col5, #T_13b5e_row1_col6, #T_13b5e_row2_col0, #T_13b5e_row2_col1, #T_13b5e_row2_col2, #T_13b5e_row2_col3, #T_13b5e_row2_col4, #T_13b5e_row3_col0, #T_13b5e_row3_col1, #T_13b5e_row3_col2, #T_13b5e_row3_col3, #T_13b5e_row3_col4, #T_13b5e_row3_col5, #T_13b5e_row3_col6, #T_13b5e_row4_col0, #T_13b5e_row4_col1, #T_13b5e_row4_col2, #T_13b5e_row4_col3, #T_13b5e_row4_col4, #T_13b5e_row4_col5, #T_13b5e_row4_col6, #T_13b5e_row5_col0, #T_13b5e_row5_col1, #T_13b5e_row5_col2, #T_13b5e_row5_col3, #T_13b5e_row5_col4, #T_13b5e_row5_col5, #T_13b5e_row5_col6 {\n",
       "  background-color: lightgreen;\n",
       "}\n",
       "#T_13b5e_row0_col5, #T_13b5e_row0_col6, #T_13b5e_row1_col7, #T_13b5e_row1_col8, #T_13b5e_row2_col5, #T_13b5e_row2_col6, #T_13b5e_row4_col7, #T_13b5e_row4_col8, #T_13b5e_row5_col7, #T_13b5e_row5_col8 {\n",
       "  background-color: turquoise;\n",
       "}\n",
       "#T_13b5e_row0_col9, #T_13b5e_row1_col9, #T_13b5e_row2_col7, #T_13b5e_row2_col8, #T_13b5e_row2_col9, #T_13b5e_row3_col7, #T_13b5e_row3_col8, #T_13b5e_row3_col9, #T_13b5e_row4_col9, #T_13b5e_row5_col9 {\n",
       "  background-color: pink;\n",
       "}\n",
       "</style>\n",
       "<table id=\"T_13b5e_\">\n",
       "  <thead>\n",
       "    <tr>\n",
       "      <th class=\"blank level0\" >&nbsp;</th>\n",
       "      <th class=\"col_heading level0 col0\" >DS</th>\n",
       "      <th class=\"col_heading level0 col1\" >PS</th>\n",
       "      <th class=\"col_heading level0 col2\" >C-FID</th>\n",
       "      <th class=\"col_heading level0 col3\" >MDD</th>\n",
       "      <th class=\"col_heading level0 col4\" >ACD</th>\n",
       "      <th class=\"col_heading level0 col5\" >SD</th>\n",
       "      <th class=\"col_heading level0 col6\" >KD</th>\n",
       "      <th class=\"col_heading level0 col7\" >ED</th>\n",
       "      <th class=\"col_heading level0 col8\" >DTW</th>\n",
       "      <th class=\"col_heading level0 col9\" >Time</th>\n",
       "    </tr>\n",
       "    <tr>\n",
       "      <th class=\"index_name level0\" >Dataset</th>\n",
       "      <th class=\"blank col0\" >&nbsp;</th>\n",
       "      <th class=\"blank col1\" >&nbsp;</th>\n",
       "      <th class=\"blank col2\" >&nbsp;</th>\n",
       "      <th class=\"blank col3\" >&nbsp;</th>\n",
       "      <th class=\"blank col4\" >&nbsp;</th>\n",
       "      <th class=\"blank col5\" >&nbsp;</th>\n",
       "      <th class=\"blank col6\" >&nbsp;</th>\n",
       "      <th class=\"blank col7\" >&nbsp;</th>\n",
       "      <th class=\"blank col8\" >&nbsp;</th>\n",
       "      <th class=\"blank col9\" >&nbsp;</th>\n",
       "    </tr>\n",
       "  </thead>\n",
       "  <tbody>\n",
       "    <tr>\n",
       "      <th id=\"T_13b5e_level0_row0\" class=\"row_heading level0 row0\" >D2</th>\n",
       "      <td id=\"T_13b5e_row0_col0\" class=\"data row0 col0\" >TimeGAN</td>\n",
       "      <td id=\"T_13b5e_row0_col1\" class=\"data row0 col1\" >TimeGAN</td>\n",
       "      <td id=\"T_13b5e_row0_col2\" class=\"data row0 col2\" >TimeGAN</td>\n",
       "      <td id=\"T_13b5e_row0_col3\" class=\"data row0 col3\" >TimeGAN</td>\n",
       "      <td id=\"T_13b5e_row0_col4\" class=\"data row0 col4\" >TransFusion</td>\n",
       "      <td id=\"T_13b5e_row0_col5\" class=\"data row0 col5\" >TimeVQVAE</td>\n",
       "      <td id=\"T_13b5e_row0_col6\" class=\"data row0 col6\" >TimeVQVAE</td>\n",
       "      <td id=\"T_13b5e_row0_col7\" class=\"data row0 col7\" >TransFusion</td>\n",
       "      <td id=\"T_13b5e_row0_col8\" class=\"data row0 col8\" >TransFusion</td>\n",
       "      <td id=\"T_13b5e_row0_col9\" class=\"data row0 col9\" >Time-Transformer</td>\n",
       "    </tr>\n",
       "    <tr>\n",
       "      <th id=\"T_13b5e_level0_row1\" class=\"row_heading level0 row1\" >D3</th>\n",
       "      <td id=\"T_13b5e_row1_col0\" class=\"data row1 col0\" >TransFusion</td>\n",
       "      <td id=\"T_13b5e_row1_col1\" class=\"data row1 col1\" >TransFusion</td>\n",
       "      <td id=\"T_13b5e_row1_col2\" class=\"data row1 col2\" >TransFusion</td>\n",
       "      <td id=\"T_13b5e_row1_col3\" class=\"data row1 col3\" >TransFusion</td>\n",
       "      <td id=\"T_13b5e_row1_col4\" class=\"data row1 col4\" >TransFusion</td>\n",
       "      <td id=\"T_13b5e_row1_col5\" class=\"data row1 col5\" >TransFusion</td>\n",
       "      <td id=\"T_13b5e_row1_col6\" class=\"data row1 col6\" >TransFusion</td>\n",
       "      <td id=\"T_13b5e_row1_col7\" class=\"data row1 col7\" >TimeVQVAE</td>\n",
       "      <td id=\"T_13b5e_row1_col8\" class=\"data row1 col8\" >TimeVQVAE</td>\n",
       "      <td id=\"T_13b5e_row1_col9\" class=\"data row1 col9\" >Time-Transformer</td>\n",
       "    </tr>\n",
       "    <tr>\n",
       "      <th id=\"T_13b5e_level0_row2\" class=\"row_heading level0 row2\" >D4</th>\n",
       "      <td id=\"T_13b5e_row2_col0\" class=\"data row2 col0\" >TransFusion</td>\n",
       "      <td id=\"T_13b5e_row2_col1\" class=\"data row2 col1\" >TransFusion</td>\n",
       "      <td id=\"T_13b5e_row2_col2\" class=\"data row2 col2\" >TransFusion</td>\n",
       "      <td id=\"T_13b5e_row2_col3\" class=\"data row2 col3\" >TransFusion</td>\n",
       "      <td id=\"T_13b5e_row2_col4\" class=\"data row2 col4\" >TransFusion</td>\n",
       "      <td id=\"T_13b5e_row2_col5\" class=\"data row2 col5\" >TimeVQVAE</td>\n",
       "      <td id=\"T_13b5e_row2_col6\" class=\"data row2 col6\" >TimeVQVAE</td>\n",
       "      <td id=\"T_13b5e_row2_col7\" class=\"data row2 col7\" >Time-Transformer</td>\n",
       "      <td id=\"T_13b5e_row2_col8\" class=\"data row2 col8\" >Time-Transformer</td>\n",
       "      <td id=\"T_13b5e_row2_col9\" class=\"data row2 col9\" >Time-Transformer</td>\n",
       "    </tr>\n",
       "    <tr>\n",
       "      <th id=\"T_13b5e_level0_row3\" class=\"row_heading level0 row3\" >D5</th>\n",
       "      <td id=\"T_13b5e_row3_col0\" class=\"data row3 col0\" >TransFusion</td>\n",
       "      <td id=\"T_13b5e_row3_col1\" class=\"data row3 col1\" >TransFusion</td>\n",
       "      <td id=\"T_13b5e_row3_col2\" class=\"data row3 col2\" >TransFusion</td>\n",
       "      <td id=\"T_13b5e_row3_col3\" class=\"data row3 col3\" >TransFusion</td>\n",
       "      <td id=\"T_13b5e_row3_col4\" class=\"data row3 col4\" >TransFusion</td>\n",
       "      <td id=\"T_13b5e_row3_col5\" class=\"data row3 col5\" >TransFusion</td>\n",
       "      <td id=\"T_13b5e_row3_col6\" class=\"data row3 col6\" >TransFusion</td>\n",
       "      <td id=\"T_13b5e_row3_col7\" class=\"data row3 col7\" >Time-Transformer</td>\n",
       "      <td id=\"T_13b5e_row3_col8\" class=\"data row3 col8\" >Time-Transformer</td>\n",
       "      <td id=\"T_13b5e_row3_col9\" class=\"data row3 col9\" >Time-Transformer</td>\n",
       "    </tr>\n",
       "    <tr>\n",
       "      <th id=\"T_13b5e_level0_row4\" class=\"row_heading level0 row4\" >D6</th>\n",
       "      <td id=\"T_13b5e_row4_col0\" class=\"data row4 col0\" >TransFusion</td>\n",
       "      <td id=\"T_13b5e_row4_col1\" class=\"data row4 col1\" >TransFusion</td>\n",
       "      <td id=\"T_13b5e_row4_col2\" class=\"data row4 col2\" >TransFusion</td>\n",
       "      <td id=\"T_13b5e_row4_col3\" class=\"data row4 col3\" >TransFusion</td>\n",
       "      <td id=\"T_13b5e_row4_col4\" class=\"data row4 col4\" >TransFusion</td>\n",
       "      <td id=\"T_13b5e_row4_col5\" class=\"data row4 col5\" >TransFusion</td>\n",
       "      <td id=\"T_13b5e_row4_col6\" class=\"data row4 col6\" >TransFusion</td>\n",
       "      <td id=\"T_13b5e_row4_col7\" class=\"data row4 col7\" >TimeVQVAE</td>\n",
       "      <td id=\"T_13b5e_row4_col8\" class=\"data row4 col8\" >TimeVQVAE</td>\n",
       "      <td id=\"T_13b5e_row4_col9\" class=\"data row4 col9\" >Time-Transformer</td>\n",
       "    </tr>\n",
       "    <tr>\n",
       "      <th id=\"T_13b5e_level0_row5\" class=\"row_heading level0 row5\" >D7</th>\n",
       "      <td id=\"T_13b5e_row5_col0\" class=\"data row5 col0\" >TransFusion</td>\n",
       "      <td id=\"T_13b5e_row5_col1\" class=\"data row5 col1\" >TransFusion</td>\n",
       "      <td id=\"T_13b5e_row5_col2\" class=\"data row5 col2\" >TransFusion</td>\n",
       "      <td id=\"T_13b5e_row5_col3\" class=\"data row5 col3\" >TransFusion</td>\n",
       "      <td id=\"T_13b5e_row5_col4\" class=\"data row5 col4\" >TransFusion</td>\n",
       "      <td id=\"T_13b5e_row5_col5\" class=\"data row5 col5\" >TransFusion</td>\n",
       "      <td id=\"T_13b5e_row5_col6\" class=\"data row5 col6\" >TransFusion</td>\n",
       "      <td id=\"T_13b5e_row5_col7\" class=\"data row5 col7\" >TimeVQVAE</td>\n",
       "      <td id=\"T_13b5e_row5_col8\" class=\"data row5 col8\" >TimeVQVAE</td>\n",
       "      <td id=\"T_13b5e_row5_col9\" class=\"data row5 col9\" >Time-Transformer</td>\n",
       "    </tr>\n",
       "  </tbody>\n",
       "</table>\n"
      ],
      "text/plain": [
       "<pandas.io.formats.style.Styler at 0x7f1ff02e91d0>"
      ]
     },
     "execution_count": 120,
     "metadata": {},
     "output_type": "execute_result"
    }
   ],
   "source": [
    "import pandas as pd\n",
    "\n",
    "def leaderboard(df):\n",
    "    out = pd.DataFrame(index=df.index.levels[1], columns=df.columns)\n",
    "\n",
    "    for lvl2 in df.index.levels[1]:\n",
    "        subset = df.xs(lvl2, level=1)\n",
    "        min_idx = subset.idxmin()\n",
    "        out.loc[lvl2] = min_idx\n",
    "\n",
    "\n",
    "    def color_cells(value):\n",
    "        if value == \"TTS-GAN\":\n",
    "            return 'background-color: yellow'\n",
    "        if value == \"TransFusion\":\n",
    "            return 'background-color: lightgreen'\n",
    "        if value == \"TimeGAN\":\n",
    "            return 'background-color: lightblue'\n",
    "        if value == \"Time-Transformer\":\n",
    "            return 'background-color: pink'\n",
    "        if value == \"TimeVQVAE\":\n",
    "            return 'background-color: turquoise'\n",
    "\n",
    "    return out.style.applymap(color_cells)\n",
    "\n",
    "leaderboard(df_no_copy)"
   ]
  },
  {
   "cell_type": "code",
   "execution_count": 121,
   "id": "76e6018a",
   "metadata": {},
   "outputs": [
    {
     "data": {
      "text/html": [
       "<style type=\"text/css\">\n",
       "#T_039b1_row0_col0, #T_039b1_row0_col1, #T_039b1_row0_col2, #T_039b1_row0_col3, #T_039b1_row0_col4, #T_039b1_row0_col5, #T_039b1_row0_col6, #T_039b1_row0_col7, #T_039b1_row0_col8, #T_039b1_row0_col9, #T_039b1_row1_col0, #T_039b1_row1_col1, #T_039b1_row1_col2, #T_039b1_row1_col3, #T_039b1_row1_col4, #T_039b1_row1_col5, #T_039b1_row1_col6, #T_039b1_row1_col7, #T_039b1_row1_col8, #T_039b1_row2_col0, #T_039b1_row2_col1, #T_039b1_row2_col2, #T_039b1_row2_col3, #T_039b1_row2_col4, #T_039b1_row2_col5, #T_039b1_row2_col6, #T_039b1_row2_col7, #T_039b1_row2_col8, #T_039b1_row3_col0, #T_039b1_row3_col1, #T_039b1_row3_col2, #T_039b1_row3_col3, #T_039b1_row3_col4, #T_039b1_row3_col5, #T_039b1_row3_col6, #T_039b1_row3_col7, #T_039b1_row3_col8, #T_039b1_row3_col9, #T_039b1_row4_col2, #T_039b1_row4_col3, #T_039b1_row4_col4, #T_039b1_row4_col5, #T_039b1_row4_col6, #T_039b1_row4_col7, #T_039b1_row4_col8, #T_039b1_row5_col0, #T_039b1_row5_col1, #T_039b1_row5_col2, #T_039b1_row5_col3, #T_039b1_row5_col4, #T_039b1_row5_col5, #T_039b1_row5_col6, #T_039b1_row5_col7, #T_039b1_row5_col8 {\n",
       "  background-color: lightblue;\n",
       "}\n",
       "#T_039b1_row1_col9, #T_039b1_row2_col9, #T_039b1_row4_col0, #T_039b1_row4_col1, #T_039b1_row4_col9, #T_039b1_row5_col9 {\n",
       "  background-color: yellow;\n",
       "}\n",
       "</style>\n",
       "<table id=\"T_039b1_\">\n",
       "  <thead>\n",
       "    <tr>\n",
       "      <th class=\"blank level0\" >&nbsp;</th>\n",
       "      <th class=\"col_heading level0 col0\" >DS</th>\n",
       "      <th class=\"col_heading level0 col1\" >PS</th>\n",
       "      <th class=\"col_heading level0 col2\" >C-FID</th>\n",
       "      <th class=\"col_heading level0 col3\" >MDD</th>\n",
       "      <th class=\"col_heading level0 col4\" >ACD</th>\n",
       "      <th class=\"col_heading level0 col5\" >SD</th>\n",
       "      <th class=\"col_heading level0 col6\" >KD</th>\n",
       "      <th class=\"col_heading level0 col7\" >ED</th>\n",
       "      <th class=\"col_heading level0 col8\" >DTW</th>\n",
       "      <th class=\"col_heading level0 col9\" >Time</th>\n",
       "    </tr>\n",
       "    <tr>\n",
       "      <th class=\"index_name level0\" >Dataset</th>\n",
       "      <th class=\"blank col0\" >&nbsp;</th>\n",
       "      <th class=\"blank col1\" >&nbsp;</th>\n",
       "      <th class=\"blank col2\" >&nbsp;</th>\n",
       "      <th class=\"blank col3\" >&nbsp;</th>\n",
       "      <th class=\"blank col4\" >&nbsp;</th>\n",
       "      <th class=\"blank col5\" >&nbsp;</th>\n",
       "      <th class=\"blank col6\" >&nbsp;</th>\n",
       "      <th class=\"blank col7\" >&nbsp;</th>\n",
       "      <th class=\"blank col8\" >&nbsp;</th>\n",
       "      <th class=\"blank col9\" >&nbsp;</th>\n",
       "    </tr>\n",
       "  </thead>\n",
       "  <tbody>\n",
       "    <tr>\n",
       "      <th id=\"T_039b1_level0_row0\" class=\"row_heading level0 row0\" >D2</th>\n",
       "      <td id=\"T_039b1_row0_col0\" class=\"data row0 col0\" >TimeGAN</td>\n",
       "      <td id=\"T_039b1_row0_col1\" class=\"data row0 col1\" >TimeGAN</td>\n",
       "      <td id=\"T_039b1_row0_col2\" class=\"data row0 col2\" >TimeGAN</td>\n",
       "      <td id=\"T_039b1_row0_col3\" class=\"data row0 col3\" >TimeGAN</td>\n",
       "      <td id=\"T_039b1_row0_col4\" class=\"data row0 col4\" >TimeGAN</td>\n",
       "      <td id=\"T_039b1_row0_col5\" class=\"data row0 col5\" >TimeGAN</td>\n",
       "      <td id=\"T_039b1_row0_col6\" class=\"data row0 col6\" >TimeGAN</td>\n",
       "      <td id=\"T_039b1_row0_col7\" class=\"data row0 col7\" >TimeGAN</td>\n",
       "      <td id=\"T_039b1_row0_col8\" class=\"data row0 col8\" >TimeGAN</td>\n",
       "      <td id=\"T_039b1_row0_col9\" class=\"data row0 col9\" >TimeGAN</td>\n",
       "    </tr>\n",
       "    <tr>\n",
       "      <th id=\"T_039b1_level0_row1\" class=\"row_heading level0 row1\" >D3</th>\n",
       "      <td id=\"T_039b1_row1_col0\" class=\"data row1 col0\" >TimeGAN</td>\n",
       "      <td id=\"T_039b1_row1_col1\" class=\"data row1 col1\" >TimeGAN</td>\n",
       "      <td id=\"T_039b1_row1_col2\" class=\"data row1 col2\" >TimeGAN</td>\n",
       "      <td id=\"T_039b1_row1_col3\" class=\"data row1 col3\" >TimeGAN</td>\n",
       "      <td id=\"T_039b1_row1_col4\" class=\"data row1 col4\" >TimeGAN</td>\n",
       "      <td id=\"T_039b1_row1_col5\" class=\"data row1 col5\" >TimeGAN</td>\n",
       "      <td id=\"T_039b1_row1_col6\" class=\"data row1 col6\" >TimeGAN</td>\n",
       "      <td id=\"T_039b1_row1_col7\" class=\"data row1 col7\" >TimeGAN</td>\n",
       "      <td id=\"T_039b1_row1_col8\" class=\"data row1 col8\" >TimeGAN</td>\n",
       "      <td id=\"T_039b1_row1_col9\" class=\"data row1 col9\" >TTS-GAN</td>\n",
       "    </tr>\n",
       "    <tr>\n",
       "      <th id=\"T_039b1_level0_row2\" class=\"row_heading level0 row2\" >D4</th>\n",
       "      <td id=\"T_039b1_row2_col0\" class=\"data row2 col0\" >TimeGAN</td>\n",
       "      <td id=\"T_039b1_row2_col1\" class=\"data row2 col1\" >TimeGAN</td>\n",
       "      <td id=\"T_039b1_row2_col2\" class=\"data row2 col2\" >TimeGAN</td>\n",
       "      <td id=\"T_039b1_row2_col3\" class=\"data row2 col3\" >TimeGAN</td>\n",
       "      <td id=\"T_039b1_row2_col4\" class=\"data row2 col4\" >TimeGAN</td>\n",
       "      <td id=\"T_039b1_row2_col5\" class=\"data row2 col5\" >TimeGAN</td>\n",
       "      <td id=\"T_039b1_row2_col6\" class=\"data row2 col6\" >TimeGAN</td>\n",
       "      <td id=\"T_039b1_row2_col7\" class=\"data row2 col7\" >TimeGAN</td>\n",
       "      <td id=\"T_039b1_row2_col8\" class=\"data row2 col8\" >TimeGAN</td>\n",
       "      <td id=\"T_039b1_row2_col9\" class=\"data row2 col9\" >TTS-GAN</td>\n",
       "    </tr>\n",
       "    <tr>\n",
       "      <th id=\"T_039b1_level0_row3\" class=\"row_heading level0 row3\" >D5</th>\n",
       "      <td id=\"T_039b1_row3_col0\" class=\"data row3 col0\" >TimeGAN</td>\n",
       "      <td id=\"T_039b1_row3_col1\" class=\"data row3 col1\" >TimeGAN</td>\n",
       "      <td id=\"T_039b1_row3_col2\" class=\"data row3 col2\" >TimeGAN</td>\n",
       "      <td id=\"T_039b1_row3_col3\" class=\"data row3 col3\" >TimeGAN</td>\n",
       "      <td id=\"T_039b1_row3_col4\" class=\"data row3 col4\" >TimeGAN</td>\n",
       "      <td id=\"T_039b1_row3_col5\" class=\"data row3 col5\" >TimeGAN</td>\n",
       "      <td id=\"T_039b1_row3_col6\" class=\"data row3 col6\" >TimeGAN</td>\n",
       "      <td id=\"T_039b1_row3_col7\" class=\"data row3 col7\" >TimeGAN</td>\n",
       "      <td id=\"T_039b1_row3_col8\" class=\"data row3 col8\" >TimeGAN</td>\n",
       "      <td id=\"T_039b1_row3_col9\" class=\"data row3 col9\" >TimeGAN</td>\n",
       "    </tr>\n",
       "    <tr>\n",
       "      <th id=\"T_039b1_level0_row4\" class=\"row_heading level0 row4\" >D6</th>\n",
       "      <td id=\"T_039b1_row4_col0\" class=\"data row4 col0\" >TTS-GAN</td>\n",
       "      <td id=\"T_039b1_row4_col1\" class=\"data row4 col1\" >TTS-GAN</td>\n",
       "      <td id=\"T_039b1_row4_col2\" class=\"data row4 col2\" >TimeGAN</td>\n",
       "      <td id=\"T_039b1_row4_col3\" class=\"data row4 col3\" >TimeGAN</td>\n",
       "      <td id=\"T_039b1_row4_col4\" class=\"data row4 col4\" >TimeGAN</td>\n",
       "      <td id=\"T_039b1_row4_col5\" class=\"data row4 col5\" >TimeGAN</td>\n",
       "      <td id=\"T_039b1_row4_col6\" class=\"data row4 col6\" >TimeGAN</td>\n",
       "      <td id=\"T_039b1_row4_col7\" class=\"data row4 col7\" >TimeGAN</td>\n",
       "      <td id=\"T_039b1_row4_col8\" class=\"data row4 col8\" >TimeGAN</td>\n",
       "      <td id=\"T_039b1_row4_col9\" class=\"data row4 col9\" >TTS-GAN</td>\n",
       "    </tr>\n",
       "    <tr>\n",
       "      <th id=\"T_039b1_level0_row5\" class=\"row_heading level0 row5\" >D7</th>\n",
       "      <td id=\"T_039b1_row5_col0\" class=\"data row5 col0\" >TimeGAN</td>\n",
       "      <td id=\"T_039b1_row5_col1\" class=\"data row5 col1\" >TimeGAN</td>\n",
       "      <td id=\"T_039b1_row5_col2\" class=\"data row5 col2\" >TimeGAN</td>\n",
       "      <td id=\"T_039b1_row5_col3\" class=\"data row5 col3\" >TimeGAN</td>\n",
       "      <td id=\"T_039b1_row5_col4\" class=\"data row5 col4\" >TimeGAN</td>\n",
       "      <td id=\"T_039b1_row5_col5\" class=\"data row5 col5\" >TimeGAN</td>\n",
       "      <td id=\"T_039b1_row5_col6\" class=\"data row5 col6\" >TimeGAN</td>\n",
       "      <td id=\"T_039b1_row5_col7\" class=\"data row5 col7\" >TimeGAN</td>\n",
       "      <td id=\"T_039b1_row5_col8\" class=\"data row5 col8\" >TimeGAN</td>\n",
       "      <td id=\"T_039b1_row5_col9\" class=\"data row5 col9\" >TTS-GAN</td>\n",
       "    </tr>\n",
       "  </tbody>\n",
       "</table>\n"
      ],
      "text/plain": [
       "<pandas.io.formats.style.Styler at 0x7f1ff02e9310>"
      ]
     },
     "execution_count": 121,
     "metadata": {},
     "output_type": "execute_result"
    }
   ],
   "source": [
    "leaderboard(df_all[df_all.index.get_level_values(level=0).isin([\"TTS-GAN\", \"TimeGAN\"])])"
   ]
  },
  {
   "cell_type": "code",
   "execution_count": 122,
   "id": "474be2bf",
   "metadata": {},
   "outputs": [
    {
     "data": {
      "text/html": [
       "<style type=\"text/css\">\n",
       "#T_f27a7_row0_col0, #T_f27a7_row0_col1, #T_f27a7_row0_col2, #T_f27a7_row0_col3, #T_f27a7_row0_col4, #T_f27a7_row0_col5, #T_f27a7_row0_col6, #T_f27a7_row0_col7, #T_f27a7_row0_col8, #T_f27a7_row1_col0, #T_f27a7_row1_col1, #T_f27a7_row1_col2, #T_f27a7_row1_col4, #T_f27a7_row1_col5, #T_f27a7_row1_col6, #T_f27a7_row2_col0, #T_f27a7_row2_col4, #T_f27a7_row2_col5, #T_f27a7_row3_col0, #T_f27a7_row3_col1, #T_f27a7_row3_col2, #T_f27a7_row3_col3, #T_f27a7_row4_col6, #T_f27a7_row5_col0, #T_f27a7_row5_col3 {\n",
       "  background-color: lightblue;\n",
       "}\n",
       "#T_f27a7_row0_col9, #T_f27a7_row1_col3, #T_f27a7_row1_col7, #T_f27a7_row1_col8, #T_f27a7_row1_col9, #T_f27a7_row2_col1, #T_f27a7_row2_col2, #T_f27a7_row2_col3, #T_f27a7_row2_col6, #T_f27a7_row2_col7, #T_f27a7_row2_col8, #T_f27a7_row2_col9, #T_f27a7_row3_col4, #T_f27a7_row3_col5, #T_f27a7_row3_col6, #T_f27a7_row3_col7, #T_f27a7_row3_col8, #T_f27a7_row3_col9, #T_f27a7_row4_col0, #T_f27a7_row4_col1, #T_f27a7_row4_col2, #T_f27a7_row4_col3, #T_f27a7_row4_col4, #T_f27a7_row4_col5, #T_f27a7_row4_col7, #T_f27a7_row4_col8, #T_f27a7_row4_col9, #T_f27a7_row5_col1, #T_f27a7_row5_col2, #T_f27a7_row5_col4, #T_f27a7_row5_col5, #T_f27a7_row5_col6, #T_f27a7_row5_col7, #T_f27a7_row5_col8, #T_f27a7_row5_col9 {\n",
       "  background-color: pink;\n",
       "}\n",
       "</style>\n",
       "<table id=\"T_f27a7_\">\n",
       "  <thead>\n",
       "    <tr>\n",
       "      <th class=\"blank level0\" >&nbsp;</th>\n",
       "      <th class=\"col_heading level0 col0\" >DS</th>\n",
       "      <th class=\"col_heading level0 col1\" >PS</th>\n",
       "      <th class=\"col_heading level0 col2\" >C-FID</th>\n",
       "      <th class=\"col_heading level0 col3\" >MDD</th>\n",
       "      <th class=\"col_heading level0 col4\" >ACD</th>\n",
       "      <th class=\"col_heading level0 col5\" >SD</th>\n",
       "      <th class=\"col_heading level0 col6\" >KD</th>\n",
       "      <th class=\"col_heading level0 col7\" >ED</th>\n",
       "      <th class=\"col_heading level0 col8\" >DTW</th>\n",
       "      <th class=\"col_heading level0 col9\" >Time</th>\n",
       "    </tr>\n",
       "    <tr>\n",
       "      <th class=\"index_name level0\" >Dataset</th>\n",
       "      <th class=\"blank col0\" >&nbsp;</th>\n",
       "      <th class=\"blank col1\" >&nbsp;</th>\n",
       "      <th class=\"blank col2\" >&nbsp;</th>\n",
       "      <th class=\"blank col3\" >&nbsp;</th>\n",
       "      <th class=\"blank col4\" >&nbsp;</th>\n",
       "      <th class=\"blank col5\" >&nbsp;</th>\n",
       "      <th class=\"blank col6\" >&nbsp;</th>\n",
       "      <th class=\"blank col7\" >&nbsp;</th>\n",
       "      <th class=\"blank col8\" >&nbsp;</th>\n",
       "      <th class=\"blank col9\" >&nbsp;</th>\n",
       "    </tr>\n",
       "  </thead>\n",
       "  <tbody>\n",
       "    <tr>\n",
       "      <th id=\"T_f27a7_level0_row0\" class=\"row_heading level0 row0\" >D2</th>\n",
       "      <td id=\"T_f27a7_row0_col0\" class=\"data row0 col0\" >TimeGAN</td>\n",
       "      <td id=\"T_f27a7_row0_col1\" class=\"data row0 col1\" >TimeGAN</td>\n",
       "      <td id=\"T_f27a7_row0_col2\" class=\"data row0 col2\" >TimeGAN</td>\n",
       "      <td id=\"T_f27a7_row0_col3\" class=\"data row0 col3\" >TimeGAN</td>\n",
       "      <td id=\"T_f27a7_row0_col4\" class=\"data row0 col4\" >TimeGAN</td>\n",
       "      <td id=\"T_f27a7_row0_col5\" class=\"data row0 col5\" >TimeGAN</td>\n",
       "      <td id=\"T_f27a7_row0_col6\" class=\"data row0 col6\" >TimeGAN</td>\n",
       "      <td id=\"T_f27a7_row0_col7\" class=\"data row0 col7\" >TimeGAN</td>\n",
       "      <td id=\"T_f27a7_row0_col8\" class=\"data row0 col8\" >TimeGAN</td>\n",
       "      <td id=\"T_f27a7_row0_col9\" class=\"data row0 col9\" >Time-Transformer</td>\n",
       "    </tr>\n",
       "    <tr>\n",
       "      <th id=\"T_f27a7_level0_row1\" class=\"row_heading level0 row1\" >D3</th>\n",
       "      <td id=\"T_f27a7_row1_col0\" class=\"data row1 col0\" >TimeGAN</td>\n",
       "      <td id=\"T_f27a7_row1_col1\" class=\"data row1 col1\" >TimeGAN</td>\n",
       "      <td id=\"T_f27a7_row1_col2\" class=\"data row1 col2\" >TimeGAN</td>\n",
       "      <td id=\"T_f27a7_row1_col3\" class=\"data row1 col3\" >Time-Transformer</td>\n",
       "      <td id=\"T_f27a7_row1_col4\" class=\"data row1 col4\" >TimeGAN</td>\n",
       "      <td id=\"T_f27a7_row1_col5\" class=\"data row1 col5\" >TimeGAN</td>\n",
       "      <td id=\"T_f27a7_row1_col6\" class=\"data row1 col6\" >TimeGAN</td>\n",
       "      <td id=\"T_f27a7_row1_col7\" class=\"data row1 col7\" >Time-Transformer</td>\n",
       "      <td id=\"T_f27a7_row1_col8\" class=\"data row1 col8\" >Time-Transformer</td>\n",
       "      <td id=\"T_f27a7_row1_col9\" class=\"data row1 col9\" >Time-Transformer</td>\n",
       "    </tr>\n",
       "    <tr>\n",
       "      <th id=\"T_f27a7_level0_row2\" class=\"row_heading level0 row2\" >D4</th>\n",
       "      <td id=\"T_f27a7_row2_col0\" class=\"data row2 col0\" >TimeGAN</td>\n",
       "      <td id=\"T_f27a7_row2_col1\" class=\"data row2 col1\" >Time-Transformer</td>\n",
       "      <td id=\"T_f27a7_row2_col2\" class=\"data row2 col2\" >Time-Transformer</td>\n",
       "      <td id=\"T_f27a7_row2_col3\" class=\"data row2 col3\" >Time-Transformer</td>\n",
       "      <td id=\"T_f27a7_row2_col4\" class=\"data row2 col4\" >TimeGAN</td>\n",
       "      <td id=\"T_f27a7_row2_col5\" class=\"data row2 col5\" >TimeGAN</td>\n",
       "      <td id=\"T_f27a7_row2_col6\" class=\"data row2 col6\" >Time-Transformer</td>\n",
       "      <td id=\"T_f27a7_row2_col7\" class=\"data row2 col7\" >Time-Transformer</td>\n",
       "      <td id=\"T_f27a7_row2_col8\" class=\"data row2 col8\" >Time-Transformer</td>\n",
       "      <td id=\"T_f27a7_row2_col9\" class=\"data row2 col9\" >Time-Transformer</td>\n",
       "    </tr>\n",
       "    <tr>\n",
       "      <th id=\"T_f27a7_level0_row3\" class=\"row_heading level0 row3\" >D5</th>\n",
       "      <td id=\"T_f27a7_row3_col0\" class=\"data row3 col0\" >TimeGAN</td>\n",
       "      <td id=\"T_f27a7_row3_col1\" class=\"data row3 col1\" >TimeGAN</td>\n",
       "      <td id=\"T_f27a7_row3_col2\" class=\"data row3 col2\" >TimeGAN</td>\n",
       "      <td id=\"T_f27a7_row3_col3\" class=\"data row3 col3\" >TimeGAN</td>\n",
       "      <td id=\"T_f27a7_row3_col4\" class=\"data row3 col4\" >Time-Transformer</td>\n",
       "      <td id=\"T_f27a7_row3_col5\" class=\"data row3 col5\" >Time-Transformer</td>\n",
       "      <td id=\"T_f27a7_row3_col6\" class=\"data row3 col6\" >Time-Transformer</td>\n",
       "      <td id=\"T_f27a7_row3_col7\" class=\"data row3 col7\" >Time-Transformer</td>\n",
       "      <td id=\"T_f27a7_row3_col8\" class=\"data row3 col8\" >Time-Transformer</td>\n",
       "      <td id=\"T_f27a7_row3_col9\" class=\"data row3 col9\" >Time-Transformer</td>\n",
       "    </tr>\n",
       "    <tr>\n",
       "      <th id=\"T_f27a7_level0_row4\" class=\"row_heading level0 row4\" >D6</th>\n",
       "      <td id=\"T_f27a7_row4_col0\" class=\"data row4 col0\" >Time-Transformer</td>\n",
       "      <td id=\"T_f27a7_row4_col1\" class=\"data row4 col1\" >Time-Transformer</td>\n",
       "      <td id=\"T_f27a7_row4_col2\" class=\"data row4 col2\" >Time-Transformer</td>\n",
       "      <td id=\"T_f27a7_row4_col3\" class=\"data row4 col3\" >Time-Transformer</td>\n",
       "      <td id=\"T_f27a7_row4_col4\" class=\"data row4 col4\" >Time-Transformer</td>\n",
       "      <td id=\"T_f27a7_row4_col5\" class=\"data row4 col5\" >Time-Transformer</td>\n",
       "      <td id=\"T_f27a7_row4_col6\" class=\"data row4 col6\" >TimeGAN</td>\n",
       "      <td id=\"T_f27a7_row4_col7\" class=\"data row4 col7\" >Time-Transformer</td>\n",
       "      <td id=\"T_f27a7_row4_col8\" class=\"data row4 col8\" >Time-Transformer</td>\n",
       "      <td id=\"T_f27a7_row4_col9\" class=\"data row4 col9\" >Time-Transformer</td>\n",
       "    </tr>\n",
       "    <tr>\n",
       "      <th id=\"T_f27a7_level0_row5\" class=\"row_heading level0 row5\" >D7</th>\n",
       "      <td id=\"T_f27a7_row5_col0\" class=\"data row5 col0\" >TimeGAN</td>\n",
       "      <td id=\"T_f27a7_row5_col1\" class=\"data row5 col1\" >Time-Transformer</td>\n",
       "      <td id=\"T_f27a7_row5_col2\" class=\"data row5 col2\" >Time-Transformer</td>\n",
       "      <td id=\"T_f27a7_row5_col3\" class=\"data row5 col3\" >TimeGAN</td>\n",
       "      <td id=\"T_f27a7_row5_col4\" class=\"data row5 col4\" >Time-Transformer</td>\n",
       "      <td id=\"T_f27a7_row5_col5\" class=\"data row5 col5\" >Time-Transformer</td>\n",
       "      <td id=\"T_f27a7_row5_col6\" class=\"data row5 col6\" >Time-Transformer</td>\n",
       "      <td id=\"T_f27a7_row5_col7\" class=\"data row5 col7\" >Time-Transformer</td>\n",
       "      <td id=\"T_f27a7_row5_col8\" class=\"data row5 col8\" >Time-Transformer</td>\n",
       "      <td id=\"T_f27a7_row5_col9\" class=\"data row5 col9\" >Time-Transformer</td>\n",
       "    </tr>\n",
       "  </tbody>\n",
       "</table>\n"
      ],
      "text/plain": [
       "<pandas.io.formats.style.Styler at 0x7f1ff0240290>"
      ]
     },
     "execution_count": 122,
     "metadata": {},
     "output_type": "execute_result"
    }
   ],
   "source": [
    "leaderboard(df_all[df_all.index.get_level_values(level=0).isin([\"Time-Transformer\", \"TimeGAN\"])])"
   ]
  },
  {
   "cell_type": "code",
   "execution_count": 123,
   "id": "a886db7b",
   "metadata": {},
   "outputs": [
    {
     "data": {
      "text/html": [
       "<div>\n",
       "<style scoped>\n",
       "    .dataframe tbody tr th:only-of-type {\n",
       "        vertical-align: middle;\n",
       "    }\n",
       "\n",
       "    .dataframe tbody tr th {\n",
       "        vertical-align: top;\n",
       "    }\n",
       "\n",
       "    .dataframe thead tr th {\n",
       "        text-align: left;\n",
       "    }\n",
       "\n",
       "    .dataframe thead tr:last-of-type th {\n",
       "        text-align: right;\n",
       "    }\n",
       "</style>\n",
       "<table border=\"1\" class=\"dataframe\">\n",
       "  <thead>\n",
       "    <tr>\n",
       "      <th></th>\n",
       "      <th colspan=\"6\" halign=\"left\">DS</th>\n",
       "      <th colspan=\"4\" halign=\"left\">PS</th>\n",
       "      <th>...</th>\n",
       "      <th colspan=\"4\" halign=\"left\">DTW</th>\n",
       "      <th colspan=\"6\" halign=\"left\">Time</th>\n",
       "    </tr>\n",
       "    <tr>\n",
       "      <th>Dataset</th>\n",
       "      <th>D2</th>\n",
       "      <th>D3</th>\n",
       "      <th>D4</th>\n",
       "      <th>D5</th>\n",
       "      <th>D6</th>\n",
       "      <th>D7</th>\n",
       "      <th>D2</th>\n",
       "      <th>D3</th>\n",
       "      <th>D4</th>\n",
       "      <th>D5</th>\n",
       "      <th>...</th>\n",
       "      <th>D4</th>\n",
       "      <th>D5</th>\n",
       "      <th>D6</th>\n",
       "      <th>D7</th>\n",
       "      <th>D2</th>\n",
       "      <th>D3</th>\n",
       "      <th>D4</th>\n",
       "      <th>D5</th>\n",
       "      <th>D6</th>\n",
       "      <th>D7</th>\n",
       "    </tr>\n",
       "    <tr>\n",
       "      <th>Method</th>\n",
       "      <th></th>\n",
       "      <th></th>\n",
       "      <th></th>\n",
       "      <th></th>\n",
       "      <th></th>\n",
       "      <th></th>\n",
       "      <th></th>\n",
       "      <th></th>\n",
       "      <th></th>\n",
       "      <th></th>\n",
       "      <th></th>\n",
       "      <th></th>\n",
       "      <th></th>\n",
       "      <th></th>\n",
       "      <th></th>\n",
       "      <th></th>\n",
       "      <th></th>\n",
       "      <th></th>\n",
       "      <th></th>\n",
       "      <th></th>\n",
       "      <th></th>\n",
       "    </tr>\n",
       "  </thead>\n",
       "  <tbody>\n",
       "    <tr>\n",
       "      <th>TTS-GAN</th>\n",
       "      <td>5.0</td>\n",
       "      <td>5.0</td>\n",
       "      <td>5.0</td>\n",
       "      <td>5.0</td>\n",
       "      <td>4.0</td>\n",
       "      <td>5.0</td>\n",
       "      <td>5.0</td>\n",
       "      <td>4.0</td>\n",
       "      <td>5.0</td>\n",
       "      <td>3.0</td>\n",
       "      <td>...</td>\n",
       "      <td>5.0</td>\n",
       "      <td>5.0</td>\n",
       "      <td>5.0</td>\n",
       "      <td>5.0</td>\n",
       "      <td>5.0</td>\n",
       "      <td>4.0</td>\n",
       "      <td>4.0</td>\n",
       "      <td>5.0</td>\n",
       "      <td>3.0</td>\n",
       "      <td>3.0</td>\n",
       "    </tr>\n",
       "    <tr>\n",
       "      <th>Time-Transformer</th>\n",
       "      <td>4.0</td>\n",
       "      <td>4.0</td>\n",
       "      <td>3.0</td>\n",
       "      <td>4.0</td>\n",
       "      <td>4.0</td>\n",
       "      <td>4.0</td>\n",
       "      <td>4.0</td>\n",
       "      <td>5.0</td>\n",
       "      <td>3.0</td>\n",
       "      <td>4.0</td>\n",
       "      <td>...</td>\n",
       "      <td>1.0</td>\n",
       "      <td>1.0</td>\n",
       "      <td>2.0</td>\n",
       "      <td>2.0</td>\n",
       "      <td>1.0</td>\n",
       "      <td>1.0</td>\n",
       "      <td>1.0</td>\n",
       "      <td>1.0</td>\n",
       "      <td>1.0</td>\n",
       "      <td>1.0</td>\n",
       "    </tr>\n",
       "    <tr>\n",
       "      <th>TimeGAN</th>\n",
       "      <td>1.0</td>\n",
       "      <td>2.0</td>\n",
       "      <td>2.0</td>\n",
       "      <td>2.0</td>\n",
       "      <td>4.0</td>\n",
       "      <td>2.0</td>\n",
       "      <td>1.0</td>\n",
       "      <td>2.0</td>\n",
       "      <td>4.0</td>\n",
       "      <td>2.0</td>\n",
       "      <td>...</td>\n",
       "      <td>4.0</td>\n",
       "      <td>4.0</td>\n",
       "      <td>4.0</td>\n",
       "      <td>4.0</td>\n",
       "      <td>4.0</td>\n",
       "      <td>5.0</td>\n",
       "      <td>5.0</td>\n",
       "      <td>4.0</td>\n",
       "      <td>4.0</td>\n",
       "      <td>5.0</td>\n",
       "    </tr>\n",
       "    <tr>\n",
       "      <th>TimeVQVAE</th>\n",
       "      <td>3.0</td>\n",
       "      <td>3.0</td>\n",
       "      <td>4.0</td>\n",
       "      <td>3.0</td>\n",
       "      <td>2.0</td>\n",
       "      <td>3.0</td>\n",
       "      <td>3.0</td>\n",
       "      <td>3.0</td>\n",
       "      <td>2.0</td>\n",
       "      <td>5.0</td>\n",
       "      <td>...</td>\n",
       "      <td>2.0</td>\n",
       "      <td>3.0</td>\n",
       "      <td>1.0</td>\n",
       "      <td>1.0</td>\n",
       "      <td>3.0</td>\n",
       "      <td>2.0</td>\n",
       "      <td>2.0</td>\n",
       "      <td>2.0</td>\n",
       "      <td>2.0</td>\n",
       "      <td>2.0</td>\n",
       "    </tr>\n",
       "    <tr>\n",
       "      <th>TransFusion</th>\n",
       "      <td>2.0</td>\n",
       "      <td>1.0</td>\n",
       "      <td>1.0</td>\n",
       "      <td>1.0</td>\n",
       "      <td>1.0</td>\n",
       "      <td>1.0</td>\n",
       "      <td>2.0</td>\n",
       "      <td>1.0</td>\n",
       "      <td>1.0</td>\n",
       "      <td>1.0</td>\n",
       "      <td>...</td>\n",
       "      <td>3.0</td>\n",
       "      <td>2.0</td>\n",
       "      <td>3.0</td>\n",
       "      <td>3.0</td>\n",
       "      <td>2.0</td>\n",
       "      <td>3.0</td>\n",
       "      <td>3.0</td>\n",
       "      <td>3.0</td>\n",
       "      <td>5.0</td>\n",
       "      <td>4.0</td>\n",
       "    </tr>\n",
       "  </tbody>\n",
       "</table>\n",
       "<p>5 rows × 60 columns</p>\n",
       "</div>"
      ],
      "text/plain": [
       "                   DS                            PS                 ...  DTW  \\\n",
       "Dataset            D2   D3   D4   D5   D6   D7   D2   D3   D4   D5  ...   D4   \n",
       "Method                                                              ...        \n",
       "TTS-GAN           5.0  5.0  5.0  5.0  4.0  5.0  5.0  4.0  5.0  3.0  ...  5.0   \n",
       "Time-Transformer  4.0  4.0  3.0  4.0  4.0  4.0  4.0  5.0  3.0  4.0  ...  1.0   \n",
       "TimeGAN           1.0  2.0  2.0  2.0  4.0  2.0  1.0  2.0  4.0  2.0  ...  4.0   \n",
       "TimeVQVAE         3.0  3.0  4.0  3.0  2.0  3.0  3.0  3.0  2.0  5.0  ...  2.0   \n",
       "TransFusion       2.0  1.0  1.0  1.0  1.0  1.0  2.0  1.0  1.0  1.0  ...  3.0   \n",
       "\n",
       "                                Time                           \n",
       "Dataset            D5   D6   D7   D2   D3   D4   D5   D6   D7  \n",
       "Method                                                         \n",
       "TTS-GAN           5.0  5.0  5.0  5.0  4.0  4.0  5.0  3.0  3.0  \n",
       "Time-Transformer  1.0  2.0  2.0  1.0  1.0  1.0  1.0  1.0  1.0  \n",
       "TimeGAN           4.0  4.0  4.0  4.0  5.0  5.0  4.0  4.0  5.0  \n",
       "TimeVQVAE         3.0  1.0  1.0  3.0  2.0  2.0  2.0  2.0  2.0  \n",
       "TransFusion       2.0  3.0  3.0  2.0  3.0  3.0  3.0  5.0  4.0  \n",
       "\n",
       "[5 rows x 60 columns]"
      ]
     },
     "execution_count": 123,
     "metadata": {},
     "output_type": "execute_result"
    }
   ],
   "source": [
    "rankings"
   ]
  },
  {
   "cell_type": "code",
   "execution_count": 124,
   "id": "d9c6f481",
   "metadata": {},
   "outputs": [
    {
     "data": {
      "text/html": [
       "<style type=\"text/css\">\n",
       "#T_25f60_row0_col0, #T_25f60_row0_col1, #T_25f60_row2_col2 {\n",
       "  background-color: #d53d69;\n",
       "  color: #f1f1f1;\n",
       "}\n",
       "#T_25f60_row0_col2 {\n",
       "  background-color: #dd6f90;\n",
       "  color: #f1f1f1;\n",
       "}\n",
       "#T_25f60_row1_col0, #T_25f60_row3_col0 {\n",
       "  background-color: #e5a2b5;\n",
       "  color: #000000;\n",
       "}\n",
       "#T_25f60_row1_col1 {\n",
       "  background-color: #bad4bc;\n",
       "  color: #000000;\n",
       "}\n",
       "#T_25f60_row1_col2, #T_25f60_row4_col0, #T_25f60_row4_col1 {\n",
       "  background-color: #398641;\n",
       "  color: #f1f1f1;\n",
       "}\n",
       "#T_25f60_row2_col0 {\n",
       "  background-color: #ecc9d3;\n",
       "  color: #000000;\n",
       "}\n",
       "#T_25f60_row2_col1 {\n",
       "  background-color: #cbdecd;\n",
       "  color: #000000;\n",
       "}\n",
       "#T_25f60_row3_col1 {\n",
       "  background-color: #89b78e;\n",
       "  color: #000000;\n",
       "}\n",
       "#T_25f60_row3_col2 {\n",
       "  background-color: #b1cfb4;\n",
       "  color: #000000;\n",
       "}\n",
       "#T_25f60_row4_col2 {\n",
       "  background-color: #e9b5c4;\n",
       "  color: #000000;\n",
       "}\n",
       "</style>\n",
       "<table id=\"T_25f60_\">\n",
       "  <thead>\n",
       "    <tr>\n",
       "      <th class=\"blank level0\" >&nbsp;</th>\n",
       "      <th class=\"col_heading level0 col0\" >Utility</th>\n",
       "      <th class=\"col_heading level0 col1\" >Fidelity</th>\n",
       "      <th class=\"col_heading level0 col2\" >Time</th>\n",
       "    </tr>\n",
       "    <tr>\n",
       "      <th class=\"index_name level0\" >Method</th>\n",
       "      <th class=\"blank col0\" >&nbsp;</th>\n",
       "      <th class=\"blank col1\" >&nbsp;</th>\n",
       "      <th class=\"blank col2\" >&nbsp;</th>\n",
       "    </tr>\n",
       "  </thead>\n",
       "  <tbody>\n",
       "    <tr>\n",
       "      <th id=\"T_25f60_level0_row0\" class=\"row_heading level0 row0\" >TTS-GAN</th>\n",
       "      <td id=\"T_25f60_row0_col0\" class=\"data row0 col0\" >4.166667</td>\n",
       "      <td id=\"T_25f60_row0_col1\" class=\"data row0 col1\" >4.958333</td>\n",
       "      <td id=\"T_25f60_row0_col2\" class=\"data row0 col2\" >4.000000</td>\n",
       "    </tr>\n",
       "    <tr>\n",
       "      <th id=\"T_25f60_level0_row1\" class=\"row_heading level0 row1\" >Time-Transformer</th>\n",
       "      <td id=\"T_25f60_row1_col0\" class=\"data row1 col0\" >3.333333</td>\n",
       "      <td id=\"T_25f60_row1_col1\" class=\"data row1 col1\" >2.875000</td>\n",
       "      <td id=\"T_25f60_row1_col2\" class=\"data row1 col2\" >1.000000</td>\n",
       "    </tr>\n",
       "    <tr>\n",
       "      <th id=\"T_25f60_level0_row2\" class=\"row_heading level0 row2\" >TimeGAN</th>\n",
       "      <td id=\"T_25f60_row2_col0\" class=\"data row2 col0\" >3.000000</td>\n",
       "      <td id=\"T_25f60_row2_col1\" class=\"data row2 col1\" >3.020833</td>\n",
       "      <td id=\"T_25f60_row2_col2\" class=\"data row2 col2\" >4.500000</td>\n",
       "    </tr>\n",
       "    <tr>\n",
       "      <th id=\"T_25f60_level0_row3\" class=\"row_heading level0 row3\" >TimeVQVAE</th>\n",
       "      <td id=\"T_25f60_row3_col0\" class=\"data row3 col0\" >3.333333</td>\n",
       "      <td id=\"T_25f60_row3_col1\" class=\"data row3 col1\" >2.437500</td>\n",
       "      <td id=\"T_25f60_row3_col2\" class=\"data row3 col2\" >2.166667</td>\n",
       "    </tr>\n",
       "    <tr>\n",
       "      <th id=\"T_25f60_level0_row4\" class=\"row_heading level0 row4\" >TransFusion</th>\n",
       "      <td id=\"T_25f60_row4_col0\" class=\"data row4 col0\" >1.166667</td>\n",
       "      <td id=\"T_25f60_row4_col1\" class=\"data row4 col1\" >1.708333</td>\n",
       "      <td id=\"T_25f60_row4_col2\" class=\"data row4 col2\" >3.333333</td>\n",
       "    </tr>\n",
       "  </tbody>\n",
       "</table>\n"
      ],
      "text/plain": [
       "<pandas.io.formats.style.Styler at 0x7f1ff03a4110>"
      ]
     },
     "execution_count": 124,
     "metadata": {},
     "output_type": "execute_result"
    }
   ],
   "source": [
    "df = df_no_copy.unstack(level=1).rank()\n",
    "utility_cols = [col for col in df.columns if col[0] in [\"PS\"]]\n",
    "\n",
    "fidelity_cols = [col for col in df.columns if col[0] not in [\"PS\", \"Time\"]]\n",
    "\n",
    "timing_cols = [col for col in df.columns if col[0] in [\"Time\"]]\n",
    "\n",
    "avg_utility = df[utility_cols].mean(axis=1)\n",
    "avg_fidelity = df[fidelity_cols].mean(axis=1)\n",
    "avg_timing = df[timing_cols].mean(axis=1)\n",
    "\n",
    "new_df = pd.DataFrame({\n",
    "    \"Utility\": avg_utility,\n",
    "    \"Fidelity\": avg_fidelity,\n",
    "    \"Time\": avg_timing\n",
    "})\n",
    "\n",
    "new_df.style.background_gradient(cmap=cm)"
   ]
  },
  {
   "cell_type": "code",
   "execution_count": 125,
   "id": "c31c1618",
   "metadata": {},
   "outputs": [
    {
     "data": {
      "text/html": [
       "<div>\n",
       "<style scoped>\n",
       "    .dataframe tbody tr th:only-of-type {\n",
       "        vertical-align: middle;\n",
       "    }\n",
       "\n",
       "    .dataframe tbody tr th {\n",
       "        vertical-align: top;\n",
       "    }\n",
       "\n",
       "    .dataframe thead th {\n",
       "        text-align: right;\n",
       "    }\n",
       "</style>\n",
       "<table border=\"1\" class=\"dataframe\">\n",
       "  <thead>\n",
       "    <tr style=\"text-align: right;\">\n",
       "      <th></th>\n",
       "      <th>D2</th>\n",
       "      <th>D3</th>\n",
       "      <th>D4</th>\n",
       "      <th>D5</th>\n",
       "      <th>D6</th>\n",
       "      <th>D7</th>\n",
       "    </tr>\n",
       "    <tr>\n",
       "      <th>Method</th>\n",
       "      <th></th>\n",
       "      <th></th>\n",
       "      <th></th>\n",
       "      <th></th>\n",
       "      <th></th>\n",
       "      <th></th>\n",
       "    </tr>\n",
       "  </thead>\n",
       "  <tbody>\n",
       "    <tr>\n",
       "      <th>TimeGAN</th>\n",
       "      <td>259</td>\n",
       "      <td>1373</td>\n",
       "      <td>1195</td>\n",
       "      <td>304</td>\n",
       "      <td>1252</td>\n",
       "      <td>1385</td>\n",
       "    </tr>\n",
       "    <tr>\n",
       "      <th>Time-Transformer</th>\n",
       "      <td>13</td>\n",
       "      <td>16</td>\n",
       "      <td>28</td>\n",
       "      <td>66</td>\n",
       "      <td>77</td>\n",
       "      <td>55</td>\n",
       "    </tr>\n",
       "    <tr>\n",
       "      <th>TransFusion</th>\n",
       "      <td>43</td>\n",
       "      <td>222</td>\n",
       "      <td>454</td>\n",
       "      <td>201</td>\n",
       "      <td>1387</td>\n",
       "      <td>856</td>\n",
       "    </tr>\n",
       "    <tr>\n",
       "      <th>TTS-GAN</th>\n",
       "      <td>646</td>\n",
       "      <td>660</td>\n",
       "      <td>649</td>\n",
       "      <td>649</td>\n",
       "      <td>660</td>\n",
       "      <td>645</td>\n",
       "    </tr>\n",
       "    <tr>\n",
       "      <th>TimeVQVAE</th>\n",
       "      <td>73</td>\n",
       "      <td>94</td>\n",
       "      <td>94</td>\n",
       "      <td>74</td>\n",
       "      <td>88</td>\n",
       "      <td>86</td>\n",
       "    </tr>\n",
       "  </tbody>\n",
       "</table>\n",
       "</div>"
      ],
      "text/plain": [
       "                   D2    D3    D4   D5    D6    D7\n",
       "Method                                            \n",
       "TimeGAN           259  1373  1195  304  1252  1385\n",
       "Time-Transformer   13    16    28   66    77    55\n",
       "TransFusion        43   222   454  201  1387   856\n",
       "TTS-GAN           646   660   649  649   660   645\n",
       "TimeVQVAE          73    94    94   74    88    86"
      ]
     },
     "execution_count": 125,
     "metadata": {},
     "output_type": "execute_result"
    }
   ],
   "source": [
    "timings.set_index(\"Method\").drop(index=\"JustCopy\")"
   ]
  },
  {
   "cell_type": "code",
   "execution_count": 126,
   "id": "b4c91276",
   "metadata": {},
   "outputs": [
    {
     "data": {
      "application/vnd.plotly.v1+json": {
       "config": {
        "plotlyServerURL": "https://plot.ly"
       },
       "data": [
        {
         "marker": {
          "color": [
           "#636EFA",
           "#EF553B",
           "#00CC96",
           "#AB63FA",
           "#FFA15A",
           "#19D3F3"
          ],
          "size": 12
         },
         "mode": "markers+text",
         "text": [
          "TimeGAN",
          "Time-Transformer",
          "TransFusion",
          "TTS-GAN",
          "TimeVQVAE"
         ],
         "textfont": {
          "color": [
           "#636EFA",
           "#EF553B",
           "#00CC96",
           "#AB63FA",
           "#FFA15A",
           "#19D3F3"
          ]
         },
         "textposition": [
          "top center",
          "bottom center",
          "top center",
          "bottom center",
          "top center"
         ],
         "type": "scatter",
         "x": [
          961.3333333333334,
          42.5,
          527.1666666666666,
          651.5,
          84.83333333333333
         ],
         "y": [
          0,
          0,
          0,
          0,
          0
         ]
        }
       ],
       "layout": {
        "height": 200,
        "margin": {
         "b": 60,
         "l": 150,
         "r": 150,
         "t": 60
        },
        "shapes": [
         {
          "layer": "below",
          "line": {
           "color": "black",
           "width": 1
          },
          "type": "line",
          "x0": 1,
          "x1": 1000,
          "y0": 0,
          "y1": 0
         },
         {
          "layer": "below",
          "line": {
           "color": "black",
           "width": 1
          },
          "type": "line",
          "x0": 1,
          "x1": 1,
          "y0": -1,
          "y1": 1
         }
        ],
        "showlegend": false,
        "template": {
         "data": {
          "bar": [
           {
            "error_x": {
             "color": "#2a3f5f"
            },
            "error_y": {
             "color": "#2a3f5f"
            },
            "marker": {
             "line": {
              "color": "#E5ECF6",
              "width": 0.5
             },
             "pattern": {
              "fillmode": "overlay",
              "size": 10,
              "solidity": 0.2
             }
            },
            "type": "bar"
           }
          ],
          "barpolar": [
           {
            "marker": {
             "line": {
              "color": "#E5ECF6",
              "width": 0.5
             },
             "pattern": {
              "fillmode": "overlay",
              "size": 10,
              "solidity": 0.2
             }
            },
            "type": "barpolar"
           }
          ],
          "carpet": [
           {
            "aaxis": {
             "endlinecolor": "#2a3f5f",
             "gridcolor": "white",
             "linecolor": "white",
             "minorgridcolor": "white",
             "startlinecolor": "#2a3f5f"
            },
            "baxis": {
             "endlinecolor": "#2a3f5f",
             "gridcolor": "white",
             "linecolor": "white",
             "minorgridcolor": "white",
             "startlinecolor": "#2a3f5f"
            },
            "type": "carpet"
           }
          ],
          "choropleth": [
           {
            "colorbar": {
             "outlinewidth": 0,
             "ticks": ""
            },
            "type": "choropleth"
           }
          ],
          "contour": [
           {
            "colorbar": {
             "outlinewidth": 0,
             "ticks": ""
            },
            "colorscale": [
             [
              0,
              "#0d0887"
             ],
             [
              0.1111111111111111,
              "#46039f"
             ],
             [
              0.2222222222222222,
              "#7201a8"
             ],
             [
              0.3333333333333333,
              "#9c179e"
             ],
             [
              0.4444444444444444,
              "#bd3786"
             ],
             [
              0.5555555555555556,
              "#d8576b"
             ],
             [
              0.6666666666666666,
              "#ed7953"
             ],
             [
              0.7777777777777778,
              "#fb9f3a"
             ],
             [
              0.8888888888888888,
              "#fdca26"
             ],
             [
              1,
              "#f0f921"
             ]
            ],
            "type": "contour"
           }
          ],
          "contourcarpet": [
           {
            "colorbar": {
             "outlinewidth": 0,
             "ticks": ""
            },
            "type": "contourcarpet"
           }
          ],
          "heatmap": [
           {
            "colorbar": {
             "outlinewidth": 0,
             "ticks": ""
            },
            "colorscale": [
             [
              0,
              "#0d0887"
             ],
             [
              0.1111111111111111,
              "#46039f"
             ],
             [
              0.2222222222222222,
              "#7201a8"
             ],
             [
              0.3333333333333333,
              "#9c179e"
             ],
             [
              0.4444444444444444,
              "#bd3786"
             ],
             [
              0.5555555555555556,
              "#d8576b"
             ],
             [
              0.6666666666666666,
              "#ed7953"
             ],
             [
              0.7777777777777778,
              "#fb9f3a"
             ],
             [
              0.8888888888888888,
              "#fdca26"
             ],
             [
              1,
              "#f0f921"
             ]
            ],
            "type": "heatmap"
           }
          ],
          "heatmapgl": [
           {
            "colorbar": {
             "outlinewidth": 0,
             "ticks": ""
            },
            "colorscale": [
             [
              0,
              "#0d0887"
             ],
             [
              0.1111111111111111,
              "#46039f"
             ],
             [
              0.2222222222222222,
              "#7201a8"
             ],
             [
              0.3333333333333333,
              "#9c179e"
             ],
             [
              0.4444444444444444,
              "#bd3786"
             ],
             [
              0.5555555555555556,
              "#d8576b"
             ],
             [
              0.6666666666666666,
              "#ed7953"
             ],
             [
              0.7777777777777778,
              "#fb9f3a"
             ],
             [
              0.8888888888888888,
              "#fdca26"
             ],
             [
              1,
              "#f0f921"
             ]
            ],
            "type": "heatmapgl"
           }
          ],
          "histogram": [
           {
            "marker": {
             "pattern": {
              "fillmode": "overlay",
              "size": 10,
              "solidity": 0.2
             }
            },
            "type": "histogram"
           }
          ],
          "histogram2d": [
           {
            "colorbar": {
             "outlinewidth": 0,
             "ticks": ""
            },
            "colorscale": [
             [
              0,
              "#0d0887"
             ],
             [
              0.1111111111111111,
              "#46039f"
             ],
             [
              0.2222222222222222,
              "#7201a8"
             ],
             [
              0.3333333333333333,
              "#9c179e"
             ],
             [
              0.4444444444444444,
              "#bd3786"
             ],
             [
              0.5555555555555556,
              "#d8576b"
             ],
             [
              0.6666666666666666,
              "#ed7953"
             ],
             [
              0.7777777777777778,
              "#fb9f3a"
             ],
             [
              0.8888888888888888,
              "#fdca26"
             ],
             [
              1,
              "#f0f921"
             ]
            ],
            "type": "histogram2d"
           }
          ],
          "histogram2dcontour": [
           {
            "colorbar": {
             "outlinewidth": 0,
             "ticks": ""
            },
            "colorscale": [
             [
              0,
              "#0d0887"
             ],
             [
              0.1111111111111111,
              "#46039f"
             ],
             [
              0.2222222222222222,
              "#7201a8"
             ],
             [
              0.3333333333333333,
              "#9c179e"
             ],
             [
              0.4444444444444444,
              "#bd3786"
             ],
             [
              0.5555555555555556,
              "#d8576b"
             ],
             [
              0.6666666666666666,
              "#ed7953"
             ],
             [
              0.7777777777777778,
              "#fb9f3a"
             ],
             [
              0.8888888888888888,
              "#fdca26"
             ],
             [
              1,
              "#f0f921"
             ]
            ],
            "type": "histogram2dcontour"
           }
          ],
          "mesh3d": [
           {
            "colorbar": {
             "outlinewidth": 0,
             "ticks": ""
            },
            "type": "mesh3d"
           }
          ],
          "parcoords": [
           {
            "line": {
             "colorbar": {
              "outlinewidth": 0,
              "ticks": ""
             }
            },
            "type": "parcoords"
           }
          ],
          "pie": [
           {
            "automargin": true,
            "type": "pie"
           }
          ],
          "scatter": [
           {
            "fillpattern": {
             "fillmode": "overlay",
             "size": 10,
             "solidity": 0.2
            },
            "type": "scatter"
           }
          ],
          "scatter3d": [
           {
            "line": {
             "colorbar": {
              "outlinewidth": 0,
              "ticks": ""
             }
            },
            "marker": {
             "colorbar": {
              "outlinewidth": 0,
              "ticks": ""
             }
            },
            "type": "scatter3d"
           }
          ],
          "scattercarpet": [
           {
            "marker": {
             "colorbar": {
              "outlinewidth": 0,
              "ticks": ""
             }
            },
            "type": "scattercarpet"
           }
          ],
          "scattergeo": [
           {
            "marker": {
             "colorbar": {
              "outlinewidth": 0,
              "ticks": ""
             }
            },
            "type": "scattergeo"
           }
          ],
          "scattergl": [
           {
            "marker": {
             "colorbar": {
              "outlinewidth": 0,
              "ticks": ""
             }
            },
            "type": "scattergl"
           }
          ],
          "scattermapbox": [
           {
            "marker": {
             "colorbar": {
              "outlinewidth": 0,
              "ticks": ""
             }
            },
            "type": "scattermapbox"
           }
          ],
          "scatterpolar": [
           {
            "marker": {
             "colorbar": {
              "outlinewidth": 0,
              "ticks": ""
             }
            },
            "type": "scatterpolar"
           }
          ],
          "scatterpolargl": [
           {
            "marker": {
             "colorbar": {
              "outlinewidth": 0,
              "ticks": ""
             }
            },
            "type": "scatterpolargl"
           }
          ],
          "scatterternary": [
           {
            "marker": {
             "colorbar": {
              "outlinewidth": 0,
              "ticks": ""
             }
            },
            "type": "scatterternary"
           }
          ],
          "surface": [
           {
            "colorbar": {
             "outlinewidth": 0,
             "ticks": ""
            },
            "colorscale": [
             [
              0,
              "#0d0887"
             ],
             [
              0.1111111111111111,
              "#46039f"
             ],
             [
              0.2222222222222222,
              "#7201a8"
             ],
             [
              0.3333333333333333,
              "#9c179e"
             ],
             [
              0.4444444444444444,
              "#bd3786"
             ],
             [
              0.5555555555555556,
              "#d8576b"
             ],
             [
              0.6666666666666666,
              "#ed7953"
             ],
             [
              0.7777777777777778,
              "#fb9f3a"
             ],
             [
              0.8888888888888888,
              "#fdca26"
             ],
             [
              1,
              "#f0f921"
             ]
            ],
            "type": "surface"
           }
          ],
          "table": [
           {
            "cells": {
             "fill": {
              "color": "#EBF0F8"
             },
             "line": {
              "color": "white"
             }
            },
            "header": {
             "fill": {
              "color": "#C8D4E3"
             },
             "line": {
              "color": "white"
             }
            },
            "type": "table"
           }
          ]
         },
         "layout": {
          "annotationdefaults": {
           "arrowcolor": "#2a3f5f",
           "arrowhead": 0,
           "arrowwidth": 1
          },
          "autotypenumbers": "strict",
          "coloraxis": {
           "colorbar": {
            "outlinewidth": 0,
            "ticks": ""
           }
          },
          "colorscale": {
           "diverging": [
            [
             0,
             "#8e0152"
            ],
            [
             0.1,
             "#c51b7d"
            ],
            [
             0.2,
             "#de77ae"
            ],
            [
             0.3,
             "#f1b6da"
            ],
            [
             0.4,
             "#fde0ef"
            ],
            [
             0.5,
             "#f7f7f7"
            ],
            [
             0.6,
             "#e6f5d0"
            ],
            [
             0.7,
             "#b8e186"
            ],
            [
             0.8,
             "#7fbc41"
            ],
            [
             0.9,
             "#4d9221"
            ],
            [
             1,
             "#276419"
            ]
           ],
           "sequential": [
            [
             0,
             "#0d0887"
            ],
            [
             0.1111111111111111,
             "#46039f"
            ],
            [
             0.2222222222222222,
             "#7201a8"
            ],
            [
             0.3333333333333333,
             "#9c179e"
            ],
            [
             0.4444444444444444,
             "#bd3786"
            ],
            [
             0.5555555555555556,
             "#d8576b"
            ],
            [
             0.6666666666666666,
             "#ed7953"
            ],
            [
             0.7777777777777778,
             "#fb9f3a"
            ],
            [
             0.8888888888888888,
             "#fdca26"
            ],
            [
             1,
             "#f0f921"
            ]
           ],
           "sequentialminus": [
            [
             0,
             "#0d0887"
            ],
            [
             0.1111111111111111,
             "#46039f"
            ],
            [
             0.2222222222222222,
             "#7201a8"
            ],
            [
             0.3333333333333333,
             "#9c179e"
            ],
            [
             0.4444444444444444,
             "#bd3786"
            ],
            [
             0.5555555555555556,
             "#d8576b"
            ],
            [
             0.6666666666666666,
             "#ed7953"
            ],
            [
             0.7777777777777778,
             "#fb9f3a"
            ],
            [
             0.8888888888888888,
             "#fdca26"
            ],
            [
             1,
             "#f0f921"
            ]
           ]
          },
          "colorway": [
           "#636efa",
           "#EF553B",
           "#00cc96",
           "#ab63fa",
           "#FFA15A",
           "#19d3f3",
           "#FF6692",
           "#B6E880",
           "#FF97FF",
           "#FECB52"
          ],
          "font": {
           "color": "#2a3f5f"
          },
          "geo": {
           "bgcolor": "white",
           "lakecolor": "white",
           "landcolor": "#E5ECF6",
           "showlakes": true,
           "showland": true,
           "subunitcolor": "white"
          },
          "hoverlabel": {
           "align": "left"
          },
          "hovermode": "closest",
          "mapbox": {
           "style": "light"
          },
          "paper_bgcolor": "white",
          "plot_bgcolor": "#E5ECF6",
          "polar": {
           "angularaxis": {
            "gridcolor": "white",
            "linecolor": "white",
            "ticks": ""
           },
           "bgcolor": "#E5ECF6",
           "radialaxis": {
            "gridcolor": "white",
            "linecolor": "white",
            "ticks": ""
           }
          },
          "scene": {
           "xaxis": {
            "backgroundcolor": "#E5ECF6",
            "gridcolor": "white",
            "gridwidth": 2,
            "linecolor": "white",
            "showbackground": true,
            "ticks": "",
            "zerolinecolor": "white"
           },
           "yaxis": {
            "backgroundcolor": "#E5ECF6",
            "gridcolor": "white",
            "gridwidth": 2,
            "linecolor": "white",
            "showbackground": true,
            "ticks": "",
            "zerolinecolor": "white"
           },
           "zaxis": {
            "backgroundcolor": "#E5ECF6",
            "gridcolor": "white",
            "gridwidth": 2,
            "linecolor": "white",
            "showbackground": true,
            "ticks": "",
            "zerolinecolor": "white"
           }
          },
          "shapedefaults": {
           "line": {
            "color": "#2a3f5f"
           }
          },
          "ternary": {
           "aaxis": {
            "gridcolor": "white",
            "linecolor": "white",
            "ticks": ""
           },
           "baxis": {
            "gridcolor": "white",
            "linecolor": "white",
            "ticks": ""
           },
           "bgcolor": "#E5ECF6",
           "caxis": {
            "gridcolor": "white",
            "linecolor": "white",
            "ticks": ""
           }
          },
          "title": {
           "x": 0.05
          },
          "xaxis": {
           "automargin": true,
           "gridcolor": "white",
           "linecolor": "white",
           "ticks": "",
           "title": {
            "standoff": 15
           },
           "zerolinecolor": "white",
           "zerolinewidth": 2
          },
          "yaxis": {
           "automargin": true,
           "gridcolor": "white",
           "linecolor": "white",
           "ticks": "",
           "title": {
            "standoff": 15
           },
           "zerolinecolor": "white",
           "zerolinewidth": 2
          }
         }
        },
        "title": {
         "text": "Average Wall Clock Time"
        },
        "xaxis": {
         "range": [
          -98.9,
          1099.9
         ],
         "showgrid": true,
         "title": {
          "text": "minutes"
         },
         "zeroline": false
        },
        "yaxis": {
         "title": {
          "text": ""
         },
         "visible": false
        }
       }
      },
      "text/html": [
       "<div>                            <div id=\"55467f96-70c2-4f7e-bb2c-1c3bca92ffe7\" class=\"plotly-graph-div\" style=\"height:200px; width:100%;\"></div>            <script type=\"text/javascript\">                require([\"plotly\"], function(Plotly) {                    window.PLOTLYENV=window.PLOTLYENV || {};                                    if (document.getElementById(\"55467f96-70c2-4f7e-bb2c-1c3bca92ffe7\")) {                    Plotly.newPlot(                        \"55467f96-70c2-4f7e-bb2c-1c3bca92ffe7\",                        [{\"marker\":{\"color\":[\"#636EFA\",\"#EF553B\",\"#00CC96\",\"#AB63FA\",\"#FFA15A\",\"#19D3F3\"],\"size\":12},\"mode\":\"markers+text\",\"text\":[\"TimeGAN\",\"Time-Transformer\",\"TransFusion\",\"TTS-GAN\",\"TimeVQVAE\"],\"textfont\":{\"color\":[\"#636EFA\",\"#EF553B\",\"#00CC96\",\"#AB63FA\",\"#FFA15A\",\"#19D3F3\"]},\"textposition\":[\"top center\",\"bottom center\",\"top center\",\"bottom center\",\"top center\"],\"x\":[961.3333333333334,42.5,527.1666666666666,651.5,84.83333333333333],\"y\":[0,0,0,0,0],\"type\":\"scatter\"}],                        {\"template\":{\"data\":{\"histogram2dcontour\":[{\"type\":\"histogram2dcontour\",\"colorbar\":{\"outlinewidth\":0,\"ticks\":\"\"},\"colorscale\":[[0.0,\"#0d0887\"],[0.1111111111111111,\"#46039f\"],[0.2222222222222222,\"#7201a8\"],[0.3333333333333333,\"#9c179e\"],[0.4444444444444444,\"#bd3786\"],[0.5555555555555556,\"#d8576b\"],[0.6666666666666666,\"#ed7953\"],[0.7777777777777778,\"#fb9f3a\"],[0.8888888888888888,\"#fdca26\"],[1.0,\"#f0f921\"]]}],\"choropleth\":[{\"type\":\"choropleth\",\"colorbar\":{\"outlinewidth\":0,\"ticks\":\"\"}}],\"histogram2d\":[{\"type\":\"histogram2d\",\"colorbar\":{\"outlinewidth\":0,\"ticks\":\"\"},\"colorscale\":[[0.0,\"#0d0887\"],[0.1111111111111111,\"#46039f\"],[0.2222222222222222,\"#7201a8\"],[0.3333333333333333,\"#9c179e\"],[0.4444444444444444,\"#bd3786\"],[0.5555555555555556,\"#d8576b\"],[0.6666666666666666,\"#ed7953\"],[0.7777777777777778,\"#fb9f3a\"],[0.8888888888888888,\"#fdca26\"],[1.0,\"#f0f921\"]]}],\"heatmap\":[{\"type\":\"heatmap\",\"colorbar\":{\"outlinewidth\":0,\"ticks\":\"\"},\"colorscale\":[[0.0,\"#0d0887\"],[0.1111111111111111,\"#46039f\"],[0.2222222222222222,\"#7201a8\"],[0.3333333333333333,\"#9c179e\"],[0.4444444444444444,\"#bd3786\"],[0.5555555555555556,\"#d8576b\"],[0.6666666666666666,\"#ed7953\"],[0.7777777777777778,\"#fb9f3a\"],[0.8888888888888888,\"#fdca26\"],[1.0,\"#f0f921\"]]}],\"heatmapgl\":[{\"type\":\"heatmapgl\",\"colorbar\":{\"outlinewidth\":0,\"ticks\":\"\"},\"colorscale\":[[0.0,\"#0d0887\"],[0.1111111111111111,\"#46039f\"],[0.2222222222222222,\"#7201a8\"],[0.3333333333333333,\"#9c179e\"],[0.4444444444444444,\"#bd3786\"],[0.5555555555555556,\"#d8576b\"],[0.6666666666666666,\"#ed7953\"],[0.7777777777777778,\"#fb9f3a\"],[0.8888888888888888,\"#fdca26\"],[1.0,\"#f0f921\"]]}],\"contourcarpet\":[{\"type\":\"contourcarpet\",\"colorbar\":{\"outlinewidth\":0,\"ticks\":\"\"}}],\"contour\":[{\"type\":\"contour\",\"colorbar\":{\"outlinewidth\":0,\"ticks\":\"\"},\"colorscale\":[[0.0,\"#0d0887\"],[0.1111111111111111,\"#46039f\"],[0.2222222222222222,\"#7201a8\"],[0.3333333333333333,\"#9c179e\"],[0.4444444444444444,\"#bd3786\"],[0.5555555555555556,\"#d8576b\"],[0.6666666666666666,\"#ed7953\"],[0.7777777777777778,\"#fb9f3a\"],[0.8888888888888888,\"#fdca26\"],[1.0,\"#f0f921\"]]}],\"surface\":[{\"type\":\"surface\",\"colorbar\":{\"outlinewidth\":0,\"ticks\":\"\"},\"colorscale\":[[0.0,\"#0d0887\"],[0.1111111111111111,\"#46039f\"],[0.2222222222222222,\"#7201a8\"],[0.3333333333333333,\"#9c179e\"],[0.4444444444444444,\"#bd3786\"],[0.5555555555555556,\"#d8576b\"],[0.6666666666666666,\"#ed7953\"],[0.7777777777777778,\"#fb9f3a\"],[0.8888888888888888,\"#fdca26\"],[1.0,\"#f0f921\"]]}],\"mesh3d\":[{\"type\":\"mesh3d\",\"colorbar\":{\"outlinewidth\":0,\"ticks\":\"\"}}],\"scatter\":[{\"fillpattern\":{\"fillmode\":\"overlay\",\"size\":10,\"solidity\":0.2},\"type\":\"scatter\"}],\"parcoords\":[{\"type\":\"parcoords\",\"line\":{\"colorbar\":{\"outlinewidth\":0,\"ticks\":\"\"}}}],\"scatterpolargl\":[{\"type\":\"scatterpolargl\",\"marker\":{\"colorbar\":{\"outlinewidth\":0,\"ticks\":\"\"}}}],\"bar\":[{\"error_x\":{\"color\":\"#2a3f5f\"},\"error_y\":{\"color\":\"#2a3f5f\"},\"marker\":{\"line\":{\"color\":\"#E5ECF6\",\"width\":0.5},\"pattern\":{\"fillmode\":\"overlay\",\"size\":10,\"solidity\":0.2}},\"type\":\"bar\"}],\"scattergeo\":[{\"type\":\"scattergeo\",\"marker\":{\"colorbar\":{\"outlinewidth\":0,\"ticks\":\"\"}}}],\"scatterpolar\":[{\"type\":\"scatterpolar\",\"marker\":{\"colorbar\":{\"outlinewidth\":0,\"ticks\":\"\"}}}],\"histogram\":[{\"marker\":{\"pattern\":{\"fillmode\":\"overlay\",\"size\":10,\"solidity\":0.2}},\"type\":\"histogram\"}],\"scattergl\":[{\"type\":\"scattergl\",\"marker\":{\"colorbar\":{\"outlinewidth\":0,\"ticks\":\"\"}}}],\"scatter3d\":[{\"type\":\"scatter3d\",\"line\":{\"colorbar\":{\"outlinewidth\":0,\"ticks\":\"\"}},\"marker\":{\"colorbar\":{\"outlinewidth\":0,\"ticks\":\"\"}}}],\"scattermapbox\":[{\"type\":\"scattermapbox\",\"marker\":{\"colorbar\":{\"outlinewidth\":0,\"ticks\":\"\"}}}],\"scatterternary\":[{\"type\":\"scatterternary\",\"marker\":{\"colorbar\":{\"outlinewidth\":0,\"ticks\":\"\"}}}],\"scattercarpet\":[{\"type\":\"scattercarpet\",\"marker\":{\"colorbar\":{\"outlinewidth\":0,\"ticks\":\"\"}}}],\"carpet\":[{\"aaxis\":{\"endlinecolor\":\"#2a3f5f\",\"gridcolor\":\"white\",\"linecolor\":\"white\",\"minorgridcolor\":\"white\",\"startlinecolor\":\"#2a3f5f\"},\"baxis\":{\"endlinecolor\":\"#2a3f5f\",\"gridcolor\":\"white\",\"linecolor\":\"white\",\"minorgridcolor\":\"white\",\"startlinecolor\":\"#2a3f5f\"},\"type\":\"carpet\"}],\"table\":[{\"cells\":{\"fill\":{\"color\":\"#EBF0F8\"},\"line\":{\"color\":\"white\"}},\"header\":{\"fill\":{\"color\":\"#C8D4E3\"},\"line\":{\"color\":\"white\"}},\"type\":\"table\"}],\"barpolar\":[{\"marker\":{\"line\":{\"color\":\"#E5ECF6\",\"width\":0.5},\"pattern\":{\"fillmode\":\"overlay\",\"size\":10,\"solidity\":0.2}},\"type\":\"barpolar\"}],\"pie\":[{\"automargin\":true,\"type\":\"pie\"}]},\"layout\":{\"autotypenumbers\":\"strict\",\"colorway\":[\"#636efa\",\"#EF553B\",\"#00cc96\",\"#ab63fa\",\"#FFA15A\",\"#19d3f3\",\"#FF6692\",\"#B6E880\",\"#FF97FF\",\"#FECB52\"],\"font\":{\"color\":\"#2a3f5f\"},\"hovermode\":\"closest\",\"hoverlabel\":{\"align\":\"left\"},\"paper_bgcolor\":\"white\",\"plot_bgcolor\":\"#E5ECF6\",\"polar\":{\"bgcolor\":\"#E5ECF6\",\"angularaxis\":{\"gridcolor\":\"white\",\"linecolor\":\"white\",\"ticks\":\"\"},\"radialaxis\":{\"gridcolor\":\"white\",\"linecolor\":\"white\",\"ticks\":\"\"}},\"ternary\":{\"bgcolor\":\"#E5ECF6\",\"aaxis\":{\"gridcolor\":\"white\",\"linecolor\":\"white\",\"ticks\":\"\"},\"baxis\":{\"gridcolor\":\"white\",\"linecolor\":\"white\",\"ticks\":\"\"},\"caxis\":{\"gridcolor\":\"white\",\"linecolor\":\"white\",\"ticks\":\"\"}},\"coloraxis\":{\"colorbar\":{\"outlinewidth\":0,\"ticks\":\"\"}},\"colorscale\":{\"sequential\":[[0.0,\"#0d0887\"],[0.1111111111111111,\"#46039f\"],[0.2222222222222222,\"#7201a8\"],[0.3333333333333333,\"#9c179e\"],[0.4444444444444444,\"#bd3786\"],[0.5555555555555556,\"#d8576b\"],[0.6666666666666666,\"#ed7953\"],[0.7777777777777778,\"#fb9f3a\"],[0.8888888888888888,\"#fdca26\"],[1.0,\"#f0f921\"]],\"sequentialminus\":[[0.0,\"#0d0887\"],[0.1111111111111111,\"#46039f\"],[0.2222222222222222,\"#7201a8\"],[0.3333333333333333,\"#9c179e\"],[0.4444444444444444,\"#bd3786\"],[0.5555555555555556,\"#d8576b\"],[0.6666666666666666,\"#ed7953\"],[0.7777777777777778,\"#fb9f3a\"],[0.8888888888888888,\"#fdca26\"],[1.0,\"#f0f921\"]],\"diverging\":[[0,\"#8e0152\"],[0.1,\"#c51b7d\"],[0.2,\"#de77ae\"],[0.3,\"#f1b6da\"],[0.4,\"#fde0ef\"],[0.5,\"#f7f7f7\"],[0.6,\"#e6f5d0\"],[0.7,\"#b8e186\"],[0.8,\"#7fbc41\"],[0.9,\"#4d9221\"],[1,\"#276419\"]]},\"xaxis\":{\"gridcolor\":\"white\",\"linecolor\":\"white\",\"ticks\":\"\",\"title\":{\"standoff\":15},\"zerolinecolor\":\"white\",\"automargin\":true,\"zerolinewidth\":2},\"yaxis\":{\"gridcolor\":\"white\",\"linecolor\":\"white\",\"ticks\":\"\",\"title\":{\"standoff\":15},\"zerolinecolor\":\"white\",\"automargin\":true,\"zerolinewidth\":2},\"scene\":{\"xaxis\":{\"backgroundcolor\":\"#E5ECF6\",\"gridcolor\":\"white\",\"linecolor\":\"white\",\"showbackground\":true,\"ticks\":\"\",\"zerolinecolor\":\"white\",\"gridwidth\":2},\"yaxis\":{\"backgroundcolor\":\"#E5ECF6\",\"gridcolor\":\"white\",\"linecolor\":\"white\",\"showbackground\":true,\"ticks\":\"\",\"zerolinecolor\":\"white\",\"gridwidth\":2},\"zaxis\":{\"backgroundcolor\":\"#E5ECF6\",\"gridcolor\":\"white\",\"linecolor\":\"white\",\"showbackground\":true,\"ticks\":\"\",\"zerolinecolor\":\"white\",\"gridwidth\":2}},\"shapedefaults\":{\"line\":{\"color\":\"#2a3f5f\"}},\"annotationdefaults\":{\"arrowcolor\":\"#2a3f5f\",\"arrowhead\":0,\"arrowwidth\":1},\"geo\":{\"bgcolor\":\"white\",\"landcolor\":\"#E5ECF6\",\"subunitcolor\":\"white\",\"showland\":true,\"showlakes\":true,\"lakecolor\":\"white\"},\"title\":{\"x\":0.05},\"mapbox\":{\"style\":\"light\"}}},\"shapes\":[{\"layer\":\"below\",\"line\":{\"color\":\"black\",\"width\":1},\"type\":\"line\",\"x0\":1,\"x1\":1000,\"y0\":0,\"y1\":0},{\"layer\":\"below\",\"line\":{\"color\":\"black\",\"width\":1},\"type\":\"line\",\"x0\":1,\"x1\":1,\"y0\":-1,\"y1\":1}],\"yaxis\":{\"visible\":false,\"title\":{\"text\":\"\"}},\"xaxis\":{\"range\":[-98.9,1099.9],\"showgrid\":true,\"zeroline\":false,\"title\":{\"text\":\"minutes\"}},\"margin\":{\"t\":60,\"b\":60,\"l\":150,\"r\":150},\"height\":200,\"showlegend\":false,\"title\":{\"text\":\"Average Wall Clock Time\"}},                        {\"responsive\": true}                    ).then(function(){\n",
       "                            \n",
       "var gd = document.getElementById('55467f96-70c2-4f7e-bb2c-1c3bca92ffe7');\n",
       "var x = new MutationObserver(function (mutations, observer) {{\n",
       "        var display = window.getComputedStyle(gd).display;\n",
       "        if (!display || display === 'none') {{\n",
       "            console.log([gd, 'removed!']);\n",
       "            Plotly.purge(gd);\n",
       "            observer.disconnect();\n",
       "        }}\n",
       "}});\n",
       "\n",
       "// Listen for the removal of the full notebook cells\n",
       "var notebookContainer = gd.closest('#notebook-container');\n",
       "if (notebookContainer) {{\n",
       "    x.observe(notebookContainer, {childList: true});\n",
       "}}\n",
       "\n",
       "// Listen for the clearing of the current output cell\n",
       "var outputEl = gd.closest('.output');\n",
       "if (outputEl) {{\n",
       "    x.observe(outputEl, {childList: true});\n",
       "}}\n",
       "\n",
       "                        })                };                });            </script>        </div>"
      ]
     },
     "metadata": {},
     "output_type": "display_data"
    }
   ],
   "source": [
    "average_timings = timings.set_index(\"Method\").mean(axis=1).to_frame(name=\"Average Wall Clock Time\").drop(index=\"JustCopy\")\n",
    "\n",
    "\n",
    "plot_on_number_line(\\\n",
    "    average_timings[\"Average Wall Clock Time\"], \\\n",
    "    title = \"Average Wall Clock Time\", \\\n",
    "    axis_label = \"minutes\", \\\n",
    "    range_min=1, \\\n",
    "    range_max=1000, \\\n",
    "    textpositions=[\"top center\",\"bottom center\",\"top center\",\"bottom center\",\"top center\"])"
   ]
  }
 ],
 "metadata": {
  "kernelspec": {
   "display_name": "Python 3",
   "language": "python",
   "name": "python3"
  },
  "language_info": {
   "codemirror_mode": {
    "name": "ipython",
    "version": 3
   },
   "file_extension": ".py",
   "mimetype": "text/x-python",
   "name": "python",
   "nbconvert_exporter": "python",
   "pygments_lexer": "ipython3",
   "version": "3.7.17"
  }
 },
 "nbformat": 4,
 "nbformat_minor": 5
}
