{
 "cells": [
  {
   "cell_type": "code",
   "execution_count": 1,
   "id": "2122e067",
   "metadata": {},
   "outputs": [
    {
     "data": {
      "text/plain": [
       "True"
      ]
     },
     "execution_count": 1,
     "metadata": {},
     "output_type": "execute_result"
    }
   ],
   "source": [
    "import pandas as pd\n",
    "from pyprojroot import here\n",
    "\n",
    "d2d3 = pd.read_csv(here('data/ori_raw/D2_D3_stock.csv'))\n",
    "\n",
    "sane = (d2d3['High']>=d2d3['Open']).all() and (d2d3['High']>=d2d3['Close']).all() and (d2d3['Low']<=d2d3['Open']).all() and (d2d3['Low']<=d2d3['Close']).all()\n",
    "sane"
   ]
  },
  {
   "cell_type": "code",
   "execution_count": null,
   "id": "fdcb8ec1",
   "metadata": {},
   "outputs": [
    {
     "data": {
      "text/plain": [
       "array([[ True,  True,  True, ...,  True,  True,  True],\n",
       "       [ True,  True,  True, ...,  True,  True,  True],\n",
       "       [ True,  True,  True, ...,  True,  True,  True],\n",
       "       ...,\n",
       "       [ True,  True,  True, ...,  True,  True,  True],\n",
       "       [ True,  True,  True, ...,  True,  True,  True],\n",
       "       [ True,  True,  True, ...,  True,  True,  True]])"
      ]
     },
     "execution_count": 2,
     "metadata": {},
     "output_type": "execute_result"
    }
   ],
   "source": [
    "import pandas as pd\n",
    "from pyprojroot import here\n",
    "import mgzip\n",
    "import pickle\n",
    "import numpy as np\n",
    "\n",
    "with mgzip.open(str(here('data/ori/D2_stock/D2_stock_train.pkl'))) as file:\n",
    "    d2 = pickle.load(file)\n",
    "\n",
    "open_lte_high = np.array([[step[0]<=step[1] for step in ts] for ts in d2])\n",
    "open_lte_high"
   ]
  },
  {
   "cell_type": "code",
   "execution_count": 3,
   "id": "30f5e0e6",
   "metadata": {},
   "outputs": [
    {
     "data": {
      "text/plain": [
       "array([[ True,  True,  True, ...,  True,  True,  True],\n",
       "       [ True,  True,  True, ...,  True,  True,  True],\n",
       "       [ True,  True,  True, ...,  True,  True,  True],\n",
       "       ...,\n",
       "       [ True,  True,  True, ...,  True,  True,  True],\n",
       "       [ True,  True,  True, ...,  True,  True,  True],\n",
       "       [ True,  True,  True, ...,  True,  True,  True]])"
      ]
     },
     "execution_count": 3,
     "metadata": {},
     "output_type": "execute_result"
    }
   ],
   "source": [
    "with mgzip.open(str(here('data/ori/D2a_stock_novolume/D2a_stock_novolume_train.pkl'))) as file:\n",
    "    d2a = pickle.load(file)\n",
    "\n",
    "open_lte_high = np.array([[step[0]<=step[1] for step in ts] for ts in d2a])\n",
    "open_lte_high"
   ]
  },
  {
   "cell_type": "code",
   "execution_count": null,
   "id": "fafd70cd",
   "metadata": {},
   "outputs": [],
   "source": []
  }
 ],
 "metadata": {
  "kernelspec": {
   "display_name": "tsgbench",
   "language": "python",
   "name": "python3"
  },
  "language_info": {
   "codemirror_mode": {
    "name": "ipython",
    "version": 3
   },
   "file_extension": ".py",
   "mimetype": "text/x-python",
   "name": "python",
   "nbconvert_exporter": "python",
   "pygments_lexer": "ipython3",
   "version": "3.7.12"
  }
 },
 "nbformat": 4,
 "nbformat_minor": 5
}
