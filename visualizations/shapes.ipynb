{
 "cells": [
  {
   "cell_type": "code",
   "execution_count": 2,
   "id": "edfe9a79",
   "metadata": {},
   "outputs": [
    {
     "name": "stdout",
     "output_type": "stream",
     "text": [
      "2: (3296, 24, 6)\n",
      "3: (3203, 128, 6)\n",
      "4: (6714, 128, 8)\n",
      "5: (17741, 24, 28)\n",
      "6: (17648, 128, 28)\n",
      "7: (13368, 128, 14)\n"
     ]
    }
   ],
   "source": [
    "from utils import _read_dataset, ori_dataset_path\n",
    "\n",
    "dataset_nos = [2,3,4,5,6,7]\n",
    "\n",
    "for dataset_no in dataset_nos:\n",
    "    d, _ = _read_dataset(ori_dataset_path(dataset_no))\n",
    "    print(f\"D{dataset_no}: {d.shape}\")"
   ]
  }
 ],
 "metadata": {
  "kernelspec": {
   "display_name": "Python 3",
   "language": "python",
   "name": "python3"
  },
  "language_info": {
   "codemirror_mode": {
    "name": "ipython",
    "version": 3
   },
   "file_extension": ".py",
   "mimetype": "text/x-python",
   "name": "python",
   "nbconvert_exporter": "python",
   "pygments_lexer": "ipython3",
   "version": "3.7.17"
  }
 },
 "nbformat": 4,
 "nbformat_minor": 5
}
