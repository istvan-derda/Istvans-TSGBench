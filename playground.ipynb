{
 "cells": [
  {
   "cell_type": "code",
   "execution_count": 1,
   "id": "c517f58a",
   "metadata": {
    "tags": []
   },
   "outputs": [],
   "source": [
    "import pandas as pd\n",
    "import pickle\n",
    "import mgzip"
   ]
  },
  {
   "cell_type": "code",
   "execution_count": 6,
   "id": "51e65d0f-8e62-4fd6-871c-262a824ab2c0",
   "metadata": {
    "tags": []
   },
   "outputs": [],
   "source": [
    "def load_dataset(name):\n",
    "    with mgzip.open(f'data/ori_preprocessed/{name}/{name}_train.pkl') as f:\n",
    "        data = pickle.load(f)\n",
    "    return data"
   ]
  },
  {
   "cell_type": "code",
   "execution_count": 7,
   "id": "b3dcf4bc-df5b-471b-bd91-43e021305c93",
   "metadata": {
    "tags": []
   },
   "outputs": [
    {
     "data": {
      "text/plain": [
       "(3295, 24, 6)"
      ]
     },
     "execution_count": 7,
     "metadata": {},
     "output_type": "execute_result"
    }
   ],
   "source": [
    "stock = load_dataset('D2_stock')\n",
    "stock.shape"
   ]
  },
  {
   "cell_type": "code",
   "execution_count": 8,
   "id": "ba81effa-4ffd-427a-b554-ff53fe70aeea",
   "metadata": {
    "tags": []
   },
   "outputs": [
    {
     "data": {
      "text/plain": [
       "(3204, 125, 6)"
      ]
     },
     "execution_count": 8,
     "metadata": {},
     "output_type": "execute_result"
    }
   ],
   "source": [
    "stock_long = load_dataset('D3_stock_long')\n",
    "stock_long.shape"
   ]
  },
  {
   "cell_type": "code",
   "execution_count": 9,
   "id": "447ff913-6640-4410-a8c7-3f7bd1cde375",
   "metadata": {
    "tags": []
   },
   "outputs": [
    {
     "data": {
      "text/plain": [
       "(6716, 125, 8)"
      ]
     },
     "execution_count": 9,
     "metadata": {},
     "output_type": "execute_result"
    }
   ],
   "source": [
    "exchange = load_dataset('D4_exchange')\n",
    "exchange.shape"
   ]
  },
  {
   "cell_type": "code",
   "execution_count": 10,
   "id": "799bff9d-9d2a-41c3-b196-d783dd473ef2",
   "metadata": {
    "tags": []
   },
   "outputs": [
    {
     "data": {
      "text/plain": [
       "(17740, 24, 28)"
      ]
     },
     "execution_count": 10,
     "metadata": {},
     "output_type": "execute_result"
    }
   ],
   "source": [
    "energy = load_dataset('D5_energy')\n",
    "energy.shape"
   ]
  },
  {
   "cell_type": "code",
   "execution_count": 11,
   "id": "26b7cdfb-ce37-4192-ab5b-c167c92e9e23",
   "metadata": {
    "tags": []
   },
   "outputs": [
    {
     "data": {
      "text/plain": [
       "(17649, 125, 28)"
      ]
     },
     "execution_count": 11,
     "metadata": {},
     "output_type": "execute_result"
    }
   ],
   "source": [
    "energy_long = load_dataset('D6_energy_long')\n",
    "energy_long.shape"
   ]
  },
  {
   "cell_type": "code",
   "execution_count": 13,
   "id": "9ba58380-4fe5-4d08-a651-2b68d79b0376",
   "metadata": {
    "tags": []
   },
   "outputs": [
    {
     "data": {
      "text/plain": [
       "(13367, 128, 14)"
      ]
     },
     "execution_count": 13,
     "metadata": {},
     "output_type": "execute_result"
    }
   ],
   "source": [
    "eeg = load_dataset('D7_eeg')\n",
    "eeg.shape"
   ]
  },
  {
   "cell_type": "code",
   "execution_count": null,
   "id": "760a4daf-08a2-4088-a908-ec83de76bf8f",
   "metadata": {},
   "outputs": [],
   "source": []
  }
 ],
 "metadata": {
  "kernelspec": {
   "display_name": "Python 3",
   "language": "python",
   "name": "python3"
  },
  "language_info": {
   "codemirror_mode": {
    "name": "ipython",
    "version": 3
   },
   "file_extension": ".py",
   "mimetype": "text/x-python",
   "name": "python",
   "nbconvert_exporter": "python",
   "pygments_lexer": "ipython3",
   "version": "3.7.17"
  }
 },
 "nbformat": 4,
 "nbformat_minor": 5
}
